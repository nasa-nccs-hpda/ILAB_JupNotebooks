{
 "cells": [
  {
   "cell_type": "markdown",
   "metadata": {},
   "source": [
    "# Water Classification XGBOOST Hyperparameter Tuning - Multi-GPU\n",
    "\n",
    "Version: DEMO\n",
    "\n",
    "ILAB Team\n",
    "\n",
    "Kernel to use:\n",
    "- (ADAPT PRISM 4x GPU instance) `Python [conda env:ilab]`\n",
    "\n",
    "This is a demo notebook showcasing how the ILAB team uses full node (4x GPU in PRISM) capabilities to perform efficient hyperparameter tuning of the XGBoost classifier algorithm. This notebook also demonstates how to use a raster as a test data-set for the trained model."
   ]
  },
  {
   "cell_type": "code",
   "execution_count": 1,
   "metadata": {},
   "outputs": [],
   "source": [
    "import csv\n",
    "import datetime\n",
    "import glob\n",
    "import joblib\n",
    "import numpy as np\n",
    "import os\n",
    "import pandas as pd\n",
    "from pathlib import Path\n",
    "import sys\n",
    "\n",
    "import xgboost as xgb\n",
    "\n",
    "import optuna\n",
    "\n",
    "import dask\n",
    "from dask_cuda import LocalCUDACluster\n",
    "from dask.distributed import Client\n",
    "\n",
    "from sklearn.metrics import accuracy_score, roc_curve, auc\n",
    "from sklearn.metrics import confusion_matrix, accuracy_score, roc_auc_score, precision_score\n",
    "from sklearn.metrics import classification_report, f1_score\n",
    "from sklearn.model_selection import train_test_split \n",
    "from sklearn.inspection import permutation_importance\n",
    "\n",
    "# Visualization\n",
    "import seaborn as sns\n",
    "import matplotlib.pyplot as plt\n",
    "import warnings\n",
    "\n",
    "#GDAL Stuff\n",
    "from osgeo import gdalconst\n",
    "from osgeo import gdal\n",
    "\n",
    "from pprint import pprint\n",
    "\n",
    "warnings.filterwarnings('ignore')\n",
    "plt.style.use('fivethirtyeight')\n",
    "%matplotlib inline"
   ]
  },
  {
   "cell_type": "code",
   "execution_count": 2,
   "metadata": {},
   "outputs": [
    {
     "name": "stderr",
     "output_type": "stream",
     "text": [
      "distributed.preloading - INFO - Import preload module: dask_cuda.initialize\n",
      "distributed.preloading - INFO - Import preload module: dask_cuda.initialize\n",
      "distributed.preloading - INFO - Import preload module: dask_cuda.initialize\n",
      "distributed.preloading - INFO - Import preload module: dask_cuda.initialize\n"
     ]
    }
   ],
   "source": [
    "cluster = LocalCUDACluster()\n",
    "client = Client(cluster)"
   ]
  },
  {
   "cell_type": "code",
   "execution_count": 3,
   "metadata": {},
   "outputs": [
    {
     "data": {
      "application/vnd.jupyter.widget-view+json": {
       "model_id": "13dd213ebf1349719d3db1c85f6e57b2",
       "version_major": 2,
       "version_minor": 0
      },
      "text/plain": [
       "Tab(children=(HTML(value='<div class=\"jp-RenderedHTMLCommon jp-RenderedHTML jp-mod-trusted jp-OutputArea-outpu…"
      ]
     },
     "metadata": {},
     "output_type": "display_data"
    }
   ],
   "source": [
    "cluster"
   ]
  },
  {
   "cell_type": "code",
   "execution_count": 4,
   "metadata": {},
   "outputs": [
    {
     "data": {
      "text/html": [
       "<div>\n",
       "    <div style=\"width: 24px; height: 24px; background-color: #e1e1e1; border: 3px solid #9D9D9D; border-radius: 5px; position: absolute;\"> </div>\n",
       "    <div style=\"margin-left: 48px;\">\n",
       "        <h3 style=\"margin-bottom: 0px;\">Client</h3>\n",
       "        <p style=\"color: #9D9D9D; margin-bottom: 0px;\">Client-441daff8-c6f5-11ec-a5a2-ac1f6bbcb86a</p>\n",
       "        <table style=\"width: 100%; text-align: left;\">\n",
       "\n",
       "        <tr>\n",
       "        \n",
       "            <td style=\"text-align: left;\"><strong>Connection method:</strong> Cluster object</td>\n",
       "            <td style=\"text-align: left;\"><strong>Cluster type:</strong> dask_cuda.LocalCUDACluster</td>\n",
       "        \n",
       "        </tr>\n",
       "\n",
       "        \n",
       "            <tr>\n",
       "                <td style=\"text-align: left;\">\n",
       "                    <strong>Dashboard: </strong> <a href=\"http://127.0.0.1:8787/status\" target=\"_blank\">http://127.0.0.1:8787/status</a>\n",
       "                </td>\n",
       "                <td style=\"text-align: left;\"></td>\n",
       "            </tr>\n",
       "        \n",
       "\n",
       "        </table>\n",
       "\n",
       "        \n",
       "            <details>\n",
       "            <summary style=\"margin-bottom: 20px;\"><h3 style=\"display: inline;\">Cluster Info</h3></summary>\n",
       "            <div class=\"jp-RenderedHTMLCommon jp-RenderedHTML jp-mod-trusted jp-OutputArea-output\">\n",
       "    <div style=\"width: 24px; height: 24px; background-color: #e1e1e1; border: 3px solid #9D9D9D; border-radius: 5px; position: absolute;\">\n",
       "    </div>\n",
       "    <div style=\"margin-left: 48px;\">\n",
       "        <h3 style=\"margin-bottom: 0px; margin-top: 0px;\">LocalCUDACluster</h3>\n",
       "        <p style=\"color: #9D9D9D; margin-bottom: 0px;\">bf78f053</p>\n",
       "        <table style=\"width: 100%; text-align: left;\">\n",
       "            <tr>\n",
       "                <td style=\"text-align: left;\">\n",
       "                    <strong>Dashboard:</strong> <a href=\"http://127.0.0.1:8787/status\" target=\"_blank\">http://127.0.0.1:8787/status</a>\n",
       "                </td>\n",
       "                <td style=\"text-align: left;\">\n",
       "                    <strong>Workers:</strong> 4\n",
       "                </td>\n",
       "            </tr>\n",
       "            <tr>\n",
       "                <td style=\"text-align: left;\">\n",
       "                    <strong>Total threads:</strong> 4\n",
       "                </td>\n",
       "                <td style=\"text-align: left;\">\n",
       "                    <strong>Total memory:</strong> 754.33 GiB\n",
       "                </td>\n",
       "            </tr>\n",
       "            \n",
       "            <tr>\n",
       "    <td style=\"text-align: left;\"><strong>Status:</strong> running</td>\n",
       "    <td style=\"text-align: left;\"><strong>Using processes:</strong> True</td>\n",
       "</tr>\n",
       "\n",
       "            \n",
       "        </table>\n",
       "\n",
       "        <details>\n",
       "            <summary style=\"margin-bottom: 20px;\">\n",
       "                <h3 style=\"display: inline;\">Scheduler Info</h3>\n",
       "            </summary>\n",
       "\n",
       "            <div style=\"\">\n",
       "    <div>\n",
       "        <div style=\"width: 24px; height: 24px; background-color: #FFF7E5; border: 3px solid #FF6132; border-radius: 5px; position: absolute;\"> </div>\n",
       "        <div style=\"margin-left: 48px;\">\n",
       "            <h3 style=\"margin-bottom: 0px;\">Scheduler</h3>\n",
       "            <p style=\"color: #9D9D9D; margin-bottom: 0px;\">Scheduler-71decb52-6b5f-4fa5-a66a-b48b977eb5d7</p>\n",
       "            <table style=\"width: 100%; text-align: left;\">\n",
       "                <tr>\n",
       "                    <td style=\"text-align: left;\">\n",
       "                        <strong>Comm:</strong> tcp://127.0.0.1:38691\n",
       "                    </td>\n",
       "                    <td style=\"text-align: left;\">\n",
       "                        <strong>Workers:</strong> 4\n",
       "                    </td>\n",
       "                </tr>\n",
       "                <tr>\n",
       "                    <td style=\"text-align: left;\">\n",
       "                        <strong>Dashboard:</strong> <a href=\"http://127.0.0.1:8787/status\" target=\"_blank\">http://127.0.0.1:8787/status</a>\n",
       "                    </td>\n",
       "                    <td style=\"text-align: left;\">\n",
       "                        <strong>Total threads:</strong> 4\n",
       "                    </td>\n",
       "                </tr>\n",
       "                <tr>\n",
       "                    <td style=\"text-align: left;\">\n",
       "                        <strong>Started:</strong> Just now\n",
       "                    </td>\n",
       "                    <td style=\"text-align: left;\">\n",
       "                        <strong>Total memory:</strong> 754.33 GiB\n",
       "                    </td>\n",
       "                </tr>\n",
       "            </table>\n",
       "        </div>\n",
       "    </div>\n",
       "\n",
       "    <details style=\"margin-left: 48px;\">\n",
       "        <summary style=\"margin-bottom: 20px;\">\n",
       "            <h3 style=\"display: inline;\">Workers</h3>\n",
       "        </summary>\n",
       "\n",
       "        \n",
       "        <div style=\"margin-bottom: 20px;\">\n",
       "            <div style=\"width: 24px; height: 24px; background-color: #DBF5FF; border: 3px solid #4CC9FF; border-radius: 5px; position: absolute;\"> </div>\n",
       "            <div style=\"margin-left: 48px;\">\n",
       "            <details>\n",
       "                <summary>\n",
       "                    <h4 style=\"margin-bottom: 0px; display: inline;\">Worker: 0</h4>\n",
       "                </summary>\n",
       "                <table style=\"width: 100%; text-align: left;\">\n",
       "                    <tr>\n",
       "                        <td style=\"text-align: left;\">\n",
       "                            <strong>Comm: </strong> tcp://10.100.38.6:38475\n",
       "                        </td>\n",
       "                        <td style=\"text-align: left;\">\n",
       "                            <strong>Total threads: </strong> 1\n",
       "                        </td>\n",
       "                    </tr>\n",
       "                    <tr>\n",
       "                        <td style=\"text-align: left;\">\n",
       "                            <strong>Dashboard: </strong> <a href=\"http://10.100.38.6:36191/status\" target=\"_blank\">http://10.100.38.6:36191/status</a>\n",
       "                        </td>\n",
       "                        <td style=\"text-align: left;\">\n",
       "                            <strong>Memory: </strong> 188.58 GiB\n",
       "                        </td>\n",
       "                    </tr>\n",
       "                    <tr>\n",
       "                        <td style=\"text-align: left;\">\n",
       "                            <strong>Nanny: </strong> tcp://127.0.0.1:42251\n",
       "                        </td>\n",
       "                        <td style=\"text-align: left;\"></td>\n",
       "                    </tr>\n",
       "                    <tr>\n",
       "                        <td colspan=\"2\" style=\"text-align: left;\">\n",
       "                            <strong>Local directory: </strong> /gpfsm/ccds01/nobackup/projects/ilab/projects/modis_water/MW_ML/public/ILAB_JupNotebooks/projects/modis_water/notebooks/dask-worker-space/worker-v04r3nri\n",
       "                        </td>\n",
       "                    </tr>\n",
       "\n",
       "                    \n",
       "                    <tr>\n",
       "                        <td style=\"text-align: left;\">\n",
       "                            <strong>GPU: </strong>Tesla V100-SXM2-32GB\n",
       "                        </td>\n",
       "                        <td style=\"text-align: left;\">\n",
       "                            <strong>GPU memory: </strong> 31.75 GiB\n",
       "                        </td>\n",
       "                    </tr>\n",
       "                    \n",
       "\n",
       "                    \n",
       "\n",
       "                </table>\n",
       "            </details>\n",
       "            </div>\n",
       "        </div>\n",
       "        \n",
       "        <div style=\"margin-bottom: 20px;\">\n",
       "            <div style=\"width: 24px; height: 24px; background-color: #DBF5FF; border: 3px solid #4CC9FF; border-radius: 5px; position: absolute;\"> </div>\n",
       "            <div style=\"margin-left: 48px;\">\n",
       "            <details>\n",
       "                <summary>\n",
       "                    <h4 style=\"margin-bottom: 0px; display: inline;\">Worker: 1</h4>\n",
       "                </summary>\n",
       "                <table style=\"width: 100%; text-align: left;\">\n",
       "                    <tr>\n",
       "                        <td style=\"text-align: left;\">\n",
       "                            <strong>Comm: </strong> tcp://10.100.38.6:37317\n",
       "                        </td>\n",
       "                        <td style=\"text-align: left;\">\n",
       "                            <strong>Total threads: </strong> 1\n",
       "                        </td>\n",
       "                    </tr>\n",
       "                    <tr>\n",
       "                        <td style=\"text-align: left;\">\n",
       "                            <strong>Dashboard: </strong> <a href=\"http://10.100.38.6:38635/status\" target=\"_blank\">http://10.100.38.6:38635/status</a>\n",
       "                        </td>\n",
       "                        <td style=\"text-align: left;\">\n",
       "                            <strong>Memory: </strong> 188.58 GiB\n",
       "                        </td>\n",
       "                    </tr>\n",
       "                    <tr>\n",
       "                        <td style=\"text-align: left;\">\n",
       "                            <strong>Nanny: </strong> tcp://127.0.0.1:46387\n",
       "                        </td>\n",
       "                        <td style=\"text-align: left;\"></td>\n",
       "                    </tr>\n",
       "                    <tr>\n",
       "                        <td colspan=\"2\" style=\"text-align: left;\">\n",
       "                            <strong>Local directory: </strong> /gpfsm/ccds01/nobackup/projects/ilab/projects/modis_water/MW_ML/public/ILAB_JupNotebooks/projects/modis_water/notebooks/dask-worker-space/worker-q5mpwk50\n",
       "                        </td>\n",
       "                    </tr>\n",
       "\n",
       "                    \n",
       "                    <tr>\n",
       "                        <td style=\"text-align: left;\">\n",
       "                            <strong>GPU: </strong>Tesla V100-SXM2-32GB\n",
       "                        </td>\n",
       "                        <td style=\"text-align: left;\">\n",
       "                            <strong>GPU memory: </strong> 31.75 GiB\n",
       "                        </td>\n",
       "                    </tr>\n",
       "                    \n",
       "\n",
       "                    \n",
       "\n",
       "                </table>\n",
       "            </details>\n",
       "            </div>\n",
       "        </div>\n",
       "        \n",
       "        <div style=\"margin-bottom: 20px;\">\n",
       "            <div style=\"width: 24px; height: 24px; background-color: #DBF5FF; border: 3px solid #4CC9FF; border-radius: 5px; position: absolute;\"> </div>\n",
       "            <div style=\"margin-left: 48px;\">\n",
       "            <details>\n",
       "                <summary>\n",
       "                    <h4 style=\"margin-bottom: 0px; display: inline;\">Worker: 2</h4>\n",
       "                </summary>\n",
       "                <table style=\"width: 100%; text-align: left;\">\n",
       "                    <tr>\n",
       "                        <td style=\"text-align: left;\">\n",
       "                            <strong>Comm: </strong> tcp://10.100.38.6:39789\n",
       "                        </td>\n",
       "                        <td style=\"text-align: left;\">\n",
       "                            <strong>Total threads: </strong> 1\n",
       "                        </td>\n",
       "                    </tr>\n",
       "                    <tr>\n",
       "                        <td style=\"text-align: left;\">\n",
       "                            <strong>Dashboard: </strong> <a href=\"http://10.100.38.6:33089/status\" target=\"_blank\">http://10.100.38.6:33089/status</a>\n",
       "                        </td>\n",
       "                        <td style=\"text-align: left;\">\n",
       "                            <strong>Memory: </strong> 188.58 GiB\n",
       "                        </td>\n",
       "                    </tr>\n",
       "                    <tr>\n",
       "                        <td style=\"text-align: left;\">\n",
       "                            <strong>Nanny: </strong> tcp://127.0.0.1:36109\n",
       "                        </td>\n",
       "                        <td style=\"text-align: left;\"></td>\n",
       "                    </tr>\n",
       "                    <tr>\n",
       "                        <td colspan=\"2\" style=\"text-align: left;\">\n",
       "                            <strong>Local directory: </strong> /gpfsm/ccds01/nobackup/projects/ilab/projects/modis_water/MW_ML/public/ILAB_JupNotebooks/projects/modis_water/notebooks/dask-worker-space/worker-yprvoqir\n",
       "                        </td>\n",
       "                    </tr>\n",
       "\n",
       "                    \n",
       "                    <tr>\n",
       "                        <td style=\"text-align: left;\">\n",
       "                            <strong>GPU: </strong>Tesla V100-SXM2-32GB\n",
       "                        </td>\n",
       "                        <td style=\"text-align: left;\">\n",
       "                            <strong>GPU memory: </strong> 31.75 GiB\n",
       "                        </td>\n",
       "                    </tr>\n",
       "                    \n",
       "\n",
       "                    \n",
       "\n",
       "                </table>\n",
       "            </details>\n",
       "            </div>\n",
       "        </div>\n",
       "        \n",
       "        <div style=\"margin-bottom: 20px;\">\n",
       "            <div style=\"width: 24px; height: 24px; background-color: #DBF5FF; border: 3px solid #4CC9FF; border-radius: 5px; position: absolute;\"> </div>\n",
       "            <div style=\"margin-left: 48px;\">\n",
       "            <details>\n",
       "                <summary>\n",
       "                    <h4 style=\"margin-bottom: 0px; display: inline;\">Worker: 3</h4>\n",
       "                </summary>\n",
       "                <table style=\"width: 100%; text-align: left;\">\n",
       "                    <tr>\n",
       "                        <td style=\"text-align: left;\">\n",
       "                            <strong>Comm: </strong> tcp://10.100.38.6:39147\n",
       "                        </td>\n",
       "                        <td style=\"text-align: left;\">\n",
       "                            <strong>Total threads: </strong> 1\n",
       "                        </td>\n",
       "                    </tr>\n",
       "                    <tr>\n",
       "                        <td style=\"text-align: left;\">\n",
       "                            <strong>Dashboard: </strong> <a href=\"http://10.100.38.6:43197/status\" target=\"_blank\">http://10.100.38.6:43197/status</a>\n",
       "                        </td>\n",
       "                        <td style=\"text-align: left;\">\n",
       "                            <strong>Memory: </strong> 188.58 GiB\n",
       "                        </td>\n",
       "                    </tr>\n",
       "                    <tr>\n",
       "                        <td style=\"text-align: left;\">\n",
       "                            <strong>Nanny: </strong> tcp://127.0.0.1:37131\n",
       "                        </td>\n",
       "                        <td style=\"text-align: left;\"></td>\n",
       "                    </tr>\n",
       "                    <tr>\n",
       "                        <td colspan=\"2\" style=\"text-align: left;\">\n",
       "                            <strong>Local directory: </strong> /gpfsm/ccds01/nobackup/projects/ilab/projects/modis_water/MW_ML/public/ILAB_JupNotebooks/projects/modis_water/notebooks/dask-worker-space/worker-gesocrq5\n",
       "                        </td>\n",
       "                    </tr>\n",
       "\n",
       "                    \n",
       "                    <tr>\n",
       "                        <td style=\"text-align: left;\">\n",
       "                            <strong>GPU: </strong>Tesla V100-SXM2-32GB\n",
       "                        </td>\n",
       "                        <td style=\"text-align: left;\">\n",
       "                            <strong>GPU memory: </strong> 31.75 GiB\n",
       "                        </td>\n",
       "                    </tr>\n",
       "                    \n",
       "\n",
       "                    \n",
       "\n",
       "                </table>\n",
       "            </details>\n",
       "            </div>\n",
       "        </div>\n",
       "        \n",
       "\n",
       "    </details>\n",
       "</div>\n",
       "\n",
       "        </details>\n",
       "    </div>\n",
       "</div>\n",
       "            </details>\n",
       "        \n",
       "\n",
       "    </div>\n",
       "</div>"
      ],
      "text/plain": [
       "<Client: 'tcp://127.0.0.1:38691' processes=4 threads=4, memory=754.33 GiB>"
      ]
     },
     "execution_count": 4,
     "metadata": {},
     "output_type": "execute_result"
    }
   ],
   "source": [
    "client"
   ]
  },
  {
   "cell_type": "code",
   "execution_count": 5,
   "metadata": {},
   "outputs": [],
   "source": [
    "GPU = True\n",
    "DATA_TYPE = np.int16"
   ]
  },
  {
   "cell_type": "code",
   "execution_count": 6,
   "metadata": {},
   "outputs": [],
   "source": [
    "v_names = ['sur_refl_b01_1','sur_refl_b02_1','sur_refl_b03_1',\n",
    "           'sur_refl_b04_1','sur_refl_b05_1','sur_refl_b06_1',\n",
    "           'sur_refl_b07_1','ndvi','ndwi1','ndwi2']"
   ]
  },
  {
   "cell_type": "markdown",
   "metadata": {},
   "source": [
    "Add names from above to this list to drop them from training and testing.\n",
    "\n",
    "For example:\n",
    "\n",
    "```python\n",
    "columnsToDrop = ['sur_refl_b01_1', 'sur_refl_b07_1', 'ndwi1']\n",
    "```"
   ]
  },
  {
   "cell_type": "code",
   "execution_count": 7,
   "metadata": {},
   "outputs": [],
   "source": [
    "columnsToDrop = []"
   ]
  },
  {
   "cell_type": "markdown",
   "metadata": {},
   "source": [
    "This is a 1000 row training dataset which has columns for all the features listed in v_names. MODIS MOD09GA and MOD09GQ were the data sources. We used surface reflectance bands 1-7. We used surface reflectance bands 1-7 from Collection 6.1."
   ]
  },
  {
   "cell_type": "code",
   "execution_count": 8,
   "metadata": {},
   "outputs": [],
   "source": [
    "dfPath = '../data/WaterClassificationPowell.parquet.gzip'"
   ]
  },
  {
   "cell_type": "code",
   "execution_count": 9,
   "metadata": {},
   "outputs": [],
   "source": [
    "outputRasterPath = '.'"
   ]
  },
  {
   "cell_type": "code",
   "execution_count": 10,
   "metadata": {},
   "outputs": [],
   "source": [
    "df = pd.read_parquet(dfPath).astype(DATA_TYPE)\n",
    "df = df.drop(columns=columnsToDrop)\n",
    "X = df.drop(['water'], axis=1)\n",
    "y = df['water']\n",
    "X_train, X_test, y_train, y_test = train_test_split(X, y, test_size=0.2)\n",
    "X_train, X_val, y_train, y_val = train_test_split(X_train, y_train, test_size=0.1)"
   ]
  },
  {
   "cell_type": "code",
   "execution_count": 11,
   "metadata": {},
   "outputs": [
    {
     "name": "stdout",
     "output_type": "stream",
     "text": [
      "sur_refl_b01_1\n",
      "sur_refl_b02_1\n",
      "sur_refl_b03_1\n",
      "sur_refl_b04_1\n",
      "sur_refl_b05_1\n",
      "sur_refl_b06_1\n",
      "sur_refl_b07_1\n",
      "ndvi\n",
      "ndwi1\n",
      "ndwi2\n"
     ]
    }
   ],
   "source": [
    "_ = [print(column) for column in X_train.columns]"
   ]
  },
  {
   "cell_type": "code",
   "execution_count": 12,
   "metadata": {},
   "outputs": [
    {
     "data": {
      "text/html": [
       "<div>\n",
       "<style scoped>\n",
       "    .dataframe tbody tr th:only-of-type {\n",
       "        vertical-align: middle;\n",
       "    }\n",
       "\n",
       "    .dataframe tbody tr th {\n",
       "        vertical-align: top;\n",
       "    }\n",
       "\n",
       "    .dataframe thead th {\n",
       "        text-align: right;\n",
       "    }\n",
       "</style>\n",
       "<table border=\"1\" class=\"dataframe\">\n",
       "  <thead>\n",
       "    <tr style=\"text-align: right;\">\n",
       "      <th></th>\n",
       "      <th>count</th>\n",
       "      <th>mean</th>\n",
       "      <th>std</th>\n",
       "      <th>min</th>\n",
       "      <th>25%</th>\n",
       "      <th>50%</th>\n",
       "      <th>75%</th>\n",
       "      <th>max</th>\n",
       "    </tr>\n",
       "  </thead>\n",
       "  <tbody>\n",
       "    <tr>\n",
       "      <th>sur_refl_b01_1</th>\n",
       "      <td>720.0</td>\n",
       "      <td>1197.311111</td>\n",
       "      <td>1308.185639</td>\n",
       "      <td>8.0</td>\n",
       "      <td>234.50</td>\n",
       "      <td>867.5</td>\n",
       "      <td>1823.25</td>\n",
       "      <td>9222.0</td>\n",
       "    </tr>\n",
       "    <tr>\n",
       "      <th>sur_refl_b02_1</th>\n",
       "      <td>720.0</td>\n",
       "      <td>1552.223611</td>\n",
       "      <td>1566.800112</td>\n",
       "      <td>1.0</td>\n",
       "      <td>167.50</td>\n",
       "      <td>1249.5</td>\n",
       "      <td>2629.25</td>\n",
       "      <td>8837.0</td>\n",
       "    </tr>\n",
       "    <tr>\n",
       "      <th>sur_refl_b03_1</th>\n",
       "      <td>720.0</td>\n",
       "      <td>741.548611</td>\n",
       "      <td>1003.431869</td>\n",
       "      <td>-100.0</td>\n",
       "      <td>270.75</td>\n",
       "      <td>549.0</td>\n",
       "      <td>847.50</td>\n",
       "      <td>8909.0</td>\n",
       "    </tr>\n",
       "    <tr>\n",
       "      <th>sur_refl_b04_1</th>\n",
       "      <td>720.0</td>\n",
       "      <td>1020.191667</td>\n",
       "      <td>1062.835491</td>\n",
       "      <td>6.0</td>\n",
       "      <td>392.75</td>\n",
       "      <td>811.0</td>\n",
       "      <td>1310.25</td>\n",
       "      <td>9162.0</td>\n",
       "    </tr>\n",
       "    <tr>\n",
       "      <th>sur_refl_b05_1</th>\n",
       "      <td>720.0</td>\n",
       "      <td>1933.462500</td>\n",
       "      <td>1468.212672</td>\n",
       "      <td>-92.0</td>\n",
       "      <td>533.50</td>\n",
       "      <td>1786.5</td>\n",
       "      <td>3118.00</td>\n",
       "      <td>6382.0</td>\n",
       "    </tr>\n",
       "    <tr>\n",
       "      <th>sur_refl_b06_1</th>\n",
       "      <td>720.0</td>\n",
       "      <td>1886.316667</td>\n",
       "      <td>1528.616249</td>\n",
       "      <td>45.0</td>\n",
       "      <td>497.50</td>\n",
       "      <td>1445.5</td>\n",
       "      <td>3149.00</td>\n",
       "      <td>6610.0</td>\n",
       "    </tr>\n",
       "    <tr>\n",
       "      <th>sur_refl_b07_1</th>\n",
       "      <td>720.0</td>\n",
       "      <td>1541.908333</td>\n",
       "      <td>1378.957306</td>\n",
       "      <td>0.0</td>\n",
       "      <td>296.75</td>\n",
       "      <td>1126.5</td>\n",
       "      <td>2607.75</td>\n",
       "      <td>6128.0</td>\n",
       "    </tr>\n",
       "    <tr>\n",
       "      <th>ndvi</th>\n",
       "      <td>720.0</td>\n",
       "      <td>16.844444</td>\n",
       "      <td>2569.591200</td>\n",
       "      <td>-9493.0</td>\n",
       "      <td>-1598.75</td>\n",
       "      <td>560.0</td>\n",
       "      <td>1757.25</td>\n",
       "      <td>6732.0</td>\n",
       "    </tr>\n",
       "    <tr>\n",
       "      <th>ndwi1</th>\n",
       "      <td>720.0</td>\n",
       "      <td>-2367.652778</td>\n",
       "      <td>3489.832041</td>\n",
       "      <td>-9862.0</td>\n",
       "      <td>-4666.00</td>\n",
       "      <td>-1630.0</td>\n",
       "      <td>-792.00</td>\n",
       "      <td>8685.0</td>\n",
       "    </tr>\n",
       "    <tr>\n",
       "      <th>ndwi2</th>\n",
       "      <td>720.0</td>\n",
       "      <td>-908.250000</td>\n",
       "      <td>3907.760297</td>\n",
       "      <td>-9692.0</td>\n",
       "      <td>-2910.50</td>\n",
       "      <td>-696.0</td>\n",
       "      <td>850.25</td>\n",
       "      <td>10000.0</td>\n",
       "    </tr>\n",
       "  </tbody>\n",
       "</table>\n",
       "</div>"
      ],
      "text/plain": [
       "                count         mean          std     min      25%     50%  \\\n",
       "sur_refl_b01_1  720.0  1197.311111  1308.185639     8.0   234.50   867.5   \n",
       "sur_refl_b02_1  720.0  1552.223611  1566.800112     1.0   167.50  1249.5   \n",
       "sur_refl_b03_1  720.0   741.548611  1003.431869  -100.0   270.75   549.0   \n",
       "sur_refl_b04_1  720.0  1020.191667  1062.835491     6.0   392.75   811.0   \n",
       "sur_refl_b05_1  720.0  1933.462500  1468.212672   -92.0   533.50  1786.5   \n",
       "sur_refl_b06_1  720.0  1886.316667  1528.616249    45.0   497.50  1445.5   \n",
       "sur_refl_b07_1  720.0  1541.908333  1378.957306     0.0   296.75  1126.5   \n",
       "ndvi            720.0    16.844444  2569.591200 -9493.0 -1598.75   560.0   \n",
       "ndwi1           720.0 -2367.652778  3489.832041 -9862.0 -4666.00 -1630.0   \n",
       "ndwi2           720.0  -908.250000  3907.760297 -9692.0 -2910.50  -696.0   \n",
       "\n",
       "                    75%      max  \n",
       "sur_refl_b01_1  1823.25   9222.0  \n",
       "sur_refl_b02_1  2629.25   8837.0  \n",
       "sur_refl_b03_1   847.50   8909.0  \n",
       "sur_refl_b04_1  1310.25   9162.0  \n",
       "sur_refl_b05_1  3118.00   6382.0  \n",
       "sur_refl_b06_1  3149.00   6610.0  \n",
       "sur_refl_b07_1  2607.75   6128.0  \n",
       "ndvi            1757.25   6732.0  \n",
       "ndwi1           -792.00   8685.0  \n",
       "ndwi2            850.25  10000.0  "
      ]
     },
     "execution_count": 12,
     "metadata": {},
     "output_type": "execute_result"
    }
   ],
   "source": [
    "X_train.describe().T"
   ]
  },
  {
   "cell_type": "code",
   "execution_count": 13,
   "metadata": {},
   "outputs": [
    {
     "data": {
      "text/html": [
       "<div>\n",
       "<style scoped>\n",
       "    .dataframe tbody tr th:only-of-type {\n",
       "        vertical-align: middle;\n",
       "    }\n",
       "\n",
       "    .dataframe tbody tr th {\n",
       "        vertical-align: top;\n",
       "    }\n",
       "\n",
       "    .dataframe thead th {\n",
       "        text-align: right;\n",
       "    }\n",
       "</style>\n",
       "<table border=\"1\" class=\"dataframe\">\n",
       "  <thead>\n",
       "    <tr style=\"text-align: right;\">\n",
       "      <th></th>\n",
       "      <th>sur_refl_b01_1</th>\n",
       "      <th>sur_refl_b02_1</th>\n",
       "      <th>sur_refl_b03_1</th>\n",
       "      <th>sur_refl_b04_1</th>\n",
       "      <th>sur_refl_b05_1</th>\n",
       "      <th>sur_refl_b06_1</th>\n",
       "      <th>sur_refl_b07_1</th>\n",
       "      <th>ndvi</th>\n",
       "      <th>ndwi1</th>\n",
       "      <th>ndwi2</th>\n",
       "    </tr>\n",
       "  </thead>\n",
       "  <tbody>\n",
       "    <tr>\n",
       "      <th>236</th>\n",
       "      <td>1518</td>\n",
       "      <td>2108</td>\n",
       "      <td>434</td>\n",
       "      <td>797</td>\n",
       "      <td>2030</td>\n",
       "      <td>2200</td>\n",
       "      <td>1965</td>\n",
       "      <td>1627</td>\n",
       "      <td>-213</td>\n",
       "      <td>351</td>\n",
       "    </tr>\n",
       "    <tr>\n",
       "      <th>4</th>\n",
       "      <td>1465</td>\n",
       "      <td>1725</td>\n",
       "      <td>1028</td>\n",
       "      <td>1374</td>\n",
       "      <td>2387</td>\n",
       "      <td>2584</td>\n",
       "      <td>2280</td>\n",
       "      <td>815</td>\n",
       "      <td>-1993</td>\n",
       "      <td>-1385</td>\n",
       "    </tr>\n",
       "    <tr>\n",
       "      <th>26</th>\n",
       "      <td>266</td>\n",
       "      <td>197</td>\n",
       "      <td>328</td>\n",
       "      <td>368</td>\n",
       "      <td>365</td>\n",
       "      <td>315</td>\n",
       "      <td>200</td>\n",
       "      <td>-1490</td>\n",
       "      <td>-2304</td>\n",
       "      <td>-75</td>\n",
       "    </tr>\n",
       "    <tr>\n",
       "      <th>157</th>\n",
       "      <td>2053</td>\n",
       "      <td>2661</td>\n",
       "      <td>863</td>\n",
       "      <td>1508</td>\n",
       "      <td>3117</td>\n",
       "      <td>3748</td>\n",
       "      <td>3219</td>\n",
       "      <td>1289</td>\n",
       "      <td>-1696</td>\n",
       "      <td>-948</td>\n",
       "    </tr>\n",
       "    <tr>\n",
       "      <th>808</th>\n",
       "      <td>452</td>\n",
       "      <td>293</td>\n",
       "      <td>450</td>\n",
       "      <td>542</td>\n",
       "      <td>1028</td>\n",
       "      <td>1001</td>\n",
       "      <td>768</td>\n",
       "      <td>-2134</td>\n",
       "      <td>-5471</td>\n",
       "      <td>-4476</td>\n",
       "    </tr>\n",
       "  </tbody>\n",
       "</table>\n",
       "</div>"
      ],
      "text/plain": [
       "     sur_refl_b01_1  sur_refl_b02_1  sur_refl_b03_1  sur_refl_b04_1  \\\n",
       "236            1518            2108             434             797   \n",
       "4              1465            1725            1028            1374   \n",
       "26              266             197             328             368   \n",
       "157            2053            2661             863            1508   \n",
       "808             452             293             450             542   \n",
       "\n",
       "     sur_refl_b05_1  sur_refl_b06_1  sur_refl_b07_1  ndvi  ndwi1  ndwi2  \n",
       "236            2030            2200            1965  1627   -213    351  \n",
       "4              2387            2584            2280   815  -1993  -1385  \n",
       "26              365             315             200 -1490  -2304    -75  \n",
       "157            3117            3748            3219  1289  -1696   -948  \n",
       "808            1028            1001             768 -2134  -5471  -4476  "
      ]
     },
     "execution_count": 13,
     "metadata": {},
     "output_type": "execute_result"
    }
   ],
   "source": [
    "X_train.sample(5)"
   ]
  },
  {
   "cell_type": "markdown",
   "metadata": {},
   "source": [
    "## XGBOOST"
   ]
  },
  {
   "cell_type": "markdown",
   "metadata": {},
   "source": [
    "Choose which combination of hyperparameters to train:\n",
    "\n",
    "- n_estimators: Number of learners for the xgboost to fit.\n",
    "- booster: Which booster to use\n",
    "- lamda: L2 regularization rate\n",
    "- alpha: L1 regularization rate\n",
    "- subsample: sampling ration for training data\n",
    "- colsample_bytree: sampling according to each tree\n",
    "- max_depth: maximum depth of the tree, signifies complexity\n",
    "- min_child_weight: minimum child weight, the larger the term, the more complex\n",
    "- gamme: how selective the algorithm is"
   ]
  },
  {
   "cell_type": "code",
   "execution_count": 14,
   "metadata": {},
   "outputs": [],
   "source": [
    "from cuml.dask.common import utils as dask_utils    "
   ]
  },
  {
   "cell_type": "code",
   "execution_count": 15,
   "metadata": {},
   "outputs": [],
   "source": [
    "X_train = dask.dataframe.from_pandas(X_train, npartitions=4)\n",
    "X_val = dask.dataframe.from_pandas(X_val, npartitions=4)\n",
    "y_train = dask.dataframe.from_pandas(y_train, npartitions=4)\n",
    "y_val = dask.dataframe.from_pandas(y_val, npartitions=4)\n",
    "X_test = dask.dataframe.from_pandas(X_test, npartitions=4)\n",
    "y_test = dask.dataframe.from_pandas(y_test, npartitions=4)"
   ]
  },
  {
   "cell_type": "code",
   "execution_count": 16,
   "metadata": {},
   "outputs": [
    {
     "data": {
      "text/plain": [
       "dict_keys(['tcp://10.100.38.6:37317', 'tcp://10.100.38.6:38475', 'tcp://10.100.38.6:39147', 'tcp://10.100.38.6:39789'])"
      ]
     },
     "execution_count": 16,
     "metadata": {},
     "output_type": "execute_result"
    }
   ],
   "source": [
    "workers = client.has_what().keys()\n",
    "workers"
   ]
  },
  {
   "cell_type": "code",
   "execution_count": 17,
   "metadata": {},
   "outputs": [],
   "source": [
    "X_train, y_train = dask_utils.persist_across_workers(client, [X_train, y_train], workers=workers)\n",
    "X_val, y_val = dask_utils.persist_across_workers(client, [X_val, y_val], workers=workers)\n",
    "X_test, y_test = dask_utils.persist_across_workers(client, [X_test, y_test], workers=workers)"
   ]
  },
  {
   "cell_type": "code",
   "execution_count": 18,
   "metadata": {},
   "outputs": [],
   "source": [
    "def objective(trial):\n",
    "    hyperparameters = {\n",
    "        \"verbosity\": 0,\n",
    "        \"objective\": \"binary:logistic\",\n",
    "        # use exact for small dataset.\n",
    "        \"tree_method\": \"gpu_hist\",\n",
    "        \"n_jobs\": -1,\n",
    "        \"n_estimators\": trial.suggest_categorical(\"n_estimators\", [100, 150, 200, 250, 300, 350, 400]),\n",
    "        # defines booster, gblinear for linear functions.\n",
    "        \"booster\": trial.suggest_categorical(\"booster\", [\"gbtree\", \"dart\"]),\n",
    "        # L2 regularization weight.\n",
    "        \"lambda\": trial.suggest_float(\"lambda\", 1e-8, 1.0, log=True),\n",
    "        # L1 regularization weight.\n",
    "        \"alpha\": trial.suggest_float(\"alpha\", 1e-8, 1.0, log=True),\n",
    "        # sampling ratio for training data.\n",
    "        \"subsample\": trial.suggest_float(\"subsample\", 0.1, 0.3),\n",
    "        # sampling according to each tree.\n",
    "        \"colsample_bytree\": trial.suggest_float(\"colsample_bytree\", 0.1, 0.3),\n",
    "        # maximum depth of the tree, signifies complexity of the tree.\n",
    "        \"max_depth\":  trial.suggest_int(\"max_depth\", 3, 15, step=1), \n",
    "        # minimum child weight, larger the term more conservative the tree.\n",
    "        \"min_child_weight\":  trial.suggest_int(\"min_child_weight\", 2, 5), \n",
    "        \"eta\":  trial.suggest_float(\"eta\", 1e-8, 1.0, log=True), \n",
    "        # defines how selective algorithm is.\n",
    "        \"gamma\": trial.suggest_float(\"gamma\", 1e-8, 0.5, log=True), \n",
    "        \"grow_policy\":  trial.suggest_categorical(\"grow_policy\", [\"depthwise\", \"lossguide\"]),\n",
    "    }\n",
    "    pruning_callback = optuna.integration.XGBoostPruningCallback(trial, \"validation_0-auc\")\n",
    "    classifier = xgb.dask.DaskXGBClassifier(**hyperparameters)\n",
    "    classifier.client = client\n",
    "    eval_set = [(X_train, y_train), (X_val, y_val)]\n",
    "    eval_metric = [\"error\",\"auc\"]\n",
    "    classifier.fit(X_train, \n",
    "                   y_train, \n",
    "                   eval_set=eval_set, \n",
    "                   eval_metric=eval_metric, \n",
    "                   early_stopping_rounds=5, \n",
    "                   callbacks=[pruning_callback],\n",
    "                   verbose=False)\n",
    "    preds = classifier.predict(X_test)\n",
    "    preds = preds.compute()\n",
    "    y_test_series = y_test.compute()\n",
    "    cm = confusion_matrix(y_test_series, preds)\n",
    "    fp = cm[1][0]\n",
    "    precision = precision_score(y_test_series, preds)\n",
    "    f1 = f1_score(y_test_series, preds)\n",
    "    print('Confusion matrix')\n",
    "    print('TP: {:9} FN: {:9}'.format(cm[0][0], cm[0][1]))\n",
    "    print('FP: {:9} TN: {:9}'.format(cm[1][0], cm[1][1]))\n",
    "    print('Precision: {}'.format(precision))\n",
    "    print('F1 score: {}'.format(f1))\n",
    "    del classifier, preds\n",
    "    return f1"
   ]
  },
  {
   "cell_type": "markdown",
   "metadata": {},
   "source": [
    "## Set the search space\n",
    "\n",
    "Set the search space for the hyperparameter tuning to search through once. This needs to be in conjunction with the `trial.suggest...` part of the hyperparameters dictionary defined aboce. \n",
    "\n",
    "Ex.\n",
    "\n",
    "If `max_depth` is defined in `hyperparameters` in the `objective` function above as such\n",
    "\n",
    "`\"max_depth\":  trial.suggest_int(\"max_depth\", 3, 15, step=1),` \n",
    "\n",
    "then we need to pair that with the limited search space below as such:\n",
    "\n",
    "`search_space={\"max_depth\":[3, 4, 5, 6, 7, 8, 9, 10, 11, 12, 13, 14, 15]}`\n",
    "\n",
    "This is not the most ideal way of ensuring that trials are not repeated, however it works for now. "
   ]
  },
  {
   "cell_type": "code",
   "execution_count": 19,
   "metadata": {},
   "outputs": [],
   "source": [
    "search_space={\n",
    "    \"max_depth\":[3, 4, 5, 6, 7, 8, 9, 10, 11, 12, 13, 14, 15],\n",
    "}"
   ]
  },
  {
   "cell_type": "markdown",
   "metadata": {},
   "source": [
    "### Set number of trials and timeout\n",
    "\n",
    "Set the number of trials `n_trials=<num of desired trials>` and the maximum time for the total study `timeout=<timeout in minutes>*60`"
   ]
  },
  {
   "cell_type": "code",
   "execution_count": 20,
   "metadata": {},
   "outputs": [
    {
     "name": "stderr",
     "output_type": "stream",
     "text": [
      "\u001b[32m[I 2022-04-28 09:15:32,556]\u001b[0m A new study created in memory with name: xgboost hyperparameter tuning - multi-gpu\u001b[0m\n",
      "[09:15:32] task [xgboost.dask]:tcp://10.100.38.6:39789 got new rank 0\n",
      "[09:15:32] task [xgboost.dask]:tcp://10.100.38.6:39147 got new rank 1\n",
      "[09:15:32] task [xgboost.dask]:tcp://10.100.38.6:38475 got new rank 2\n",
      "[09:15:33] task [xgboost.dask]:tcp://10.100.38.6:37317 got new rank 3\n",
      "\u001b[32m[I 2022-04-28 09:15:35,092]\u001b[0m Trial 0 finished with value: 0.9555555555555556 and parameters: {'n_estimators': 400, 'booster': 'dart', 'lambda': 0.002601141285657017, 'alpha': 3.939064074520223e-08, 'subsample': 0.19632359717206216, 'colsample_bytree': 0.29908341669948324, 'max_depth': 11, 'min_child_weight': 3, 'eta': 1.2323588040785806e-06, 'gamma': 5.494638595070342e-07, 'grow_policy': 'depthwise'}. Best is trial 0 with value: 0.9555555555555556.\u001b[0m\n"
     ]
    },
    {
     "name": "stdout",
     "output_type": "stream",
     "text": [
      "Confusion matrix\n",
      "TP:       106 FN:         1\n",
      "FP:         7 TN:        86\n",
      "Precision: 0.9885057471264368\n",
      "F1 score: 0.9555555555555556\n"
     ]
    },
    {
     "name": "stderr",
     "output_type": "stream",
     "text": [
      "[09:15:35] task [xgboost.dask]:tcp://10.100.38.6:38475 got new rank 0\n",
      "[09:15:35] task [xgboost.dask]:tcp://10.100.38.6:39789 got new rank 1\n",
      "[09:15:35] task [xgboost.dask]:tcp://10.100.38.6:39147 got new rank 2\n",
      "[09:15:35] task [xgboost.dask]:tcp://10.100.38.6:37317 got new rank 3\n",
      "\u001b[32m[I 2022-04-28 09:15:36,990]\u001b[0m Trial 1 finished with value: 0.9621621621621621 and parameters: {'n_estimators': 350, 'booster': 'dart', 'lambda': 0.45041615361367776, 'alpha': 0.05738441401266177, 'subsample': 0.16848944098438023, 'colsample_bytree': 0.171902204690586, 'max_depth': 6, 'min_child_weight': 3, 'eta': 3.58805367859557e-06, 'gamma': 5.733768324324954e-08, 'grow_policy': 'depthwise'}. Best is trial 1 with value: 0.9621621621621621.\u001b[0m\n"
     ]
    },
    {
     "name": "stdout",
     "output_type": "stream",
     "text": [
      "Confusion matrix\n",
      "TP:       104 FN:         3\n",
      "FP:         4 TN:        89\n",
      "Precision: 0.967391304347826\n",
      "F1 score: 0.9621621621621621\n"
     ]
    },
    {
     "name": "stderr",
     "output_type": "stream",
     "text": [
      "[09:15:37] task [xgboost.dask]:tcp://10.100.38.6:38475 got new rank 0\n",
      "[09:15:37] task [xgboost.dask]:tcp://10.100.38.6:39789 got new rank 1\n",
      "[09:15:37] task [xgboost.dask]:tcp://10.100.38.6:39147 got new rank 2\n",
      "[09:15:37] task [xgboost.dask]:tcp://10.100.38.6:37317 got new rank 3\n",
      "\u001b[32m[I 2022-04-28 09:15:38,913]\u001b[0m Trial 2 finished with value: 0.967391304347826 and parameters: {'n_estimators': 200, 'booster': 'gbtree', 'lambda': 2.824594861624647e-06, 'alpha': 0.42862084133959133, 'subsample': 0.11017880837207648, 'colsample_bytree': 0.2663949468075473, 'max_depth': 11, 'min_child_weight': 3, 'eta': 0.09239776735513681, 'gamma': 0.03014547508527077, 'grow_policy': 'lossguide'}. Best is trial 2 with value: 0.967391304347826.\u001b[0m\n"
     ]
    },
    {
     "name": "stdout",
     "output_type": "stream",
     "text": [
      "Confusion matrix\n",
      "TP:       105 FN:         2\n",
      "FP:         4 TN:        89\n",
      "Precision: 0.978021978021978\n",
      "F1 score: 0.967391304347826\n"
     ]
    },
    {
     "name": "stderr",
     "output_type": "stream",
     "text": [
      "[09:15:39] task [xgboost.dask]:tcp://10.100.38.6:39789 got new rank 0\n",
      "[09:15:39] task [xgboost.dask]:tcp://10.100.38.6:38475 got new rank 1\n",
      "[09:15:39] task [xgboost.dask]:tcp://10.100.38.6:37317 got new rank 2\n",
      "[09:15:39] task [xgboost.dask]:tcp://10.100.38.6:39147 got new rank 3\n",
      "\u001b[32m[I 2022-04-28 09:15:40,826]\u001b[0m Trial 3 finished with value: 0.9726775956284154 and parameters: {'n_estimators': 250, 'booster': 'gbtree', 'lambda': 1.3476261951569527e-05, 'alpha': 0.6198471404927666, 'subsample': 0.24528300693070926, 'colsample_bytree': 0.19080286967291776, 'max_depth': 7, 'min_child_weight': 2, 'eta': 1.4030619692951855e-08, 'gamma': 0.0005642749847900974, 'grow_policy': 'lossguide'}. Best is trial 3 with value: 0.9726775956284154.\u001b[0m\n"
     ]
    },
    {
     "name": "stdout",
     "output_type": "stream",
     "text": [
      "Confusion matrix\n",
      "TP:       106 FN:         1\n",
      "FP:         4 TN:        89\n",
      "Precision: 0.9888888888888889\n",
      "F1 score: 0.9726775956284154\n"
     ]
    },
    {
     "name": "stderr",
     "output_type": "stream",
     "text": [
      "[09:15:40] task [xgboost.dask]:tcp://10.100.38.6:39147 got new rank 0\n",
      "[09:15:41] task [xgboost.dask]:tcp://10.100.38.6:38475 got new rank 1\n",
      "[09:15:41] task [xgboost.dask]:tcp://10.100.38.6:39789 got new rank 2\n",
      "[09:15:41] task [xgboost.dask]:tcp://10.100.38.6:37317 got new rank 3\n",
      "\u001b[32m[I 2022-04-28 09:15:42,824]\u001b[0m Trial 4 finished with value: 0.967391304347826 and parameters: {'n_estimators': 300, 'booster': 'dart', 'lambda': 7.972473409681245e-08, 'alpha': 0.00017114435061861498, 'subsample': 0.21439225316569538, 'colsample_bytree': 0.17550647603539615, 'max_depth': 13, 'min_child_weight': 3, 'eta': 9.035439982404689e-05, 'gamma': 2.5265564990299125e-06, 'grow_policy': 'lossguide'}. Best is trial 3 with value: 0.9726775956284154.\u001b[0m\n"
     ]
    },
    {
     "name": "stdout",
     "output_type": "stream",
     "text": [
      "Confusion matrix\n",
      "TP:       105 FN:         2\n",
      "FP:         4 TN:        89\n",
      "Precision: 0.978021978021978\n",
      "F1 score: 0.967391304347826\n"
     ]
    },
    {
     "name": "stderr",
     "output_type": "stream",
     "text": [
      "[09:15:42] task [xgboost.dask]:tcp://10.100.38.6:39789 got new rank 0\n",
      "[09:15:43] task [xgboost.dask]:tcp://10.100.38.6:38475 got new rank 1\n",
      "[09:15:43] task [xgboost.dask]:tcp://10.100.38.6:39147 got new rank 2\n",
      "[09:15:43] task [xgboost.dask]:tcp://10.100.38.6:37317 got new rank 3\n",
      "\u001b[32m[I 2022-04-28 09:15:44,749]\u001b[0m Trial 5 finished with value: 0.967032967032967 and parameters: {'n_estimators': 150, 'booster': 'dart', 'lambda': 0.08232664312629419, 'alpha': 5.465632538599481e-05, 'subsample': 0.29026968228446837, 'colsample_bytree': 0.2256031379293513, 'max_depth': 9, 'min_child_weight': 4, 'eta': 2.218236281982773e-06, 'gamma': 1.2707203305005322e-05, 'grow_policy': 'depthwise'}. Best is trial 3 with value: 0.9726775956284154.\u001b[0m\n"
     ]
    },
    {
     "name": "stdout",
     "output_type": "stream",
     "text": [
      "Confusion matrix\n",
      "TP:       106 FN:         1\n",
      "FP:         5 TN:        88\n",
      "Precision: 0.9887640449438202\n",
      "F1 score: 0.967032967032967\n"
     ]
    },
    {
     "name": "stderr",
     "output_type": "stream",
     "text": [
      "[09:15:44] task [xgboost.dask]:tcp://10.100.38.6:39789 got new rank 0\n",
      "[09:15:44] task [xgboost.dask]:tcp://10.100.38.6:39147 got new rank 1\n",
      "[09:15:45] task [xgboost.dask]:tcp://10.100.38.6:38475 got new rank 2\n",
      "[09:15:45] task [xgboost.dask]:tcp://10.100.38.6:37317 got new rank 3\n",
      "\u001b[32m[I 2022-04-28 09:15:46,751]\u001b[0m Trial 6 finished with value: 0.9613259668508287 and parameters: {'n_estimators': 400, 'booster': 'gbtree', 'lambda': 0.0013184620368670522, 'alpha': 0.5082359874376458, 'subsample': 0.1558587174743828, 'colsample_bytree': 0.21930620347569302, 'max_depth': 5, 'min_child_weight': 4, 'eta': 3.3869331557792897e-07, 'gamma': 0.0018985463076388865, 'grow_policy': 'lossguide'}. Best is trial 3 with value: 0.9726775956284154.\u001b[0m\n"
     ]
    },
    {
     "name": "stdout",
     "output_type": "stream",
     "text": [
      "Confusion matrix\n",
      "TP:       106 FN:         1\n",
      "FP:         6 TN:        87\n",
      "Precision: 0.9886363636363636\n",
      "F1 score: 0.9613259668508287\n"
     ]
    },
    {
     "name": "stderr",
     "output_type": "stream",
     "text": [
      "[09:15:46] task [xgboost.dask]:tcp://10.100.38.6:39147 got new rank 0\n",
      "[09:15:46] task [xgboost.dask]:tcp://10.100.38.6:39789 got new rank 1\n",
      "[09:15:47] task [xgboost.dask]:tcp://10.100.38.6:37317 got new rank 2\n",
      "[09:15:47] task [xgboost.dask]:tcp://10.100.38.6:38475 got new rank 3\n",
      "\u001b[32m[I 2022-04-28 09:15:48,804]\u001b[0m Trial 7 finished with value: 0.9726775956284154 and parameters: {'n_estimators': 300, 'booster': 'dart', 'lambda': 0.26030640479042777, 'alpha': 3.929389993870756e-05, 'subsample': 0.128978249563097, 'colsample_bytree': 0.2937431703299134, 'max_depth': 6, 'min_child_weight': 2, 'eta': 4.4658608370346286e-05, 'gamma': 1.383864797702104e-05, 'grow_policy': 'lossguide'}. Best is trial 3 with value: 0.9726775956284154.\u001b[0m\n"
     ]
    },
    {
     "name": "stdout",
     "output_type": "stream",
     "text": [
      "Confusion matrix\n",
      "TP:       106 FN:         1\n",
      "FP:         4 TN:        89\n",
      "Precision: 0.9888888888888889\n",
      "F1 score: 0.9726775956284154\n"
     ]
    },
    {
     "name": "stderr",
     "output_type": "stream",
     "text": [
      "[09:15:49] task [xgboost.dask]:tcp://10.100.38.6:39789 got new rank 0\n",
      "[09:15:49] task [xgboost.dask]:tcp://10.100.38.6:38475 got new rank 1\n",
      "[09:15:49] task [xgboost.dask]:tcp://10.100.38.6:37317 got new rank 2\n",
      "[09:15:49] task [xgboost.dask]:tcp://10.100.38.6:39147 got new rank 3\n",
      "\u001b[32m[I 2022-04-28 09:15:51,104]\u001b[0m Trial 8 finished with value: 0.967032967032967 and parameters: {'n_estimators': 150, 'booster': 'dart', 'lambda': 1.6527397620800485e-06, 'alpha': 0.5912652516634539, 'subsample': 0.2630750341575795, 'colsample_bytree': 0.21097694423984825, 'max_depth': 8, 'min_child_weight': 2, 'eta': 1.5585902945787015e-06, 'gamma': 2.4071074619334667e-08, 'grow_policy': 'depthwise'}. Best is trial 3 with value: 0.9726775956284154.\u001b[0m\n"
     ]
    },
    {
     "name": "stdout",
     "output_type": "stream",
     "text": [
      "Confusion matrix\n",
      "TP:       106 FN:         1\n",
      "FP:         5 TN:        88\n",
      "Precision: 0.9887640449438202\n",
      "F1 score: 0.967032967032967\n"
     ]
    },
    {
     "name": "stderr",
     "output_type": "stream",
     "text": [
      "[09:15:51] task [xgboost.dask]:tcp://10.100.38.6:39789 got new rank 0\n",
      "[09:15:51] task [xgboost.dask]:tcp://10.100.38.6:38475 got new rank 1\n",
      "[09:15:51] task [xgboost.dask]:tcp://10.100.38.6:39147 got new rank 2\n",
      "[09:15:51] task [xgboost.dask]:tcp://10.100.38.6:37317 got new rank 3\n",
      "\u001b[32m[I 2022-04-28 09:15:53,201]\u001b[0m Trial 9 finished with value: 0.9497206703910613 and parameters: {'n_estimators': 300, 'booster': 'dart', 'lambda': 0.3707540996264822, 'alpha': 0.0076278009227565904, 'subsample': 0.1057270776786708, 'colsample_bytree': 0.1306224050138153, 'max_depth': 12, 'min_child_weight': 5, 'eta': 1.0365489908165086e-08, 'gamma': 1.6383469117506528e-05, 'grow_policy': 'lossguide'}. Best is trial 3 with value: 0.9726775956284154.\u001b[0m\n"
     ]
    },
    {
     "name": "stdout",
     "output_type": "stream",
     "text": [
      "Confusion matrix\n",
      "TP:       106 FN:         1\n",
      "FP:         8 TN:        85\n",
      "Precision: 0.9883720930232558\n",
      "F1 score: 0.9497206703910613\n"
     ]
    },
    {
     "name": "stderr",
     "output_type": "stream",
     "text": [
      "[09:15:53] task [xgboost.dask]:tcp://10.100.38.6:39147 got new rank 0\n",
      "[09:15:53] task [xgboost.dask]:tcp://10.100.38.6:39789 got new rank 1\n",
      "[09:15:53] task [xgboost.dask]:tcp://10.100.38.6:38475 got new rank 2\n",
      "[09:15:53] task [xgboost.dask]:tcp://10.100.38.6:37317 got new rank 3\n",
      "\u001b[32m[I 2022-04-28 09:15:55,164]\u001b[0m Trial 10 finished with value: 0.967741935483871 and parameters: {'n_estimators': 250, 'booster': 'gbtree', 'lambda': 6.259982954207896e-05, 'alpha': 1.2169792750196022e-08, 'subsample': 0.24468675923584698, 'colsample_bytree': 0.11417640921774302, 'max_depth': 3, 'min_child_weight': 2, 'eta': 0.028076182499887713, 'gamma': 0.0012344499849257712, 'grow_policy': 'lossguide'}. Best is trial 3 with value: 0.9726775956284154.\u001b[0m\n"
     ]
    },
    {
     "name": "stdout",
     "output_type": "stream",
     "text": [
      "Confusion matrix\n",
      "TP:       104 FN:         3\n",
      "FP:         3 TN:        90\n",
      "Precision: 0.967741935483871\n",
      "F1 score: 0.967741935483871\n"
     ]
    },
    {
     "name": "stderr",
     "output_type": "stream",
     "text": [
      "[09:15:55] task [xgboost.dask]:tcp://10.100.38.6:39147 got new rank 0\n",
      "[09:15:55] task [xgboost.dask]:tcp://10.100.38.6:39789 got new rank 1\n",
      "[09:15:55] task [xgboost.dask]:tcp://10.100.38.6:38475 got new rank 2\n",
      "[09:15:55] task [xgboost.dask]:tcp://10.100.38.6:37317 got new rank 3\n",
      "\u001b[32m[I 2022-04-28 09:15:57,164]\u001b[0m Trial 11 finished with value: 0.967391304347826 and parameters: {'n_estimators': 100, 'booster': 'gbtree', 'lambda': 8.48639092908495e-05, 'alpha': 1.5539908997440102e-05, 'subsample': 0.23053613790331712, 'colsample_bytree': 0.25877182093245726, 'max_depth': 7, 'min_child_weight': 2, 'eta': 0.0006737514468745275, 'gamma': 0.00039969144391103996, 'grow_policy': 'lossguide'}. Best is trial 3 with value: 0.9726775956284154.\u001b[0m\n"
     ]
    },
    {
     "name": "stdout",
     "output_type": "stream",
     "text": [
      "Confusion matrix\n",
      "TP:       105 FN:         2\n",
      "FP:         4 TN:        89\n",
      "Precision: 0.978021978021978\n",
      "F1 score: 0.967391304347826\n"
     ]
    },
    {
     "name": "stderr",
     "output_type": "stream",
     "text": [
      "[09:15:57] task [xgboost.dask]:tcp://10.100.38.6:39147 got new rank 0\n",
      "[09:15:57] task [xgboost.dask]:tcp://10.100.38.6:39789 got new rank 1\n",
      "[09:15:57] task [xgboost.dask]:tcp://10.100.38.6:37317 got new rank 2\n",
      "[09:15:57] task [xgboost.dask]:tcp://10.100.38.6:38475 got new rank 3\n",
      "\u001b[32m[I 2022-04-28 09:15:59,122]\u001b[0m Trial 12 finished with value: 0.9378531073446327 and parameters: {'n_estimators': 250, 'booster': 'gbtree', 'lambda': 0.006058503820060392, 'alpha': 8.368617465270834e-07, 'subsample': 0.14627545850671034, 'colsample_bytree': 0.16551375115947975, 'max_depth': 4, 'min_child_weight': 2, 'eta': 2.3792879032408696e-08, 'gamma': 0.06856334730273599, 'grow_policy': 'lossguide'}. Best is trial 3 with value: 0.9726775956284154.\u001b[0m\n"
     ]
    },
    {
     "name": "stdout",
     "output_type": "stream",
     "text": [
      "Confusion matrix\n",
      "TP:       106 FN:         1\n",
      "FP:        10 TN:        83\n",
      "Precision: 0.9880952380952381\n",
      "F1 score: 0.9378531073446327\n"
     ]
    },
    {
     "name": "stderr",
     "output_type": "stream",
     "text": [
      "[09:15:59] task [xgboost.dask]:tcp://10.100.38.6:39789 got new rank 0\n",
      "[09:15:59] task [xgboost.dask]:tcp://10.100.38.6:38475 got new rank 1\n",
      "[09:15:59] task [xgboost.dask]:tcp://10.100.38.6:39147 got new rank 2\n",
      "[09:15:59] task [xgboost.dask]:tcp://10.100.38.6:37317 got new rank 3\n",
      "\u001b[32m[I 2022-04-28 09:16:00,948]\u001b[0m Trial 13 finished with value: 0.9621621621621621 and parameters: {'n_estimators': 250, 'booster': 'gbtree', 'lambda': 4.6429988405671185e-06, 'alpha': 0.0033681413000137645, 'subsample': 0.1932849139691848, 'colsample_bytree': 0.2539219260274189, 'max_depth': 6, 'min_child_weight': 2, 'eta': 0.0002888334169749396, 'gamma': 9.260812720504202e-05, 'grow_policy': 'lossguide'}. Best is trial 3 with value: 0.9726775956284154.\u001b[0m\n"
     ]
    },
    {
     "name": "stdout",
     "output_type": "stream",
     "text": [
      "Confusion matrix\n",
      "TP:       104 FN:         3\n",
      "FP:         4 TN:        89\n",
      "Precision: 0.967391304347826\n",
      "F1 score: 0.9621621621621621\n"
     ]
    },
    {
     "name": "stderr",
     "output_type": "stream",
     "text": [
      "[09:16:01] task [xgboost.dask]:tcp://10.100.38.6:39789 got new rank 0\n",
      "[09:16:01] task [xgboost.dask]:tcp://10.100.38.6:38475 got new rank 1\n",
      "[09:16:01] task [xgboost.dask]:tcp://10.100.38.6:39147 got new rank 2\n",
      "[09:16:01] task [xgboost.dask]:tcp://10.100.38.6:37317 got new rank 3\n",
      "\u001b[32m[I 2022-04-28 09:16:02,752]\u001b[0m Trial 14 finished with value: 0.967391304347826 and parameters: {'n_estimators': 200, 'booster': 'gbtree', 'lambda': 2.809362686571417e-08, 'alpha': 0.0006798395985419719, 'subsample': 0.27523999683963835, 'colsample_bytree': 0.29479189671756706, 'max_depth': 15, 'min_child_weight': 5, 'eta': 0.9648271511561185, 'gamma': 0.006355489959083632, 'grow_policy': 'lossguide'}. Best is trial 3 with value: 0.9726775956284154.\u001b[0m\n"
     ]
    },
    {
     "name": "stdout",
     "output_type": "stream",
     "text": [
      "Confusion matrix\n",
      "TP:       105 FN:         2\n",
      "FP:         4 TN:        89\n",
      "Precision: 0.978021978021978\n",
      "F1 score: 0.967391304347826\n"
     ]
    },
    {
     "name": "stderr",
     "output_type": "stream",
     "text": [
      "[09:16:02] task [xgboost.dask]:tcp://10.100.38.6:39789 got new rank 0\n",
      "[09:16:03] task [xgboost.dask]:tcp://10.100.38.6:38475 got new rank 1\n",
      "[09:16:03] task [xgboost.dask]:tcp://10.100.38.6:37317 got new rank 2\n",
      "[09:16:03] task [xgboost.dask]:tcp://10.100.38.6:39147 got new rank 3\n",
      "\u001b[32m[I 2022-04-28 09:16:04,711]\u001b[0m Trial 15 finished with value: 0.9726775956284154 and parameters: {'n_estimators': 300, 'booster': 'dart', 'lambda': 0.00035052739087219914, 'alpha': 3.4027759916382377e-06, 'subsample': 0.1346837981010112, 'colsample_bytree': 0.19324627849699041, 'max_depth': 9, 'min_child_weight': 2, 'eta': 3.938422007039682e-05, 'gamma': 0.0001299047612718286, 'grow_policy': 'lossguide'}. Best is trial 3 with value: 0.9726775956284154.\u001b[0m\n"
     ]
    },
    {
     "name": "stdout",
     "output_type": "stream",
     "text": [
      "Confusion matrix\n",
      "TP:       106 FN:         1\n",
      "FP:         4 TN:        89\n",
      "Precision: 0.9888888888888889\n",
      "F1 score: 0.9726775956284154\n"
     ]
    },
    {
     "name": "stderr",
     "output_type": "stream",
     "text": [
      "[09:16:04] task [xgboost.dask]:tcp://10.100.38.6:39147 got new rank 0\n",
      "[09:16:04] task [xgboost.dask]:tcp://10.100.38.6:39789 got new rank 1\n",
      "[09:16:05] task [xgboost.dask]:tcp://10.100.38.6:38475 got new rank 2\n",
      "[09:16:05] task [xgboost.dask]:tcp://10.100.38.6:37317 got new rank 3\n",
      "\u001b[32m[I 2022-04-28 09:16:06,672]\u001b[0m Trial 16 finished with value: 0.967741935483871 and parameters: {'n_estimators': 100, 'booster': 'dart', 'lambda': 0.01703685260400477, 'alpha': 3.313182692912435e-07, 'subsample': 0.17335334966100102, 'colsample_bytree': 0.14316039830664118, 'max_depth': 7, 'min_child_weight': 4, 'eta': 0.004763413099662896, 'gamma': 4.010629883074085e-07, 'grow_policy': 'lossguide'}. Best is trial 3 with value: 0.9726775956284154.\u001b[0m\n"
     ]
    },
    {
     "name": "stdout",
     "output_type": "stream",
     "text": [
      "Confusion matrix\n",
      "TP:       104 FN:         3\n",
      "FP:         3 TN:        90\n",
      "Precision: 0.967741935483871\n",
      "F1 score: 0.967741935483871\n"
     ]
    },
    {
     "name": "stderr",
     "output_type": "stream",
     "text": [
      "[09:16:06] task [xgboost.dask]:tcp://10.100.38.6:39147 got new rank 0\n",
      "[09:16:06] task [xgboost.dask]:tcp://10.100.38.6:38475 got new rank 1\n",
      "[09:16:07] task [xgboost.dask]:tcp://10.100.38.6:39789 got new rank 2\n",
      "[09:16:07] task [xgboost.dask]:tcp://10.100.38.6:37317 got new rank 3\n",
      "\u001b[32m[I 2022-04-28 09:16:08,583]\u001b[0m Trial 17 finished with value: 0.972972972972973 and parameters: {'n_estimators': 350, 'booster': 'gbtree', 'lambda': 1.8970669389333764e-05, 'alpha': 0.024036625469518617, 'subsample': 0.23979989140067695, 'colsample_bytree': 0.23819929305467455, 'max_depth': 3, 'min_child_weight': 3, 'eta': 1.0661204615804224e-07, 'gamma': 0.27526016499021516, 'grow_policy': 'lossguide'}. Best is trial 17 with value: 0.972972972972973.\u001b[0m\n"
     ]
    },
    {
     "name": "stdout",
     "output_type": "stream",
     "text": [
      "Confusion matrix\n",
      "TP:       105 FN:         2\n",
      "FP:         3 TN:        90\n",
      "Precision: 0.9782608695652174\n",
      "F1 score: 0.972972972972973\n"
     ]
    },
    {
     "name": "stderr",
     "output_type": "stream",
     "text": [
      "[09:16:08] task [xgboost.dask]:tcp://10.100.38.6:39147 got new rank 0\n",
      "[09:16:08] task [xgboost.dask]:tcp://10.100.38.6:39789 got new rank 1\n",
      "[09:16:08] task [xgboost.dask]:tcp://10.100.38.6:38475 got new rank 2\n",
      "[09:16:09] task [xgboost.dask]:tcp://10.100.38.6:37317 got new rank 3\n",
      "\u001b[32m[I 2022-04-28 09:16:10,551]\u001b[0m Trial 18 finished with value: 0.9555555555555556 and parameters: {'n_estimators': 350, 'booster': 'dart', 'lambda': 0.00066284470695717, 'alpha': 3.056196054573467e-06, 'subsample': 0.20843496005795015, 'colsample_bytree': 0.2372321591483027, 'max_depth': 9, 'min_child_weight': 3, 'eta': 2.0351767626242344e-05, 'gamma': 0.4297000035938188, 'grow_policy': 'depthwise'}. Best is trial 17 with value: 0.972972972972973.\u001b[0m\n"
     ]
    },
    {
     "name": "stdout",
     "output_type": "stream",
     "text": [
      "Confusion matrix\n",
      "TP:       106 FN:         1\n",
      "FP:         7 TN:        86\n",
      "Precision: 0.9885057471264368\n",
      "F1 score: 0.9555555555555556\n"
     ]
    },
    {
     "name": "stderr",
     "output_type": "stream",
     "text": [
      "[09:16:10] task [xgboost.dask]:tcp://10.100.38.6:38475 got new rank 0\n",
      "[09:16:10] task [xgboost.dask]:tcp://10.100.38.6:39789 got new rank 1\n",
      "[09:16:10] task [xgboost.dask]:tcp://10.100.38.6:39147 got new rank 2\n",
      "[09:16:11] task [xgboost.dask]:tcp://10.100.38.6:37317 got new rank 3\n",
      "\u001b[32m[I 2022-04-28 09:16:12,469]\u001b[0m Trial 19 finished with value: 0.967391304347826 and parameters: {'n_estimators': 350, 'booster': 'gbtree', 'lambda': 3.196603136351402e-07, 'alpha': 0.038816895478690897, 'subsample': 0.24642291266281002, 'colsample_bytree': 0.2045966503307264, 'max_depth': 3, 'min_child_weight': 3, 'eta': 6.209213357700544e-08, 'gamma': 0.16996205402569878, 'grow_policy': 'lossguide'}. Best is trial 17 with value: 0.972972972972973.\u001b[0m\n"
     ]
    },
    {
     "name": "stdout",
     "output_type": "stream",
     "text": [
      "Confusion matrix\n",
      "TP:       105 FN:         2\n",
      "FP:         4 TN:        89\n",
      "Precision: 0.978021978021978\n",
      "F1 score: 0.967391304347826\n"
     ]
    }
   ],
   "source": [
    "optuna.logging.set_verbosity(optuna.logging.INFO)\n",
    "\n",
    "study = optuna.create_study(study_name='xgboost hyperparameter tuning - multi-gpu', \n",
    "                            direction='maximize',\n",
    "                           ) # sampler=optuna.samplers.GridSampler(search_space))\n",
    "\n",
    "study.optimize(objective, n_trials=20, timeout=60*60)"
   ]
  },
  {
   "cell_type": "code",
   "execution_count": 21,
   "metadata": {},
   "outputs": [],
   "source": [
    "client.close()"
   ]
  },
  {
   "cell_type": "code",
   "execution_count": 22,
   "metadata": {},
   "outputs": [
    {
     "name": "stdout",
     "output_type": "stream",
     "text": [
      "Number of finished trials: 20\n",
      "{'n_estimators': 350, 'booster': 'gbtree', 'lambda': 1.8970669389333764e-05, 'alpha': 0.024036625469518617, 'subsample': 0.23979989140067695, 'colsample_bytree': 0.23819929305467455, 'max_depth': 3, 'min_child_weight': 3, 'eta': 1.0661204615804224e-07, 'gamma': 0.27526016499021516, 'grow_policy': 'lossguide'}\n",
      "0.972972972972973\n"
     ]
    }
   ],
   "source": [
    "print(\"Number of finished trials: {}\".format(len(study.trials)))\n",
    "trials = study.best_trials\n",
    "trial_score = max([trial.values[0] for trial in trials])\n",
    "best_trial_params = [trial.params for trial in trials if trial.values[0] == trial_score][0]\n",
    "print(best_trial_params)\n",
    "print(trial_score)\n",
    "\n",
    "trial_scores = [trial.values for trial in trials]\n",
    "trial_params = [trial.params for trial in trials]\n",
    "\n",
    "study_df = study.trials_dataframe()\n",
    "study_df.to_csv(\"hyperopt_tuning_trial_{}_xgboost.csv\".format(\n",
    "    datetime.datetime.now().strftime('%Y_%m_%d_%H_%M')))"
   ]
  },
  {
   "cell_type": "code",
   "execution_count": 23,
   "metadata": {},
   "outputs": [
    {
     "data": {
      "text/html": [
       "<div>\n",
       "<style scoped>\n",
       "    .dataframe tbody tr th:only-of-type {\n",
       "        vertical-align: middle;\n",
       "    }\n",
       "\n",
       "    .dataframe tbody tr th {\n",
       "        vertical-align: top;\n",
       "    }\n",
       "\n",
       "    .dataframe thead th {\n",
       "        text-align: right;\n",
       "    }\n",
       "</style>\n",
       "<table border=\"1\" class=\"dataframe\">\n",
       "  <thead>\n",
       "    <tr style=\"text-align: right;\">\n",
       "      <th></th>\n",
       "      <th>number</th>\n",
       "      <th>value</th>\n",
       "      <th>datetime_start</th>\n",
       "      <th>datetime_complete</th>\n",
       "      <th>duration</th>\n",
       "      <th>params_alpha</th>\n",
       "      <th>params_booster</th>\n",
       "      <th>params_colsample_bytree</th>\n",
       "      <th>params_eta</th>\n",
       "      <th>params_gamma</th>\n",
       "      <th>params_grow_policy</th>\n",
       "      <th>params_lambda</th>\n",
       "      <th>params_max_depth</th>\n",
       "      <th>params_min_child_weight</th>\n",
       "      <th>params_n_estimators</th>\n",
       "      <th>params_subsample</th>\n",
       "      <th>state</th>\n",
       "    </tr>\n",
       "  </thead>\n",
       "  <tbody>\n",
       "    <tr>\n",
       "      <th>0</th>\n",
       "      <td>0</td>\n",
       "      <td>0.955556</td>\n",
       "      <td>2022-04-28 09:15:32.558132</td>\n",
       "      <td>2022-04-28 09:15:35.091990</td>\n",
       "      <td>0 days 00:00:02.533858</td>\n",
       "      <td>3.939064e-08</td>\n",
       "      <td>dart</td>\n",
       "      <td>0.299083</td>\n",
       "      <td>1.232359e-06</td>\n",
       "      <td>5.494639e-07</td>\n",
       "      <td>depthwise</td>\n",
       "      <td>2.601141e-03</td>\n",
       "      <td>11</td>\n",
       "      <td>3</td>\n",
       "      <td>400</td>\n",
       "      <td>0.196324</td>\n",
       "      <td>COMPLETE</td>\n",
       "    </tr>\n",
       "    <tr>\n",
       "      <th>1</th>\n",
       "      <td>1</td>\n",
       "      <td>0.962162</td>\n",
       "      <td>2022-04-28 09:15:35.093591</td>\n",
       "      <td>2022-04-28 09:15:36.989459</td>\n",
       "      <td>0 days 00:00:01.895868</td>\n",
       "      <td>5.738441e-02</td>\n",
       "      <td>dart</td>\n",
       "      <td>0.171902</td>\n",
       "      <td>3.588054e-06</td>\n",
       "      <td>5.733768e-08</td>\n",
       "      <td>depthwise</td>\n",
       "      <td>4.504162e-01</td>\n",
       "      <td>6</td>\n",
       "      <td>3</td>\n",
       "      <td>350</td>\n",
       "      <td>0.168489</td>\n",
       "      <td>COMPLETE</td>\n",
       "    </tr>\n",
       "    <tr>\n",
       "      <th>2</th>\n",
       "      <td>2</td>\n",
       "      <td>0.967391</td>\n",
       "      <td>2022-04-28 09:15:36.991621</td>\n",
       "      <td>2022-04-28 09:15:38.912904</td>\n",
       "      <td>0 days 00:00:01.921283</td>\n",
       "      <td>4.286208e-01</td>\n",
       "      <td>gbtree</td>\n",
       "      <td>0.266395</td>\n",
       "      <td>9.239777e-02</td>\n",
       "      <td>3.014548e-02</td>\n",
       "      <td>lossguide</td>\n",
       "      <td>2.824595e-06</td>\n",
       "      <td>11</td>\n",
       "      <td>3</td>\n",
       "      <td>200</td>\n",
       "      <td>0.110179</td>\n",
       "      <td>COMPLETE</td>\n",
       "    </tr>\n",
       "    <tr>\n",
       "      <th>3</th>\n",
       "      <td>3</td>\n",
       "      <td>0.972678</td>\n",
       "      <td>2022-04-28 09:15:38.914682</td>\n",
       "      <td>2022-04-28 09:15:40.825771</td>\n",
       "      <td>0 days 00:00:01.911089</td>\n",
       "      <td>6.198471e-01</td>\n",
       "      <td>gbtree</td>\n",
       "      <td>0.190803</td>\n",
       "      <td>1.403062e-08</td>\n",
       "      <td>5.642750e-04</td>\n",
       "      <td>lossguide</td>\n",
       "      <td>1.347626e-05</td>\n",
       "      <td>7</td>\n",
       "      <td>2</td>\n",
       "      <td>250</td>\n",
       "      <td>0.245283</td>\n",
       "      <td>COMPLETE</td>\n",
       "    </tr>\n",
       "    <tr>\n",
       "      <th>4</th>\n",
       "      <td>4</td>\n",
       "      <td>0.967391</td>\n",
       "      <td>2022-04-28 09:15:40.827102</td>\n",
       "      <td>2022-04-28 09:15:42.824404</td>\n",
       "      <td>0 days 00:00:01.997302</td>\n",
       "      <td>1.711444e-04</td>\n",
       "      <td>dart</td>\n",
       "      <td>0.175506</td>\n",
       "      <td>9.035440e-05</td>\n",
       "      <td>2.526556e-06</td>\n",
       "      <td>lossguide</td>\n",
       "      <td>7.972473e-08</td>\n",
       "      <td>13</td>\n",
       "      <td>3</td>\n",
       "      <td>300</td>\n",
       "      <td>0.214392</td>\n",
       "      <td>COMPLETE</td>\n",
       "    </tr>\n",
       "    <tr>\n",
       "      <th>5</th>\n",
       "      <td>5</td>\n",
       "      <td>0.967033</td>\n",
       "      <td>2022-04-28 09:15:42.825426</td>\n",
       "      <td>2022-04-28 09:15:44.748824</td>\n",
       "      <td>0 days 00:00:01.923398</td>\n",
       "      <td>5.465633e-05</td>\n",
       "      <td>dart</td>\n",
       "      <td>0.225603</td>\n",
       "      <td>2.218236e-06</td>\n",
       "      <td>1.270720e-05</td>\n",
       "      <td>depthwise</td>\n",
       "      <td>8.232664e-02</td>\n",
       "      <td>9</td>\n",
       "      <td>4</td>\n",
       "      <td>150</td>\n",
       "      <td>0.290270</td>\n",
       "      <td>COMPLETE</td>\n",
       "    </tr>\n",
       "    <tr>\n",
       "      <th>6</th>\n",
       "      <td>6</td>\n",
       "      <td>0.961326</td>\n",
       "      <td>2022-04-28 09:15:44.749815</td>\n",
       "      <td>2022-04-28 09:15:46.751436</td>\n",
       "      <td>0 days 00:00:02.001621</td>\n",
       "      <td>5.082360e-01</td>\n",
       "      <td>gbtree</td>\n",
       "      <td>0.219306</td>\n",
       "      <td>3.386933e-07</td>\n",
       "      <td>1.898546e-03</td>\n",
       "      <td>lossguide</td>\n",
       "      <td>1.318462e-03</td>\n",
       "      <td>5</td>\n",
       "      <td>4</td>\n",
       "      <td>400</td>\n",
       "      <td>0.155859</td>\n",
       "      <td>COMPLETE</td>\n",
       "    </tr>\n",
       "    <tr>\n",
       "      <th>7</th>\n",
       "      <td>7</td>\n",
       "      <td>0.972678</td>\n",
       "      <td>2022-04-28 09:15:46.753154</td>\n",
       "      <td>2022-04-28 09:15:48.803610</td>\n",
       "      <td>0 days 00:00:02.050456</td>\n",
       "      <td>3.929390e-05</td>\n",
       "      <td>dart</td>\n",
       "      <td>0.293743</td>\n",
       "      <td>4.465861e-05</td>\n",
       "      <td>1.383865e-05</td>\n",
       "      <td>lossguide</td>\n",
       "      <td>2.603064e-01</td>\n",
       "      <td>6</td>\n",
       "      <td>2</td>\n",
       "      <td>300</td>\n",
       "      <td>0.128978</td>\n",
       "      <td>COMPLETE</td>\n",
       "    </tr>\n",
       "    <tr>\n",
       "      <th>8</th>\n",
       "      <td>8</td>\n",
       "      <td>0.967033</td>\n",
       "      <td>2022-04-28 09:15:48.805416</td>\n",
       "      <td>2022-04-28 09:15:51.102972</td>\n",
       "      <td>0 days 00:00:02.297556</td>\n",
       "      <td>5.912653e-01</td>\n",
       "      <td>dart</td>\n",
       "      <td>0.210977</td>\n",
       "      <td>1.558590e-06</td>\n",
       "      <td>2.407107e-08</td>\n",
       "      <td>depthwise</td>\n",
       "      <td>1.652740e-06</td>\n",
       "      <td>8</td>\n",
       "      <td>2</td>\n",
       "      <td>150</td>\n",
       "      <td>0.263075</td>\n",
       "      <td>COMPLETE</td>\n",
       "    </tr>\n",
       "    <tr>\n",
       "      <th>9</th>\n",
       "      <td>9</td>\n",
       "      <td>0.949721</td>\n",
       "      <td>2022-04-28 09:15:51.106179</td>\n",
       "      <td>2022-04-28 09:15:53.201159</td>\n",
       "      <td>0 days 00:00:02.094980</td>\n",
       "      <td>7.627801e-03</td>\n",
       "      <td>dart</td>\n",
       "      <td>0.130622</td>\n",
       "      <td>1.036549e-08</td>\n",
       "      <td>1.638347e-05</td>\n",
       "      <td>lossguide</td>\n",
       "      <td>3.707541e-01</td>\n",
       "      <td>12</td>\n",
       "      <td>5</td>\n",
       "      <td>300</td>\n",
       "      <td>0.105727</td>\n",
       "      <td>COMPLETE</td>\n",
       "    </tr>\n",
       "    <tr>\n",
       "      <th>10</th>\n",
       "      <td>10</td>\n",
       "      <td>0.967742</td>\n",
       "      <td>2022-04-28 09:15:53.202853</td>\n",
       "      <td>2022-04-28 09:15:55.163936</td>\n",
       "      <td>0 days 00:00:01.961083</td>\n",
       "      <td>1.216979e-08</td>\n",
       "      <td>gbtree</td>\n",
       "      <td>0.114176</td>\n",
       "      <td>2.807618e-02</td>\n",
       "      <td>1.234450e-03</td>\n",
       "      <td>lossguide</td>\n",
       "      <td>6.259983e-05</td>\n",
       "      <td>3</td>\n",
       "      <td>2</td>\n",
       "      <td>250</td>\n",
       "      <td>0.244687</td>\n",
       "      <td>COMPLETE</td>\n",
       "    </tr>\n",
       "    <tr>\n",
       "      <th>11</th>\n",
       "      <td>11</td>\n",
       "      <td>0.967391</td>\n",
       "      <td>2022-04-28 09:15:55.165904</td>\n",
       "      <td>2022-04-28 09:15:57.163657</td>\n",
       "      <td>0 days 00:00:01.997753</td>\n",
       "      <td>1.553991e-05</td>\n",
       "      <td>gbtree</td>\n",
       "      <td>0.258772</td>\n",
       "      <td>6.737514e-04</td>\n",
       "      <td>3.996914e-04</td>\n",
       "      <td>lossguide</td>\n",
       "      <td>8.486391e-05</td>\n",
       "      <td>7</td>\n",
       "      <td>2</td>\n",
       "      <td>100</td>\n",
       "      <td>0.230536</td>\n",
       "      <td>COMPLETE</td>\n",
       "    </tr>\n",
       "    <tr>\n",
       "      <th>12</th>\n",
       "      <td>12</td>\n",
       "      <td>0.937853</td>\n",
       "      <td>2022-04-28 09:15:57.165329</td>\n",
       "      <td>2022-04-28 09:15:59.122325</td>\n",
       "      <td>0 days 00:00:01.956996</td>\n",
       "      <td>8.368617e-07</td>\n",
       "      <td>gbtree</td>\n",
       "      <td>0.165514</td>\n",
       "      <td>2.379288e-08</td>\n",
       "      <td>6.856335e-02</td>\n",
       "      <td>lossguide</td>\n",
       "      <td>6.058504e-03</td>\n",
       "      <td>4</td>\n",
       "      <td>2</td>\n",
       "      <td>250</td>\n",
       "      <td>0.146275</td>\n",
       "      <td>COMPLETE</td>\n",
       "    </tr>\n",
       "    <tr>\n",
       "      <th>13</th>\n",
       "      <td>13</td>\n",
       "      <td>0.962162</td>\n",
       "      <td>2022-04-28 09:15:59.124075</td>\n",
       "      <td>2022-04-28 09:16:00.946944</td>\n",
       "      <td>0 days 00:00:01.822869</td>\n",
       "      <td>3.368141e-03</td>\n",
       "      <td>gbtree</td>\n",
       "      <td>0.253922</td>\n",
       "      <td>2.888334e-04</td>\n",
       "      <td>9.260813e-05</td>\n",
       "      <td>lossguide</td>\n",
       "      <td>4.642999e-06</td>\n",
       "      <td>6</td>\n",
       "      <td>2</td>\n",
       "      <td>250</td>\n",
       "      <td>0.193285</td>\n",
       "      <td>COMPLETE</td>\n",
       "    </tr>\n",
       "    <tr>\n",
       "      <th>14</th>\n",
       "      <td>14</td>\n",
       "      <td>0.967391</td>\n",
       "      <td>2022-04-28 09:16:00.948799</td>\n",
       "      <td>2022-04-28 09:16:02.752509</td>\n",
       "      <td>0 days 00:00:01.803710</td>\n",
       "      <td>6.798396e-04</td>\n",
       "      <td>gbtree</td>\n",
       "      <td>0.294792</td>\n",
       "      <td>9.648272e-01</td>\n",
       "      <td>6.355490e-03</td>\n",
       "      <td>lossguide</td>\n",
       "      <td>2.809363e-08</td>\n",
       "      <td>15</td>\n",
       "      <td>5</td>\n",
       "      <td>200</td>\n",
       "      <td>0.275240</td>\n",
       "      <td>COMPLETE</td>\n",
       "    </tr>\n",
       "    <tr>\n",
       "      <th>15</th>\n",
       "      <td>15</td>\n",
       "      <td>0.972678</td>\n",
       "      <td>2022-04-28 09:16:02.753873</td>\n",
       "      <td>2022-04-28 09:16:04.710353</td>\n",
       "      <td>0 days 00:00:01.956480</td>\n",
       "      <td>3.402776e-06</td>\n",
       "      <td>dart</td>\n",
       "      <td>0.193246</td>\n",
       "      <td>3.938422e-05</td>\n",
       "      <td>1.299048e-04</td>\n",
       "      <td>lossguide</td>\n",
       "      <td>3.505274e-04</td>\n",
       "      <td>9</td>\n",
       "      <td>2</td>\n",
       "      <td>300</td>\n",
       "      <td>0.134684</td>\n",
       "      <td>COMPLETE</td>\n",
       "    </tr>\n",
       "    <tr>\n",
       "      <th>16</th>\n",
       "      <td>16</td>\n",
       "      <td>0.967742</td>\n",
       "      <td>2022-04-28 09:16:04.712483</td>\n",
       "      <td>2022-04-28 09:16:06.672447</td>\n",
       "      <td>0 days 00:00:01.959964</td>\n",
       "      <td>3.313183e-07</td>\n",
       "      <td>dart</td>\n",
       "      <td>0.143160</td>\n",
       "      <td>4.763413e-03</td>\n",
       "      <td>4.010630e-07</td>\n",
       "      <td>lossguide</td>\n",
       "      <td>1.703685e-02</td>\n",
       "      <td>7</td>\n",
       "      <td>4</td>\n",
       "      <td>100</td>\n",
       "      <td>0.173353</td>\n",
       "      <td>COMPLETE</td>\n",
       "    </tr>\n",
       "    <tr>\n",
       "      <th>17</th>\n",
       "      <td>17</td>\n",
       "      <td>0.972973</td>\n",
       "      <td>2022-04-28 09:16:06.673874</td>\n",
       "      <td>2022-04-28 09:16:08.582908</td>\n",
       "      <td>0 days 00:00:01.909034</td>\n",
       "      <td>2.403663e-02</td>\n",
       "      <td>gbtree</td>\n",
       "      <td>0.238199</td>\n",
       "      <td>1.066120e-07</td>\n",
       "      <td>2.752602e-01</td>\n",
       "      <td>lossguide</td>\n",
       "      <td>1.897067e-05</td>\n",
       "      <td>3</td>\n",
       "      <td>3</td>\n",
       "      <td>350</td>\n",
       "      <td>0.239800</td>\n",
       "      <td>COMPLETE</td>\n",
       "    </tr>\n",
       "    <tr>\n",
       "      <th>18</th>\n",
       "      <td>18</td>\n",
       "      <td>0.955556</td>\n",
       "      <td>2022-04-28 09:16:08.585046</td>\n",
       "      <td>2022-04-28 09:16:10.550883</td>\n",
       "      <td>0 days 00:00:01.965837</td>\n",
       "      <td>3.056196e-06</td>\n",
       "      <td>dart</td>\n",
       "      <td>0.237232</td>\n",
       "      <td>2.035177e-05</td>\n",
       "      <td>4.297000e-01</td>\n",
       "      <td>depthwise</td>\n",
       "      <td>6.628447e-04</td>\n",
       "      <td>9</td>\n",
       "      <td>3</td>\n",
       "      <td>350</td>\n",
       "      <td>0.208435</td>\n",
       "      <td>COMPLETE</td>\n",
       "    </tr>\n",
       "    <tr>\n",
       "      <th>19</th>\n",
       "      <td>19</td>\n",
       "      <td>0.967391</td>\n",
       "      <td>2022-04-28 09:16:10.552819</td>\n",
       "      <td>2022-04-28 09:16:12.469438</td>\n",
       "      <td>0 days 00:00:01.916619</td>\n",
       "      <td>3.881690e-02</td>\n",
       "      <td>gbtree</td>\n",
       "      <td>0.204597</td>\n",
       "      <td>6.209213e-08</td>\n",
       "      <td>1.699621e-01</td>\n",
       "      <td>lossguide</td>\n",
       "      <td>3.196603e-07</td>\n",
       "      <td>3</td>\n",
       "      <td>3</td>\n",
       "      <td>350</td>\n",
       "      <td>0.246423</td>\n",
       "      <td>COMPLETE</td>\n",
       "    </tr>\n",
       "  </tbody>\n",
       "</table>\n",
       "</div>"
      ],
      "text/plain": [
       "    number     value             datetime_start          datetime_complete  \\\n",
       "0        0  0.955556 2022-04-28 09:15:32.558132 2022-04-28 09:15:35.091990   \n",
       "1        1  0.962162 2022-04-28 09:15:35.093591 2022-04-28 09:15:36.989459   \n",
       "2        2  0.967391 2022-04-28 09:15:36.991621 2022-04-28 09:15:38.912904   \n",
       "3        3  0.972678 2022-04-28 09:15:38.914682 2022-04-28 09:15:40.825771   \n",
       "4        4  0.967391 2022-04-28 09:15:40.827102 2022-04-28 09:15:42.824404   \n",
       "5        5  0.967033 2022-04-28 09:15:42.825426 2022-04-28 09:15:44.748824   \n",
       "6        6  0.961326 2022-04-28 09:15:44.749815 2022-04-28 09:15:46.751436   \n",
       "7        7  0.972678 2022-04-28 09:15:46.753154 2022-04-28 09:15:48.803610   \n",
       "8        8  0.967033 2022-04-28 09:15:48.805416 2022-04-28 09:15:51.102972   \n",
       "9        9  0.949721 2022-04-28 09:15:51.106179 2022-04-28 09:15:53.201159   \n",
       "10      10  0.967742 2022-04-28 09:15:53.202853 2022-04-28 09:15:55.163936   \n",
       "11      11  0.967391 2022-04-28 09:15:55.165904 2022-04-28 09:15:57.163657   \n",
       "12      12  0.937853 2022-04-28 09:15:57.165329 2022-04-28 09:15:59.122325   \n",
       "13      13  0.962162 2022-04-28 09:15:59.124075 2022-04-28 09:16:00.946944   \n",
       "14      14  0.967391 2022-04-28 09:16:00.948799 2022-04-28 09:16:02.752509   \n",
       "15      15  0.972678 2022-04-28 09:16:02.753873 2022-04-28 09:16:04.710353   \n",
       "16      16  0.967742 2022-04-28 09:16:04.712483 2022-04-28 09:16:06.672447   \n",
       "17      17  0.972973 2022-04-28 09:16:06.673874 2022-04-28 09:16:08.582908   \n",
       "18      18  0.955556 2022-04-28 09:16:08.585046 2022-04-28 09:16:10.550883   \n",
       "19      19  0.967391 2022-04-28 09:16:10.552819 2022-04-28 09:16:12.469438   \n",
       "\n",
       "                 duration  params_alpha params_booster  \\\n",
       "0  0 days 00:00:02.533858  3.939064e-08           dart   \n",
       "1  0 days 00:00:01.895868  5.738441e-02           dart   \n",
       "2  0 days 00:00:01.921283  4.286208e-01         gbtree   \n",
       "3  0 days 00:00:01.911089  6.198471e-01         gbtree   \n",
       "4  0 days 00:00:01.997302  1.711444e-04           dart   \n",
       "5  0 days 00:00:01.923398  5.465633e-05           dart   \n",
       "6  0 days 00:00:02.001621  5.082360e-01         gbtree   \n",
       "7  0 days 00:00:02.050456  3.929390e-05           dart   \n",
       "8  0 days 00:00:02.297556  5.912653e-01           dart   \n",
       "9  0 days 00:00:02.094980  7.627801e-03           dart   \n",
       "10 0 days 00:00:01.961083  1.216979e-08         gbtree   \n",
       "11 0 days 00:00:01.997753  1.553991e-05         gbtree   \n",
       "12 0 days 00:00:01.956996  8.368617e-07         gbtree   \n",
       "13 0 days 00:00:01.822869  3.368141e-03         gbtree   \n",
       "14 0 days 00:00:01.803710  6.798396e-04         gbtree   \n",
       "15 0 days 00:00:01.956480  3.402776e-06           dart   \n",
       "16 0 days 00:00:01.959964  3.313183e-07           dart   \n",
       "17 0 days 00:00:01.909034  2.403663e-02         gbtree   \n",
       "18 0 days 00:00:01.965837  3.056196e-06           dart   \n",
       "19 0 days 00:00:01.916619  3.881690e-02         gbtree   \n",
       "\n",
       "    params_colsample_bytree    params_eta  params_gamma params_grow_policy  \\\n",
       "0                  0.299083  1.232359e-06  5.494639e-07          depthwise   \n",
       "1                  0.171902  3.588054e-06  5.733768e-08          depthwise   \n",
       "2                  0.266395  9.239777e-02  3.014548e-02          lossguide   \n",
       "3                  0.190803  1.403062e-08  5.642750e-04          lossguide   \n",
       "4                  0.175506  9.035440e-05  2.526556e-06          lossguide   \n",
       "5                  0.225603  2.218236e-06  1.270720e-05          depthwise   \n",
       "6                  0.219306  3.386933e-07  1.898546e-03          lossguide   \n",
       "7                  0.293743  4.465861e-05  1.383865e-05          lossguide   \n",
       "8                  0.210977  1.558590e-06  2.407107e-08          depthwise   \n",
       "9                  0.130622  1.036549e-08  1.638347e-05          lossguide   \n",
       "10                 0.114176  2.807618e-02  1.234450e-03          lossguide   \n",
       "11                 0.258772  6.737514e-04  3.996914e-04          lossguide   \n",
       "12                 0.165514  2.379288e-08  6.856335e-02          lossguide   \n",
       "13                 0.253922  2.888334e-04  9.260813e-05          lossguide   \n",
       "14                 0.294792  9.648272e-01  6.355490e-03          lossguide   \n",
       "15                 0.193246  3.938422e-05  1.299048e-04          lossguide   \n",
       "16                 0.143160  4.763413e-03  4.010630e-07          lossguide   \n",
       "17                 0.238199  1.066120e-07  2.752602e-01          lossguide   \n",
       "18                 0.237232  2.035177e-05  4.297000e-01          depthwise   \n",
       "19                 0.204597  6.209213e-08  1.699621e-01          lossguide   \n",
       "\n",
       "    params_lambda  params_max_depth  params_min_child_weight  \\\n",
       "0    2.601141e-03                11                        3   \n",
       "1    4.504162e-01                 6                        3   \n",
       "2    2.824595e-06                11                        3   \n",
       "3    1.347626e-05                 7                        2   \n",
       "4    7.972473e-08                13                        3   \n",
       "5    8.232664e-02                 9                        4   \n",
       "6    1.318462e-03                 5                        4   \n",
       "7    2.603064e-01                 6                        2   \n",
       "8    1.652740e-06                 8                        2   \n",
       "9    3.707541e-01                12                        5   \n",
       "10   6.259983e-05                 3                        2   \n",
       "11   8.486391e-05                 7                        2   \n",
       "12   6.058504e-03                 4                        2   \n",
       "13   4.642999e-06                 6                        2   \n",
       "14   2.809363e-08                15                        5   \n",
       "15   3.505274e-04                 9                        2   \n",
       "16   1.703685e-02                 7                        4   \n",
       "17   1.897067e-05                 3                        3   \n",
       "18   6.628447e-04                 9                        3   \n",
       "19   3.196603e-07                 3                        3   \n",
       "\n",
       "    params_n_estimators  params_subsample     state  \n",
       "0                   400          0.196324  COMPLETE  \n",
       "1                   350          0.168489  COMPLETE  \n",
       "2                   200          0.110179  COMPLETE  \n",
       "3                   250          0.245283  COMPLETE  \n",
       "4                   300          0.214392  COMPLETE  \n",
       "5                   150          0.290270  COMPLETE  \n",
       "6                   400          0.155859  COMPLETE  \n",
       "7                   300          0.128978  COMPLETE  \n",
       "8                   150          0.263075  COMPLETE  \n",
       "9                   300          0.105727  COMPLETE  \n",
       "10                  250          0.244687  COMPLETE  \n",
       "11                  100          0.230536  COMPLETE  \n",
       "12                  250          0.146275  COMPLETE  \n",
       "13                  250          0.193285  COMPLETE  \n",
       "14                  200          0.275240  COMPLETE  \n",
       "15                  300          0.134684  COMPLETE  \n",
       "16                  100          0.173353  COMPLETE  \n",
       "17                  350          0.239800  COMPLETE  \n",
       "18                  350          0.208435  COMPLETE  \n",
       "19                  350          0.246423  COMPLETE  "
      ]
     },
     "execution_count": 23,
     "metadata": {},
     "output_type": "execute_result"
    }
   ],
   "source": [
    "study_df"
   ]
  },
  {
   "cell_type": "code",
   "execution_count": 24,
   "metadata": {},
   "outputs": [
    {
     "data": {
      "text/plain": [
       "<AxesSubplot:title={'center':'Optimization History Plot'}, xlabel='#Trials', ylabel='Objective Value'>"
      ]
     },
     "execution_count": 24,
     "metadata": {},
     "output_type": "execute_result"
    },
    {
     "data": {
      "image/png": "[encoded data removed]",
      "text/plain": [
       "<Figure size 432x288 with 1 Axes>"
      ]
     },
     "metadata": {},
     "output_type": "display_data"
    }
   ],
   "source": [
    "optuna.visualization.matplotlib.plot_optimization_history(study)"
   ]
  },
  {
   "cell_type": "code",
   "execution_count": 25,
   "metadata": {},
   "outputs": [
    {
     "data": {
      "text/plain": [
       "<AxesSubplot:title={'center':'Hyperparameter Importances'}, xlabel='Importance for Objective Value', ylabel='Hyperparameter'>"
      ]
     },
     "execution_count": 25,
     "metadata": {},
     "output_type": "execute_result"
    },
    {
     "data": {
      "image/png": "[encoded data removed]",
      "text/plain": [
       "<Figure size 432x288 with 1 Axes>"
      ]
     },
     "metadata": {},
     "output_type": "display_data"
    }
   ],
   "source": [
    "optuna.visualization.matplotlib.plot_param_importances(study)"
   ]
  },
  {
   "cell_type": "markdown",
   "metadata": {},
   "source": [
    "## Define and train model given the best hyperparameters"
   ]
  },
  {
   "cell_type": "code",
   "execution_count": 26,
   "metadata": {},
   "outputs": [],
   "source": [
    "X_train, X_test, y_train, y_test = train_test_split(X, y, test_size=0.2)"
   ]
  },
  {
   "cell_type": "code",
   "execution_count": 27,
   "metadata": {},
   "outputs": [
    {
     "data": {
      "text/html": [
       "<div>\n",
       "<style scoped>\n",
       "    .dataframe tbody tr th:only-of-type {\n",
       "        vertical-align: middle;\n",
       "    }\n",
       "\n",
       "    .dataframe tbody tr th {\n",
       "        vertical-align: top;\n",
       "    }\n",
       "\n",
       "    .dataframe thead th {\n",
       "        text-align: right;\n",
       "    }\n",
       "</style>\n",
       "<table border=\"1\" class=\"dataframe\">\n",
       "  <thead>\n",
       "    <tr style=\"text-align: right;\">\n",
       "      <th></th>\n",
       "      <th>count</th>\n",
       "      <th>mean</th>\n",
       "      <th>std</th>\n",
       "      <th>min</th>\n",
       "      <th>25%</th>\n",
       "      <th>50%</th>\n",
       "      <th>75%</th>\n",
       "      <th>max</th>\n",
       "    </tr>\n",
       "  </thead>\n",
       "  <tbody>\n",
       "    <tr>\n",
       "      <th>sur_refl_b01_1</th>\n",
       "      <td>800.0</td>\n",
       "      <td>1244.28250</td>\n",
       "      <td>1311.365329</td>\n",
       "      <td>8.0</td>\n",
       "      <td>248.25</td>\n",
       "      <td>935.0</td>\n",
       "      <td>1894.25</td>\n",
       "      <td>8982.0</td>\n",
       "    </tr>\n",
       "    <tr>\n",
       "      <th>sur_refl_b02_1</th>\n",
       "      <td>800.0</td>\n",
       "      <td>1620.20625</td>\n",
       "      <td>1561.348656</td>\n",
       "      <td>1.0</td>\n",
       "      <td>176.00</td>\n",
       "      <td>1483.5</td>\n",
       "      <td>2694.50</td>\n",
       "      <td>8617.0</td>\n",
       "    </tr>\n",
       "    <tr>\n",
       "      <th>sur_refl_b03_1</th>\n",
       "      <td>800.0</td>\n",
       "      <td>754.92125</td>\n",
       "      <td>1021.248986</td>\n",
       "      <td>-100.0</td>\n",
       "      <td>291.50</td>\n",
       "      <td>562.0</td>\n",
       "      <td>856.25</td>\n",
       "      <td>8844.0</td>\n",
       "    </tr>\n",
       "    <tr>\n",
       "      <th>sur_refl_b04_1</th>\n",
       "      <td>800.0</td>\n",
       "      <td>1048.28000</td>\n",
       "      <td>1080.430870</td>\n",
       "      <td>6.0</td>\n",
       "      <td>417.75</td>\n",
       "      <td>847.0</td>\n",
       "      <td>1314.25</td>\n",
       "      <td>9056.0</td>\n",
       "    </tr>\n",
       "    <tr>\n",
       "      <th>sur_refl_b05_1</th>\n",
       "      <td>800.0</td>\n",
       "      <td>2001.36000</td>\n",
       "      <td>1465.271594</td>\n",
       "      <td>-92.0</td>\n",
       "      <td>552.00</td>\n",
       "      <td>1904.0</td>\n",
       "      <td>3226.00</td>\n",
       "      <td>6382.0</td>\n",
       "    </tr>\n",
       "    <tr>\n",
       "      <th>sur_refl_b06_1</th>\n",
       "      <td>800.0</td>\n",
       "      <td>1959.36000</td>\n",
       "      <td>1544.470663</td>\n",
       "      <td>51.0</td>\n",
       "      <td>504.75</td>\n",
       "      <td>1617.5</td>\n",
       "      <td>3269.25</td>\n",
       "      <td>6610.0</td>\n",
       "    </tr>\n",
       "    <tr>\n",
       "      <th>sur_refl_b07_1</th>\n",
       "      <td>800.0</td>\n",
       "      <td>1608.93750</td>\n",
       "      <td>1397.582965</td>\n",
       "      <td>0.0</td>\n",
       "      <td>307.75</td>\n",
       "      <td>1252.0</td>\n",
       "      <td>2728.50</td>\n",
       "      <td>6128.0</td>\n",
       "    </tr>\n",
       "    <tr>\n",
       "      <th>ndvi</th>\n",
       "      <td>800.0</td>\n",
       "      <td>114.85625</td>\n",
       "      <td>2565.061644</td>\n",
       "      <td>-9493.0</td>\n",
       "      <td>-1462.50</td>\n",
       "      <td>844.5</td>\n",
       "      <td>1759.25</td>\n",
       "      <td>6732.0</td>\n",
       "    </tr>\n",
       "    <tr>\n",
       "      <th>ndwi1</th>\n",
       "      <td>800.0</td>\n",
       "      <td>-2247.43375</td>\n",
       "      <td>3404.126875</td>\n",
       "      <td>-9862.0</td>\n",
       "      <td>-4408.50</td>\n",
       "      <td>-1565.0</td>\n",
       "      <td>-766.75</td>\n",
       "      <td>8823.0</td>\n",
       "    </tr>\n",
       "    <tr>\n",
       "      <th>ndwi2</th>\n",
       "      <td>800.0</td>\n",
       "      <td>-785.47750</td>\n",
       "      <td>3848.638390</td>\n",
       "      <td>-9692.0</td>\n",
       "      <td>-2531.00</td>\n",
       "      <td>-623.0</td>\n",
       "      <td>951.00</td>\n",
       "      <td>10000.0</td>\n",
       "    </tr>\n",
       "  </tbody>\n",
       "</table>\n",
       "</div>"
      ],
      "text/plain": [
       "                count        mean          std     min      25%     50%  \\\n",
       "sur_refl_b01_1  800.0  1244.28250  1311.365329     8.0   248.25   935.0   \n",
       "sur_refl_b02_1  800.0  1620.20625  1561.348656     1.0   176.00  1483.5   \n",
       "sur_refl_b03_1  800.0   754.92125  1021.248986  -100.0   291.50   562.0   \n",
       "sur_refl_b04_1  800.0  1048.28000  1080.430870     6.0   417.75   847.0   \n",
       "sur_refl_b05_1  800.0  2001.36000  1465.271594   -92.0   552.00  1904.0   \n",
       "sur_refl_b06_1  800.0  1959.36000  1544.470663    51.0   504.75  1617.5   \n",
       "sur_refl_b07_1  800.0  1608.93750  1397.582965     0.0   307.75  1252.0   \n",
       "ndvi            800.0   114.85625  2565.061644 -9493.0 -1462.50   844.5   \n",
       "ndwi1           800.0 -2247.43375  3404.126875 -9862.0 -4408.50 -1565.0   \n",
       "ndwi2           800.0  -785.47750  3848.638390 -9692.0 -2531.00  -623.0   \n",
       "\n",
       "                    75%      max  \n",
       "sur_refl_b01_1  1894.25   8982.0  \n",
       "sur_refl_b02_1  2694.50   8617.0  \n",
       "sur_refl_b03_1   856.25   8844.0  \n",
       "sur_refl_b04_1  1314.25   9056.0  \n",
       "sur_refl_b05_1  3226.00   6382.0  \n",
       "sur_refl_b06_1  3269.25   6610.0  \n",
       "sur_refl_b07_1  2728.50   6128.0  \n",
       "ndvi            1759.25   6732.0  \n",
       "ndwi1           -766.75   8823.0  \n",
       "ndwi2            951.00  10000.0  "
      ]
     },
     "execution_count": 27,
     "metadata": {},
     "output_type": "execute_result"
    }
   ],
   "source": [
    "X_train.describe().T"
   ]
  },
  {
   "cell_type": "code",
   "execution_count": 28,
   "metadata": {},
   "outputs": [
    {
     "name": "stdout",
     "output_type": "stream",
     "text": [
      "Using these params:\n",
      "{'alpha': 0.024036625469518617,\n",
      " 'booster': 'gbtree',\n",
      " 'colsample_bytree': 0.23819929305467455,\n",
      " 'eta': 1.0661204615804224e-07,\n",
      " 'gamma': 0.27526016499021516,\n",
      " 'grow_policy': 'lossguide',\n",
      " 'lambda': 1.8970669389333764e-05,\n",
      " 'max_depth': 3,\n",
      " 'min_child_weight': 3,\n",
      " 'n_estimators': 350,\n",
      " 'n_jobs': -1,\n",
      " 'objective': 'binary:logistic',\n",
      " 'subsample': 0.23979989140067695,\n",
      " 'tree_method': 'hist',\n",
      " 'verbosity': 0}\n"
     ]
    }
   ],
   "source": [
    "hyperparameters = best_trial_params\n",
    "\n",
    "base_params = {\"verbosity\": 0,\n",
    "               \"objective\": \"binary:logistic\",\n",
    "               \"tree_method\": \"hist\",\n",
    "               \"n_jobs\": -1}\n",
    "\n",
    "hyperparameters.update(base_params)\n",
    "print('Using these params:')\n",
    "pprint(hyperparameters)\n",
    "eval_set = [(X_train, y_train), (X_test, y_test)]\n",
    "eval_metric = [\"error\",\"auc\"]\n",
    "classifier = xgb.XGBClassifier(**hyperparameters)"
   ]
  },
  {
   "cell_type": "code",
   "execution_count": 29,
   "metadata": {},
   "outputs": [
    {
     "name": "stdout",
     "output_type": "stream",
     "text": [
      "[0]\tvalidation_0-error:0.02750\tvalidation_0-auc:0.97750\tvalidation_1-error:0.05500\tvalidation_1-auc:0.96076\n",
      "[1]\tvalidation_0-error:0.07625\tvalidation_0-auc:0.97995\tvalidation_1-error:0.13500\tvalidation_1-auc:0.97267\n",
      "[2]\tvalidation_0-error:0.09125\tvalidation_0-auc:0.97253\tvalidation_1-error:0.12500\tvalidation_1-auc:0.96812\n",
      "[3]\tvalidation_0-error:0.04625\tvalidation_0-auc:0.98938\tvalidation_1-error:0.09000\tvalidation_1-auc:0.98118\n",
      "[4]\tvalidation_0-error:0.02375\tvalidation_0-auc:0.99494\tvalidation_1-error:0.04500\tvalidation_1-auc:0.99099\n",
      "[5]\tvalidation_0-error:0.02375\tvalidation_0-auc:0.99542\tvalidation_1-error:0.05000\tvalidation_1-auc:0.99114\n",
      "[6]\tvalidation_0-error:0.02250\tvalidation_0-auc:0.99614\tvalidation_1-error:0.05000\tvalidation_1-auc:0.99465\n",
      "[7]\tvalidation_0-error:0.02500\tvalidation_0-auc:0.99744\tvalidation_1-error:0.05000\tvalidation_1-auc:0.99389\n",
      "[8]\tvalidation_0-error:0.02375\tvalidation_0-auc:0.99709\tvalidation_1-error:0.04500\tvalidation_1-auc:0.99450\n",
      "[9]\tvalidation_0-error:0.02250\tvalidation_0-auc:0.99733\tvalidation_1-error:0.03500\tvalidation_1-auc:0.99430\n",
      "[10]\tvalidation_0-error:0.02250\tvalidation_0-auc:0.99809\tvalidation_1-error:0.04000\tvalidation_1-auc:0.99550\n",
      "[11]\tvalidation_0-error:0.02250\tvalidation_0-auc:0.99759\tvalidation_1-error:0.03000\tvalidation_1-auc:0.99374\n",
      "[12]\tvalidation_0-error:0.02000\tvalidation_0-auc:0.99770\tvalidation_1-error:0.03000\tvalidation_1-auc:0.99455\n",
      "[13]\tvalidation_0-error:0.02000\tvalidation_0-auc:0.99789\tvalidation_1-error:0.03500\tvalidation_1-auc:0.99635\n",
      "[14]\tvalidation_0-error:0.02000\tvalidation_0-auc:0.99770\tvalidation_1-error:0.03500\tvalidation_1-auc:0.99625\n",
      "[15]\tvalidation_0-error:0.01875\tvalidation_0-auc:0.99765\tvalidation_1-error:0.03500\tvalidation_1-auc:0.99630\n",
      "[16]\tvalidation_0-error:0.02000\tvalidation_0-auc:0.99739\tvalidation_1-error:0.03500\tvalidation_1-auc:0.99655\n",
      "[17]\tvalidation_0-error:0.02000\tvalidation_0-auc:0.99741\tvalidation_1-error:0.03500\tvalidation_1-auc:0.99585\n",
      "[18]\tvalidation_0-error:0.02125\tvalidation_0-auc:0.99701\tvalidation_1-error:0.03500\tvalidation_1-auc:0.99620\n",
      "[19]\tvalidation_0-error:0.02000\tvalidation_0-auc:0.99720\tvalidation_1-error:0.03500\tvalidation_1-auc:0.99590\n",
      "[20]\tvalidation_0-error:0.02000\tvalidation_0-auc:0.99719\tvalidation_1-error:0.03500\tvalidation_1-auc:0.99590\n",
      "[21]\tvalidation_0-error:0.02000\tvalidation_0-auc:0.99689\tvalidation_1-error:0.03500\tvalidation_1-auc:0.99565\n",
      "[22]\tvalidation_0-error:0.02125\tvalidation_0-auc:0.99702\tvalidation_1-error:0.03500\tvalidation_1-auc:0.99605\n",
      "[23]\tvalidation_0-error:0.02125\tvalidation_0-auc:0.99648\tvalidation_1-error:0.03500\tvalidation_1-auc:0.99555\n",
      "[24]\tvalidation_0-error:0.02500\tvalidation_0-auc:0.99670\tvalidation_1-error:0.03500\tvalidation_1-auc:0.99545\n",
      "[25]\tvalidation_0-error:0.02250\tvalidation_0-auc:0.99662\tvalidation_1-error:0.03500\tvalidation_1-auc:0.99515\n",
      "[26]\tvalidation_0-error:0.02125\tvalidation_0-auc:0.99684\tvalidation_1-error:0.03500\tvalidation_1-auc:0.99535\n"
     ]
    },
    {
     "data": {
      "text/plain": [
       "XGBClassifier(alpha=0.024036625469518617, base_score=0.5, booster='gbtree',\n",
       "              colsample_bylevel=1, colsample_bynode=1,\n",
       "              colsample_bytree=0.23819929305467455, eta=1.0661204615804224e-07,\n",
       "              gamma=0.27526016499021516, gpu_id=-1, grow_policy='lossguide',\n",
       "              importance_type='gain', interaction_constraints='',\n",
       "              lambda=1.8970669389333764e-05, learning_rate=1.06612049e-07,\n",
       "              max_delta_step=0, max_depth=3, min_child_weight=3, missing=nan,\n",
       "              monotone_constraints='()', n_estimators=350, n_jobs=-1,\n",
       "              num_parallel_tree=1, random_state=0, reg_alpha=0.0240366254,\n",
       "              reg_lambda=1.89706698e-05, scale_pos_weight=1,\n",
       "              subsample=0.23979989140067695, tree_method='hist',\n",
       "              validate_parameters=1, verbosity=0)"
      ]
     },
     "execution_count": 29,
     "metadata": {},
     "output_type": "execute_result"
    }
   ],
   "source": [
    "classifier.fit(X_train, y_train, eval_set=eval_set, eval_metric=eval_metric, early_stopping_rounds=10)"
   ]
  },
  {
   "cell_type": "code",
   "execution_count": 30,
   "metadata": {},
   "outputs": [
    {
     "data": {
      "image/png": "[encoded data removed]",
      "text/plain": [
       "<Figure size 1080x576 with 1 Axes>"
      ]
     },
     "metadata": {},
     "output_type": "display_data"
    }
   ],
   "source": [
    "results = classifier.evals_result()\n",
    "epochs = len(results['validation_0']['error'])\n",
    "x_axis = range(0, epochs)\n",
    "fig, ax = plt.subplots(figsize=(15,8))\n",
    "ax.plot(x_axis, results['validation_0']['auc'], label='Train')\n",
    "ax.plot(x_axis, results['validation_1']['auc'], label='Test')\n",
    "ax.legend()\n",
    "plt.ylabel('AUC')\n",
    "plt.title('XGBoost AUC')\n",
    "plt.show()"
   ]
  },
  {
   "cell_type": "code",
   "execution_count": 31,
   "metadata": {},
   "outputs": [
    {
     "data": {
      "image/png": "[encoded data removed]",
      "text/plain": [
       "<Figure size 1080x576 with 1 Axes>"
      ]
     },
     "metadata": {},
     "output_type": "display_data"
    }
   ],
   "source": [
    "results = classifier.evals_result()\n",
    "epochs = len(results['validation_0']['error'])\n",
    "x_axis = range(0, epochs)\n",
    "fig, ax = plt.subplots(figsize=(15,8))\n",
    "ax.plot(x_axis, results['validation_0']['error'], label='Train')\n",
    "ax.plot(x_axis, results['validation_1']['error'], label='Test')\n",
    "ax.legend()\n",
    "plt.ylabel('error')\n",
    "plt.title('XGBoost error')\n",
    "plt.show()"
   ]
  },
  {
   "cell_type": "markdown",
   "metadata": {},
   "source": [
    "## Model testing and training/testing data validation"
   ]
  },
  {
   "cell_type": "markdown",
   "metadata": {},
   "source": [
    "### Get model metrics"
   ]
  },
  {
   "cell_type": "code",
   "execution_count": 32,
   "metadata": {},
   "outputs": [
    {
     "data": {
      "text/plain": [
       "0.965"
      ]
     },
     "execution_count": 32,
     "metadata": {},
     "output_type": "execute_result"
    }
   ],
   "source": [
    "score = classifier.score(X_test, y_test)\n",
    "score = round(score, 3)\n",
    "score"
   ]
  },
  {
   "cell_type": "code",
   "execution_count": 33,
   "metadata": {},
   "outputs": [],
   "source": [
    "train_predictions = classifier.predict(X_train)\n",
    "test_predictions = classifier.predict(X_test)\n",
    "prediction_probs = classifier.predict_proba(X_test)"
   ]
  },
  {
   "cell_type": "code",
   "execution_count": 34,
   "metadata": {},
   "outputs": [],
   "source": [
    "test_predictions = test_predictions.astype(np.int16)\n",
    "y_test_int = y_test.astype(np.int16)"
   ]
  },
  {
   "cell_type": "code",
   "execution_count": 35,
   "metadata": {},
   "outputs": [
    {
     "name": "stdout",
     "output_type": "stream",
     "text": [
      "Test Performance\n",
      "-------------------------------------------------------\n",
      "              precision    recall  f1-score   support\n",
      "\n",
      "           0       0.97      0.96      0.96        97\n",
      "           1       0.96      0.97      0.97       103\n",
      "\n",
      "    accuracy                           0.96       200\n",
      "   macro avg       0.97      0.96      0.96       200\n",
      "weighted avg       0.97      0.96      0.96       200\n",
      "\n",
      "Test Recall\n",
      "-------------------------------------------------------\n",
      "0.9587628865979382\n",
      "Confusion Matrix\n",
      "-------------------------------------------------------\n",
      "[[ 93   4]\n",
      " [  3 100]]\n"
     ]
    }
   ],
   "source": [
    "print('Test Performance')\n",
    "print('-------------------------------------------------------')\n",
    "print(classification_report(y_test, test_predictions))\n",
    "cm = confusion_matrix(y_test_int, test_predictions)\n",
    "recall = (cm[0][0] / (cm[0][0] + cm[0][1]))\n",
    "print('Test Recall')\n",
    "print('-------------------------------------------------------')\n",
    "print(recall)\n",
    "print('Confusion Matrix')\n",
    "print('-------------------------------------------------------')\n",
    "print(cm)"
   ]
  },
  {
   "cell_type": "code",
   "execution_count": 36,
   "metadata": {},
   "outputs": [
    {
     "data": {
      "image/png": "[encoded data removed]",
      "text/plain": [
       "<Figure size 432x288 with 1 Axes>"
      ]
     },
     "metadata": {},
     "output_type": "display_data"
    }
   ],
   "source": [
    "probs = classifier.predict_proba(X_test)\n",
    "preds = probs[:, 1]\n",
    "fpr, tpr, threshold = roc_curve(y_test, preds)\n",
    "roc_auc = auc(fpr, tpr)\n",
    "\n",
    "plt.title('Receiver Operating Characteristic')\n",
    "plt.plot(fpr, tpr, 'red', label = 'ROC-AUC score = %0.2f' % roc_auc)\n",
    "plt.legend(loc = 'lower right')\n",
    "plt.plot([0, 1], [0, 1],'b--')\n",
    "plt.xlim([0, 1])\n",
    "plt.ylim([0, 1])\n",
    "plt.ylabel('True Positive Rate')\n",
    "plt.xlabel('False Positive Rate')\n",
    "plt.show()"
   ]
  },
  {
   "cell_type": "markdown",
   "metadata": {},
   "source": [
    "## Permutation importance"
   ]
  },
  {
   "cell_type": "code",
   "execution_count": 37,
   "metadata": {},
   "outputs": [],
   "source": [
    "permutation_importance_results = permutation_importance(classifier,\n",
    "                                                        X=X_test,\n",
    "                                                        y=y_test,\n",
    "                                                        n_repeats=10,\n",
    "                                                        random_state=42)"
   ]
  },
  {
   "cell_type": "code",
   "execution_count": 38,
   "metadata": {},
   "outputs": [
    {
     "data": {
      "text/plain": [
       "Text(0.5, 0, 'Permutation Importance')"
      ]
     },
     "execution_count": 38,
     "metadata": {},
     "output_type": "execute_result"
    },
    {
     "data": {
      "image/png": "[encoded data removed]",
      "text/plain": [
       "<Figure size 576x576 with 1 Axes>"
      ]
     },
     "metadata": {},
     "output_type": "display_data"
    }
   ],
   "source": [
    "sorted_idx = permutation_importance_results.importances_mean.argsort()\n",
    "plt.figure(figsize=(8, 8))\n",
    "plt.barh(X_test.columns[sorted_idx], permutation_importance_results.importances_mean[sorted_idx])\n",
    "plt.xlabel(\"Permutation Importance\")"
   ]
  },
  {
   "cell_type": "code",
   "execution_count": 39,
   "metadata": {},
   "outputs": [],
   "source": [
    "del X_train, X_test, y_train, y_test, test_predictions, train_predictions, y_test_int"
   ]
  },
  {
   "cell_type": "markdown",
   "metadata": {},
   "source": [
    "## Save the model for future use"
   ]
  },
  {
   "cell_type": "code",
   "execution_count": 40,
   "metadata": {},
   "outputs": [
    {
     "name": "stdout",
     "output_type": "stream",
     "text": [
      "Saving model to: ./water_classifier_xgb_tuned.sav\n",
      "XGBClassifier(alpha=0.024036625469518617, base_score=0.5, booster='gbtree',\n",
      "              colsample_bylevel=1, colsample_bynode=1,\n",
      "              colsample_bytree=0.23819929305467455, eta=1.0661204615804224e-07,\n",
      "              gamma=0.27526016499021516, gpu_id=-1, grow_policy='lossguide',\n",
      "              importance_type='gain', interaction_constraints='',\n",
      "              lambda=1.8970669389333764e-05, learning_rate=1.06612049e-07,\n",
      "              max_delta_step=0, max_depth=3, min_child_weight=3, missing=nan,\n",
      "              monotone_constraints='()', n_estimators=350, n_jobs=-1,\n",
      "              num_parallel_tree=1, random_state=0, reg_alpha=0.0240366254,\n",
      "              reg_lambda=1.89706698e-05, scale_pos_weight=1,\n",
      "              subsample=0.23979989140067695, tree_method='hist',\n",
      "              validate_parameters=1, verbosity=0)\n"
     ]
    },
    {
     "data": {
      "text/plain": [
       "['./water_classifier_xgb_tuned.sav']"
      ]
     },
     "execution_count": 40,
     "metadata": {},
     "output_type": "execute_result"
    }
   ],
   "source": [
    "model_save_path = './water_classifier_xgb_tuned.sav'\n",
    "print('Saving model to: {}'.format(model_save_path))\n",
    "print(classifier)\n",
    "joblib.dump(classifier, model_save_path, compress=3)"
   ]
  },
  {
   "cell_type": "markdown",
   "metadata": {},
   "source": [
    "# Testing: Raster testing"
   ]
  },
  {
   "cell_type": "markdown",
   "metadata": {},
   "source": [
    "### Read in data \n",
    "\n",
    "These are modified MOD09GA and MOD09GQ surface reflectance products for the 2001 julian day 155. They were modified to be clipped to the Lake Powell region."
   ]
  },
  {
   "cell_type": "code",
   "execution_count": 41,
   "metadata": {},
   "outputs": [],
   "source": [
    "fileList = sorted([file for file in glob.glob('../data/IL.*.Powell.*.tif') if 'sur_refl' in file])"
   ]
  },
  {
   "cell_type": "code",
   "execution_count": 42,
   "metadata": {},
   "outputs": [],
   "source": [
    "def readRastersToArray(fileList):\n",
    "    rasterProjection = None\n",
    "    newshp = (1300*1300, 10)\n",
    "    img = np.empty(newshp, dtype=np.int16)\n",
    "    for i, fileName in enumerate(fileList):\n",
    "        ds = gdal.Open(fileName)\n",
    "        img[:, i] = ds.GetRasterBand(1).ReadAsArray().astype(np.int16).ravel()\n",
    "        if i == 0:\n",
    "            rasterProjection = ds.GetProjection()\n",
    "        ds = None\n",
    "    img[:, len(fileList)] = ((img[:, 1] - img[:, 0]) / (img[:, 1] + img[:, 0])) * 10000\n",
    "    img[:, len(fileList)+1] = ((img[:, 1] - img[:, 5]) / (img[:, 1] + img[:, 5])) * 10000\n",
    "    img[:, len(fileList)+2] = ((img[:, 1] - img[:, 6]) / (img[:, 1] + img[:, 6])) * 10000\n",
    "    return img, rasterProjection"
   ]
  },
  {
   "cell_type": "code",
   "execution_count": 43,
   "metadata": {},
   "outputs": [
    {
     "name": "stdout",
     "output_type": "stream",
     "text": [
      "Raster as ndarray\n",
      "[[ 1547  2461   857 ...  2280  -518   510]\n",
      " [ 1474  2377   857 ...  2344  -691   337]\n",
      " [ 1474  2377   846 ...  2344  -472   623]\n",
      " ...\n",
      " [ 2358  2979  1028 ...  1163 -1727 -1292]\n",
      " [ 2425  3069  1117 ...  1172 -1721 -1216]\n",
      " [ 2402  3038  1117 ...  1169 -1770 -1266]]\n",
      "33.8 MB size\n",
      "CPU times: user 264 ms, sys: 35.2 ms, total: 299 ms\n",
      "Wall time: 343 ms\n"
     ]
    }
   ],
   "source": [
    "%%time\n",
    "im, rasterProjection = readRastersToArray(fileList)\n",
    "print('Raster as ndarray')\n",
    "print(im)\n",
    "print('{} MB size'.format((im.size * im.itemsize) / 1000000))"
   ]
  },
  {
   "cell_type": "markdown",
   "metadata": {},
   "source": [
    "Columns to drop are also dropped for testing. "
   ]
  },
  {
   "cell_type": "code",
   "execution_count": 44,
   "metadata": {},
   "outputs": [],
   "source": [
    "def predictRaster(img_chunk, colsToDrop=None):\n",
    "    \"\"\"\n",
    "    Function given a raster in the form of a nxn matrix, will\n",
    "    convert the matrix to a GPU/CPU-bound data frame then perform \n",
    "    predictions given the loaded model.\n",
    "    \n",
    "    Return the prediction matrix, the prediction probabilities\n",
    "    for each and the dataframe converted to host.\n",
    "    \"\"\"\n",
    "    df = pd.DataFrame(img_chunk, columns=v_names, dtype=np.int16)\n",
    "    df = df.drop(columns=columnsToDrop)\n",
    "    print('Making predictions from raster')\n",
    "    predictions = classifier.predict(df).astype(np.int16)\n",
    "    predictionsProbs = classifier.predict_proba(df).astype(np.float32)\n",
    "    return predictions, predictionsProbs, df"
   ]
  },
  {
   "cell_type": "code",
   "execution_count": 45,
   "metadata": {},
   "outputs": [
    {
     "name": "stdout",
     "output_type": "stream",
     "text": [
      "Making predictions from raster\n",
      "CPU times: user 4.87 s, sys: 12.1 ms, total: 4.89 s\n",
      "Wall time: 210 ms\n"
     ]
    }
   ],
   "source": [
    "%%time\n",
    "predictedRaster, predictedProbaRaster, df = predictRaster(im)"
   ]
  },
  {
   "cell_type": "code",
   "execution_count": 46,
   "metadata": {},
   "outputs": [],
   "source": [
    "shp = (1300, 1300)\n",
    "left = list()\n",
    "right = list()\n",
    "for i, subarr in enumerate(predictedProbaRaster):\n",
    "    left.append(subarr[0])\n",
    "    right.append(subarr[1])\n",
    "leftArr = np.asarray(left)\n",
    "rightArr = np.asarray(right)\n",
    "probaLand = leftArr.reshape(shp)\n",
    "probaWater = rightArr.reshape(shp)"
   ]
  },
  {
   "cell_type": "markdown",
   "metadata": {},
   "source": [
    "## Inputreshapet raster: description and histogram"
   ]
  },
  {
   "cell_type": "code",
   "execution_count": 47,
   "metadata": {},
   "outputs": [
    {
     "data": {
      "text/html": [
       "<div>\n",
       "<style scoped>\n",
       "    .dataframe tbody tr th:only-of-type {\n",
       "        vertical-align: middle;\n",
       "    }\n",
       "\n",
       "    .dataframe tbody tr th {\n",
       "        vertical-align: top;\n",
       "    }\n",
       "\n",
       "    .dataframe thead th {\n",
       "        text-align: right;\n",
       "    }\n",
       "</style>\n",
       "<table border=\"1\" class=\"dataframe\">\n",
       "  <thead>\n",
       "    <tr style=\"text-align: right;\">\n",
       "      <th></th>\n",
       "      <th>count</th>\n",
       "      <th>mean</th>\n",
       "      <th>std</th>\n",
       "      <th>min</th>\n",
       "      <th>25%</th>\n",
       "      <th>50%</th>\n",
       "      <th>75%</th>\n",
       "      <th>max</th>\n",
       "    </tr>\n",
       "  </thead>\n",
       "  <tbody>\n",
       "    <tr>\n",
       "      <th>sur_refl_b01_1</th>\n",
       "      <td>1690000.0</td>\n",
       "      <td>2140.144561</td>\n",
       "      <td>807.227853</td>\n",
       "      <td>-100.0</td>\n",
       "      <td>1530.0</td>\n",
       "      <td>2292.0</td>\n",
       "      <td>2756.0</td>\n",
       "      <td>9424.0</td>\n",
       "    </tr>\n",
       "    <tr>\n",
       "      <th>sur_refl_b02_1</th>\n",
       "      <td>1690000.0</td>\n",
       "      <td>3276.677008</td>\n",
       "      <td>741.654344</td>\n",
       "      <td>-28672.0</td>\n",
       "      <td>2793.0</td>\n",
       "      <td>3303.0</td>\n",
       "      <td>3780.0</td>\n",
       "      <td>8909.0</td>\n",
       "    </tr>\n",
       "    <tr>\n",
       "      <th>sur_refl_b03_1</th>\n",
       "      <td>1690000.0</td>\n",
       "      <td>954.288317</td>\n",
       "      <td>357.504891</td>\n",
       "      <td>-100.0</td>\n",
       "      <td>741.0</td>\n",
       "      <td>963.0</td>\n",
       "      <td>1148.0</td>\n",
       "      <td>7929.0</td>\n",
       "    </tr>\n",
       "    <tr>\n",
       "      <th>sur_refl_b04_1</th>\n",
       "      <td>1690000.0</td>\n",
       "      <td>1547.173863</td>\n",
       "      <td>505.923213</td>\n",
       "      <td>-100.0</td>\n",
       "      <td>1199.0</td>\n",
       "      <td>1577.0</td>\n",
       "      <td>1858.0</td>\n",
       "      <td>8526.0</td>\n",
       "    </tr>\n",
       "    <tr>\n",
       "      <th>sur_refl_b05_1</th>\n",
       "      <td>1690000.0</td>\n",
       "      <td>3897.447927</td>\n",
       "      <td>875.726008</td>\n",
       "      <td>-95.0</td>\n",
       "      <td>3277.0</td>\n",
       "      <td>3993.0</td>\n",
       "      <td>4528.0</td>\n",
       "      <td>9440.0</td>\n",
       "    </tr>\n",
       "    <tr>\n",
       "      <th>sur_refl_b06_1</th>\n",
       "      <td>1690000.0</td>\n",
       "      <td>4009.725915</td>\n",
       "      <td>1122.289522</td>\n",
       "      <td>83.0</td>\n",
       "      <td>3151.0</td>\n",
       "      <td>4271.0</td>\n",
       "      <td>4863.0</td>\n",
       "      <td>8326.0</td>\n",
       "    </tr>\n",
       "    <tr>\n",
       "      <th>sur_refl_b07_1</th>\n",
       "      <td>1690000.0</td>\n",
       "      <td>3465.508279</td>\n",
       "      <td>1221.271953</td>\n",
       "      <td>-28672.0</td>\n",
       "      <td>2504.0</td>\n",
       "      <td>3777.0</td>\n",
       "      <td>4416.0</td>\n",
       "      <td>6657.0</td>\n",
       "    </tr>\n",
       "    <tr>\n",
       "      <th>ndvi</th>\n",
       "      <td>1690000.0</td>\n",
       "      <td>2338.848757</td>\n",
       "      <td>1416.787988</td>\n",
       "      <td>-31900.0</td>\n",
       "      <td>1525.0</td>\n",
       "      <td>1854.0</td>\n",
       "      <td>2682.0</td>\n",
       "      <td>32203.0</td>\n",
       "    </tr>\n",
       "    <tr>\n",
       "      <th>ndwi1</th>\n",
       "      <td>1690000.0</td>\n",
       "      <td>-907.298652</td>\n",
       "      <td>1020.379711</td>\n",
       "      <td>-32272.0</td>\n",
       "      <td>-1428.0</td>\n",
       "      <td>-1105.0</td>\n",
       "      <td>-627.0</td>\n",
       "      <td>32558.0</td>\n",
       "    </tr>\n",
       "    <tr>\n",
       "      <th>ndwi2</th>\n",
       "      <td>1690000.0</td>\n",
       "      <td>-30.655925</td>\n",
       "      <td>1514.628116</td>\n",
       "      <td>-32539.0</td>\n",
       "      <td>-886.0</td>\n",
       "      <td>-506.0</td>\n",
       "      <td>367.0</td>\n",
       "      <td>32702.0</td>\n",
       "    </tr>\n",
       "  </tbody>\n",
       "</table>\n",
       "</div>"
      ],
      "text/plain": [
       "                    count         mean          std      min     25%     50%  \\\n",
       "sur_refl_b01_1  1690000.0  2140.144561   807.227853   -100.0  1530.0  2292.0   \n",
       "sur_refl_b02_1  1690000.0  3276.677008   741.654344 -28672.0  2793.0  3303.0   \n",
       "sur_refl_b03_1  1690000.0   954.288317   357.504891   -100.0   741.0   963.0   \n",
       "sur_refl_b04_1  1690000.0  1547.173863   505.923213   -100.0  1199.0  1577.0   \n",
       "sur_refl_b05_1  1690000.0  3897.447927   875.726008    -95.0  3277.0  3993.0   \n",
       "sur_refl_b06_1  1690000.0  4009.725915  1122.289522     83.0  3151.0  4271.0   \n",
       "sur_refl_b07_1  1690000.0  3465.508279  1221.271953 -28672.0  2504.0  3777.0   \n",
       "ndvi            1690000.0  2338.848757  1416.787988 -31900.0  1525.0  1854.0   \n",
       "ndwi1           1690000.0  -907.298652  1020.379711 -32272.0 -1428.0 -1105.0   \n",
       "ndwi2           1690000.0   -30.655925  1514.628116 -32539.0  -886.0  -506.0   \n",
       "\n",
       "                   75%      max  \n",
       "sur_refl_b01_1  2756.0   9424.0  \n",
       "sur_refl_b02_1  3780.0   8909.0  \n",
       "sur_refl_b03_1  1148.0   7929.0  \n",
       "sur_refl_b04_1  1858.0   8526.0  \n",
       "sur_refl_b05_1  4528.0   9440.0  \n",
       "sur_refl_b06_1  4863.0   8326.0  \n",
       "sur_refl_b07_1  4416.0   6657.0  \n",
       "ndvi            2682.0  32203.0  \n",
       "ndwi1           -627.0  32558.0  \n",
       "ndwi2            367.0  32702.0  "
      ]
     },
     "execution_count": 47,
     "metadata": {},
     "output_type": "execute_result"
    }
   ],
   "source": [
    "df.describe().T"
   ]
  },
  {
   "cell_type": "markdown",
   "metadata": {},
   "source": [
    "#### Reshape the unravelled matrix back to the 1300x1300 raster shape"
   ]
  },
  {
   "cell_type": "code",
   "execution_count": 48,
   "metadata": {},
   "outputs": [
    {
     "data": {
      "text/plain": [
       "(1300, 1300)"
      ]
     },
     "execution_count": 48,
     "metadata": {},
     "output_type": "execute_result"
    }
   ],
   "source": [
    "matrix = np.asarray(predictedRaster)\n",
    "reshp = matrix.reshape(shp)\n",
    "reshp.shape"
   ]
  },
  {
   "cell_type": "markdown",
   "metadata": {},
   "source": [
    "Apply the pixel QA mask to the results."
   ]
  },
  {
   "cell_type": "code",
   "execution_count": 49,
   "metadata": {},
   "outputs": [
    {
     "data": {
      "text/plain": [
       "array([[1, 1, 1, ..., 1, 1, 1],\n",
       "       [1, 1, 1, ..., 1, 1, 1],\n",
       "       [1, 1, 1, ..., 1, 1, 1],\n",
       "       ...,\n",
       "       [0, 0, 0, ..., 0, 0, 0],\n",
       "       [0, 0, 0, ..., 0, 0, 0],\n",
       "       [0, 0, 0, ..., 0, 0, 0]], dtype=int16)"
      ]
     },
     "execution_count": 49,
     "metadata": {},
     "output_type": "execute_result"
    }
   ],
   "source": [
    "qa = [file for file in glob.glob('../data/*.tif') if 'qa' in file][0]\n",
    "ds = gdal.Open(qa)\n",
    "qaMask = ds.GetRasterBand(1).ReadAsArray()\n",
    "output = np.where(qaMask == 0, reshp, -9999)\n",
    "qaMask"
   ]
  },
  {
   "cell_type": "markdown",
   "metadata": {},
   "source": [
    "# Generating stats for predicted and truth"
   ]
  },
  {
   "cell_type": "code",
   "execution_count": 50,
   "metadata": {},
   "outputs": [
    {
     "name": "stdout",
     "output_type": "stream",
     "text": [
      "Predicted\n",
      " No-data occuraces: 61568\n",
      " Land occurances: 1619484\n",
      " Water occurances: 8948\n"
     ]
    }
   ],
   "source": [
    "countNoData = np.count_nonzero(output == -9999)\n",
    "countLand = np.count_nonzero(output == 0)\n",
    "countWater = np.count_nonzero(output == 1)\n",
    "print('Predicted\\n No-data occuraces: {}\\n Land occurances: {}\\n Water occurances: {}'.format(countNoData, countLand, countWater))"
   ]
  },
  {
   "cell_type": "code",
   "execution_count": 51,
   "metadata": {},
   "outputs": [],
   "source": [
    "predictedPath = os.path.join(outputRasterPath, 'PowellPredictedWaterMask.tif')\n",
    "\n",
    "driver = gdal.GetDriverByName('GTiff')\n",
    "outDs = driver.Create(predictedPath, 1300, 1300, 1, gdal.GDT_Int16, options=['COMPRESS=LZW'])\n",
    "outDs.SetGeoTransform((-9961223.407, 231.65635, 0.0, 4285642.633667, 0.0, -231.65635))\n",
    "outDs.SetProjection(rasterProjection)\n",
    "outBand = outDs.GetRasterBand(1)\n",
    "outBand.WriteArray(output)\n",
    "outBand.SetNoDataValue(-9999)\n",
    "outDs.FlushCache()\n",
    "outDs = None\n",
    "outBand = None\n",
    "driver = None"
   ]
  },
  {
   "cell_type": "markdown",
   "metadata": {},
   "source": [
    "## View predictions with Folium"
   ]
  },
  {
   "cell_type": "code",
   "execution_count": 52,
   "metadata": {},
   "outputs": [],
   "source": [
    "import folium\n",
    "from folium import plugins\n",
    "\n",
    "sys.path.append('../scripts')\n",
    "import folium_helper"
   ]
  },
  {
   "cell_type": "code",
   "execution_count": 53,
   "metadata": {},
   "outputs": [
    {
     "name": "stdout",
     "output_type": "stream",
     "text": [
      "Transform: | 491.82, 0.00,-12749861.52|\n",
      "| 0.00,-491.82, 4656230.30|\n",
      "| 0.00, 0.00, 1.00|\n",
      "Width: 1670 Height: 770\n"
     ]
    }
   ],
   "source": [
    "mask_3857 = folium_helper.reproject_to_3857(predictedPath)\n",
    "mask_d = folium_helper.get_bounds(mask_3857)\n",
    "mask_b1 = folium_helper.open_and_get_band(mask_3857, 1)\n",
    "folium_helper.cleanup(mask_3857)\n",
    "mask_b1 = np.where(mask_b1 == -9999, 0, mask_b1)\n",
    "zeros = np.zeros_like(mask_b1)\n",
    "mask_rgb = np.dstack((mask_b1, zeros, zeros))"
   ]
  },
  {
   "cell_type": "code",
   "execution_count": 54,
   "metadata": {},
   "outputs": [],
   "source": [
    "m = folium.Map(location=[mask_d['center'][1], mask_d['center'][0]],\n",
    "                   tiles='https://mt1.google.com/vt/lyrs=s&x={x}&y={y}&z={z}', zoom_start = 6, control_scale=True, attr='Google')"
   ]
  },
  {
   "cell_type": "code",
   "execution_count": 55,
   "metadata": {},
   "outputs": [
    {
     "data": {
      "text/html": [
       "<div style=\"width:100%;\"><div style=\"position:relative;width:100%;height:0;padding-bottom:60%;\"><span style=\"color:#565656\">Make this Notebook Trusted to load map: File -> Trust Notebook</span><iframe src=\"about:blank\" style=\"position:absolute;width:100%;height:100%;left:0;top:0;border:none !important;\" data-html=%3C%21DOCTYPE%20html%3E%0A%3Chead%3E%20%20%20%20%0A%20%20%20%20%3Cmeta%20http-equiv%3D%22content-type%22%20content%3D%22text/html%3B%20charset%3DUTF-8%22%20/%3E%0A%20%20%20%20%0A%20%20%20%20%20%20%20%20%3Cscript%3E%0A%20%20%20%20%20%20%20%20%20%20%20%20L_NO_TOUCH%20%3D%20false%3B%0A%20%20%20%20%20%20%20%20%20%20%20%20L_DISABLE_3D%20%3D%20false%3B%0A%20%20%20%20%20%20%20%20%3C/script%3E%0A%20%20%20%20%0A%20%20%20%20%3Cstyle%3Ehtml%2C%20body%20%7Bwidth%3A%20100%25%3Bheight%3A%20100%25%3Bmargin%3A%200%3Bpadding%3A%200%3B%7D%3C/style%3E%0A%20%20%20%20%3Cstyle%3E%23map%20%7Bposition%3Aabsolute%3Btop%3A0%3Bbottom%3A0%3Bright%3A0%3Bleft%3A0%3B%7D%3C/style%3E%0A%20%20%20%20%3Cscript%20src%3D%22https%3A//cdn.jsdelivr.net/npm/leaflet%401.6.0/dist/leaflet.js%22%3E%3C/script%3E%0A%20%20%20%20%3Cscript%20src%3D%22https%3A//code.jquery.com/jquery-1.12.4.min.js%22%3E%3C/script%3E%0A%20%20%20%20%3Cscript%20src%3D%22https%3A//maxcdn.bootstrapcdn.com/bootstrap/3.2.0/js/bootstrap.min.js%22%3E%3C/script%3E%0A%20%20%20%20%3Cscript%20src%3D%22https%3A//cdnjs.cloudflare.com/ajax/libs/Leaflet.awesome-markers/2.0.2/leaflet.awesome-markers.js%22%3E%3C/script%3E%0A%20%20%20%20%3Clink%20rel%3D%22stylesheet%22%20href%3D%22https%3A//cdn.jsdelivr.net/npm/leaflet%401.6.0/dist/leaflet.css%22/%3E%0A%20%20%20%20%3Clink%20rel%3D%22stylesheet%22%20href%3D%22https%3A//maxcdn.bootstrapcdn.com/bootstrap/3.2.0/css/bootstrap.min.css%22/%3E%0A%20%20%20%20%3Clink%20rel%3D%22stylesheet%22%20href%3D%22https%3A//maxcdn.bootstrapcdn.com/bootstrap/3.2.0/css/bootstrap-theme.min.css%22/%3E%0A%20%20%20%20%3Clink%20rel%3D%22stylesheet%22%20href%3D%22https%3A//maxcdn.bootstrapcdn.com/font-awesome/4.6.3/css/font-awesome.min.css%22/%3E%0A%20%20%20%20%3Clink%20rel%3D%22stylesheet%22%20href%3D%22https%3A//cdnjs.cloudflare.com/ajax/libs/Leaflet.awesome-markers/2.0.2/leaflet.awesome-markers.css%22/%3E%0A%20%20%20%20%3Clink%20rel%3D%22stylesheet%22%20href%3D%22https%3A//cdn.jsdelivr.net/gh/python-visualization/folium/folium/templates/leaflet.awesome.rotate.min.css%22/%3E%0A%20%20%20%20%0A%20%20%20%20%20%20%20%20%20%20%20%20%3Cmeta%20name%3D%22viewport%22%20content%3D%22width%3Ddevice-width%2C%0A%20%20%20%20%20%20%20%20%20%20%20%20%20%20%20%20initial-scale%3D1.0%2C%20maximum-scale%3D1.0%2C%20user-scalable%3Dno%22%20/%3E%0A%20%20%20%20%20%20%20%20%20%20%20%20%3Cstyle%3E%0A%20%20%20%20%20%20%20%20%20%20%20%20%20%20%20%20%23map_71bb80a7eaf942998f50e1260e6df126%20%7B%0A%20%20%20%20%20%20%20%20%20%20%20%20%20%20%20%20%20%20%20%20position%3A%20relative%3B%0A%20%20%20%20%20%20%20%20%20%20%20%20%20%20%20%20%20%20%20%20width%3A%20100.0%25%3B%0A%20%20%20%20%20%20%20%20%20%20%20%20%20%20%20%20%20%20%20%20height%3A%20100.0%25%3B%0A%20%20%20%20%20%20%20%20%20%20%20%20%20%20%20%20%20%20%20%20left%3A%200.0%25%3B%0A%20%20%20%20%20%20%20%20%20%20%20%20%20%20%20%20%20%20%20%20top%3A%200.0%25%3B%0A%20%20%20%20%20%20%20%20%20%20%20%20%20%20%20%20%7D%0A%20%20%20%20%20%20%20%20%20%20%20%20%3C/style%3E%0A%20%20%20%20%20%20%20%20%0A%20%20%20%20%0A%20%20%20%20%20%20%20%20%20%20%20%20%20%20%20%20%3Cstyle%3E%0A%20%20%20%20%20%20%20%20%20%20%20%20%20%20%20%20%20%20%20%20.leaflet-image-layer%20%7B%0A%20%20%20%20%20%20%20%20%20%20%20%20%20%20%20%20%20%20%20%20%20%20%20%20/%2A%20old%20android/safari%2A/%0A%20%20%20%20%20%20%20%20%20%20%20%20%20%20%20%20%20%20%20%20%20%20%20%20image-rendering%3A%20-webkit-optimize-contrast%3B%0A%20%20%20%20%20%20%20%20%20%20%20%20%20%20%20%20%20%20%20%20%20%20%20%20image-rendering%3A%20crisp-edges%3B%20/%2A%20safari%20%2A/%0A%20%20%20%20%20%20%20%20%20%20%20%20%20%20%20%20%20%20%20%20%20%20%20%20image-rendering%3A%20pixelated%3B%20/%2A%20chrome%20%2A/%0A%20%20%20%20%20%20%20%20%20%20%20%20%20%20%20%20%20%20%20%20%20%20%20%20image-rendering%3A%20-moz-crisp-edges%3B%20/%2A%20firefox%20%2A/%0A%20%20%20%20%20%20%20%20%20%20%20%20%20%20%20%20%20%20%20%20%20%20%20%20image-rendering%3A%20-o-crisp-edges%3B%20/%2A%20opera%20%2A/%0A%20%20%20%20%20%20%20%20%20%20%20%20%20%20%20%20%20%20%20%20%20%20%20%20-ms-interpolation-mode%3A%20nearest-neighbor%3B%20/%2A%20ie%20%2A/%0A%20%20%20%20%20%20%20%20%20%20%20%20%20%20%20%20%20%20%20%20%7D%0A%20%20%20%20%20%20%20%20%20%20%20%20%20%20%20%20%3C/style%3E%0A%20%20%20%20%20%20%20%20%20%20%20%20%0A%20%20%20%20%3Cscript%20src%3D%22https%3A//cdn.jsdelivr.net/gh/ardhi/Leaflet.MousePosition/src/L.Control.MousePosition.min.js%22%3E%3C/script%3E%0A%20%20%20%20%3Clink%20rel%3D%22stylesheet%22%20href%3D%22https%3A//cdn.jsdelivr.net/gh/ardhi/Leaflet.MousePosition/src/L.Control.MousePosition.min.css%22/%3E%0A%3C/head%3E%0A%3Cbody%3E%20%20%20%20%0A%20%20%20%20%0A%20%20%20%20%20%20%20%20%20%20%20%20%3Cdiv%20class%3D%22folium-map%22%20id%3D%22map_71bb80a7eaf942998f50e1260e6df126%22%20%3E%3C/div%3E%0A%20%20%20%20%20%20%20%20%0A%3C/body%3E%0A%3Cscript%3E%20%20%20%20%0A%20%20%20%20%0A%20%20%20%20%20%20%20%20%20%20%20%20var%20map_71bb80a7eaf942998f50e1260e6df126%20%3D%20L.map%28%0A%20%20%20%20%20%20%20%20%20%20%20%20%20%20%20%20%22map_71bb80a7eaf942998f50e1260e6df126%22%2C%0A%20%20%20%20%20%20%20%20%20%20%20%20%20%20%20%20%7B%0A%20%20%20%20%20%20%20%20%20%20%20%20%20%20%20%20%20%20%20%20center%3A%20%5B37.1868364898923%2C%20-110.84485924937243%5D%2C%0A%20%20%20%20%20%20%20%20%20%20%20%20%20%20%20%20%20%20%20%20crs%3A%20L.CRS.EPSG3857%2C%0A%20%20%20%20%20%20%20%20%20%20%20%20%20%20%20%20%20%20%20%20zoom%3A%206%2C%0A%20%20%20%20%20%20%20%20%20%20%20%20%20%20%20%20%20%20%20%20zoomControl%3A%20true%2C%0A%20%20%20%20%20%20%20%20%20%20%20%20%20%20%20%20%20%20%20%20preferCanvas%3A%20false%2C%0A%20%20%20%20%20%20%20%20%20%20%20%20%20%20%20%20%7D%0A%20%20%20%20%20%20%20%20%20%20%20%20%29%3B%0A%20%20%20%20%20%20%20%20%20%20%20%20L.control.scale%28%29.addTo%28map_71bb80a7eaf942998f50e1260e6df126%29%3B%0A%0A%20%20%20%20%20%20%20%20%20%20%20%20%0A%0A%20%20%20%20%20%20%20%20%0A%20%20%20%20%0A%20%20%20%20%20%20%20%20%20%20%20%20var%20tile_layer_ec0aa11760e944f0b8a300b2d91d7a1a%20%3D%20L.tileLayer%28%0A%20%20%20%20%20%20%20%20%20%20%20%20%20%20%20%20%22https%3A//mt1.google.com/vt/lyrs%3Ds%5Cu0026x%3D%7Bx%7D%5Cu0026y%3D%7By%7D%5Cu0026z%3D%7Bz%7D%22%2C%0A%20%20%20%20%20%20%20%20%20%20%20%20%20%20%20%20%7B%22attribution%22%3A%20%22Google%22%2C%20%22detectRetina%22%3A%20false%2C%20%22maxNativeZoom%22%3A%2018%2C%20%22maxZoom%22%3A%2018%2C%20%22minZoom%22%3A%200%2C%20%22noWrap%22%3A%20false%2C%20%22opacity%22%3A%201%2C%20%22subdomains%22%3A%20%22abc%22%2C%20%22tms%22%3A%20false%7D%0A%20%20%20%20%20%20%20%20%20%20%20%20%29.addTo%28map_71bb80a7eaf942998f50e1260e6df126%29%3B%0A%20%20%20%20%20%20%20%20%0A%20%20%20%20%0A%20%20%20%20%20%20%20%20%20%20%20%20var%20image_overlay_7091b1a2640d42d1802d15a52ac422eb%20%3D%20L.imageOverlay%28%0A%20%20%20%20%20%20%20%20%20%20%20%20%20%20%20%20%22data%3Aimage/png%3Bbase64%2CiVBORw0KGgoAAAANSUhEUgAABoYAAAMCCAYAAABEBXSBAAAh1ElEQVR42uzd227juBJAUf3/T9d56QF8Al1IiZTI4npYwEwnlpWSOwa0U%2Blt27YAACCnOGA2AAAAsCxDAABYJQqZCwAAAAhDhgAAIAoBAAAAwhAAABni0Ezn7NoBAACAMAQAQPIoBAAAAAhDAACIQgAAAIAwBABA1rBlDgAAACAMAQAAAAAAIAwBAAAAAAAgDAEAAAAAACAMAQAAAAAACEMAAAAAAAAIQwAAAAAAAAhDAAAAAAAACEMAAAAAAAAIQwAAAAAAAAhDAAAAAAAACEMAAAAAAAAIQwAA%2B8IMAAAAAAwBAAAAAABAGAIAAAAAAEAYAgAAAAAAQBgCAAAAAABAGAIAAAAAAEAYAgAAAAAAQBgCAAAAAABAGAIAAAAAAEAYAgAAAAAAQBgCAAAAAAAQhgAAAAAAABCGAAAAAAAAEIYAAAAAAAAQhgAAAAAAABCGAAAAAAAAEIYAAAAAAAAQhgAAAAAAABCGAAAAAAAAEIYAAAAAAAAQhgAAAAAAAIQhAAAAAAAAhCEAAAAAAACEIQAAAAAAAIQhAAAAAAAAhCEAAAAAAACEIQAAAAAAAIQhAAAAAAAAhCEAAAAAAACEIQAAAAAAAGEIAAAAAAAAYQgAAAAAAABhCAAAAAAAAGEIAAAAAAAAYQgAAAAAAABhCAAAAAAAAGEIAAAAAAAAYQgAAAAAAABhCAAAAAAAAGEIAAAAAABAGAIAAAAAAEAYAgAAAAAAQBgCAAAAAABAGAIAAAAAAEAYAgAAAAAAQBgCAAAAAABAGAIAPhE/zAMAAABAGAIAhCEAAAAAhCEAQBgCAAAAQBgCAKYJQsIQAAAAgDAEAAhDAAAAAAhDAEDGOGQmAAAAAMIQACAKAQAAACAMAQBZwpA4BAAAACAMAQALhCHzAAAAABCGAABRCAAAAABhCAAQhwAAAAAQhgAAcQgAAAAAYQgAGDMKCUMAAAAAwhAAYGMIAAAAAGEIAMgWh8wCAAAAQBgCAMQhAAAAAIQhACBbHDIHAAAAAGEIABCGAAAAABCGAABhCAAAAABhCAAQhwAAAAAQhgAAAAAAABCGALABAgAAAAAIQwCIQwAAAACAMAQAAAAAACAMAbDqhpAtIbz2AQAAAIQhABa4Me4GOeKQOQAAAADCEACL3BB3UxxxFAAAAEAYAsANcRBGAQAAAIQhAIQhEIYAAAAAhCEAAGEIAAAAQBgCABCFAAAAAIQhAABhCAAAAEAYAgAQhgAAAACEIQCAm0FIFAIAAACEIQAAm0IAAAAAwhAAgDAEAAAAIAwBAIhCAAAAAMIQAIAwBAAAACAMAQAIQgAAAADCEACAMAQAAAAgDAEACEMAAAAAwhAAwHEYMgsAAAAAYQgASBqDhCEAAAAAYQgAWGxTSBgCAAAAEIYAgAW3hwAAAAAwAAAAAAAAAGEIAAAAAAAAYQgAAAAAAABhCAAAAAAAAGEIAAAAAAAAYQgAAAAAAABhCAAAAAAAAGEIAAAAAAAAYQgAAAAAAABhCAAAAAAAQBgCAAAAAABAGAIAAAAAAEAYAgAAAAAAQBgCAAAAAABAGAIAAAAAAEAYAgCA7MIMAAAAEIYAAEAYAgAAAGEIAAAAAAAAYQgAAAAAAABhCAAAAAAAAGEIAAAAAABAGAIAAAAAAEAYAgAAAAAAQBgCAGAqYQYAAAAgDAEAIAyJTwAAACAMAQAAAAAAIAwBAAAAAAAgDAEAAAAAACAMAQAAAAAAIAwBAAAAAAAgDAEAAAAAACAMAQAwhDADAAAAEIYAAMgfhEQhAAAAEIYAAFgkCglDAAAAIAwBACAOAQAAAMIQAAAAAAAAwhAAAAAAAADCEAAAAAAAAMIQAAAAAAAAwhAAAAAAAIAwBAAAAAAAgDAEAAAAAACAMAQAAAAAAIAwBAAAAAAAgDAEAAAAAACAMAQAAAAAAIAwBAAAAAAAgDAEAAAAAACAMAQAAAAAAIAwBAAAAAAAIAwBAAAAAAAgDAEAAAAAACAMAQAwrDADAAAAQBgCAAAAAAAQhgAAAAAAABCGAAAAAAAAEIYAAAAAAAAQhgAAAAAAABCGAAAAAAAAEIYAAAAAAAAQhgAAAAAAABCGAAAAAAAAEIYAAAAAAACEIQAAAAAAAIQhAAAAAAAAhCEAAAAAAACEIQAAAAAAAIQhAAAAAAAAhCEAAAAAAACEIQAAAAAAAIQhAAAAAAAAhCEAAAAAAACEIQAAAAAAAGEIAAAAAAAAYQgAAAAAAABhCAAAAAAAAGEIAAAAAAAAYQgAAAD%2BE2YAAADCEAAAAGtEobj5mL3H3jkeAAAIQwAAAPBSFBJyAABAGAIAAMC2EAAAIAwBAAAgCgEAAMIQAAAAw4egEIYAAEAYAgAAYL04ZC4AACAMAQAAkDwOCUMAACAMAQAAsFgcMg8AABCGAAAAEIYAAABhCAAAAGEIAAAQhgAAABCFAAAAYQgAAIDxwpA4BAAAwhAAAACiEAAAIAwBAAAwexQyCwAAEIYAAAAQhgAAAGEIAACADFHIHAAAQBgCAABggS0hYQgAAIQhAAAAFopDZgEAAMIQAAAAk28ChSgEAADCEAAAAGsFImEIAACEIQAAABYKRLXhCAAAEIYAAACYeHPoiDkBAIAwBAAAwEJhSCACAABhCAAAgAXCkM0hAAAQhgAAAFggBglCAAAgDAEAAJAkDNV8/u//myMAAAhDAAAAJAxDe48RhwAAQBgCAABgkiAUD45hlgAAIAwBAAAwWSAyCwAAEIYAAAAQhwQlAAAQhgAAmPHGrzkALb8/hFAEAADCEAAAAPk3hgAAAGEIAACAhFEoxCMAABCGAAAAyB%2BHQhgCAABhCAAAgDxRaC8A/Y1BwhAAAAhDAAAAJNwcioqNIgAAQBgCAAAgWSgShgAAQBgCAABAGAIAAIQhAAAAMoUh8wAAAGEIAAAAG0MAAIAwBAAAQJYwZBYAACAMAQAAIAoBAADCEAAAAOIQAAAgDAEAdL6BaQ4Az0NQiEIAACAMAQAAIAoBAADCEAAAAOIQAAAgDAEAACAKAQAAwhAAAADDRqH4%2BZgZAQCAMAQAAMACccgGEQAACEMA8OjmkvkAgPdtAABAGAJgkZ84NiMAmGtTyPs3AAAIQwAgDgHAQmHI%2BzcAAAhDAFB8k2lzUwkApopCmzgEAADCEAAAADmDkLkAAIAwBAAAgDAEAAAIQwAAAMwcgkQhAAAQhgAAAFgoEJkJAAAIQwAAACy0OWQuAAAgDAEAACAOAQAAwhAAAACZ4pB5AACAMAQAAMBCW0NmAgAAwhAAAAALRCGBCAAAhCEAAAAWiULmAgAAwhAAAADiEAAAIAwBAACQKQyZCQAACEMAAAAkj0LmAQAAwhAAAACJt4PCxhAAAAhDAAAArBuGBCIAABCGAKD5TSlzAIBvotBVIDIrAAAQhgBAGAKABFtCV5tD5gUAAMIQAAAAibaFzuKQWQEAgDAEALaGAGDi99Wz6CMMAQCAMAQAAMCk20BREYUAAABhCAAAAFu5AACAMAQAAMAsIcimEAAACEMA4KedASDh%2B6X3TAAAEIYAAADwwxQAAIAwBAAAgDAEAAAIQwAAAAhDAACAMAQAAMCYUUgYAgAAYQgAAABRCAAAEIYAAACYMQAJQQAAgDAEAACw2HaQOAQAAAhDAMD/3Tw0B4Cc39d9jwcAAIQhAAAAwR8AABCGAAAAEIYAAABhCAAAAGEIAAAQhgAAABCGAAAAYQgAAIAPwpA4BAAACEMAAAAAAADCEAAAADUbOaNvC4XNIQAAQBgCAAB4HoNGDS5iEAAAIAwBAAB02sSJgc/RNQMAAIQhAACAhHEohCEAAEAYAqD3zafNzScAFg5Db7zP1kQq1wcAABCGAOh%2BY0wcAmD1raEvwpAoBAAACEMApLopBgDi0LebSwAAgDAEALs3w9yUAsB74ffn47oAAADCEAA2hgAgWRjy3gsAAAhDAAAAC/yAhCgEAAAIQwAAAEnDUBz8NwAAgDAEAADwURiKF5/L/AEAAGEIAABggDgUnZ/L3AEAAGEIAAAg%2BeaQKAQAAAhDAAAALwaY%2BGhryLYQAAAgDAHwyU9A792YcrMKgMzvf1th9OkVhrzHAgAAwhAAw8UiswFg9fe8Hu%2BR3mcBAABhCIAhb5iZBwCrbs6%2BEYdcDwAAQBgCAAD4MA5Fg5BkYwgAABCGAAAAJtwgiq0uJIlCAACAMAQAADBoFLoKRD22h4QhAABAGAIAABhwc6h1GLIxBAAACEMAAACDBaHaOFS6EfR02wgAAEAYAgAA6BiInoQkgQgAABCGAAAAJo1DsbWJQ0fHdB0AAABhCAAAYIBA1DoO7T2n%2BQMAAMIQAADAAIGoNgyVxB7bQgAAgDAEAAAwaCAq2Sw6ikNx8jhzBgAAhCEAAIBBolDJRtEdZ89r/gAAgDAEAAAwwLbQ1cdan4NrAQAACEMAAAAfBKIo3CgCAAAQhgAAABJEImEIAAAQhgAAABbcHhKGAAAAYQgAAGCBKLQJQwAAgDAEAACQNwqJQQAAgDAEAACwSBwyBwAAQBgCAABYbGsIAABAGAIAALA1BAAAIAwBAAAIQwAAAMIQAADAVGHoiPkAAADCEAAAgEAEAAAgDAEAAGSMRWYBAAAIQwAAAMIQAACAMAQAAJApDpkDAAAgDAEAAAhDAAAAwhAAAIAoBAAAIAwBAAAIQwAAAMIQAADAWFFIGAIAAIQhAACAJNEnTgKQKAQAAAhDAAAAybaB9uJQ2BgCAACEIQAAgFxR6GyLyKwAAABhCAAAIEkcMgcAAEAYAgAAEIYAAACEIQAAAHEIAABAGAIAAJgyDIVABAAACEMAAADiEAAAgDAEAACQNAyJQwAAgDAEAACwWCQyCwAAQBgCAAAojCviEAAAgDAEAADYtpniaxCGAAAAYQgAAEDYAgAAEIYAAABEIQAAAGEIAABgmjhkDgAAgDAEAACQPKzYGAIAAIQhAACAxBFrj9kAAADCEAAAwEfR5u04ZP4AAIAwBAAA8FIQOoo3NoYAAABhCAAAIHkYKvnYiNtIAAAAwhAAAECDqNNyU8hcAQAAYQgAAKDR9k/cfFyvuCMIAQAAwhAAAMBgQakmDglCAACAMAQAADBJ5GkRh45CUTw8FwAAAGEIAACg02ZPy0AUm39PCAAAEIYAAACm2iC6eqwoBAAACEMAAAALhaWzICQOAQAAwhAAAMAHYedJpInK5xCDAAAAYQgAAGDysGQWAACAMAQAADBZ5BGGAAAAhCEAAGCh7Z%2BofIzZAQAAwhAAAMBikQgAAEAYAgAASByPzAEAABCGAAAAksaf3y0iYQgAABCGAAAAkoWh2PlvAAAAYQgAACBxGAIAAEAYAgAAhCEAAABhCAAAIEsYEocAAACEIQAAwMYQAACAMAQAACAOAQAACEMAAABTxiHnBQAAIAwBAAC2hgQiAABAGAIAABCGhCAAAEAYAgAAmCYGjb4tNFPUCrELAACEIQAAADFljcBmHgAAIAwBAAAIGbauAAAAYQgAAMC20Nl59vhckQ0AABCGAAAAG0MTR6L4aINHGAIAAGEIAADA1tCH5/9mHBKGAABAGAIAAEixhTPz1/B2GPJ6AgAAYQgAAICP41Z8/PwAAIAwBAAAwEtRJjo9r00hAAAQhgAAABgsDIlDAACAMAQAACwfVCLB13An4gg5AACAMAQAADBpFKqJPSWfGyfxSVgCAABhCAAAIOWWzSxbT7WxJiqOJQIBAIAwBAAAIAwNGIeeRKXfY8Tm184BAAAGAAAAJAopK4ehuOB1AgAACEMAAIDNoUQbQzaDAAAAYQgAALA1NHEYiofH8doAAACEIQAAYIkoNGsssvUDAAAIQwAAABcRJdOWkCgEAAAIQwAAAJNtBu2d29WGkzAEAAAIQwAAMGmwMIe%2Bc43J5h4VXGsAAEAYAgAAWywchJaSaLR9FF8EIQAAQBgCAABhiIcbWFdhpXUcuruhJAoBAADCEAAALBYxZjj2DJtBJWElCuZ3FpJqjnm0sVT7Nfh7AwAACEMAACAKCUMHkeZpUDk7Zo%2BIExdbT/7uAAAAwhAAAAy%2BvVITAN56/hXCUG1AO9rouRODnkQiEQgAABCGAAAgUSh668b/KoEhOm9JfXHtAAAAhCEAAEgYiM42WJ5EktU2T97cwBKGAAAAYQgAABg2DglDfTaUAAAAhCEAAGCYiGNjCAAAAGEIAAAm2Rxqefysc7PBAwAAIAwBAMA0W0JvBJyzY8fEM8wavgAAAIQhAABYYGvo7ShUGq5GnZnXDwAAgDAEAAA2YB6Ep5hoVl43AAAAwhAAAEwXg3ptDsVFcIpJQ4swBAAAIAwBAECqraG34lCv531jVl4zAAAAwhAAAEwdhnoFkL34cxWMbA0BAAAIQwAAQMdNoXjxeWKyufyeszAEAAAgDAEAQJow1CN8xGRxKArmIw4BAAAIQwAAMH0cah0%2BesWgXvHqKI7NtPEEAAAgDAEAAJch5G70iMIw1DIytTifmij2d15eQwAAAMIQAABMGYhGjkN3NpniQRC6eh5RCAAAQBgCAIA0G0RXWzO1YWjvmKVbP1fnFA2%2BJuEHAABAGAIAgCW2hK4CTs22z1m8qQ000ZhrDgAAIAwBAIA4VBB3SiNLFD6%2BZCtJFAIAABCGAACABjHoTpS5e/w74aZmo%2BjquV1zAAAAYQgAAIShm9s/T8NQTTxqsQEFAACAMAQAAK9FmC%2BfszT83Pn4nTB0Z6vI6wgAAEAYAgCA6TZ0vgpDZ6GoNgyVfC2lkacmINkYAgAAEIYAAMDmUEGIOosvpWGoNNDUbP4cxaK7Yc2GEQAAgDAEAADLbQ2VhqGS4PNGTLIJBAAAgDAEAIA49HIcisoNoJLPd90BAAAQhgAAWC4GvR1L4kEc2tsOuvq4KAQAAIAwBAAAL27TlMSc2jBUujUkCgEAACAMAQDAB3GodRi6OvbX21EAAAAIQwAAsGxwahGKWkQn1wUAAABhCAAAEadzHGq1PdTiOK43AAAAwhAAAHQIKHtRpmcc2jZRCAAAAGEIAAA%2BC0ytbQ83ilwfAAAAhCEAAMScxhtFLbeEnmweubYAAAAIQwAAcBJYSjeAvtoiqjmmawwAAIAwBAAAN6LP0%2BhiawgAAABhCAAAfkLHVrC980YY6hFc4gV/n8vrCgAAAGEIAIB02zxvB6IWz3O1jfTknGwMAQAAIAwBAJAmDrUOH7XBpcVz3Y1Gd%2BKQQAQAAIAwBABAqu2h6PQc0enruBNw3jhHAAAAEIYAABgyDpVs3NzZQuoRX54cv/V5CUkAAAAIQwAATB2Hrj7WIgz1jkO9HgsAAADCEAAAKcJQaTAp2TT6alOoNgx5LQAAACAMAQAgEFVuE5X%2BeavzfLL5IwwBAAAgDAEAIA49iEO9w9B2cYya4wtDAAAACEMAAIhDleGndFPn7mZPTfC5E3uEIQAAAIQhAACo3A66u%2B3T4rhPY4/tIQAAAIQhAACoiEQZNnSEIQAAAIQhAABoHIZigq/RtQYAAEAYAgBAGNqe/8q3GeIQAAAACEMAAAhDW5t/k0cYAgAAQBgCAICJwlCLY5kpAAAAwhAAACwQhgAAAEAYAgCAhcKQ0AQAAIAwBAAAC20MCUMAAAAIQwAAMHgYigafJwwBAAAgDAEAwKRhKA4IQwAAAAhDAACQNAxtlYFIGAIAAEAYAgCAAcPQnY/HzY8BAACAMAQAAANGodo4VBuExCMAAACEIQAAeDEKxfb818LFg3MQhwAAABCGAADgpTgkzAAAAIAwBACAbaLHG0EAAAAgDAEAwKABaIRtIhEKAAAAYQgAAAAAAABhCAAAAAAAAGEIAAAAAAAAYQgAAAAAAABhCAAAAAAAAGEIAADeEv%2BYBQAAAMIQAAAsEofMAQAAAGEIAADEIQAAABCGAAAgayASiQAAABCGAAAAAAAAEIYAAAAAAAAQhgAAAAAAABCGAAAAAAAAEIYAAAAAAAAQhgAAAAAAAIQhAAAAAAAAhCEAAAAAAACEIQAAAACArsIMAIQhAAAAAAAAhCEAAAAAsDUDAMIQAAAAAMwbhsQhAIQhAAAAABBiXB8AhCEAAAAAyBhEzAEAYQgAAAAAAABhCAAAAAAAQBgCAAAAAE6FGQAgDAEAAAAAACAMAQAAAAAAIAwBAAAAAAAgDAEAAAAAACAMAQAAAAAAIAwBAAAAAAAgDAEAAAAAAGAAAAAAAJBGmAEAwhAAAAAAAADCEAAAAAAAgDAEAAAAAKwgzABAGAIAAAAAAEAYAgAAAAAAQBgCAAAAAABAGAIAAACAj4QZAIAwBAAAAAAAIAwBAAAAAAAgDAEAAAAAACAMAQAAAAAAIAwBAAAAAAAgDAEAAAAAACAMAQAAAAAAIAwBAAAAAAAgDAEAAAAAACAMAQAAAAAACEMAAAAAAAAIQwAAAAAAAAhDAAAAAAAACEMAAAAAAAAIQwAAAAAAAAhDAAAAAAAACEMAAAAAAAAIQwAAAAAAAAhDAAAAAAAACEMAAAAAAADCEAAAAAAAAMIQAAAAAAAAwhAAAAAAAADCEAAAAAAAAMIQAAAAAEAe8Y9ZAMIQAAAAAMAiYUgcAoQhAAAAAIDkMWiPGQHCEAAAAACAMAQgDAEAAAAACEMAwhAAAAAAwLBR6PfPzAYQhgAAAAAAABCGAAAAAAAAEIYAAAAAAAAQhgAAAAAAABCGAAAAAAAAEIYAAAAAAACEIQAAAAAAAIQhAAAAAAAAhCEAAAAAAACEIQAAAAAAAIQhAAAAAAAAhCEAAAAAgKzCDABhCAAAAAAAAGEIAAAAAGyXAIAwBAAAAAAAgDAEAAAAADaKAEAYAgAAAABxCABhCAAAAAAAAGEIAAAAAAAAYQgAAAAAAABhCAAAAAAAAGEIAAAAAAAAYQgAAAAAAABhCAAAAAAAAGEIAAAAAPhe/GMWAMIQAAAAALBQIDIHAGEIAAAAAMQLABCGAAAAABBjAABhCAAAAAAAAGEIAAAAAAAAYQgAAAAgjTADAEAYAgAAAAAAQBgCAAAAAABAGAIAAAAAABCGAAAAAAAAEIYAAAAAYDTR%2BPMAQBgCAAAAgIUiEgAIQwAAAAAAAAhDAAAAAGDDCLMEEIYAAAAAAMQhAGEIAAAAAAAAYQgAAAAABtpwCdsuAAhDAAAAAAAACEMAAADANJsQAL7fAAhDAAAAAAAACEMAAAAAYLMFAIQhAAAAoMuNajerQXgCAGEIAAAAAMQbABCGAAAAAAAAEIYAAAAAAACEIQAAAICswgwAAIQhAAAAAAAAYQgAAAAAAABhCAAAAAAAAGEIAAAAAAAAYQgAAADoLZwfAADCEAAAAHAVbEQbAABhCAAAALBtBACAMAQAAAAgLgEACEMAAACAOAQAgDAEAAAAiEOAv0MACEMAAAAAAAAIQwAAAAAAAAhDAAAAAAAACEMAAAAAAAAIQwAAADCNMAMAAIQhAAAAAAAAhCEAAAAAAACEIQAAAOCe2PxaOwAAYQgAAABYLhCZAwCAMAQAAAAsEoLEIQAAYQgAAAAAAABhCAAAAJhxMwgAAGEIAAAASByHQiQCABCGAAAAALCxBQAIQwAAAADAn807swBAGAIAAAAAAEAYAgAAAO5tJpgDAADCEAAAAIhAAAAgDAEAAICwAwCAMAQAAAAITAAACEMAAAAAAAAIQwAAAAAAAAhDAAAAAMBfYQYACEMAAAAA8H2oEW0AEIYAAAAA%2BF97d6wEEBAEUdD///SIKRmH3e2gSz4luucKsDDMRZQDEIYAAAAAgJk3twAQhgAAAAAAABCGAAAA4P2v2uPrdgAAhCEAAACYFYjsAACAMAQAAAAAAIAwBAAAAAAAgDAEAAAA0FI2/6Xi2ffJDgAIQwAAAAAFwpBDfQBAGAIAAAAYEoWEIQBAGAIAAABwW4jTZrYAAGEIAAAA2h2A2wEAAGEIAAAAhBsAABCGAAAAQCQCAABhCAAAAAAAAGEIAAAAAAAAYQgAAAAAAEAYAgAAAAAAQBgCAAAAAIAiYgMQhgAAAAAAAIQhAAAAAAAAhCEAAAAAqCo2AABhCAAAAAAAQBgCAAAAAABAGAIAAAAAAEAYAgAAAAAAQBgCAAAAAABAGAIAAAAAAEAYAgAAAAAAQBgCAAAAAABAGAIAAACgu9gAAIQhAAAAAIQhAEAYAgAAAEAcAgBhCAAAAHCYDt5jABCGAAAAAAAAEIYAAAAAAAAQhgAAAADgQmwAAMIQAAAA4DAdAABhCAAAAAAAAGEIAAAAAAAAYQgAAAAAOIgNABCGAAAAAAAAhCEAAAAAAACEIQAAAAAAAIQhAAAAAAAAhCEAAAAAAACEIQAAAAAAAIQhAAAAAPhGbACAMAQAAAAAiE8ACEMAAAAAAAAIQwAAAAAAAAhDAAAAAPBbsQEAwhAAAAAAiEIAIAwBAAAAAAAgDAEAAAAAACAMAQAAAAAAIAwBAADQRWwAAADCEAAAAAAAAMIQAAAAAAAAwhAAAAAAAADCEAAAAAAAAMIQAAAAAACAMAQAAAAAi8UGACAMAQAAACAOAQDCEAAAAAAAAMIQAAAAAAAAwhAAAAAAAADCEAAAAAAAgDAEAAAAAACAMAQAAAAAAIAwBAAAAAAAgDAEAAAAAACAMAQAAAAAAIAwBAAAAAAAgDAEAAAAAACAMAQAAAAAAIAwBAAAAAAAgDAEAAAAAAAgDAEAAAAAACAMAQAAAAAAIAwBAAAAAAAgDAEAAAAAACAMAQAAAAAAIAwBAAAAAAAgDAEAAAAAACAMAQAAAAAAIAwBAAAAAABgBAAAAAAAAGEIAAAAAAAAYQgAAAAAAABhCAAAAAAAAGEIAAAAAAAAYQgAAAAAAABhCAAAAAAAAGEIAAAAAAAAYQgAAAAAAABhCAAAAAAAQBgCAAAAAO6KDQAQhgAAAAAAABCGAAAAAAAAEIYAAAAAAAAQhgAAAAAAABCGAAAAAAAAEIYAAAAAAACEIQAAAAAAAIQhAAAAAAAAhCEAAAAAAACEIQAAAACgiNgAQBgCAAAAAABAGAIAAAAAAEAYAgAAAAAAQBgCAAAAAABAGAIAAAAAAEAYAgAAAAA%2BEBsACEMAAAAAAAAIQwAAAACAm0IACEMAAAAAAAAIQwAAAAAAAAhDAAAAAAAACEMAAAAAAAAIQwAAAAAAAAhDAAAAAAAAwhAAAAAAAADCEAAAAAAAAMIQAAAAAAAAwhAAAAAAAADCEAAAAAAAAMIQAAAAABSV0xMAhCEAAAAAaByGRCEAhCEAAAAAGBKFhCEAhCEAAAAAGBSI7ACAMAQAAAAAAIAwBAAAAAAAgDAEAAAAAACAMAQAAAAAAIAwBAAAAAAAgDAEAAAAAAAgDAEAAAAAACAMAQAAAAAAIAwBAAAAAAAgDAEAAAAAACAMAQAAAAAAIAwBAAAAAAAgDAEAAAAAACAMAQAAAAAAIAwBAAAAAAAgDAEAAAAAAAhDAAAAAAAACEMAAAAAAAAIQwAAAAAAAAhDAAAAAAAACEMAAAAAAAAIQwAAAAAAAAhDAAAAAAAACEMAAAAAAAAIQwAAAAAAAMPtJQ/Vjl01/D4AAAAASUVORK5CYII%3D%22%2C%0A%20%20%20%20%20%20%20%20%20%20%20%20%20%20%20%20%5B%5B35.832006264552895%2C%20-114.53395477030668%5D%2C%20%5B38.5416667152317%2C%20-107.15576372843819%5D%5D%2C%0A%20%20%20%20%20%20%20%20%20%20%20%20%20%20%20%20%7B%22opacity%22%3A%200.6%7D%0A%20%20%20%20%20%20%20%20%20%20%20%20%29.addTo%28map_71bb80a7eaf942998f50e1260e6df126%29%3B%0A%20%20%20%20%20%20%20%20%0A%20%20%20%20%0A%20%20%20%20%20%20%20%20%20%20%20%20var%20mouse_position_e9f2677b38a84a6fb9d40208c9162c3c%20%3D%20new%20L.Control.MousePosition%28%0A%20%20%20%20%20%20%20%20%20%20%20%20%20%20%20%20%7B%22emptyString%22%3A%20%22Unavailable%22%2C%20%22lngFirst%22%3A%20false%2C%20%22numDigits%22%3A%205%2C%20%22position%22%3A%20%22bottomright%22%2C%20%22prefix%22%3A%20%22%22%2C%20%22separator%22%3A%20%22%20%3A%20%22%7D%0A%20%20%20%20%20%20%20%20%20%20%20%20%29%3B%0A%20%20%20%20%20%20%20%20%20%20%20%20mouse_position_e9f2677b38a84a6fb9d40208c9162c3c.options%5B%22latFormatter%22%5D%20%3D%0A%20%20%20%20%20%20%20%20%20%20%20%20%20%20%20%20undefined%3B%0A%20%20%20%20%20%20%20%20%20%20%20%20mouse_position_e9f2677b38a84a6fb9d40208c9162c3c.options%5B%22lngFormatter%22%5D%20%3D%0A%20%20%20%20%20%20%20%20%20%20%20%20%20%20%20%20undefined%3B%0A%20%20%20%20%20%20%20%20%20%20%20%20map_71bb80a7eaf942998f50e1260e6df126.addControl%28mouse_position_e9f2677b38a84a6fb9d40208c9162c3c%29%3B%0A%20%20%20%20%20%20%20%20%0A%20%20%20%20%0A%20%20%20%20%20%20%20%20%20%20%20%20var%20layer_control_35a72b98d81e409e842ce9b7efc68232%20%3D%20%7B%0A%20%20%20%20%20%20%20%20%20%20%20%20%20%20%20%20base_layers%20%3A%20%7B%0A%20%20%20%20%20%20%20%20%20%20%20%20%20%20%20%20%20%20%20%20%22https%3A//mt1.google.com/vt/lyrs%3Ds%5Cu0026x%3D%7Bx%7D%5Cu0026y%3D%7By%7D%5Cu0026z%3D%7Bz%7D%22%20%3A%20tile_layer_ec0aa11760e944f0b8a300b2d91d7a1a%2C%0A%20%20%20%20%20%20%20%20%20%20%20%20%20%20%20%20%7D%2C%0A%20%20%20%20%20%20%20%20%20%20%20%20%20%20%20%20overlays%20%3A%20%20%7B%0A%20%20%20%20%20%20%20%20%20%20%20%20%20%20%20%20%20%20%20%20%22Water%20classification%20XGBOOST%20predicted%20mask%22%20%3A%20image_overlay_7091b1a2640d42d1802d15a52ac422eb%2C%0A%20%20%20%20%20%20%20%20%20%20%20%20%20%20%20%20%7D%2C%0A%20%20%20%20%20%20%20%20%20%20%20%20%7D%3B%0A%20%20%20%20%20%20%20%20%20%20%20%20L.control.layers%28%0A%20%20%20%20%20%20%20%20%20%20%20%20%20%20%20%20layer_control_35a72b98d81e409e842ce9b7efc68232.base_layers%2C%0A%20%20%20%20%20%20%20%20%20%20%20%20%20%20%20%20layer_control_35a72b98d81e409e842ce9b7efc68232.overlays%2C%0A%20%20%20%20%20%20%20%20%20%20%20%20%20%20%20%20%7B%22autoZIndex%22%3A%20true%2C%20%22collapsed%22%3A%20true%2C%20%22position%22%3A%20%22topright%22%7D%0A%20%20%20%20%20%20%20%20%20%20%20%20%29.addTo%28map_71bb80a7eaf942998f50e1260e6df126%29%3B%0A%20%20%20%20%20%20%20%20%0A%3C/script%3E onload=\"this.contentDocument.open();this.contentDocument.write(    decodeURIComponent(this.getAttribute('data-html')));this.contentDocument.close();\" allowfullscreen webkitallowfullscreen mozallowfullscreen></iframe></div></div>"
      ],
      "text/plain": [
       "<folium.folium.Map at 0x14feb8f0d390>"
      ]
     },
     "execution_count": 55,
     "metadata": {},
     "output_type": "execute_result"
    }
   ],
   "source": [
    "m.add_child(folium_helper.get_overlay(mask_rgb, mask_d, 'Water classification XGBOOST predicted mask', opacity=0.6))\n",
    "m.add_child(plugins.MousePosition())\n",
    "m.add_child(folium.LayerControl())"
   ]
  },
  {
   "cell_type": "code",
   "execution_count": null,
   "metadata": {},
   "outputs": [],
   "source": []
  },
  {
   "cell_type": "code",
   "execution_count": null,
   "metadata": {},
   "outputs": [],
   "source": []
  }
 ],
 "metadata": {
  "kernelspec": {
   "display_name": "Python [conda env:ilab]",
   "language": "python",
   "name": "conda-env-ilab-py"
  },
  "language_info": {
   "codemirror_mode": {
    "name": "ipython",
    "version": 3
   },
   "file_extension": ".py",
   "mimetype": "text/x-python",
   "name": "python",
   "nbconvert_exporter": "python",
   "pygments_lexer": "ipython3",
   "version": "3.7.12"
  }
 },
 "nbformat": 4,
 "nbformat_minor": 4
}
