{
 "cells": [
  {
   "cell_type": "markdown",
   "metadata": {},
   "source": [
    "# Water Classification XGBOOST Hyperparameter Tuning - Multi-GPU\n",
    "\n",
    "Version: DEMO\n",
    "\n",
    "ILAB Team\n",
    "\n",
    "Kernel to use:\n",
    "- (ADAPT PRISM 4x GPU instance) `Python [conda env:ilab]`\n",
    "\n",
    "This is a demo notebook showcasing how the ILAB team uses full node (4x GPU in PRISM) capabilities to perform efficient hyperparameter tuning of the XGBoost classifier algorithm. This notebook also demonstates how to use a raster as a test data-set for the trained model."
   ]
  },
  {
   "cell_type": "code",
   "execution_count": 1,
   "metadata": {},
   "outputs": [],
   "source": [
    "import csv\n",
    "import datetime\n",
    "import glob\n",
    "import joblib\n",
    "import numpy as np\n",
    "import os\n",
    "import pandas as pd\n",
    "from pathlib import Path\n",
    "import sys\n",
    "\n",
    "import xgboost as xgb\n",
    "\n",
    "import optuna\n",
    "\n",
    "import dask\n",
    "from dask_cuda import LocalCUDACluster\n",
    "from dask.distributed import Client\n",
    "\n",
    "from sklearn.metrics import accuracy_score, roc_curve, auc\n",
    "from sklearn.metrics import confusion_matrix, accuracy_score, roc_auc_score, precision_score\n",
    "from sklearn.metrics import classification_report, f1_score\n",
    "from sklearn.model_selection import train_test_split \n",
    "from sklearn.inspection import permutation_importance\n",
    "\n",
    "# Visualization\n",
    "import seaborn as sns\n",
    "import matplotlib.pyplot as plt\n",
    "import warnings\n",
    "\n",
    "#GDAL Stuff\n",
    "from osgeo import gdalconst\n",
    "from osgeo import gdal\n",
    "\n",
    "from pprint import pprint\n",
    "\n",
    "warnings.filterwarnings('ignore')\n",
    "plt.style.use('fivethirtyeight')\n",
    "%matplotlib inline"
   ]
  },
  {
   "cell_type": "code",
   "execution_count": 2,
   "metadata": {},
   "outputs": [
    {
     "name": "stderr",
     "output_type": "stream",
     "text": [
      "distributed.preloading - INFO - Import preload module: dask_cuda.initialize\n",
      "distributed.preloading - INFO - Import preload module: dask_cuda.initialize\n",
      "distributed.preloading - INFO - Import preload module: dask_cuda.initialize\n",
      "distributed.preloading - INFO - Import preload module: dask_cuda.initialize\n"
     ]
    }
   ],
   "source": [
    "cluster = LocalCUDACluster()\n",
    "client = Client(cluster)"
   ]
  },
  {
   "cell_type": "code",
   "execution_count": 3,
   "metadata": {},
   "outputs": [
    {
     "data": {
      "application/vnd.jupyter.widget-view+json": {
       "model_id": "f0d32bdd73c24aec80bae6cc80b10af7",
       "version_major": 2,
       "version_minor": 0
      },
      "text/plain": [
       "Tab(children=(HTML(value='<div class=\"jp-RenderedHTMLCommon jp-RenderedHTML jp-mod-trusted jp-OutputArea-outpu…"
      ]
     },
     "metadata": {},
     "output_type": "display_data"
    }
   ],
   "source": [
    "cluster"
   ]
  },
  {
   "cell_type": "code",
   "execution_count": 4,
   "metadata": {},
   "outputs": [
    {
     "data": {
      "text/html": [
       "<div>\n",
       "    <div style=\"width: 24px; height: 24px; background-color: #e1e1e1; border: 3px solid #9D9D9D; border-radius: 5px; position: absolute;\"> </div>\n",
       "    <div style=\"margin-left: 48px;\">\n",
       "        <h3 style=\"margin-bottom: 0px;\">Client</h3>\n",
       "        <p style=\"color: #9D9D9D; margin-bottom: 0px;\">Client-7601716e-b458-11ec-8baa-ac1f6bbcb6ae</p>\n",
       "        <table style=\"width: 100%; text-align: left;\">\n",
       "\n",
       "        <tr>\n",
       "        \n",
       "            <td style=\"text-align: left;\"><strong>Connection method:</strong> Cluster object</td>\n",
       "            <td style=\"text-align: left;\"><strong>Cluster type:</strong> dask_cuda.LocalCUDACluster</td>\n",
       "        \n",
       "        </tr>\n",
       "\n",
       "        \n",
       "            <tr>\n",
       "                <td style=\"text-align: left;\">\n",
       "                    <strong>Dashboard: </strong> <a href=\"http://127.0.0.1:8787/status\" target=\"_blank\">http://127.0.0.1:8787/status</a>\n",
       "                </td>\n",
       "                <td style=\"text-align: left;\"></td>\n",
       "            </tr>\n",
       "        \n",
       "\n",
       "        </table>\n",
       "\n",
       "        \n",
       "            <details>\n",
       "            <summary style=\"margin-bottom: 20px;\"><h3 style=\"display: inline;\">Cluster Info</h3></summary>\n",
       "            <div class=\"jp-RenderedHTMLCommon jp-RenderedHTML jp-mod-trusted jp-OutputArea-output\">\n",
       "    <div style=\"width: 24px; height: 24px; background-color: #e1e1e1; border: 3px solid #9D9D9D; border-radius: 5px; position: absolute;\">\n",
       "    </div>\n",
       "    <div style=\"margin-left: 48px;\">\n",
       "        <h3 style=\"margin-bottom: 0px; margin-top: 0px;\">LocalCUDACluster</h3>\n",
       "        <p style=\"color: #9D9D9D; margin-bottom: 0px;\">70a88ebd</p>\n",
       "        <table style=\"width: 100%; text-align: left;\">\n",
       "            <tr>\n",
       "                <td style=\"text-align: left;\">\n",
       "                    <strong>Dashboard:</strong> <a href=\"http://127.0.0.1:8787/status\" target=\"_blank\">http://127.0.0.1:8787/status</a>\n",
       "                </td>\n",
       "                <td style=\"text-align: left;\">\n",
       "                    <strong>Workers:</strong> 4\n",
       "                </td>\n",
       "            </tr>\n",
       "            <tr>\n",
       "                <td style=\"text-align: left;\">\n",
       "                    <strong>Total threads:</strong> 4\n",
       "                </td>\n",
       "                <td style=\"text-align: left;\">\n",
       "                    <strong>Total memory:</strong> 754.59 GiB\n",
       "                </td>\n",
       "            </tr>\n",
       "            \n",
       "            <tr>\n",
       "    <td style=\"text-align: left;\"><strong>Status:</strong> running</td>\n",
       "    <td style=\"text-align: left;\"><strong>Using processes:</strong> True</td>\n",
       "</tr>\n",
       "\n",
       "            \n",
       "        </table>\n",
       "\n",
       "        <details>\n",
       "            <summary style=\"margin-bottom: 20px;\">\n",
       "                <h3 style=\"display: inline;\">Scheduler Info</h3>\n",
       "            </summary>\n",
       "\n",
       "            <div style=\"\">\n",
       "    <div>\n",
       "        <div style=\"width: 24px; height: 24px; background-color: #FFF7E5; border: 3px solid #FF6132; border-radius: 5px; position: absolute;\"> </div>\n",
       "        <div style=\"margin-left: 48px;\">\n",
       "            <h3 style=\"margin-bottom: 0px;\">Scheduler</h3>\n",
       "            <p style=\"color: #9D9D9D; margin-bottom: 0px;\">Scheduler-2ae8f330-ded4-4386-9ef9-735efe4d39e4</p>\n",
       "            <table style=\"width: 100%; text-align: left;\">\n",
       "                <tr>\n",
       "                    <td style=\"text-align: left;\">\n",
       "                        <strong>Comm:</strong> tcp://127.0.0.1:34677\n",
       "                    </td>\n",
       "                    <td style=\"text-align: left;\">\n",
       "                        <strong>Workers:</strong> 4\n",
       "                    </td>\n",
       "                </tr>\n",
       "                <tr>\n",
       "                    <td style=\"text-align: left;\">\n",
       "                        <strong>Dashboard:</strong> <a href=\"http://127.0.0.1:8787/status\" target=\"_blank\">http://127.0.0.1:8787/status</a>\n",
       "                    </td>\n",
       "                    <td style=\"text-align: left;\">\n",
       "                        <strong>Total threads:</strong> 4\n",
       "                    </td>\n",
       "                </tr>\n",
       "                <tr>\n",
       "                    <td style=\"text-align: left;\">\n",
       "                        <strong>Started:</strong> Just now\n",
       "                    </td>\n",
       "                    <td style=\"text-align: left;\">\n",
       "                        <strong>Total memory:</strong> 754.59 GiB\n",
       "                    </td>\n",
       "                </tr>\n",
       "            </table>\n",
       "        </div>\n",
       "    </div>\n",
       "\n",
       "    <details style=\"margin-left: 48px;\">\n",
       "        <summary style=\"margin-bottom: 20px;\">\n",
       "            <h3 style=\"display: inline;\">Workers</h3>\n",
       "        </summary>\n",
       "\n",
       "        \n",
       "        <div style=\"margin-bottom: 20px;\">\n",
       "            <div style=\"width: 24px; height: 24px; background-color: #DBF5FF; border: 3px solid #4CC9FF; border-radius: 5px; position: absolute;\"> </div>\n",
       "            <div style=\"margin-left: 48px;\">\n",
       "            <details>\n",
       "                <summary>\n",
       "                    <h4 style=\"margin-bottom: 0px; display: inline;\">Worker: 0</h4>\n",
       "                </summary>\n",
       "                <table style=\"width: 100%; text-align: left;\">\n",
       "                    <tr>\n",
       "                        <td style=\"text-align: left;\">\n",
       "                            <strong>Comm: </strong> tcp://10.100.38.5:46681\n",
       "                        </td>\n",
       "                        <td style=\"text-align: left;\">\n",
       "                            <strong>Total threads: </strong> 1\n",
       "                        </td>\n",
       "                    </tr>\n",
       "                    <tr>\n",
       "                        <td style=\"text-align: left;\">\n",
       "                            <strong>Dashboard: </strong> <a href=\"http://10.100.38.5:44945/status\" target=\"_blank\">http://10.100.38.5:44945/status</a>\n",
       "                        </td>\n",
       "                        <td style=\"text-align: left;\">\n",
       "                            <strong>Memory: </strong> 188.65 GiB\n",
       "                        </td>\n",
       "                    </tr>\n",
       "                    <tr>\n",
       "                        <td style=\"text-align: left;\">\n",
       "                            <strong>Nanny: </strong> tcp://127.0.0.1:42702\n",
       "                        </td>\n",
       "                        <td style=\"text-align: left;\"></td>\n",
       "                    </tr>\n",
       "                    <tr>\n",
       "                        <td colspan=\"2\" style=\"text-align: left;\">\n",
       "                            <strong>Local directory: </strong> /gpfsm/ccds01/nobackup/people/cssprad1/public_release_notebooks/testing/notebooks/dask-worker-space/worker-q_kjpjfe\n",
       "                        </td>\n",
       "                    </tr>\n",
       "\n",
       "                    \n",
       "                    <tr>\n",
       "                        <td style=\"text-align: left;\">\n",
       "                            <strong>GPU: </strong>Tesla V100-SXM2-32GB\n",
       "                        </td>\n",
       "                        <td style=\"text-align: left;\">\n",
       "                            <strong>GPU memory: </strong> 31.75 GiB\n",
       "                        </td>\n",
       "                    </tr>\n",
       "                    \n",
       "\n",
       "                    \n",
       "\n",
       "                </table>\n",
       "            </details>\n",
       "            </div>\n",
       "        </div>\n",
       "        \n",
       "        <div style=\"margin-bottom: 20px;\">\n",
       "            <div style=\"width: 24px; height: 24px; background-color: #DBF5FF; border: 3px solid #4CC9FF; border-radius: 5px; position: absolute;\"> </div>\n",
       "            <div style=\"margin-left: 48px;\">\n",
       "            <details>\n",
       "                <summary>\n",
       "                    <h4 style=\"margin-bottom: 0px; display: inline;\">Worker: 1</h4>\n",
       "                </summary>\n",
       "                <table style=\"width: 100%; text-align: left;\">\n",
       "                    <tr>\n",
       "                        <td style=\"text-align: left;\">\n",
       "                            <strong>Comm: </strong> tcp://10.100.38.5:38427\n",
       "                        </td>\n",
       "                        <td style=\"text-align: left;\">\n",
       "                            <strong>Total threads: </strong> 1\n",
       "                        </td>\n",
       "                    </tr>\n",
       "                    <tr>\n",
       "                        <td style=\"text-align: left;\">\n",
       "                            <strong>Dashboard: </strong> <a href=\"http://10.100.38.5:36654/status\" target=\"_blank\">http://10.100.38.5:36654/status</a>\n",
       "                        </td>\n",
       "                        <td style=\"text-align: left;\">\n",
       "                            <strong>Memory: </strong> 188.65 GiB\n",
       "                        </td>\n",
       "                    </tr>\n",
       "                    <tr>\n",
       "                        <td style=\"text-align: left;\">\n",
       "                            <strong>Nanny: </strong> tcp://127.0.0.1:38731\n",
       "                        </td>\n",
       "                        <td style=\"text-align: left;\"></td>\n",
       "                    </tr>\n",
       "                    <tr>\n",
       "                        <td colspan=\"2\" style=\"text-align: left;\">\n",
       "                            <strong>Local directory: </strong> /gpfsm/ccds01/nobackup/people/cssprad1/public_release_notebooks/testing/notebooks/dask-worker-space/worker-l99parxy\n",
       "                        </td>\n",
       "                    </tr>\n",
       "\n",
       "                    \n",
       "                    <tr>\n",
       "                        <td style=\"text-align: left;\">\n",
       "                            <strong>GPU: </strong>Tesla V100-SXM2-32GB\n",
       "                        </td>\n",
       "                        <td style=\"text-align: left;\">\n",
       "                            <strong>GPU memory: </strong> 31.75 GiB\n",
       "                        </td>\n",
       "                    </tr>\n",
       "                    \n",
       "\n",
       "                    \n",
       "\n",
       "                </table>\n",
       "            </details>\n",
       "            </div>\n",
       "        </div>\n",
       "        \n",
       "        <div style=\"margin-bottom: 20px;\">\n",
       "            <div style=\"width: 24px; height: 24px; background-color: #DBF5FF; border: 3px solid #4CC9FF; border-radius: 5px; position: absolute;\"> </div>\n",
       "            <div style=\"margin-left: 48px;\">\n",
       "            <details>\n",
       "                <summary>\n",
       "                    <h4 style=\"margin-bottom: 0px; display: inline;\">Worker: 2</h4>\n",
       "                </summary>\n",
       "                <table style=\"width: 100%; text-align: left;\">\n",
       "                    <tr>\n",
       "                        <td style=\"text-align: left;\">\n",
       "                            <strong>Comm: </strong> tcp://10.100.38.5:36918\n",
       "                        </td>\n",
       "                        <td style=\"text-align: left;\">\n",
       "                            <strong>Total threads: </strong> 1\n",
       "                        </td>\n",
       "                    </tr>\n",
       "                    <tr>\n",
       "                        <td style=\"text-align: left;\">\n",
       "                            <strong>Dashboard: </strong> <a href=\"http://10.100.38.5:42405/status\" target=\"_blank\">http://10.100.38.5:42405/status</a>\n",
       "                        </td>\n",
       "                        <td style=\"text-align: left;\">\n",
       "                            <strong>Memory: </strong> 188.65 GiB\n",
       "                        </td>\n",
       "                    </tr>\n",
       "                    <tr>\n",
       "                        <td style=\"text-align: left;\">\n",
       "                            <strong>Nanny: </strong> tcp://127.0.0.1:44211\n",
       "                        </td>\n",
       "                        <td style=\"text-align: left;\"></td>\n",
       "                    </tr>\n",
       "                    <tr>\n",
       "                        <td colspan=\"2\" style=\"text-align: left;\">\n",
       "                            <strong>Local directory: </strong> /gpfsm/ccds01/nobackup/people/cssprad1/public_release_notebooks/testing/notebooks/dask-worker-space/worker-_5025myu\n",
       "                        </td>\n",
       "                    </tr>\n",
       "\n",
       "                    \n",
       "                    <tr>\n",
       "                        <td style=\"text-align: left;\">\n",
       "                            <strong>GPU: </strong>Tesla V100-SXM2-32GB\n",
       "                        </td>\n",
       "                        <td style=\"text-align: left;\">\n",
       "                            <strong>GPU memory: </strong> 31.75 GiB\n",
       "                        </td>\n",
       "                    </tr>\n",
       "                    \n",
       "\n",
       "                    \n",
       "\n",
       "                </table>\n",
       "            </details>\n",
       "            </div>\n",
       "        </div>\n",
       "        \n",
       "        <div style=\"margin-bottom: 20px;\">\n",
       "            <div style=\"width: 24px; height: 24px; background-color: #DBF5FF; border: 3px solid #4CC9FF; border-radius: 5px; position: absolute;\"> </div>\n",
       "            <div style=\"margin-left: 48px;\">\n",
       "            <details>\n",
       "                <summary>\n",
       "                    <h4 style=\"margin-bottom: 0px; display: inline;\">Worker: 3</h4>\n",
       "                </summary>\n",
       "                <table style=\"width: 100%; text-align: left;\">\n",
       "                    <tr>\n",
       "                        <td style=\"text-align: left;\">\n",
       "                            <strong>Comm: </strong> tcp://10.100.38.5:39625\n",
       "                        </td>\n",
       "                        <td style=\"text-align: left;\">\n",
       "                            <strong>Total threads: </strong> 1\n",
       "                        </td>\n",
       "                    </tr>\n",
       "                    <tr>\n",
       "                        <td style=\"text-align: left;\">\n",
       "                            <strong>Dashboard: </strong> <a href=\"http://10.100.38.5:43354/status\" target=\"_blank\">http://10.100.38.5:43354/status</a>\n",
       "                        </td>\n",
       "                        <td style=\"text-align: left;\">\n",
       "                            <strong>Memory: </strong> 188.65 GiB\n",
       "                        </td>\n",
       "                    </tr>\n",
       "                    <tr>\n",
       "                        <td style=\"text-align: left;\">\n",
       "                            <strong>Nanny: </strong> tcp://127.0.0.1:46253\n",
       "                        </td>\n",
       "                        <td style=\"text-align: left;\"></td>\n",
       "                    </tr>\n",
       "                    <tr>\n",
       "                        <td colspan=\"2\" style=\"text-align: left;\">\n",
       "                            <strong>Local directory: </strong> /gpfsm/ccds01/nobackup/people/cssprad1/public_release_notebooks/testing/notebooks/dask-worker-space/worker-juoi69f0\n",
       "                        </td>\n",
       "                    </tr>\n",
       "\n",
       "                    \n",
       "                    <tr>\n",
       "                        <td style=\"text-align: left;\">\n",
       "                            <strong>GPU: </strong>Tesla V100-SXM2-32GB\n",
       "                        </td>\n",
       "                        <td style=\"text-align: left;\">\n",
       "                            <strong>GPU memory: </strong> 31.75 GiB\n",
       "                        </td>\n",
       "                    </tr>\n",
       "                    \n",
       "\n",
       "                    \n",
       "\n",
       "                </table>\n",
       "            </details>\n",
       "            </div>\n",
       "        </div>\n",
       "        \n",
       "\n",
       "    </details>\n",
       "</div>\n",
       "\n",
       "        </details>\n",
       "    </div>\n",
       "</div>\n",
       "            </details>\n",
       "        \n",
       "\n",
       "    </div>\n",
       "</div>"
      ],
      "text/plain": [
       "<Client: 'tcp://127.0.0.1:34677' processes=4 threads=4, memory=754.59 GiB>"
      ]
     },
     "execution_count": 4,
     "metadata": {},
     "output_type": "execute_result"
    }
   ],
   "source": [
    "client"
   ]
  },
  {
   "cell_type": "code",
   "execution_count": 5,
   "metadata": {},
   "outputs": [],
   "source": [
    "GPU = True\n",
    "DATA_TYPE = np.int16"
   ]
  },
  {
   "cell_type": "code",
   "execution_count": 6,
   "metadata": {},
   "outputs": [],
   "source": [
    "v_names = ['sur_refl_b01_1','sur_refl_b02_1','sur_refl_b03_1',\n",
    "           'sur_refl_b04_1','sur_refl_b05_1','sur_refl_b06_1',\n",
    "           'sur_refl_b07_1','ndvi','ndwi1','ndwi2']"
   ]
  },
  {
   "cell_type": "markdown",
   "metadata": {},
   "source": [
    "Add names from above to this list to drop them from training and testing.\n",
    "\n",
    "For example:\n",
    "\n",
    "```python\n",
    "columnsToDrop = ['sur_refl_b01_1', 'sur_refl_b07_1', 'ndwi1']\n",
    "```"
   ]
  },
  {
   "cell_type": "code",
   "execution_count": 7,
   "metadata": {},
   "outputs": [],
   "source": [
    "columnsToDrop = []"
   ]
  },
  {
   "cell_type": "markdown",
   "metadata": {},
   "source": [
    "This is a 1000 row training dataset which has columns for all the features listed in v_names. MODIS MOD09GA and MOD09GQ were the data sources."
   ]
  },
  {
   "cell_type": "code",
   "execution_count": 8,
   "metadata": {},
   "outputs": [],
   "source": [
    "dfPath = '../data/WaterClassificationPowell.parquet.gzip'"
   ]
  },
  {
   "cell_type": "code",
   "execution_count": 9,
   "metadata": {},
   "outputs": [],
   "source": [
    "outputRasterPath = '.'"
   ]
  },
  {
   "cell_type": "code",
   "execution_count": 10,
   "metadata": {},
   "outputs": [],
   "source": [
    "df = pd.read_parquet(dfPath).astype(DATA_TYPE)\n",
    "df = df.drop(columns=columnsToDrop)\n",
    "X = df.drop(['water'], axis=1)\n",
    "y = df['water']\n",
    "X_train, X_test, y_train, y_test = train_test_split(X, y, test_size=0.2)\n",
    "X_train, X_val, y_train, y_val = train_test_split(X_train, y_train, test_size=0.1)"
   ]
  },
  {
   "cell_type": "code",
   "execution_count": 11,
   "metadata": {},
   "outputs": [
    {
     "name": "stdout",
     "output_type": "stream",
     "text": [
      "sur_refl_b01_1\n",
      "sur_refl_b02_1\n",
      "sur_refl_b03_1\n",
      "sur_refl_b04_1\n",
      "sur_refl_b05_1\n",
      "sur_refl_b06_1\n",
      "sur_refl_b07_1\n",
      "ndvi\n",
      "ndwi1\n",
      "ndwi2\n"
     ]
    }
   ],
   "source": [
    "_ = [print(column) for column in X_train.columns]"
   ]
  },
  {
   "cell_type": "code",
   "execution_count": 12,
   "metadata": {},
   "outputs": [
    {
     "data": {
      "text/html": [
       "<div>\n",
       "<style scoped>\n",
       "    .dataframe tbody tr th:only-of-type {\n",
       "        vertical-align: middle;\n",
       "    }\n",
       "\n",
       "    .dataframe tbody tr th {\n",
       "        vertical-align: top;\n",
       "    }\n",
       "\n",
       "    .dataframe thead th {\n",
       "        text-align: right;\n",
       "    }\n",
       "</style>\n",
       "<table border=\"1\" class=\"dataframe\">\n",
       "  <thead>\n",
       "    <tr style=\"text-align: right;\">\n",
       "      <th></th>\n",
       "      <th>count</th>\n",
       "      <th>mean</th>\n",
       "      <th>std</th>\n",
       "      <th>min</th>\n",
       "      <th>25%</th>\n",
       "      <th>50%</th>\n",
       "      <th>75%</th>\n",
       "      <th>max</th>\n",
       "    </tr>\n",
       "  </thead>\n",
       "  <tbody>\n",
       "    <tr>\n",
       "      <th>sur_refl_b01_1</th>\n",
       "      <td>720.0</td>\n",
       "      <td>1194.425000</td>\n",
       "      <td>1251.546112</td>\n",
       "      <td>8.0</td>\n",
       "      <td>232.50</td>\n",
       "      <td>881.5</td>\n",
       "      <td>1880.50</td>\n",
       "      <td>8900.0</td>\n",
       "    </tr>\n",
       "    <tr>\n",
       "      <th>sur_refl_b02_1</th>\n",
       "      <td>720.0</td>\n",
       "      <td>1549.977778</td>\n",
       "      <td>1522.776539</td>\n",
       "      <td>1.0</td>\n",
       "      <td>166.00</td>\n",
       "      <td>1290.5</td>\n",
       "      <td>2673.25</td>\n",
       "      <td>8617.0</td>\n",
       "    </tr>\n",
       "    <tr>\n",
       "      <th>sur_refl_b03_1</th>\n",
       "      <td>720.0</td>\n",
       "      <td>722.084722</td>\n",
       "      <td>929.663558</td>\n",
       "      <td>-100.0</td>\n",
       "      <td>274.75</td>\n",
       "      <td>544.0</td>\n",
       "      <td>846.25</td>\n",
       "      <td>8780.0</td>\n",
       "    </tr>\n",
       "    <tr>\n",
       "      <th>sur_refl_b04_1</th>\n",
       "      <td>720.0</td>\n",
       "      <td>1008.633333</td>\n",
       "      <td>999.331256</td>\n",
       "      <td>6.0</td>\n",
       "      <td>392.75</td>\n",
       "      <td>818.0</td>\n",
       "      <td>1299.50</td>\n",
       "      <td>8754.0</td>\n",
       "    </tr>\n",
       "    <tr>\n",
       "      <th>sur_refl_b05_1</th>\n",
       "      <td>720.0</td>\n",
       "      <td>1942.426389</td>\n",
       "      <td>1455.900707</td>\n",
       "      <td>-17.0</td>\n",
       "      <td>536.25</td>\n",
       "      <td>1818.5</td>\n",
       "      <td>3123.25</td>\n",
       "      <td>6382.0</td>\n",
       "    </tr>\n",
       "    <tr>\n",
       "      <th>sur_refl_b06_1</th>\n",
       "      <td>720.0</td>\n",
       "      <td>1916.252778</td>\n",
       "      <td>1534.327784</td>\n",
       "      <td>51.0</td>\n",
       "      <td>507.75</td>\n",
       "      <td>1527.0</td>\n",
       "      <td>3173.50</td>\n",
       "      <td>6610.0</td>\n",
       "    </tr>\n",
       "    <tr>\n",
       "      <th>sur_refl_b07_1</th>\n",
       "      <td>720.0</td>\n",
       "      <td>1580.554167</td>\n",
       "      <td>1382.346115</td>\n",
       "      <td>0.0</td>\n",
       "      <td>316.75</td>\n",
       "      <td>1204.0</td>\n",
       "      <td>2657.75</td>\n",
       "      <td>6128.0</td>\n",
       "    </tr>\n",
       "    <tr>\n",
       "      <th>ndvi</th>\n",
       "      <td>720.0</td>\n",
       "      <td>-5.094444</td>\n",
       "      <td>2567.278965</td>\n",
       "      <td>-9493.0</td>\n",
       "      <td>-1581.50</td>\n",
       "      <td>583.0</td>\n",
       "      <td>1732.75</td>\n",
       "      <td>6732.0</td>\n",
       "    </tr>\n",
       "    <tr>\n",
       "      <th>ndwi1</th>\n",
       "      <td>720.0</td>\n",
       "      <td>-2428.954167</td>\n",
       "      <td>3462.913914</td>\n",
       "      <td>-9862.0</td>\n",
       "      <td>-4676.50</td>\n",
       "      <td>-1694.5</td>\n",
       "      <td>-804.25</td>\n",
       "      <td>8685.0</td>\n",
       "    </tr>\n",
       "    <tr>\n",
       "      <th>ndwi2</th>\n",
       "      <td>720.0</td>\n",
       "      <td>-1094.434722</td>\n",
       "      <td>3837.975467</td>\n",
       "      <td>-9692.0</td>\n",
       "      <td>-2984.75</td>\n",
       "      <td>-766.0</td>\n",
       "      <td>674.25</td>\n",
       "      <td>10000.0</td>\n",
       "    </tr>\n",
       "  </tbody>\n",
       "</table>\n",
       "</div>"
      ],
      "text/plain": [
       "                count         mean          std     min      25%     50%  \\\n",
       "sur_refl_b01_1  720.0  1194.425000  1251.546112     8.0   232.50   881.5   \n",
       "sur_refl_b02_1  720.0  1549.977778  1522.776539     1.0   166.00  1290.5   \n",
       "sur_refl_b03_1  720.0   722.084722   929.663558  -100.0   274.75   544.0   \n",
       "sur_refl_b04_1  720.0  1008.633333   999.331256     6.0   392.75   818.0   \n",
       "sur_refl_b05_1  720.0  1942.426389  1455.900707   -17.0   536.25  1818.5   \n",
       "sur_refl_b06_1  720.0  1916.252778  1534.327784    51.0   507.75  1527.0   \n",
       "sur_refl_b07_1  720.0  1580.554167  1382.346115     0.0   316.75  1204.0   \n",
       "ndvi            720.0    -5.094444  2567.278965 -9493.0 -1581.50   583.0   \n",
       "ndwi1           720.0 -2428.954167  3462.913914 -9862.0 -4676.50 -1694.5   \n",
       "ndwi2           720.0 -1094.434722  3837.975467 -9692.0 -2984.75  -766.0   \n",
       "\n",
       "                    75%      max  \n",
       "sur_refl_b01_1  1880.50   8900.0  \n",
       "sur_refl_b02_1  2673.25   8617.0  \n",
       "sur_refl_b03_1   846.25   8780.0  \n",
       "sur_refl_b04_1  1299.50   8754.0  \n",
       "sur_refl_b05_1  3123.25   6382.0  \n",
       "sur_refl_b06_1  3173.50   6610.0  \n",
       "sur_refl_b07_1  2657.75   6128.0  \n",
       "ndvi            1732.75   6732.0  \n",
       "ndwi1           -804.25   8685.0  \n",
       "ndwi2            674.25  10000.0  "
      ]
     },
     "execution_count": 12,
     "metadata": {},
     "output_type": "execute_result"
    }
   ],
   "source": [
    "X_train.describe().T"
   ]
  },
  {
   "cell_type": "code",
   "execution_count": 13,
   "metadata": {},
   "outputs": [
    {
     "data": {
      "text/html": [
       "<div>\n",
       "<style scoped>\n",
       "    .dataframe tbody tr th:only-of-type {\n",
       "        vertical-align: middle;\n",
       "    }\n",
       "\n",
       "    .dataframe tbody tr th {\n",
       "        vertical-align: top;\n",
       "    }\n",
       "\n",
       "    .dataframe thead th {\n",
       "        text-align: right;\n",
       "    }\n",
       "</style>\n",
       "<table border=\"1\" class=\"dataframe\">\n",
       "  <thead>\n",
       "    <tr style=\"text-align: right;\">\n",
       "      <th></th>\n",
       "      <th>sur_refl_b01_1</th>\n",
       "      <th>sur_refl_b02_1</th>\n",
       "      <th>sur_refl_b03_1</th>\n",
       "      <th>sur_refl_b04_1</th>\n",
       "      <th>sur_refl_b05_1</th>\n",
       "      <th>sur_refl_b06_1</th>\n",
       "      <th>sur_refl_b07_1</th>\n",
       "      <th>ndvi</th>\n",
       "      <th>ndwi1</th>\n",
       "      <th>ndwi2</th>\n",
       "    </tr>\n",
       "  </thead>\n",
       "  <tbody>\n",
       "    <tr>\n",
       "      <th>919</th>\n",
       "      <td>1513</td>\n",
       "      <td>2183</td>\n",
       "      <td>748</td>\n",
       "      <td>1249</td>\n",
       "      <td>2936</td>\n",
       "      <td>3214</td>\n",
       "      <td>2666</td>\n",
       "      <td>1812</td>\n",
       "      <td>-1910</td>\n",
       "      <td>-996</td>\n",
       "    </tr>\n",
       "    <tr>\n",
       "      <th>606</th>\n",
       "      <td>203</td>\n",
       "      <td>118</td>\n",
       "      <td>527</td>\n",
       "      <td>864</td>\n",
       "      <td>1642</td>\n",
       "      <td>1764</td>\n",
       "      <td>1658</td>\n",
       "      <td>-2647</td>\n",
       "      <td>-8746</td>\n",
       "      <td>-8671</td>\n",
       "    </tr>\n",
       "    <tr>\n",
       "      <th>439</th>\n",
       "      <td>1609</td>\n",
       "      <td>2615</td>\n",
       "      <td>797</td>\n",
       "      <td>1000</td>\n",
       "      <td>2143</td>\n",
       "      <td>1708</td>\n",
       "      <td>1107</td>\n",
       "      <td>2381</td>\n",
       "      <td>2098</td>\n",
       "      <td>4051</td>\n",
       "    </tr>\n",
       "    <tr>\n",
       "      <th>629</th>\n",
       "      <td>152</td>\n",
       "      <td>117</td>\n",
       "      <td>179</td>\n",
       "      <td>202</td>\n",
       "      <td>391</td>\n",
       "      <td>354</td>\n",
       "      <td>210</td>\n",
       "      <td>-1301</td>\n",
       "      <td>-5031</td>\n",
       "      <td>-2844</td>\n",
       "    </tr>\n",
       "    <tr>\n",
       "      <th>870</th>\n",
       "      <td>839</td>\n",
       "      <td>1827</td>\n",
       "      <td>371</td>\n",
       "      <td>624</td>\n",
       "      <td>2187</td>\n",
       "      <td>2035</td>\n",
       "      <td>1515</td>\n",
       "      <td>3705</td>\n",
       "      <td>-538</td>\n",
       "      <td>933</td>\n",
       "    </tr>\n",
       "  </tbody>\n",
       "</table>\n",
       "</div>"
      ],
      "text/plain": [
       "     sur_refl_b01_1  sur_refl_b02_1  sur_refl_b03_1  sur_refl_b04_1  \\\n",
       "919            1513            2183             748            1249   \n",
       "606             203             118             527             864   \n",
       "439            1609            2615             797            1000   \n",
       "629             152             117             179             202   \n",
       "870             839            1827             371             624   \n",
       "\n",
       "     sur_refl_b05_1  sur_refl_b06_1  sur_refl_b07_1  ndvi  ndwi1  ndwi2  \n",
       "919            2936            3214            2666  1812  -1910   -996  \n",
       "606            1642            1764            1658 -2647  -8746  -8671  \n",
       "439            2143            1708            1107  2381   2098   4051  \n",
       "629             391             354             210 -1301  -5031  -2844  \n",
       "870            2187            2035            1515  3705   -538    933  "
      ]
     },
     "execution_count": 13,
     "metadata": {},
     "output_type": "execute_result"
    }
   ],
   "source": [
    "X_train.sample(5)"
   ]
  },
  {
   "cell_type": "markdown",
   "metadata": {},
   "source": [
    "## XGBOOST"
   ]
  },
  {
   "cell_type": "markdown",
   "metadata": {},
   "source": [
    "Choose which combination of hyperparameters to train:\n",
    "\n",
    "- n_estimators: Number of learners for the xgboost to fit.\n",
    "- booster: Which booster to use\n",
    "- lamda: L2 regularization rate\n",
    "- alpha: L1 regularization rate\n",
    "- subsample: sampling ration for training data\n",
    "- colsample_bytree: sampling according to each tree\n",
    "- max_depth: maximum depth of the tree, signifies complexity\n",
    "- min_child_weight: minimum child weight, the larger the term, the more complex\n",
    "- gamme: how selective the algorithm is"
   ]
  },
  {
   "cell_type": "code",
   "execution_count": 14,
   "metadata": {},
   "outputs": [],
   "source": [
    "from cuml.dask.common import utils as dask_utils    "
   ]
  },
  {
   "cell_type": "code",
   "execution_count": 15,
   "metadata": {},
   "outputs": [],
   "source": [
    "X_train = dask.dataframe.from_pandas(X_train, npartitions=4)\n",
    "X_val = dask.dataframe.from_pandas(X_val, npartitions=4)\n",
    "y_train = dask.dataframe.from_pandas(y_train, npartitions=4)\n",
    "y_val = dask.dataframe.from_pandas(y_val, npartitions=4)\n",
    "X_test = dask.dataframe.from_pandas(X_test, npartitions=4)\n",
    "y_test = dask.dataframe.from_pandas(y_test, npartitions=4)"
   ]
  },
  {
   "cell_type": "code",
   "execution_count": 16,
   "metadata": {},
   "outputs": [
    {
     "data": {
      "text/plain": [
       "dict_keys(['tcp://10.100.38.5:36918', 'tcp://10.100.38.5:38427', 'tcp://10.100.38.5:39625', 'tcp://10.100.38.5:46681'])"
      ]
     },
     "execution_count": 16,
     "metadata": {},
     "output_type": "execute_result"
    }
   ],
   "source": [
    "workers = client.has_what().keys()\n",
    "workers"
   ]
  },
  {
   "cell_type": "code",
   "execution_count": 17,
   "metadata": {},
   "outputs": [],
   "source": [
    "X_train, y_train = dask_utils.persist_across_workers(client, [X_train, y_train], workers=workers)\n",
    "X_val, y_val = dask_utils.persist_across_workers(client, [X_val, y_val], workers=workers)\n",
    "X_test, y_test = dask_utils.persist_across_workers(client, [X_test, y_test], workers=workers)"
   ]
  },
  {
   "cell_type": "code",
   "execution_count": 19,
   "metadata": {},
   "outputs": [],
   "source": [
    "def objective(trial):\n",
    "    hyperparameters = {\n",
    "        \"verbosity\": 0,\n",
    "        \"objective\": \"binary:logistic\",\n",
    "        # use exact for small dataset.\n",
    "        \"tree_method\": \"gpu_hist\",\n",
    "        \"n_jobs\": -1,\n",
    "        \"n_estimators\": trial.suggest_categorical(\"n_estimators\", [100, 150, 200, 250, 300, 350, 400]),\n",
    "        # defines booster, gblinear for linear functions.\n",
    "        \"booster\": trial.suggest_categorical(\"booster\", [\"gbtree\", \"dart\"]),\n",
    "        # L2 regularization weight.\n",
    "        \"lambda\": trial.suggest_float(\"lambda\", 1e-8, 1.0, log=True),\n",
    "        # L1 regularization weight.\n",
    "        \"alpha\": trial.suggest_float(\"alpha\", 1e-8, 1.0, log=True),\n",
    "        # sampling ratio for training data.\n",
    "        \"subsample\": trial.suggest_float(\"subsample\", 0.1, 0.3),\n",
    "        # sampling according to each tree.\n",
    "        \"colsample_bytree\": trial.suggest_float(\"colsample_bytree\", 0.1, 0.3),\n",
    "        # maximum depth of the tree, signifies complexity of the tree.\n",
    "        \"max_depth\":  trial.suggest_int(\"max_depth\", 3, 15, step=1), \n",
    "        # minimum child weight, larger the term more conservative the tree.\n",
    "        \"min_child_weight\":  trial.suggest_int(\"min_child_weight\", 2, 5), \n",
    "        \"eta\":  trial.suggest_float(\"eta\", 1e-8, 1.0, log=True), \n",
    "        # defines how selective algorithm is.\n",
    "        \"gamma\": trial.suggest_float(\"gamma\", 1e-8, 0.5, log=True), \n",
    "        \"grow_policy\":  trial.suggest_categorical(\"grow_policy\", [\"depthwise\", \"lossguide\"]),\n",
    "    }\n",
    "    pruning_callback = optuna.integration.XGBoostPruningCallback(trial, \"validation_0-auc\")\n",
    "    classifier = xgb.dask.DaskXGBClassifier(**hyperparameters)\n",
    "    classifier.client = client\n",
    "    eval_set = [(X_train, y_train), (X_val, y_val)]\n",
    "    eval_metric = [\"error\",\"auc\"]\n",
    "    classifier.fit(X_train, \n",
    "                   y_train, \n",
    "                   eval_set=eval_set, \n",
    "                   eval_metric=eval_metric, \n",
    "                   early_stopping_rounds=5, \n",
    "                   callbacks=[pruning_callback],\n",
    "                   verbose=False)\n",
    "    preds = classifier.predict(X_test)\n",
    "    preds = preds.compute()\n",
    "    y_test_series = y_test.compute()\n",
    "    cm = confusion_matrix(y_test_series, preds)\n",
    "    fp = cm[1][0]\n",
    "    precision = precision_score(y_test_series, preds)\n",
    "    f1 = f1_score(y_test_series, preds)\n",
    "    print('Confusion matrix')\n",
    "    print('TP: {:9} FN: {:9}'.format(cm[0][0], cm[0][1]))\n",
    "    print('FP: {:9} TN: {:9}'.format(cm[1][0], cm[1][1]))\n",
    "    print('Precision: {}'.format(precision))\n",
    "    print('F1 score: {}'.format(f1))\n",
    "    del classifier, preds\n",
    "    return f1"
   ]
  },
  {
   "cell_type": "markdown",
   "metadata": {},
   "source": [
    "## Set the search space\n",
    "\n",
    "Set the search space for the hyperparameter tuning to search through once. This needs to be in conjunction with the `trial.suggest...` part of the hyperparameters dictionary defined aboce. \n",
    "\n",
    "Ex.\n",
    "\n",
    "If `max_depth` is defined in `hyperparameters` in the `objective` function above as such\n",
    "\n",
    "`\"max_depth\":  trial.suggest_int(\"max_depth\", 3, 15, step=1),` \n",
    "\n",
    "then we need to pair that with the limited search space below as such:\n",
    "\n",
    "`search_space={\"max_depth\":[3, 4, 5, 6, 7, 8, 9, 10, 11, 12, 13, 14, 15]}`\n",
    "\n",
    "This is not the most ideal way of ensuring that trials are not repeated, however it works for now. "
   ]
  },
  {
   "cell_type": "code",
   "execution_count": 20,
   "metadata": {},
   "outputs": [],
   "source": [
    "search_space={\n",
    "    \"max_depth\":[3, 4, 5, 6, 7, 8, 9, 10, 11, 12, 13, 14, 15],\n",
    "}"
   ]
  },
  {
   "cell_type": "markdown",
   "metadata": {},
   "source": [
    "### Set number of trials and timeout\n",
    "\n",
    "Set the number of trials `n_trials=<num of desired trials>` and the maximum time for the total study `timeout=<timeout in minutes>*60`"
   ]
  },
  {
   "cell_type": "code",
   "execution_count": 21,
   "metadata": {},
   "outputs": [
    {
     "name": "stderr",
     "output_type": "stream",
     "text": [
      "\u001b[32m[I 2022-04-04 16:47:53,615]\u001b[0m A new study created in memory with name: xgboost hyperparameter tuning - multi-gpu\u001b[0m\n",
      "[16:47:54] task [xgboost.dask]:tcp://10.100.38.5:38427 got new rank 0\n",
      "[16:47:54] task [xgboost.dask]:tcp://10.100.38.5:36918 got new rank 1\n",
      "[16:47:54] task [xgboost.dask]:tcp://10.100.38.5:46681 got new rank 2\n",
      "[16:47:54] task [xgboost.dask]:tcp://10.100.38.5:39625 got new rank 3\n",
      "\u001b[32m[I 2022-04-04 16:47:58,158]\u001b[0m Trial 0 finished with value: 0.9735449735449735 and parameters: {'n_estimators': 200, 'booster': 'gbtree', 'lambda': 2.12565518379277e-07, 'alpha': 1.197340441283036e-05, 'subsample': 0.28002112439431603, 'colsample_bytree': 0.20730177719992338, 'max_depth': 3, 'min_child_weight': 5, 'eta': 2.6006596388320157e-06, 'gamma': 6.738156849411005e-05, 'grow_policy': 'depthwise'}. Best is trial 0 with value: 0.9735449735449735.\u001b[0m\n"
     ]
    },
    {
     "name": "stdout",
     "output_type": "stream",
     "text": [
      "Confusion matrix\n",
      "TP:       103 FN:         2\n",
      "FP:         3 TN:        92\n",
      "Precision: 0.9787234042553191\n",
      "F1 score: 0.9735449735449735\n"
     ]
    },
    {
     "name": "stderr",
     "output_type": "stream",
     "text": [
      "[16:47:58] task [xgboost.dask]:tcp://10.100.38.5:38427 got new rank 0\n",
      "[16:47:58] task [xgboost.dask]:tcp://10.100.38.5:46681 got new rank 1\n",
      "[16:47:58] task [xgboost.dask]:tcp://10.100.38.5:36918 got new rank 2\n",
      "[16:47:58] task [xgboost.dask]:tcp://10.100.38.5:39625 got new rank 3\n",
      "\u001b[32m[I 2022-04-04 16:48:01,011]\u001b[0m Trial 1 finished with value: 0.9680851063829788 and parameters: {'n_estimators': 200, 'booster': 'gbtree', 'lambda': 0.002362796904443501, 'alpha': 0.25880368435284523, 'subsample': 0.19219687482802977, 'colsample_bytree': 0.22786912697665054, 'max_depth': 9, 'min_child_weight': 5, 'eta': 1.031926750456535e-05, 'gamma': 4.0183618146595855e-06, 'grow_policy': 'lossguide'}. Best is trial 0 with value: 0.9735449735449735.\u001b[0m\n"
     ]
    },
    {
     "name": "stdout",
     "output_type": "stream",
     "text": [
      "Confusion matrix\n",
      "TP:       103 FN:         2\n",
      "FP:         4 TN:        91\n",
      "Precision: 0.978494623655914\n",
      "F1 score: 0.9680851063829788\n"
     ]
    },
    {
     "name": "stderr",
     "output_type": "stream",
     "text": [
      "[16:48:01] task [xgboost.dask]:tcp://10.100.38.5:39625 got new rank 0\n",
      "[16:48:01] task [xgboost.dask]:tcp://10.100.38.5:46681 got new rank 1\n",
      "[16:48:01] task [xgboost.dask]:tcp://10.100.38.5:36918 got new rank 2\n",
      "[16:48:01] task [xgboost.dask]:tcp://10.100.38.5:38427 got new rank 3\n",
      "\u001b[32m[I 2022-04-04 16:48:04,097]\u001b[0m Trial 2 finished with value: 0.9789473684210527 and parameters: {'n_estimators': 200, 'booster': 'dart', 'lambda': 0.07910734528993886, 'alpha': 0.9167375009755195, 'subsample': 0.18682884866052502, 'colsample_bytree': 0.2073770667623765, 'max_depth': 7, 'min_child_weight': 3, 'eta': 2.7580585256817158e-08, 'gamma': 1.1741957156947863e-08, 'grow_policy': 'lossguide'}. Best is trial 2 with value: 0.9789473684210527.\u001b[0m\n"
     ]
    },
    {
     "name": "stdout",
     "output_type": "stream",
     "text": [
      "Confusion matrix\n",
      "TP:       103 FN:         2\n",
      "FP:         2 TN:        93\n",
      "Precision: 0.9789473684210527\n",
      "F1 score: 0.9789473684210527\n"
     ]
    },
    {
     "name": "stderr",
     "output_type": "stream",
     "text": [
      "[16:48:04] task [xgboost.dask]:tcp://10.100.38.5:38427 got new rank 0\n",
      "[16:48:04] task [xgboost.dask]:tcp://10.100.38.5:46681 got new rank 1\n",
      "[16:48:04] task [xgboost.dask]:tcp://10.100.38.5:39625 got new rank 2\n",
      "[16:48:04] task [xgboost.dask]:tcp://10.100.38.5:36918 got new rank 3\n",
      "\u001b[32m[I 2022-04-04 16:48:07,377]\u001b[0m Trial 3 finished with value: 0.9565217391304348 and parameters: {'n_estimators': 100, 'booster': 'dart', 'lambda': 2.4994114931280598e-06, 'alpha': 0.19710655384550133, 'subsample': 0.14227619201010194, 'colsample_bytree': 0.19767811363329563, 'max_depth': 14, 'min_child_weight': 5, 'eta': 0.01355385763820752, 'gamma': 9.754745793445555e-05, 'grow_policy': 'depthwise'}. Best is trial 2 with value: 0.9789473684210527.\u001b[0m\n"
     ]
    },
    {
     "name": "stdout",
     "output_type": "stream",
     "text": [
      "Confusion matrix\n",
      "TP:       104 FN:         1\n",
      "FP:         7 TN:        88\n",
      "Precision: 0.9887640449438202\n",
      "F1 score: 0.9565217391304348\n"
     ]
    },
    {
     "name": "stderr",
     "output_type": "stream",
     "text": [
      "[16:48:07] task [xgboost.dask]:tcp://10.100.38.5:46681 got new rank 0\n",
      "[16:48:07] task [xgboost.dask]:tcp://10.100.38.5:36918 got new rank 1\n",
      "[16:48:07] task [xgboost.dask]:tcp://10.100.38.5:39625 got new rank 2\n",
      "[16:48:07] task [xgboost.dask]:tcp://10.100.38.5:38427 got new rank 3\n",
      "\u001b[32m[I 2022-04-04 16:48:10,261]\u001b[0m Trial 4 finished with value: 0.9789473684210527 and parameters: {'n_estimators': 250, 'booster': 'gbtree', 'lambda': 3.1237926159827905e-08, 'alpha': 1.607553204637239e-08, 'subsample': 0.27456007289284245, 'colsample_bytree': 0.12449851421980063, 'max_depth': 4, 'min_child_weight': 5, 'eta': 0.00017274000044391143, 'gamma': 0.12100694751850345, 'grow_policy': 'lossguide'}. Best is trial 2 with value: 0.9789473684210527.\u001b[0m\n"
     ]
    },
    {
     "name": "stdout",
     "output_type": "stream",
     "text": [
      "Confusion matrix\n",
      "TP:       103 FN:         2\n",
      "FP:         2 TN:        93\n",
      "Precision: 0.9789473684210527\n",
      "F1 score: 0.9789473684210527\n"
     ]
    },
    {
     "name": "stderr",
     "output_type": "stream",
     "text": [
      "[16:48:10] task [xgboost.dask]:tcp://10.100.38.5:38427 got new rank 0\n",
      "[16:48:10] task [xgboost.dask]:tcp://10.100.38.5:39625 got new rank 1\n",
      "[16:48:10] task [xgboost.dask]:tcp://10.100.38.5:36918 got new rank 2\n",
      "[16:48:10] task [xgboost.dask]:tcp://10.100.38.5:46681 got new rank 3\n",
      "\u001b[32m[I 2022-04-04 16:48:13,349]\u001b[0m Trial 5 finished with value: 0.9791666666666666 and parameters: {'n_estimators': 250, 'booster': 'dart', 'lambda': 2.527484549899079e-08, 'alpha': 2.0533730454528096e-05, 'subsample': 0.26715788389015704, 'colsample_bytree': 0.1254116780335053, 'max_depth': 8, 'min_child_weight': 4, 'eta': 1.3519048314448689e-06, 'gamma': 0.0002835899905661779, 'grow_policy': 'lossguide'}. Best is trial 5 with value: 0.9791666666666666.\u001b[0m\n"
     ]
    },
    {
     "name": "stdout",
     "output_type": "stream",
     "text": [
      "Confusion matrix\n",
      "TP:       102 FN:         3\n",
      "FP:         1 TN:        94\n",
      "Precision: 0.9690721649484536\n",
      "F1 score: 0.9791666666666666\n"
     ]
    },
    {
     "name": "stderr",
     "output_type": "stream",
     "text": [
      "[16:48:13] task [xgboost.dask]:tcp://10.100.38.5:46681 got new rank 0\n",
      "[16:48:13] task [xgboost.dask]:tcp://10.100.38.5:38427 got new rank 1\n",
      "[16:48:13] task [xgboost.dask]:tcp://10.100.38.5:39625 got new rank 2\n",
      "[16:48:13] task [xgboost.dask]:tcp://10.100.38.5:36918 got new rank 3\n",
      "\u001b[32m[I 2022-04-04 16:48:16,635]\u001b[0m Trial 6 finished with value: 0.9789473684210527 and parameters: {'n_estimators': 250, 'booster': 'dart', 'lambda': 6.871409659887999e-07, 'alpha': 1.4704813036168371e-08, 'subsample': 0.1003959334430806, 'colsample_bytree': 0.16706446021570795, 'max_depth': 10, 'min_child_weight': 2, 'eta': 1.8205802565733343e-08, 'gamma': 0.00017240143803716495, 'grow_policy': 'lossguide'}. Best is trial 5 with value: 0.9791666666666666.\u001b[0m\n"
     ]
    },
    {
     "name": "stdout",
     "output_type": "stream",
     "text": [
      "Confusion matrix\n",
      "TP:       103 FN:         2\n",
      "FP:         2 TN:        93\n",
      "Precision: 0.9789473684210527\n",
      "F1 score: 0.9789473684210527\n"
     ]
    },
    {
     "name": "stderr",
     "output_type": "stream",
     "text": [
      "[16:48:16] task [xgboost.dask]:tcp://10.100.38.5:46681 got new rank 0\n",
      "[16:48:16] task [xgboost.dask]:tcp://10.100.38.5:36918 got new rank 1\n",
      "[16:48:16] task [xgboost.dask]:tcp://10.100.38.5:38427 got new rank 2\n",
      "[16:48:17] task [xgboost.dask]:tcp://10.100.38.5:39625 got new rank 3\n",
      "\u001b[32m[I 2022-04-04 16:48:19,674]\u001b[0m Trial 7 finished with value: 0.9508196721311476 and parameters: {'n_estimators': 350, 'booster': 'gbtree', 'lambda': 0.01802995068055792, 'alpha': 0.014754273042384978, 'subsample': 0.12329170956633312, 'colsample_bytree': 0.27545206041332704, 'max_depth': 3, 'min_child_weight': 5, 'eta': 1.501925491416828e-05, 'gamma': 7.402609100207296e-08, 'grow_policy': 'lossguide'}. Best is trial 5 with value: 0.9791666666666666.\u001b[0m\n"
     ]
    },
    {
     "name": "stdout",
     "output_type": "stream",
     "text": [
      "Confusion matrix\n",
      "TP:       104 FN:         1\n",
      "FP:         8 TN:        87\n",
      "Precision: 0.9886363636363636\n",
      "F1 score: 0.9508196721311476\n"
     ]
    },
    {
     "name": "stderr",
     "output_type": "stream",
     "text": [
      "[16:48:19] task [xgboost.dask]:tcp://10.100.38.5:39625 got new rank 0\n",
      "[16:48:19] task [xgboost.dask]:tcp://10.100.38.5:36918 got new rank 1\n",
      "[16:48:20] task [xgboost.dask]:tcp://10.100.38.5:38427 got new rank 2\n",
      "[16:48:20] task [xgboost.dask]:tcp://10.100.38.5:46681 got new rank 3\n",
      "\u001b[32m[I 2022-04-04 16:48:22,749]\u001b[0m Trial 8 finished with value: 0.9735449735449735 and parameters: {'n_estimators': 250, 'booster': 'gbtree', 'lambda': 2.85624818800944e-05, 'alpha': 2.215921556732456e-08, 'subsample': 0.2931305561161508, 'colsample_bytree': 0.26195803521495065, 'max_depth': 11, 'min_child_weight': 5, 'eta': 0.006752810985475842, 'gamma': 0.11652879915794771, 'grow_policy': 'lossguide'}. Best is trial 5 with value: 0.9791666666666666.\u001b[0m\n"
     ]
    },
    {
     "name": "stdout",
     "output_type": "stream",
     "text": [
      "Confusion matrix\n",
      "TP:       103 FN:         2\n",
      "FP:         3 TN:        92\n",
      "Precision: 0.9787234042553191\n",
      "F1 score: 0.9735449735449735\n"
     ]
    },
    {
     "name": "stderr",
     "output_type": "stream",
     "text": [
      "[16:48:22] task [xgboost.dask]:tcp://10.100.38.5:38427 got new rank 0\n",
      "[16:48:23] task [xgboost.dask]:tcp://10.100.38.5:36918 got new rank 1\n",
      "[16:48:23] task [xgboost.dask]:tcp://10.100.38.5:46681 got new rank 2\n",
      "[16:48:23] task [xgboost.dask]:tcp://10.100.38.5:39625 got new rank 3\n",
      "\u001b[32m[I 2022-04-04 16:48:25,765]\u001b[0m Trial 9 finished with value: 0.9508196721311476 and parameters: {'n_estimators': 300, 'booster': 'gbtree', 'lambda': 0.003722336351177816, 'alpha': 2.7503808635946744e-07, 'subsample': 0.11286478618026237, 'colsample_bytree': 0.2641329253319062, 'max_depth': 12, 'min_child_weight': 4, 'eta': 0.022954636714839927, 'gamma': 1.5862442609486064e-07, 'grow_policy': 'lossguide'}. Best is trial 5 with value: 0.9791666666666666.\u001b[0m\n"
     ]
    },
    {
     "name": "stdout",
     "output_type": "stream",
     "text": [
      "Confusion matrix\n",
      "TP:       104 FN:         1\n",
      "FP:         8 TN:        87\n",
      "Precision: 0.9886363636363636\n",
      "F1 score: 0.9508196721311476\n"
     ]
    },
    {
     "name": "stderr",
     "output_type": "stream",
     "text": [
      "[16:48:26] task [xgboost.dask]:tcp://10.100.38.5:38427 got new rank 0\n",
      "[16:48:26] task [xgboost.dask]:tcp://10.100.38.5:39625 got new rank 1\n",
      "[16:48:26] task [xgboost.dask]:tcp://10.100.38.5:46681 got new rank 2\n",
      "[16:48:26] task [xgboost.dask]:tcp://10.100.38.5:36918 got new rank 3\n",
      "\u001b[32m[I 2022-04-04 16:48:28,881]\u001b[0m Trial 10 finished with value: 0.96875 and parameters: {'n_estimators': 400, 'booster': 'dart', 'lambda': 1.0210987708440088e-08, 'alpha': 0.0002905176743082224, 'subsample': 0.2389071923244969, 'colsample_bytree': 0.10087709826592474, 'max_depth': 7, 'min_child_weight': 3, 'eta': 0.5562586863863908, 'gamma': 0.010328820937432214, 'grow_policy': 'depthwise'}. Best is trial 5 with value: 0.9791666666666666.\u001b[0m\n"
     ]
    },
    {
     "name": "stdout",
     "output_type": "stream",
     "text": [
      "Confusion matrix\n",
      "TP:       101 FN:         4\n",
      "FP:         2 TN:        93\n",
      "Precision: 0.9587628865979382\n",
      "F1 score: 0.96875\n"
     ]
    },
    {
     "name": "stderr",
     "output_type": "stream",
     "text": [
      "[16:48:29] task [xgboost.dask]:tcp://10.100.38.5:38427 got new rank 0\n",
      "[16:48:29] task [xgboost.dask]:tcp://10.100.38.5:36918 got new rank 1\n",
      "[16:48:29] task [xgboost.dask]:tcp://10.100.38.5:46681 got new rank 2\n",
      "[16:48:29] task [xgboost.dask]:tcp://10.100.38.5:39625 got new rank 3\n",
      "\u001b[32m[I 2022-04-04 16:48:31,786]\u001b[0m Trial 11 finished with value: 0.9625668449197862 and parameters: {'n_estimators': 150, 'booster': 'dart', 'lambda': 0.23583251541631178, 'alpha': 0.00010654287496349537, 'subsample': 0.1855601003984471, 'colsample_bytree': 0.1636866249587921, 'max_depth': 7, 'min_child_weight': 3, 'eta': 1.4743148351770779e-08, 'gamma': 1.240601933460584e-08, 'grow_policy': 'lossguide'}. Best is trial 5 with value: 0.9791666666666666.\u001b[0m\n"
     ]
    },
    {
     "name": "stdout",
     "output_type": "stream",
     "text": [
      "Confusion matrix\n",
      "TP:       103 FN:         2\n",
      "FP:         5 TN:        90\n",
      "Precision: 0.9782608695652174\n",
      "F1 score: 0.9625668449197862\n"
     ]
    },
    {
     "name": "stderr",
     "output_type": "stream",
     "text": [
      "[16:48:32] task [xgboost.dask]:tcp://10.100.38.5:36918 got new rank 0\n",
      "[16:48:32] task [xgboost.dask]:tcp://10.100.38.5:46681 got new rank 1\n",
      "[16:48:32] task [xgboost.dask]:tcp://10.100.38.5:39625 got new rank 2\n",
      "[16:48:32] task [xgboost.dask]:tcp://10.100.38.5:38427 got new rank 3\n",
      "\u001b[32m[I 2022-04-04 16:48:35,182]\u001b[0m Trial 12 finished with value: 0.96875 and parameters: {'n_estimators': 200, 'booster': 'dart', 'lambda': 0.8922170574096567, 'alpha': 0.0038731522689330073, 'subsample': 0.2331925854374584, 'colsample_bytree': 0.15465875998978734, 'max_depth': 7, 'min_child_weight': 4, 'eta': 3.6222438904787754e-07, 'gamma': 0.0018052444799200418, 'grow_policy': 'lossguide'}. Best is trial 5 with value: 0.9791666666666666.\u001b[0m\n"
     ]
    },
    {
     "name": "stdout",
     "output_type": "stream",
     "text": [
      "Confusion matrix\n",
      "TP:       101 FN:         4\n",
      "FP:         2 TN:        93\n",
      "Precision: 0.9587628865979382\n",
      "F1 score: 0.96875\n"
     ]
    },
    {
     "name": "stderr",
     "output_type": "stream",
     "text": [
      "[16:48:35] task [xgboost.dask]:tcp://10.100.38.5:38427 got new rank 0\n",
      "[16:48:35] task [xgboost.dask]:tcp://10.100.38.5:36918 got new rank 1\n",
      "[16:48:35] task [xgboost.dask]:tcp://10.100.38.5:46681 got new rank 2\n",
      "[16:48:35] task [xgboost.dask]:tcp://10.100.38.5:39625 got new rank 3\n",
      "\u001b[32m[I 2022-04-04 16:48:38,230]\u001b[0m Trial 13 finished with value: 0.9583333333333333 and parameters: {'n_estimators': 100, 'booster': 'dart', 'lambda': 0.00010849901615967599, 'alpha': 2.3013594608192376e-06, 'subsample': 0.23067575322557532, 'colsample_bytree': 0.22668174356567827, 'max_depth': 6, 'min_child_weight': 2, 'eta': 3.725381935400634e-07, 'gamma': 3.0382893356361613e-06, 'grow_policy': 'lossguide'}. Best is trial 5 with value: 0.9791666666666666.\u001b[0m\n"
     ]
    },
    {
     "name": "stdout",
     "output_type": "stream",
     "text": [
      "Confusion matrix\n",
      "TP:       100 FN:         5\n",
      "FP:         3 TN:        92\n",
      "Precision: 0.9484536082474226\n",
      "F1 score: 0.9583333333333333\n"
     ]
    },
    {
     "name": "stderr",
     "output_type": "stream",
     "text": [
      "[16:48:38] task [xgboost.dask]:tcp://10.100.38.5:38427 got new rank 0\n",
      "[16:48:38] task [xgboost.dask]:tcp://10.100.38.5:36918 got new rank 1\n",
      "[16:48:38] task [xgboost.dask]:tcp://10.100.38.5:46681 got new rank 2\n",
      "[16:48:38] task [xgboost.dask]:tcp://10.100.38.5:39625 got new rank 3\n",
      "\u001b[32m[I 2022-04-04 16:48:41,247]\u001b[0m Trial 14 finished with value: 0.9789473684210527 and parameters: {'n_estimators': 150, 'booster': 'dart', 'lambda': 0.00013756030418002172, 'alpha': 0.003509615202571283, 'subsample': 0.15078045885103286, 'colsample_bytree': 0.13219211464109665, 'max_depth': 9, 'min_child_weight': 3, 'eta': 2.4460442778610155e-07, 'gamma': 4.0203194017984775e-06, 'grow_policy': 'depthwise'}. Best is trial 5 with value: 0.9791666666666666.\u001b[0m\n"
     ]
    },
    {
     "name": "stdout",
     "output_type": "stream",
     "text": [
      "Confusion matrix\n",
      "TP:       103 FN:         2\n",
      "FP:         2 TN:        93\n",
      "Precision: 0.9789473684210527\n",
      "F1 score: 0.9789473684210527\n"
     ]
    },
    {
     "name": "stderr",
     "output_type": "stream",
     "text": [
      "[16:48:41] task [xgboost.dask]:tcp://10.100.38.5:38427 got new rank 0\n",
      "[16:48:41] task [xgboost.dask]:tcp://10.100.38.5:36918 got new rank 1\n",
      "[16:48:41] task [xgboost.dask]:tcp://10.100.38.5:39625 got new rank 2\n",
      "[16:48:41] task [xgboost.dask]:tcp://10.100.38.5:46681 got new rank 3\n",
      "\u001b[32m[I 2022-04-04 16:48:44,568]\u001b[0m Trial 15 finished with value: 0.964102564102564 and parameters: {'n_estimators': 400, 'booster': 'dart', 'lambda': 8.67611441220166e-06, 'alpha': 8.555594229433245e-06, 'subsample': 0.16757951456792694, 'colsample_bytree': 0.19186803580452888, 'max_depth': 6, 'min_child_weight': 4, 'eta': 0.0003076790449096529, 'gamma': 0.0017308226627342803, 'grow_policy': 'lossguide'}. Best is trial 5 with value: 0.9791666666666666.\u001b[0m\n"
     ]
    },
    {
     "name": "stdout",
     "output_type": "stream",
     "text": [
      "Confusion matrix\n",
      "TP:        99 FN:         6\n",
      "FP:         1 TN:        94\n",
      "Precision: 0.94\n",
      "F1 score: 0.964102564102564\n"
     ]
    },
    {
     "name": "stderr",
     "output_type": "stream",
     "text": [
      "[16:48:44] task [xgboost.dask]:tcp://10.100.38.5:39625 got new rank 0\n",
      "[16:48:44] task [xgboost.dask]:tcp://10.100.38.5:36918 got new rank 1\n",
      "[16:48:44] task [xgboost.dask]:tcp://10.100.38.5:46681 got new rank 2\n",
      "[16:48:45] task [xgboost.dask]:tcp://10.100.38.5:38427 got new rank 3\n",
      "\u001b[32m[I 2022-04-04 16:48:47,705]\u001b[0m Trial 16 finished with value: 0.9740932642487047 and parameters: {'n_estimators': 300, 'booster': 'dart', 'lambda': 0.05193754148412964, 'alpha': 0.0004013513436272304, 'subsample': 0.21269167297971756, 'colsample_bytree': 0.29902264235764997, 'max_depth': 15, 'min_child_weight': 3, 'eta': 8.667372697823485e-08, 'gamma': 3.859286318664282e-07, 'grow_policy': 'lossguide'}. Best is trial 5 with value: 0.9791666666666666.\u001b[0m\n"
     ]
    },
    {
     "name": "stdout",
     "output_type": "stream",
     "text": [
      "Confusion matrix\n",
      "TP:       101 FN:         4\n",
      "FP:         1 TN:        94\n",
      "Precision: 0.9591836734693877\n",
      "F1 score: 0.9740932642487047\n"
     ]
    },
    {
     "name": "stderr",
     "output_type": "stream",
     "text": [
      "[16:48:47] task [xgboost.dask]:tcp://10.100.38.5:46681 got new rank 0\n",
      "[16:48:48] task [xgboost.dask]:tcp://10.100.38.5:36918 got new rank 1\n",
      "[16:48:48] task [xgboost.dask]:tcp://10.100.38.5:39625 got new rank 2\n",
      "[16:48:48] task [xgboost.dask]:tcp://10.100.38.5:38427 got new rank 3\n",
      "\u001b[32m[I 2022-04-04 16:48:50,796]\u001b[0m Trial 17 finished with value: 0.9633507853403142 and parameters: {'n_estimators': 150, 'booster': 'dart', 'lambda': 0.0002937702069724493, 'alpha': 0.004211965086649731, 'subsample': 0.15622010407068607, 'colsample_bytree': 0.1326555156547197, 'max_depth': 9, 'min_child_weight': 4, 'eta': 1.0703822440459493e-06, 'gamma': 8.54386595055767e-06, 'grow_policy': 'depthwise'}. Best is trial 5 with value: 0.9791666666666666.\u001b[0m\n"
     ]
    },
    {
     "name": "stdout",
     "output_type": "stream",
     "text": [
      "Confusion matrix\n",
      "TP:       101 FN:         4\n",
      "FP:         3 TN:        92\n",
      "Precision: 0.9583333333333334\n",
      "F1 score: 0.9633507853403142\n"
     ]
    },
    {
     "name": "stderr",
     "output_type": "stream",
     "text": [
      "[16:48:51] task [xgboost.dask]:tcp://10.100.38.5:38427 got new rank 0\n",
      "[16:48:51] task [xgboost.dask]:tcp://10.100.38.5:39625 got new rank 1\n",
      "[16:48:51] task [xgboost.dask]:tcp://10.100.38.5:46681 got new rank 2\n",
      "[16:48:51] task [xgboost.dask]:tcp://10.100.38.5:36918 got new rank 3\n",
      "\u001b[32m[I 2022-04-04 16:48:53,935]\u001b[0m Trial 18 finished with value: 0.9791666666666666 and parameters: {'n_estimators': 150, 'booster': 'dart', 'lambda': 0.0007073181271573423, 'alpha': 0.02050325530122068, 'subsample': 0.26393267828295736, 'colsample_bytree': 0.10057189500210298, 'max_depth': 11, 'min_child_weight': 2, 'eta': 2.6188166679976334e-05, 'gamma': 2.2392879443144304e-05, 'grow_policy': 'depthwise'}. Best is trial 5 with value: 0.9791666666666666.\u001b[0m\n"
     ]
    },
    {
     "name": "stdout",
     "output_type": "stream",
     "text": [
      "Confusion matrix\n",
      "TP:       102 FN:         3\n",
      "FP:         1 TN:        94\n",
      "Precision: 0.9690721649484536\n",
      "F1 score: 0.9791666666666666\n"
     ]
    },
    {
     "name": "stderr",
     "output_type": "stream",
     "text": [
      "[16:48:54] task [xgboost.dask]:tcp://10.100.38.5:36918 got new rank 0\n",
      "[16:48:54] task [xgboost.dask]:tcp://10.100.38.5:39625 got new rank 1\n",
      "[16:48:54] task [xgboost.dask]:tcp://10.100.38.5:38427 got new rank 2\n",
      "[16:48:54] task [xgboost.dask]:tcp://10.100.38.5:46681 got new rank 3\n",
      "\u001b[32m[I 2022-04-04 16:48:57,028]\u001b[0m Trial 19 finished with value: 0.9791666666666666 and parameters: {'n_estimators': 350, 'booster': 'dart', 'lambda': 0.0005287253809828109, 'alpha': 0.036407345999447026, 'subsample': 0.257454252579101, 'colsample_bytree': 0.10057758921846302, 'max_depth': 13, 'min_child_weight': 2, 'eta': 3.5500056537914394e-05, 'gamma': 0.0005480956399874401, 'grow_policy': 'depthwise'}. Best is trial 5 with value: 0.9791666666666666.\u001b[0m\n"
     ]
    },
    {
     "name": "stdout",
     "output_type": "stream",
     "text": [
      "Confusion matrix\n",
      "TP:       102 FN:         3\n",
      "FP:         1 TN:        94\n",
      "Precision: 0.9690721649484536\n",
      "F1 score: 0.9791666666666666\n"
     ]
    }
   ],
   "source": [
    "optuna.logging.set_verbosity(optuna.logging.INFO)\n",
    "\n",
    "study = optuna.create_study(study_name='xgboost hyperparameter tuning - multi-gpu', \n",
    "                            direction='maximize',\n",
    "                           ) # sampler=optuna.samplers.GridSampler(search_space))\n",
    "\n",
    "study.optimize(objective, n_trials=20, timeout=60*60)"
   ]
  },
  {
   "cell_type": "code",
   "execution_count": 22,
   "metadata": {},
   "outputs": [],
   "source": [
    "client.close()"
   ]
  },
  {
   "cell_type": "code",
   "execution_count": 23,
   "metadata": {},
   "outputs": [
    {
     "name": "stdout",
     "output_type": "stream",
     "text": [
      "Number of finished trials: 20\n",
      "{'n_estimators': 250, 'booster': 'dart', 'lambda': 2.527484549899079e-08, 'alpha': 2.0533730454528096e-05, 'subsample': 0.26715788389015704, 'colsample_bytree': 0.1254116780335053, 'max_depth': 8, 'min_child_weight': 4, 'eta': 1.3519048314448689e-06, 'gamma': 0.0002835899905661779, 'grow_policy': 'lossguide'}\n",
      "0.9791666666666666\n"
     ]
    }
   ],
   "source": [
    "print(\"Number of finished trials: {}\".format(len(study.trials)))\n",
    "trials = study.best_trials\n",
    "trial_score = max([trial.values[0] for trial in trials])\n",
    "best_trial_params = [trial.params for trial in trials if trial.values[0] == trial_score][0]\n",
    "print(best_trial_params)\n",
    "print(trial_score)\n",
    "\n",
    "trial_scores = [trial.values for trial in trials]\n",
    "trial_params = [trial.params for trial in trials]\n",
    "\n",
    "study_df = study.trials_dataframe()\n",
    "study_df.to_csv(\"hyperopt_tuning_trial_{}_xgboost.csv\".format(\n",
    "    datetime.datetime.now().strftime('%Y_%m_%d_%H_%M')))"
   ]
  },
  {
   "cell_type": "code",
   "execution_count": 24,
   "metadata": {},
   "outputs": [
    {
     "data": {
      "text/html": [
       "<div>\n",
       "<style scoped>\n",
       "    .dataframe tbody tr th:only-of-type {\n",
       "        vertical-align: middle;\n",
       "    }\n",
       "\n",
       "    .dataframe tbody tr th {\n",
       "        vertical-align: top;\n",
       "    }\n",
       "\n",
       "    .dataframe thead th {\n",
       "        text-align: right;\n",
       "    }\n",
       "</style>\n",
       "<table border=\"1\" class=\"dataframe\">\n",
       "  <thead>\n",
       "    <tr style=\"text-align: right;\">\n",
       "      <th></th>\n",
       "      <th>number</th>\n",
       "      <th>value</th>\n",
       "      <th>datetime_start</th>\n",
       "      <th>datetime_complete</th>\n",
       "      <th>duration</th>\n",
       "      <th>params_alpha</th>\n",
       "      <th>params_booster</th>\n",
       "      <th>params_colsample_bytree</th>\n",
       "      <th>params_eta</th>\n",
       "      <th>params_gamma</th>\n",
       "      <th>params_grow_policy</th>\n",
       "      <th>params_lambda</th>\n",
       "      <th>params_max_depth</th>\n",
       "      <th>params_min_child_weight</th>\n",
       "      <th>params_n_estimators</th>\n",
       "      <th>params_subsample</th>\n",
       "      <th>state</th>\n",
       "    </tr>\n",
       "  </thead>\n",
       "  <tbody>\n",
       "    <tr>\n",
       "      <th>0</th>\n",
       "      <td>0</td>\n",
       "      <td>0.973545</td>\n",
       "      <td>2022-04-04 16:47:53.620560</td>\n",
       "      <td>2022-04-04 16:47:58.157532</td>\n",
       "      <td>0 days 00:00:04.536972</td>\n",
       "      <td>1.197340e-05</td>\n",
       "      <td>gbtree</td>\n",
       "      <td>0.207302</td>\n",
       "      <td>2.600660e-06</td>\n",
       "      <td>6.738157e-05</td>\n",
       "      <td>depthwise</td>\n",
       "      <td>2.125655e-07</td>\n",
       "      <td>3</td>\n",
       "      <td>5</td>\n",
       "      <td>200</td>\n",
       "      <td>0.280021</td>\n",
       "      <td>COMPLETE</td>\n",
       "    </tr>\n",
       "    <tr>\n",
       "      <th>1</th>\n",
       "      <td>1</td>\n",
       "      <td>0.968085</td>\n",
       "      <td>2022-04-04 16:47:58.160650</td>\n",
       "      <td>2022-04-04 16:48:01.010970</td>\n",
       "      <td>0 days 00:00:02.850320</td>\n",
       "      <td>2.588037e-01</td>\n",
       "      <td>gbtree</td>\n",
       "      <td>0.227869</td>\n",
       "      <td>1.031927e-05</td>\n",
       "      <td>4.018362e-06</td>\n",
       "      <td>lossguide</td>\n",
       "      <td>2.362797e-03</td>\n",
       "      <td>9</td>\n",
       "      <td>5</td>\n",
       "      <td>200</td>\n",
       "      <td>0.192197</td>\n",
       "      <td>COMPLETE</td>\n",
       "    </tr>\n",
       "    <tr>\n",
       "      <th>2</th>\n",
       "      <td>2</td>\n",
       "      <td>0.978947</td>\n",
       "      <td>2022-04-04 16:48:01.013379</td>\n",
       "      <td>2022-04-04 16:48:04.096711</td>\n",
       "      <td>0 days 00:00:03.083332</td>\n",
       "      <td>9.167375e-01</td>\n",
       "      <td>dart</td>\n",
       "      <td>0.207377</td>\n",
       "      <td>2.758059e-08</td>\n",
       "      <td>1.174196e-08</td>\n",
       "      <td>lossguide</td>\n",
       "      <td>7.910735e-02</td>\n",
       "      <td>7</td>\n",
       "      <td>3</td>\n",
       "      <td>200</td>\n",
       "      <td>0.186829</td>\n",
       "      <td>COMPLETE</td>\n",
       "    </tr>\n",
       "    <tr>\n",
       "      <th>3</th>\n",
       "      <td>3</td>\n",
       "      <td>0.956522</td>\n",
       "      <td>2022-04-04 16:48:04.099638</td>\n",
       "      <td>2022-04-04 16:48:07.376590</td>\n",
       "      <td>0 days 00:00:03.276952</td>\n",
       "      <td>1.971066e-01</td>\n",
       "      <td>dart</td>\n",
       "      <td>0.197678</td>\n",
       "      <td>1.355386e-02</td>\n",
       "      <td>9.754746e-05</td>\n",
       "      <td>depthwise</td>\n",
       "      <td>2.499411e-06</td>\n",
       "      <td>14</td>\n",
       "      <td>5</td>\n",
       "      <td>100</td>\n",
       "      <td>0.142276</td>\n",
       "      <td>COMPLETE</td>\n",
       "    </tr>\n",
       "    <tr>\n",
       "      <th>4</th>\n",
       "      <td>4</td>\n",
       "      <td>0.978947</td>\n",
       "      <td>2022-04-04 16:48:07.379951</td>\n",
       "      <td>2022-04-04 16:48:10.260142</td>\n",
       "      <td>0 days 00:00:02.880191</td>\n",
       "      <td>1.607553e-08</td>\n",
       "      <td>gbtree</td>\n",
       "      <td>0.124499</td>\n",
       "      <td>1.727400e-04</td>\n",
       "      <td>1.210069e-01</td>\n",
       "      <td>lossguide</td>\n",
       "      <td>3.123793e-08</td>\n",
       "      <td>4</td>\n",
       "      <td>5</td>\n",
       "      <td>250</td>\n",
       "      <td>0.274560</td>\n",
       "      <td>COMPLETE</td>\n",
       "    </tr>\n",
       "    <tr>\n",
       "      <th>5</th>\n",
       "      <td>5</td>\n",
       "      <td>0.979167</td>\n",
       "      <td>2022-04-04 16:48:10.264517</td>\n",
       "      <td>2022-04-04 16:48:13.348618</td>\n",
       "      <td>0 days 00:00:03.084101</td>\n",
       "      <td>2.053373e-05</td>\n",
       "      <td>dart</td>\n",
       "      <td>0.125412</td>\n",
       "      <td>1.351905e-06</td>\n",
       "      <td>2.835900e-04</td>\n",
       "      <td>lossguide</td>\n",
       "      <td>2.527485e-08</td>\n",
       "      <td>8</td>\n",
       "      <td>4</td>\n",
       "      <td>250</td>\n",
       "      <td>0.267158</td>\n",
       "      <td>COMPLETE</td>\n",
       "    </tr>\n",
       "    <tr>\n",
       "      <th>6</th>\n",
       "      <td>6</td>\n",
       "      <td>0.978947</td>\n",
       "      <td>2022-04-04 16:48:13.351742</td>\n",
       "      <td>2022-04-04 16:48:16.633781</td>\n",
       "      <td>0 days 00:00:03.282039</td>\n",
       "      <td>1.470481e-08</td>\n",
       "      <td>dart</td>\n",
       "      <td>0.167064</td>\n",
       "      <td>1.820580e-08</td>\n",
       "      <td>1.724014e-04</td>\n",
       "      <td>lossguide</td>\n",
       "      <td>6.871410e-07</td>\n",
       "      <td>10</td>\n",
       "      <td>2</td>\n",
       "      <td>250</td>\n",
       "      <td>0.100396</td>\n",
       "      <td>COMPLETE</td>\n",
       "    </tr>\n",
       "    <tr>\n",
       "      <th>7</th>\n",
       "      <td>7</td>\n",
       "      <td>0.950820</td>\n",
       "      <td>2022-04-04 16:48:16.636820</td>\n",
       "      <td>2022-04-04 16:48:19.673312</td>\n",
       "      <td>0 days 00:00:03.036492</td>\n",
       "      <td>1.475427e-02</td>\n",
       "      <td>gbtree</td>\n",
       "      <td>0.275452</td>\n",
       "      <td>1.501925e-05</td>\n",
       "      <td>7.402609e-08</td>\n",
       "      <td>lossguide</td>\n",
       "      <td>1.802995e-02</td>\n",
       "      <td>3</td>\n",
       "      <td>5</td>\n",
       "      <td>350</td>\n",
       "      <td>0.123292</td>\n",
       "      <td>COMPLETE</td>\n",
       "    </tr>\n",
       "    <tr>\n",
       "      <th>8</th>\n",
       "      <td>8</td>\n",
       "      <td>0.973545</td>\n",
       "      <td>2022-04-04 16:48:19.676238</td>\n",
       "      <td>2022-04-04 16:48:22.747792</td>\n",
       "      <td>0 days 00:00:03.071554</td>\n",
       "      <td>2.215922e-08</td>\n",
       "      <td>gbtree</td>\n",
       "      <td>0.261958</td>\n",
       "      <td>6.752811e-03</td>\n",
       "      <td>1.165288e-01</td>\n",
       "      <td>lossguide</td>\n",
       "      <td>2.856248e-05</td>\n",
       "      <td>11</td>\n",
       "      <td>5</td>\n",
       "      <td>250</td>\n",
       "      <td>0.293131</td>\n",
       "      <td>COMPLETE</td>\n",
       "    </tr>\n",
       "    <tr>\n",
       "      <th>9</th>\n",
       "      <td>9</td>\n",
       "      <td>0.950820</td>\n",
       "      <td>2022-04-04 16:48:22.751330</td>\n",
       "      <td>2022-04-04 16:48:25.764712</td>\n",
       "      <td>0 days 00:00:03.013382</td>\n",
       "      <td>2.750381e-07</td>\n",
       "      <td>gbtree</td>\n",
       "      <td>0.264133</td>\n",
       "      <td>2.295464e-02</td>\n",
       "      <td>1.586244e-07</td>\n",
       "      <td>lossguide</td>\n",
       "      <td>3.722336e-03</td>\n",
       "      <td>12</td>\n",
       "      <td>4</td>\n",
       "      <td>300</td>\n",
       "      <td>0.112865</td>\n",
       "      <td>COMPLETE</td>\n",
       "    </tr>\n",
       "    <tr>\n",
       "      <th>10</th>\n",
       "      <td>10</td>\n",
       "      <td>0.968750</td>\n",
       "      <td>2022-04-04 16:48:25.767777</td>\n",
       "      <td>2022-04-04 16:48:28.879922</td>\n",
       "      <td>0 days 00:00:03.112145</td>\n",
       "      <td>2.905177e-04</td>\n",
       "      <td>dart</td>\n",
       "      <td>0.100877</td>\n",
       "      <td>5.562587e-01</td>\n",
       "      <td>1.032882e-02</td>\n",
       "      <td>depthwise</td>\n",
       "      <td>1.021099e-08</td>\n",
       "      <td>7</td>\n",
       "      <td>3</td>\n",
       "      <td>400</td>\n",
       "      <td>0.238907</td>\n",
       "      <td>COMPLETE</td>\n",
       "    </tr>\n",
       "    <tr>\n",
       "      <th>11</th>\n",
       "      <td>11</td>\n",
       "      <td>0.962567</td>\n",
       "      <td>2022-04-04 16:48:28.883233</td>\n",
       "      <td>2022-04-04 16:48:31.785200</td>\n",
       "      <td>0 days 00:00:02.901967</td>\n",
       "      <td>1.065429e-04</td>\n",
       "      <td>dart</td>\n",
       "      <td>0.163687</td>\n",
       "      <td>1.474315e-08</td>\n",
       "      <td>1.240602e-08</td>\n",
       "      <td>lossguide</td>\n",
       "      <td>2.358325e-01</td>\n",
       "      <td>7</td>\n",
       "      <td>3</td>\n",
       "      <td>150</td>\n",
       "      <td>0.185560</td>\n",
       "      <td>COMPLETE</td>\n",
       "    </tr>\n",
       "    <tr>\n",
       "      <th>12</th>\n",
       "      <td>12</td>\n",
       "      <td>0.968750</td>\n",
       "      <td>2022-04-04 16:48:31.787897</td>\n",
       "      <td>2022-04-04 16:48:35.181556</td>\n",
       "      <td>0 days 00:00:03.393659</td>\n",
       "      <td>3.873152e-03</td>\n",
       "      <td>dart</td>\n",
       "      <td>0.154659</td>\n",
       "      <td>3.622244e-07</td>\n",
       "      <td>1.805244e-03</td>\n",
       "      <td>lossguide</td>\n",
       "      <td>8.922171e-01</td>\n",
       "      <td>7</td>\n",
       "      <td>4</td>\n",
       "      <td>200</td>\n",
       "      <td>0.233193</td>\n",
       "      <td>COMPLETE</td>\n",
       "    </tr>\n",
       "    <tr>\n",
       "      <th>13</th>\n",
       "      <td>13</td>\n",
       "      <td>0.958333</td>\n",
       "      <td>2022-04-04 16:48:35.184302</td>\n",
       "      <td>2022-04-04 16:48:38.229183</td>\n",
       "      <td>0 days 00:00:03.044881</td>\n",
       "      <td>2.301359e-06</td>\n",
       "      <td>dart</td>\n",
       "      <td>0.226682</td>\n",
       "      <td>3.725382e-07</td>\n",
       "      <td>3.038289e-06</td>\n",
       "      <td>lossguide</td>\n",
       "      <td>1.084990e-04</td>\n",
       "      <td>6</td>\n",
       "      <td>2</td>\n",
       "      <td>100</td>\n",
       "      <td>0.230676</td>\n",
       "      <td>COMPLETE</td>\n",
       "    </tr>\n",
       "    <tr>\n",
       "      <th>14</th>\n",
       "      <td>14</td>\n",
       "      <td>0.978947</td>\n",
       "      <td>2022-04-04 16:48:38.232551</td>\n",
       "      <td>2022-04-04 16:48:41.246101</td>\n",
       "      <td>0 days 00:00:03.013550</td>\n",
       "      <td>3.509615e-03</td>\n",
       "      <td>dart</td>\n",
       "      <td>0.132192</td>\n",
       "      <td>2.446044e-07</td>\n",
       "      <td>4.020319e-06</td>\n",
       "      <td>depthwise</td>\n",
       "      <td>1.375603e-04</td>\n",
       "      <td>9</td>\n",
       "      <td>3</td>\n",
       "      <td>150</td>\n",
       "      <td>0.150780</td>\n",
       "      <td>COMPLETE</td>\n",
       "    </tr>\n",
       "    <tr>\n",
       "      <th>15</th>\n",
       "      <td>15</td>\n",
       "      <td>0.964103</td>\n",
       "      <td>2022-04-04 16:48:41.248931</td>\n",
       "      <td>2022-04-04 16:48:44.567128</td>\n",
       "      <td>0 days 00:00:03.318197</td>\n",
       "      <td>8.555594e-06</td>\n",
       "      <td>dart</td>\n",
       "      <td>0.191868</td>\n",
       "      <td>3.076790e-04</td>\n",
       "      <td>1.730823e-03</td>\n",
       "      <td>lossguide</td>\n",
       "      <td>8.676114e-06</td>\n",
       "      <td>6</td>\n",
       "      <td>4</td>\n",
       "      <td>400</td>\n",
       "      <td>0.167580</td>\n",
       "      <td>COMPLETE</td>\n",
       "    </tr>\n",
       "    <tr>\n",
       "      <th>16</th>\n",
       "      <td>16</td>\n",
       "      <td>0.974093</td>\n",
       "      <td>2022-04-04 16:48:44.570604</td>\n",
       "      <td>2022-04-04 16:48:47.704197</td>\n",
       "      <td>0 days 00:00:03.133593</td>\n",
       "      <td>4.013513e-04</td>\n",
       "      <td>dart</td>\n",
       "      <td>0.299023</td>\n",
       "      <td>8.667373e-08</td>\n",
       "      <td>3.859286e-07</td>\n",
       "      <td>lossguide</td>\n",
       "      <td>5.193754e-02</td>\n",
       "      <td>15</td>\n",
       "      <td>3</td>\n",
       "      <td>300</td>\n",
       "      <td>0.212692</td>\n",
       "      <td>COMPLETE</td>\n",
       "    </tr>\n",
       "    <tr>\n",
       "      <th>17</th>\n",
       "      <td>17</td>\n",
       "      <td>0.963351</td>\n",
       "      <td>2022-04-04 16:48:47.706758</td>\n",
       "      <td>2022-04-04 16:48:50.795731</td>\n",
       "      <td>0 days 00:00:03.088973</td>\n",
       "      <td>4.211965e-03</td>\n",
       "      <td>dart</td>\n",
       "      <td>0.132656</td>\n",
       "      <td>1.070382e-06</td>\n",
       "      <td>8.543866e-06</td>\n",
       "      <td>depthwise</td>\n",
       "      <td>2.937702e-04</td>\n",
       "      <td>9</td>\n",
       "      <td>4</td>\n",
       "      <td>150</td>\n",
       "      <td>0.156220</td>\n",
       "      <td>COMPLETE</td>\n",
       "    </tr>\n",
       "    <tr>\n",
       "      <th>18</th>\n",
       "      <td>18</td>\n",
       "      <td>0.979167</td>\n",
       "      <td>2022-04-04 16:48:50.799528</td>\n",
       "      <td>2022-04-04 16:48:53.933887</td>\n",
       "      <td>0 days 00:00:03.134359</td>\n",
       "      <td>2.050326e-02</td>\n",
       "      <td>dart</td>\n",
       "      <td>0.100572</td>\n",
       "      <td>2.618817e-05</td>\n",
       "      <td>2.239288e-05</td>\n",
       "      <td>depthwise</td>\n",
       "      <td>7.073181e-04</td>\n",
       "      <td>11</td>\n",
       "      <td>2</td>\n",
       "      <td>150</td>\n",
       "      <td>0.263933</td>\n",
       "      <td>COMPLETE</td>\n",
       "    </tr>\n",
       "    <tr>\n",
       "      <th>19</th>\n",
       "      <td>19</td>\n",
       "      <td>0.979167</td>\n",
       "      <td>2022-04-04 16:48:53.937008</td>\n",
       "      <td>2022-04-04 16:48:57.027422</td>\n",
       "      <td>0 days 00:00:03.090414</td>\n",
       "      <td>3.640735e-02</td>\n",
       "      <td>dart</td>\n",
       "      <td>0.100578</td>\n",
       "      <td>3.550006e-05</td>\n",
       "      <td>5.480956e-04</td>\n",
       "      <td>depthwise</td>\n",
       "      <td>5.287254e-04</td>\n",
       "      <td>13</td>\n",
       "      <td>2</td>\n",
       "      <td>350</td>\n",
       "      <td>0.257454</td>\n",
       "      <td>COMPLETE</td>\n",
       "    </tr>\n",
       "  </tbody>\n",
       "</table>\n",
       "</div>"
      ],
      "text/plain": [
       "    number     value             datetime_start          datetime_complete  \\\n",
       "0        0  0.973545 2022-04-04 16:47:53.620560 2022-04-04 16:47:58.157532   \n",
       "1        1  0.968085 2022-04-04 16:47:58.160650 2022-04-04 16:48:01.010970   \n",
       "2        2  0.978947 2022-04-04 16:48:01.013379 2022-04-04 16:48:04.096711   \n",
       "3        3  0.956522 2022-04-04 16:48:04.099638 2022-04-04 16:48:07.376590   \n",
       "4        4  0.978947 2022-04-04 16:48:07.379951 2022-04-04 16:48:10.260142   \n",
       "5        5  0.979167 2022-04-04 16:48:10.264517 2022-04-04 16:48:13.348618   \n",
       "6        6  0.978947 2022-04-04 16:48:13.351742 2022-04-04 16:48:16.633781   \n",
       "7        7  0.950820 2022-04-04 16:48:16.636820 2022-04-04 16:48:19.673312   \n",
       "8        8  0.973545 2022-04-04 16:48:19.676238 2022-04-04 16:48:22.747792   \n",
       "9        9  0.950820 2022-04-04 16:48:22.751330 2022-04-04 16:48:25.764712   \n",
       "10      10  0.968750 2022-04-04 16:48:25.767777 2022-04-04 16:48:28.879922   \n",
       "11      11  0.962567 2022-04-04 16:48:28.883233 2022-04-04 16:48:31.785200   \n",
       "12      12  0.968750 2022-04-04 16:48:31.787897 2022-04-04 16:48:35.181556   \n",
       "13      13  0.958333 2022-04-04 16:48:35.184302 2022-04-04 16:48:38.229183   \n",
       "14      14  0.978947 2022-04-04 16:48:38.232551 2022-04-04 16:48:41.246101   \n",
       "15      15  0.964103 2022-04-04 16:48:41.248931 2022-04-04 16:48:44.567128   \n",
       "16      16  0.974093 2022-04-04 16:48:44.570604 2022-04-04 16:48:47.704197   \n",
       "17      17  0.963351 2022-04-04 16:48:47.706758 2022-04-04 16:48:50.795731   \n",
       "18      18  0.979167 2022-04-04 16:48:50.799528 2022-04-04 16:48:53.933887   \n",
       "19      19  0.979167 2022-04-04 16:48:53.937008 2022-04-04 16:48:57.027422   \n",
       "\n",
       "                 duration  params_alpha params_booster  \\\n",
       "0  0 days 00:00:04.536972  1.197340e-05         gbtree   \n",
       "1  0 days 00:00:02.850320  2.588037e-01         gbtree   \n",
       "2  0 days 00:00:03.083332  9.167375e-01           dart   \n",
       "3  0 days 00:00:03.276952  1.971066e-01           dart   \n",
       "4  0 days 00:00:02.880191  1.607553e-08         gbtree   \n",
       "5  0 days 00:00:03.084101  2.053373e-05           dart   \n",
       "6  0 days 00:00:03.282039  1.470481e-08           dart   \n",
       "7  0 days 00:00:03.036492  1.475427e-02         gbtree   \n",
       "8  0 days 00:00:03.071554  2.215922e-08         gbtree   \n",
       "9  0 days 00:00:03.013382  2.750381e-07         gbtree   \n",
       "10 0 days 00:00:03.112145  2.905177e-04           dart   \n",
       "11 0 days 00:00:02.901967  1.065429e-04           dart   \n",
       "12 0 days 00:00:03.393659  3.873152e-03           dart   \n",
       "13 0 days 00:00:03.044881  2.301359e-06           dart   \n",
       "14 0 days 00:00:03.013550  3.509615e-03           dart   \n",
       "15 0 days 00:00:03.318197  8.555594e-06           dart   \n",
       "16 0 days 00:00:03.133593  4.013513e-04           dart   \n",
       "17 0 days 00:00:03.088973  4.211965e-03           dart   \n",
       "18 0 days 00:00:03.134359  2.050326e-02           dart   \n",
       "19 0 days 00:00:03.090414  3.640735e-02           dart   \n",
       "\n",
       "    params_colsample_bytree    params_eta  params_gamma params_grow_policy  \\\n",
       "0                  0.207302  2.600660e-06  6.738157e-05          depthwise   \n",
       "1                  0.227869  1.031927e-05  4.018362e-06          lossguide   \n",
       "2                  0.207377  2.758059e-08  1.174196e-08          lossguide   \n",
       "3                  0.197678  1.355386e-02  9.754746e-05          depthwise   \n",
       "4                  0.124499  1.727400e-04  1.210069e-01          lossguide   \n",
       "5                  0.125412  1.351905e-06  2.835900e-04          lossguide   \n",
       "6                  0.167064  1.820580e-08  1.724014e-04          lossguide   \n",
       "7                  0.275452  1.501925e-05  7.402609e-08          lossguide   \n",
       "8                  0.261958  6.752811e-03  1.165288e-01          lossguide   \n",
       "9                  0.264133  2.295464e-02  1.586244e-07          lossguide   \n",
       "10                 0.100877  5.562587e-01  1.032882e-02          depthwise   \n",
       "11                 0.163687  1.474315e-08  1.240602e-08          lossguide   \n",
       "12                 0.154659  3.622244e-07  1.805244e-03          lossguide   \n",
       "13                 0.226682  3.725382e-07  3.038289e-06          lossguide   \n",
       "14                 0.132192  2.446044e-07  4.020319e-06          depthwise   \n",
       "15                 0.191868  3.076790e-04  1.730823e-03          lossguide   \n",
       "16                 0.299023  8.667373e-08  3.859286e-07          lossguide   \n",
       "17                 0.132656  1.070382e-06  8.543866e-06          depthwise   \n",
       "18                 0.100572  2.618817e-05  2.239288e-05          depthwise   \n",
       "19                 0.100578  3.550006e-05  5.480956e-04          depthwise   \n",
       "\n",
       "    params_lambda  params_max_depth  params_min_child_weight  \\\n",
       "0    2.125655e-07                 3                        5   \n",
       "1    2.362797e-03                 9                        5   \n",
       "2    7.910735e-02                 7                        3   \n",
       "3    2.499411e-06                14                        5   \n",
       "4    3.123793e-08                 4                        5   \n",
       "5    2.527485e-08                 8                        4   \n",
       "6    6.871410e-07                10                        2   \n",
       "7    1.802995e-02                 3                        5   \n",
       "8    2.856248e-05                11                        5   \n",
       "9    3.722336e-03                12                        4   \n",
       "10   1.021099e-08                 7                        3   \n",
       "11   2.358325e-01                 7                        3   \n",
       "12   8.922171e-01                 7                        4   \n",
       "13   1.084990e-04                 6                        2   \n",
       "14   1.375603e-04                 9                        3   \n",
       "15   8.676114e-06                 6                        4   \n",
       "16   5.193754e-02                15                        3   \n",
       "17   2.937702e-04                 9                        4   \n",
       "18   7.073181e-04                11                        2   \n",
       "19   5.287254e-04                13                        2   \n",
       "\n",
       "    params_n_estimators  params_subsample     state  \n",
       "0                   200          0.280021  COMPLETE  \n",
       "1                   200          0.192197  COMPLETE  \n",
       "2                   200          0.186829  COMPLETE  \n",
       "3                   100          0.142276  COMPLETE  \n",
       "4                   250          0.274560  COMPLETE  \n",
       "5                   250          0.267158  COMPLETE  \n",
       "6                   250          0.100396  COMPLETE  \n",
       "7                   350          0.123292  COMPLETE  \n",
       "8                   250          0.293131  COMPLETE  \n",
       "9                   300          0.112865  COMPLETE  \n",
       "10                  400          0.238907  COMPLETE  \n",
       "11                  150          0.185560  COMPLETE  \n",
       "12                  200          0.233193  COMPLETE  \n",
       "13                  100          0.230676  COMPLETE  \n",
       "14                  150          0.150780  COMPLETE  \n",
       "15                  400          0.167580  COMPLETE  \n",
       "16                  300          0.212692  COMPLETE  \n",
       "17                  150          0.156220  COMPLETE  \n",
       "18                  150          0.263933  COMPLETE  \n",
       "19                  350          0.257454  COMPLETE  "
      ]
     },
     "execution_count": 24,
     "metadata": {},
     "output_type": "execute_result"
    }
   ],
   "source": [
    "study_df"
   ]
  },
  {
   "cell_type": "code",
   "execution_count": 25,
   "metadata": {},
   "outputs": [
    {
     "data": {
      "text/plain": [
       "<AxesSubplot:title={'center':'Optimization History Plot'}, xlabel='#Trials', ylabel='Objective Value'>"
      ]
     },
     "execution_count": 25,
     "metadata": {},
     "output_type": "execute_result"
    },
    {
     "data": {
      "image/png": "[encoded data removed]",
      "text/plain": [
       "<Figure size 432x288 with 1 Axes>"
      ]
     },
     "metadata": {},
     "output_type": "display_data"
    }
   ],
   "source": [
    "optuna.visualization.matplotlib.plot_optimization_history(study)"
   ]
  },
  {
   "cell_type": "code",
   "execution_count": 26,
   "metadata": {},
   "outputs": [
    {
     "data": {
      "text/plain": [
       "<AxesSubplot:title={'center':'Hyperparameter Importances'}, xlabel='Importance for Objective Value', ylabel='Hyperparameter'>"
      ]
     },
     "execution_count": 26,
     "metadata": {},
     "output_type": "execute_result"
    },
    {
     "data": {
      "image/png": "[encoded data removed]",
      "text/plain": [
       "<Figure size 432x288 with 1 Axes>"
      ]
     },
     "metadata": {},
     "output_type": "display_data"
    }
   ],
   "source": [
    "optuna.visualization.matplotlib.plot_param_importances(study)"
   ]
  },
  {
   "cell_type": "markdown",
   "metadata": {},
   "source": [
    "## Define and train model given the best hyperparameters"
   ]
  },
  {
   "cell_type": "code",
   "execution_count": 27,
   "metadata": {},
   "outputs": [],
   "source": [
    "X_train, X_test, y_train, y_test = train_test_split(X, y, test_size=0.2)"
   ]
  },
  {
   "cell_type": "code",
   "execution_count": 28,
   "metadata": {},
   "outputs": [
    {
     "data": {
      "text/html": [
       "<div>\n",
       "<style scoped>\n",
       "    .dataframe tbody tr th:only-of-type {\n",
       "        vertical-align: middle;\n",
       "    }\n",
       "\n",
       "    .dataframe tbody tr th {\n",
       "        vertical-align: top;\n",
       "    }\n",
       "\n",
       "    .dataframe thead th {\n",
       "        text-align: right;\n",
       "    }\n",
       "</style>\n",
       "<table border=\"1\" class=\"dataframe\">\n",
       "  <thead>\n",
       "    <tr style=\"text-align: right;\">\n",
       "      <th></th>\n",
       "      <th>count</th>\n",
       "      <th>mean</th>\n",
       "      <th>std</th>\n",
       "      <th>min</th>\n",
       "      <th>25%</th>\n",
       "      <th>50%</th>\n",
       "      <th>75%</th>\n",
       "      <th>max</th>\n",
       "    </tr>\n",
       "  </thead>\n",
       "  <tbody>\n",
       "    <tr>\n",
       "      <th>sur_refl_b01_1</th>\n",
       "      <td>800.0</td>\n",
       "      <td>1258.60125</td>\n",
       "      <td>1344.095620</td>\n",
       "      <td>8.0</td>\n",
       "      <td>241.00</td>\n",
       "      <td>901.0</td>\n",
       "      <td>1934.00</td>\n",
       "      <td>9045.0</td>\n",
       "    </tr>\n",
       "    <tr>\n",
       "      <th>sur_refl_b02_1</th>\n",
       "      <td>800.0</td>\n",
       "      <td>1624.11250</td>\n",
       "      <td>1588.654084</td>\n",
       "      <td>1.0</td>\n",
       "      <td>178.00</td>\n",
       "      <td>1456.5</td>\n",
       "      <td>2707.25</td>\n",
       "      <td>8795.0</td>\n",
       "    </tr>\n",
       "    <tr>\n",
       "      <th>sur_refl_b03_1</th>\n",
       "      <td>800.0</td>\n",
       "      <td>768.39625</td>\n",
       "      <td>1050.981398</td>\n",
       "      <td>-100.0</td>\n",
       "      <td>291.50</td>\n",
       "      <td>562.5</td>\n",
       "      <td>865.75</td>\n",
       "      <td>8844.0</td>\n",
       "    </tr>\n",
       "    <tr>\n",
       "      <th>sur_refl_b04_1</th>\n",
       "      <td>800.0</td>\n",
       "      <td>1061.28000</td>\n",
       "      <td>1110.586821</td>\n",
       "      <td>6.0</td>\n",
       "      <td>413.00</td>\n",
       "      <td>846.0</td>\n",
       "      <td>1348.50</td>\n",
       "      <td>9056.0</td>\n",
       "    </tr>\n",
       "    <tr>\n",
       "      <th>sur_refl_b05_1</th>\n",
       "      <td>800.0</td>\n",
       "      <td>2002.11750</td>\n",
       "      <td>1475.235337</td>\n",
       "      <td>-92.0</td>\n",
       "      <td>556.25</td>\n",
       "      <td>1829.0</td>\n",
       "      <td>3249.00</td>\n",
       "      <td>6382.0</td>\n",
       "    </tr>\n",
       "    <tr>\n",
       "      <th>sur_refl_b06_1</th>\n",
       "      <td>800.0</td>\n",
       "      <td>1963.58375</td>\n",
       "      <td>1559.615295</td>\n",
       "      <td>51.0</td>\n",
       "      <td>522.00</td>\n",
       "      <td>1503.0</td>\n",
       "      <td>3310.50</td>\n",
       "      <td>6610.0</td>\n",
       "    </tr>\n",
       "    <tr>\n",
       "      <th>sur_refl_b07_1</th>\n",
       "      <td>800.0</td>\n",
       "      <td>1619.51125</td>\n",
       "      <td>1411.311236</td>\n",
       "      <td>0.0</td>\n",
       "      <td>320.75</td>\n",
       "      <td>1189.0</td>\n",
       "      <td>2776.00</td>\n",
       "      <td>6128.0</td>\n",
       "    </tr>\n",
       "    <tr>\n",
       "      <th>ndvi</th>\n",
       "      <td>800.0</td>\n",
       "      <td>97.30875</td>\n",
       "      <td>2527.773586</td>\n",
       "      <td>-9493.0</td>\n",
       "      <td>-1353.00</td>\n",
       "      <td>761.0</td>\n",
       "      <td>1760.00</td>\n",
       "      <td>6732.0</td>\n",
       "    </tr>\n",
       "    <tr>\n",
       "      <th>ndwi1</th>\n",
       "      <td>800.0</td>\n",
       "      <td>-2280.26625</td>\n",
       "      <td>3460.266024</td>\n",
       "      <td>-9862.0</td>\n",
       "      <td>-4592.50</td>\n",
       "      <td>-1595.5</td>\n",
       "      <td>-773.00</td>\n",
       "      <td>8823.0</td>\n",
       "    </tr>\n",
       "    <tr>\n",
       "      <th>ndwi2</th>\n",
       "      <td>800.0</td>\n",
       "      <td>-893.60625</td>\n",
       "      <td>3850.669304</td>\n",
       "      <td>-9692.0</td>\n",
       "      <td>-2708.25</td>\n",
       "      <td>-708.5</td>\n",
       "      <td>817.00</td>\n",
       "      <td>10000.0</td>\n",
       "    </tr>\n",
       "  </tbody>\n",
       "</table>\n",
       "</div>"
      ],
      "text/plain": [
       "                count        mean          std     min      25%     50%  \\\n",
       "sur_refl_b01_1  800.0  1258.60125  1344.095620     8.0   241.00   901.0   \n",
       "sur_refl_b02_1  800.0  1624.11250  1588.654084     1.0   178.00  1456.5   \n",
       "sur_refl_b03_1  800.0   768.39625  1050.981398  -100.0   291.50   562.5   \n",
       "sur_refl_b04_1  800.0  1061.28000  1110.586821     6.0   413.00   846.0   \n",
       "sur_refl_b05_1  800.0  2002.11750  1475.235337   -92.0   556.25  1829.0   \n",
       "sur_refl_b06_1  800.0  1963.58375  1559.615295    51.0   522.00  1503.0   \n",
       "sur_refl_b07_1  800.0  1619.51125  1411.311236     0.0   320.75  1189.0   \n",
       "ndvi            800.0    97.30875  2527.773586 -9493.0 -1353.00   761.0   \n",
       "ndwi1           800.0 -2280.26625  3460.266024 -9862.0 -4592.50 -1595.5   \n",
       "ndwi2           800.0  -893.60625  3850.669304 -9692.0 -2708.25  -708.5   \n",
       "\n",
       "                    75%      max  \n",
       "sur_refl_b01_1  1934.00   9045.0  \n",
       "sur_refl_b02_1  2707.25   8795.0  \n",
       "sur_refl_b03_1   865.75   8844.0  \n",
       "sur_refl_b04_1  1348.50   9056.0  \n",
       "sur_refl_b05_1  3249.00   6382.0  \n",
       "sur_refl_b06_1  3310.50   6610.0  \n",
       "sur_refl_b07_1  2776.00   6128.0  \n",
       "ndvi            1760.00   6732.0  \n",
       "ndwi1           -773.00   8823.0  \n",
       "ndwi2            817.00  10000.0  "
      ]
     },
     "execution_count": 28,
     "metadata": {},
     "output_type": "execute_result"
    }
   ],
   "source": [
    "X_train.describe().T"
   ]
  },
  {
   "cell_type": "code",
   "execution_count": 29,
   "metadata": {},
   "outputs": [
    {
     "name": "stdout",
     "output_type": "stream",
     "text": [
      "Using these params:\n",
      "{'alpha': 2.0533730454528096e-05,\n",
      " 'booster': 'dart',\n",
      " 'colsample_bytree': 0.1254116780335053,\n",
      " 'eta': 1.3519048314448689e-06,\n",
      " 'gamma': 0.0002835899905661779,\n",
      " 'grow_policy': 'lossguide',\n",
      " 'lambda': 2.527484549899079e-08,\n",
      " 'max_depth': 8,\n",
      " 'min_child_weight': 4,\n",
      " 'n_estimators': 250,\n",
      " 'n_jobs': -1,\n",
      " 'objective': 'binary:logistic',\n",
      " 'subsample': 0.26715788389015704,\n",
      " 'tree_method': 'hist',\n",
      " 'verbosity': 0}\n"
     ]
    }
   ],
   "source": [
    "hyperparameters = best_trial_params\n",
    "\n",
    "base_params = {\"verbosity\": 0,\n",
    "               \"objective\": \"binary:logistic\",\n",
    "               \"tree_method\": \"hist\",\n",
    "               \"n_jobs\": -1}\n",
    "\n",
    "hyperparameters.update(base_params)\n",
    "print('Using these params:')\n",
    "pprint(hyperparameters)\n",
    "eval_set = [(X_train, y_train), (X_test, y_test)]\n",
    "eval_metric = [\"error\",\"auc\"]\n",
    "classifier = xgb.XGBClassifier(**hyperparameters)"
   ]
  },
  {
   "cell_type": "code",
   "execution_count": 30,
   "metadata": {},
   "outputs": [
    {
     "name": "stdout",
     "output_type": "stream",
     "text": [
      "[0]\tvalidation_0-error:0.07875\tvalidation_0-auc:0.96476\tvalidation_1-error:0.07000\tvalidation_1-auc:0.97271\n",
      "[1]\tvalidation_0-error:0.05625\tvalidation_0-auc:0.98495\tvalidation_1-error:0.03500\tvalidation_1-auc:0.99274\n",
      "[2]\tvalidation_0-error:0.08750\tvalidation_0-auc:0.98242\tvalidation_1-error:0.05500\tvalidation_1-auc:0.99139\n",
      "[3]\tvalidation_0-error:0.04250\tvalidation_0-auc:0.98871\tvalidation_1-error:0.01500\tvalidation_1-auc:0.99464\n",
      "[4]\tvalidation_0-error:0.02750\tvalidation_0-auc:0.99631\tvalidation_1-error:0.01500\tvalidation_1-auc:0.99900\n",
      "[5]\tvalidation_0-error:0.02375\tvalidation_0-auc:0.99701\tvalidation_1-error:0.03000\tvalidation_1-auc:0.99910\n",
      "[6]\tvalidation_0-error:0.01875\tvalidation_0-auc:0.99808\tvalidation_1-error:0.04000\tvalidation_1-auc:0.99940\n",
      "[7]\tvalidation_0-error:0.02500\tvalidation_0-auc:0.99815\tvalidation_1-error:0.04000\tvalidation_1-auc:0.99920\n",
      "[8]\tvalidation_0-error:0.02250\tvalidation_0-auc:0.99771\tvalidation_1-error:0.03500\tvalidation_1-auc:0.99935\n",
      "[9]\tvalidation_0-error:0.02000\tvalidation_0-auc:0.99715\tvalidation_1-error:0.02000\tvalidation_1-auc:0.99930\n",
      "[10]\tvalidation_0-error:0.02250\tvalidation_0-auc:0.99737\tvalidation_1-error:0.02500\tvalidation_1-auc:0.99920\n",
      "[11]\tvalidation_0-error:0.02125\tvalidation_0-auc:0.99713\tvalidation_1-error:0.02000\tvalidation_1-auc:0.99860\n",
      "[12]\tvalidation_0-error:0.02250\tvalidation_0-auc:0.99717\tvalidation_1-error:0.02000\tvalidation_1-auc:0.99825\n",
      "[13]\tvalidation_0-error:0.02125\tvalidation_0-auc:0.99709\tvalidation_1-error:0.03000\tvalidation_1-auc:0.99810\n",
      "[14]\tvalidation_0-error:0.02125\tvalidation_0-auc:0.99668\tvalidation_1-error:0.02500\tvalidation_1-auc:0.99815\n",
      "[15]\tvalidation_0-error:0.02375\tvalidation_0-auc:0.99636\tvalidation_1-error:0.03000\tvalidation_1-auc:0.99785\n",
      "[16]\tvalidation_0-error:0.02500\tvalidation_0-auc:0.99608\tvalidation_1-error:0.02500\tvalidation_1-auc:0.99775\n"
     ]
    },
    {
     "data": {
      "text/plain": [
       "XGBClassifier(alpha=2.0533730454528096e-05, base_score=0.5, booster='dart',\n",
       "              colsample_bylevel=1, colsample_bynode=1,\n",
       "              colsample_bytree=0.1254116780335053, eta=1.3519048314448689e-06,\n",
       "              gamma=0.0002835899905661779, gpu_id=-1, grow_policy='lossguide',\n",
       "              importance_type='gain', interaction_constraints='',\n",
       "              lambda=2.527484549899079e-08, learning_rate=1.35190487e-06,\n",
       "              max_delta_step=0, max_depth=8, min_child_weight=4, missing=nan,\n",
       "              monotone_constraints='()', n_estimators=250, n_jobs=-1,\n",
       "              num_parallel_tree=1, random_state=0, reg_alpha=2.0533731e-05,\n",
       "              reg_lambda=2.52748436e-08, scale_pos_weight=1,\n",
       "              subsample=0.26715788389015704, tree_method='hist',\n",
       "              validate_parameters=1, verbosity=0)"
      ]
     },
     "execution_count": 30,
     "metadata": {},
     "output_type": "execute_result"
    }
   ],
   "source": [
    "classifier.fit(X_train, y_train, eval_set=eval_set, eval_metric=eval_metric, early_stopping_rounds=10)"
   ]
  },
  {
   "cell_type": "code",
   "execution_count": 31,
   "metadata": {},
   "outputs": [
    {
     "data": {
      "image/png": "[encoded data removed]",
      "text/plain": [
       "<Figure size 1080x576 with 1 Axes>"
      ]
     },
     "metadata": {},
     "output_type": "display_data"
    }
   ],
   "source": [
    "results = classifier.evals_result()\n",
    "epochs = len(results['validation_0']['error'])\n",
    "x_axis = range(0, epochs)\n",
    "fig, ax = plt.subplots(figsize=(15,8))\n",
    "ax.plot(x_axis, results['validation_0']['auc'], label='Train')\n",
    "ax.plot(x_axis, results['validation_1']['auc'], label='Test')\n",
    "ax.legend()\n",
    "plt.ylabel('AUC')\n",
    "plt.title('XGBoost AUC')\n",
    "plt.show()"
   ]
  },
  {
   "cell_type": "code",
   "execution_count": 32,
   "metadata": {},
   "outputs": [
    {
     "data": {
      "image/png": "[encoded data removed]",
      "text/plain": [
       "<Figure size 1080x576 with 1 Axes>"
      ]
     },
     "metadata": {},
     "output_type": "display_data"
    }
   ],
   "source": [
    "results = classifier.evals_result()\n",
    "epochs = len(results['validation_0']['error'])\n",
    "x_axis = range(0, epochs)\n",
    "fig, ax = plt.subplots(figsize=(15,8))\n",
    "ax.plot(x_axis, results['validation_0']['error'], label='Train')\n",
    "ax.plot(x_axis, results['validation_1']['error'], label='Test')\n",
    "ax.legend()\n",
    "plt.ylabel('error')\n",
    "plt.title('XGBoost error')\n",
    "plt.show()"
   ]
  },
  {
   "cell_type": "markdown",
   "metadata": {},
   "source": [
    "## Model testing and training/testing data validation"
   ]
  },
  {
   "cell_type": "markdown",
   "metadata": {},
   "source": [
    "### Get model metrics"
   ]
  },
  {
   "cell_type": "code",
   "execution_count": 33,
   "metadata": {},
   "outputs": [
    {
     "data": {
      "text/plain": [
       "0.96"
      ]
     },
     "execution_count": 33,
     "metadata": {},
     "output_type": "execute_result"
    }
   ],
   "source": [
    "score = classifier.score(X_test, y_test)\n",
    "score = round(score, 3)\n",
    "score"
   ]
  },
  {
   "cell_type": "code",
   "execution_count": 34,
   "metadata": {},
   "outputs": [],
   "source": [
    "train_predictions = classifier.predict(X_train)\n",
    "test_predictions = classifier.predict(X_test)\n",
    "prediction_probs = classifier.predict_proba(X_test)"
   ]
  },
  {
   "cell_type": "code",
   "execution_count": 35,
   "metadata": {},
   "outputs": [],
   "source": [
    "test_predictions = test_predictions.astype(np.int16)\n",
    "y_test_int = y_test.astype(np.int16)"
   ]
  },
  {
   "cell_type": "code",
   "execution_count": 36,
   "metadata": {},
   "outputs": [
    {
     "name": "stdout",
     "output_type": "stream",
     "text": [
      "Test Performance\n",
      "-------------------------------------------------------\n",
      "              precision    recall  f1-score   support\n",
      "\n",
      "           0       0.92      1.00      0.96        96\n",
      "           1       1.00      0.92      0.96       104\n",
      "\n",
      "    accuracy                           0.96       200\n",
      "   macro avg       0.96      0.96      0.96       200\n",
      "weighted avg       0.96      0.96      0.96       200\n",
      "\n",
      "Test Recall\n",
      "-------------------------------------------------------\n",
      "1.0\n",
      "Confusion Matrix\n",
      "-------------------------------------------------------\n",
      "[[96  0]\n",
      " [ 8 96]]\n"
     ]
    }
   ],
   "source": [
    "print('Test Performance')\n",
    "print('-------------------------------------------------------')\n",
    "print(classification_report(y_test, test_predictions))\n",
    "cm = confusion_matrix(y_test_int, test_predictions)\n",
    "recall = (cm[0][0] / (cm[0][0] + cm[0][1]))\n",
    "print('Test Recall')\n",
    "print('-------------------------------------------------------')\n",
    "print(recall)\n",
    "print('Confusion Matrix')\n",
    "print('-------------------------------------------------------')\n",
    "print(cm)"
   ]
  },
  {
   "cell_type": "code",
   "execution_count": 37,
   "metadata": {},
   "outputs": [
    {
     "data": {
      "image/png": "[encoded data removed]",
      "text/plain": [
       "<Figure size 432x288 with 1 Axes>"
      ]
     },
     "metadata": {},
     "output_type": "display_data"
    }
   ],
   "source": [
    "probs = classifier.predict_proba(X_test)\n",
    "preds = probs[:, 1]\n",
    "fpr, tpr, threshold = roc_curve(y_test, preds)\n",
    "roc_auc = auc(fpr, tpr)\n",
    "\n",
    "plt.title('Receiver Operating Characteristic')\n",
    "plt.plot(fpr, tpr, 'red', label = 'ROC-AUC score = %0.2f' % roc_auc)\n",
    "plt.legend(loc = 'lower right')\n",
    "plt.plot([0, 1], [0, 1],'b--')\n",
    "plt.xlim([0, 1])\n",
    "plt.ylim([0, 1])\n",
    "plt.ylabel('True Positive Rate')\n",
    "plt.xlabel('False Positive Rate')\n",
    "plt.show()"
   ]
  },
  {
   "cell_type": "markdown",
   "metadata": {},
   "source": [
    "## Permutation importance"
   ]
  },
  {
   "cell_type": "code",
   "execution_count": 38,
   "metadata": {},
   "outputs": [],
   "source": [
    "permutation_importance_results = permutation_importance(classifier,\n",
    "                                                        X=X_test,\n",
    "                                                        y=y_test,\n",
    "                                                        n_repeats=10,\n",
    "                                                        random_state=42)"
   ]
  },
  {
   "cell_type": "code",
   "execution_count": 39,
   "metadata": {},
   "outputs": [
    {
     "data": {
      "text/plain": [
       "Text(0.5, 0, 'Permutation Importance')"
      ]
     },
     "execution_count": 39,
     "metadata": {},
     "output_type": "execute_result"
    },
    {
     "data": {
      "image/png": "[encoded data removed]",
      "text/plain": [
       "<Figure size 576x576 with 1 Axes>"
      ]
     },
     "metadata": {},
     "output_type": "display_data"
    }
   ],
   "source": [
    "sorted_idx = permutation_importance_results.importances_mean.argsort()\n",
    "plt.figure(figsize=(8, 8))\n",
    "plt.barh(X_test.columns[sorted_idx], permutation_importance_results.importances_mean[sorted_idx])\n",
    "plt.xlabel(\"Permutation Importance\")"
   ]
  },
  {
   "cell_type": "code",
   "execution_count": 40,
   "metadata": {},
   "outputs": [],
   "source": [
    "del X_train, X_test, y_train, y_test, test_predictions, train_predictions, y_test_int"
   ]
  },
  {
   "cell_type": "markdown",
   "metadata": {},
   "source": [
    "## Save the model for future use"
   ]
  },
  {
   "cell_type": "code",
   "execution_count": 41,
   "metadata": {},
   "outputs": [
    {
     "name": "stdout",
     "output_type": "stream",
     "text": [
      "Saving model to: ./water_classifier_xgb_tuned.sav\n",
      "XGBClassifier(alpha=2.0533730454528096e-05, base_score=0.5, booster='dart',\n",
      "              colsample_bylevel=1, colsample_bynode=1,\n",
      "              colsample_bytree=0.1254116780335053, eta=1.3519048314448689e-06,\n",
      "              gamma=0.0002835899905661779, gpu_id=-1, grow_policy='lossguide',\n",
      "              importance_type='gain', interaction_constraints='',\n",
      "              lambda=2.527484549899079e-08, learning_rate=1.35190487e-06,\n",
      "              max_delta_step=0, max_depth=8, min_child_weight=4, missing=nan,\n",
      "              monotone_constraints='()', n_estimators=250, n_jobs=-1,\n",
      "              num_parallel_tree=1, random_state=0, reg_alpha=2.0533731e-05,\n",
      "              reg_lambda=2.52748436e-08, scale_pos_weight=1,\n",
      "              subsample=0.26715788389015704, tree_method='hist',\n",
      "              validate_parameters=1, verbosity=0)\n"
     ]
    },
    {
     "data": {
      "text/plain": [
       "['./water_classifier_xgb_tuned.sav']"
      ]
     },
     "execution_count": 41,
     "metadata": {},
     "output_type": "execute_result"
    }
   ],
   "source": [
    "model_save_path = './water_classifier_xgb_tuned.sav'\n",
    "print('Saving model to: {}'.format(model_save_path))\n",
    "print(classifier)\n",
    "joblib.dump(classifier, model_save_path, compress=3)"
   ]
  },
  {
   "cell_type": "markdown",
   "metadata": {},
   "source": [
    "# Testing: Raster testing"
   ]
  },
  {
   "cell_type": "markdown",
   "metadata": {},
   "source": [
    "### Read in data \n",
    "\n",
    "These are modified MOD09GA and MOD09GQ products for the 2001 julian day 155. They were modified to be clipped to the Lake Powell region."
   ]
  },
  {
   "cell_type": "code",
   "execution_count": 42,
   "metadata": {},
   "outputs": [],
   "source": [
    "fileList = sorted([file for file in glob.glob('../data/IL.*.Powell.*.tif') if 'sur_refl' in file])"
   ]
  },
  {
   "cell_type": "code",
   "execution_count": 43,
   "metadata": {},
   "outputs": [],
   "source": [
    "def readRastersToArray(fileList):\n",
    "    rasterProjection = None\n",
    "    newshp = (1300*1300, 10)\n",
    "    img = np.empty(newshp, dtype=np.int16)\n",
    "    for i, fileName in enumerate(fileList):\n",
    "        ds = gdal.Open(fileName)\n",
    "        img[:, i] = ds.GetRasterBand(1).ReadAsArray().astype(np.int16).ravel()\n",
    "        if i == 0:\n",
    "            rasterProjection = ds.GetProjection()\n",
    "        ds = None\n",
    "    img[:, len(fileList)] = ((img[:, 1] - img[:, 0]) / (img[:, 1] + img[:, 0])) * 10000\n",
    "    img[:, len(fileList)+1] = ((img[:, 1] - img[:, 5]) / (img[:, 1] + img[:, 5])) * 10000\n",
    "    img[:, len(fileList)+2] = ((img[:, 1] - img[:, 6]) / (img[:, 1] + img[:, 6])) * 10000\n",
    "    return img, rasterProjection"
   ]
  },
  {
   "cell_type": "code",
   "execution_count": 44,
   "metadata": {},
   "outputs": [
    {
     "name": "stdout",
     "output_type": "stream",
     "text": [
      "Raster as ndarray\n",
      "[[ 1547  2461   857 ...  2280  -518   510]\n",
      " [ 1474  2377   857 ...  2344  -691   337]\n",
      " [ 1474  2377   846 ...  2344  -472   623]\n",
      " ...\n",
      " [ 2358  2979  1028 ...  1163 -1727 -1292]\n",
      " [ 2425  3069  1117 ...  1172 -1721 -1216]\n",
      " [ 2402  3038  1117 ...  1169 -1770 -1266]]\n",
      "33.8 MB size\n",
      "CPU times: user 495 ms, sys: 76.1 ms, total: 571 ms\n",
      "Wall time: 835 ms\n"
     ]
    }
   ],
   "source": [
    "%%time\n",
    "im, rasterProjection = readRastersToArray(fileList)\n",
    "print('Raster as ndarray')\n",
    "print(im)\n",
    "print('{} MB size'.format((im.size * im.itemsize) / 1000000))"
   ]
  },
  {
   "cell_type": "markdown",
   "metadata": {},
   "source": [
    "Columns to drop are also dropped for testing. "
   ]
  },
  {
   "cell_type": "code",
   "execution_count": 45,
   "metadata": {},
   "outputs": [],
   "source": [
    "def predictRaster(img_chunk, colsToDrop=None):\n",
    "    \"\"\"\n",
    "    Function given a raster in the form of a nxn matrix, will\n",
    "    convert the matrix to a GPU/CPU-bound data frame then perform \n",
    "    predictions given the loaded model.\n",
    "    \n",
    "    Return the prediction matrix, the prediction probabilities\n",
    "    for each and the dataframe converted to host.\n",
    "    \"\"\"\n",
    "    df = pd.DataFrame(img_chunk, columns=v_names, dtype=np.int16)\n",
    "    df = df.drop(columns=columnsToDrop)\n",
    "    print('Making predictions from raster')\n",
    "    predictions = classifier.predict(df).astype(np.int16)\n",
    "    predictionsProbs = classifier.predict_proba(df).astype(np.float32)\n",
    "    return predictions, predictionsProbs, df"
   ]
  },
  {
   "cell_type": "code",
   "execution_count": 46,
   "metadata": {},
   "outputs": [
    {
     "name": "stdout",
     "output_type": "stream",
     "text": [
      "Making predictions from raster\n",
      "CPU times: user 37.2 s, sys: 30.6 ms, total: 37.2 s\n",
      "Wall time: 1.17 s\n"
     ]
    }
   ],
   "source": [
    "%%time\n",
    "predictedRaster, predictedProbaRaster, df = predictRaster(im)"
   ]
  },
  {
   "cell_type": "code",
   "execution_count": 47,
   "metadata": {},
   "outputs": [],
   "source": [
    "shp = (1300, 1300)\n",
    "left = list()\n",
    "right = list()\n",
    "for i, subarr in enumerate(predictedProbaRaster):\n",
    "    left.append(subarr[0])\n",
    "    right.append(subarr[1])\n",
    "leftArr = np.asarray(left)\n",
    "rightArr = np.asarray(right)\n",
    "probaLand = leftArr.reshape(shp)\n",
    "probaWater = rightArr.reshape(shp)"
   ]
  },
  {
   "cell_type": "markdown",
   "metadata": {},
   "source": [
    "## Inputreshapet raster: description and histogram"
   ]
  },
  {
   "cell_type": "code",
   "execution_count": 48,
   "metadata": {},
   "outputs": [
    {
     "data": {
      "text/html": [
       "<div>\n",
       "<style scoped>\n",
       "    .dataframe tbody tr th:only-of-type {\n",
       "        vertical-align: middle;\n",
       "    }\n",
       "\n",
       "    .dataframe tbody tr th {\n",
       "        vertical-align: top;\n",
       "    }\n",
       "\n",
       "    .dataframe thead th {\n",
       "        text-align: right;\n",
       "    }\n",
       "</style>\n",
       "<table border=\"1\" class=\"dataframe\">\n",
       "  <thead>\n",
       "    <tr style=\"text-align: right;\">\n",
       "      <th></th>\n",
       "      <th>count</th>\n",
       "      <th>mean</th>\n",
       "      <th>std</th>\n",
       "      <th>min</th>\n",
       "      <th>25%</th>\n",
       "      <th>50%</th>\n",
       "      <th>75%</th>\n",
       "      <th>max</th>\n",
       "    </tr>\n",
       "  </thead>\n",
       "  <tbody>\n",
       "    <tr>\n",
       "      <th>sur_refl_b01_1</th>\n",
       "      <td>1690000.0</td>\n",
       "      <td>2140.144561</td>\n",
       "      <td>807.227853</td>\n",
       "      <td>-100.0</td>\n",
       "      <td>1530.0</td>\n",
       "      <td>2292.0</td>\n",
       "      <td>2756.0</td>\n",
       "      <td>9424.0</td>\n",
       "    </tr>\n",
       "    <tr>\n",
       "      <th>sur_refl_b02_1</th>\n",
       "      <td>1690000.0</td>\n",
       "      <td>3276.677008</td>\n",
       "      <td>741.654344</td>\n",
       "      <td>-28672.0</td>\n",
       "      <td>2793.0</td>\n",
       "      <td>3303.0</td>\n",
       "      <td>3780.0</td>\n",
       "      <td>8909.0</td>\n",
       "    </tr>\n",
       "    <tr>\n",
       "      <th>sur_refl_b03_1</th>\n",
       "      <td>1690000.0</td>\n",
       "      <td>954.288317</td>\n",
       "      <td>357.504891</td>\n",
       "      <td>-100.0</td>\n",
       "      <td>741.0</td>\n",
       "      <td>963.0</td>\n",
       "      <td>1148.0</td>\n",
       "      <td>7929.0</td>\n",
       "    </tr>\n",
       "    <tr>\n",
       "      <th>sur_refl_b04_1</th>\n",
       "      <td>1690000.0</td>\n",
       "      <td>1547.173863</td>\n",
       "      <td>505.923213</td>\n",
       "      <td>-100.0</td>\n",
       "      <td>1199.0</td>\n",
       "      <td>1577.0</td>\n",
       "      <td>1858.0</td>\n",
       "      <td>8526.0</td>\n",
       "    </tr>\n",
       "    <tr>\n",
       "      <th>sur_refl_b05_1</th>\n",
       "      <td>1690000.0</td>\n",
       "      <td>3897.447927</td>\n",
       "      <td>875.726008</td>\n",
       "      <td>-95.0</td>\n",
       "      <td>3277.0</td>\n",
       "      <td>3993.0</td>\n",
       "      <td>4528.0</td>\n",
       "      <td>9440.0</td>\n",
       "    </tr>\n",
       "    <tr>\n",
       "      <th>sur_refl_b06_1</th>\n",
       "      <td>1690000.0</td>\n",
       "      <td>4009.725915</td>\n",
       "      <td>1122.289522</td>\n",
       "      <td>83.0</td>\n",
       "      <td>3151.0</td>\n",
       "      <td>4271.0</td>\n",
       "      <td>4863.0</td>\n",
       "      <td>8326.0</td>\n",
       "    </tr>\n",
       "    <tr>\n",
       "      <th>sur_refl_b07_1</th>\n",
       "      <td>1690000.0</td>\n",
       "      <td>3465.508279</td>\n",
       "      <td>1221.271953</td>\n",
       "      <td>-28672.0</td>\n",
       "      <td>2504.0</td>\n",
       "      <td>3777.0</td>\n",
       "      <td>4416.0</td>\n",
       "      <td>6657.0</td>\n",
       "    </tr>\n",
       "    <tr>\n",
       "      <th>ndvi</th>\n",
       "      <td>1690000.0</td>\n",
       "      <td>2338.848757</td>\n",
       "      <td>1416.787988</td>\n",
       "      <td>-31900.0</td>\n",
       "      <td>1525.0</td>\n",
       "      <td>1854.0</td>\n",
       "      <td>2682.0</td>\n",
       "      <td>32203.0</td>\n",
       "    </tr>\n",
       "    <tr>\n",
       "      <th>ndwi1</th>\n",
       "      <td>1690000.0</td>\n",
       "      <td>-907.298652</td>\n",
       "      <td>1020.379711</td>\n",
       "      <td>-32272.0</td>\n",
       "      <td>-1428.0</td>\n",
       "      <td>-1105.0</td>\n",
       "      <td>-627.0</td>\n",
       "      <td>32558.0</td>\n",
       "    </tr>\n",
       "    <tr>\n",
       "      <th>ndwi2</th>\n",
       "      <td>1690000.0</td>\n",
       "      <td>-30.655925</td>\n",
       "      <td>1514.628116</td>\n",
       "      <td>-32539.0</td>\n",
       "      <td>-886.0</td>\n",
       "      <td>-506.0</td>\n",
       "      <td>367.0</td>\n",
       "      <td>32702.0</td>\n",
       "    </tr>\n",
       "  </tbody>\n",
       "</table>\n",
       "</div>"
      ],
      "text/plain": [
       "                    count         mean          std      min     25%     50%  \\\n",
       "sur_refl_b01_1  1690000.0  2140.144561   807.227853   -100.0  1530.0  2292.0   \n",
       "sur_refl_b02_1  1690000.0  3276.677008   741.654344 -28672.0  2793.0  3303.0   \n",
       "sur_refl_b03_1  1690000.0   954.288317   357.504891   -100.0   741.0   963.0   \n",
       "sur_refl_b04_1  1690000.0  1547.173863   505.923213   -100.0  1199.0  1577.0   \n",
       "sur_refl_b05_1  1690000.0  3897.447927   875.726008    -95.0  3277.0  3993.0   \n",
       "sur_refl_b06_1  1690000.0  4009.725915  1122.289522     83.0  3151.0  4271.0   \n",
       "sur_refl_b07_1  1690000.0  3465.508279  1221.271953 -28672.0  2504.0  3777.0   \n",
       "ndvi            1690000.0  2338.848757  1416.787988 -31900.0  1525.0  1854.0   \n",
       "ndwi1           1690000.0  -907.298652  1020.379711 -32272.0 -1428.0 -1105.0   \n",
       "ndwi2           1690000.0   -30.655925  1514.628116 -32539.0  -886.0  -506.0   \n",
       "\n",
       "                   75%      max  \n",
       "sur_refl_b01_1  2756.0   9424.0  \n",
       "sur_refl_b02_1  3780.0   8909.0  \n",
       "sur_refl_b03_1  1148.0   7929.0  \n",
       "sur_refl_b04_1  1858.0   8526.0  \n",
       "sur_refl_b05_1  4528.0   9440.0  \n",
       "sur_refl_b06_1  4863.0   8326.0  \n",
       "sur_refl_b07_1  4416.0   6657.0  \n",
       "ndvi            2682.0  32203.0  \n",
       "ndwi1           -627.0  32558.0  \n",
       "ndwi2            367.0  32702.0  "
      ]
     },
     "execution_count": 48,
     "metadata": {},
     "output_type": "execute_result"
    }
   ],
   "source": [
    "df.describe().T"
   ]
  },
  {
   "cell_type": "markdown",
   "metadata": {},
   "source": [
    "#### Reshape the unravelled matrix back to the 1300x1300 raster shape"
   ]
  },
  {
   "cell_type": "code",
   "execution_count": 49,
   "metadata": {},
   "outputs": [
    {
     "data": {
      "text/plain": [
       "(1300, 1300)"
      ]
     },
     "execution_count": 49,
     "metadata": {},
     "output_type": "execute_result"
    }
   ],
   "source": [
    "matrix = np.asarray(predictedRaster)\n",
    "reshp = matrix.reshape(shp)\n",
    "reshp.shape"
   ]
  },
  {
   "cell_type": "markdown",
   "metadata": {},
   "source": [
    "Apply the pixel QA mask to the results."
   ]
  },
  {
   "cell_type": "code",
   "execution_count": 50,
   "metadata": {},
   "outputs": [
    {
     "data": {
      "text/plain": [
       "array([[1, 1, 1, ..., 1, 1, 1],\n",
       "       [1, 1, 1, ..., 1, 1, 1],\n",
       "       [1, 1, 1, ..., 1, 1, 1],\n",
       "       ...,\n",
       "       [0, 0, 0, ..., 0, 0, 0],\n",
       "       [0, 0, 0, ..., 0, 0, 0],\n",
       "       [0, 0, 0, ..., 0, 0, 0]], dtype=int16)"
      ]
     },
     "execution_count": 50,
     "metadata": {},
     "output_type": "execute_result"
    }
   ],
   "source": [
    "qa = [file for file in glob.glob('../data/*.tif') if 'qa' in file][0]\n",
    "ds = gdal.Open(qa)\n",
    "qaMask = ds.GetRasterBand(1).ReadAsArray()\n",
    "output = np.where(qaMask == 0, reshp, -9999)\n",
    "qaMask"
   ]
  },
  {
   "cell_type": "markdown",
   "metadata": {},
   "source": [
    "# Generating stats for predicted and truth"
   ]
  },
  {
   "cell_type": "code",
   "execution_count": 51,
   "metadata": {},
   "outputs": [
    {
     "name": "stdout",
     "output_type": "stream",
     "text": [
      "Predicted\n",
      " No-data occuraces: 61568\n",
      " Land occurances: 1619905\n",
      " Water occurances: 8527\n"
     ]
    }
   ],
   "source": [
    "countNoData = np.count_nonzero(output == -9999)\n",
    "countLand = np.count_nonzero(output == 0)\n",
    "countWater = np.count_nonzero(output == 1)\n",
    "print('Predicted\\n No-data occuraces: {}\\n Land occurances: {}\\n Water occurances: {}'.format(countNoData, countLand, countWater))"
   ]
  },
  {
   "cell_type": "code",
   "execution_count": 52,
   "metadata": {},
   "outputs": [],
   "source": [
    "geoTransform = (-9961223.407, 231.65635, 0.0, 4285642.633667, 0.0, -231.65635)"
   ]
  },
  {
   "cell_type": "code",
   "execution_count": 53,
   "metadata": {},
   "outputs": [],
   "source": [
    "predictedPath = os.path.join(outputRasterPath, 'PowellPredictedWaterMask.tif')\n",
    "\n",
    "driver = gdal.GetDriverByName('GTiff')\n",
    "outDs = driver.Create(predictedPath, 1300, 1300, 1, gdal.GDT_Int16, options=['COMPRESS=LZW'])\n",
    "outDs.SetGeoTransform(geoTransform)\n",
    "outDs.SetProjection(rasterProjection)\n",
    "outBand = outDs.GetRasterBand(1)\n",
    "outBand.WriteArray(output)\n",
    "outBand.SetNoDataValue(-9999)\n",
    "outDs.FlushCache()\n",
    "outDs = None\n",
    "outBand = None\n",
    "driver = None"
   ]
  },
  {
   "cell_type": "markdown",
   "metadata": {},
   "source": [
    "## View predictions with Folium"
   ]
  },
  {
   "cell_type": "code",
   "execution_count": 54,
   "metadata": {},
   "outputs": [],
   "source": [
    "import folium\n",
    "from folium import plugins\n",
    "\n",
    "sys.path.append('../scripts')\n",
    "import folium_helper"
   ]
  },
  {
   "cell_type": "code",
   "execution_count": 55,
   "metadata": {},
   "outputs": [
    {
     "name": "stdout",
     "output_type": "stream",
     "text": [
      "Transform: | 491.82, 0.00,-12749861.52|\n",
      "| 0.00,-491.82, 4656230.30|\n",
      "| 0.00, 0.00, 1.00|\n",
      "Width: 1670 Height: 770\n"
     ]
    }
   ],
   "source": [
    "mask_3857 = folium_helper.reproject_to_3857(predictedPath)\n",
    "mask_d = folium_helper.get_bounds(mask_3857)\n",
    "mask_b1 = folium_helper.open_and_get_band(mask_3857, 1)\n",
    "folium_helper.cleanup(mask_3857)\n",
    "mask_b1 = np.where(mask_b1 == -9999, 0, mask_b1)\n",
    "zeros = np.zeros_like(mask_b1)\n",
    "mask_rgb = np.dstack((mask_b1, zeros, zeros))"
   ]
  },
  {
   "cell_type": "code",
   "execution_count": 56,
   "metadata": {},
   "outputs": [],
   "source": [
    "m = folium.Map(location=[mask_d['center'][1], mask_d['center'][0]],\n",
    "                   tiles='https://mt1.google.com/vt/lyrs=s&x={x}&y={y}&z={z}', zoom_start = 6, attr='Google')"
   ]
  },
  {
   "cell_type": "code",
   "execution_count": 57,
   "metadata": {},
   "outputs": [
    {
     "data": {
      "text/html": [
       "<div style=\"width:100%;\"><div style=\"position:relative;width:100%;height:0;padding-bottom:60%;\"><span style=\"color:#565656\">Make this Notebook Trusted to load map: File -> Trust Notebook</span><iframe src=\"about:blank\" style=\"position:absolute;width:100%;height:100%;left:0;top:0;border:none !important;\" data-html=%3C%21DOCTYPE%20html%3E%0A%3Chead%3E%20%20%20%20%0A%20%20%20%20%3Cmeta%20http-equiv%3D%22content-type%22%20content%3D%22text/html%3B%20charset%3DUTF-8%22%20/%3E%0A%20%20%20%20%0A%20%20%20%20%20%20%20%20%3Cscript%3E%0A%20%20%20%20%20%20%20%20%20%20%20%20L_NO_TOUCH%20%3D%20false%3B%0A%20%20%20%20%20%20%20%20%20%20%20%20L_DISABLE_3D%20%3D%20false%3B%0A%20%20%20%20%20%20%20%20%3C/script%3E%0A%20%20%20%20%0A%20%20%20%20%3Cstyle%3Ehtml%2C%20body%20%7Bwidth%3A%20100%25%3Bheight%3A%20100%25%3Bmargin%3A%200%3Bpadding%3A%200%3B%7D%3C/style%3E%0A%20%20%20%20%3Cstyle%3E%23map%20%7Bposition%3Aabsolute%3Btop%3A0%3Bbottom%3A0%3Bright%3A0%3Bleft%3A0%3B%7D%3C/style%3E%0A%20%20%20%20%3Cscript%20src%3D%22https%3A//cdn.jsdelivr.net/npm/leaflet%401.6.0/dist/leaflet.js%22%3E%3C/script%3E%0A%20%20%20%20%3Cscript%20src%3D%22https%3A//code.jquery.com/jquery-1.12.4.min.js%22%3E%3C/script%3E%0A%20%20%20%20%3Cscript%20src%3D%22https%3A//maxcdn.bootstrapcdn.com/bootstrap/3.2.0/js/bootstrap.min.js%22%3E%3C/script%3E%0A%20%20%20%20%3Cscript%20src%3D%22https%3A//cdnjs.cloudflare.com/ajax/libs/Leaflet.awesome-markers/2.0.2/leaflet.awesome-markers.js%22%3E%3C/script%3E%0A%20%20%20%20%3Clink%20rel%3D%22stylesheet%22%20href%3D%22https%3A//cdn.jsdelivr.net/npm/leaflet%401.6.0/dist/leaflet.css%22/%3E%0A%20%20%20%20%3Clink%20rel%3D%22stylesheet%22%20href%3D%22https%3A//maxcdn.bootstrapcdn.com/bootstrap/3.2.0/css/bootstrap.min.css%22/%3E%0A%20%20%20%20%3Clink%20rel%3D%22stylesheet%22%20href%3D%22https%3A//maxcdn.bootstrapcdn.com/bootstrap/3.2.0/css/bootstrap-theme.min.css%22/%3E%0A%20%20%20%20%3Clink%20rel%3D%22stylesheet%22%20href%3D%22https%3A//maxcdn.bootstrapcdn.com/font-awesome/4.6.3/css/font-awesome.min.css%22/%3E%0A%20%20%20%20%3Clink%20rel%3D%22stylesheet%22%20href%3D%22https%3A//cdnjs.cloudflare.com/ajax/libs/Leaflet.awesome-markers/2.0.2/leaflet.awesome-markers.css%22/%3E%0A%20%20%20%20%3Clink%20rel%3D%22stylesheet%22%20href%3D%22https%3A//cdn.jsdelivr.net/gh/python-visualization/folium/folium/templates/leaflet.awesome.rotate.min.css%22/%3E%0A%20%20%20%20%0A%20%20%20%20%20%20%20%20%20%20%20%20%3Cmeta%20name%3D%22viewport%22%20content%3D%22width%3Ddevice-width%2C%0A%20%20%20%20%20%20%20%20%20%20%20%20%20%20%20%20initial-scale%3D1.0%2C%20maximum-scale%3D1.0%2C%20user-scalable%3Dno%22%20/%3E%0A%20%20%20%20%20%20%20%20%20%20%20%20%3Cstyle%3E%0A%20%20%20%20%20%20%20%20%20%20%20%20%20%20%20%20%23map_a51daa44fade40e09c34f6b8b88de15d%20%7B%0A%20%20%20%20%20%20%20%20%20%20%20%20%20%20%20%20%20%20%20%20position%3A%20relative%3B%0A%20%20%20%20%20%20%20%20%20%20%20%20%20%20%20%20%20%20%20%20width%3A%20100.0%25%3B%0A%20%20%20%20%20%20%20%20%20%20%20%20%20%20%20%20%20%20%20%20height%3A%20100.0%25%3B%0A%20%20%20%20%20%20%20%20%20%20%20%20%20%20%20%20%20%20%20%20left%3A%200.0%25%3B%0A%20%20%20%20%20%20%20%20%20%20%20%20%20%20%20%20%20%20%20%20top%3A%200.0%25%3B%0A%20%20%20%20%20%20%20%20%20%20%20%20%20%20%20%20%7D%0A%20%20%20%20%20%20%20%20%20%20%20%20%3C/style%3E%0A%20%20%20%20%20%20%20%20%0A%20%20%20%20%0A%20%20%20%20%20%20%20%20%20%20%20%20%20%20%20%20%3Cstyle%3E%0A%20%20%20%20%20%20%20%20%20%20%20%20%20%20%20%20%20%20%20%20.leaflet-image-layer%20%7B%0A%20%20%20%20%20%20%20%20%20%20%20%20%20%20%20%20%20%20%20%20%20%20%20%20/%2A%20old%20android/safari%2A/%0A%20%20%20%20%20%20%20%20%20%20%20%20%20%20%20%20%20%20%20%20%20%20%20%20image-rendering%3A%20-webkit-optimize-contrast%3B%0A%20%20%20%20%20%20%20%20%20%20%20%20%20%20%20%20%20%20%20%20%20%20%20%20image-rendering%3A%20crisp-edges%3B%20/%2A%20safari%20%2A/%0A%20%20%20%20%20%20%20%20%20%20%20%20%20%20%20%20%20%20%20%20%20%20%20%20image-rendering%3A%20pixelated%3B%20/%2A%20chrome%20%2A/%0A%20%20%20%20%20%20%20%20%20%20%20%20%20%20%20%20%20%20%20%20%20%20%20%20image-rendering%3A%20-moz-crisp-edges%3B%20/%2A%20firefox%20%2A/%0A%20%20%20%20%20%20%20%20%20%20%20%20%20%20%20%20%20%20%20%20%20%20%20%20image-rendering%3A%20-o-crisp-edges%3B%20/%2A%20opera%20%2A/%0A%20%20%20%20%20%20%20%20%20%20%20%20%20%20%20%20%20%20%20%20%20%20%20%20-ms-interpolation-mode%3A%20nearest-neighbor%3B%20/%2A%20ie%20%2A/%0A%20%20%20%20%20%20%20%20%20%20%20%20%20%20%20%20%20%20%20%20%7D%0A%20%20%20%20%20%20%20%20%20%20%20%20%20%20%20%20%3C/style%3E%0A%20%20%20%20%20%20%20%20%20%20%20%20%0A%20%20%20%20%3Cscript%20src%3D%22https%3A//cdn.jsdelivr.net/gh/ardhi/Leaflet.MousePosition/src/L.Control.MousePosition.min.js%22%3E%3C/script%3E%0A%20%20%20%20%3Clink%20rel%3D%22stylesheet%22%20href%3D%22https%3A//cdn.jsdelivr.net/gh/ardhi/Leaflet.MousePosition/src/L.Control.MousePosition.min.css%22/%3E%0A%3C/head%3E%0A%3Cbody%3E%20%20%20%20%0A%20%20%20%20%0A%20%20%20%20%20%20%20%20%20%20%20%20%3Cdiv%20class%3D%22folium-map%22%20id%3D%22map_a51daa44fade40e09c34f6b8b88de15d%22%20%3E%3C/div%3E%0A%20%20%20%20%20%20%20%20%0A%3C/body%3E%0A%3Cscript%3E%20%20%20%20%0A%20%20%20%20%0A%20%20%20%20%20%20%20%20%20%20%20%20var%20map_a51daa44fade40e09c34f6b8b88de15d%20%3D%20L.map%28%0A%20%20%20%20%20%20%20%20%20%20%20%20%20%20%20%20%22map_a51daa44fade40e09c34f6b8b88de15d%22%2C%0A%20%20%20%20%20%20%20%20%20%20%20%20%20%20%20%20%7B%0A%20%20%20%20%20%20%20%20%20%20%20%20%20%20%20%20%20%20%20%20center%3A%20%5B37.1868364898923%2C%20-110.84485924937243%5D%2C%0A%20%20%20%20%20%20%20%20%20%20%20%20%20%20%20%20%20%20%20%20crs%3A%20L.CRS.EPSG3857%2C%0A%20%20%20%20%20%20%20%20%20%20%20%20%20%20%20%20%20%20%20%20zoom%3A%206%2C%0A%20%20%20%20%20%20%20%20%20%20%20%20%20%20%20%20%20%20%20%20zoomControl%3A%20true%2C%0A%20%20%20%20%20%20%20%20%20%20%20%20%20%20%20%20%20%20%20%20preferCanvas%3A%20false%2C%0A%20%20%20%20%20%20%20%20%20%20%20%20%20%20%20%20%7D%0A%20%20%20%20%20%20%20%20%20%20%20%20%29%3B%0A%0A%20%20%20%20%20%20%20%20%20%20%20%20%0A%0A%20%20%20%20%20%20%20%20%0A%20%20%20%20%0A%20%20%20%20%20%20%20%20%20%20%20%20var%20tile_layer_db957f9cc53f44fdb8a5731ba7964344%20%3D%20L.tileLayer%28%0A%20%20%20%20%20%20%20%20%20%20%20%20%20%20%20%20%22https%3A//mt1.google.com/vt/lyrs%3Ds%5Cu0026x%3D%7Bx%7D%5Cu0026y%3D%7By%7D%5Cu0026z%3D%7Bz%7D%22%2C%0A%20%20%20%20%20%20%20%20%20%20%20%20%20%20%20%20%7B%22attribution%22%3A%20%22Google%22%2C%20%22detectRetina%22%3A%20false%2C%20%22maxNativeZoom%22%3A%2018%2C%20%22maxZoom%22%3A%2018%2C%20%22minZoom%22%3A%200%2C%20%22noWrap%22%3A%20false%2C%20%22opacity%22%3A%201%2C%20%22subdomains%22%3A%20%22abc%22%2C%20%22tms%22%3A%20false%7D%0A%20%20%20%20%20%20%20%20%20%20%20%20%29.addTo%28map_a51daa44fade40e09c34f6b8b88de15d%29%3B%0A%20%20%20%20%20%20%20%20%0A%20%20%20%20%0A%20%20%20%20%20%20%20%20%20%20%20%20var%20image_overlay_265ce28f11d64e57aa237d6a506bcf36%20%3D%20L.imageOverlay%28%0A%20%20%20%20%20%20%20%20%20%20%20%20%20%20%20%20%22data%3Aimage/png%3Bbase64%2CiVBORw0KGgoAAAANSUhEUgAABoYAAAMCCAYAAABEBXSBAAAhOElEQVR42uzd0W7bOBCGUb3/S8/eZAHDtSRSIiVyeC4OttsmtjPJokC%2B/dtt27YAACCn2OE2AAAAsCxHAABYIQq5CQAAACAMAQAIQwAAAIAwBABAljDkHgAAAIAwBACwQBhyCwAAAEAYAgAQhAAAAABhCAAA3g1b7gAAAADCEAAAAAAAAMIQAAAAAAAAwhAAAAAAAADCEAAAAAAAgDAEAAAAAACAMAQAAAAAAIAwBAAAAAAAgDAEAAAAAACAMAQAAAAAAIAwBAAAAAAAgDAEAAAAAACAMAQAAAAAAIAwBAAAAAAAIAwBAAAAAAAgDAEAAAAAACAMAQAAAAAAIAwBAAAAAAAgDAEAAAAAACAMAQAAAAAAIAwBAAAAAAAgDAEAAAAAACAMAQAAAAAAIAwBAAAAAAAIQwAAAAAAAAhDAAAAAAAACEMAAAAAAAAIQwAAAAAAAAhDAAAAAAAACEMAAAAAAAAIQwAAAAAAAAhDAAAAAAAACEMAAAAAAADCkCMAAAAAAAAIQwAAAAAAAAhDAAAAAAAACEMAAAAAAAAIQwAAAAAAAAhDAAAAAAAACEMAAAAAAAAIQwAAAAAAAAhDAAAAAAAACEMAAAAAAADCEAAAAAAAAMIQAAAAAAAAwhAAAAAAAADCEAAAAAAAAMIQAAAAAAAAwhAAAAAAAADCEAAAAAAAAMIQAAAAAAAAwhAAAAAAAAAOAAAAAAAAIAwBAAAAAAAgDAEAAAAAACAMAQAAAAAAIAwBAAAAAAAgDAEAAAAAACAMAQAjiQ/uAQAAACAMAQDCEAAAAADCEAAgDAEAAAAgDAEA0wQhYQgAAABAGAIAhCEAAAAAhCEAIGMcchMAAAAAYQgASB6F3AMAAABAGAIAFloLCUQAAAAAwhAAYDEEAAAAgDAEAIhCAAAAAAhDAIA4BAAAAIAwBACIQwAAAAAIQwDAS1FIGAIAAAAQhgAAiyEAAAAAhCEAIFsccgsAAAAAYQgAEIcAAAAAEIYAgGxxyB0AAAAAhCEAQBgCAAAAQBgCAIQhAAAAAIQhAEAcAgAAAEAYAgAAAAAAQBgCwAIEAAAAABCGABCHAAAAAABhCAAAAAAAQBgCYNWFkJUQvvYBAAAAhCEAFvjG%2BOab4/jvwB0AAAAAYQiANdYSvimOKAQAAAAgDAHgG%2BLgvwMAAAAAYQgA3xAHizkAAAAAYQgAQBgCAAAAEIYAAEYLQ24BAAAACEMAANZCAAAAAMIQAIAwBAAAACAMAQAIQgAAAADCEACAMAQAAAAgDAEAPByG3AIAAAAQhgAArIUAAAAAhCEAAGEIAAAAQBgCABCEAAAAAIQhAIBxwpBbAAAAAAhDAIDFEAAAAIAwBABgMQQAAAAgDAEADB%2BDhCEAAAAAYQgAWGwpJAwBAAAACEMAAAAAAADCEAAAAAAAAMIQAAAAAAAAwhAAAAAAAADCEAAAAAAAAMIQAAAAAAAAwhAAAAAAAADCEAAAAAAAAMIQAAAAAAAAwhAAAAAAAAAOAAAAAAAAIAwBAAAAAAAgDAEAAAAAACAMAQAAAAAAIAwBAAAAAAAgDAEAAAAAACAMAQBAOuEGAAAACEMAACAMAQAAgDAEAAAAAACAMAQAAAAAAIAwBAAAAAAAgDAEAAAAAAAgDAEAAAAAACAMAQAAAAAAIAwBADCVcAMAAAAQhgAAEIYAAAAAYQgAAAAAAABhCAAAAAAAAGEIAAAAAAAAYQgAAAAAAABhCAAAAAAAAGEIAAAAAAAAYQgAAAAAAABhCACA/sINAAAAQBgCAGCNKBTiEAAAAAhDAACsFYfcAgAAAIQhAAAAAAAAhCEAAAAAAACEIQAAAAAAAIQhAAAAAAAAhCEAAAAAAACEIQAAAAAAAGEIAAAAAAAAYQgAAAAAAABhCAAAAAAAAGEIAAAAAAAAYQgAAAAAAABhCAAAAAAAAGEIAAAAAAAAYQgAAAAAAABhCAAAAAAAAGEIAAAAAABAGAIAAAAAAEAYAgAAAAAAQBgCAAAAAABAGAIAAAAAAEAYAgAAAAAAQBgCAAAAAABAGAIAAAAAAEAYAgAAAAAAQBgCAAAAAAAQhgAAAAAAABCGAAAAAAAAEIYAAAAAAAAQhgAAAAAAABCGAAAAAAAAEIYAAAAAAAAQhgAAAAAAABCGAAAAAAAAEIYAAAAAAAAQhgAAAAAAAIQhAAAAAAAAhCEAAAAAAACEIQAAAAAAAIQhAAAAAAAAhCEAAAD4X7gBAAAIQwAAAAAAAAhDAAAAYLEEAADCEAAAAMKMOAQAAMIQAAAAQ0ah2Pn3OHj7%2BPG%2B287PAQAADgAAAMAgUUjIAQAAYQgAAABhCAAAEIYAAACYLQDtRSH3AQAAYQgAAIDE6yBLIQAAEIYAAABYMA49uVYSogAAEIYAAADgxTj09HP7HAAAIAwBAADAS3Hojef2OQAAQBgCAACABcIQAAAIQwAAACAMAQCAMAQAAAC9opAwBAAAwhAAAAAWQwAAgDAEAABAprWQMAQAAMIQAAAAFkIAAIAwBAAAwOxxyC0AAEAYAgAAQBACAACEIQAAAGaPQsIQAAAIQwAAAFgMAQAAwhAAAAAzrIDOoo8oBAAAwhAAAAAJI5EwBAAAwhAAAAALBaLacAQAAAhDAAAATLwc2uNOAAAgDAEAALBAFIqPt3UzAAAQhgAAAFggDglDAAAgDAEAAJA8BglCAAAgDAEAAJAkDJW%2B/dG/AwAAwhAAAACJwpAlEQAACEMAAAAkDkIl6yEAAEAYAgAAIHEcAgAAhCEAAAAmDES93wcAABCGAAAAGCAM3X2/z1AkGAEAgDAEAABAosUQAAAgDAEAAJAsCsXm7yICAABhCAAAgHRxKIQhAAAQhgAAAMgXgr5/HAdKlkUAAIAwBAAAQILlkCgEAADCEAAAAAuFImEIAACEIQAAAIQhAABAGAIAACBTGHIPAAAQhgAAALAWAgAAhCEAAACyxCG3AAAAYQgAAABRCAAAEIYAAAAQhwAAAGEIAKDzNzDdAaBNDBKFAABAGAIAACB5XBeFAABAGAIAAGDBtZA4BAAAwhAAAADJo9AmCgEAgDAEAADAOkshqyEAABCGAAAAWDQOCUQAACAMAcClbzC5DQDME4XcBwAAhCEAuPV/HLsRAMy1FPJ7OAAACEMAIA4BgDAEAAAIQwDw%2B5tIvqkEAHNEoaNfdzcAABCGAAAASBKDAAAAYQgAAIDkcchdAABAGAIAACDxSkgQAgAAYQgAAIBFApGbAACAMAQAAMBCyyF3AQAAYQgAAABxCAAAEIYAAADIFIfcAwAAhCEAAAAWWg25CQAACEMAAAAsEIUEIgAAEIYAAABYJAq5CwAACEMAAACIQwAAgDAEAABApjDkJgAAIAwBAACQPAq5BwAACEMAAAAkXgeFxRAAAAhDAAAArBuGBCIAABCGAAAASBKFzgKRWwEAgDAEAABAgpXQ2XLIvQAAQBgCAAAg0VroKA65FQAACEMAAABMEH5qotBeHHJLAAAQhgAAAJhkDRQVUQgAABCGAAAASLYeEocAAEAYAgAAIGkIEoMAAEAYAgAAIGkUEoAAAEAYAgAAYOHFEAAAIAwBAAAgDAEAAMIQAAAAAAAAwhAAAABDr4UshgAAQBgCAAAgcQwShQAAAGEIAAAg8SpICAIAAIQhAACAheLQJg4BAADCEAAAQO4o5A4AAIAwBAAAIAwBAADCEAAAAMIQAAAgDAEAACAMAQAAwhAAAADCEAAAIAwBAADwYhgShwAAAGEIAAAAAABAGAIAAOBshfPrx6OuhcJyCAAAEIYAAADahKEY9DWKQQAAgDAEAADQKLpsAy9yhCEAAEAYAgAAaBhcYsAwFMIQAAAgDAEAAMy3yIkLr0UIAgAAhCEAAIAH1kMjhCGfFwAAQBgCAACYdDkULz8/AAAgDAEAALCzGhJoAAAAYQgAAEAY6vbcPg8AAIAwBAAA8EIYEoUAAABhCAAAQBi6/Ty/fgwAACAMAQAAJI1Db6yTAAAAYQgAAICXl0MAAADCEAAAwABhKDo%2Bj3sDAADCEAAAQMcAEwVxpnccEoUAAABhCIDX/i/o8M0qABb6vW8rjD69wpDfZwEAAGEIgOG%2BeeYWAKz4P0fceXthCAAAEIYAmPYbZ%2B4AwCph6Ok45PdZAABAGAIAAHg5DkWDkGSZCwAACEMAAAATRaLSiBQXn8/tAQAAYQgAAGDQQNRyPSQMAQAAwhAAAMACYchiCAAAEIYAAAAGC0K1cah0EXR3bQQAACAMAQAAvByGakOPQAQAAAhDAAAAg4aimjAUhcuhX4/pcwAAAAhDAAAAg4Sh2jhU%2B7w%2BBwAAgDAEAAAwQCS6Eoei4jncHAAAEIYAAAAGCkSt4tCddREAAIAwBAAA0DEMlSyKarktAAAgDAEAAAy4FqpZEgEAAAhDAAAACVZD3yFIGAIAAIQhAACABSKRMAQAAAhDAAAAC4Shb%2B4CAAAIQwAAAMmj0CYMAQAAwhAAAEDeKOQWAACAMAQAALBIHHIHAABAGAIAALAaAgAAEIYAAACshgAAAIQhAAAAYQgAAEAYAgAAGDcM7XEfAABAGAIAABCIAAAAhCEAAICMscgtAAAAYQgAAEAYAgAAEIYAAAAyxSF3AAAAhCEAAABhCAAAQBgCAAAQhQAAAIQhAAAAYQgAAEAYAgAAGCsKCUMAAIAwBAAAkCT6xE4AEoUAAABhCAAAIOEa6CgOuRUAACAMAQAAJAhDZ0sidwIAAIQhAACAxGEIAABAGAIAABCGAAAAhCEAAABxCAAAQBgCAAAEluFfdwhEAACAMAQAALDG8kYcAgAAhCEAAIALcWX2MCQOAQAAwhAAAIDABQAAIAwBAAD8iiviEAAAgDAEAACIQqIQAACAMAQAACAKAQAACEMAAADWTgAAgDAEAACAMAQAAAhDAAAAwkrVaxeGAAAAYQgAACBpxPrFbQAAAGEIAADgpWjz5PMIQwAAgDAEAADwYBDaizcWQwAAgDAEAACQPAyV/NqIayQAAABhCAAA4Eb8aRF0LIQAAABhCAAA4OHIc%2Bf97sQdQQgAABCGAAAAJgtKV8KQIAQAAAhDAAAAE66Gfi2HfoWiEIUAAABhCAAA4Lk4VLvsaRWIYvP3CQEAAMIQAADAVAuis/cVgwAAAGEIAABgobAkDAEAAMIQAADAYGHnTrCJyucQhgAAAGEIAABg8rDkFgAAgDAEAAAwWeQRhgAAAIQhAABgofVPVL6P2wEAAMIQAADAYpEIAABAGAIAAEgcj9wBAAAQhgAAAJLGn88VkTAEAAAIQwAAAMnCUPz4MQAAgDAEAACQOAwBAAAgDAEAAMIQAACAMAQAACAMAQAACEMAAADCEAAAgDAEAAAgDgEAAAhDAAAAL8Yhr8vrBgAAhCEAAMBqSGjxcQAAgDAEAAAgDAkoNR%2BDMAQAAMIQAADAqzFo9LXQTFErDl7X7HcGAABhCAAAQExxS/cEAABhCAAAQBSyugIAAIQhAAAAC5cOH5MoBAAACEMAAAAJwlAU/no8HGyEIQAAEIYAAACmiUMZX//TYcjXEwAACEMAAADTr3Bm/hieXgz5egIAAGEIAACA5PFLGAIAAGEIAACAQaJPdHpeQQgAAIQhAAAABlwDiUMAAIAwBAAALB1UIsHHcCXixEuvAQAAEIYAAAC4GWRqYk/J28bJ84hBAAAgDAEAAKRb2cyyeooGN4gDvm4AAEAYAgAAEIYmj0N7EUgYAgAAhCEAAEAcShKGwkIIAAAQhgAAANZZDFkGAQAAwhAAALBUTMkWhsQdAABAGAIAACiIQrOGFWEIAAAQhgAAYNJv8LuDtZAoBAAACEMAAAALhKFfr%2B1s4SQMAQAAwhAAAFgM8eOuMeFrL%2BVzDQAACEMAACAMsRNaSqPRG/FFEAIAAIQhAABYIFi4Rd/QdhZWWsehuPn1IAoBAADCEAAAWAtZIjUOK1Fwv6OQVBuZWnwM/rsBAACEIQAAwCKpMvzceczeq54Q%2BgAAAGEIAADmXq9kWyRlWWDF9u/fPRQXl0jR6PNvHQQAAAhDAAAgFlkMvRTCYvNHugEAAMIQAADQIDQIQ3N8rKIQAAAgDAEAALeWLXuhITo8lzDkpgAAAMIQAAAMEol6BAeLIQAAAIQhAAAYMGZEx8ePpHfreTsAAABhCAAAaL4SeiLgHD12THzDrOELAABAGAIAgOSroej8HFmXVgAAAAhDAABg/fJgeBKGAAAAhCEAAKAicPQIOHESnWLS0CIMAQAACEMAAJBqOfREHOoZpZ64la8ZAAAAYQgAAKYOQ09Gp9jm/aPmrIYAAACEIQAAmH4pFA8%2BT0x2l9jm/ePvAAAAhCEAAKAogsz0HD0WVEdhSBwCAAAQhgAAIE0Yik6P3zretL7D3irIYggAAEAYAgCAqYNQq3gThWGoZWTqEcKO7iAIAQAACEMAAJB6OTRKHIoOj3ElDvVYKgEAACAMAQDA62HoSvypedyofD2tHuNO4AIAAEAYAgCAKSNQTcApiSp7b1e6xGmx7rm7egIAAEAYAgCAJeNQzZKo5v3PHk8UAgAAEIYAAIBGMag2ytx5/CvxpjRAtX7tAAAACEMAALBUGLqyEqqJQzXxqMUCCgAAAGEIAAAeizCjPn/c/PWrUah2VeTrCAAAQBgCAIDpFjpvxKBfQab0tR0FnbthqDYg%2BToCAAAQhgAAwHKoIEQdxZejZc6V9U7N8mcvFl0NayISAACAMAQAAEOthuLB5yqJNWevqXbFcyUmAQAAgDAEAEDaODTSaqh01XN1ZeTzDgAAgDAEAMCSS6E3wlAUvJ6jSHTnbX3%2BAQAAEIYAABCJOoWT2pjTKgyJQgAAAAhDAADwUhxqGYZKH/vNdRQAAADCEAAALBucWkSiFtHJ5wUAAABhCAAAEadzHGq1IOoVmAAAAEAYAgDAyqfh40WDqHMWh7ZNFAIAAEAYAgCA1wJTa9uNRZHPDQAAAMIQAAAUhpOayNJyJVQTf8QgAAAAhCEAAKhY95QugN5aEQlDAAAACEMAANAoDEXh27Z6LqshAAAAhCEAAJaMNEf/vnUIHS0CzRuroZJo5GsKAAAAYQgAgKnXPE8vh1qvcI4e4/vX7rwmiyEAAACEIQAAUsSh73jSYlVUG1xafEyl0ahFHBKIAAAAEIYAAJg6DrUIQlfiUKvnuLLweeI1AgAAgDAEAMCQgah1XKlZ5LQMT2eP3/N1AQAAgDAEAMB0cag0mMQ2bhzq9b4AAAAgDAEAkCIMlQaT75%2BLBkue1q%2B59HF8LQAAACAMAQAgEFWuiUp/vtXrLPm5s8fy%2BQcAAEAYAgBAHLoQh3qHobOgU/P4FkMAAAAIQwAAiEMfP64JQGfxp/btrwSfK7FHGAIAAEAYAgCAynXQ1bVPi8e9G3mshwAAABCGAACgIuJkWOgIQwAAAAhDAABQEIdq33/0j9HnGgAAAGEIAABhaGvzR76JLwAAAAhDAAAwWRiyygEAAABhCACABcJQi8dyUwAAAIQhAAAYPAy5BQAAAAhDAAAsshaKDo/pxgAAAAhDAAAwaByyQgIAAABhCAAAq6HqiCQMAQAAIAwBAMBkYSgOWAwBAAAgDAEAQMIwVLMcEoYAAAAQhgAAYNAwdOXXz8KQ2wIAACAMAQDAgGuhq/Fob03UKkoBAACAMAQAAA2XQrGV/Z1BPQJPbOIQAAAAwhAAADweiAAAAABhCAAAsQgAAAAQhgAAyB6H4qXndX8AAACEIQAAAAAAAIQhAAAAAAAAhCEAAAAAAACEIQAAAAAAAIQhAAAAAAAAhCEAAHhC/HELAAAAhCEAAFgkDrkDAAAAwhAAAAAAAADCEAAAZF0PWRABAAAgDAEAAAAAACAMAQAAAAAAIAwBAAAAAAAgDAEAAAAAACAMAQAAAAAAIAwBAAAAAAAIQwAAAAAAAAhDAAAAAAAACEMAAAAAAF2FGwAIQwAAAAAAAAhDAAAAAGA1AwDCEAAAAAAAgDAEAAAAAHwtdKx0rKgAhCEAAAAAQAwBQBgCAAAAAABAGAIAAAAAAEAYAgAAAAAAQBgCAAAAAABAGAIAAAAAAEAYAgAAAAAAQBgCAAAAAAAQhgAAAAAAABCGAAAAAAAAEIYAAAAAAAAQhgAAAACA/sINABCGAAAAAAAAEIYAAAAAAACEIQAAAABgBeEGAMIQAAAAAAAAwhAAAAAAAADCEAAAAAAAAMIQAAAAAAAAwhAAAAAAAADCEAAAAAAAAMIQAAAAAAAAwhAAAAAAAADCEAAAAAAAgDAEAAAAAACAMAQAAAAAAIAwBAAAAAAAgDAEAAAAAACAMAQAAAAAAIAwBAAAAAAAgDAEAAAAAACAMAQAAAAAAIAwBAAAAAAAgDAEAAAAAAAgDAEAAAAAACAMAQAAAAAAIAwBAAAAAAAgDAEAAAAAACAMAQAAAAAAIAwBAAAAAAAgDAEAAAAAACAMAQAAAAAAIAwBAAAAAAAIQwAAAAAA3BV/3AIQhgAAAAAAFglD4hAgDAEAAAAAJI9Bv7gRIAwBAAAAAAhDAMIQAAAAAIAwBCAMAQAAAAAMG4U%2Bf85tAGEIAAAAACBhGHIHQBgCAAAAAABAGAIAAAAAAEAYAgAAAAAAQBgCAAAAAABAGAIAAAAAAEAYAgAAAAAAQBgCAAAAAAAQhgAAAAAAABCGAAAAAAAAEIYAAAAAAAAQhgAAAAAAABCGAAAAAAAAEIYAAAAAYHnhBgAIQwAAAAAAAAhDAAAAAGBRBADCEAAAAAAAAA4AAAAAAAAgDAEAAAAAACAMAQAAAAAAIAwBAAAAAAAgDAEAAAAAACAMAQAAAAAAIAwBAAAAAAAgDAEAAAAAo4g/bgEgDAEAAAAACwUidwAQhgAAAABAvAAAYQgAAAAAMQYAEIYAAAAAAAAQhgAAAAAAABCGAAAAAAAAEIYAAAAAAACEIQAAAAAAAIQhAAAAAAAAhCEAAAAAAACEIQAAAAB4W7gBAAhDAAAAAIhDACAMAQAAAAAAIAwBAAAAgIURbgkgDAEAAAAAACAMAQAAAAAAIAwBAAAAwIDi45/hHgAIQwAAAAAAAAhDAAAAAADWVgDCEAAAAAAAAMIQAAAAAAAAwhAAAAAAAADCEAAAAAAAAMIQAAAAAAAAwhAAAAAAAIAwBAAAAAAAgDAEAAAAAACAMAQAAAAAAIAwBAAAAAAAgDAEAAAAAACAMAQAAAAAAIAwBAAAALQUf9wCAEAYAgAAABaJQ%2B4AACAMAQAAAIhLAADCEAAAAIA4BAAgDAEAAADiEAAAwhAAAAAAAADCEAAAAAAAAMIQAAAAAAAAwhAAAAAAAADCEAAAAMwu3AAAAGEIAAAAAAAAYQgAAAAAAABhCAAAAAAAAAcAAAAAAAAQhgAAAAA%2BhRsAAAhDAAAAAABCNYAwBAAAAPjmKgAAwhAAAAAgDgEAIAwBAAAAAAAgDAEAAACA9R0ACEMAAAAAAAAIQwAAAAAAAAhDAAAAAAAAwhAAAAAAAADCEAAAAAAAAMIQAAAAAAAAwhAAAAAAAADCEAAAAAAAAMIQAAAAAAAAwhAAAAAAMK/44B78194dGwEMwkAQdP9Nv1MPiU1gQKMNtoFPTwyAMAQAAAAANAlEdgAQhgAAAAAAABCGAAAAYN9Ve1y3AwAgDAEAAAAAACAMAQAAAAAAIAwBAAAAAAAgDAEAAACUl8u/VACAMAQAAADQLgyJQwCAMAQAAADQJAoJQwCAMAQAAADgtRDDZrYAAGEIAAAAAAAAYQgAAAD%2BeblgBwAAhCEAAAAAAACEIQAAAAAAAIQhAAAAAAAAhCEAAAAAAACEIQAAAAAAAIQhAAAAAAB4ExuAMAQAAAAAACAMAQAAAAAAIAwBAAAAAAAgDAEAAAAAACAMAQAAAAAAIAwBAAAAAAAgDAEAAAAAACAMAQAAAAAAIAwBAAAAAAAgDAEAAAAAAGAEAAAAAAAAYQgAAAAADhUbAIAwBAAAAIAwBAAIQwAAAACIQwAgDAEAAACAKAQAwhAAAAAAAADCEAAAAAAAAMIQAAAAAAAAwhAAAAAwLzYAAEAYAgAAAAAAQBgCAAAAAABAGAIAAAAAABCGAAAAAAAAEIYAAAAAAAAQhgAAAAAAABCGAAAAAAAAEIYAAAAAAAAQhgAAAAAAABCGAAAAAGCJ2AAAYQgAAAAAAABhCAAAAAAAAGEIAAAAAAAAYQgAAAAAjhUbACAMAQAAAIAoBADCEAAAAAAAAMIQAAAAAAAAwhAAAAAAAADCEAAAAAAAAMIQAAAAAAAAwhAAAAAAAADCEAAAAAAAgDAEAAAAAACAMAQAAAAAAIAwBAAAAAAAgDAEAAAAAACAMAQAAAAAAIAwBAAAAAAAgDAEAAAAAACAMAQAAAAAAIAwBAAAAAAAgDAEAAAAAAAgDAEAAAAAACAMAQAAAAAAIAwBAAAAAAAgDAEAAAAAACAMAQAAAAAAIAwBAAAAAAAgDAEAAAAAACAMAQAAAAAAIAwBAAAAAAAIQwAAAAAAAAhDAAAAAAAACEMAAAAAAAAIQwAAAAAAAAhDAAAAAAAACEMAAAAAAAAIQwAAAAAAAAhDAAAAAAAACEMAAAAAAAAIQwAAAAAAAMIQAAAAAAAAwhAAAAAAAADCEAAAAAAAAMIQAAAAAAAAwhAAAAAAAADCEAAAAAAAAMIQAAAAAAAAwhAAAAAAAADCEAAAAAAsEhsAIAwBAAAAAAAgDAEAAAAAACAMAQAAAAAAIAwBAAAAAAAgDAEAAAAAACAMAQAAAAAACEMAAAAAAAAIQwAAAAAAAAhDAAAAAAAACEMAAAAAQBGxAYAwBAAAAAAAgDAEAAAAAACAMAQAAAAAAIAwBAAAAAAAgDAEAAAAAACAMAQAAAAAAIAwBAAAAAAAgDAEAAAAAACAMAQAAAAAACAMAQAAAAAAIAwBAAAAAAAgDAEAAAAAACAMAQAAAAAAIAwBAAAAAAAgDAEAAAAAACAMAQAAAAAAIAwBAAAAAAAgDAEAAAAAACAMAQAAAAAACEMAAAAAwGd5sAcAwhAAAAAAiEIAIAwBAAAAgDAEAMIQAAAAAJQKRHYAQBgCAAAAAGEIAIQhAAAAAAAAhCEAAAAAAACEIQAAAAAAAIQhAAAAAAAAhCEAAAAAAABhCAAAAAAAAGEIAAAAAAAAYQgAAAAAAABhCAAAAAAAAGEIAAAAAAAAYQgAAAAAAABhCAAAAAAAAGEIAAAAAAAAYQgAAAAAAABhCAAAAAAAQBgCAAAAAABAGAIAAAAAAEAYAgAAAAAAQBgCAAAAAABAGAIAAAAAAEAYAgAAAAAAQBgCAAAAAABAGAIAAAAAAEAYAgAAAAAAaO4Ggh06KrJXuPcAAAAASUVORK5CYII%3D%22%2C%0A%20%20%20%20%20%20%20%20%20%20%20%20%20%20%20%20%5B%5B35.832006264552895%2C%20-114.53395477030668%5D%2C%20%5B38.5416667152317%2C%20-107.15576372843819%5D%5D%2C%0A%20%20%20%20%20%20%20%20%20%20%20%20%20%20%20%20%7B%22opacity%22%3A%200.6%7D%0A%20%20%20%20%20%20%20%20%20%20%20%20%29.addTo%28map_a51daa44fade40e09c34f6b8b88de15d%29%3B%0A%20%20%20%20%20%20%20%20%0A%20%20%20%20%0A%20%20%20%20%20%20%20%20%20%20%20%20var%20mouse_position_69a65817a4ae40048fe5eae541c2dea6%20%3D%20new%20L.Control.MousePosition%28%0A%20%20%20%20%20%20%20%20%20%20%20%20%20%20%20%20%7B%22emptyString%22%3A%20%22Unavailable%22%2C%20%22lngFirst%22%3A%20false%2C%20%22numDigits%22%3A%205%2C%20%22position%22%3A%20%22bottomright%22%2C%20%22prefix%22%3A%20%22%22%2C%20%22separator%22%3A%20%22%20%3A%20%22%7D%0A%20%20%20%20%20%20%20%20%20%20%20%20%29%3B%0A%20%20%20%20%20%20%20%20%20%20%20%20mouse_position_69a65817a4ae40048fe5eae541c2dea6.options%5B%22latFormatter%22%5D%20%3D%0A%20%20%20%20%20%20%20%20%20%20%20%20%20%20%20%20undefined%3B%0A%20%20%20%20%20%20%20%20%20%20%20%20mouse_position_69a65817a4ae40048fe5eae541c2dea6.options%5B%22lngFormatter%22%5D%20%3D%0A%20%20%20%20%20%20%20%20%20%20%20%20%20%20%20%20undefined%3B%0A%20%20%20%20%20%20%20%20%20%20%20%20map_a51daa44fade40e09c34f6b8b88de15d.addControl%28mouse_position_69a65817a4ae40048fe5eae541c2dea6%29%3B%0A%20%20%20%20%20%20%20%20%0A%20%20%20%20%0A%20%20%20%20%20%20%20%20%20%20%20%20var%20layer_control_2fa6ddd53b1b423f80eec2aa7e17287b%20%3D%20%7B%0A%20%20%20%20%20%20%20%20%20%20%20%20%20%20%20%20base_layers%20%3A%20%7B%0A%20%20%20%20%20%20%20%20%20%20%20%20%20%20%20%20%20%20%20%20%22https%3A//mt1.google.com/vt/lyrs%3Ds%5Cu0026x%3D%7Bx%7D%5Cu0026y%3D%7By%7D%5Cu0026z%3D%7Bz%7D%22%20%3A%20tile_layer_db957f9cc53f44fdb8a5731ba7964344%2C%0A%20%20%20%20%20%20%20%20%20%20%20%20%20%20%20%20%7D%2C%0A%20%20%20%20%20%20%20%20%20%20%20%20%20%20%20%20overlays%20%3A%20%20%7B%0A%20%20%20%20%20%20%20%20%20%20%20%20%20%20%20%20%20%20%20%20%22Water%20classification%20XGBOOST%20predicted%20mask%22%20%3A%20image_overlay_265ce28f11d64e57aa237d6a506bcf36%2C%0A%20%20%20%20%20%20%20%20%20%20%20%20%20%20%20%20%7D%2C%0A%20%20%20%20%20%20%20%20%20%20%20%20%7D%3B%0A%20%20%20%20%20%20%20%20%20%20%20%20L.control.layers%28%0A%20%20%20%20%20%20%20%20%20%20%20%20%20%20%20%20layer_control_2fa6ddd53b1b423f80eec2aa7e17287b.base_layers%2C%0A%20%20%20%20%20%20%20%20%20%20%20%20%20%20%20%20layer_control_2fa6ddd53b1b423f80eec2aa7e17287b.overlays%2C%0A%20%20%20%20%20%20%20%20%20%20%20%20%20%20%20%20%7B%22autoZIndex%22%3A%20true%2C%20%22collapsed%22%3A%20true%2C%20%22position%22%3A%20%22topright%22%7D%0A%20%20%20%20%20%20%20%20%20%20%20%20%29.addTo%28map_a51daa44fade40e09c34f6b8b88de15d%29%3B%0A%20%20%20%20%20%20%20%20%0A%3C/script%3E onload=\"this.contentDocument.open();this.contentDocument.write(    decodeURIComponent(this.getAttribute('data-html')));this.contentDocument.close();\" allowfullscreen webkitallowfullscreen mozallowfullscreen></iframe></div></div>"
      ],
      "text/plain": [
       "<folium.folium.Map at 0x2b927f8a20d0>"
      ]
     },
     "execution_count": 57,
     "metadata": {},
     "output_type": "execute_result"
    }
   ],
   "source": [
    "m.add_child(folium_helper.get_overlay(mask_rgb, mask_d, 'Water classification XGBOOST predicted mask', opacity=0.6))\n",
    "m.add_child(plugins.MousePosition())\n",
    "m.add_child(folium.LayerControl())"
   ]
  },
  {
   "cell_type": "code",
   "execution_count": null,
   "metadata": {},
   "outputs": [],
   "source": []
  }
 ],
 "metadata": {
  "kernelspec": {
   "display_name": "Python [conda env:ilab]",
   "language": "python",
   "name": "conda-env-ilab-py"
  },
  "language_info": {
   "codemirror_mode": {
    "name": "ipython",
    "version": 3
   },
   "file_extension": ".py",
   "mimetype": "text/x-python",
   "name": "python",
   "nbconvert_exporter": "python",
   "pygments_lexer": "ipython3",
   "version": "3.7.12"
  }
 },
 "nbformat": 4,
 "nbformat_minor": 4
}
