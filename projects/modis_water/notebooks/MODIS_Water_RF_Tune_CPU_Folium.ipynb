{
 "cells": [
  {
   "cell_type": "markdown",
   "metadata": {},
   "source": [
    "# Water Clasification Random Forest CPU\n",
    "\n",
    "Version: DEMO\n",
    "\n",
    "ILAB Team\n",
    "\n",
    "Kernel to use:\n",
    "- (ADAPT PRISM) `Python [conda env:ilab]`\n",
    "\n",
    "This is a demo notebook showcasing how the ILAB team uses sklearn capabilities to perform efficient CPU-based training of a Random Forest classifier algorithm. This notebook also demonstates how to use a raster as a test data-set for the trained model."
   ]
  },
  {
   "cell_type": "code",
   "execution_count": 1,
   "metadata": {},
   "outputs": [],
   "source": [
    "import csv\n",
    "import datetime\n",
    "import glob\n",
    "import joblib\n",
    "import numpy as np\n",
    "import os\n",
    "import pandas as pd\n",
    "from pathlib import Path\n",
    "import sys\n",
    "from pprint import pprint\n",
    "import time\n",
    "\n",
    "import optuna\n",
    "\n",
    "# Scikit learn\n",
    "from sklearn.ensemble import RandomForestClassifier\n",
    "from sklearn.metrics import confusion_matrix, accuracy_score, roc_auc_score\n",
    "from sklearn.metrics import classification_report, f1_score\n",
    "from sklearn.model_selection import train_test_split, RandomizedSearchCV, KFold\n",
    "from sklearn.inspection import permutation_importance\n",
    "\n",
    "# Visualization\n",
    "import seaborn as sns\n",
    "import matplotlib.pyplot as plt\n",
    "import warnings\n",
    "\n",
    "#GDAL Stuff\n",
    "from osgeo import gdalconst\n",
    "from osgeo import gdal\n",
    "\n",
    "plt.style.use('fivethirtyeight')\n",
    "warnings.filterwarnings('ignore')\n",
    "%matplotlib inline"
   ]
  },
  {
   "cell_type": "code",
   "execution_count": 2,
   "metadata": {},
   "outputs": [],
   "source": [
    "DATA_TYPE = np.float32"
   ]
  },
  {
   "cell_type": "code",
   "execution_count": 3,
   "metadata": {},
   "outputs": [],
   "source": [
    "v_names = ['sur_refl_b01_1','sur_refl_b02_1','sur_refl_b03_1',\n",
    "           'sur_refl_b04_1','sur_refl_b05_1','sur_refl_b06_1',\n",
    "           'sur_refl_b07_1','ndvi','ndwi1','ndwi2']"
   ]
  },
  {
   "cell_type": "markdown",
   "metadata": {},
   "source": [
    "Add names from above to this list to drop them from training and testing.\n",
    "\n",
    "For example:\n",
    "\n",
    "```python\n",
    "columnsToDrop = ['sur_refl_b01_1', 'sur_refl_b07_1', 'ndwi1']\n",
    "```"
   ]
  },
  {
   "cell_type": "code",
   "execution_count": 4,
   "metadata": {},
   "outputs": [],
   "source": [
    "columnsToDrop = []"
   ]
  },
  {
   "cell_type": "markdown",
   "metadata": {},
   "source": [
    "This is a 1000 row training dataset which has columns for all the features listed in v_names. MODIS MOD09GA and MOD09GQ were the data sources."
   ]
  },
  {
   "cell_type": "code",
   "execution_count": 5,
   "metadata": {},
   "outputs": [],
   "source": [
    "dfPath = '../data/WaterClassificationPowell.parquet.gzip'"
   ]
  },
  {
   "cell_type": "code",
   "execution_count": 6,
   "metadata": {},
   "outputs": [],
   "source": [
    "outputRasterPath = '.'"
   ]
  },
  {
   "cell_type": "code",
   "execution_count": 7,
   "metadata": {},
   "outputs": [
    {
     "name": "stdout",
     "output_type": "stream",
     "text": [
      "Requirement already satisfied: fastparquet in /Users/cssprad1/anaconda3/envs/aicoe_demo/lib/python3.10/site-packages (0.8.1)\n",
      "Requirement already satisfied: numpy>=1.18 in /Users/cssprad1/anaconda3/envs/aicoe_demo/lib/python3.10/site-packages (from fastparquet) (1.23.2)\n",
      "Requirement already satisfied: pandas>=1.1.0 in /Users/cssprad1/anaconda3/envs/aicoe_demo/lib/python3.10/site-packages (from fastparquet) (1.4.3)\n",
      "Requirement already satisfied: cramjam>=2.3.0 in /Users/cssprad1/anaconda3/envs/aicoe_demo/lib/python3.10/site-packages (from fastparquet) (2.5.0)\n",
      "Requirement already satisfied: fsspec in /Users/cssprad1/anaconda3/envs/aicoe_demo/lib/python3.10/site-packages (from fastparquet) (2022.7.1)\n",
      "Requirement already satisfied: python-dateutil>=2.8.1 in /Users/cssprad1/anaconda3/envs/aicoe_demo/lib/python3.10/site-packages (from pandas>=1.1.0->fastparquet) (2.8.2)\n",
      "Requirement already satisfied: pytz>=2020.1 in /Users/cssprad1/anaconda3/envs/aicoe_demo/lib/python3.10/site-packages (from pandas>=1.1.0->fastparquet) (2022.2.1)\n",
      "Requirement already satisfied: six>=1.5 in /Users/cssprad1/anaconda3/envs/aicoe_demo/lib/python3.10/site-packages (from python-dateutil>=2.8.1->pandas>=1.1.0->fastparquet) (1.16.0)\n"
     ]
    }
   ],
   "source": [
    "!pip install fastparquet"
   ]
  },
  {
   "cell_type": "code",
   "execution_count": 8,
   "metadata": {},
   "outputs": [],
   "source": [
    "df = pd.read_parquet(dfPath).astype(DATA_TYPE)\n",
    "df = df.drop(columns=columnsToDrop)\n",
    "X = df.drop(['water'], axis=1)\n",
    "y = df['water']\n",
    "X_train, X_test, y_train, y_test = train_test_split(X, y, test_size=0.2)"
   ]
  },
  {
   "cell_type": "code",
   "execution_count": 9,
   "metadata": {},
   "outputs": [
    {
     "data": {
      "text/plain": [
       "5"
      ]
     },
     "execution_count": 9,
     "metadata": {},
     "output_type": "execute_result"
    }
   ],
   "source": [
    "kf = KFold(n_splits=5)\n",
    "kf.get_n_splits(X_train)"
   ]
  },
  {
   "cell_type": "markdown",
   "metadata": {},
   "source": [
    "## Data \n",
    "- Read in to cuDF Dataframe\n",
    "- Drop unnecessary columns\n",
    "- Split into Xs and Ys"
   ]
  },
  {
   "cell_type": "markdown",
   "metadata": {},
   "source": [
    "## Load in data for use of visualizations \n",
    "(skip this if you just want to train model)"
   ]
  },
  {
   "cell_type": "code",
   "execution_count": 10,
   "metadata": {},
   "outputs": [
    {
     "name": "stdout",
     "output_type": "stream",
     "text": [
      "sur_refl_b01_1\n",
      "sur_refl_b02_1\n",
      "sur_refl_b03_1\n",
      "sur_refl_b04_1\n",
      "sur_refl_b05_1\n",
      "sur_refl_b06_1\n",
      "sur_refl_b07_1\n",
      "ndvi\n",
      "ndwi1\n",
      "ndwi2\n"
     ]
    }
   ],
   "source": [
    "_ = [print(column) for column in X_train.columns]"
   ]
  },
  {
   "cell_type": "code",
   "execution_count": 11,
   "metadata": {},
   "outputs": [
    {
     "data": {
      "text/html": [
       "<div>\n",
       "<style scoped>\n",
       "    .dataframe tbody tr th:only-of-type {\n",
       "        vertical-align: middle;\n",
       "    }\n",
       "\n",
       "    .dataframe tbody tr th {\n",
       "        vertical-align: top;\n",
       "    }\n",
       "\n",
       "    .dataframe thead th {\n",
       "        text-align: right;\n",
       "    }\n",
       "</style>\n",
       "<table border=\"1\" class=\"dataframe\">\n",
       "  <thead>\n",
       "    <tr style=\"text-align: right;\">\n",
       "      <th></th>\n",
       "      <th>count</th>\n",
       "      <th>mean</th>\n",
       "      <th>std</th>\n",
       "      <th>min</th>\n",
       "      <th>25%</th>\n",
       "      <th>50%</th>\n",
       "      <th>75%</th>\n",
       "      <th>max</th>\n",
       "    </tr>\n",
       "  </thead>\n",
       "  <tbody>\n",
       "    <tr>\n",
       "      <th>sur_refl_b01_1</th>\n",
       "      <td>800.0</td>\n",
       "      <td>1234.660034</td>\n",
       "      <td>1353.554565</td>\n",
       "      <td>8.000000</td>\n",
       "      <td>233.000000</td>\n",
       "      <td>877.000000</td>\n",
       "      <td>1915.000000</td>\n",
       "      <td>9222.000000</td>\n",
       "    </tr>\n",
       "    <tr>\n",
       "      <th>sur_refl_b02_1</th>\n",
       "      <td>800.0</td>\n",
       "      <td>1586.628784</td>\n",
       "      <td>1603.414185</td>\n",
       "      <td>1.000000</td>\n",
       "      <td>163.000000</td>\n",
       "      <td>1241.500000</td>\n",
       "      <td>2697.750000</td>\n",
       "      <td>8837.000000</td>\n",
       "    </tr>\n",
       "    <tr>\n",
       "      <th>sur_refl_b03_1</th>\n",
       "      <td>800.0</td>\n",
       "      <td>763.526245</td>\n",
       "      <td>1079.617798</td>\n",
       "      <td>-100.000000</td>\n",
       "      <td>279.000000</td>\n",
       "      <td>548.000000</td>\n",
       "      <td>857.000000</td>\n",
       "      <td>8909.000000</td>\n",
       "    </tr>\n",
       "    <tr>\n",
       "      <th>sur_refl_b04_1</th>\n",
       "      <td>800.0</td>\n",
       "      <td>1047.535034</td>\n",
       "      <td>1130.636719</td>\n",
       "      <td>6.000000</td>\n",
       "      <td>406.750000</td>\n",
       "      <td>819.000000</td>\n",
       "      <td>1312.000000</td>\n",
       "      <td>9162.000000</td>\n",
       "    </tr>\n",
       "    <tr>\n",
       "      <th>sur_refl_b05_1</th>\n",
       "      <td>800.0</td>\n",
       "      <td>1954.098755</td>\n",
       "      <td>1478.039917</td>\n",
       "      <td>-92.000000</td>\n",
       "      <td>538.500000</td>\n",
       "      <td>1757.500000</td>\n",
       "      <td>3213.250000</td>\n",
       "      <td>6382.000000</td>\n",
       "    </tr>\n",
       "    <tr>\n",
       "      <th>sur_refl_b06_1</th>\n",
       "      <td>800.0</td>\n",
       "      <td>1907.581299</td>\n",
       "      <td>1542.750122</td>\n",
       "      <td>56.000000</td>\n",
       "      <td>503.750000</td>\n",
       "      <td>1445.500000</td>\n",
       "      <td>3253.000000</td>\n",
       "      <td>6610.000000</td>\n",
       "    </tr>\n",
       "    <tr>\n",
       "      <th>sur_refl_b07_1</th>\n",
       "      <td>800.0</td>\n",
       "      <td>1569.521240</td>\n",
       "      <td>1399.778320</td>\n",
       "      <td>0.000000</td>\n",
       "      <td>300.750000</td>\n",
       "      <td>1133.500000</td>\n",
       "      <td>2740.500000</td>\n",
       "      <td>6128.000000</td>\n",
       "    </tr>\n",
       "    <tr>\n",
       "      <th>ndvi</th>\n",
       "      <td>800.0</td>\n",
       "      <td>-8.354029</td>\n",
       "      <td>2539.749512</td>\n",
       "      <td>-9493.670898</td>\n",
       "      <td>-1630.924561</td>\n",
       "      <td>566.527252</td>\n",
       "      <td>1723.163544</td>\n",
       "      <td>6732.558105</td>\n",
       "    </tr>\n",
       "    <tr>\n",
       "      <th>ndwi1</th>\n",
       "      <td>800.0</td>\n",
       "      <td>-2337.522705</td>\n",
       "      <td>3517.485107</td>\n",
       "      <td>-9829.059570</td>\n",
       "      <td>-4632.356689</td>\n",
       "      <td>-1638.265198</td>\n",
       "      <td>-780.138382</td>\n",
       "      <td>8823.803711</td>\n",
       "    </tr>\n",
       "    <tr>\n",
       "      <th>ndwi2</th>\n",
       "      <td>800.0</td>\n",
       "      <td>-879.903748</td>\n",
       "      <td>3963.966064</td>\n",
       "      <td>-9615.384766</td>\n",
       "      <td>-2848.157837</td>\n",
       "      <td>-696.361206</td>\n",
       "      <td>860.248474</td>\n",
       "      <td>10000.000000</td>\n",
       "    </tr>\n",
       "  </tbody>\n",
       "</table>\n",
       "</div>"
      ],
      "text/plain": [
       "                count         mean          std          min          25%  \\\n",
       "sur_refl_b01_1  800.0  1234.660034  1353.554565     8.000000   233.000000   \n",
       "sur_refl_b02_1  800.0  1586.628784  1603.414185     1.000000   163.000000   \n",
       "sur_refl_b03_1  800.0   763.526245  1079.617798  -100.000000   279.000000   \n",
       "sur_refl_b04_1  800.0  1047.535034  1130.636719     6.000000   406.750000   \n",
       "sur_refl_b05_1  800.0  1954.098755  1478.039917   -92.000000   538.500000   \n",
       "sur_refl_b06_1  800.0  1907.581299  1542.750122    56.000000   503.750000   \n",
       "sur_refl_b07_1  800.0  1569.521240  1399.778320     0.000000   300.750000   \n",
       "ndvi            800.0    -8.354029  2539.749512 -9493.670898 -1630.924561   \n",
       "ndwi1           800.0 -2337.522705  3517.485107 -9829.059570 -4632.356689   \n",
       "ndwi2           800.0  -879.903748  3963.966064 -9615.384766 -2848.157837   \n",
       "\n",
       "                        50%          75%           max  \n",
       "sur_refl_b01_1   877.000000  1915.000000   9222.000000  \n",
       "sur_refl_b02_1  1241.500000  2697.750000   8837.000000  \n",
       "sur_refl_b03_1   548.000000   857.000000   8909.000000  \n",
       "sur_refl_b04_1   819.000000  1312.000000   9162.000000  \n",
       "sur_refl_b05_1  1757.500000  3213.250000   6382.000000  \n",
       "sur_refl_b06_1  1445.500000  3253.000000   6610.000000  \n",
       "sur_refl_b07_1  1133.500000  2740.500000   6128.000000  \n",
       "ndvi             566.527252  1723.163544   6732.558105  \n",
       "ndwi1          -1638.265198  -780.138382   8823.803711  \n",
       "ndwi2           -696.361206   860.248474  10000.000000  "
      ]
     },
     "execution_count": 11,
     "metadata": {},
     "output_type": "execute_result"
    }
   ],
   "source": [
    "X_train.describe().T"
   ]
  },
  {
   "cell_type": "markdown",
   "metadata": {},
   "source": [
    "## Random Forest Model\n",
    "\n",
    "### Model Definition"
   ]
  },
  {
   "cell_type": "code",
   "execution_count": 12,
   "metadata": {},
   "outputs": [],
   "source": [
    "def objective(trial):\n",
    "    hyperparameters = {\n",
    "        \"n_jobs\": -1,\n",
    "        # The number of trees in the forest.\n",
    "        \"n_estimators\": trial.suggest_categorical(\"n_estimators\", [100, 150, 200, 250, 300, 350, 400]),\n",
    "        # The function to measure the quality of a split.\n",
    "        \"criterion\": trial.suggest_categorical(\"criterion\", [\"gini\", \"entropy\"]),\n",
    "        # The maximum depth of the tree. \n",
    "        # If None, then nodes are expanded until all leaves are pure or until all leaves contain less than min_samples_split samples.\n",
    "        \"max_depth\": trial.suggest_categorical(\"max_depth\", [None, 16, 32, 64]),\n",
    "        # The minimum number of samples required to split an internal node.\n",
    "        \"min_samples_split\":  trial.suggest_float(\"min_samples_split\", 0.1, 1),\n",
    "        # The number of features to consider when looking for the best split.\n",
    "        \"max_features\":  trial.suggest_categorical(\"max_features\", [\"sqrt\", \"log2\", None]),\n",
    "    }\n",
    "    classifier = RandomForestClassifier(**hyperparameters)\n",
    "    scores = []\n",
    "    for trainIdx, testIdx in kf.split(X_train):\n",
    "        X_train_valid, X_test_valid = X_train.iloc[trainIdx], X_train.iloc[testIdx]\n",
    "        y_train_valid, y_test_valid = y_train.iloc[trainIdx], y_train.iloc[testIdx]\n",
    "        classifier.fit(X_train_valid, y_train_valid)\n",
    "        preds = classifier.predict(X_test_valid)\n",
    "        f1 = f1_score(y_test_valid, preds)\n",
    "        print('F1 Score: {}'.format(f1))\n",
    "        scores.append(f1)\n",
    "    print('Mean F1 score: {}'.format(sum(scores)/len(scores)))\n",
    "    return f1"
   ]
  },
  {
   "cell_type": "markdown",
   "metadata": {},
   "source": [
    "## Set the search space\n",
    "\n",
    "Set the search space for the hyperparameter tuning to search through once. This needs to be in conjunction with the `trial.suggest...` part of the hyperparameters dictionary defined aboce. \n",
    "\n",
    "Ex.\n",
    "\n",
    "If `max_depth` is defined in `hyperparameters` in the `objective` function above as such\n",
    "\n",
    "`\"max_depth\":  trial.suggest_int(\"max_depth\", 3, 15, step=1),` \n",
    "\n",
    "then we need to pair that with the limited search space below as such:\n",
    "\n",
    "`search_space={\"max_depth\":[3, 4, 5, 6, 7, 8, 9, 10, 11, 12, 13, 14, 15]}`\n",
    "\n",
    "This is not the most ideal way of ensuring that trials are not repeated, however it works for now. "
   ]
  },
  {
   "cell_type": "code",
   "execution_count": 13,
   "metadata": {},
   "outputs": [],
   "source": [
    "search_space={\n",
    "    \"max_depth\":[3, 4, 5, 6, 7, 8, 9, 10, 11, 12, 13, 14, 15],\n",
    "}"
   ]
  },
  {
   "cell_type": "markdown",
   "metadata": {},
   "source": [
    "### Set number of trials and timeout\n",
    "\n",
    "Set the number of trials `n_trials=<num of desired trials>` and the maximum time for the total study `timeout=<timeout in minutes>*60`"
   ]
  },
  {
   "cell_type": "code",
   "execution_count": 14,
   "metadata": {},
   "outputs": [
    {
     "name": "stderr",
     "output_type": "stream",
     "text": [
      "\u001b[32m[I 2022-08-17 10:52:43,954]\u001b[0m A new study created in memory with name: rf hyperparameter tuning - cpu\u001b[0m\n"
     ]
    },
    {
     "name": "stdout",
     "output_type": "stream",
     "text": [
      "F1 Score: 0.6885245901639345\n",
      "F1 Score: 0.6440677966101694\n",
      "F1 Score: 0.6721991701244813\n",
      "F1 Score: 0.0\n"
     ]
    },
    {
     "name": "stderr",
     "output_type": "stream",
     "text": [
      "\u001b[32m[I 2022-08-17 10:52:46,012]\u001b[0m Trial 0 finished with value: 0.649789029535865 and parameters: {'n_estimators': 300, 'criterion': 'gini', 'max_depth': 16, 'min_samples_split': 0.7226871167264274, 'max_features': 'sqrt'}. Best is trial 0 with value: 0.649789029535865.\u001b[0m\n"
     ]
    },
    {
     "name": "stdout",
     "output_type": "stream",
     "text": [
      "F1 Score: 0.649789029535865\n",
      "Mean F1 score: 0.53091611728689\n",
      "F1 Score: 0.6885245901639345\n",
      "F1 Score: 0.6440677966101694\n",
      "F1 Score: 0.6721991701244813\n",
      "F1 Score: 0.9424083769633509\n"
     ]
    },
    {
     "name": "stderr",
     "output_type": "stream",
     "text": [
      "\u001b[32m[I 2022-08-17 10:52:47,278]\u001b[0m Trial 1 finished with value: 0.649789029535865 and parameters: {'n_estimators': 200, 'criterion': 'gini', 'max_depth': 64, 'min_samples_split': 0.6565771496446408, 'max_features': 'sqrt'}. Best is trial 0 with value: 0.649789029535865.\u001b[0m\n"
     ]
    },
    {
     "name": "stdout",
     "output_type": "stream",
     "text": [
      "F1 Score: 0.649789029535865\n",
      "Mean F1 score: 0.7193977926795602\n",
      "F1 Score: 0.962962962962963\n",
      "F1 Score: 0.9801324503311258\n",
      "F1 Score: 0.949367088607595\n"
     ]
    },
    {
     "name": "stderr",
     "output_type": "stream",
     "text": [
      "\u001b[32m[I 2022-08-17 10:52:47,978]\u001b[0m Trial 2 finished with value: 0.953020134228188 and parameters: {'n_estimators': 100, 'criterion': 'entropy', 'max_depth': 64, 'min_samples_split': 0.625726684012013, 'max_features': None}. Best is trial 2 with value: 0.953020134228188.\u001b[0m\n"
     ]
    },
    {
     "name": "stdout",
     "output_type": "stream",
     "text": [
      "F1 Score: 0.9841269841269841\n",
      "F1 Score: 0.953020134228188\n",
      "Mean F1 score: 0.9659219240513712\n",
      "F1 Score: 0.9818181818181818\n",
      "F1 Score: 0.9866666666666666\n",
      "F1 Score: 0.9629629629629629\n",
      "F1 Score: 0.983957219251337\n"
     ]
    },
    {
     "name": "stderr",
     "output_type": "stream",
     "text": [
      "\u001b[32m[I 2022-08-17 10:52:49,401]\u001b[0m Trial 3 finished with value: 0.9600000000000001 and parameters: {'n_estimators': 200, 'criterion': 'entropy', 'max_depth': 16, 'min_samples_split': 0.241665305642925, 'max_features': None}. Best is trial 3 with value: 0.9600000000000001.\u001b[0m\n"
     ]
    },
    {
     "name": "stdout",
     "output_type": "stream",
     "text": [
      "F1 Score: 0.9600000000000001\n",
      "Mean F1 score: 0.9750810061398296\n",
      "F1 Score: 0.9696969696969696\n",
      "F1 Score: 0.9933774834437086\n",
      "F1 Score: 0.9625\n",
      "F1 Score: 0.9841269841269841\n"
     ]
    },
    {
     "name": "stderr",
     "output_type": "stream",
     "text": [
      "\u001b[32m[I 2022-08-17 10:52:50,748]\u001b[0m Trial 4 finished with value: 0.9668874172185431 and parameters: {'n_estimators': 200, 'criterion': 'entropy', 'max_depth': 32, 'min_samples_split': 0.6300688812438315, 'max_features': 'sqrt'}. Best is trial 4 with value: 0.9668874172185431.\u001b[0m\n"
     ]
    },
    {
     "name": "stdout",
     "output_type": "stream",
     "text": [
      "F1 Score: 0.9668874172185431\n",
      "Mean F1 score: 0.975317770897241\n",
      "F1 Score: 0.6885245901639345\n",
      "F1 Score: 0.6440677966101694\n",
      "F1 Score: 0.6721991701244813\n",
      "F1 Score: 0.0\n"
     ]
    },
    {
     "name": "stderr",
     "output_type": "stream",
     "text": [
      "\u001b[32m[I 2022-08-17 10:52:52,078]\u001b[0m Trial 5 finished with value: 0.649789029535865 and parameters: {'n_estimators': 200, 'criterion': 'entropy', 'max_depth': None, 'min_samples_split': 0.7312942142229891, 'max_features': 'log2'}. Best is trial 4 with value: 0.9668874172185431.\u001b[0m\n"
     ]
    },
    {
     "name": "stdout",
     "output_type": "stream",
     "text": [
      "F1 Score: 0.649789029535865\n",
      "Mean F1 score: 0.53091611728689\n",
      "F1 Score: 0.9696969696969696\n",
      "F1 Score: 0.9868421052631579\n",
      "F1 Score: 0.9625\n",
      "F1 Score: 0.9841269841269841\n"
     ]
    },
    {
     "name": "stderr",
     "output_type": "stream",
     "text": [
      "\u001b[32m[I 2022-08-17 10:52:54,854]\u001b[0m Trial 6 finished with value: 0.9600000000000001 and parameters: {'n_estimators': 400, 'criterion': 'gini', 'max_depth': 16, 'min_samples_split': 0.42307389329376865, 'max_features': 'sqrt'}. Best is trial 4 with value: 0.9668874172185431.\u001b[0m\n"
     ]
    },
    {
     "name": "stdout",
     "output_type": "stream",
     "text": [
      "F1 Score: 0.9600000000000001\n",
      "Mean F1 score: 0.9726332118174223\n",
      "F1 Score: 0.9818181818181818\n",
      "F1 Score: 0.9933774834437086\n",
      "F1 Score: 0.9689440993788819\n"
     ]
    },
    {
     "name": "stderr",
     "output_type": "stream",
     "text": [
      "\u001b[32m[I 2022-08-17 10:52:55,599]\u001b[0m Trial 7 finished with value: 0.9668874172185431 and parameters: {'n_estimators': 100, 'criterion': 'gini', 'max_depth': 16, 'min_samples_split': 0.20243544566323424, 'max_features': 'sqrt'}. Best is trial 4 with value: 0.9668874172185431.\u001b[0m\n"
     ]
    },
    {
     "name": "stdout",
     "output_type": "stream",
     "text": [
      "F1 Score: 0.9893617021276596\n",
      "F1 Score: 0.9668874172185431\n",
      "Mean F1 score: 0.9800777767973952\n",
      "F1 Score: 0.975609756097561\n",
      "F1 Score: 0.9801324503311258\n",
      "F1 Score: 0.949367088607595\n",
      "F1 Score: 0.9841269841269841\n"
     ]
    },
    {
     "name": "stderr",
     "output_type": "stream",
     "text": [
      "\u001b[32m[I 2022-08-17 10:52:56,778]\u001b[0m Trial 8 finished with value: 0.953020134228188 and parameters: {'n_estimators': 150, 'criterion': 'gini', 'max_depth': 64, 'min_samples_split': 0.6384437317264486, 'max_features': None}. Best is trial 4 with value: 0.9668874172185431.\u001b[0m\n"
     ]
    },
    {
     "name": "stdout",
     "output_type": "stream",
     "text": [
      "F1 Score: 0.953020134228188\n",
      "Mean F1 score: 0.9684512826782908\n",
      "F1 Score: 0.9818181818181818\n",
      "F1 Score: 0.9933774834437086\n",
      "F1 Score: 0.9693251533742332\n",
      "F1 Score: 0.9841269841269841\n"
     ]
    },
    {
     "name": "stderr",
     "output_type": "stream",
     "text": [
      "\u001b[32m[I 2022-08-17 10:52:58,335]\u001b[0m Trial 9 finished with value: 0.9668874172185431 and parameters: {'n_estimators': 200, 'criterion': 'gini', 'max_depth': 32, 'min_samples_split': 0.26036474578860513, 'max_features': 'log2'}. Best is trial 4 with value: 0.9668874172185431.\u001b[0m\n"
     ]
    },
    {
     "name": "stdout",
     "output_type": "stream",
     "text": [
      "F1 Score: 0.9668874172185431\n",
      "Mean F1 score: 0.9791070439963303\n",
      "F1 Score: 0.6885245901639345\n",
      "F1 Score: 0.6440677966101694\n",
      "F1 Score: 0.6721991701244813\n",
      "F1 Score: 0.0\n"
     ]
    },
    {
     "name": "stderr",
     "output_type": "stream",
     "text": [
      "\u001b[32m[I 2022-08-17 10:52:59,828]\u001b[0m Trial 10 finished with value: 0.649789029535865 and parameters: {'n_estimators': 250, 'criterion': 'entropy', 'max_depth': None, 'min_samples_split': 0.9198023171658878, 'max_features': None}. Best is trial 4 with value: 0.9668874172185431.\u001b[0m\n"
     ]
    },
    {
     "name": "stdout",
     "output_type": "stream",
     "text": [
      "F1 Score: 0.649789029535865\n",
      "Mean F1 score: 0.53091611728689\n",
      "F1 Score: 0.9818181818181818\n",
      "F1 Score: 0.9866666666666666\n",
      "F1 Score: 0.9629629629629629\n"
     ]
    },
    {
     "name": "stderr",
     "output_type": "stream",
     "text": [
      "\u001b[32m[I 2022-08-17 10:53:00,556]\u001b[0m Trial 11 finished with value: 0.9600000000000001 and parameters: {'n_estimators': 100, 'criterion': 'entropy', 'max_depth': None, 'min_samples_split': 0.1009705737820918, 'max_features': None}. Best is trial 4 with value: 0.9668874172185431.\u001b[0m\n"
     ]
    },
    {
     "name": "stdout",
     "output_type": "stream",
     "text": [
      "F1 Score: 0.983957219251337\n",
      "F1 Score: 0.9600000000000001\n",
      "Mean F1 score: 0.9750810061398296\n",
      "F1 Score: 0.975609756097561\n",
      "F1 Score: 0.9801324503311258\n",
      "F1 Score: 0.949367088607595\n",
      "F1 Score: 0.9841269841269841\n"
     ]
    },
    {
     "name": "stderr",
     "output_type": "stream",
     "text": [
      "\u001b[32m[I 2022-08-17 10:53:02,772]\u001b[0m Trial 12 finished with value: 0.953020134228188 and parameters: {'n_estimators': 350, 'criterion': 'gini', 'max_depth': None, 'min_samples_split': 0.4865674466662839, 'max_features': None}. Best is trial 4 with value: 0.9668874172185431.\u001b[0m\n"
     ]
    },
    {
     "name": "stdout",
     "output_type": "stream",
     "text": [
      "F1 Score: 0.953020134228188\n",
      "Mean F1 score: 0.9684512826782908\n",
      "F1 Score: 0.6885245901639345\n",
      "F1 Score: 0.6440677966101694\n",
      "F1 Score: 0.6721991701244813\n"
     ]
    },
    {
     "name": "stderr",
     "output_type": "stream",
     "text": [
      "\u001b[32m[I 2022-08-17 10:53:03,487]\u001b[0m Trial 13 finished with value: 0.649789029535865 and parameters: {'n_estimators': 100, 'criterion': 'entropy', 'max_depth': None, 'min_samples_split': 0.8613226668403394, 'max_features': None}. Best is trial 4 with value: 0.9668874172185431.\u001b[0m\n"
     ]
    },
    {
     "name": "stdout",
     "output_type": "stream",
     "text": [
      "F1 Score: 0.0\n",
      "F1 Score: 0.649789029535865\n",
      "Mean F1 score: 0.53091611728689\n",
      "F1 Score: 0.975609756097561\n",
      "F1 Score: 0.9801324503311258\n",
      "F1 Score: 0.949367088607595\n",
      "F1 Score: 0.9841269841269841\n"
     ]
    },
    {
     "name": "stderr",
     "output_type": "stream",
     "text": [
      "\u001b[32m[I 2022-08-17 10:53:05,448]\u001b[0m Trial 14 finished with value: 0.953020134228188 and parameters: {'n_estimators': 300, 'criterion': 'gini', 'max_depth': None, 'min_samples_split': 0.3821607335109874, 'max_features': None}. Best is trial 4 with value: 0.9668874172185431.\u001b[0m\n"
     ]
    },
    {
     "name": "stdout",
     "output_type": "stream",
     "text": [
      "F1 Score: 0.953020134228188\n",
      "Mean F1 score: 0.9684512826782908\n",
      "F1 Score: 0.9818181818181818\n",
      "F1 Score: 0.9933774834437086\n",
      "F1 Score: 0.9629629629629629\n",
      "F1 Score: 0.983957219251337\n",
      "F1 Score: 0.9600000000000001\n",
      "Mean F1 score: 0.9764231694952381\n"
     ]
    },
    {
     "name": "stderr",
     "output_type": "stream",
     "text": [
      "\u001b[32m[I 2022-08-17 10:53:06,494]\u001b[0m Trial 15 finished with value: 0.9600000000000001 and parameters: {'n_estimators': 150, 'criterion': 'entropy', 'max_depth': None, 'min_samples_split': 0.12398924808660267, 'max_features': None}. Best is trial 4 with value: 0.9668874172185431.\u001b[0m\n"
     ]
    },
    {
     "name": "stdout",
     "output_type": "stream",
     "text": [
      "F1 Score: 0.975609756097561\n",
      "F1 Score: 0.9866666666666666\n",
      "F1 Score: 0.949367088607595\n",
      "F1 Score: 0.9789473684210526\n"
     ]
    },
    {
     "name": "stderr",
     "output_type": "stream",
     "text": [
      "\u001b[32m[I 2022-08-17 10:53:08,187]\u001b[0m Trial 16 finished with value: 0.953020134228188 and parameters: {'n_estimators': 250, 'criterion': 'gini', 'max_depth': None, 'min_samples_split': 0.3182325997844304, 'max_features': None}. Best is trial 4 with value: 0.9668874172185431.\u001b[0m\n"
     ]
    },
    {
     "name": "stdout",
     "output_type": "stream",
     "text": [
      "F1 Score: 0.953020134228188\n",
      "Mean F1 score: 0.9687222028042125\n",
      "F1 Score: 0.975609756097561\n",
      "F1 Score: 0.9801324503311258\n",
      "F1 Score: 0.949367088607595\n",
      "F1 Score: 0.9841269841269841\n"
     ]
    },
    {
     "name": "stderr",
     "output_type": "stream",
     "text": [
      "\u001b[32m[I 2022-08-17 10:53:10,508]\u001b[0m Trial 17 finished with value: 0.953020134228188 and parameters: {'n_estimators': 350, 'criterion': 'entropy', 'max_depth': 32, 'min_samples_split': 0.5231038755282286, 'max_features': None}. Best is trial 4 with value: 0.9668874172185431.\u001b[0m\n"
     ]
    },
    {
     "name": "stdout",
     "output_type": "stream",
     "text": [
      "F1 Score: 0.953020134228188\n",
      "Mean F1 score: 0.9684512826782908\n",
      "F1 Score: 0.6885245901639345\n",
      "F1 Score: 0.6440677966101694\n",
      "F1 Score: 0.6721991701244813\n",
      "F1 Score: 0.0\n"
     ]
    },
    {
     "name": "stderr",
     "output_type": "stream",
     "text": [
      "\u001b[32m[I 2022-08-17 10:53:12,840]\u001b[0m Trial 18 finished with value: 0.649789029535865 and parameters: {'n_estimators': 400, 'criterion': 'entropy', 'max_depth': None, 'min_samples_split': 0.8504055919889062, 'max_features': None}. Best is trial 4 with value: 0.9668874172185431.\u001b[0m\n"
     ]
    },
    {
     "name": "stdout",
     "output_type": "stream",
     "text": [
      "F1 Score: 0.649789029535865\n",
      "Mean F1 score: 0.53091611728689\n",
      "F1 Score: 0.6885245901639345\n",
      "F1 Score: 0.6440677966101694\n",
      "F1 Score: 0.6721991701244813\n",
      "F1 Score: 0.0\n"
     ]
    },
    {
     "name": "stderr",
     "output_type": "stream",
     "text": [
      "\u001b[32m[I 2022-08-17 10:53:14,128]\u001b[0m Trial 19 finished with value: 0.649789029535865 and parameters: {'n_estimators': 200, 'criterion': 'gini', 'max_depth': 32, 'min_samples_split': 0.9937237227550308, 'max_features': 'log2'}. Best is trial 4 with value: 0.9668874172185431.\u001b[0m\n"
     ]
    },
    {
     "name": "stdout",
     "output_type": "stream",
     "text": [
      "F1 Score: 0.649789029535865\n",
      "Mean F1 score: 0.53091611728689\n"
     ]
    }
   ],
   "source": [
    "optuna.logging.set_verbosity(optuna.logging.INFO)\n",
    "\n",
    "study = optuna.create_study(study_name='rf hyperparameter tuning - cpu', \n",
    "                            direction='maximize',\n",
    "                           ) # sampler=optuna.samplers.GridSampler(search_space))\n",
    "\n",
    "study.optimize(objective, n_trials=20, timeout=10*60)"
   ]
  },
  {
   "cell_type": "code",
   "execution_count": 15,
   "metadata": {},
   "outputs": [
    {
     "name": "stdout",
     "output_type": "stream",
     "text": [
      "Number of finished trials: 20\n",
      "{'n_estimators': 200, 'criterion': 'entropy', 'max_depth': 32, 'min_samples_split': 0.6300688812438315, 'max_features': 'sqrt'}\n",
      "0.9668874172185431\n"
     ]
    }
   ],
   "source": [
    "print(\"Number of finished trials: {}\".format(len(study.trials)))\n",
    "trials = study.best_trials\n",
    "trial_score = max([trial.values[0] for trial in trials])\n",
    "best_trial_params = [trial.params for trial in trials if trial.values[0] == trial_score][0]\n",
    "print(best_trial_params)\n",
    "print(trial_score)\n",
    "\n",
    "trial_scores = [trial.values for trial in trials]\n",
    "trial_params = [trial.params for trial in trials]\n",
    "\n",
    "study_df = study.trials_dataframe()\n",
    "study_df.to_csv(\"hyperopt_tuning_trial_{}_rf.csv\".format(\n",
    "    datetime.datetime.now().strftime('%Y_%m_%d_%H_%M')))"
   ]
  },
  {
   "cell_type": "code",
   "execution_count": 16,
   "metadata": {},
   "outputs": [
    {
     "data": {
      "text/html": [
       "<div>\n",
       "<style scoped>\n",
       "    .dataframe tbody tr th:only-of-type {\n",
       "        vertical-align: middle;\n",
       "    }\n",
       "\n",
       "    .dataframe tbody tr th {\n",
       "        vertical-align: top;\n",
       "    }\n",
       "\n",
       "    .dataframe thead th {\n",
       "        text-align: right;\n",
       "    }\n",
       "</style>\n",
       "<table border=\"1\" class=\"dataframe\">\n",
       "  <thead>\n",
       "    <tr style=\"text-align: right;\">\n",
       "      <th></th>\n",
       "      <th>number</th>\n",
       "      <th>value</th>\n",
       "      <th>datetime_start</th>\n",
       "      <th>datetime_complete</th>\n",
       "      <th>duration</th>\n",
       "      <th>params_criterion</th>\n",
       "      <th>params_max_depth</th>\n",
       "      <th>params_max_features</th>\n",
       "      <th>params_min_samples_split</th>\n",
       "      <th>params_n_estimators</th>\n",
       "      <th>state</th>\n",
       "    </tr>\n",
       "  </thead>\n",
       "  <tbody>\n",
       "    <tr>\n",
       "      <th>0</th>\n",
       "      <td>0</td>\n",
       "      <td>0.649789</td>\n",
       "      <td>2022-08-17 10:52:43.956298</td>\n",
       "      <td>2022-08-17 10:52:46.012004</td>\n",
       "      <td>0 days 00:00:02.055706</td>\n",
       "      <td>gini</td>\n",
       "      <td>16.0</td>\n",
       "      <td>sqrt</td>\n",
       "      <td>0.722687</td>\n",
       "      <td>300</td>\n",
       "      <td>COMPLETE</td>\n",
       "    </tr>\n",
       "    <tr>\n",
       "      <th>1</th>\n",
       "      <td>1</td>\n",
       "      <td>0.649789</td>\n",
       "      <td>2022-08-17 10:52:46.013841</td>\n",
       "      <td>2022-08-17 10:52:47.277928</td>\n",
       "      <td>0 days 00:00:01.264087</td>\n",
       "      <td>gini</td>\n",
       "      <td>64.0</td>\n",
       "      <td>sqrt</td>\n",
       "      <td>0.656577</td>\n",
       "      <td>200</td>\n",
       "      <td>COMPLETE</td>\n",
       "    </tr>\n",
       "    <tr>\n",
       "      <th>2</th>\n",
       "      <td>2</td>\n",
       "      <td>0.953020</td>\n",
       "      <td>2022-08-17 10:52:47.278654</td>\n",
       "      <td>2022-08-17 10:52:47.978265</td>\n",
       "      <td>0 days 00:00:00.699611</td>\n",
       "      <td>entropy</td>\n",
       "      <td>64.0</td>\n",
       "      <td>None</td>\n",
       "      <td>0.625727</td>\n",
       "      <td>100</td>\n",
       "      <td>COMPLETE</td>\n",
       "    </tr>\n",
       "    <tr>\n",
       "      <th>3</th>\n",
       "      <td>3</td>\n",
       "      <td>0.960000</td>\n",
       "      <td>2022-08-17 10:52:47.979088</td>\n",
       "      <td>2022-08-17 10:52:49.400997</td>\n",
       "      <td>0 days 00:00:01.421909</td>\n",
       "      <td>entropy</td>\n",
       "      <td>16.0</td>\n",
       "      <td>None</td>\n",
       "      <td>0.241665</td>\n",
       "      <td>200</td>\n",
       "      <td>COMPLETE</td>\n",
       "    </tr>\n",
       "    <tr>\n",
       "      <th>4</th>\n",
       "      <td>4</td>\n",
       "      <td>0.966887</td>\n",
       "      <td>2022-08-17 10:52:49.401814</td>\n",
       "      <td>2022-08-17 10:52:50.748660</td>\n",
       "      <td>0 days 00:00:01.346846</td>\n",
       "      <td>entropy</td>\n",
       "      <td>32.0</td>\n",
       "      <td>sqrt</td>\n",
       "      <td>0.630069</td>\n",
       "      <td>200</td>\n",
       "      <td>COMPLETE</td>\n",
       "    </tr>\n",
       "    <tr>\n",
       "      <th>5</th>\n",
       "      <td>5</td>\n",
       "      <td>0.649789</td>\n",
       "      <td>2022-08-17 10:52:50.749377</td>\n",
       "      <td>2022-08-17 10:52:52.077820</td>\n",
       "      <td>0 days 00:00:01.328443</td>\n",
       "      <td>entropy</td>\n",
       "      <td>NaN</td>\n",
       "      <td>log2</td>\n",
       "      <td>0.731294</td>\n",
       "      <td>200</td>\n",
       "      <td>COMPLETE</td>\n",
       "    </tr>\n",
       "    <tr>\n",
       "      <th>6</th>\n",
       "      <td>6</td>\n",
       "      <td>0.960000</td>\n",
       "      <td>2022-08-17 10:52:52.078779</td>\n",
       "      <td>2022-08-17 10:52:54.853879</td>\n",
       "      <td>0 days 00:00:02.775100</td>\n",
       "      <td>gini</td>\n",
       "      <td>16.0</td>\n",
       "      <td>sqrt</td>\n",
       "      <td>0.423074</td>\n",
       "      <td>400</td>\n",
       "      <td>COMPLETE</td>\n",
       "    </tr>\n",
       "    <tr>\n",
       "      <th>7</th>\n",
       "      <td>7</td>\n",
       "      <td>0.966887</td>\n",
       "      <td>2022-08-17 10:52:54.854612</td>\n",
       "      <td>2022-08-17 10:52:55.599240</td>\n",
       "      <td>0 days 00:00:00.744628</td>\n",
       "      <td>gini</td>\n",
       "      <td>16.0</td>\n",
       "      <td>sqrt</td>\n",
       "      <td>0.202435</td>\n",
       "      <td>100</td>\n",
       "      <td>COMPLETE</td>\n",
       "    </tr>\n",
       "    <tr>\n",
       "      <th>8</th>\n",
       "      <td>8</td>\n",
       "      <td>0.953020</td>\n",
       "      <td>2022-08-17 10:52:55.600405</td>\n",
       "      <td>2022-08-17 10:52:56.778199</td>\n",
       "      <td>0 days 00:00:01.177794</td>\n",
       "      <td>gini</td>\n",
       "      <td>64.0</td>\n",
       "      <td>None</td>\n",
       "      <td>0.638444</td>\n",
       "      <td>150</td>\n",
       "      <td>COMPLETE</td>\n",
       "    </tr>\n",
       "    <tr>\n",
       "      <th>9</th>\n",
       "      <td>9</td>\n",
       "      <td>0.966887</td>\n",
       "      <td>2022-08-17 10:52:56.779086</td>\n",
       "      <td>2022-08-17 10:52:58.334910</td>\n",
       "      <td>0 days 00:00:01.555824</td>\n",
       "      <td>gini</td>\n",
       "      <td>32.0</td>\n",
       "      <td>log2</td>\n",
       "      <td>0.260365</td>\n",
       "      <td>200</td>\n",
       "      <td>COMPLETE</td>\n",
       "    </tr>\n",
       "    <tr>\n",
       "      <th>10</th>\n",
       "      <td>10</td>\n",
       "      <td>0.649789</td>\n",
       "      <td>2022-08-17 10:52:58.335634</td>\n",
       "      <td>2022-08-17 10:52:59.828375</td>\n",
       "      <td>0 days 00:00:01.492741</td>\n",
       "      <td>entropy</td>\n",
       "      <td>NaN</td>\n",
       "      <td>None</td>\n",
       "      <td>0.919802</td>\n",
       "      <td>250</td>\n",
       "      <td>COMPLETE</td>\n",
       "    </tr>\n",
       "    <tr>\n",
       "      <th>11</th>\n",
       "      <td>11</td>\n",
       "      <td>0.960000</td>\n",
       "      <td>2022-08-17 10:52:59.829212</td>\n",
       "      <td>2022-08-17 10:53:00.556053</td>\n",
       "      <td>0 days 00:00:00.726841</td>\n",
       "      <td>entropy</td>\n",
       "      <td>NaN</td>\n",
       "      <td>None</td>\n",
       "      <td>0.100971</td>\n",
       "      <td>100</td>\n",
       "      <td>COMPLETE</td>\n",
       "    </tr>\n",
       "    <tr>\n",
       "      <th>12</th>\n",
       "      <td>12</td>\n",
       "      <td>0.953020</td>\n",
       "      <td>2022-08-17 10:53:00.556903</td>\n",
       "      <td>2022-08-17 10:53:02.772017</td>\n",
       "      <td>0 days 00:00:02.215114</td>\n",
       "      <td>gini</td>\n",
       "      <td>NaN</td>\n",
       "      <td>None</td>\n",
       "      <td>0.486567</td>\n",
       "      <td>350</td>\n",
       "      <td>COMPLETE</td>\n",
       "    </tr>\n",
       "    <tr>\n",
       "      <th>13</th>\n",
       "      <td>13</td>\n",
       "      <td>0.649789</td>\n",
       "      <td>2022-08-17 10:53:02.772755</td>\n",
       "      <td>2022-08-17 10:53:03.486886</td>\n",
       "      <td>0 days 00:00:00.714131</td>\n",
       "      <td>entropy</td>\n",
       "      <td>NaN</td>\n",
       "      <td>None</td>\n",
       "      <td>0.861323</td>\n",
       "      <td>100</td>\n",
       "      <td>COMPLETE</td>\n",
       "    </tr>\n",
       "    <tr>\n",
       "      <th>14</th>\n",
       "      <td>14</td>\n",
       "      <td>0.953020</td>\n",
       "      <td>2022-08-17 10:53:03.487653</td>\n",
       "      <td>2022-08-17 10:53:05.447910</td>\n",
       "      <td>0 days 00:00:01.960257</td>\n",
       "      <td>gini</td>\n",
       "      <td>NaN</td>\n",
       "      <td>None</td>\n",
       "      <td>0.382161</td>\n",
       "      <td>300</td>\n",
       "      <td>COMPLETE</td>\n",
       "    </tr>\n",
       "    <tr>\n",
       "      <th>15</th>\n",
       "      <td>15</td>\n",
       "      <td>0.960000</td>\n",
       "      <td>2022-08-17 10:53:05.448811</td>\n",
       "      <td>2022-08-17 10:53:06.493902</td>\n",
       "      <td>0 days 00:00:01.045091</td>\n",
       "      <td>entropy</td>\n",
       "      <td>NaN</td>\n",
       "      <td>None</td>\n",
       "      <td>0.123989</td>\n",
       "      <td>150</td>\n",
       "      <td>COMPLETE</td>\n",
       "    </tr>\n",
       "    <tr>\n",
       "      <th>16</th>\n",
       "      <td>16</td>\n",
       "      <td>0.953020</td>\n",
       "      <td>2022-08-17 10:53:06.494956</td>\n",
       "      <td>2022-08-17 10:53:08.187274</td>\n",
       "      <td>0 days 00:00:01.692318</td>\n",
       "      <td>gini</td>\n",
       "      <td>NaN</td>\n",
       "      <td>None</td>\n",
       "      <td>0.318233</td>\n",
       "      <td>250</td>\n",
       "      <td>COMPLETE</td>\n",
       "    </tr>\n",
       "    <tr>\n",
       "      <th>17</th>\n",
       "      <td>17</td>\n",
       "      <td>0.953020</td>\n",
       "      <td>2022-08-17 10:53:08.188124</td>\n",
       "      <td>2022-08-17 10:53:10.508122</td>\n",
       "      <td>0 days 00:00:02.319998</td>\n",
       "      <td>entropy</td>\n",
       "      <td>32.0</td>\n",
       "      <td>None</td>\n",
       "      <td>0.523104</td>\n",
       "      <td>350</td>\n",
       "      <td>COMPLETE</td>\n",
       "    </tr>\n",
       "    <tr>\n",
       "      <th>18</th>\n",
       "      <td>18</td>\n",
       "      <td>0.649789</td>\n",
       "      <td>2022-08-17 10:53:10.509336</td>\n",
       "      <td>2022-08-17 10:53:12.839835</td>\n",
       "      <td>0 days 00:00:02.330499</td>\n",
       "      <td>entropy</td>\n",
       "      <td>NaN</td>\n",
       "      <td>None</td>\n",
       "      <td>0.850406</td>\n",
       "      <td>400</td>\n",
       "      <td>COMPLETE</td>\n",
       "    </tr>\n",
       "    <tr>\n",
       "      <th>19</th>\n",
       "      <td>19</td>\n",
       "      <td>0.649789</td>\n",
       "      <td>2022-08-17 10:53:12.840568</td>\n",
       "      <td>2022-08-17 10:53:14.127972</td>\n",
       "      <td>0 days 00:00:01.287404</td>\n",
       "      <td>gini</td>\n",
       "      <td>32.0</td>\n",
       "      <td>log2</td>\n",
       "      <td>0.993724</td>\n",
       "      <td>200</td>\n",
       "      <td>COMPLETE</td>\n",
       "    </tr>\n",
       "  </tbody>\n",
       "</table>\n",
       "</div>"
      ],
      "text/plain": [
       "    number     value             datetime_start          datetime_complete  \\\n",
       "0        0  0.649789 2022-08-17 10:52:43.956298 2022-08-17 10:52:46.012004   \n",
       "1        1  0.649789 2022-08-17 10:52:46.013841 2022-08-17 10:52:47.277928   \n",
       "2        2  0.953020 2022-08-17 10:52:47.278654 2022-08-17 10:52:47.978265   \n",
       "3        3  0.960000 2022-08-17 10:52:47.979088 2022-08-17 10:52:49.400997   \n",
       "4        4  0.966887 2022-08-17 10:52:49.401814 2022-08-17 10:52:50.748660   \n",
       "5        5  0.649789 2022-08-17 10:52:50.749377 2022-08-17 10:52:52.077820   \n",
       "6        6  0.960000 2022-08-17 10:52:52.078779 2022-08-17 10:52:54.853879   \n",
       "7        7  0.966887 2022-08-17 10:52:54.854612 2022-08-17 10:52:55.599240   \n",
       "8        8  0.953020 2022-08-17 10:52:55.600405 2022-08-17 10:52:56.778199   \n",
       "9        9  0.966887 2022-08-17 10:52:56.779086 2022-08-17 10:52:58.334910   \n",
       "10      10  0.649789 2022-08-17 10:52:58.335634 2022-08-17 10:52:59.828375   \n",
       "11      11  0.960000 2022-08-17 10:52:59.829212 2022-08-17 10:53:00.556053   \n",
       "12      12  0.953020 2022-08-17 10:53:00.556903 2022-08-17 10:53:02.772017   \n",
       "13      13  0.649789 2022-08-17 10:53:02.772755 2022-08-17 10:53:03.486886   \n",
       "14      14  0.953020 2022-08-17 10:53:03.487653 2022-08-17 10:53:05.447910   \n",
       "15      15  0.960000 2022-08-17 10:53:05.448811 2022-08-17 10:53:06.493902   \n",
       "16      16  0.953020 2022-08-17 10:53:06.494956 2022-08-17 10:53:08.187274   \n",
       "17      17  0.953020 2022-08-17 10:53:08.188124 2022-08-17 10:53:10.508122   \n",
       "18      18  0.649789 2022-08-17 10:53:10.509336 2022-08-17 10:53:12.839835   \n",
       "19      19  0.649789 2022-08-17 10:53:12.840568 2022-08-17 10:53:14.127972   \n",
       "\n",
       "                 duration params_criterion  params_max_depth  \\\n",
       "0  0 days 00:00:02.055706             gini              16.0   \n",
       "1  0 days 00:00:01.264087             gini              64.0   \n",
       "2  0 days 00:00:00.699611          entropy              64.0   \n",
       "3  0 days 00:00:01.421909          entropy              16.0   \n",
       "4  0 days 00:00:01.346846          entropy              32.0   \n",
       "5  0 days 00:00:01.328443          entropy               NaN   \n",
       "6  0 days 00:00:02.775100             gini              16.0   \n",
       "7  0 days 00:00:00.744628             gini              16.0   \n",
       "8  0 days 00:00:01.177794             gini              64.0   \n",
       "9  0 days 00:00:01.555824             gini              32.0   \n",
       "10 0 days 00:00:01.492741          entropy               NaN   \n",
       "11 0 days 00:00:00.726841          entropy               NaN   \n",
       "12 0 days 00:00:02.215114             gini               NaN   \n",
       "13 0 days 00:00:00.714131          entropy               NaN   \n",
       "14 0 days 00:00:01.960257             gini               NaN   \n",
       "15 0 days 00:00:01.045091          entropy               NaN   \n",
       "16 0 days 00:00:01.692318             gini               NaN   \n",
       "17 0 days 00:00:02.319998          entropy              32.0   \n",
       "18 0 days 00:00:02.330499          entropy               NaN   \n",
       "19 0 days 00:00:01.287404             gini              32.0   \n",
       "\n",
       "   params_max_features  params_min_samples_split  params_n_estimators  \\\n",
       "0                 sqrt                  0.722687                  300   \n",
       "1                 sqrt                  0.656577                  200   \n",
       "2                 None                  0.625727                  100   \n",
       "3                 None                  0.241665                  200   \n",
       "4                 sqrt                  0.630069                  200   \n",
       "5                 log2                  0.731294                  200   \n",
       "6                 sqrt                  0.423074                  400   \n",
       "7                 sqrt                  0.202435                  100   \n",
       "8                 None                  0.638444                  150   \n",
       "9                 log2                  0.260365                  200   \n",
       "10                None                  0.919802                  250   \n",
       "11                None                  0.100971                  100   \n",
       "12                None                  0.486567                  350   \n",
       "13                None                  0.861323                  100   \n",
       "14                None                  0.382161                  300   \n",
       "15                None                  0.123989                  150   \n",
       "16                None                  0.318233                  250   \n",
       "17                None                  0.523104                  350   \n",
       "18                None                  0.850406                  400   \n",
       "19                log2                  0.993724                  200   \n",
       "\n",
       "       state  \n",
       "0   COMPLETE  \n",
       "1   COMPLETE  \n",
       "2   COMPLETE  \n",
       "3   COMPLETE  \n",
       "4   COMPLETE  \n",
       "5   COMPLETE  \n",
       "6   COMPLETE  \n",
       "7   COMPLETE  \n",
       "8   COMPLETE  \n",
       "9   COMPLETE  \n",
       "10  COMPLETE  \n",
       "11  COMPLETE  \n",
       "12  COMPLETE  \n",
       "13  COMPLETE  \n",
       "14  COMPLETE  \n",
       "15  COMPLETE  \n",
       "16  COMPLETE  \n",
       "17  COMPLETE  \n",
       "18  COMPLETE  \n",
       "19  COMPLETE  "
      ]
     },
     "execution_count": 16,
     "metadata": {},
     "output_type": "execute_result"
    }
   ],
   "source": [
    "study_df"
   ]
  },
  {
   "cell_type": "code",
   "execution_count": 17,
   "metadata": {},
   "outputs": [
    {
     "data": {
      "text/plain": [
       "<AxesSubplot:title={'center':'Optimization History Plot'}, xlabel='#Trials', ylabel='Objective Value'>"
      ]
     },
     "execution_count": 17,
     "metadata": {},
     "output_type": "execute_result"
    },
    {
     "data": {
      "image/png": "[encoded data removed]",
      "text/plain": [
       "<Figure size 640x480 with 1 Axes>"
      ]
     },
     "metadata": {},
     "output_type": "display_data"
    }
   ],
   "source": [
    "optuna.visualization.matplotlib.plot_optimization_history(study)"
   ]
  },
  {
   "cell_type": "code",
   "execution_count": 18,
   "metadata": {},
   "outputs": [
    {
     "data": {
      "text/plain": [
       "<AxesSubplot:title={'center':'Hyperparameter Importances'}, xlabel='Importance for Objective Value', ylabel='Hyperparameter'>"
      ]
     },
     "execution_count": 18,
     "metadata": {},
     "output_type": "execute_result"
    },
    {
     "data": {
      "image/png": "[encoded data removed]",
      "text/plain": [
       "<Figure size 640x480 with 1 Axes>"
      ]
     },
     "metadata": {},
     "output_type": "display_data"
    }
   ],
   "source": [
    "optuna.visualization.matplotlib.plot_param_importances(study)"
   ]
  },
  {
   "cell_type": "code",
   "execution_count": 19,
   "metadata": {},
   "outputs": [],
   "source": [
    "X_train, X_test, y_train, y_test = train_test_split(X, y, test_size=0.2)"
   ]
  },
  {
   "cell_type": "code",
   "execution_count": 20,
   "metadata": {},
   "outputs": [
    {
     "data": {
      "text/html": [
       "<div>\n",
       "<style scoped>\n",
       "    .dataframe tbody tr th:only-of-type {\n",
       "        vertical-align: middle;\n",
       "    }\n",
       "\n",
       "    .dataframe tbody tr th {\n",
       "        vertical-align: top;\n",
       "    }\n",
       "\n",
       "    .dataframe thead th {\n",
       "        text-align: right;\n",
       "    }\n",
       "</style>\n",
       "<table border=\"1\" class=\"dataframe\">\n",
       "  <thead>\n",
       "    <tr style=\"text-align: right;\">\n",
       "      <th></th>\n",
       "      <th>count</th>\n",
       "      <th>mean</th>\n",
       "      <th>std</th>\n",
       "      <th>min</th>\n",
       "      <th>25%</th>\n",
       "      <th>50%</th>\n",
       "      <th>75%</th>\n",
       "      <th>max</th>\n",
       "    </tr>\n",
       "  </thead>\n",
       "  <tbody>\n",
       "    <tr>\n",
       "      <th>sur_refl_b01_1</th>\n",
       "      <td>800.0</td>\n",
       "      <td>1257.017456</td>\n",
       "      <td>1343.986084</td>\n",
       "      <td>15.000000</td>\n",
       "      <td>246.000000</td>\n",
       "      <td>924.500000</td>\n",
       "      <td>1927.000000</td>\n",
       "      <td>9222.000000</td>\n",
       "    </tr>\n",
       "    <tr>\n",
       "      <th>sur_refl_b02_1</th>\n",
       "      <td>800.0</td>\n",
       "      <td>1640.077515</td>\n",
       "      <td>1600.745728</td>\n",
       "      <td>1.000000</td>\n",
       "      <td>179.500000</td>\n",
       "      <td>1488.000000</td>\n",
       "      <td>2720.500000</td>\n",
       "      <td>8837.000000</td>\n",
       "    </tr>\n",
       "    <tr>\n",
       "      <th>sur_refl_b03_1</th>\n",
       "      <td>800.0</td>\n",
       "      <td>768.756226</td>\n",
       "      <td>1065.279541</td>\n",
       "      <td>-100.000000</td>\n",
       "      <td>291.500000</td>\n",
       "      <td>562.000000</td>\n",
       "      <td>861.250000</td>\n",
       "      <td>8909.000000</td>\n",
       "    </tr>\n",
       "    <tr>\n",
       "      <th>sur_refl_b04_1</th>\n",
       "      <td>800.0</td>\n",
       "      <td>1057.439941</td>\n",
       "      <td>1120.644287</td>\n",
       "      <td>14.000000</td>\n",
       "      <td>416.500000</td>\n",
       "      <td>824.000000</td>\n",
       "      <td>1348.500000</td>\n",
       "      <td>9162.000000</td>\n",
       "    </tr>\n",
       "    <tr>\n",
       "      <th>sur_refl_b05_1</th>\n",
       "      <td>800.0</td>\n",
       "      <td>1993.836304</td>\n",
       "      <td>1474.103882</td>\n",
       "      <td>-92.000000</td>\n",
       "      <td>555.500000</td>\n",
       "      <td>1874.000000</td>\n",
       "      <td>3250.500000</td>\n",
       "      <td>5706.000000</td>\n",
       "    </tr>\n",
       "    <tr>\n",
       "      <th>sur_refl_b06_1</th>\n",
       "      <td>800.0</td>\n",
       "      <td>1938.288696</td>\n",
       "      <td>1542.548096</td>\n",
       "      <td>51.000000</td>\n",
       "      <td>522.000000</td>\n",
       "      <td>1473.500000</td>\n",
       "      <td>3254.250000</td>\n",
       "      <td>5812.000000</td>\n",
       "    </tr>\n",
       "    <tr>\n",
       "      <th>sur_refl_b07_1</th>\n",
       "      <td>800.0</td>\n",
       "      <td>1585.051270</td>\n",
       "      <td>1394.620239</td>\n",
       "      <td>0.000000</td>\n",
       "      <td>322.250000</td>\n",
       "      <td>1172.500000</td>\n",
       "      <td>2728.500000</td>\n",
       "      <td>5132.000000</td>\n",
       "    </tr>\n",
       "    <tr>\n",
       "      <th>ndvi</th>\n",
       "      <td>800.0</td>\n",
       "      <td>103.408966</td>\n",
       "      <td>2604.520508</td>\n",
       "      <td>-9493.670898</td>\n",
       "      <td>-1442.421295</td>\n",
       "      <td>778.583252</td>\n",
       "      <td>1771.562195</td>\n",
       "      <td>8587.457031</td>\n",
       "    </tr>\n",
       "    <tr>\n",
       "      <th>ndwi1</th>\n",
       "      <td>800.0</td>\n",
       "      <td>-2218.255371</td>\n",
       "      <td>3488.194336</td>\n",
       "      <td>-9862.069336</td>\n",
       "      <td>-4529.400879</td>\n",
       "      <td>-1556.404297</td>\n",
       "      <td>-710.971405</td>\n",
       "      <td>8823.803711</td>\n",
       "    </tr>\n",
       "    <tr>\n",
       "      <th>ndwi2</th>\n",
       "      <td>800.0</td>\n",
       "      <td>-766.403076</td>\n",
       "      <td>3889.526367</td>\n",
       "      <td>-9692.307617</td>\n",
       "      <td>-2509.427124</td>\n",
       "      <td>-623.491943</td>\n",
       "      <td>893.924866</td>\n",
       "      <td>10000.000000</td>\n",
       "    </tr>\n",
       "  </tbody>\n",
       "</table>\n",
       "</div>"
      ],
      "text/plain": [
       "                count         mean          std          min          25%  \\\n",
       "sur_refl_b01_1  800.0  1257.017456  1343.986084    15.000000   246.000000   \n",
       "sur_refl_b02_1  800.0  1640.077515  1600.745728     1.000000   179.500000   \n",
       "sur_refl_b03_1  800.0   768.756226  1065.279541  -100.000000   291.500000   \n",
       "sur_refl_b04_1  800.0  1057.439941  1120.644287    14.000000   416.500000   \n",
       "sur_refl_b05_1  800.0  1993.836304  1474.103882   -92.000000   555.500000   \n",
       "sur_refl_b06_1  800.0  1938.288696  1542.548096    51.000000   522.000000   \n",
       "sur_refl_b07_1  800.0  1585.051270  1394.620239     0.000000   322.250000   \n",
       "ndvi            800.0   103.408966  2604.520508 -9493.670898 -1442.421295   \n",
       "ndwi1           800.0 -2218.255371  3488.194336 -9862.069336 -4529.400879   \n",
       "ndwi2           800.0  -766.403076  3889.526367 -9692.307617 -2509.427124   \n",
       "\n",
       "                        50%          75%           max  \n",
       "sur_refl_b01_1   924.500000  1927.000000   9222.000000  \n",
       "sur_refl_b02_1  1488.000000  2720.500000   8837.000000  \n",
       "sur_refl_b03_1   562.000000   861.250000   8909.000000  \n",
       "sur_refl_b04_1   824.000000  1348.500000   9162.000000  \n",
       "sur_refl_b05_1  1874.000000  3250.500000   5706.000000  \n",
       "sur_refl_b06_1  1473.500000  3254.250000   5812.000000  \n",
       "sur_refl_b07_1  1172.500000  2728.500000   5132.000000  \n",
       "ndvi             778.583252  1771.562195   8587.457031  \n",
       "ndwi1          -1556.404297  -710.971405   8823.803711  \n",
       "ndwi2           -623.491943   893.924866  10000.000000  "
      ]
     },
     "execution_count": 20,
     "metadata": {},
     "output_type": "execute_result"
    }
   ],
   "source": [
    "X_train.describe().T"
   ]
  },
  {
   "cell_type": "code",
   "execution_count": 21,
   "metadata": {},
   "outputs": [
    {
     "name": "stdout",
     "output_type": "stream",
     "text": [
      "Using these params:\n",
      "{'criterion': 'entropy',\n",
      " 'max_depth': 32,\n",
      " 'max_features': 'sqrt',\n",
      " 'min_samples_split': 0.6300688812438315,\n",
      " 'n_estimators': 200,\n",
      " 'n_jobs': -1}\n"
     ]
    }
   ],
   "source": [
    "hyperparameters = best_trial_params\n",
    "\n",
    "base_params = {\"n_jobs\": -1}\n",
    "\n",
    "hyperparameters.update(base_params)\n",
    "print('Using these params:')\n",
    "pprint(hyperparameters)\n",
    "classifier = RandomForestClassifier(**hyperparameters)"
   ]
  },
  {
   "cell_type": "code",
   "execution_count": 22,
   "metadata": {},
   "outputs": [
    {
     "name": "stdout",
     "output_type": "stream",
     "text": [
      "CPU times: user 386 ms, sys: 89.1 ms, total: 475 ms\n",
      "Wall time: 235 ms\n"
     ]
    },
    {
     "data": {
      "text/html": [
       "<style>#sk-container-id-1 {color: black;background-color: white;}#sk-container-id-1 pre{padding: 0;}#sk-container-id-1 div.sk-toggleable {background-color: white;}#sk-container-id-1 label.sk-toggleable__label {cursor: pointer;display: block;width: 100%;margin-bottom: 0;padding: 0.3em;box-sizing: border-box;text-align: center;}#sk-container-id-1 label.sk-toggleable__label-arrow:before {content: \"▸\";float: left;margin-right: 0.25em;color: #696969;}#sk-container-id-1 label.sk-toggleable__label-arrow:hover:before {color: black;}#sk-container-id-1 div.sk-estimator:hover label.sk-toggleable__label-arrow:before {color: black;}#sk-container-id-1 div.sk-toggleable__content {max-height: 0;max-width: 0;overflow: hidden;text-align: left;background-color: #f0f8ff;}#sk-container-id-1 div.sk-toggleable__content pre {margin: 0.2em;color: black;border-radius: 0.25em;background-color: #f0f8ff;}#sk-container-id-1 input.sk-toggleable__control:checked~div.sk-toggleable__content {max-height: 200px;max-width: 100%;overflow: auto;}#sk-container-id-1 input.sk-toggleable__control:checked~label.sk-toggleable__label-arrow:before {content: \"▾\";}#sk-container-id-1 div.sk-estimator input.sk-toggleable__control:checked~label.sk-toggleable__label {background-color: #d4ebff;}#sk-container-id-1 div.sk-label input.sk-toggleable__control:checked~label.sk-toggleable__label {background-color: #d4ebff;}#sk-container-id-1 input.sk-hidden--visually {border: 0;clip: rect(1px 1px 1px 1px);clip: rect(1px, 1px, 1px, 1px);height: 1px;margin: -1px;overflow: hidden;padding: 0;position: absolute;width: 1px;}#sk-container-id-1 div.sk-estimator {font-family: monospace;background-color: #f0f8ff;border: 1px dotted black;border-radius: 0.25em;box-sizing: border-box;margin-bottom: 0.5em;}#sk-container-id-1 div.sk-estimator:hover {background-color: #d4ebff;}#sk-container-id-1 div.sk-parallel-item::after {content: \"\";width: 100%;border-bottom: 1px solid gray;flex-grow: 1;}#sk-container-id-1 div.sk-label:hover label.sk-toggleable__label {background-color: #d4ebff;}#sk-container-id-1 div.sk-serial::before {content: \"\";position: absolute;border-left: 1px solid gray;box-sizing: border-box;top: 0;bottom: 0;left: 50%;z-index: 0;}#sk-container-id-1 div.sk-serial {display: flex;flex-direction: column;align-items: center;background-color: white;padding-right: 0.2em;padding-left: 0.2em;position: relative;}#sk-container-id-1 div.sk-item {position: relative;z-index: 1;}#sk-container-id-1 div.sk-parallel {display: flex;align-items: stretch;justify-content: center;background-color: white;position: relative;}#sk-container-id-1 div.sk-item::before, #sk-container-id-1 div.sk-parallel-item::before {content: \"\";position: absolute;border-left: 1px solid gray;box-sizing: border-box;top: 0;bottom: 0;left: 50%;z-index: -1;}#sk-container-id-1 div.sk-parallel-item {display: flex;flex-direction: column;z-index: 1;position: relative;background-color: white;}#sk-container-id-1 div.sk-parallel-item:first-child::after {align-self: flex-end;width: 50%;}#sk-container-id-1 div.sk-parallel-item:last-child::after {align-self: flex-start;width: 50%;}#sk-container-id-1 div.sk-parallel-item:only-child::after {width: 0;}#sk-container-id-1 div.sk-dashed-wrapped {border: 1px dashed gray;margin: 0 0.4em 0.5em 0.4em;box-sizing: border-box;padding-bottom: 0.4em;background-color: white;}#sk-container-id-1 div.sk-label label {font-family: monospace;font-weight: bold;display: inline-block;line-height: 1.2em;}#sk-container-id-1 div.sk-label-container {text-align: center;}#sk-container-id-1 div.sk-container {/* jupyter's `normalize.less` sets `[hidden] { display: none; }` but bootstrap.min.css set `[hidden] { display: none !important; }` so we also need the `!important` here to be able to override the default hidden behavior on the sphinx rendered scikit-learn.org. See: https://github.com/scikit-learn/scikit-learn/issues/21755 */display: inline-block !important;position: relative;}#sk-container-id-1 div.sk-text-repr-fallback {display: none;}</style><div id=\"sk-container-id-1\" class=\"sk-top-container\"><div class=\"sk-text-repr-fallback\"><pre>RandomForestClassifier(criterion=&#x27;entropy&#x27;, max_depth=32,\n",
       "                       min_samples_split=0.6300688812438315, n_estimators=200,\n",
       "                       n_jobs=-1)</pre><b>In a Jupyter environment, please rerun this cell to show the HTML representation or trust the notebook. <br />On GitHub, the HTML representation is unable to render, please try loading this page with nbviewer.org.</b></div><div class=\"sk-container\" hidden><div class=\"sk-item\"><div class=\"sk-estimator sk-toggleable\"><input class=\"sk-toggleable__control sk-hidden--visually\" id=\"sk-estimator-id-1\" type=\"checkbox\" checked><label for=\"sk-estimator-id-1\" class=\"sk-toggleable__label sk-toggleable__label-arrow\">RandomForestClassifier</label><div class=\"sk-toggleable__content\"><pre>RandomForestClassifier(criterion=&#x27;entropy&#x27;, max_depth=32,\n",
       "                       min_samples_split=0.6300688812438315, n_estimators=200,\n",
       "                       n_jobs=-1)</pre></div></div></div></div></div>"
      ],
      "text/plain": [
       "RandomForestClassifier(criterion='entropy', max_depth=32,\n",
       "                       min_samples_split=0.6300688812438315, n_estimators=200,\n",
       "                       n_jobs=-1)"
      ]
     },
     "execution_count": 22,
     "metadata": {},
     "output_type": "execute_result"
    }
   ],
   "source": [
    "%%time\n",
    "\n",
    "classifier.fit(X_train, y_train)"
   ]
  },
  {
   "cell_type": "markdown",
   "metadata": {},
   "source": [
    "### Get model metrics"
   ]
  },
  {
   "cell_type": "code",
   "execution_count": 23,
   "metadata": {},
   "outputs": [
    {
     "data": {
      "text/plain": [
       "0.97"
      ]
     },
     "execution_count": 23,
     "metadata": {},
     "output_type": "execute_result"
    }
   ],
   "source": [
    "score = classifier.score(X_test, y_test)\n",
    "score = round(score, 3)\n",
    "score"
   ]
  },
  {
   "cell_type": "code",
   "execution_count": 24,
   "metadata": {},
   "outputs": [],
   "source": [
    "train_predictions = classifier.predict(X_train)\n",
    "test_predictions = classifier.predict(X_test)\n",
    "prediction_probs = classifier.predict_proba(X_test)"
   ]
  },
  {
   "cell_type": "code",
   "execution_count": 25,
   "metadata": {},
   "outputs": [],
   "source": [
    "test_predictions = test_predictions.astype(np.int16)\n",
    "y_test_int = y_test.astype(np.int16)"
   ]
  },
  {
   "cell_type": "code",
   "execution_count": 26,
   "metadata": {},
   "outputs": [
    {
     "name": "stdout",
     "output_type": "stream",
     "text": [
      "Train Performance\n",
      "-------------------------------------------------------\n",
      "              precision    recall  f1-score   support\n",
      "\n",
      "         0.0       0.97      0.99      0.98       404\n",
      "         1.0       0.99      0.96      0.98       396\n",
      "\n",
      "    accuracy                           0.98       800\n",
      "   macro avg       0.98      0.98      0.98       800\n",
      "weighted avg       0.98      0.98      0.98       800\n",
      "\n",
      "Test Performance\n",
      "-------------------------------------------------------\n",
      "              precision    recall  f1-score   support\n",
      "\n",
      "         0.0       0.97      0.97      0.97        96\n",
      "         1.0       0.97      0.97      0.97       104\n",
      "\n",
      "    accuracy                           0.97       200\n",
      "   macro avg       0.97      0.97      0.97       200\n",
      "weighted avg       0.97      0.97      0.97       200\n",
      "\n",
      "Test Recall\n",
      "-------------------------------------------------------\n",
      "0.96875\n",
      "Confusion Matrix\n",
      "-------------------------------------------------------\n",
      "[[ 93   3]\n",
      " [  3 101]]\n"
     ]
    }
   ],
   "source": [
    "print('Train Performance')\n",
    "print('-------------------------------------------------------')\n",
    "print(classification_report(y_train, train_predictions))\n",
    "print('Test Performance')\n",
    "print('-------------------------------------------------------')\n",
    "print(classification_report(y_test, test_predictions))\n",
    "cm = confusion_matrix(y_test_int, test_predictions)\n",
    "recall = (cm[0][0] / (cm[0][0] + cm[0][1]))\n",
    "print('Test Recall')\n",
    "print('-------------------------------------------------------')\n",
    "print(recall)\n",
    "print('Confusion Matrix')\n",
    "print('-------------------------------------------------------')\n",
    "print(cm)"
   ]
  },
  {
   "cell_type": "code",
   "execution_count": 27,
   "metadata": {},
   "outputs": [
    {
     "name": "stdout",
     "output_type": "stream",
     "text": [
      "CPU times: user 2.41 s, sys: 634 ms, total: 3.05 s\n",
      "Wall time: 2.56 s\n"
     ]
    }
   ],
   "source": [
    "%%time\n",
    "permutation_importance_results = permutation_importance(classifier,\n",
    "                                                        X=X_test,\n",
    "                                                        y=y_test,\n",
    "                                                        n_repeats=10,\n",
    "                                                        random_state=42)"
   ]
  },
  {
   "cell_type": "code",
   "execution_count": 28,
   "metadata": {},
   "outputs": [
    {
     "data": {
      "text/plain": [
       "Text(0.5, 0, 'Permutation Importance')"
      ]
     },
     "execution_count": 28,
     "metadata": {},
     "output_type": "execute_result"
    },
    {
     "data": {
      "image/png": "[encoded data removed]",
      "text/plain": [
       "<Figure size 800x800 with 1 Axes>"
      ]
     },
     "metadata": {},
     "output_type": "display_data"
    }
   ],
   "source": [
    "sorted_idx = permutation_importance_results.importances_mean.argsort()\n",
    "plt.figure(figsize=(8, 8))\n",
    "plt.barh(X_test.columns[sorted_idx], permutation_importance_results.importances_mean[sorted_idx])\n",
    "plt.xlabel(\"Permutation Importance\")"
   ]
  },
  {
   "cell_type": "code",
   "execution_count": 29,
   "metadata": {},
   "outputs": [],
   "source": [
    "del X_train, X_test, y_train, y_test, test_predictions, train_predictions, prediction_probs, y_test_int"
   ]
  },
  {
   "cell_type": "markdown",
   "metadata": {},
   "source": [
    "## Save the model for future use"
   ]
  },
  {
   "cell_type": "code",
   "execution_count": 30,
   "metadata": {},
   "outputs": [
    {
     "name": "stdout",
     "output_type": "stream",
     "text": [
      "Saving model to: ./water_classifier_rf_cpu.sav\n",
      "RandomForestClassifier(criterion='entropy', max_depth=32,\n",
      "                       min_samples_split=0.6300688812438315, n_estimators=200,\n",
      "                       n_jobs=-1)\n"
     ]
    },
    {
     "data": {
      "text/plain": [
       "['./water_classifier_rf_cpu.sav']"
      ]
     },
     "execution_count": 30,
     "metadata": {},
     "output_type": "execute_result"
    }
   ],
   "source": [
    "model_save_path = './water_classifier_rf_cpu.sav'\n",
    "print('Saving model to: {}'.format(model_save_path))\n",
    "print(classifier)\n",
    "joblib.dump(classifier, model_save_path, compress=3)"
   ]
  },
  {
   "cell_type": "markdown",
   "metadata": {},
   "source": [
    "# Testing: Raster testing"
   ]
  },
  {
   "cell_type": "markdown",
   "metadata": {},
   "source": [
    "### Read in data \n",
    "\n",
    "These are modified MOD09GA and MOD09GQ products for the 2001 julian day 155. They were modified to be clipped to the Lake Powell region."
   ]
  },
  {
   "cell_type": "code",
   "execution_count": 31,
   "metadata": {},
   "outputs": [],
   "source": [
    "fileList = sorted([file for file in glob.glob('../data/IL.*.Powell.*.tif') if 'sur_refl' in file])"
   ]
  },
  {
   "cell_type": "code",
   "execution_count": 32,
   "metadata": {},
   "outputs": [],
   "source": [
    "def readRastersToArray(fileList):\n",
    "    rasterProjection = None\n",
    "    newshp = (1300*1300, 10)\n",
    "    img = np.empty(newshp, dtype=np.int16)\n",
    "    for i, fileName in enumerate(fileList):\n",
    "        ds = gdal.Open(fileName)\n",
    "        img[:, i] = ds.GetRasterBand(1).ReadAsArray().astype(np.int16).ravel()\n",
    "        if i == 0:\n",
    "            rasterProjection = ds.GetProjection()\n",
    "        ds = None\n",
    "    img[:, len(fileList)] = ((img[:, 1] - img[:, 0]) / (img[:, 1] + img[:, 0])) * 10000\n",
    "    img[:, len(fileList)+1] = ((img[:, 1] - img[:, 5]) / (img[:, 1] + img[:, 5])) * 10000\n",
    "    img[:, len(fileList)+2] = ((img[:, 1] - img[:, 6]) / (img[:, 1] + img[:, 6])) * 10000\n",
    "    return img, rasterProjection"
   ]
  },
  {
   "cell_type": "code",
   "execution_count": 33,
   "metadata": {},
   "outputs": [
    {
     "name": "stdout",
     "output_type": "stream",
     "text": [
      "Raster as ndarray\n",
      "[[ 1547  2461   857 ...  2280  -518   510]\n",
      " [ 1474  2377   857 ...  2344  -691   337]\n",
      " [ 1474  2377   846 ...  2344  -472   623]\n",
      " ...\n",
      " [ 2358  2979  1028 ...  1163 -1727 -1292]\n",
      " [ 2425  3069  1117 ...  1172 -1721 -1216]\n",
      " [ 2402  3038  1117 ...  1169 -1770 -1266]]\n",
      "33.8 MB size\n",
      "CPU times: user 205 ms, sys: 37.1 ms, total: 242 ms\n",
      "Wall time: 362 ms\n"
     ]
    }
   ],
   "source": [
    "%%time\n",
    "im, rasterProjection = readRastersToArray(fileList)\n",
    "print('Raster as ndarray')\n",
    "print(im)\n",
    "print('{} MB size'.format((im.size * im.itemsize) / 1000000))"
   ]
  },
  {
   "cell_type": "markdown",
   "metadata": {},
   "source": [
    "### Load in the model"
   ]
  },
  {
   "cell_type": "code",
   "execution_count": 34,
   "metadata": {},
   "outputs": [],
   "source": [
    "def predictRaster(img_chunk, colsToDrop=None):\n",
    "    \"\"\"\n",
    "    Function given a raster in the form of a nxn matrix, will\n",
    "    convert the matrix to a GPU-bound data frame then perform \n",
    "    predictions given the loaded model.\n",
    "    \n",
    "    Return the prediction matrix, the prediction probabilities\n",
    "    for each and the dataframe converted to host.\n",
    "    \"\"\"\n",
    "    print('Converting host array to CPU-based dataframe')\n",
    "    df = pd.DataFrame(img_chunk, columns=v_names, dtype=np.float32)\n",
    "    df = df.drop(columns=columnsToDrop)\n",
    "    print('Making predictions from raster')\n",
    "    predictions = classifier.predict(df)\n",
    "    predictionsProbs = classifier.predict_proba(df)\n",
    "    return predictions, predictionsProbs, df"
   ]
  },
  {
   "cell_type": "code",
   "execution_count": 35,
   "metadata": {},
   "outputs": [
    {
     "name": "stdout",
     "output_type": "stream",
     "text": [
      "Converting host array to CPU-based dataframe\n",
      "Making predictions from raster\n",
      "CPU times: user 47.7 s, sys: 3.97 s, total: 51.7 s\n",
      "Wall time: 6.55 s\n"
     ]
    }
   ],
   "source": [
    "%%time\n",
    "predictedRaster, predictedProbaRaster, df = predictRaster(im)"
   ]
  },
  {
   "cell_type": "markdown",
   "metadata": {},
   "source": [
    "### Description of the predicted probability for each pixel in the raster (no bad-data vals masked yet)"
   ]
  },
  {
   "cell_type": "code",
   "execution_count": 36,
   "metadata": {},
   "outputs": [],
   "source": [
    "shp = (1300, 1300)\n",
    "left = list()\n",
    "right = list()\n",
    "for i, subarr in enumerate(predictedProbaRaster):\n",
    "    left.append(subarr[0])\n",
    "    right.append(subarr[1])\n",
    "leftArr = np.asarray(left)\n",
    "rightArr = np.asarray(right)\n",
    "probaLand = leftArr.reshape(shp)\n",
    "probaWater = rightArr.reshape(shp)"
   ]
  },
  {
   "cell_type": "markdown",
   "metadata": {},
   "source": [
    "#### Reshape the unravelled matrix back to the 4800x4800 raster shape"
   ]
  },
  {
   "cell_type": "code",
   "execution_count": 37,
   "metadata": {},
   "outputs": [
    {
     "data": {
      "text/plain": [
       "(1300, 1300)"
      ]
     },
     "execution_count": 37,
     "metadata": {},
     "output_type": "execute_result"
    }
   ],
   "source": [
    "shp = (1300, 1300)\n",
    "matrix = np.asarray(predictedRaster)\n",
    "reshp = matrix.reshape(shp)\n",
    "reshp.shape"
   ]
  },
  {
   "cell_type": "markdown",
   "metadata": {},
   "source": [
    "Add QA mask to prediction"
   ]
  },
  {
   "cell_type": "code",
   "execution_count": 38,
   "metadata": {},
   "outputs": [
    {
     "data": {
      "text/plain": [
       "array([[1, 1, 1, ..., 1, 1, 1],\n",
       "       [1, 1, 1, ..., 1, 1, 1],\n",
       "       [1, 1, 1, ..., 1, 1, 1],\n",
       "       ...,\n",
       "       [0, 0, 0, ..., 0, 0, 0],\n",
       "       [0, 0, 0, ..., 0, 0, 0],\n",
       "       [0, 0, 0, ..., 0, 0, 0]], dtype=int16)"
      ]
     },
     "execution_count": 38,
     "metadata": {},
     "output_type": "execute_result"
    }
   ],
   "source": [
    "qa = [file for file in glob.glob('../data/*.tif') if 'qa' in file][0]\n",
    "ds = gdal.Open(qa)\n",
    "qaMask = ds.GetRasterBand(1).ReadAsArray()\n",
    "output = np.where(qaMask == 0, reshp, -9999)\n",
    "qaMask"
   ]
  },
  {
   "cell_type": "code",
   "execution_count": 39,
   "metadata": {},
   "outputs": [
    {
     "name": "stdout",
     "output_type": "stream",
     "text": [
      "Predicted\n",
      " No-data occuraces: 61568\n",
      " Land occurances: 1619738\n",
      " Water occurances: 8694\n"
     ]
    }
   ],
   "source": [
    "countNoData = np.count_nonzero(output == -9999)\n",
    "countLand = np.count_nonzero(output == 0)\n",
    "countWater = np.count_nonzero(output == 1)\n",
    "print('Predicted\\n No-data occuraces: {}\\n Land occurances: {}\\n Water occurances: {}'.format(countNoData, countLand, countWater))"
   ]
  },
  {
   "cell_type": "markdown",
   "metadata": {},
   "source": [
    "## Output predicted raster to GeoTiff"
   ]
  },
  {
   "cell_type": "code",
   "execution_count": 40,
   "metadata": {},
   "outputs": [],
   "source": [
    "geoTransform = (-9961223.407, 231.65635, 0.0, 4285642.633667, 0.0, -231.65635)"
   ]
  },
  {
   "cell_type": "code",
   "execution_count": 41,
   "metadata": {},
   "outputs": [],
   "source": [
    "predictedPath = os.path.join(outputRasterPath, 'PowellPredictedWaterMask.tif')\n",
    "\n",
    "driver = gdal.GetDriverByName('GTiff')\n",
    "outDs = driver.Create(predictedPath, 1300, 1300, 1, gdal.GDT_Int16, options=['COMPRESS=LZW'])\n",
    "outDs.SetGeoTransform(geoTransform)\n",
    "outDs.SetProjection(rasterProjection)\n",
    "outBand = outDs.GetRasterBand(1)\n",
    "outBand.WriteArray(output)\n",
    "outBand.SetNoDataValue(-9999)\n",
    "outDs.FlushCache()\n",
    "outDs = None\n",
    "outBand = None\n",
    "driver = None"
   ]
  },
  {
   "cell_type": "markdown",
   "metadata": {},
   "source": [
    "## View predictions with Folium"
   ]
  },
  {
   "cell_type": "code",
   "execution_count": 43,
   "metadata": {},
   "outputs": [],
   "source": [
    "import folium\n",
    "from folium import plugins\n",
    "\n",
    "sys.path.append('../scripts')\n",
    "import folium_helper"
   ]
  },
  {
   "cell_type": "code",
   "execution_count": 44,
   "metadata": {},
   "outputs": [
    {
     "name": "stdout",
     "output_type": "stream",
     "text": [
      "Transform: | 491.82, 0.00,-12749861.52|\n",
      "| 0.00,-491.82, 4656230.30|\n",
      "| 0.00, 0.00, 1.00|\n",
      "Width: 1670 Height: 770\n"
     ]
    }
   ],
   "source": [
    "mask_3857 = folium_helper.reproject_to_3857(predictedPath)\n",
    "mask_d = folium_helper.get_bounds(mask_3857)\n",
    "mask_b1 = folium_helper.open_and_get_band(mask_3857, 1)\n",
    "folium_helper.cleanup(mask_3857)\n",
    "mask_b1 = np.where(mask_b1 == -9999, 0, mask_b1)\n",
    "zeros = np.zeros_like(mask_b1)\n",
    "mask_rgb = np.dstack((mask_b1, zeros, zeros))"
   ]
  },
  {
   "cell_type": "code",
   "execution_count": 45,
   "metadata": {},
   "outputs": [],
   "source": [
    "m = folium.Map(location=[mask_d['center'][1], mask_d['center'][0]],\n",
    "                   tiles='https://mt1.google.com/vt/lyrs=s&x={x}&y={y}&z={z}', zoom_start = 6, attr='Google')"
   ]
  },
  {
   "cell_type": "code",
   "execution_count": 46,
   "metadata": {},
   "outputs": [
    {
     "data": {
      "text/html": [
       "<div style=\"width:100%;\"><div style=\"position:relative;width:100%;height:0;padding-bottom:60%;\"><span style=\"color:#565656\">Make this Notebook Trusted to load map: File -> Trust Notebook</span><iframe srcdoc=\"&lt;!DOCTYPE html&gt;\n",
       "&lt;head&gt;    \n",
       "    &lt;meta http-equiv=&quot;content-type&quot; content=&quot;text/html; charset=UTF-8&quot; /&gt;\n",
       "    \n",
       "        &lt;script&gt;\n",
       "            L_NO_TOUCH = false;\n",
       "            L_DISABLE_3D = false;\n",
       "        &lt;/script&gt;\n",
       "    \n",
       "    &lt;style&gt;html, body {width: 100%;height: 100%;margin: 0;padding: 0;}&lt;/style&gt;\n",
       "    &lt;style&gt;#map {position:absolute;top:0;bottom:0;right:0;left:0;}&lt;/style&gt;\n",
       "    &lt;script src=&quot;https://cdn.jsdelivr.net/npm/leaflet@1.6.0/dist/leaflet.js&quot;&gt;&lt;/script&gt;\n",
       "    &lt;script src=&quot;https://code.jquery.com/jquery-1.12.4.min.js&quot;&gt;&lt;/script&gt;\n",
       "    &lt;script src=&quot;https://maxcdn.bootstrapcdn.com/bootstrap/3.2.0/js/bootstrap.min.js&quot;&gt;&lt;/script&gt;\n",
       "    &lt;script src=&quot;https://cdnjs.cloudflare.com/ajax/libs/Leaflet.awesome-markers/2.0.2/leaflet.awesome-markers.js&quot;&gt;&lt;/script&gt;\n",
       "    &lt;link rel=&quot;stylesheet&quot; href=&quot;https://cdn.jsdelivr.net/npm/leaflet@1.6.0/dist/leaflet.css&quot;/&gt;\n",
       "    &lt;link rel=&quot;stylesheet&quot; href=&quot;https://maxcdn.bootstrapcdn.com/bootstrap/3.2.0/css/bootstrap.min.css&quot;/&gt;\n",
       "    &lt;link rel=&quot;stylesheet&quot; href=&quot;https://maxcdn.bootstrapcdn.com/bootstrap/3.2.0/css/bootstrap-theme.min.css&quot;/&gt;\n",
       "    &lt;link rel=&quot;stylesheet&quot; href=&quot;https://maxcdn.bootstrapcdn.com/font-awesome/4.6.3/css/font-awesome.min.css&quot;/&gt;\n",
       "    &lt;link rel=&quot;stylesheet&quot; href=&quot;https://cdnjs.cloudflare.com/ajax/libs/Leaflet.awesome-markers/2.0.2/leaflet.awesome-markers.css&quot;/&gt;\n",
       "    &lt;link rel=&quot;stylesheet&quot; href=&quot;https://cdn.jsdelivr.net/gh/python-visualization/folium/folium/templates/leaflet.awesome.rotate.min.css&quot;/&gt;\n",
       "    \n",
       "            &lt;meta name=&quot;viewport&quot; content=&quot;width=device-width,\n",
       "                initial-scale=1.0, maximum-scale=1.0, user-scalable=no&quot; /&gt;\n",
       "            &lt;style&gt;\n",
       "                #map_130270a8f794230add52d1c1c36f690b {\n",
       "                    position: relative;\n",
       "                    width: 100.0%;\n",
       "                    height: 100.0%;\n",
       "                    left: 0.0%;\n",
       "                    top: 0.0%;\n",
       "                }\n",
       "            &lt;/style&gt;\n",
       "        \n",
       "    \n",
       "                &lt;style&gt;\n",
       "                    .leaflet-image-layer {\n",
       "                        /* old android/safari*/\n",
       "                        image-rendering: -webkit-optimize-contrast;\n",
       "                        image-rendering: crisp-edges; /* safari */\n",
       "                        image-rendering: pixelated; /* chrome */\n",
       "                        image-rendering: -moz-crisp-edges; /* firefox */\n",
       "                        image-rendering: -o-crisp-edges; /* opera */\n",
       "                        -ms-interpolation-mode: nearest-neighbor; /* ie */\n",
       "                    }\n",
       "                &lt;/style&gt;\n",
       "            \n",
       "    &lt;script src=&quot;https://cdn.jsdelivr.net/gh/ardhi/Leaflet.MousePosition/src/L.Control.MousePosition.min.js&quot;&gt;&lt;/script&gt;\n",
       "    &lt;link rel=&quot;stylesheet&quot; href=&quot;https://cdn.jsdelivr.net/gh/ardhi/Leaflet.MousePosition/src/L.Control.MousePosition.min.css&quot;/&gt;\n",
       "&lt;/head&gt;\n",
       "&lt;body&gt;    \n",
       "    \n",
       "            &lt;div class=&quot;folium-map&quot; id=&quot;map_130270a8f794230add52d1c1c36f690b&quot; &gt;&lt;/div&gt;\n",
       "        \n",
       "&lt;/body&gt;\n",
       "&lt;script&gt;    \n",
       "    \n",
       "            var map_130270a8f794230add52d1c1c36f690b = L.map(\n",
       "                &quot;map_130270a8f794230add52d1c1c36f690b&quot;,\n",
       "                {\n",
       "                    center: [37.1868364898923, -110.84485924937243],\n",
       "                    crs: L.CRS.EPSG3857,\n",
       "                    zoom: 6,\n",
       "                    zoomControl: true,\n",
       "                    preferCanvas: false,\n",
       "                }\n",
       "            );\n",
       "\n",
       "            \n",
       "\n",
       "        \n",
       "    \n",
       "            var tile_layer_d6dbdc4d623857ce76ebdb240087d435 = L.tileLayer(\n",
       "                &quot;https://mt1.google.com/vt/lyrs=s\\u0026x={x}\\u0026y={y}\\u0026z={z}&quot;,\n",
       "                {&quot;attribution&quot;: &quot;Google&quot;, &quot;detectRetina&quot;: false, &quot;maxNativeZoom&quot;: 18, &quot;maxZoom&quot;: 18, &quot;minZoom&quot;: 0, &quot;noWrap&quot;: false, &quot;opacity&quot;: 1, &quot;subdomains&quot;: &quot;abc&quot;, &quot;tms&quot;: false}\n",
       "            ).addTo(map_130270a8f794230add52d1c1c36f690b);\n",
       "        \n",
       "    \n",
       "            var image_overlay_c6c7102ca3d978e8c5643e513dd0fdf6 = L.imageOverlay(\n",
       "                &quot;data:image/png;base64,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&quot;,\n",
       "                [[35.8320062645529, -114.53395477030668], [38.541666715231706, -107.15576372843819]],\n",
       "                {&quot;opacity&quot;: 0.6}\n",
       "            ).addTo(map_130270a8f794230add52d1c1c36f690b);\n",
       "        \n",
       "    \n",
       "            var mouse_position_b013c90707171048b3a18cf09538c0d2 = new L.Control.MousePosition(\n",
       "                {&quot;emptyString&quot;: &quot;Unavailable&quot;, &quot;lngFirst&quot;: false, &quot;numDigits&quot;: 5, &quot;position&quot;: &quot;bottomright&quot;, &quot;prefix&quot;: &quot;&quot;, &quot;separator&quot;: &quot; : &quot;}\n",
       "            );\n",
       "            mouse_position_b013c90707171048b3a18cf09538c0d2.options[&quot;latFormatter&quot;] =\n",
       "                undefined;\n",
       "            mouse_position_b013c90707171048b3a18cf09538c0d2.options[&quot;lngFormatter&quot;] =\n",
       "                undefined;\n",
       "            map_130270a8f794230add52d1c1c36f690b.addControl(mouse_position_b013c90707171048b3a18cf09538c0d2);\n",
       "        \n",
       "    \n",
       "            var layer_control_9f390ddedc60b06c01f34b569cd98d9b = {\n",
       "                base_layers : {\n",
       "                    &quot;https://mt1.google.com/vt/lyrs=s\\u0026x={x}\\u0026y={y}\\u0026z={z}&quot; : tile_layer_d6dbdc4d623857ce76ebdb240087d435,\n",
       "                },\n",
       "                overlays :  {\n",
       "                    &quot;Water classification XGBOOST predicted mask&quot; : image_overlay_c6c7102ca3d978e8c5643e513dd0fdf6,\n",
       "                },\n",
       "            };\n",
       "            L.control.layers(\n",
       "                layer_control_9f390ddedc60b06c01f34b569cd98d9b.base_layers,\n",
       "                layer_control_9f390ddedc60b06c01f34b569cd98d9b.overlays,\n",
       "                {&quot;autoZIndex&quot;: true, &quot;collapsed&quot;: true, &quot;position&quot;: &quot;topright&quot;}\n",
       "            ).addTo(map_130270a8f794230add52d1c1c36f690b);\n",
       "        \n",
       "&lt;/script&gt;\" style=\"position:absolute;width:100%;height:100%;left:0;top:0;border:none !important;\" allowfullscreen webkitallowfullscreen mozallowfullscreen></iframe></div></div>"
      ],
      "text/plain": [
       "<folium.folium.Map at 0x18baede40>"
      ]
     },
     "execution_count": 46,
     "metadata": {},
     "output_type": "execute_result"
    }
   ],
   "source": [
    "m.add_child(folium_helper.get_overlay(mask_rgb, mask_d, 'Water classification XGBOOST predicted mask', opacity=0.6))\n",
    "m.add_child(plugins.MousePosition())\n",
    "m.add_child(folium.LayerControl())"
   ]
  },
  {
   "cell_type": "code",
   "execution_count": null,
   "metadata": {},
   "outputs": [],
   "source": []
  }
 ],
 "metadata": {
  "kernelspec": {
   "display_name": "aicoe",
   "language": "python",
   "name": "aicoe"
  },
  "language_info": {
   "codemirror_mode": {
    "name": "ipython",
    "version": 3
   },
   "file_extension": ".py",
   "mimetype": "text/x-python",
   "name": "python",
   "nbconvert_exporter": "python",
   "pygments_lexer": "ipython3",
   "version": "3.10.5"
  }
 },
 "nbformat": 4,
 "nbformat_minor": 4
}
