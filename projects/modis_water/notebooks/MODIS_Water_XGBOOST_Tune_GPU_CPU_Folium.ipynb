{
 "cells": [
  {
   "cell_type": "markdown",
   "metadata": {},
   "source": [
    "# Water Clasification XGBoost Tuning CPU\n",
    "\n",
    "Version: DEMO\n",
    "\n",
    "ILAB Team\n",
    "\n",
    "Kernel to use:\n",
    "- (ADAPT PRISM) `Python [conda env:ilab]`\n",
    "\n",
    "This is a demo notebook showcasing how the ILAB team uses sklearn capabilities to perform efficient CPU-based training of a XGB classifier algorithm. This notebook also demonstates how to use a raster as a test data-set for the trained model."
   ]
  },
  {
   "cell_type": "code",
   "execution_count": 1,
   "metadata": {},
   "outputs": [],
   "source": [
    "import csv\n",
    "import datetime\n",
    "import glob\n",
    "import joblib\n",
    "import numpy as np\n",
    "import os\n",
    "import pandas as pd\n",
    "from pathlib import Path\n",
    "import sys\n",
    "from pprint import pprint\n",
    "import time\n",
    "\n",
    "import optuna\n",
    "\n",
    "import xgboost as xgb\n",
    "\n",
    "# Scikit learn\n",
    "from sklearn.metrics import confusion_matrix, accuracy_score, roc_auc_score\n",
    "from sklearn.metrics import classification_report, f1_score\n",
    "from sklearn.model_selection import train_test_split, RandomizedSearchCV, KFold\n",
    "from sklearn.inspection import permutation_importance\n",
    "\n",
    "# Visualization\n",
    "import seaborn as sns\n",
    "import matplotlib.pyplot as plt\n",
    "import warnings\n",
    "\n",
    "#GDAL Stuff\n",
    "from osgeo import gdalconst\n",
    "from osgeo import gdal\n",
    "\n",
    "plt.style.use('fivethirtyeight')\n",
    "warnings.filterwarnings('ignore')\n",
    "%matplotlib inline"
   ]
  },
  {
   "cell_type": "code",
   "execution_count": 2,
   "metadata": {},
   "outputs": [],
   "source": [
    "DATA_TYPE = np.float32"
   ]
  },
  {
   "cell_type": "code",
   "execution_count": 3,
   "metadata": {},
   "outputs": [],
   "source": [
    "v_names = ['sur_refl_b01_1','sur_refl_b02_1','sur_refl_b03_1',\n",
    "           'sur_refl_b04_1','sur_refl_b05_1','sur_refl_b06_1',\n",
    "           'sur_refl_b07_1','ndvi','ndwi1','ndwi2']"
   ]
  },
  {
   "cell_type": "markdown",
   "metadata": {},
   "source": [
    "Add names from above to this list to drop them from training and testing.\n",
    "\n",
    "For example:\n",
    "\n",
    "```python\n",
    "columnsToDrop = ['sur_refl_b01_1', 'sur_refl_b07_1', 'ndwi1']\n",
    "```"
   ]
  },
  {
   "cell_type": "code",
   "execution_count": 4,
   "metadata": {},
   "outputs": [],
   "source": [
    "columnsToDrop = []"
   ]
  },
  {
   "cell_type": "markdown",
   "metadata": {},
   "source": [
    "This is a 1000 row training dataset which has columns for all the features listed in v_names. MODIS MOD09GA and MOD09GQ were the data sources."
   ]
  },
  {
   "cell_type": "code",
   "execution_count": 5,
   "metadata": {},
   "outputs": [],
   "source": [
    "dfPath = '../data/WaterClassificationPowell.parquet.gzip'"
   ]
  },
  {
   "cell_type": "code",
   "execution_count": 6,
   "metadata": {},
   "outputs": [],
   "source": [
    "outputRasterPath = '.'"
   ]
  },
  {
   "cell_type": "code",
   "execution_count": 7,
   "metadata": {},
   "outputs": [
    {
     "name": "stdout",
     "output_type": "stream",
     "text": [
      "Requirement already satisfied: fastparquet in /Users/cssprad1/anaconda3/envs/aicoe_demo/lib/python3.10/site-packages (0.8.1)\n",
      "Requirement already satisfied: pandas>=1.1.0 in /Users/cssprad1/anaconda3/envs/aicoe_demo/lib/python3.10/site-packages (from fastparquet) (1.4.3)\n",
      "Requirement already satisfied: fsspec in /Users/cssprad1/anaconda3/envs/aicoe_demo/lib/python3.10/site-packages (from fastparquet) (2022.7.1)\n",
      "Requirement already satisfied: cramjam>=2.3.0 in /Users/cssprad1/anaconda3/envs/aicoe_demo/lib/python3.10/site-packages (from fastparquet) (2.5.0)\n",
      "Requirement already satisfied: numpy>=1.18 in /Users/cssprad1/anaconda3/envs/aicoe_demo/lib/python3.10/site-packages (from fastparquet) (1.23.2)\n",
      "Requirement already satisfied: python-dateutil>=2.8.1 in /Users/cssprad1/anaconda3/envs/aicoe_demo/lib/python3.10/site-packages (from pandas>=1.1.0->fastparquet) (2.8.2)\n",
      "Requirement already satisfied: pytz>=2020.1 in /Users/cssprad1/anaconda3/envs/aicoe_demo/lib/python3.10/site-packages (from pandas>=1.1.0->fastparquet) (2022.2.1)\n",
      "Requirement already satisfied: six>=1.5 in /Users/cssprad1/anaconda3/envs/aicoe_demo/lib/python3.10/site-packages (from python-dateutil>=2.8.1->pandas>=1.1.0->fastparquet) (1.16.0)\n"
     ]
    }
   ],
   "source": [
    "!pip install fastparquet"
   ]
  },
  {
   "cell_type": "code",
   "execution_count": 8,
   "metadata": {},
   "outputs": [],
   "source": [
    "df = pd.read_parquet(dfPath).astype(DATA_TYPE)\n",
    "df = df.drop(columns=columnsToDrop)\n",
    "X = df.drop(['water'], axis=1)\n",
    "y = df['water']\n",
    "X_train, X_test, y_train, y_test = train_test_split(X, y, test_size=0.2)"
   ]
  },
  {
   "cell_type": "code",
   "execution_count": 9,
   "metadata": {},
   "outputs": [
    {
     "data": {
      "text/plain": [
       "5"
      ]
     },
     "execution_count": 9,
     "metadata": {},
     "output_type": "execute_result"
    }
   ],
   "source": [
    "kf = KFold(n_splits=5)\n",
    "kf.get_n_splits(X_train)"
   ]
  },
  {
   "cell_type": "markdown",
   "metadata": {},
   "source": [
    "## Data \n",
    "- Read in to cuDF Dataframe\n",
    "- Drop unnecessary columns\n",
    "- Split into Xs and Ys"
   ]
  },
  {
   "cell_type": "markdown",
   "metadata": {},
   "source": [
    "## Load in data for use of visualizations \n",
    "(skip this if you just want to train model)"
   ]
  },
  {
   "cell_type": "code",
   "execution_count": 10,
   "metadata": {},
   "outputs": [
    {
     "name": "stdout",
     "output_type": "stream",
     "text": [
      "sur_refl_b01_1\n",
      "sur_refl_b02_1\n",
      "sur_refl_b03_1\n",
      "sur_refl_b04_1\n",
      "sur_refl_b05_1\n",
      "sur_refl_b06_1\n",
      "sur_refl_b07_1\n",
      "ndvi\n",
      "ndwi1\n",
      "ndwi2\n"
     ]
    }
   ],
   "source": [
    "_ = [print(column) for column in X_train.columns]"
   ]
  },
  {
   "cell_type": "code",
   "execution_count": 11,
   "metadata": {},
   "outputs": [
    {
     "data": {
      "text/html": [
       "<div>\n",
       "<style scoped>\n",
       "    .dataframe tbody tr th:only-of-type {\n",
       "        vertical-align: middle;\n",
       "    }\n",
       "\n",
       "    .dataframe tbody tr th {\n",
       "        vertical-align: top;\n",
       "    }\n",
       "\n",
       "    .dataframe thead th {\n",
       "        text-align: right;\n",
       "    }\n",
       "</style>\n",
       "<table border=\"1\" class=\"dataframe\">\n",
       "  <thead>\n",
       "    <tr style=\"text-align: right;\">\n",
       "      <th></th>\n",
       "      <th>count</th>\n",
       "      <th>mean</th>\n",
       "      <th>std</th>\n",
       "      <th>min</th>\n",
       "      <th>25%</th>\n",
       "      <th>50%</th>\n",
       "      <th>75%</th>\n",
       "      <th>max</th>\n",
       "    </tr>\n",
       "  </thead>\n",
       "  <tbody>\n",
       "    <tr>\n",
       "      <th>sur_refl_b01_1</th>\n",
       "      <td>800.0</td>\n",
       "      <td>1219.577515</td>\n",
       "      <td>1289.076782</td>\n",
       "      <td>8.000000</td>\n",
       "      <td>245.000000</td>\n",
       "      <td>901.000000</td>\n",
       "      <td>1889.250000</td>\n",
       "      <td>9222.000000</td>\n",
       "    </tr>\n",
       "    <tr>\n",
       "      <th>sur_refl_b02_1</th>\n",
       "      <td>800.0</td>\n",
       "      <td>1594.986206</td>\n",
       "      <td>1554.095337</td>\n",
       "      <td>1.000000</td>\n",
       "      <td>177.000000</td>\n",
       "      <td>1472.500000</td>\n",
       "      <td>2687.500000</td>\n",
       "      <td>8837.000000</td>\n",
       "    </tr>\n",
       "    <tr>\n",
       "      <th>sur_refl_b03_1</th>\n",
       "      <td>800.0</td>\n",
       "      <td>740.025024</td>\n",
       "      <td>997.770569</td>\n",
       "      <td>-100.000000</td>\n",
       "      <td>291.500000</td>\n",
       "      <td>553.500000</td>\n",
       "      <td>846.250000</td>\n",
       "      <td>8909.000000</td>\n",
       "    </tr>\n",
       "    <tr>\n",
       "      <th>sur_refl_b04_1</th>\n",
       "      <td>800.0</td>\n",
       "      <td>1025.422485</td>\n",
       "      <td>1056.031738</td>\n",
       "      <td>11.000000</td>\n",
       "      <td>413.000000</td>\n",
       "      <td>822.500000</td>\n",
       "      <td>1304.000000</td>\n",
       "      <td>9162.000000</td>\n",
       "    </tr>\n",
       "    <tr>\n",
       "      <th>sur_refl_b05_1</th>\n",
       "      <td>800.0</td>\n",
       "      <td>1979.785034</td>\n",
       "      <td>1464.859863</td>\n",
       "      <td>-92.000000</td>\n",
       "      <td>552.000000</td>\n",
       "      <td>1857.000000</td>\n",
       "      <td>3222.000000</td>\n",
       "      <td>6382.000000</td>\n",
       "    </tr>\n",
       "    <tr>\n",
       "      <th>sur_refl_b06_1</th>\n",
       "      <td>800.0</td>\n",
       "      <td>1946.652466</td>\n",
       "      <td>1528.500732</td>\n",
       "      <td>45.000000</td>\n",
       "      <td>514.250000</td>\n",
       "      <td>1570.500000</td>\n",
       "      <td>3273.500000</td>\n",
       "      <td>6610.000000</td>\n",
       "    </tr>\n",
       "    <tr>\n",
       "      <th>sur_refl_b07_1</th>\n",
       "      <td>800.0</td>\n",
       "      <td>1599.437500</td>\n",
       "      <td>1378.837769</td>\n",
       "      <td>0.000000</td>\n",
       "      <td>334.750000</td>\n",
       "      <td>1219.000000</td>\n",
       "      <td>2729.000000</td>\n",
       "      <td>6128.000000</td>\n",
       "    </tr>\n",
       "    <tr>\n",
       "      <th>ndvi</th>\n",
       "      <td>800.0</td>\n",
       "      <td>122.349121</td>\n",
       "      <td>2512.154297</td>\n",
       "      <td>-9444.444336</td>\n",
       "      <td>-1465.973450</td>\n",
       "      <td>741.613068</td>\n",
       "      <td>1767.857574</td>\n",
       "      <td>8587.457031</td>\n",
       "    </tr>\n",
       "    <tr>\n",
       "      <th>ndwi1</th>\n",
       "      <td>800.0</td>\n",
       "      <td>-2299.459717</td>\n",
       "      <td>3401.690430</td>\n",
       "      <td>-9862.069336</td>\n",
       "      <td>-4555.215942</td>\n",
       "      <td>-1572.638245</td>\n",
       "      <td>-767.239532</td>\n",
       "      <td>8823.803711</td>\n",
       "    </tr>\n",
       "    <tr>\n",
       "      <th>ndwi2</th>\n",
       "      <td>800.0</td>\n",
       "      <td>-893.183594</td>\n",
       "      <td>3805.787109</td>\n",
       "      <td>-9692.307617</td>\n",
       "      <td>-2638.875000</td>\n",
       "      <td>-706.536713</td>\n",
       "      <td>817.409256</td>\n",
       "      <td>10000.000000</td>\n",
       "    </tr>\n",
       "  </tbody>\n",
       "</table>\n",
       "</div>"
      ],
      "text/plain": [
       "                count         mean          std          min          25%  \\\n",
       "sur_refl_b01_1  800.0  1219.577515  1289.076782     8.000000   245.000000   \n",
       "sur_refl_b02_1  800.0  1594.986206  1554.095337     1.000000   177.000000   \n",
       "sur_refl_b03_1  800.0   740.025024   997.770569  -100.000000   291.500000   \n",
       "sur_refl_b04_1  800.0  1025.422485  1056.031738    11.000000   413.000000   \n",
       "sur_refl_b05_1  800.0  1979.785034  1464.859863   -92.000000   552.000000   \n",
       "sur_refl_b06_1  800.0  1946.652466  1528.500732    45.000000   514.250000   \n",
       "sur_refl_b07_1  800.0  1599.437500  1378.837769     0.000000   334.750000   \n",
       "ndvi            800.0   122.349121  2512.154297 -9444.444336 -1465.973450   \n",
       "ndwi1           800.0 -2299.459717  3401.690430 -9862.069336 -4555.215942   \n",
       "ndwi2           800.0  -893.183594  3805.787109 -9692.307617 -2638.875000   \n",
       "\n",
       "                        50%          75%           max  \n",
       "sur_refl_b01_1   901.000000  1889.250000   9222.000000  \n",
       "sur_refl_b02_1  1472.500000  2687.500000   8837.000000  \n",
       "sur_refl_b03_1   553.500000   846.250000   8909.000000  \n",
       "sur_refl_b04_1   822.500000  1304.000000   9162.000000  \n",
       "sur_refl_b05_1  1857.000000  3222.000000   6382.000000  \n",
       "sur_refl_b06_1  1570.500000  3273.500000   6610.000000  \n",
       "sur_refl_b07_1  1219.000000  2729.000000   6128.000000  \n",
       "ndvi             741.613068  1767.857574   8587.457031  \n",
       "ndwi1          -1572.638245  -767.239532   8823.803711  \n",
       "ndwi2           -706.536713   817.409256  10000.000000  "
      ]
     },
     "execution_count": 11,
     "metadata": {},
     "output_type": "execute_result"
    }
   ],
   "source": [
    "X_train.describe().T"
   ]
  },
  {
   "cell_type": "markdown",
   "metadata": {},
   "source": [
    "## Random Forest Model\n",
    "\n",
    "### Model Definition"
   ]
  },
  {
   "cell_type": "code",
   "execution_count": 12,
   "metadata": {},
   "outputs": [],
   "source": [
    "def objective(trial):\n",
    "    hyperparameters = {\n",
    "        \"verbosity\": 0,\n",
    "        \"objective\": \"binary:logistic\",\n",
    "        \"n_jobs\": -1,\n",
    "        # defines booster, gblinear for linear functions.\n",
    "        \"booster\": trial.suggest_categorical(\"booster\", [\"gbtree\", \"dart\"]),\n",
    "        # L2 regularization weight.\n",
    "        \"lambda\": trial.suggest_float(\"lambda\", 1e-8, 1.0, log=True),\n",
    "        # L1 regularization weight.\n",
    "        \"alpha\": trial.suggest_float(\"alpha\", 1e-8, 1.0, log=True),\n",
    "        # sampling ratio for training data.\n",
    "        \"subsample\": trial.suggest_float(\"subsample\", 0.3, 1),\n",
    "        # maximum depth of the tree, signifies complexity of the tree.\n",
    "        \"max_depth\":  trial.suggest_int(\"max_depth\", 3, 15, step=1), \n",
    "        # minimum child weight, larger the term more conservative the tree.\n",
    "        \"eta\":  trial.suggest_float(\"eta\", 1e-8, 1.0, log=True), \n",
    "        # defines how selective algorithm is.\n",
    "        \"gamma\": trial.suggest_float(\"gamma\", 1e-8, 0.5, log=True),\n",
    "    }\n",
    "    pruning_callback = optuna.integration.XGBoostPruningCallback(trial, \"validation_0-auc\")\n",
    "    classifier = xgb.XGBClassifier(**hyperparameters)\n",
    "    scores = []\n",
    "    for trainIdx, testIdx in kf.split(X_train):\n",
    "        X_train_valid, X_test_valid = X_train.iloc[trainIdx], X_train.iloc[testIdx]\n",
    "        y_train_valid, y_test_valid = y_train.iloc[trainIdx], y_train.iloc[testIdx]\n",
    "        eval_set = [(X_test_valid, y_test_valid)]\n",
    "        eval_metric = [\"error\",\"auc\"]\n",
    "        classifier.fit(X_train_valid, \n",
    "                       y_train_valid, \n",
    "                       eval_set=eval_set, \n",
    "                       eval_metric=eval_metric, \n",
    "                       early_stopping_rounds=10, \n",
    "                       callbacks=[pruning_callback],\n",
    "                       verbose=False)\n",
    "        preds = classifier.predict(X_test_valid)\n",
    "        f1 = f1_score(y_test_valid, preds)\n",
    "        print('F1 Score: {}'.format(f1))\n",
    "        scores.append(f1)\n",
    "    print('Mean F1 score: {}'.format(sum(scores)/len(scores)))\n",
    "    return f1"
   ]
  },
  {
   "cell_type": "markdown",
   "metadata": {},
   "source": [
    "## Set the search space\n",
    "\n",
    "Set the search space for the hyperparameter tuning to search through once. This needs to be in conjunction with the `trial.suggest...` part of the hyperparameters dictionary defined aboce. \n",
    "\n",
    "Ex.\n",
    "\n",
    "If `max_depth` is defined in `hyperparameters` in the `objective` function above as such\n",
    "\n",
    "`\"max_depth\":  trial.suggest_int(\"max_depth\", 3, 15, step=1),` \n",
    "\n",
    "then we need to pair that with the limited search space below as such:\n",
    "\n",
    "`search_space={\"max_depth\":[3, 4, 5, 6, 7, 8, 9, 10, 11, 12, 13, 14, 15]}`\n",
    "\n",
    "This is not the most ideal way of ensuring that trials are not repeated, however it works for now. "
   ]
  },
  {
   "cell_type": "code",
   "execution_count": 13,
   "metadata": {},
   "outputs": [],
   "source": [
    "search_space={\n",
    "    \"max_depth\":[3, 4, 5, 6, 7, 8, 9, 10, 11, 12, 13, 14, 15],\n",
    "}"
   ]
  },
  {
   "cell_type": "markdown",
   "metadata": {},
   "source": [
    "### Set number of trials and timeout\n",
    "\n",
    "Set the number of trials `n_trials=<num of desired trials>` and the maximum time for the total study `timeout=<timeout in minutes>*60`"
   ]
  },
  {
   "cell_type": "code",
   "execution_count": 14,
   "metadata": {},
   "outputs": [
    {
     "name": "stderr",
     "output_type": "stream",
     "text": [
      "\u001b[32m[I 2022-08-17 11:02:07,155]\u001b[0m A new study created in memory with name: xgb hyperparameter tuning - cpu\u001b[0m\n"
     ]
    },
    {
     "name": "stdout",
     "output_type": "stream",
     "text": [
      "F1 Score: 0.9818181818181818\n",
      "F1 Score: 0.9542483660130718\n"
     ]
    },
    {
     "name": "stderr",
     "output_type": "stream",
     "text": [
      "\u001b[32m[I 2022-08-17 11:02:07,378]\u001b[0m Trial 0 finished with value: 0.9733333333333334 and parameters: {'booster': 'dart', 'lambda': 0.00021770480060408809, 'alpha': 0.00206901161832847, 'subsample': 0.48386248776104124, 'max_depth': 11, 'eta': 0.028600276784114205, 'gamma': 4.7710265620583444e-08}. Best is trial 0 with value: 0.9733333333333334.\u001b[0m\n"
     ]
    },
    {
     "name": "stdout",
     "output_type": "stream",
     "text": [
      "F1 Score: 0.975609756097561\n",
      "F1 Score: 0.9696969696969696\n",
      "F1 Score: 0.9733333333333334\n",
      "Mean F1 score: 0.9709413213918235\n",
      "F1 Score: 0.9818181818181818\n",
      "F1 Score: 0.9806451612903225\n",
      "F1 Score: 0.975609756097561\n",
      "F1 Score: 0.9696969696969696\n"
     ]
    },
    {
     "name": "stderr",
     "output_type": "stream",
     "text": [
      "\u001b[32m[I 2022-08-17 11:02:07,517]\u001b[0m Trial 1 finished with value: 0.9932885906040269 and parameters: {'booster': 'dart', 'lambda': 2.3649536028349473e-06, 'alpha': 0.0021504797560342476, 'subsample': 0.9582099179768389, 'max_depth': 9, 'eta': 0.38784195289114787, 'gamma': 0.005612739708215123}. Best is trial 1 with value: 0.9932885906040269.\u001b[0m\n",
      "\u001b[32m[I 2022-08-17 11:02:07,605]\u001b[0m Trial 2 finished with value: 0.9664429530201343 and parameters: {'booster': 'gbtree', 'lambda': 1.20763492879927e-07, 'alpha': 2.5890612465763917e-06, 'subsample': 0.4839798772752116, 'max_depth': 8, 'eta': 2.528766672498821e-06, 'gamma': 0.012507117008700741}. Best is trial 1 with value: 0.9932885906040269.\u001b[0m\n"
     ]
    },
    {
     "name": "stdout",
     "output_type": "stream",
     "text": [
      "F1 Score: 0.9932885906040269\n",
      "Mean F1 score: 0.9802117319014124\n",
      "F1 Score: 0.9818181818181818\n",
      "F1 Score: 0.961038961038961\n",
      "F1 Score: 0.9818181818181818\n",
      "F1 Score: 0.9759036144578312\n",
      "F1 Score: 0.9664429530201343\n",
      "Mean F1 score: 0.9734043784306581\n",
      "F1 Score: 0.9761904761904762\n"
     ]
    },
    {
     "name": "stderr",
     "output_type": "stream",
     "text": [
      "\u001b[32m[I 2022-08-17 11:02:07,703]\u001b[0m Trial 3 finished with value: 0.9932885906040269 and parameters: {'booster': 'gbtree', 'lambda': 0.00991421053115175, 'alpha': 0.023036805799161626, 'subsample': 0.8809621739172755, 'max_depth': 13, 'eta': 0.36216353502055276, 'gamma': 0.0011917934369273437}. Best is trial 1 with value: 0.9932885906040269.\u001b[0m\n"
     ]
    },
    {
     "name": "stdout",
     "output_type": "stream",
     "text": [
      "F1 Score: 0.9806451612903225\n",
      "F1 Score: 0.9818181818181818\n",
      "F1 Score: 0.9696969696969696\n",
      "F1 Score: 0.9932885906040269\n",
      "Mean F1 score: 0.9803278759199955\n"
     ]
    },
    {
     "name": "stderr",
     "output_type": "stream",
     "text": [
      "\u001b[32m[I 2022-08-17 11:02:07,810]\u001b[0m Trial 4 finished with value: 0.9864864864864865 and parameters: {'booster': 'gbtree', 'lambda': 5.7914517185828745e-05, 'alpha': 0.000501350189763045, 'subsample': 0.9383290139624232, 'max_depth': 11, 'eta': 7.232743648913494e-08, 'gamma': 1.826192224191763e-08}. Best is trial 1 with value: 0.9932885906040269.\u001b[0m\n",
      "\u001b[32m[I 2022-08-17 11:02:07,818]\u001b[0m Trial 5 pruned. Trial was pruned at iteration 0.\u001b[0m\n",
      "\u001b[32m[I 2022-08-17 11:02:07,826]\u001b[0m Trial 6 pruned. Trial was pruned at iteration 0.\u001b[0m\n",
      "\u001b[32m[I 2022-08-17 11:02:07,836]\u001b[0m Trial 7 pruned. Trial was pruned at iteration 0.\u001b[0m\n",
      "\u001b[32m[I 2022-08-17 11:02:07,846]\u001b[0m Trial 8 pruned. Trial was pruned at iteration 0.\u001b[0m\n"
     ]
    },
    {
     "name": "stdout",
     "output_type": "stream",
     "text": [
      "F1 Score: 0.9818181818181818\n",
      "F1 Score: 0.9615384615384615\n",
      "F1 Score: 0.9693251533742332\n",
      "F1 Score: 0.975609756097561\n",
      "F1 Score: 0.9864864864864865\n",
      "Mean F1 score: 0.9749556078629847\n"
     ]
    },
    {
     "name": "stderr",
     "output_type": "stream",
     "text": [
      "\u001b[32m[I 2022-08-17 11:02:07,855]\u001b[0m Trial 9 pruned. Trial was pruned at iteration 0.\u001b[0m\n",
      "\u001b[32m[I 2022-08-17 11:02:07,872]\u001b[0m Trial 10 pruned. Trial was pruned at iteration 0.\u001b[0m\n",
      "\u001b[32m[I 2022-08-17 11:02:07,892]\u001b[0m Trial 11 pruned. Trial was pruned at iteration 1.\u001b[0m\n",
      "\u001b[32m[I 2022-08-17 11:02:07,909]\u001b[0m Trial 12 pruned. Trial was pruned at iteration 0.\u001b[0m\n",
      "\u001b[32m[I 2022-08-17 11:02:07,926]\u001b[0m Trial 13 pruned. Trial was pruned at iteration 1.\u001b[0m\n",
      "\u001b[32m[I 2022-08-17 11:02:07,943]\u001b[0m Trial 14 pruned. Trial was pruned at iteration 1.\u001b[0m\n",
      "\u001b[32m[I 2022-08-17 11:02:07,963]\u001b[0m Trial 15 pruned. Trial was pruned at iteration 1.\u001b[0m\n",
      "\u001b[32m[I 2022-08-17 11:02:07,983]\u001b[0m Trial 16 pruned. Trial was pruned at iteration 1.\u001b[0m\n",
      "\u001b[32m[I 2022-08-17 11:02:08,002]\u001b[0m Trial 17 pruned. Trial was pruned at iteration 1.\u001b[0m\n",
      "\u001b[32m[I 2022-08-17 11:02:08,020]\u001b[0m Trial 18 pruned. Trial was pruned at iteration 1.\u001b[0m\n",
      "\u001b[32m[I 2022-08-17 11:02:08,072]\u001b[0m Trial 19 pruned. Trial was pruned at iteration 12.\u001b[0m\n"
     ]
    },
    {
     "name": "stdout",
     "output_type": "stream",
     "text": [
      "F1 Score: 0.9818181818181818\n"
     ]
    }
   ],
   "source": [
    "optuna.logging.set_verbosity(optuna.logging.INFO)\n",
    "\n",
    "study = optuna.create_study(study_name='xgb hyperparameter tuning - cpu', \n",
    "                            direction='maximize',\n",
    "                           ) # sampler=optuna.samplers.GridSampler(search_space))\n",
    "\n",
    "study.optimize(objective, n_trials=20, timeout=10*60)"
   ]
  },
  {
   "cell_type": "code",
   "execution_count": 15,
   "metadata": {},
   "outputs": [
    {
     "name": "stdout",
     "output_type": "stream",
     "text": [
      "Number of finished trials: 20\n",
      "{'booster': 'dart', 'lambda': 2.3649536028349473e-06, 'alpha': 0.0021504797560342476, 'subsample': 0.9582099179768389, 'max_depth': 9, 'eta': 0.38784195289114787, 'gamma': 0.005612739708215123}\n",
      "0.9932885906040269\n"
     ]
    }
   ],
   "source": [
    "print(\"Number of finished trials: {}\".format(len(study.trials)))\n",
    "trials = study.best_trials\n",
    "trial_score = max([trial.values[0] for trial in trials])\n",
    "best_trial_params = [trial.params for trial in trials if trial.values[0] == trial_score][0]\n",
    "print(best_trial_params)\n",
    "print(trial_score)\n",
    "\n",
    "trial_scores = [trial.values for trial in trials]\n",
    "trial_params = [trial.params for trial in trials]\n",
    "\n",
    "study_df = study.trials_dataframe()\n",
    "study_df.to_csv(\"hyperopt_tuning_trial_{}_xgb.csv\".format(\n",
    "    datetime.datetime.now().strftime('%Y_%m_%d_%H_%M')))"
   ]
  },
  {
   "cell_type": "code",
   "execution_count": 16,
   "metadata": {},
   "outputs": [
    {
     "data": {
      "text/html": [
       "<div>\n",
       "<style scoped>\n",
       "    .dataframe tbody tr th:only-of-type {\n",
       "        vertical-align: middle;\n",
       "    }\n",
       "\n",
       "    .dataframe tbody tr th {\n",
       "        vertical-align: top;\n",
       "    }\n",
       "\n",
       "    .dataframe thead th {\n",
       "        text-align: right;\n",
       "    }\n",
       "</style>\n",
       "<table border=\"1\" class=\"dataframe\">\n",
       "  <thead>\n",
       "    <tr style=\"text-align: right;\">\n",
       "      <th></th>\n",
       "      <th>number</th>\n",
       "      <th>value</th>\n",
       "      <th>datetime_start</th>\n",
       "      <th>datetime_complete</th>\n",
       "      <th>duration</th>\n",
       "      <th>params_alpha</th>\n",
       "      <th>params_booster</th>\n",
       "      <th>params_eta</th>\n",
       "      <th>params_gamma</th>\n",
       "      <th>params_lambda</th>\n",
       "      <th>params_max_depth</th>\n",
       "      <th>params_subsample</th>\n",
       "      <th>state</th>\n",
       "    </tr>\n",
       "  </thead>\n",
       "  <tbody>\n",
       "    <tr>\n",
       "      <th>0</th>\n",
       "      <td>0</td>\n",
       "      <td>0.973333</td>\n",
       "      <td>2022-08-17 11:02:07.158209</td>\n",
       "      <td>2022-08-17 11:02:07.377724</td>\n",
       "      <td>0 days 00:00:00.219515</td>\n",
       "      <td>2.069012e-03</td>\n",
       "      <td>dart</td>\n",
       "      <td>2.860028e-02</td>\n",
       "      <td>4.771027e-08</td>\n",
       "      <td>2.177048e-04</td>\n",
       "      <td>11</td>\n",
       "      <td>0.483862</td>\n",
       "      <td>COMPLETE</td>\n",
       "    </tr>\n",
       "    <tr>\n",
       "      <th>1</th>\n",
       "      <td>1</td>\n",
       "      <td>0.993289</td>\n",
       "      <td>2022-08-17 11:02:07.378856</td>\n",
       "      <td>2022-08-17 11:02:07.516819</td>\n",
       "      <td>0 days 00:00:00.137963</td>\n",
       "      <td>2.150480e-03</td>\n",
       "      <td>dart</td>\n",
       "      <td>3.878420e-01</td>\n",
       "      <td>5.612740e-03</td>\n",
       "      <td>2.364954e-06</td>\n",
       "      <td>9</td>\n",
       "      <td>0.958210</td>\n",
       "      <td>COMPLETE</td>\n",
       "    </tr>\n",
       "    <tr>\n",
       "      <th>2</th>\n",
       "      <td>2</td>\n",
       "      <td>0.966443</td>\n",
       "      <td>2022-08-17 11:02:07.517813</td>\n",
       "      <td>2022-08-17 11:02:07.604934</td>\n",
       "      <td>0 days 00:00:00.087121</td>\n",
       "      <td>2.589061e-06</td>\n",
       "      <td>gbtree</td>\n",
       "      <td>2.528767e-06</td>\n",
       "      <td>1.250712e-02</td>\n",
       "      <td>1.207635e-07</td>\n",
       "      <td>8</td>\n",
       "      <td>0.483980</td>\n",
       "      <td>COMPLETE</td>\n",
       "    </tr>\n",
       "    <tr>\n",
       "      <th>3</th>\n",
       "      <td>3</td>\n",
       "      <td>0.993289</td>\n",
       "      <td>2022-08-17 11:02:07.605928</td>\n",
       "      <td>2022-08-17 11:02:07.702721</td>\n",
       "      <td>0 days 00:00:00.096793</td>\n",
       "      <td>2.303681e-02</td>\n",
       "      <td>gbtree</td>\n",
       "      <td>3.621635e-01</td>\n",
       "      <td>1.191793e-03</td>\n",
       "      <td>9.914211e-03</td>\n",
       "      <td>13</td>\n",
       "      <td>0.880962</td>\n",
       "      <td>COMPLETE</td>\n",
       "    </tr>\n",
       "    <tr>\n",
       "      <th>4</th>\n",
       "      <td>4</td>\n",
       "      <td>0.986486</td>\n",
       "      <td>2022-08-17 11:02:07.703764</td>\n",
       "      <td>2022-08-17 11:02:07.810262</td>\n",
       "      <td>0 days 00:00:00.106498</td>\n",
       "      <td>5.013502e-04</td>\n",
       "      <td>gbtree</td>\n",
       "      <td>7.232744e-08</td>\n",
       "      <td>1.826192e-08</td>\n",
       "      <td>5.791452e-05</td>\n",
       "      <td>11</td>\n",
       "      <td>0.938329</td>\n",
       "      <td>COMPLETE</td>\n",
       "    </tr>\n",
       "    <tr>\n",
       "      <th>5</th>\n",
       "      <td>5</td>\n",
       "      <td>0.992802</td>\n",
       "      <td>2022-08-17 11:02:07.811243</td>\n",
       "      <td>2022-08-17 11:02:07.818601</td>\n",
       "      <td>0 days 00:00:00.007358</td>\n",
       "      <td>3.961208e-01</td>\n",
       "      <td>dart</td>\n",
       "      <td>2.831083e-05</td>\n",
       "      <td>3.992399e-04</td>\n",
       "      <td>1.526030e-08</td>\n",
       "      <td>6</td>\n",
       "      <td>0.601794</td>\n",
       "      <td>PRUNED</td>\n",
       "    </tr>\n",
       "    <tr>\n",
       "      <th>6</th>\n",
       "      <td>6</td>\n",
       "      <td>0.500000</td>\n",
       "      <td>2022-08-17 11:02:07.819422</td>\n",
       "      <td>2022-08-17 11:02:07.826914</td>\n",
       "      <td>0 days 00:00:00.007492</td>\n",
       "      <td>4.958278e-06</td>\n",
       "      <td>dart</td>\n",
       "      <td>2.453860e-08</td>\n",
       "      <td>3.702158e-08</td>\n",
       "      <td>1.876151e-03</td>\n",
       "      <td>7</td>\n",
       "      <td>0.339992</td>\n",
       "      <td>PRUNED</td>\n",
       "    </tr>\n",
       "    <tr>\n",
       "      <th>7</th>\n",
       "      <td>7</td>\n",
       "      <td>0.992959</td>\n",
       "      <td>2022-08-17 11:02:07.828107</td>\n",
       "      <td>2022-08-17 11:02:07.836008</td>\n",
       "      <td>0 days 00:00:00.007901</td>\n",
       "      <td>9.918412e-01</td>\n",
       "      <td>gbtree</td>\n",
       "      <td>5.340667e-05</td>\n",
       "      <td>1.358211e-02</td>\n",
       "      <td>5.957649e-06</td>\n",
       "      <td>6</td>\n",
       "      <td>0.802326</td>\n",
       "      <td>PRUNED</td>\n",
       "    </tr>\n",
       "    <tr>\n",
       "      <th>8</th>\n",
       "      <td>8</td>\n",
       "      <td>0.963855</td>\n",
       "      <td>2022-08-17 11:02:07.837404</td>\n",
       "      <td>2022-08-17 11:02:07.846101</td>\n",
       "      <td>0 days 00:00:00.008697</td>\n",
       "      <td>5.121106e-08</td>\n",
       "      <td>dart</td>\n",
       "      <td>7.025033e-08</td>\n",
       "      <td>1.869950e-07</td>\n",
       "      <td>2.375593e-01</td>\n",
       "      <td>8</td>\n",
       "      <td>0.515230</td>\n",
       "      <td>PRUNED</td>\n",
       "    </tr>\n",
       "    <tr>\n",
       "      <th>9</th>\n",
       "      <td>9</td>\n",
       "      <td>0.500000</td>\n",
       "      <td>2022-08-17 11:02:07.846930</td>\n",
       "      <td>2022-08-17 11:02:07.855801</td>\n",
       "      <td>0 days 00:00:00.008871</td>\n",
       "      <td>3.884996e-04</td>\n",
       "      <td>gbtree</td>\n",
       "      <td>1.448271e-08</td>\n",
       "      <td>7.933666e-08</td>\n",
       "      <td>7.598337e-07</td>\n",
       "      <td>6</td>\n",
       "      <td>0.641841</td>\n",
       "      <td>PRUNED</td>\n",
       "    </tr>\n",
       "    <tr>\n",
       "      <th>10</th>\n",
       "      <td>10</td>\n",
       "      <td>0.992802</td>\n",
       "      <td>2022-08-17 11:02:07.856664</td>\n",
       "      <td>2022-08-17 11:02:07.872053</td>\n",
       "      <td>0 days 00:00:00.015389</td>\n",
       "      <td>7.761869e-06</td>\n",
       "      <td>dart</td>\n",
       "      <td>3.668923e-03</td>\n",
       "      <td>7.106273e-02</td>\n",
       "      <td>5.373992e-06</td>\n",
       "      <td>3</td>\n",
       "      <td>0.753730</td>\n",
       "      <td>PRUNED</td>\n",
       "    </tr>\n",
       "    <tr>\n",
       "      <th>11</th>\n",
       "      <td>11</td>\n",
       "      <td>0.998670</td>\n",
       "      <td>2022-08-17 11:02:07.872854</td>\n",
       "      <td>2022-08-17 11:02:07.892141</td>\n",
       "      <td>0 days 00:00:00.019287</td>\n",
       "      <td>1.516400e-02</td>\n",
       "      <td>gbtree</td>\n",
       "      <td>4.888313e-01</td>\n",
       "      <td>2.523066e-04</td>\n",
       "      <td>1.012247e-02</td>\n",
       "      <td>15</td>\n",
       "      <td>0.988307</td>\n",
       "      <td>PRUNED</td>\n",
       "    </tr>\n",
       "    <tr>\n",
       "      <th>12</th>\n",
       "      <td>12</td>\n",
       "      <td>0.993115</td>\n",
       "      <td>2022-08-17 11:02:07.892946</td>\n",
       "      <td>2022-08-17 11:02:07.909131</td>\n",
       "      <td>0 days 00:00:00.016185</td>\n",
       "      <td>1.296622e-02</td>\n",
       "      <td>dart</td>\n",
       "      <td>9.709696e-01</td>\n",
       "      <td>8.227936e-06</td>\n",
       "      <td>7.369771e-01</td>\n",
       "      <td>15</td>\n",
       "      <td>0.860844</td>\n",
       "      <td>PRUNED</td>\n",
       "    </tr>\n",
       "    <tr>\n",
       "      <th>13</th>\n",
       "      <td>13</td>\n",
       "      <td>0.998826</td>\n",
       "      <td>2022-08-17 11:02:07.909918</td>\n",
       "      <td>2022-08-17 11:02:07.925982</td>\n",
       "      <td>0 days 00:00:00.016064</td>\n",
       "      <td>2.554957e-02</td>\n",
       "      <td>gbtree</td>\n",
       "      <td>6.798782e-03</td>\n",
       "      <td>2.186977e-03</td>\n",
       "      <td>1.501303e-02</td>\n",
       "      <td>11</td>\n",
       "      <td>0.871984</td>\n",
       "      <td>PRUNED</td>\n",
       "    </tr>\n",
       "    <tr>\n",
       "      <th>14</th>\n",
       "      <td>14</td>\n",
       "      <td>0.998514</td>\n",
       "      <td>2022-08-17 11:02:07.926734</td>\n",
       "      <td>2022-08-17 11:02:07.943507</td>\n",
       "      <td>0 days 00:00:00.016773</td>\n",
       "      <td>1.431796e-01</td>\n",
       "      <td>dart</td>\n",
       "      <td>9.422151e-02</td>\n",
       "      <td>1.645055e-05</td>\n",
       "      <td>7.206196e-05</td>\n",
       "      <td>13</td>\n",
       "      <td>0.741641</td>\n",
       "      <td>PRUNED</td>\n",
       "    </tr>\n",
       "    <tr>\n",
       "      <th>15</th>\n",
       "      <td>15</td>\n",
       "      <td>0.998670</td>\n",
       "      <td>2022-08-17 11:02:07.944326</td>\n",
       "      <td>2022-08-17 11:02:07.963699</td>\n",
       "      <td>0 days 00:00:00.019373</td>\n",
       "      <td>4.856896e-05</td>\n",
       "      <td>gbtree</td>\n",
       "      <td>1.330669e-03</td>\n",
       "      <td>8.818267e-02</td>\n",
       "      <td>1.093772e-03</td>\n",
       "      <td>13</td>\n",
       "      <td>0.996123</td>\n",
       "      <td>PRUNED</td>\n",
       "    </tr>\n",
       "    <tr>\n",
       "      <th>16</th>\n",
       "      <td>16</td>\n",
       "      <td>0.998670</td>\n",
       "      <td>2022-08-17 11:02:07.964459</td>\n",
       "      <td>2022-08-17 11:02:07.983677</td>\n",
       "      <td>0 days 00:00:00.019218</td>\n",
       "      <td>2.281199e-03</td>\n",
       "      <td>gbtree</td>\n",
       "      <td>3.945142e-04</td>\n",
       "      <td>2.120564e-03</td>\n",
       "      <td>6.039479e-02</td>\n",
       "      <td>10</td>\n",
       "      <td>0.881538</td>\n",
       "      <td>PRUNED</td>\n",
       "    </tr>\n",
       "    <tr>\n",
       "      <th>17</th>\n",
       "      <td>17</td>\n",
       "      <td>0.998514</td>\n",
       "      <td>2022-08-17 11:02:07.984405</td>\n",
       "      <td>2022-08-17 11:02:08.002307</td>\n",
       "      <td>0 days 00:00:00.017902</td>\n",
       "      <td>6.843798e-02</td>\n",
       "      <td>dart</td>\n",
       "      <td>2.919769e-02</td>\n",
       "      <td>4.849055e-01</td>\n",
       "      <td>3.300052e-06</td>\n",
       "      <td>13</td>\n",
       "      <td>0.711863</td>\n",
       "      <td>PRUNED</td>\n",
       "    </tr>\n",
       "    <tr>\n",
       "      <th>18</th>\n",
       "      <td>18</td>\n",
       "      <td>0.998826</td>\n",
       "      <td>2022-08-17 11:02:08.003134</td>\n",
       "      <td>2022-08-17 11:02:08.020902</td>\n",
       "      <td>0 days 00:00:00.017768</td>\n",
       "      <td>1.026107e-08</td>\n",
       "      <td>dart</td>\n",
       "      <td>1.376716e-01</td>\n",
       "      <td>1.616265e-06</td>\n",
       "      <td>5.748225e-04</td>\n",
       "      <td>4</td>\n",
       "      <td>0.816642</td>\n",
       "      <td>PRUNED</td>\n",
       "    </tr>\n",
       "    <tr>\n",
       "      <th>19</th>\n",
       "      <td>19</td>\n",
       "      <td>0.997496</td>\n",
       "      <td>2022-08-17 11:02:08.021651</td>\n",
       "      <td>2022-08-17 11:02:08.072565</td>\n",
       "      <td>0 days 00:00:00.050914</td>\n",
       "      <td>5.285712e-05</td>\n",
       "      <td>gbtree</td>\n",
       "      <td>3.167880e-04</td>\n",
       "      <td>4.447144e-05</td>\n",
       "      <td>1.165282e-07</td>\n",
       "      <td>10</td>\n",
       "      <td>0.924721</td>\n",
       "      <td>PRUNED</td>\n",
       "    </tr>\n",
       "  </tbody>\n",
       "</table>\n",
       "</div>"
      ],
      "text/plain": [
       "    number     value             datetime_start          datetime_complete  \\\n",
       "0        0  0.973333 2022-08-17 11:02:07.158209 2022-08-17 11:02:07.377724   \n",
       "1        1  0.993289 2022-08-17 11:02:07.378856 2022-08-17 11:02:07.516819   \n",
       "2        2  0.966443 2022-08-17 11:02:07.517813 2022-08-17 11:02:07.604934   \n",
       "3        3  0.993289 2022-08-17 11:02:07.605928 2022-08-17 11:02:07.702721   \n",
       "4        4  0.986486 2022-08-17 11:02:07.703764 2022-08-17 11:02:07.810262   \n",
       "5        5  0.992802 2022-08-17 11:02:07.811243 2022-08-17 11:02:07.818601   \n",
       "6        6  0.500000 2022-08-17 11:02:07.819422 2022-08-17 11:02:07.826914   \n",
       "7        7  0.992959 2022-08-17 11:02:07.828107 2022-08-17 11:02:07.836008   \n",
       "8        8  0.963855 2022-08-17 11:02:07.837404 2022-08-17 11:02:07.846101   \n",
       "9        9  0.500000 2022-08-17 11:02:07.846930 2022-08-17 11:02:07.855801   \n",
       "10      10  0.992802 2022-08-17 11:02:07.856664 2022-08-17 11:02:07.872053   \n",
       "11      11  0.998670 2022-08-17 11:02:07.872854 2022-08-17 11:02:07.892141   \n",
       "12      12  0.993115 2022-08-17 11:02:07.892946 2022-08-17 11:02:07.909131   \n",
       "13      13  0.998826 2022-08-17 11:02:07.909918 2022-08-17 11:02:07.925982   \n",
       "14      14  0.998514 2022-08-17 11:02:07.926734 2022-08-17 11:02:07.943507   \n",
       "15      15  0.998670 2022-08-17 11:02:07.944326 2022-08-17 11:02:07.963699   \n",
       "16      16  0.998670 2022-08-17 11:02:07.964459 2022-08-17 11:02:07.983677   \n",
       "17      17  0.998514 2022-08-17 11:02:07.984405 2022-08-17 11:02:08.002307   \n",
       "18      18  0.998826 2022-08-17 11:02:08.003134 2022-08-17 11:02:08.020902   \n",
       "19      19  0.997496 2022-08-17 11:02:08.021651 2022-08-17 11:02:08.072565   \n",
       "\n",
       "                 duration  params_alpha params_booster    params_eta  \\\n",
       "0  0 days 00:00:00.219515  2.069012e-03           dart  2.860028e-02   \n",
       "1  0 days 00:00:00.137963  2.150480e-03           dart  3.878420e-01   \n",
       "2  0 days 00:00:00.087121  2.589061e-06         gbtree  2.528767e-06   \n",
       "3  0 days 00:00:00.096793  2.303681e-02         gbtree  3.621635e-01   \n",
       "4  0 days 00:00:00.106498  5.013502e-04         gbtree  7.232744e-08   \n",
       "5  0 days 00:00:00.007358  3.961208e-01           dart  2.831083e-05   \n",
       "6  0 days 00:00:00.007492  4.958278e-06           dart  2.453860e-08   \n",
       "7  0 days 00:00:00.007901  9.918412e-01         gbtree  5.340667e-05   \n",
       "8  0 days 00:00:00.008697  5.121106e-08           dart  7.025033e-08   \n",
       "9  0 days 00:00:00.008871  3.884996e-04         gbtree  1.448271e-08   \n",
       "10 0 days 00:00:00.015389  7.761869e-06           dart  3.668923e-03   \n",
       "11 0 days 00:00:00.019287  1.516400e-02         gbtree  4.888313e-01   \n",
       "12 0 days 00:00:00.016185  1.296622e-02           dart  9.709696e-01   \n",
       "13 0 days 00:00:00.016064  2.554957e-02         gbtree  6.798782e-03   \n",
       "14 0 days 00:00:00.016773  1.431796e-01           dart  9.422151e-02   \n",
       "15 0 days 00:00:00.019373  4.856896e-05         gbtree  1.330669e-03   \n",
       "16 0 days 00:00:00.019218  2.281199e-03         gbtree  3.945142e-04   \n",
       "17 0 days 00:00:00.017902  6.843798e-02           dart  2.919769e-02   \n",
       "18 0 days 00:00:00.017768  1.026107e-08           dart  1.376716e-01   \n",
       "19 0 days 00:00:00.050914  5.285712e-05         gbtree  3.167880e-04   \n",
       "\n",
       "    params_gamma  params_lambda  params_max_depth  params_subsample     state  \n",
       "0   4.771027e-08   2.177048e-04                11          0.483862  COMPLETE  \n",
       "1   5.612740e-03   2.364954e-06                 9          0.958210  COMPLETE  \n",
       "2   1.250712e-02   1.207635e-07                 8          0.483980  COMPLETE  \n",
       "3   1.191793e-03   9.914211e-03                13          0.880962  COMPLETE  \n",
       "4   1.826192e-08   5.791452e-05                11          0.938329  COMPLETE  \n",
       "5   3.992399e-04   1.526030e-08                 6          0.601794    PRUNED  \n",
       "6   3.702158e-08   1.876151e-03                 7          0.339992    PRUNED  \n",
       "7   1.358211e-02   5.957649e-06                 6          0.802326    PRUNED  \n",
       "8   1.869950e-07   2.375593e-01                 8          0.515230    PRUNED  \n",
       "9   7.933666e-08   7.598337e-07                 6          0.641841    PRUNED  \n",
       "10  7.106273e-02   5.373992e-06                 3          0.753730    PRUNED  \n",
       "11  2.523066e-04   1.012247e-02                15          0.988307    PRUNED  \n",
       "12  8.227936e-06   7.369771e-01                15          0.860844    PRUNED  \n",
       "13  2.186977e-03   1.501303e-02                11          0.871984    PRUNED  \n",
       "14  1.645055e-05   7.206196e-05                13          0.741641    PRUNED  \n",
       "15  8.818267e-02   1.093772e-03                13          0.996123    PRUNED  \n",
       "16  2.120564e-03   6.039479e-02                10          0.881538    PRUNED  \n",
       "17  4.849055e-01   3.300052e-06                13          0.711863    PRUNED  \n",
       "18  1.616265e-06   5.748225e-04                 4          0.816642    PRUNED  \n",
       "19  4.447144e-05   1.165282e-07                10          0.924721    PRUNED  "
      ]
     },
     "execution_count": 16,
     "metadata": {},
     "output_type": "execute_result"
    }
   ],
   "source": [
    "study_df"
   ]
  },
  {
   "cell_type": "code",
   "execution_count": 17,
   "metadata": {},
   "outputs": [
    {
     "data": {
      "text/plain": [
       "<AxesSubplot:title={'center':'Optimization History Plot'}, xlabel='#Trials', ylabel='Objective Value'>"
      ]
     },
     "execution_count": 17,
     "metadata": {},
     "output_type": "execute_result"
    },
    {
     "data": {
      "image/png": "[encoded data removed]",
      "text/plain": [
       "<Figure size 640x480 with 1 Axes>"
      ]
     },
     "metadata": {},
     "output_type": "display_data"
    }
   ],
   "source": [
    "optuna.visualization.matplotlib.plot_optimization_history(study)"
   ]
  },
  {
   "cell_type": "code",
   "execution_count": 18,
   "metadata": {},
   "outputs": [
    {
     "data": {
      "text/plain": [
       "<AxesSubplot:title={'center':'Hyperparameter Importances'}, xlabel='Importance for Objective Value', ylabel='Hyperparameter'>"
      ]
     },
     "execution_count": 18,
     "metadata": {},
     "output_type": "execute_result"
    },
    {
     "data": {
      "image/png": "[encoded data removed]",
      "text/plain": [
       "<Figure size 640x480 with 1 Axes>"
      ]
     },
     "metadata": {},
     "output_type": "display_data"
    }
   ],
   "source": [
    "optuna.visualization.matplotlib.plot_param_importances(study)"
   ]
  },
  {
   "cell_type": "code",
   "execution_count": 19,
   "metadata": {},
   "outputs": [],
   "source": [
    "X_train, X_test, y_train, y_test = train_test_split(X, y, test_size=0.2)"
   ]
  },
  {
   "cell_type": "code",
   "execution_count": 20,
   "metadata": {},
   "outputs": [
    {
     "data": {
      "text/html": [
       "<div>\n",
       "<style scoped>\n",
       "    .dataframe tbody tr th:only-of-type {\n",
       "        vertical-align: middle;\n",
       "    }\n",
       "\n",
       "    .dataframe tbody tr th {\n",
       "        vertical-align: top;\n",
       "    }\n",
       "\n",
       "    .dataframe thead th {\n",
       "        text-align: right;\n",
       "    }\n",
       "</style>\n",
       "<table border=\"1\" class=\"dataframe\">\n",
       "  <thead>\n",
       "    <tr style=\"text-align: right;\">\n",
       "      <th></th>\n",
       "      <th>count</th>\n",
       "      <th>mean</th>\n",
       "      <th>std</th>\n",
       "      <th>min</th>\n",
       "      <th>25%</th>\n",
       "      <th>50%</th>\n",
       "      <th>75%</th>\n",
       "      <th>max</th>\n",
       "    </tr>\n",
       "  </thead>\n",
       "  <tbody>\n",
       "    <tr>\n",
       "      <th>sur_refl_b01_1</th>\n",
       "      <td>800.0</td>\n",
       "      <td>1215.657471</td>\n",
       "      <td>1287.519409</td>\n",
       "      <td>8.000000</td>\n",
       "      <td>241.000000</td>\n",
       "      <td>894.000000</td>\n",
       "      <td>1896.000000</td>\n",
       "      <td>9045.000000</td>\n",
       "    </tr>\n",
       "    <tr>\n",
       "      <th>sur_refl_b02_1</th>\n",
       "      <td>800.0</td>\n",
       "      <td>1579.997559</td>\n",
       "      <td>1552.691284</td>\n",
       "      <td>1.000000</td>\n",
       "      <td>173.750000</td>\n",
       "      <td>1429.000000</td>\n",
       "      <td>2687.500000</td>\n",
       "      <td>8795.000000</td>\n",
       "    </tr>\n",
       "    <tr>\n",
       "      <th>sur_refl_b03_1</th>\n",
       "      <td>800.0</td>\n",
       "      <td>737.020020</td>\n",
       "      <td>994.589294</td>\n",
       "      <td>-100.000000</td>\n",
       "      <td>278.250000</td>\n",
       "      <td>557.500000</td>\n",
       "      <td>853.000000</td>\n",
       "      <td>8844.000000</td>\n",
       "    </tr>\n",
       "    <tr>\n",
       "      <th>sur_refl_b04_1</th>\n",
       "      <td>800.0</td>\n",
       "      <td>1024.869995</td>\n",
       "      <td>1058.521484</td>\n",
       "      <td>6.000000</td>\n",
       "      <td>409.250000</td>\n",
       "      <td>824.000000</td>\n",
       "      <td>1301.750000</td>\n",
       "      <td>9056.000000</td>\n",
       "    </tr>\n",
       "    <tr>\n",
       "      <th>sur_refl_b05_1</th>\n",
       "      <td>800.0</td>\n",
       "      <td>1969.298706</td>\n",
       "      <td>1464.401611</td>\n",
       "      <td>-92.000000</td>\n",
       "      <td>542.750000</td>\n",
       "      <td>1829.500000</td>\n",
       "      <td>3241.750000</td>\n",
       "      <td>6382.000000</td>\n",
       "    </tr>\n",
       "    <tr>\n",
       "      <th>sur_refl_b06_1</th>\n",
       "      <td>800.0</td>\n",
       "      <td>1936.926270</td>\n",
       "      <td>1542.930908</td>\n",
       "      <td>45.000000</td>\n",
       "      <td>511.250000</td>\n",
       "      <td>1501.500000</td>\n",
       "      <td>3275.750000</td>\n",
       "      <td>6610.000000</td>\n",
       "    </tr>\n",
       "    <tr>\n",
       "      <th>sur_refl_b07_1</th>\n",
       "      <td>800.0</td>\n",
       "      <td>1592.518799</td>\n",
       "      <td>1393.591431</td>\n",
       "      <td>0.000000</td>\n",
       "      <td>316.750000</td>\n",
       "      <td>1189.000000</td>\n",
       "      <td>2736.250000</td>\n",
       "      <td>6128.000000</td>\n",
       "    </tr>\n",
       "    <tr>\n",
       "      <th>ndvi</th>\n",
       "      <td>800.0</td>\n",
       "      <td>84.858688</td>\n",
       "      <td>2493.571533</td>\n",
       "      <td>-9493.670898</td>\n",
       "      <td>-1464.345184</td>\n",
       "      <td>677.653564</td>\n",
       "      <td>1760.276154</td>\n",
       "      <td>8587.457031</td>\n",
       "    </tr>\n",
       "    <tr>\n",
       "      <th>ndwi1</th>\n",
       "      <td>800.0</td>\n",
       "      <td>-2287.162109</td>\n",
       "      <td>3417.640869</td>\n",
       "      <td>-9862.069336</td>\n",
       "      <td>-4552.818359</td>\n",
       "      <td>-1590.585571</td>\n",
       "      <td>-767.239532</td>\n",
       "      <td>8823.803711</td>\n",
       "    </tr>\n",
       "    <tr>\n",
       "      <th>ndwi2</th>\n",
       "      <td>800.0</td>\n",
       "      <td>-856.394897</td>\n",
       "      <td>3853.531006</td>\n",
       "      <td>-9692.307617</td>\n",
       "      <td>-2620.540100</td>\n",
       "      <td>-704.511658</td>\n",
       "      <td>850.627075</td>\n",
       "      <td>10000.000000</td>\n",
       "    </tr>\n",
       "  </tbody>\n",
       "</table>\n",
       "</div>"
      ],
      "text/plain": [
       "                count         mean          std          min          25%  \\\n",
       "sur_refl_b01_1  800.0  1215.657471  1287.519409     8.000000   241.000000   \n",
       "sur_refl_b02_1  800.0  1579.997559  1552.691284     1.000000   173.750000   \n",
       "sur_refl_b03_1  800.0   737.020020   994.589294  -100.000000   278.250000   \n",
       "sur_refl_b04_1  800.0  1024.869995  1058.521484     6.000000   409.250000   \n",
       "sur_refl_b05_1  800.0  1969.298706  1464.401611   -92.000000   542.750000   \n",
       "sur_refl_b06_1  800.0  1936.926270  1542.930908    45.000000   511.250000   \n",
       "sur_refl_b07_1  800.0  1592.518799  1393.591431     0.000000   316.750000   \n",
       "ndvi            800.0    84.858688  2493.571533 -9493.670898 -1464.345184   \n",
       "ndwi1           800.0 -2287.162109  3417.640869 -9862.069336 -4552.818359   \n",
       "ndwi2           800.0  -856.394897  3853.531006 -9692.307617 -2620.540100   \n",
       "\n",
       "                        50%          75%           max  \n",
       "sur_refl_b01_1   894.000000  1896.000000   9045.000000  \n",
       "sur_refl_b02_1  1429.000000  2687.500000   8795.000000  \n",
       "sur_refl_b03_1   557.500000   853.000000   8844.000000  \n",
       "sur_refl_b04_1   824.000000  1301.750000   9056.000000  \n",
       "sur_refl_b05_1  1829.500000  3241.750000   6382.000000  \n",
       "sur_refl_b06_1  1501.500000  3275.750000   6610.000000  \n",
       "sur_refl_b07_1  1189.000000  2736.250000   6128.000000  \n",
       "ndvi             677.653564  1760.276154   8587.457031  \n",
       "ndwi1          -1590.585571  -767.239532   8823.803711  \n",
       "ndwi2           -704.511658   850.627075  10000.000000  "
      ]
     },
     "execution_count": 20,
     "metadata": {},
     "output_type": "execute_result"
    }
   ],
   "source": [
    "X_train.describe().T"
   ]
  },
  {
   "cell_type": "code",
   "execution_count": 21,
   "metadata": {},
   "outputs": [
    {
     "name": "stdout",
     "output_type": "stream",
     "text": [
      "Using these params:\n",
      "{'alpha': 0.0021504797560342476,\n",
      " 'booster': 'dart',\n",
      " 'eta': 0.38784195289114787,\n",
      " 'gamma': 0.005612739708215123,\n",
      " 'lambda': 2.3649536028349473e-06,\n",
      " 'max_depth': 9,\n",
      " 'n_jobs': -1,\n",
      " 'subsample': 0.9582099179768389}\n"
     ]
    }
   ],
   "source": [
    "hyperparameters = best_trial_params\n",
    "\n",
    "base_params = {\"n_jobs\": -1}\n",
    "\n",
    "hyperparameters.update(base_params)\n",
    "print('Using these params:')\n",
    "pprint(hyperparameters)\n",
    "classifier = xgb.XGBClassifier(**hyperparameters)"
   ]
  },
  {
   "cell_type": "code",
   "execution_count": 22,
   "metadata": {},
   "outputs": [
    {
     "name": "stdout",
     "output_type": "stream",
     "text": [
      "CPU times: user 4.5 s, sys: 206 ms, total: 4.71 s\n",
      "Wall time: 450 ms\n"
     ]
    },
    {
     "data": {
      "text/html": [
       "<style>#sk-container-id-1 {color: black;background-color: white;}#sk-container-id-1 pre{padding: 0;}#sk-container-id-1 div.sk-toggleable {background-color: white;}#sk-container-id-1 label.sk-toggleable__label {cursor: pointer;display: block;width: 100%;margin-bottom: 0;padding: 0.3em;box-sizing: border-box;text-align: center;}#sk-container-id-1 label.sk-toggleable__label-arrow:before {content: \"▸\";float: left;margin-right: 0.25em;color: #696969;}#sk-container-id-1 label.sk-toggleable__label-arrow:hover:before {color: black;}#sk-container-id-1 div.sk-estimator:hover label.sk-toggleable__label-arrow:before {color: black;}#sk-container-id-1 div.sk-toggleable__content {max-height: 0;max-width: 0;overflow: hidden;text-align: left;background-color: #f0f8ff;}#sk-container-id-1 div.sk-toggleable__content pre {margin: 0.2em;color: black;border-radius: 0.25em;background-color: #f0f8ff;}#sk-container-id-1 input.sk-toggleable__control:checked~div.sk-toggleable__content {max-height: 200px;max-width: 100%;overflow: auto;}#sk-container-id-1 input.sk-toggleable__control:checked~label.sk-toggleable__label-arrow:before {content: \"▾\";}#sk-container-id-1 div.sk-estimator input.sk-toggleable__control:checked~label.sk-toggleable__label {background-color: #d4ebff;}#sk-container-id-1 div.sk-label input.sk-toggleable__control:checked~label.sk-toggleable__label {background-color: #d4ebff;}#sk-container-id-1 input.sk-hidden--visually {border: 0;clip: rect(1px 1px 1px 1px);clip: rect(1px, 1px, 1px, 1px);height: 1px;margin: -1px;overflow: hidden;padding: 0;position: absolute;width: 1px;}#sk-container-id-1 div.sk-estimator {font-family: monospace;background-color: #f0f8ff;border: 1px dotted black;border-radius: 0.25em;box-sizing: border-box;margin-bottom: 0.5em;}#sk-container-id-1 div.sk-estimator:hover {background-color: #d4ebff;}#sk-container-id-1 div.sk-parallel-item::after {content: \"\";width: 100%;border-bottom: 1px solid gray;flex-grow: 1;}#sk-container-id-1 div.sk-label:hover label.sk-toggleable__label {background-color: #d4ebff;}#sk-container-id-1 div.sk-serial::before {content: \"\";position: absolute;border-left: 1px solid gray;box-sizing: border-box;top: 0;bottom: 0;left: 50%;z-index: 0;}#sk-container-id-1 div.sk-serial {display: flex;flex-direction: column;align-items: center;background-color: white;padding-right: 0.2em;padding-left: 0.2em;position: relative;}#sk-container-id-1 div.sk-item {position: relative;z-index: 1;}#sk-container-id-1 div.sk-parallel {display: flex;align-items: stretch;justify-content: center;background-color: white;position: relative;}#sk-container-id-1 div.sk-item::before, #sk-container-id-1 div.sk-parallel-item::before {content: \"\";position: absolute;border-left: 1px solid gray;box-sizing: border-box;top: 0;bottom: 0;left: 50%;z-index: -1;}#sk-container-id-1 div.sk-parallel-item {display: flex;flex-direction: column;z-index: 1;position: relative;background-color: white;}#sk-container-id-1 div.sk-parallel-item:first-child::after {align-self: flex-end;width: 50%;}#sk-container-id-1 div.sk-parallel-item:last-child::after {align-self: flex-start;width: 50%;}#sk-container-id-1 div.sk-parallel-item:only-child::after {width: 0;}#sk-container-id-1 div.sk-dashed-wrapped {border: 1px dashed gray;margin: 0 0.4em 0.5em 0.4em;box-sizing: border-box;padding-bottom: 0.4em;background-color: white;}#sk-container-id-1 div.sk-label label {font-family: monospace;font-weight: bold;display: inline-block;line-height: 1.2em;}#sk-container-id-1 div.sk-label-container {text-align: center;}#sk-container-id-1 div.sk-container {/* jupyter's `normalize.less` sets `[hidden] { display: none; }` but bootstrap.min.css set `[hidden] { display: none !important; }` so we also need the `!important` here to be able to override the default hidden behavior on the sphinx rendered scikit-learn.org. See: https://github.com/scikit-learn/scikit-learn/issues/21755 */display: inline-block !important;position: relative;}#sk-container-id-1 div.sk-text-repr-fallback {display: none;}</style><div id=\"sk-container-id-1\" class=\"sk-top-container\"><div class=\"sk-text-repr-fallback\"><pre>XGBClassifier(alpha=0.0021504797560342476, base_score=0.5, booster=&#x27;dart&#x27;,\n",
       "              callbacks=None, colsample_bylevel=1, colsample_bynode=1,\n",
       "              colsample_bytree=1, early_stopping_rounds=None,\n",
       "              enable_categorical=False, eta=0.38784195289114787,\n",
       "              eval_metric=None, gamma=0.005612739708215123, gpu_id=-1,\n",
       "              grow_policy=&#x27;depthwise&#x27;, importance_type=None,\n",
       "              interaction_constraints=&#x27;&#x27;, lambda=2.3649536028349473e-06,\n",
       "              learning_rate=0.38784194, max_bin=256, max_cat_to_onehot=4,\n",
       "              max_delta_step=0, max_depth=9, max_leaves=0, min_child_weight=1,\n",
       "              missing=nan, monotone_constraints=&#x27;()&#x27;, n_estimators=100,\n",
       "              n_jobs=-1, num_parallel_tree=1, predictor=&#x27;auto&#x27;, ...)</pre><b>In a Jupyter environment, please rerun this cell to show the HTML representation or trust the notebook. <br />On GitHub, the HTML representation is unable to render, please try loading this page with nbviewer.org.</b></div><div class=\"sk-container\" hidden><div class=\"sk-item\"><div class=\"sk-estimator sk-toggleable\"><input class=\"sk-toggleable__control sk-hidden--visually\" id=\"sk-estimator-id-1\" type=\"checkbox\" checked><label for=\"sk-estimator-id-1\" class=\"sk-toggleable__label sk-toggleable__label-arrow\">XGBClassifier</label><div class=\"sk-toggleable__content\"><pre>XGBClassifier(alpha=0.0021504797560342476, base_score=0.5, booster=&#x27;dart&#x27;,\n",
       "              callbacks=None, colsample_bylevel=1, colsample_bynode=1,\n",
       "              colsample_bytree=1, early_stopping_rounds=None,\n",
       "              enable_categorical=False, eta=0.38784195289114787,\n",
       "              eval_metric=None, gamma=0.005612739708215123, gpu_id=-1,\n",
       "              grow_policy=&#x27;depthwise&#x27;, importance_type=None,\n",
       "              interaction_constraints=&#x27;&#x27;, lambda=2.3649536028349473e-06,\n",
       "              learning_rate=0.38784194, max_bin=256, max_cat_to_onehot=4,\n",
       "              max_delta_step=0, max_depth=9, max_leaves=0, min_child_weight=1,\n",
       "              missing=nan, monotone_constraints=&#x27;()&#x27;, n_estimators=100,\n",
       "              n_jobs=-1, num_parallel_tree=1, predictor=&#x27;auto&#x27;, ...)</pre></div></div></div></div></div>"
      ],
      "text/plain": [
       "XGBClassifier(alpha=0.0021504797560342476, base_score=0.5, booster='dart',\n",
       "              callbacks=None, colsample_bylevel=1, colsample_bynode=1,\n",
       "              colsample_bytree=1, early_stopping_rounds=None,\n",
       "              enable_categorical=False, eta=0.38784195289114787,\n",
       "              eval_metric=None, gamma=0.005612739708215123, gpu_id=-1,\n",
       "              grow_policy='depthwise', importance_type=None,\n",
       "              interaction_constraints='', lambda=2.3649536028349473e-06,\n",
       "              learning_rate=0.38784194, max_bin=256, max_cat_to_onehot=4,\n",
       "              max_delta_step=0, max_depth=9, max_leaves=0, min_child_weight=1,\n",
       "              missing=nan, monotone_constraints='()', n_estimators=100,\n",
       "              n_jobs=-1, num_parallel_tree=1, predictor='auto', ...)"
      ]
     },
     "execution_count": 22,
     "metadata": {},
     "output_type": "execute_result"
    }
   ],
   "source": [
    "%%time\n",
    "\n",
    "classifier.fit(X_train, y_train)"
   ]
  },
  {
   "cell_type": "markdown",
   "metadata": {},
   "source": [
    "### Get model metrics"
   ]
  },
  {
   "cell_type": "code",
   "execution_count": 23,
   "metadata": {},
   "outputs": [
    {
     "data": {
      "text/plain": [
       "0.98"
      ]
     },
     "execution_count": 23,
     "metadata": {},
     "output_type": "execute_result"
    }
   ],
   "source": [
    "score = classifier.score(X_test, y_test)\n",
    "score = round(score, 3)\n",
    "score"
   ]
  },
  {
   "cell_type": "code",
   "execution_count": 24,
   "metadata": {},
   "outputs": [],
   "source": [
    "train_predictions = classifier.predict(X_train)\n",
    "test_predictions = classifier.predict(X_test)\n",
    "prediction_probs = classifier.predict_proba(X_test)"
   ]
  },
  {
   "cell_type": "code",
   "execution_count": 25,
   "metadata": {},
   "outputs": [],
   "source": [
    "test_predictions = test_predictions.astype(np.int16)\n",
    "y_test_int = y_test.astype(np.int16)"
   ]
  },
  {
   "cell_type": "code",
   "execution_count": 26,
   "metadata": {},
   "outputs": [
    {
     "name": "stdout",
     "output_type": "stream",
     "text": [
      "Train Performance\n",
      "-------------------------------------------------------\n",
      "              precision    recall  f1-score   support\n",
      "\n",
      "         0.0       1.00      1.00      1.00       393\n",
      "         1.0       1.00      1.00      1.00       407\n",
      "\n",
      "    accuracy                           1.00       800\n",
      "   macro avg       1.00      1.00      1.00       800\n",
      "weighted avg       1.00      1.00      1.00       800\n",
      "\n",
      "Test Performance\n",
      "-------------------------------------------------------\n",
      "              precision    recall  f1-score   support\n",
      "\n",
      "         0.0       0.99      0.97      0.98       107\n",
      "         1.0       0.97      0.99      0.98        93\n",
      "\n",
      "    accuracy                           0.98       200\n",
      "   macro avg       0.98      0.98      0.98       200\n",
      "weighted avg       0.98      0.98      0.98       200\n",
      "\n",
      "Test Recall\n",
      "-------------------------------------------------------\n",
      "0.9719626168224299\n",
      "Confusion Matrix\n",
      "-------------------------------------------------------\n",
      "[[104   3]\n",
      " [  1  92]]\n"
     ]
    }
   ],
   "source": [
    "print('Train Performance')\n",
    "print('-------------------------------------------------------')\n",
    "print(classification_report(y_train, train_predictions))\n",
    "print('Test Performance')\n",
    "print('-------------------------------------------------------')\n",
    "print(classification_report(y_test, test_predictions))\n",
    "cm = confusion_matrix(y_test_int, test_predictions)\n",
    "recall = (cm[0][0] / (cm[0][0] + cm[0][1]))\n",
    "print('Test Recall')\n",
    "print('-------------------------------------------------------')\n",
    "print(recall)\n",
    "print('Confusion Matrix')\n",
    "print('-------------------------------------------------------')\n",
    "print(cm)"
   ]
  },
  {
   "cell_type": "code",
   "execution_count": 27,
   "metadata": {},
   "outputs": [
    {
     "name": "stdout",
     "output_type": "stream",
     "text": [
      "CPU times: user 9.11 s, sys: 329 ms, total: 9.44 s\n",
      "Wall time: 892 ms\n"
     ]
    }
   ],
   "source": [
    "%%time\n",
    "permutation_importance_results = permutation_importance(classifier,\n",
    "                                                        X=X_test,\n",
    "                                                        y=y_test,\n",
    "                                                        n_repeats=10,\n",
    "                                                        random_state=42)"
   ]
  },
  {
   "cell_type": "code",
   "execution_count": 28,
   "metadata": {},
   "outputs": [
    {
     "data": {
      "text/plain": [
       "Text(0.5, 0, 'Permutation Importance')"
      ]
     },
     "execution_count": 28,
     "metadata": {},
     "output_type": "execute_result"
    },
    {
     "data": {
      "image/png": "[encoded data removed]",
      "text/plain": [
       "<Figure size 800x800 with 1 Axes>"
      ]
     },
     "metadata": {},
     "output_type": "display_data"
    }
   ],
   "source": [
    "sorted_idx = permutation_importance_results.importances_mean.argsort()\n",
    "plt.figure(figsize=(8, 8))\n",
    "plt.barh(X_test.columns[sorted_idx], permutation_importance_results.importances_mean[sorted_idx])\n",
    "plt.xlabel(\"Permutation Importance\")"
   ]
  },
  {
   "cell_type": "code",
   "execution_count": 29,
   "metadata": {},
   "outputs": [],
   "source": [
    "del X_train, X_test, y_train, y_test, test_predictions, train_predictions, prediction_probs, y_test_int"
   ]
  },
  {
   "cell_type": "markdown",
   "metadata": {},
   "source": [
    "## Save the model for future use"
   ]
  },
  {
   "cell_type": "code",
   "execution_count": 30,
   "metadata": {},
   "outputs": [
    {
     "name": "stdout",
     "output_type": "stream",
     "text": [
      "Saving model to: ./water_classifier_xgb_cpu.sav\n",
      "XGBClassifier(alpha=0.0021504797560342476, base_score=0.5, booster='dart',\n",
      "              callbacks=None, colsample_bylevel=1, colsample_bynode=1,\n",
      "              colsample_bytree=1, early_stopping_rounds=None,\n",
      "              enable_categorical=False, eta=0.38784195289114787,\n",
      "              eval_metric=None, gamma=0.005612739708215123, gpu_id=-1,\n",
      "              grow_policy='depthwise', importance_type=None,\n",
      "              interaction_constraints='', lambda=2.3649536028349473e-06,\n",
      "              learning_rate=0.38784194, max_bin=256, max_cat_to_onehot=4,\n",
      "              max_delta_step=0, max_depth=9, max_leaves=0, min_child_weight=1,\n",
      "              missing=nan, monotone_constraints='()', n_estimators=100,\n",
      "              n_jobs=-1, num_parallel_tree=1, predictor='auto', ...)\n"
     ]
    },
    {
     "data": {
      "text/plain": [
       "['./water_classifier_xgb_cpu.sav']"
      ]
     },
     "execution_count": 30,
     "metadata": {},
     "output_type": "execute_result"
    }
   ],
   "source": [
    "model_save_path = './water_classifier_xgb_cpu.sav'\n",
    "print('Saving model to: {}'.format(model_save_path))\n",
    "print(classifier)\n",
    "joblib.dump(classifier, model_save_path, compress=3)"
   ]
  },
  {
   "cell_type": "markdown",
   "metadata": {},
   "source": [
    "# Testing: Raster testing"
   ]
  },
  {
   "cell_type": "markdown",
   "metadata": {},
   "source": [
    "### Read in data \n",
    "\n",
    "These are modified MOD09GA and MOD09GQ products for the 2001 julian day 155. They were modified to be clipped to the Lake Powell region."
   ]
  },
  {
   "cell_type": "code",
   "execution_count": 31,
   "metadata": {},
   "outputs": [],
   "source": [
    "fileList = sorted([file for file in glob.glob('../data/IL.*.Powell.*.tif') if 'sur_refl' in file])"
   ]
  },
  {
   "cell_type": "code",
   "execution_count": 32,
   "metadata": {},
   "outputs": [],
   "source": [
    "def readRastersToArray(fileList):\n",
    "    rasterProjection = None\n",
    "    newshp = (1300*1300, 10)\n",
    "    img = np.empty(newshp, dtype=np.int16)\n",
    "    for i, fileName in enumerate(fileList):\n",
    "        ds = gdal.Open(fileName)\n",
    "        img[:, i] = ds.GetRasterBand(1).ReadAsArray().astype(np.int16).ravel()\n",
    "        if i == 0:\n",
    "            rasterProjection = ds.GetProjection()\n",
    "        ds = None\n",
    "    img[:, len(fileList)] = ((img[:, 1] - img[:, 0]) / (img[:, 1] + img[:, 0])) * 10000\n",
    "    img[:, len(fileList)+1] = ((img[:, 1] - img[:, 5]) / (img[:, 1] + img[:, 5])) * 10000\n",
    "    img[:, len(fileList)+2] = ((img[:, 1] - img[:, 6]) / (img[:, 1] + img[:, 6])) * 10000\n",
    "    return img, rasterProjection"
   ]
  },
  {
   "cell_type": "code",
   "execution_count": 33,
   "metadata": {},
   "outputs": [
    {
     "name": "stdout",
     "output_type": "stream",
     "text": [
      "Raster as ndarray\n",
      "[[ 1547  2461   857 ...  2280  -518   510]\n",
      " [ 1474  2377   857 ...  2344  -691   337]\n",
      " [ 1474  2377   846 ...  2344  -472   623]\n",
      " ...\n",
      " [ 2358  2979  1028 ...  1163 -1727 -1292]\n",
      " [ 2425  3069  1117 ...  1172 -1721 -1216]\n",
      " [ 2402  3038  1117 ...  1169 -1770 -1266]]\n",
      "33.8 MB size\n",
      "CPU times: user 1.99 s, sys: 101 ms, total: 2.09 s\n",
      "Wall time: 259 ms\n"
     ]
    }
   ],
   "source": [
    "%%time\n",
    "im, rasterProjection = readRastersToArray(fileList)\n",
    "print('Raster as ndarray')\n",
    "print(im)\n",
    "print('{} MB size'.format((im.size * im.itemsize) / 1000000))"
   ]
  },
  {
   "cell_type": "markdown",
   "metadata": {},
   "source": [
    "### Load in the model"
   ]
  },
  {
   "cell_type": "code",
   "execution_count": 34,
   "metadata": {},
   "outputs": [],
   "source": [
    "def predictRaster(img_chunk, colsToDrop=None):\n",
    "    \"\"\"\n",
    "    Function given a raster in the form of a nxn matrix, will\n",
    "    convert the matrix to a GPU-bound data frame then perform \n",
    "    predictions given the loaded model.\n",
    "    \n",
    "    Return the prediction matrix, the prediction probabilities\n",
    "    for each and the dataframe converted to host.\n",
    "    \"\"\"\n",
    "    print('Converting host array to CPU-based dataframe')\n",
    "    df = pd.DataFrame(img_chunk, columns=v_names, dtype=np.float32)\n",
    "    df = df.drop(columns=columnsToDrop)\n",
    "    print('Making predictions from raster')\n",
    "    predictions = classifier.predict(df)\n",
    "    predictionsProbs = classifier.predict_proba(df)\n",
    "    return predictions, predictionsProbs, df"
   ]
  },
  {
   "cell_type": "code",
   "execution_count": 35,
   "metadata": {},
   "outputs": [
    {
     "name": "stdout",
     "output_type": "stream",
     "text": [
      "Converting host array to CPU-based dataframe\n",
      "Making predictions from raster\n",
      "CPU times: user 2min 49s, sys: 813 ms, total: 2min 49s\n",
      "Wall time: 14.9 s\n"
     ]
    }
   ],
   "source": [
    "%%time\n",
    "predictedRaster, predictedProbaRaster, df = predictRaster(im)"
   ]
  },
  {
   "cell_type": "markdown",
   "metadata": {},
   "source": [
    "### Description of the predicted probability for each pixel in the raster (no bad-data vals masked yet)"
   ]
  },
  {
   "cell_type": "code",
   "execution_count": 36,
   "metadata": {},
   "outputs": [],
   "source": [
    "shp = (1300, 1300)\n",
    "left = list()\n",
    "right = list()\n",
    "for i, subarr in enumerate(predictedProbaRaster):\n",
    "    left.append(subarr[0])\n",
    "    right.append(subarr[1])\n",
    "leftArr = np.asarray(left)\n",
    "rightArr = np.asarray(right)\n",
    "probaLand = leftArr.reshape(shp)\n",
    "probaWater = rightArr.reshape(shp)"
   ]
  },
  {
   "cell_type": "markdown",
   "metadata": {},
   "source": [
    "#### Reshape the unravelled matrix back to the 4800x4800 raster shape"
   ]
  },
  {
   "cell_type": "code",
   "execution_count": 37,
   "metadata": {},
   "outputs": [
    {
     "data": {
      "text/plain": [
       "(1300, 1300)"
      ]
     },
     "execution_count": 37,
     "metadata": {},
     "output_type": "execute_result"
    }
   ],
   "source": [
    "shp = (1300, 1300)\n",
    "matrix = np.asarray(predictedRaster)\n",
    "reshp = matrix.reshape(shp)\n",
    "reshp.shape"
   ]
  },
  {
   "cell_type": "markdown",
   "metadata": {},
   "source": [
    "Add QA mask to prediction"
   ]
  },
  {
   "cell_type": "code",
   "execution_count": 38,
   "metadata": {},
   "outputs": [
    {
     "data": {
      "text/plain": [
       "array([[1, 1, 1, ..., 1, 1, 1],\n",
       "       [1, 1, 1, ..., 1, 1, 1],\n",
       "       [1, 1, 1, ..., 1, 1, 1],\n",
       "       ...,\n",
       "       [0, 0, 0, ..., 0, 0, 0],\n",
       "       [0, 0, 0, ..., 0, 0, 0],\n",
       "       [0, 0, 0, ..., 0, 0, 0]], dtype=int16)"
      ]
     },
     "execution_count": 38,
     "metadata": {},
     "output_type": "execute_result"
    }
   ],
   "source": [
    "qa = [file for file in glob.glob('../data/*.tif') if 'qa' in file][0]\n",
    "ds = gdal.Open(qa)\n",
    "qaMask = ds.GetRasterBand(1).ReadAsArray()\n",
    "output = np.where(qaMask == 0, reshp, -9999)\n",
    "qaMask"
   ]
  },
  {
   "cell_type": "code",
   "execution_count": 39,
   "metadata": {},
   "outputs": [
    {
     "name": "stdout",
     "output_type": "stream",
     "text": [
      "Predicted\n",
      " No-data occuraces: 61568\n",
      " Land occurances: 1618441\n",
      " Water occurances: 9991\n"
     ]
    }
   ],
   "source": [
    "countNoData = np.count_nonzero(output == -9999)\n",
    "countLand = np.count_nonzero(output == 0)\n",
    "countWater = np.count_nonzero(output == 1)\n",
    "print('Predicted\\n No-data occuraces: {}\\n Land occurances: {}\\n Water occurances: {}'.format(countNoData, countLand, countWater))"
   ]
  },
  {
   "cell_type": "markdown",
   "metadata": {},
   "source": [
    "## Output predicted raster to GeoTiff"
   ]
  },
  {
   "cell_type": "code",
   "execution_count": 40,
   "metadata": {},
   "outputs": [],
   "source": [
    "geoTransform = (-9961223.407, 231.65635, 0.0, 4285642.633667, 0.0, -231.65635)"
   ]
  },
  {
   "cell_type": "code",
   "execution_count": 41,
   "metadata": {},
   "outputs": [],
   "source": [
    "predictedPath = os.path.join(outputRasterPath, 'PowellPredictedWaterMask.tif')\n",
    "\n",
    "driver = gdal.GetDriverByName('GTiff')\n",
    "outDs = driver.Create(predictedPath, 1300, 1300, 1, gdal.GDT_Int16, options=['COMPRESS=LZW'])\n",
    "outDs.SetGeoTransform(geoTransform)\n",
    "outDs.SetProjection(rasterProjection)\n",
    "outBand = outDs.GetRasterBand(1)\n",
    "outBand.WriteArray(output)\n",
    "outBand.SetNoDataValue(-9999)\n",
    "outDs.FlushCache()\n",
    "outDs = None\n",
    "outBand = None\n",
    "driver = None"
   ]
  },
  {
   "cell_type": "markdown",
   "metadata": {},
   "source": [
    "## View predictions with Folium"
   ]
  },
  {
   "cell_type": "code",
   "execution_count": 42,
   "metadata": {},
   "outputs": [],
   "source": [
    "import folium\n",
    "from folium import plugins\n",
    "\n",
    "sys.path.append('../scripts')\n",
    "import folium_helper"
   ]
  },
  {
   "cell_type": "code",
   "execution_count": 43,
   "metadata": {},
   "outputs": [
    {
     "name": "stdout",
     "output_type": "stream",
     "text": [
      "Transform: | 491.82, 0.00,-12749861.52|\n",
      "| 0.00,-491.82, 4656230.30|\n",
      "| 0.00, 0.00, 1.00|\n",
      "Width: 1670 Height: 770\n"
     ]
    }
   ],
   "source": [
    "mask_3857 = folium_helper.reproject_to_3857(predictedPath)\n",
    "mask_d = folium_helper.get_bounds(mask_3857)\n",
    "mask_b1 = folium_helper.open_and_get_band(mask_3857, 1)\n",
    "folium_helper.cleanup(mask_3857)\n",
    "mask_b1 = np.where(mask_b1 == -9999, 0, mask_b1)\n",
    "zeros = np.zeros_like(mask_b1)\n",
    "mask_rgb = np.dstack((mask_b1, zeros, zeros))"
   ]
  },
  {
   "cell_type": "code",
   "execution_count": 44,
   "metadata": {},
   "outputs": [],
   "source": [
    "m = folium.Map(location=[mask_d['center'][1], mask_d['center'][0]],\n",
    "                   tiles='https://mt1.google.com/vt/lyrs=s&x={x}&y={y}&z={z}', zoom_start = 6, attr='Google')"
   ]
  },
  {
   "cell_type": "code",
   "execution_count": 45,
   "metadata": {},
   "outputs": [
    {
     "data": {
      "text/html": [
       "<div style=\"width:100%;\"><div style=\"position:relative;width:100%;height:0;padding-bottom:60%;\"><span style=\"color:#565656\">Make this Notebook Trusted to load map: File -> Trust Notebook</span><iframe srcdoc=\"&lt;!DOCTYPE html&gt;\n",
       "&lt;head&gt;    \n",
       "    &lt;meta http-equiv=&quot;content-type&quot; content=&quot;text/html; charset=UTF-8&quot; /&gt;\n",
       "    \n",
       "        &lt;script&gt;\n",
       "            L_NO_TOUCH = false;\n",
       "            L_DISABLE_3D = false;\n",
       "        &lt;/script&gt;\n",
       "    \n",
       "    &lt;style&gt;html, body {width: 100%;height: 100%;margin: 0;padding: 0;}&lt;/style&gt;\n",
       "    &lt;style&gt;#map {position:absolute;top:0;bottom:0;right:0;left:0;}&lt;/style&gt;\n",
       "    &lt;script src=&quot;https://cdn.jsdelivr.net/npm/leaflet@1.6.0/dist/leaflet.js&quot;&gt;&lt;/script&gt;\n",
       "    &lt;script src=&quot;https://code.jquery.com/jquery-1.12.4.min.js&quot;&gt;&lt;/script&gt;\n",
       "    &lt;script src=&quot;https://maxcdn.bootstrapcdn.com/bootstrap/3.2.0/js/bootstrap.min.js&quot;&gt;&lt;/script&gt;\n",
       "    &lt;script src=&quot;https://cdnjs.cloudflare.com/ajax/libs/Leaflet.awesome-markers/2.0.2/leaflet.awesome-markers.js&quot;&gt;&lt;/script&gt;\n",
       "    &lt;link rel=&quot;stylesheet&quot; href=&quot;https://cdn.jsdelivr.net/npm/leaflet@1.6.0/dist/leaflet.css&quot;/&gt;\n",
       "    &lt;link rel=&quot;stylesheet&quot; href=&quot;https://maxcdn.bootstrapcdn.com/bootstrap/3.2.0/css/bootstrap.min.css&quot;/&gt;\n",
       "    &lt;link rel=&quot;stylesheet&quot; href=&quot;https://maxcdn.bootstrapcdn.com/bootstrap/3.2.0/css/bootstrap-theme.min.css&quot;/&gt;\n",
       "    &lt;link rel=&quot;stylesheet&quot; href=&quot;https://maxcdn.bootstrapcdn.com/font-awesome/4.6.3/css/font-awesome.min.css&quot;/&gt;\n",
       "    &lt;link rel=&quot;stylesheet&quot; href=&quot;https://cdnjs.cloudflare.com/ajax/libs/Leaflet.awesome-markers/2.0.2/leaflet.awesome-markers.css&quot;/&gt;\n",
       "    &lt;link rel=&quot;stylesheet&quot; href=&quot;https://cdn.jsdelivr.net/gh/python-visualization/folium/folium/templates/leaflet.awesome.rotate.min.css&quot;/&gt;\n",
       "    \n",
       "            &lt;meta name=&quot;viewport&quot; content=&quot;width=device-width,\n",
       "                initial-scale=1.0, maximum-scale=1.0, user-scalable=no&quot; /&gt;\n",
       "            &lt;style&gt;\n",
       "                #map_c7b95c886700cf980c8c8adfb8938867 {\n",
       "                    position: relative;\n",
       "                    width: 100.0%;\n",
       "                    height: 100.0%;\n",
       "                    left: 0.0%;\n",
       "                    top: 0.0%;\n",
       "                }\n",
       "            &lt;/style&gt;\n",
       "        \n",
       "    \n",
       "                &lt;style&gt;\n",
       "                    .leaflet-image-layer {\n",
       "                        /* old android/safari*/\n",
       "                        image-rendering: -webkit-optimize-contrast;\n",
       "                        image-rendering: crisp-edges; /* safari */\n",
       "                        image-rendering: pixelated; /* chrome */\n",
       "                        image-rendering: -moz-crisp-edges; /* firefox */\n",
       "                        image-rendering: -o-crisp-edges; /* opera */\n",
       "                        -ms-interpolation-mode: nearest-neighbor; /* ie */\n",
       "                    }\n",
       "                &lt;/style&gt;\n",
       "            \n",
       "    &lt;script src=&quot;https://cdn.jsdelivr.net/gh/ardhi/Leaflet.MousePosition/src/L.Control.MousePosition.min.js&quot;&gt;&lt;/script&gt;\n",
       "    &lt;link rel=&quot;stylesheet&quot; href=&quot;https://cdn.jsdelivr.net/gh/ardhi/Leaflet.MousePosition/src/L.Control.MousePosition.min.css&quot;/&gt;\n",
       "&lt;/head&gt;\n",
       "&lt;body&gt;    \n",
       "    \n",
       "            &lt;div class=&quot;folium-map&quot; id=&quot;map_c7b95c886700cf980c8c8adfb8938867&quot; &gt;&lt;/div&gt;\n",
       "        \n",
       "&lt;/body&gt;\n",
       "&lt;script&gt;    \n",
       "    \n",
       "            var map_c7b95c886700cf980c8c8adfb8938867 = L.map(\n",
       "                &quot;map_c7b95c886700cf980c8c8adfb8938867&quot;,\n",
       "                {\n",
       "                    center: [37.1868364898923, -110.84485924937243],\n",
       "                    crs: L.CRS.EPSG3857,\n",
       "                    zoom: 6,\n",
       "                    zoomControl: true,\n",
       "                    preferCanvas: false,\n",
       "                }\n",
       "            );\n",
       "\n",
       "            \n",
       "\n",
       "        \n",
       "    \n",
       "            var tile_layer_0f7a54465729047d2a02fc3fc91c2684 = L.tileLayer(\n",
       "                &quot;https://mt1.google.com/vt/lyrs=s\\u0026x={x}\\u0026y={y}\\u0026z={z}&quot;,\n",
       "                {&quot;attribution&quot;: &quot;Google&quot;, &quot;detectRetina&quot;: false, &quot;maxNativeZoom&quot;: 18, &quot;maxZoom&quot;: 18, &quot;minZoom&quot;: 0, &quot;noWrap&quot;: false, &quot;opacity&quot;: 1, &quot;subdomains&quot;: &quot;abc&quot;, &quot;tms&quot;: false}\n",
       "            ).addTo(map_c7b95c886700cf980c8c8adfb8938867);\n",
       "        \n",
       "    \n",
       "            var image_overlay_6f8bb5cda49413ac39ec49a1761e973c = L.imageOverlay(\n",
       "                &quot;data:image/png;base64,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&quot;,\n",
       "                [[35.8320062645529, -114.53395477030668], [38.541666715231706, -107.15576372843819]],\n",
       "                {&quot;opacity&quot;: 0.6}\n",
       "            ).addTo(map_c7b95c886700cf980c8c8adfb8938867);\n",
       "        \n",
       "    \n",
       "            var mouse_position_b38b5c86b6e4a954c8ce6700578d6723 = new L.Control.MousePosition(\n",
       "                {&quot;emptyString&quot;: &quot;Unavailable&quot;, &quot;lngFirst&quot;: false, &quot;numDigits&quot;: 5, &quot;position&quot;: &quot;bottomright&quot;, &quot;prefix&quot;: &quot;&quot;, &quot;separator&quot;: &quot; : &quot;}\n",
       "            );\n",
       "            mouse_position_b38b5c86b6e4a954c8ce6700578d6723.options[&quot;latFormatter&quot;] =\n",
       "                undefined;\n",
       "            mouse_position_b38b5c86b6e4a954c8ce6700578d6723.options[&quot;lngFormatter&quot;] =\n",
       "                undefined;\n",
       "            map_c7b95c886700cf980c8c8adfb8938867.addControl(mouse_position_b38b5c86b6e4a954c8ce6700578d6723);\n",
       "        \n",
       "    \n",
       "            var layer_control_c03557d8e12054b60bfcca1e18f5c64e = {\n",
       "                base_layers : {\n",
       "                    &quot;https://mt1.google.com/vt/lyrs=s\\u0026x={x}\\u0026y={y}\\u0026z={z}&quot; : tile_layer_0f7a54465729047d2a02fc3fc91c2684,\n",
       "                },\n",
       "                overlays :  {\n",
       "                    &quot;Water classification XGBOOST predicted mask&quot; : image_overlay_6f8bb5cda49413ac39ec49a1761e973c,\n",
       "                },\n",
       "            };\n",
       "            L.control.layers(\n",
       "                layer_control_c03557d8e12054b60bfcca1e18f5c64e.base_layers,\n",
       "                layer_control_c03557d8e12054b60bfcca1e18f5c64e.overlays,\n",
       "                {&quot;autoZIndex&quot;: true, &quot;collapsed&quot;: true, &quot;position&quot;: &quot;topright&quot;}\n",
       "            ).addTo(map_c7b95c886700cf980c8c8adfb8938867);\n",
       "        \n",
       "&lt;/script&gt;\" style=\"position:absolute;width:100%;height:100%;left:0;top:0;border:none !important;\" allowfullscreen webkitallowfullscreen mozallowfullscreen></iframe></div></div>"
      ],
      "text/plain": [
       "<folium.folium.Map at 0x19418b760>"
      ]
     },
     "execution_count": 45,
     "metadata": {},
     "output_type": "execute_result"
    }
   ],
   "source": [
    "m.add_child(folium_helper.get_overlay(mask_rgb, mask_d, 'Water classification XGBOOST predicted mask', opacity=0.6))\n",
    "m.add_child(plugins.MousePosition())\n",
    "m.add_child(folium.LayerControl())"
   ]
  },
  {
   "cell_type": "code",
   "execution_count": null,
   "metadata": {},
   "outputs": [],
   "source": []
  }
 ],
 "metadata": {
  "kernelspec": {
   "display_name": "aicoe",
   "language": "python",
   "name": "aicoe"
  },
  "language_info": {
   "codemirror_mode": {
    "name": "ipython",
    "version": 3
   },
   "file_extension": ".py",
   "mimetype": "text/x-python",
   "name": "python",
   "nbconvert_exporter": "python",
   "pygments_lexer": "ipython3",
   "version": "3.10.5"
  }
 },
 "nbformat": 4,
 "nbformat_minor": 4
}
