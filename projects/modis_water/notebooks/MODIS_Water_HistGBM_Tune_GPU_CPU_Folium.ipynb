{
 "cells": [
  {
   "cell_type": "markdown",
   "metadata": {},
   "source": [
    "# Water Clasification LightGBM CPU\n",
    "\n",
    "Version: DEMO\n",
    "\n",
    "ILAB Team\n",
    "\n",
    "Kernel to use:\n",
    "- (ADAPT PRISM) `Python [conda env:ilab]`\n",
    "\n",
    "This is a demo notebook showcasing how the ILAB team uses sklearn capabilities to perform efficient CPU-based training of a LightGBM classifier algorithm. This notebook also demonstates how to use a raster as a test data-set for the trained model."
   ]
  },
  {
   "cell_type": "code",
   "execution_count": 1,
   "metadata": {},
   "outputs": [
    {
     "data": {
      "text/plain": [
       "'1.1.2'"
      ]
     },
     "execution_count": 1,
     "metadata": {},
     "output_type": "execute_result"
    }
   ],
   "source": [
    "import sklearn\n",
    "sklearn.__version__"
   ]
  },
  {
   "cell_type": "code",
   "execution_count": 2,
   "metadata": {},
   "outputs": [],
   "source": [
    "import csv\n",
    "import datetime\n",
    "import glob\n",
    "import joblib\n",
    "import numpy as np\n",
    "import os\n",
    "import pandas as pd\n",
    "from pathlib import Path\n",
    "import sys\n",
    "from pprint import pprint\n",
    "import time\n",
    "\n",
    "import optuna\n",
    "\n",
    "from sklearn.ensemble import HistGradientBoostingClassifier\n",
    "\n",
    "# Scikit learn\n",
    "from sklearn.metrics import confusion_matrix, accuracy_score, roc_auc_score\n",
    "from sklearn.metrics import classification_report, f1_score\n",
    "from sklearn.model_selection import train_test_split, RandomizedSearchCV, KFold\n",
    "from sklearn.inspection import permutation_importance\n",
    "\n",
    "# Visualization\n",
    "import seaborn as sns\n",
    "import matplotlib.pyplot as plt\n",
    "import warnings\n",
    "\n",
    "#GDAL Stuff\n",
    "from osgeo import gdalconst\n",
    "from osgeo import gdal\n",
    "\n",
    "plt.style.use('fivethirtyeight')\n",
    "warnings.filterwarnings('ignore')\n",
    "%matplotlib inline"
   ]
  },
  {
   "cell_type": "code",
   "execution_count": 3,
   "metadata": {},
   "outputs": [],
   "source": [
    "DATA_TYPE = np.float32"
   ]
  },
  {
   "cell_type": "code",
   "execution_count": 4,
   "metadata": {},
   "outputs": [],
   "source": [
    "v_names = ['sur_refl_b01_1','sur_refl_b02_1','sur_refl_b03_1',\n",
    "           'sur_refl_b04_1','sur_refl_b05_1','sur_refl_b06_1',\n",
    "           'sur_refl_b07_1','ndvi','ndwi1','ndwi2']"
   ]
  },
  {
   "cell_type": "markdown",
   "metadata": {},
   "source": [
    "Add names from above to this list to drop them from training and testing.\n",
    "\n",
    "For example:\n",
    "\n",
    "```python\n",
    "columnsToDrop = ['sur_refl_b01_1', 'sur_refl_b07_1', 'ndwi1']\n",
    "```"
   ]
  },
  {
   "cell_type": "code",
   "execution_count": 5,
   "metadata": {},
   "outputs": [],
   "source": [
    "columnsToDrop = []"
   ]
  },
  {
   "cell_type": "markdown",
   "metadata": {},
   "source": [
    "This is a 1000 row training dataset which has columns for all the features listed in v_names. MODIS MOD09GA and MOD09GQ were the data sources."
   ]
  },
  {
   "cell_type": "code",
   "execution_count": 6,
   "metadata": {},
   "outputs": [],
   "source": [
    "dfPath = '../data/WaterClassificationPowell.parquet.gzip'"
   ]
  },
  {
   "cell_type": "code",
   "execution_count": 7,
   "metadata": {},
   "outputs": [],
   "source": [
    "outputRasterPath = '.'"
   ]
  },
  {
   "cell_type": "code",
   "execution_count": 8,
   "metadata": {},
   "outputs": [
    {
     "name": "stdout",
     "output_type": "stream",
     "text": [
      "Requirement already satisfied: fastparquet in /Users/cssprad1/anaconda3/envs/aicoe_demo/lib/python3.10/site-packages (0.8.1)\n",
      "Requirement already satisfied: pandas>=1.1.0 in /Users/cssprad1/anaconda3/envs/aicoe_demo/lib/python3.10/site-packages (from fastparquet) (1.4.3)\n",
      "Requirement already satisfied: numpy>=1.18 in /Users/cssprad1/anaconda3/envs/aicoe_demo/lib/python3.10/site-packages (from fastparquet) (1.23.2)\n",
      "Requirement already satisfied: fsspec in /Users/cssprad1/anaconda3/envs/aicoe_demo/lib/python3.10/site-packages (from fastparquet) (2022.7.1)\n",
      "Requirement already satisfied: cramjam>=2.3.0 in /Users/cssprad1/anaconda3/envs/aicoe_demo/lib/python3.10/site-packages (from fastparquet) (2.5.0)\n",
      "Requirement already satisfied: python-dateutil>=2.8.1 in /Users/cssprad1/anaconda3/envs/aicoe_demo/lib/python3.10/site-packages (from pandas>=1.1.0->fastparquet) (2.8.2)\n",
      "Requirement already satisfied: pytz>=2020.1 in /Users/cssprad1/anaconda3/envs/aicoe_demo/lib/python3.10/site-packages (from pandas>=1.1.0->fastparquet) (2022.2.1)\n",
      "Requirement already satisfied: six>=1.5 in /Users/cssprad1/anaconda3/envs/aicoe_demo/lib/python3.10/site-packages (from python-dateutil>=2.8.1->pandas>=1.1.0->fastparquet) (1.16.0)\n"
     ]
    }
   ],
   "source": [
    "!pip install fastparquet"
   ]
  },
  {
   "cell_type": "code",
   "execution_count": 9,
   "metadata": {},
   "outputs": [],
   "source": [
    "df = pd.read_parquet(dfPath).astype(DATA_TYPE)\n",
    "df = df.drop(columns=columnsToDrop)\n",
    "X = df.drop(['water'], axis=1)\n",
    "y = df['water']\n",
    "X_train, X_test, y_train, y_test = train_test_split(X, y, test_size=0.2)"
   ]
  },
  {
   "cell_type": "code",
   "execution_count": 10,
   "metadata": {},
   "outputs": [
    {
     "data": {
      "text/plain": [
       "5"
      ]
     },
     "execution_count": 10,
     "metadata": {},
     "output_type": "execute_result"
    }
   ],
   "source": [
    "kf = KFold(n_splits=5)\n",
    "kf.get_n_splits(X_train)"
   ]
  },
  {
   "cell_type": "markdown",
   "metadata": {},
   "source": [
    "## Data \n",
    "- Read in to cuDF Dataframe\n",
    "- Drop unnecessary columns\n",
    "- Split into Xs and Ys"
   ]
  },
  {
   "cell_type": "markdown",
   "metadata": {},
   "source": [
    "## Load in data for use of visualizations \n",
    "(skip this if you just want to train model)"
   ]
  },
  {
   "cell_type": "code",
   "execution_count": 11,
   "metadata": {},
   "outputs": [
    {
     "name": "stdout",
     "output_type": "stream",
     "text": [
      "sur_refl_b01_1\n",
      "sur_refl_b02_1\n",
      "sur_refl_b03_1\n",
      "sur_refl_b04_1\n",
      "sur_refl_b05_1\n",
      "sur_refl_b06_1\n",
      "sur_refl_b07_1\n",
      "ndvi\n",
      "ndwi1\n",
      "ndwi2\n"
     ]
    }
   ],
   "source": [
    "_ = [print(column) for column in X_train.columns]"
   ]
  },
  {
   "cell_type": "code",
   "execution_count": 12,
   "metadata": {},
   "outputs": [
    {
     "data": {
      "text/html": [
       "<div>\n",
       "<style scoped>\n",
       "    .dataframe tbody tr th:only-of-type {\n",
       "        vertical-align: middle;\n",
       "    }\n",
       "\n",
       "    .dataframe tbody tr th {\n",
       "        vertical-align: top;\n",
       "    }\n",
       "\n",
       "    .dataframe thead th {\n",
       "        text-align: right;\n",
       "    }\n",
       "</style>\n",
       "<table border=\"1\" class=\"dataframe\">\n",
       "  <thead>\n",
       "    <tr style=\"text-align: right;\">\n",
       "      <th></th>\n",
       "      <th>count</th>\n",
       "      <th>mean</th>\n",
       "      <th>std</th>\n",
       "      <th>min</th>\n",
       "      <th>25%</th>\n",
       "      <th>50%</th>\n",
       "      <th>75%</th>\n",
       "      <th>max</th>\n",
       "    </tr>\n",
       "  </thead>\n",
       "  <tbody>\n",
       "    <tr>\n",
       "      <th>sur_refl_b01_1</th>\n",
       "      <td>800.0</td>\n",
       "      <td>1208.814941</td>\n",
       "      <td>1294.360474</td>\n",
       "      <td>15.000000</td>\n",
       "      <td>243.750000</td>\n",
       "      <td>877.000000</td>\n",
       "      <td>1893.500000</td>\n",
       "      <td>9222.000000</td>\n",
       "    </tr>\n",
       "    <tr>\n",
       "      <th>sur_refl_b02_1</th>\n",
       "      <td>800.0</td>\n",
       "      <td>1577.988770</td>\n",
       "      <td>1567.905396</td>\n",
       "      <td>1.000000</td>\n",
       "      <td>179.500000</td>\n",
       "      <td>1290.500000</td>\n",
       "      <td>2683.750000</td>\n",
       "      <td>8837.000000</td>\n",
       "    </tr>\n",
       "    <tr>\n",
       "      <th>sur_refl_b03_1</th>\n",
       "      <td>800.0</td>\n",
       "      <td>729.177490</td>\n",
       "      <td>985.208801</td>\n",
       "      <td>-100.000000</td>\n",
       "      <td>288.000000</td>\n",
       "      <td>562.000000</td>\n",
       "      <td>853.000000</td>\n",
       "      <td>8909.000000</td>\n",
       "    </tr>\n",
       "    <tr>\n",
       "      <th>sur_refl_b04_1</th>\n",
       "      <td>800.0</td>\n",
       "      <td>1019.117493</td>\n",
       "      <td>1049.669678</td>\n",
       "      <td>6.000000</td>\n",
       "      <td>410.750000</td>\n",
       "      <td>830.500000</td>\n",
       "      <td>1313.250000</td>\n",
       "      <td>9162.000000</td>\n",
       "    </tr>\n",
       "    <tr>\n",
       "      <th>sur_refl_b05_1</th>\n",
       "      <td>800.0</td>\n",
       "      <td>1982.163696</td>\n",
       "      <td>1479.083374</td>\n",
       "      <td>-92.000000</td>\n",
       "      <td>547.750000</td>\n",
       "      <td>1829.500000</td>\n",
       "      <td>3231.250000</td>\n",
       "      <td>5706.000000</td>\n",
       "    </tr>\n",
       "    <tr>\n",
       "      <th>sur_refl_b06_1</th>\n",
       "      <td>800.0</td>\n",
       "      <td>1956.963745</td>\n",
       "      <td>1554.545410</td>\n",
       "      <td>45.000000</td>\n",
       "      <td>514.250000</td>\n",
       "      <td>1552.500000</td>\n",
       "      <td>3279.250000</td>\n",
       "      <td>5812.000000</td>\n",
       "    </tr>\n",
       "    <tr>\n",
       "      <th>sur_refl_b07_1</th>\n",
       "      <td>800.0</td>\n",
       "      <td>1613.043701</td>\n",
       "      <td>1408.529297</td>\n",
       "      <td>0.000000</td>\n",
       "      <td>316.750000</td>\n",
       "      <td>1200.000000</td>\n",
       "      <td>2762.000000</td>\n",
       "      <td>5132.000000</td>\n",
       "    </tr>\n",
       "    <tr>\n",
       "      <th>ndvi</th>\n",
       "      <td>800.0</td>\n",
       "      <td>104.779083</td>\n",
       "      <td>2492.591309</td>\n",
       "      <td>-9444.444336</td>\n",
       "      <td>-1350.337830</td>\n",
       "      <td>754.893646</td>\n",
       "      <td>1759.305237</td>\n",
       "      <td>8587.457031</td>\n",
       "    </tr>\n",
       "    <tr>\n",
       "      <th>ndwi1</th>\n",
       "      <td>800.0</td>\n",
       "      <td>-2380.736328</td>\n",
       "      <td>3336.646484</td>\n",
       "      <td>-9862.069336</td>\n",
       "      <td>-4570.242188</td>\n",
       "      <td>-1638.265198</td>\n",
       "      <td>-849.774597</td>\n",
       "      <td>8685.882812</td>\n",
       "    </tr>\n",
       "    <tr>\n",
       "      <th>ndwi2</th>\n",
       "      <td>800.0</td>\n",
       "      <td>-929.072754</td>\n",
       "      <td>3795.141113</td>\n",
       "      <td>-9692.307617</td>\n",
       "      <td>-2638.875000</td>\n",
       "      <td>-714.494232</td>\n",
       "      <td>765.722061</td>\n",
       "      <td>10000.000000</td>\n",
       "    </tr>\n",
       "  </tbody>\n",
       "</table>\n",
       "</div>"
      ],
      "text/plain": [
       "                count         mean          std          min          25%  \\\n",
       "sur_refl_b01_1  800.0  1208.814941  1294.360474    15.000000   243.750000   \n",
       "sur_refl_b02_1  800.0  1577.988770  1567.905396     1.000000   179.500000   \n",
       "sur_refl_b03_1  800.0   729.177490   985.208801  -100.000000   288.000000   \n",
       "sur_refl_b04_1  800.0  1019.117493  1049.669678     6.000000   410.750000   \n",
       "sur_refl_b05_1  800.0  1982.163696  1479.083374   -92.000000   547.750000   \n",
       "sur_refl_b06_1  800.0  1956.963745  1554.545410    45.000000   514.250000   \n",
       "sur_refl_b07_1  800.0  1613.043701  1408.529297     0.000000   316.750000   \n",
       "ndvi            800.0   104.779083  2492.591309 -9444.444336 -1350.337830   \n",
       "ndwi1           800.0 -2380.736328  3336.646484 -9862.069336 -4570.242188   \n",
       "ndwi2           800.0  -929.072754  3795.141113 -9692.307617 -2638.875000   \n",
       "\n",
       "                        50%          75%           max  \n",
       "sur_refl_b01_1   877.000000  1893.500000   9222.000000  \n",
       "sur_refl_b02_1  1290.500000  2683.750000   8837.000000  \n",
       "sur_refl_b03_1   562.000000   853.000000   8909.000000  \n",
       "sur_refl_b04_1   830.500000  1313.250000   9162.000000  \n",
       "sur_refl_b05_1  1829.500000  3231.250000   5706.000000  \n",
       "sur_refl_b06_1  1552.500000  3279.250000   5812.000000  \n",
       "sur_refl_b07_1  1200.000000  2762.000000   5132.000000  \n",
       "ndvi             754.893646  1759.305237   8587.457031  \n",
       "ndwi1          -1638.265198  -849.774597   8685.882812  \n",
       "ndwi2           -714.494232   765.722061  10000.000000  "
      ]
     },
     "execution_count": 12,
     "metadata": {},
     "output_type": "execute_result"
    }
   ],
   "source": [
    "X_train.describe().T"
   ]
  },
  {
   "cell_type": "code",
   "execution_count": 16,
   "metadata": {},
   "outputs": [],
   "source": [
    "cl = HistGradientBoostingClassifier()"
   ]
  },
  {
   "cell_type": "code",
   "execution_count": 17,
   "metadata": {},
   "outputs": [
    {
     "data": {
      "text/plain": [
       "{'categorical_features': None,\n",
       " 'early_stopping': 'auto',\n",
       " 'l2_regularization': 0.0,\n",
       " 'learning_rate': 0.1,\n",
       " 'loss': 'log_loss',\n",
       " 'max_bins': 255,\n",
       " 'max_depth': None,\n",
       " 'max_iter': 100,\n",
       " 'max_leaf_nodes': 31,\n",
       " 'min_samples_leaf': 20,\n",
       " 'monotonic_cst': None,\n",
       " 'n_iter_no_change': 10,\n",
       " 'random_state': None,\n",
       " 'scoring': 'loss',\n",
       " 'tol': 1e-07,\n",
       " 'validation_fraction': 0.1,\n",
       " 'verbose': 0,\n",
       " 'warm_start': False}"
      ]
     },
     "execution_count": 17,
     "metadata": {},
     "output_type": "execute_result"
    }
   ],
   "source": [
    "cl.get_params()"
   ]
  },
  {
   "cell_type": "markdown",
   "metadata": {},
   "source": [
    "## Random Forest Model\n",
    "\n",
    "### Model Definition"
   ]
  },
  {
   "cell_type": "code",
   "execution_count": 49,
   "metadata": {},
   "outputs": [],
   "source": [
    "def objective(trial):\n",
    "    hyperparameters = {\n",
    "        # Maximum number of leaves each weak learner has\n",
    "        \"max_leaf_nodes\": trial.suggest_int(\"max_leaf_nodes\", 16, 2**15),\n",
    "        # L2 regularization weight.\n",
    "        \"l2_regularization\": trial.suggest_float(\"l2_regularization\", 1e-8, 1.0, log=True),\n",
    "        # maximum depth of the tree, signifies complexity of the tree.\n",
    "        \"max_depth\":  trial.suggest_int(\"max_depth\", 3, 20, step=1), \n",
    "        # minimum child weight, larger the term more conservative the tree.\n",
    "        \"learning_rate\":  trial.suggest_float(\"learning_rate\", 3e-4, 0.3, log=True), \n",
    "    }\n",
    "    classifier = HistGradientBoostingClassifier(**hyperparameters)\n",
    "    scores = []\n",
    "    for trainIdx, testIdx in kf.split(X_train):\n",
    "        X_train_valid, X_test_valid = X_train.iloc[trainIdx], X_train.iloc[testIdx]\n",
    "        y_train_valid, y_test_valid = y_train.iloc[trainIdx], y_train.iloc[testIdx]\n",
    "        classifier.fit(X_train_valid, \n",
    "                       y_train_valid)\n",
    "        preds = classifier.predict(X_test_valid)\n",
    "        f1 = f1_score(y_test_valid, preds)\n",
    "        print('F1 Score: {}'.format(f1))\n",
    "        scores.append(f1)\n",
    "    print('Mean F1 score: {}'.format(sum(scores)/len(scores)))\n",
    "    return f1"
   ]
  },
  {
   "cell_type": "markdown",
   "metadata": {},
   "source": [
    "## Set the search space\n",
    "\n",
    "Set the search space for the hyperparameter tuning to search through once. This needs to be in conjunction with the `trial.suggest...` part of the hyperparameters dictionary defined aboce. \n",
    "\n",
    "Ex.\n",
    "\n",
    "If `max_depth` is defined in `hyperparameters` in the `objective` function above as such\n",
    "\n",
    "`\"max_depth\":  trial.suggest_int(\"max_depth\", 3, 15, step=1),` \n",
    "\n",
    "then we need to pair that with the limited search space below as such:\n",
    "\n",
    "`search_space={\"max_depth\":[3, 4, 5, 6, 7, 8, 9, 10, 11, 12, 13, 14, 15]}`\n",
    "\n",
    "This is not the most ideal way of ensuring that trials are not repeated, however it works for now. "
   ]
  },
  {
   "cell_type": "code",
   "execution_count": 50,
   "metadata": {},
   "outputs": [],
   "source": [
    "search_space={\n",
    "    \"max_depth\":[3, 4, 5, 6, 7, 8, 9, 10, 11, 12, 13, 14, 15],\n",
    "}"
   ]
  },
  {
   "cell_type": "markdown",
   "metadata": {},
   "source": [
    "### Set number of trials and timeout\n",
    "\n",
    "Set the number of trials `n_trials=<num of desired trials>` and the maximum time for the total study `timeout=<timeout in minutes>*60`"
   ]
  },
  {
   "cell_type": "code",
   "execution_count": 51,
   "metadata": {},
   "outputs": [
    {
     "name": "stderr",
     "output_type": "stream",
     "text": [
      "\u001b[32m[I 2022-08-17 10:59:26,059]\u001b[0m A new study created in memory with name: hGBM hyperparameter tuning - cpu\u001b[0m\n"
     ]
    },
    {
     "name": "stdout",
     "output_type": "stream",
     "text": [
      "F1 Score: 0.9625000000000001\n",
      "F1 Score: 0.9689440993788819\n",
      "F1 Score: 0.980891719745223\n"
     ]
    },
    {
     "name": "stderr",
     "output_type": "stream",
     "text": [
      "\u001b[32m[I 2022-08-17 10:59:26,486]\u001b[0m Trial 0 finished with value: 0.9681528662420381 and parameters: {'max_leaf_nodes': 24095, 'l2_regularization': 2.784591813650037e-06, 'max_depth': 3, 'learning_rate': 0.0016745380779159154}. Best is trial 0 with value: 0.9681528662420381.\u001b[0m\n"
     ]
    },
    {
     "name": "stdout",
     "output_type": "stream",
     "text": [
      "F1 Score: 0.9878048780487805\n",
      "F1 Score: 0.9681528662420381\n",
      "Mean F1 score: 0.9736587126829848\n",
      "F1 Score: 0.9625000000000001\n",
      "F1 Score: 0.9689440993788819\n",
      "F1 Score: 0.980891719745223\n"
     ]
    },
    {
     "name": "stderr",
     "output_type": "stream",
     "text": [
      "\u001b[32m[I 2022-08-17 10:59:26,989]\u001b[0m Trial 1 finished with value: 0.9681528662420381 and parameters: {'max_leaf_nodes': 18211, 'l2_regularization': 0.000548082295152341, 'max_depth': 16, 'learning_rate': 0.0003613516351652427}. Best is trial 0 with value: 0.9681528662420381.\u001b[0m\n"
     ]
    },
    {
     "name": "stdout",
     "output_type": "stream",
     "text": [
      "F1 Score: 0.9878048780487805\n",
      "F1 Score: 0.9681528662420381\n",
      "Mean F1 score: 0.9736587126829848\n",
      "F1 Score: 0.9693251533742331\n",
      "F1 Score: 0.975609756097561\n",
      "F1 Score: 0.9937106918238994\n",
      "F1 Score: 0.9938650306748467\n"
     ]
    },
    {
     "name": "stderr",
     "output_type": "stream",
     "text": [
      "\u001b[32m[I 2022-08-17 10:59:27,765]\u001b[0m Trial 2 finished with value: 0.9811320754716981 and parameters: {'max_leaf_nodes': 31090, 'l2_regularization': 0.0186043669493791, 'max_depth': 8, 'learning_rate': 0.08337908542167133}. Best is trial 2 with value: 0.9811320754716981.\u001b[0m\n"
     ]
    },
    {
     "name": "stdout",
     "output_type": "stream",
     "text": [
      "F1 Score: 0.9811320754716981\n",
      "Mean F1 score: 0.9827285414884477\n",
      "F1 Score: 0.9625000000000001\n",
      "F1 Score: 0.9689440993788819\n",
      "F1 Score: 0.980891719745223\n",
      "F1 Score: 0.9878048780487805\n"
     ]
    },
    {
     "name": "stderr",
     "output_type": "stream",
     "text": [
      "\u001b[32m[I 2022-08-17 10:59:28,338]\u001b[0m Trial 3 finished with value: 0.9681528662420381 and parameters: {'max_leaf_nodes': 32503, 'l2_regularization': 0.002014099249901498, 'max_depth': 8, 'learning_rate': 0.0004656000547134317}. Best is trial 2 with value: 0.9811320754716981.\u001b[0m\n"
     ]
    },
    {
     "name": "stdout",
     "output_type": "stream",
     "text": [
      "F1 Score: 0.9681528662420381\n",
      "Mean F1 score: 0.9736587126829848\n",
      "F1 Score: 0.9625000000000001\n",
      "F1 Score: 0.9753086419753086\n",
      "F1 Score: 0.9937106918238994\n"
     ]
    },
    {
     "name": "stderr",
     "output_type": "stream",
     "text": [
      "\u001b[32m[I 2022-08-17 10:59:28,925]\u001b[0m Trial 4 finished with value: 0.9746835443037976 and parameters: {'max_leaf_nodes': 5279, 'l2_regularization': 3.384072744732481e-06, 'max_depth': 18, 'learning_rate': 0.0147371761952924}. Best is trial 2 with value: 0.9811320754716981.\u001b[0m\n"
     ]
    },
    {
     "name": "stdout",
     "output_type": "stream",
     "text": [
      "F1 Score: 0.9938650306748467\n",
      "F1 Score: 0.9746835443037976\n",
      "Mean F1 score: 0.9800135817555706\n",
      "F1 Score: 0.9625000000000001\n",
      "F1 Score: 0.9689440993788819\n",
      "F1 Score: 0.980891719745223\n"
     ]
    },
    {
     "name": "stderr",
     "output_type": "stream",
     "text": [
      "\u001b[32m[I 2022-08-17 10:59:29,425]\u001b[0m Trial 5 finished with value: 0.9681528662420381 and parameters: {'max_leaf_nodes': 16629, 'l2_regularization': 0.09787029637984636, 'max_depth': 6, 'learning_rate': 0.0010505011608098942}. Best is trial 2 with value: 0.9811320754716981.\u001b[0m\n"
     ]
    },
    {
     "name": "stdout",
     "output_type": "stream",
     "text": [
      "F1 Score: 0.9878048780487805\n",
      "F1 Score: 0.9681528662420381\n",
      "Mean F1 score: 0.9736587126829848\n",
      "F1 Score: 0.9634146341463415\n",
      "F1 Score: 0.9815950920245398\n",
      "F1 Score: 0.9937106918238994\n"
     ]
    },
    {
     "name": "stderr",
     "output_type": "stream",
     "text": [
      "\u001b[32m[I 2022-08-17 10:59:29,981]\u001b[0m Trial 6 finished with value: 0.9811320754716981 and parameters: {'max_leaf_nodes': 25921, 'l2_regularization': 0.00016026562674013127, 'max_depth': 16, 'learning_rate': 0.051757501010479094}. Best is trial 2 with value: 0.9811320754716981.\u001b[0m\n"
     ]
    },
    {
     "name": "stdout",
     "output_type": "stream",
     "text": [
      "F1 Score: 0.9938650306748467\n",
      "F1 Score: 0.9811320754716981\n",
      "Mean F1 score: 0.9827435048282652\n",
      "F1 Score: 0.9625000000000001\n",
      "F1 Score: 0.9689440993788819\n",
      "F1 Score: 0.980891719745223\n",
      "F1 Score: 0.9878048780487805\n"
     ]
    },
    {
     "name": "stderr",
     "output_type": "stream",
     "text": [
      "\u001b[32m[I 2022-08-17 10:59:30,458]\u001b[0m Trial 7 finished with value: 0.9681528662420381 and parameters: {'max_leaf_nodes': 30280, 'l2_regularization': 0.0009696454556038286, 'max_depth': 12, 'learning_rate': 0.0007928462143977295}. Best is trial 2 with value: 0.9811320754716981.\u001b[0m\n"
     ]
    },
    {
     "name": "stdout",
     "output_type": "stream",
     "text": [
      "F1 Score: 0.9681528662420381\n",
      "Mean F1 score: 0.9736587126829848\n",
      "F1 Score: 0.9625000000000001\n",
      "F1 Score: 0.9689440993788819\n"
     ]
    },
    {
     "name": "stderr",
     "output_type": "stream",
     "text": [
      "\u001b[32m[I 2022-08-17 10:59:30,872]\u001b[0m Trial 8 finished with value: 0.9615384615384615 and parameters: {'max_leaf_nodes': 30464, 'l2_regularization': 0.08434837091438688, 'max_depth': 12, 'learning_rate': 0.005262945629691849}. Best is trial 2 with value: 0.9811320754716981.\u001b[0m\n"
     ]
    },
    {
     "name": "stdout",
     "output_type": "stream",
     "text": [
      "F1 Score: 0.980891719745223\n",
      "F1 Score: 0.9878048780487805\n",
      "F1 Score: 0.9615384615384615\n",
      "Mean F1 score: 0.9723358317422693\n",
      "F1 Score: 0.9625000000000001\n",
      "F1 Score: 0.9689440993788819\n",
      "F1 Score: 0.980891719745223\n",
      "F1 Score: 0.9878048780487805\n"
     ]
    },
    {
     "name": "stderr",
     "output_type": "stream",
     "text": [
      "\u001b[32m[I 2022-08-17 10:59:31,676]\u001b[0m Trial 9 finished with value: 0.9615384615384615 and parameters: {'max_leaf_nodes': 18934, 'l2_regularization': 9.45584920619816e-07, 'max_depth': 16, 'learning_rate': 0.0068139858157031585}. Best is trial 2 with value: 0.9811320754716981.\u001b[0m\n"
     ]
    },
    {
     "name": "stdout",
     "output_type": "stream",
     "text": [
      "F1 Score: 0.9615384615384615\n",
      "Mean F1 score: 0.9723358317422693\n",
      "F1 Score: 0.9693251533742331\n",
      "F1 Score: 0.9815950920245398\n",
      "F1 Score: 1.0\n"
     ]
    },
    {
     "name": "stderr",
     "output_type": "stream",
     "text": [
      "\u001b[32m[I 2022-08-17 10:59:32,293]\u001b[0m Trial 10 finished with value: 0.9811320754716981 and parameters: {'max_leaf_nodes': 5716, 'l2_regularization': 1.270134231281678e-08, 'max_depth': 7, 'learning_rate': 0.22854499852970675}. Best is trial 2 with value: 0.9811320754716981.\u001b[0m\n"
     ]
    },
    {
     "name": "stdout",
     "output_type": "stream",
     "text": [
      "F1 Score: 0.9938650306748467\n",
      "F1 Score: 0.9811320754716981\n",
      "Mean F1 score: 0.9851834703090635\n",
      "F1 Score: 0.9693251533742331\n",
      "F1 Score: 0.975609756097561\n",
      "F1 Score: 1.0\n"
     ]
    },
    {
     "name": "stderr",
     "output_type": "stream",
     "text": [
      "\u001b[32m[I 2022-08-17 10:59:32,883]\u001b[0m Trial 11 finished with value: 0.9811320754716981 and parameters: {'max_leaf_nodes': 25292, 'l2_regularization': 0.01504080916654079, 'max_depth': 20, 'learning_rate': 0.09496914052888408}. Best is trial 2 with value: 0.9811320754716981.\u001b[0m\n"
     ]
    },
    {
     "name": "stdout",
     "output_type": "stream",
     "text": [
      "F1 Score: 0.9938650306748467\n",
      "F1 Score: 0.9811320754716981\n",
      "Mean F1 score: 0.9839864031236678\n",
      "F1 Score: 0.9634146341463415\n",
      "F1 Score: 0.9815950920245398\n",
      "F1 Score: 1.0\n",
      "F1 Score: 0.9938650306748467\n"
     ]
    },
    {
     "name": "stderr",
     "output_type": "stream",
     "text": [
      "\u001b[32m[I 2022-08-17 10:59:33,600]\u001b[0m Trial 12 finished with value: 0.9811320754716981 and parameters: {'max_leaf_nodes': 24469, 'l2_regularization': 4.5691224177068625e-05, 'max_depth': 10, 'learning_rate': 0.047342418651573875}. Best is trial 2 with value: 0.9811320754716981.\u001b[0m\n"
     ]
    },
    {
     "name": "stdout",
     "output_type": "stream",
     "text": [
      "F1 Score: 0.9811320754716981\n",
      "Mean F1 score: 0.9840013664634852\n",
      "F1 Score: 0.9753086419753086\n",
      "F1 Score: 0.9876543209876543\n",
      "F1 Score: 0.9937106918238994\n"
     ]
    },
    {
     "name": "stderr",
     "output_type": "stream",
     "text": [
      "\u001b[32m[I 2022-08-17 10:59:34,226]\u001b[0m Trial 13 finished with value: 0.9746835443037976 and parameters: {'max_leaf_nodes': 25655, 'l2_regularization': 4.0647016023415266e-05, 'max_depth': 15, 'learning_rate': 0.0330713332142808}. Best is trial 2 with value: 0.9811320754716981.\u001b[0m\n"
     ]
    },
    {
     "name": "stdout",
     "output_type": "stream",
     "text": [
      "F1 Score: 0.9938650306748467\n",
      "F1 Score: 0.9746835443037976\n",
      "Mean F1 score: 0.9850444459531014\n",
      "F1 Score: 0.9693251533742331\n",
      "F1 Score: 0.975609756097561\n",
      "F1 Score: 1.0\n",
      "F1 Score: 0.9938650306748467\n"
     ]
    },
    {
     "name": "stderr",
     "output_type": "stream",
     "text": [
      "\u001b[32m[I 2022-08-17 10:59:34,916]\u001b[0m Trial 14 finished with value: 0.9811320754716981 and parameters: {'max_leaf_nodes': 11000, 'l2_regularization': 0.3737719483166422, 'max_depth': 14, 'learning_rate': 0.2611583774139259}. Best is trial 2 with value: 0.9811320754716981.\u001b[0m\n"
     ]
    },
    {
     "name": "stdout",
     "output_type": "stream",
     "text": [
      "F1 Score: 0.9811320754716981\n",
      "Mean F1 score: 0.9839864031236678\n",
      "F1 Score: 0.9693251533742331\n",
      "F1 Score: 0.9815950920245398\n"
     ]
    },
    {
     "name": "stderr",
     "output_type": "stream",
     "text": [
      "\u001b[32m[I 2022-08-17 10:59:35,352]\u001b[0m Trial 15 finished with value: 0.9746835443037976 and parameters: {'max_leaf_nodes': 28213, 'l2_regularization': 0.00845230463488185, 'max_depth': 3, 'learning_rate': 0.08310806788632419}. Best is trial 2 with value: 0.9811320754716981.\u001b[0m\n"
     ]
    },
    {
     "name": "stdout",
     "output_type": "stream",
     "text": [
      "F1 Score: 1.0\n",
      "F1 Score: 0.9938650306748467\n",
      "F1 Score: 0.9746835443037976\n",
      "Mean F1 score: 0.9838937640754833\n",
      "F1 Score: 0.9689440993788819\n",
      "F1 Score: 0.9876543209876543\n",
      "F1 Score: 0.9937106918238994\n",
      "F1 Score: 0.9938650306748467\n"
     ]
    },
    {
     "name": "stderr",
     "output_type": "stream",
     "text": [
      "\u001b[32m[I 2022-08-17 10:59:36,019]\u001b[0m Trial 16 finished with value: 0.9746835443037976 and parameters: {'max_leaf_nodes': 21880, 'l2_regularization': 6.957389896114397e-05, 'max_depth': 10, 'learning_rate': 0.02585280082230308}. Best is trial 2 with value: 0.9811320754716981.\u001b[0m\n"
     ]
    },
    {
     "name": "stdout",
     "output_type": "stream",
     "text": [
      "F1 Score: 0.9746835443037976\n",
      "Mean F1 score: 0.983771537433816\n",
      "F1 Score: 0.9634146341463415\n",
      "F1 Score: 0.975609756097561\n",
      "F1 Score: 1.0\n"
     ]
    },
    {
     "name": "stderr",
     "output_type": "stream",
     "text": [
      "\u001b[32m[I 2022-08-17 10:59:36,657]\u001b[0m Trial 17 finished with value: 0.9811320754716981 and parameters: {'max_leaf_nodes': 9212, 'l2_regularization': 0.49252708484314733, 'max_depth': 14, 'learning_rate': 0.17830857204617048}. Best is trial 2 with value: 0.9811320754716981.\u001b[0m\n"
     ]
    },
    {
     "name": "stdout",
     "output_type": "stream",
     "text": [
      "F1 Score: 0.9938650306748467\n",
      "F1 Score: 0.9811320754716981\n",
      "Mean F1 score: 0.9828042992780894\n",
      "F1 Score: 0.9634146341463415\n",
      "F1 Score: 0.975609756097561\n",
      "F1 Score: 1.0\n"
     ]
    },
    {
     "name": "stderr",
     "output_type": "stream",
     "text": [
      "\u001b[32m[I 2022-08-17 10:59:37,176]\u001b[0m Trial 18 finished with value: 0.9811320754716981 and parameters: {'max_leaf_nodes': 11435, 'l2_regularization': 0.9743449697051374, 'max_depth': 5, 'learning_rate': 0.14888891573425553}. Best is trial 2 with value: 0.9811320754716981.\u001b[0m\n"
     ]
    },
    {
     "name": "stdout",
     "output_type": "stream",
     "text": [
      "F1 Score: 0.9938650306748467\n",
      "F1 Score: 0.9811320754716981\n",
      "Mean F1 score: 0.9828042992780894\n",
      "F1 Score: 0.9693251533742331\n",
      "F1 Score: 0.9815950920245398\n",
      "F1 Score: 0.9937106918238994\n"
     ]
    },
    {
     "name": "stderr",
     "output_type": "stream",
     "text": [
      "\u001b[32m[I 2022-08-17 10:59:37,943]\u001b[0m Trial 19 finished with value: 0.9811320754716981 and parameters: {'max_leaf_nodes': 1294, 'l2_regularization': 0.022087532842364303, 'max_depth': 5, 'learning_rate': 0.10836921929824649}. Best is trial 2 with value: 0.9811320754716981.\u001b[0m\n"
     ]
    },
    {
     "name": "stdout",
     "output_type": "stream",
     "text": [
      "F1 Score: 0.9938650306748467\n",
      "F1 Score: 0.9811320754716981\n",
      "Mean F1 score: 0.9839256086738434\n"
     ]
    }
   ],
   "source": [
    "optuna.logging.set_verbosity(optuna.logging.INFO)\n",
    "\n",
    "study = optuna.create_study(study_name='hGBM hyperparameter tuning - cpu', \n",
    "                            direction='maximize',\n",
    "                           ) # sampler=optuna.samplers.GridSampler(search_space))\n",
    "\n",
    "study.optimize(objective, n_trials=20, timeout=10*60)"
   ]
  },
  {
   "cell_type": "code",
   "execution_count": 52,
   "metadata": {},
   "outputs": [
    {
     "name": "stdout",
     "output_type": "stream",
     "text": [
      "Number of finished trials: 20\n",
      "{'max_leaf_nodes': 31090, 'l2_regularization': 0.0186043669493791, 'max_depth': 8, 'learning_rate': 0.08337908542167133}\n",
      "0.9811320754716981\n"
     ]
    }
   ],
   "source": [
    "print(\"Number of finished trials: {}\".format(len(study.trials)))\n",
    "trials = study.best_trials\n",
    "trial_score = max([trial.values[0] for trial in trials])\n",
    "best_trial_params = [trial.params for trial in trials if trial.values[0] == trial_score][0]\n",
    "print(best_trial_params)\n",
    "print(trial_score)\n",
    "\n",
    "trial_scores = [trial.values for trial in trials]\n",
    "trial_params = [trial.params for trial in trials]\n",
    "\n",
    "study_df = study.trials_dataframe()\n",
    "study_df.to_csv(\"hyperopt_tuning_trial_{}_hgbm.csv\".format(\n",
    "    datetime.datetime.now().strftime('%Y_%m_%d_%H_%M')))"
   ]
  },
  {
   "cell_type": "code",
   "execution_count": 53,
   "metadata": {},
   "outputs": [
    {
     "data": {
      "text/html": [
       "<div>\n",
       "<style scoped>\n",
       "    .dataframe tbody tr th:only-of-type {\n",
       "        vertical-align: middle;\n",
       "    }\n",
       "\n",
       "    .dataframe tbody tr th {\n",
       "        vertical-align: top;\n",
       "    }\n",
       "\n",
       "    .dataframe thead th {\n",
       "        text-align: right;\n",
       "    }\n",
       "</style>\n",
       "<table border=\"1\" class=\"dataframe\">\n",
       "  <thead>\n",
       "    <tr style=\"text-align: right;\">\n",
       "      <th></th>\n",
       "      <th>number</th>\n",
       "      <th>value</th>\n",
       "      <th>datetime_start</th>\n",
       "      <th>datetime_complete</th>\n",
       "      <th>duration</th>\n",
       "      <th>params_l2_regularization</th>\n",
       "      <th>params_learning_rate</th>\n",
       "      <th>params_max_depth</th>\n",
       "      <th>params_max_leaf_nodes</th>\n",
       "      <th>state</th>\n",
       "    </tr>\n",
       "  </thead>\n",
       "  <tbody>\n",
       "    <tr>\n",
       "      <th>0</th>\n",
       "      <td>0</td>\n",
       "      <td>0.968153</td>\n",
       "      <td>2022-08-17 10:59:26.061241</td>\n",
       "      <td>2022-08-17 10:59:26.485977</td>\n",
       "      <td>0 days 00:00:00.424736</td>\n",
       "      <td>2.784592e-06</td>\n",
       "      <td>0.001675</td>\n",
       "      <td>3</td>\n",
       "      <td>24095</td>\n",
       "      <td>COMPLETE</td>\n",
       "    </tr>\n",
       "    <tr>\n",
       "      <th>1</th>\n",
       "      <td>1</td>\n",
       "      <td>0.968153</td>\n",
       "      <td>2022-08-17 10:59:26.486958</td>\n",
       "      <td>2022-08-17 10:59:26.988768</td>\n",
       "      <td>0 days 00:00:00.501810</td>\n",
       "      <td>5.480823e-04</td>\n",
       "      <td>0.000361</td>\n",
       "      <td>16</td>\n",
       "      <td>18211</td>\n",
       "      <td>COMPLETE</td>\n",
       "    </tr>\n",
       "    <tr>\n",
       "      <th>2</th>\n",
       "      <td>2</td>\n",
       "      <td>0.981132</td>\n",
       "      <td>2022-08-17 10:59:26.989679</td>\n",
       "      <td>2022-08-17 10:59:27.765755</td>\n",
       "      <td>0 days 00:00:00.776076</td>\n",
       "      <td>1.860437e-02</td>\n",
       "      <td>0.083379</td>\n",
       "      <td>8</td>\n",
       "      <td>31090</td>\n",
       "      <td>COMPLETE</td>\n",
       "    </tr>\n",
       "    <tr>\n",
       "      <th>3</th>\n",
       "      <td>3</td>\n",
       "      <td>0.968153</td>\n",
       "      <td>2022-08-17 10:59:27.766656</td>\n",
       "      <td>2022-08-17 10:59:28.337816</td>\n",
       "      <td>0 days 00:00:00.571160</td>\n",
       "      <td>2.014099e-03</td>\n",
       "      <td>0.000466</td>\n",
       "      <td>8</td>\n",
       "      <td>32503</td>\n",
       "      <td>COMPLETE</td>\n",
       "    </tr>\n",
       "    <tr>\n",
       "      <th>4</th>\n",
       "      <td>4</td>\n",
       "      <td>0.974684</td>\n",
       "      <td>2022-08-17 10:59:28.338718</td>\n",
       "      <td>2022-08-17 10:59:28.925530</td>\n",
       "      <td>0 days 00:00:00.586812</td>\n",
       "      <td>3.384073e-06</td>\n",
       "      <td>0.014737</td>\n",
       "      <td>18</td>\n",
       "      <td>5279</td>\n",
       "      <td>COMPLETE</td>\n",
       "    </tr>\n",
       "    <tr>\n",
       "      <th>5</th>\n",
       "      <td>5</td>\n",
       "      <td>0.968153</td>\n",
       "      <td>2022-08-17 10:59:28.926413</td>\n",
       "      <td>2022-08-17 10:59:29.425677</td>\n",
       "      <td>0 days 00:00:00.499264</td>\n",
       "      <td>9.787030e-02</td>\n",
       "      <td>0.001051</td>\n",
       "      <td>6</td>\n",
       "      <td>16629</td>\n",
       "      <td>COMPLETE</td>\n",
       "    </tr>\n",
       "    <tr>\n",
       "      <th>6</th>\n",
       "      <td>6</td>\n",
       "      <td>0.981132</td>\n",
       "      <td>2022-08-17 10:59:29.426586</td>\n",
       "      <td>2022-08-17 10:59:29.981734</td>\n",
       "      <td>0 days 00:00:00.555148</td>\n",
       "      <td>1.602656e-04</td>\n",
       "      <td>0.051758</td>\n",
       "      <td>16</td>\n",
       "      <td>25921</td>\n",
       "      <td>COMPLETE</td>\n",
       "    </tr>\n",
       "    <tr>\n",
       "      <th>7</th>\n",
       "      <td>7</td>\n",
       "      <td>0.968153</td>\n",
       "      <td>2022-08-17 10:59:29.982644</td>\n",
       "      <td>2022-08-17 10:59:30.458011</td>\n",
       "      <td>0 days 00:00:00.475367</td>\n",
       "      <td>9.696455e-04</td>\n",
       "      <td>0.000793</td>\n",
       "      <td>12</td>\n",
       "      <td>30280</td>\n",
       "      <td>COMPLETE</td>\n",
       "    </tr>\n",
       "    <tr>\n",
       "      <th>8</th>\n",
       "      <td>8</td>\n",
       "      <td>0.961538</td>\n",
       "      <td>2022-08-17 10:59:30.458893</td>\n",
       "      <td>2022-08-17 10:59:30.872464</td>\n",
       "      <td>0 days 00:00:00.413571</td>\n",
       "      <td>8.434837e-02</td>\n",
       "      <td>0.005263</td>\n",
       "      <td>12</td>\n",
       "      <td>30464</td>\n",
       "      <td>COMPLETE</td>\n",
       "    </tr>\n",
       "    <tr>\n",
       "      <th>9</th>\n",
       "      <td>9</td>\n",
       "      <td>0.961538</td>\n",
       "      <td>2022-08-17 10:59:30.873731</td>\n",
       "      <td>2022-08-17 10:59:31.676226</td>\n",
       "      <td>0 days 00:00:00.802495</td>\n",
       "      <td>9.455849e-07</td>\n",
       "      <td>0.006814</td>\n",
       "      <td>16</td>\n",
       "      <td>18934</td>\n",
       "      <td>COMPLETE</td>\n",
       "    </tr>\n",
       "    <tr>\n",
       "      <th>10</th>\n",
       "      <td>10</td>\n",
       "      <td>0.981132</td>\n",
       "      <td>2022-08-17 10:59:31.677089</td>\n",
       "      <td>2022-08-17 10:59:32.292933</td>\n",
       "      <td>0 days 00:00:00.615844</td>\n",
       "      <td>1.270134e-08</td>\n",
       "      <td>0.228545</td>\n",
       "      <td>7</td>\n",
       "      <td>5716</td>\n",
       "      <td>COMPLETE</td>\n",
       "    </tr>\n",
       "    <tr>\n",
       "      <th>11</th>\n",
       "      <td>11</td>\n",
       "      <td>0.981132</td>\n",
       "      <td>2022-08-17 10:59:32.293874</td>\n",
       "      <td>2022-08-17 10:59:32.883526</td>\n",
       "      <td>0 days 00:00:00.589652</td>\n",
       "      <td>1.504081e-02</td>\n",
       "      <td>0.094969</td>\n",
       "      <td>20</td>\n",
       "      <td>25292</td>\n",
       "      <td>COMPLETE</td>\n",
       "    </tr>\n",
       "    <tr>\n",
       "      <th>12</th>\n",
       "      <td>12</td>\n",
       "      <td>0.981132</td>\n",
       "      <td>2022-08-17 10:59:32.884418</td>\n",
       "      <td>2022-08-17 10:59:33.600398</td>\n",
       "      <td>0 days 00:00:00.715980</td>\n",
       "      <td>4.569122e-05</td>\n",
       "      <td>0.047342</td>\n",
       "      <td>10</td>\n",
       "      <td>24469</td>\n",
       "      <td>COMPLETE</td>\n",
       "    </tr>\n",
       "    <tr>\n",
       "      <th>13</th>\n",
       "      <td>13</td>\n",
       "      <td>0.974684</td>\n",
       "      <td>2022-08-17 10:59:33.601273</td>\n",
       "      <td>2022-08-17 10:59:34.226651</td>\n",
       "      <td>0 days 00:00:00.625378</td>\n",
       "      <td>4.064702e-05</td>\n",
       "      <td>0.033071</td>\n",
       "      <td>15</td>\n",
       "      <td>25655</td>\n",
       "      <td>COMPLETE</td>\n",
       "    </tr>\n",
       "    <tr>\n",
       "      <th>14</th>\n",
       "      <td>14</td>\n",
       "      <td>0.981132</td>\n",
       "      <td>2022-08-17 10:59:34.227545</td>\n",
       "      <td>2022-08-17 10:59:34.915826</td>\n",
       "      <td>0 days 00:00:00.688281</td>\n",
       "      <td>3.737719e-01</td>\n",
       "      <td>0.261158</td>\n",
       "      <td>14</td>\n",
       "      <td>11000</td>\n",
       "      <td>COMPLETE</td>\n",
       "    </tr>\n",
       "    <tr>\n",
       "      <th>15</th>\n",
       "      <td>15</td>\n",
       "      <td>0.974684</td>\n",
       "      <td>2022-08-17 10:59:34.916719</td>\n",
       "      <td>2022-08-17 10:59:35.352156</td>\n",
       "      <td>0 days 00:00:00.435437</td>\n",
       "      <td>8.452305e-03</td>\n",
       "      <td>0.083108</td>\n",
       "      <td>3</td>\n",
       "      <td>28213</td>\n",
       "      <td>COMPLETE</td>\n",
       "    </tr>\n",
       "    <tr>\n",
       "      <th>16</th>\n",
       "      <td>16</td>\n",
       "      <td>0.974684</td>\n",
       "      <td>2022-08-17 10:59:35.353058</td>\n",
       "      <td>2022-08-17 10:59:36.019466</td>\n",
       "      <td>0 days 00:00:00.666408</td>\n",
       "      <td>6.957390e-05</td>\n",
       "      <td>0.025853</td>\n",
       "      <td>10</td>\n",
       "      <td>21880</td>\n",
       "      <td>COMPLETE</td>\n",
       "    </tr>\n",
       "    <tr>\n",
       "      <th>17</th>\n",
       "      <td>17</td>\n",
       "      <td>0.981132</td>\n",
       "      <td>2022-08-17 10:59:36.020371</td>\n",
       "      <td>2022-08-17 10:59:36.657635</td>\n",
       "      <td>0 days 00:00:00.637264</td>\n",
       "      <td>4.925271e-01</td>\n",
       "      <td>0.178309</td>\n",
       "      <td>14</td>\n",
       "      <td>9212</td>\n",
       "      <td>COMPLETE</td>\n",
       "    </tr>\n",
       "    <tr>\n",
       "      <th>18</th>\n",
       "      <td>18</td>\n",
       "      <td>0.981132</td>\n",
       "      <td>2022-08-17 10:59:36.658541</td>\n",
       "      <td>2022-08-17 10:59:37.176440</td>\n",
       "      <td>0 days 00:00:00.517899</td>\n",
       "      <td>9.743450e-01</td>\n",
       "      <td>0.148889</td>\n",
       "      <td>5</td>\n",
       "      <td>11435</td>\n",
       "      <td>COMPLETE</td>\n",
       "    </tr>\n",
       "    <tr>\n",
       "      <th>19</th>\n",
       "      <td>19</td>\n",
       "      <td>0.981132</td>\n",
       "      <td>2022-08-17 10:59:37.177342</td>\n",
       "      <td>2022-08-17 10:59:37.943673</td>\n",
       "      <td>0 days 00:00:00.766331</td>\n",
       "      <td>2.208753e-02</td>\n",
       "      <td>0.108369</td>\n",
       "      <td>5</td>\n",
       "      <td>1294</td>\n",
       "      <td>COMPLETE</td>\n",
       "    </tr>\n",
       "  </tbody>\n",
       "</table>\n",
       "</div>"
      ],
      "text/plain": [
       "    number     value             datetime_start          datetime_complete  \\\n",
       "0        0  0.968153 2022-08-17 10:59:26.061241 2022-08-17 10:59:26.485977   \n",
       "1        1  0.968153 2022-08-17 10:59:26.486958 2022-08-17 10:59:26.988768   \n",
       "2        2  0.981132 2022-08-17 10:59:26.989679 2022-08-17 10:59:27.765755   \n",
       "3        3  0.968153 2022-08-17 10:59:27.766656 2022-08-17 10:59:28.337816   \n",
       "4        4  0.974684 2022-08-17 10:59:28.338718 2022-08-17 10:59:28.925530   \n",
       "5        5  0.968153 2022-08-17 10:59:28.926413 2022-08-17 10:59:29.425677   \n",
       "6        6  0.981132 2022-08-17 10:59:29.426586 2022-08-17 10:59:29.981734   \n",
       "7        7  0.968153 2022-08-17 10:59:29.982644 2022-08-17 10:59:30.458011   \n",
       "8        8  0.961538 2022-08-17 10:59:30.458893 2022-08-17 10:59:30.872464   \n",
       "9        9  0.961538 2022-08-17 10:59:30.873731 2022-08-17 10:59:31.676226   \n",
       "10      10  0.981132 2022-08-17 10:59:31.677089 2022-08-17 10:59:32.292933   \n",
       "11      11  0.981132 2022-08-17 10:59:32.293874 2022-08-17 10:59:32.883526   \n",
       "12      12  0.981132 2022-08-17 10:59:32.884418 2022-08-17 10:59:33.600398   \n",
       "13      13  0.974684 2022-08-17 10:59:33.601273 2022-08-17 10:59:34.226651   \n",
       "14      14  0.981132 2022-08-17 10:59:34.227545 2022-08-17 10:59:34.915826   \n",
       "15      15  0.974684 2022-08-17 10:59:34.916719 2022-08-17 10:59:35.352156   \n",
       "16      16  0.974684 2022-08-17 10:59:35.353058 2022-08-17 10:59:36.019466   \n",
       "17      17  0.981132 2022-08-17 10:59:36.020371 2022-08-17 10:59:36.657635   \n",
       "18      18  0.981132 2022-08-17 10:59:36.658541 2022-08-17 10:59:37.176440   \n",
       "19      19  0.981132 2022-08-17 10:59:37.177342 2022-08-17 10:59:37.943673   \n",
       "\n",
       "                 duration  params_l2_regularization  params_learning_rate  \\\n",
       "0  0 days 00:00:00.424736              2.784592e-06              0.001675   \n",
       "1  0 days 00:00:00.501810              5.480823e-04              0.000361   \n",
       "2  0 days 00:00:00.776076              1.860437e-02              0.083379   \n",
       "3  0 days 00:00:00.571160              2.014099e-03              0.000466   \n",
       "4  0 days 00:00:00.586812              3.384073e-06              0.014737   \n",
       "5  0 days 00:00:00.499264              9.787030e-02              0.001051   \n",
       "6  0 days 00:00:00.555148              1.602656e-04              0.051758   \n",
       "7  0 days 00:00:00.475367              9.696455e-04              0.000793   \n",
       "8  0 days 00:00:00.413571              8.434837e-02              0.005263   \n",
       "9  0 days 00:00:00.802495              9.455849e-07              0.006814   \n",
       "10 0 days 00:00:00.615844              1.270134e-08              0.228545   \n",
       "11 0 days 00:00:00.589652              1.504081e-02              0.094969   \n",
       "12 0 days 00:00:00.715980              4.569122e-05              0.047342   \n",
       "13 0 days 00:00:00.625378              4.064702e-05              0.033071   \n",
       "14 0 days 00:00:00.688281              3.737719e-01              0.261158   \n",
       "15 0 days 00:00:00.435437              8.452305e-03              0.083108   \n",
       "16 0 days 00:00:00.666408              6.957390e-05              0.025853   \n",
       "17 0 days 00:00:00.637264              4.925271e-01              0.178309   \n",
       "18 0 days 00:00:00.517899              9.743450e-01              0.148889   \n",
       "19 0 days 00:00:00.766331              2.208753e-02              0.108369   \n",
       "\n",
       "    params_max_depth  params_max_leaf_nodes     state  \n",
       "0                  3                  24095  COMPLETE  \n",
       "1                 16                  18211  COMPLETE  \n",
       "2                  8                  31090  COMPLETE  \n",
       "3                  8                  32503  COMPLETE  \n",
       "4                 18                   5279  COMPLETE  \n",
       "5                  6                  16629  COMPLETE  \n",
       "6                 16                  25921  COMPLETE  \n",
       "7                 12                  30280  COMPLETE  \n",
       "8                 12                  30464  COMPLETE  \n",
       "9                 16                  18934  COMPLETE  \n",
       "10                 7                   5716  COMPLETE  \n",
       "11                20                  25292  COMPLETE  \n",
       "12                10                  24469  COMPLETE  \n",
       "13                15                  25655  COMPLETE  \n",
       "14                14                  11000  COMPLETE  \n",
       "15                 3                  28213  COMPLETE  \n",
       "16                10                  21880  COMPLETE  \n",
       "17                14                   9212  COMPLETE  \n",
       "18                 5                  11435  COMPLETE  \n",
       "19                 5                   1294  COMPLETE  "
      ]
     },
     "execution_count": 53,
     "metadata": {},
     "output_type": "execute_result"
    }
   ],
   "source": [
    "study_df"
   ]
  },
  {
   "cell_type": "code",
   "execution_count": 54,
   "metadata": {},
   "outputs": [
    {
     "data": {
      "text/plain": [
       "<AxesSubplot:title={'center':'Optimization History Plot'}, xlabel='#Trials', ylabel='Objective Value'>"
      ]
     },
     "execution_count": 54,
     "metadata": {},
     "output_type": "execute_result"
    },
    {
     "data": {
      "image/png": "[encoded data removed]",
      "text/plain": [
       "<Figure size 640x480 with 1 Axes>"
      ]
     },
     "metadata": {},
     "output_type": "display_data"
    }
   ],
   "source": [
    "optuna.visualization.matplotlib.plot_optimization_history(study)"
   ]
  },
  {
   "cell_type": "code",
   "execution_count": 55,
   "metadata": {},
   "outputs": [
    {
     "data": {
      "text/plain": [
       "<AxesSubplot:title={'center':'Hyperparameter Importances'}, xlabel='Importance for Objective Value', ylabel='Hyperparameter'>"
      ]
     },
     "execution_count": 55,
     "metadata": {},
     "output_type": "execute_result"
    },
    {
     "data": {
      "image/png": "[encoded data removed]",
      "text/plain": [
       "<Figure size 640x480 with 1 Axes>"
      ]
     },
     "metadata": {},
     "output_type": "display_data"
    }
   ],
   "source": [
    "optuna.visualization.matplotlib.plot_param_importances(study)"
   ]
  },
  {
   "cell_type": "code",
   "execution_count": 56,
   "metadata": {},
   "outputs": [],
   "source": [
    "X_train, X_test, y_train, y_test = train_test_split(X, y, test_size=0.2)"
   ]
  },
  {
   "cell_type": "code",
   "execution_count": 57,
   "metadata": {},
   "outputs": [
    {
     "data": {
      "text/html": [
       "<div>\n",
       "<style scoped>\n",
       "    .dataframe tbody tr th:only-of-type {\n",
       "        vertical-align: middle;\n",
       "    }\n",
       "\n",
       "    .dataframe tbody tr th {\n",
       "        vertical-align: top;\n",
       "    }\n",
       "\n",
       "    .dataframe thead th {\n",
       "        text-align: right;\n",
       "    }\n",
       "</style>\n",
       "<table border=\"1\" class=\"dataframe\">\n",
       "  <thead>\n",
       "    <tr style=\"text-align: right;\">\n",
       "      <th></th>\n",
       "      <th>count</th>\n",
       "      <th>mean</th>\n",
       "      <th>std</th>\n",
       "      <th>min</th>\n",
       "      <th>25%</th>\n",
       "      <th>50%</th>\n",
       "      <th>75%</th>\n",
       "      <th>max</th>\n",
       "    </tr>\n",
       "  </thead>\n",
       "  <tbody>\n",
       "    <tr>\n",
       "      <th>sur_refl_b01_1</th>\n",
       "      <td>800.0</td>\n",
       "      <td>1214.750000</td>\n",
       "      <td>1295.685913</td>\n",
       "      <td>8.000000</td>\n",
       "      <td>240.500000</td>\n",
       "      <td>875.000000</td>\n",
       "      <td>1900.500000</td>\n",
       "      <td>9045.000000</td>\n",
       "    </tr>\n",
       "    <tr>\n",
       "      <th>sur_refl_b02_1</th>\n",
       "      <td>800.0</td>\n",
       "      <td>1580.621216</td>\n",
       "      <td>1559.198486</td>\n",
       "      <td>1.000000</td>\n",
       "      <td>172.000000</td>\n",
       "      <td>1410.000000</td>\n",
       "      <td>2683.750000</td>\n",
       "      <td>8795.000000</td>\n",
       "    </tr>\n",
       "    <tr>\n",
       "      <th>sur_refl_b03_1</th>\n",
       "      <td>800.0</td>\n",
       "      <td>744.873779</td>\n",
       "      <td>1023.064392</td>\n",
       "      <td>-100.000000</td>\n",
       "      <td>286.000000</td>\n",
       "      <td>544.000000</td>\n",
       "      <td>841.750000</td>\n",
       "      <td>8844.000000</td>\n",
       "    </tr>\n",
       "    <tr>\n",
       "      <th>sur_refl_b04_1</th>\n",
       "      <td>800.0</td>\n",
       "      <td>1027.583740</td>\n",
       "      <td>1077.609741</td>\n",
       "      <td>6.000000</td>\n",
       "      <td>406.750000</td>\n",
       "      <td>805.000000</td>\n",
       "      <td>1293.000000</td>\n",
       "      <td>9056.000000</td>\n",
       "    </tr>\n",
       "    <tr>\n",
       "      <th>sur_refl_b05_1</th>\n",
       "      <td>800.0</td>\n",
       "      <td>1966.123779</td>\n",
       "      <td>1469.749634</td>\n",
       "      <td>-20.000000</td>\n",
       "      <td>538.500000</td>\n",
       "      <td>1824.000000</td>\n",
       "      <td>3241.750000</td>\n",
       "      <td>5706.000000</td>\n",
       "    </tr>\n",
       "    <tr>\n",
       "      <th>sur_refl_b06_1</th>\n",
       "      <td>800.0</td>\n",
       "      <td>1923.808716</td>\n",
       "      <td>1537.034058</td>\n",
       "      <td>45.000000</td>\n",
       "      <td>504.750000</td>\n",
       "      <td>1447.500000</td>\n",
       "      <td>3214.250000</td>\n",
       "      <td>5851.000000</td>\n",
       "    </tr>\n",
       "    <tr>\n",
       "      <th>sur_refl_b07_1</th>\n",
       "      <td>800.0</td>\n",
       "      <td>1579.436279</td>\n",
       "      <td>1387.586670</td>\n",
       "      <td>0.000000</td>\n",
       "      <td>311.500000</td>\n",
       "      <td>1169.500000</td>\n",
       "      <td>2705.250000</td>\n",
       "      <td>5370.000000</td>\n",
       "    </tr>\n",
       "    <tr>\n",
       "      <th>ndvi</th>\n",
       "      <td>800.0</td>\n",
       "      <td>68.154953</td>\n",
       "      <td>2510.638672</td>\n",
       "      <td>-8750.000000</td>\n",
       "      <td>-1529.734680</td>\n",
       "      <td>640.278107</td>\n",
       "      <td>1759.345062</td>\n",
       "      <td>6603.590332</td>\n",
       "    </tr>\n",
       "    <tr>\n",
       "      <th>ndwi1</th>\n",
       "      <td>800.0</td>\n",
       "      <td>-2303.447754</td>\n",
       "      <td>3440.317139</td>\n",
       "      <td>-9829.059570</td>\n",
       "      <td>-4588.879150</td>\n",
       "      <td>-1571.842407</td>\n",
       "      <td>-728.143387</td>\n",
       "      <td>8823.803711</td>\n",
       "    </tr>\n",
       "    <tr>\n",
       "      <th>ndwi2</th>\n",
       "      <td>800.0</td>\n",
       "      <td>-868.831726</td>\n",
       "      <td>3891.604004</td>\n",
       "      <td>-9607.842773</td>\n",
       "      <td>-2754.657166</td>\n",
       "      <td>-656.777618</td>\n",
       "      <td>881.896194</td>\n",
       "      <td>10000.000000</td>\n",
       "    </tr>\n",
       "  </tbody>\n",
       "</table>\n",
       "</div>"
      ],
      "text/plain": [
       "                count         mean          std          min          25%  \\\n",
       "sur_refl_b01_1  800.0  1214.750000  1295.685913     8.000000   240.500000   \n",
       "sur_refl_b02_1  800.0  1580.621216  1559.198486     1.000000   172.000000   \n",
       "sur_refl_b03_1  800.0   744.873779  1023.064392  -100.000000   286.000000   \n",
       "sur_refl_b04_1  800.0  1027.583740  1077.609741     6.000000   406.750000   \n",
       "sur_refl_b05_1  800.0  1966.123779  1469.749634   -20.000000   538.500000   \n",
       "sur_refl_b06_1  800.0  1923.808716  1537.034058    45.000000   504.750000   \n",
       "sur_refl_b07_1  800.0  1579.436279  1387.586670     0.000000   311.500000   \n",
       "ndvi            800.0    68.154953  2510.638672 -8750.000000 -1529.734680   \n",
       "ndwi1           800.0 -2303.447754  3440.317139 -9829.059570 -4588.879150   \n",
       "ndwi2           800.0  -868.831726  3891.604004 -9607.842773 -2754.657166   \n",
       "\n",
       "                        50%          75%           max  \n",
       "sur_refl_b01_1   875.000000  1900.500000   9045.000000  \n",
       "sur_refl_b02_1  1410.000000  2683.750000   8795.000000  \n",
       "sur_refl_b03_1   544.000000   841.750000   8844.000000  \n",
       "sur_refl_b04_1   805.000000  1293.000000   9056.000000  \n",
       "sur_refl_b05_1  1824.000000  3241.750000   5706.000000  \n",
       "sur_refl_b06_1  1447.500000  3214.250000   5851.000000  \n",
       "sur_refl_b07_1  1169.500000  2705.250000   5370.000000  \n",
       "ndvi             640.278107  1759.345062   6603.590332  \n",
       "ndwi1          -1571.842407  -728.143387   8823.803711  \n",
       "ndwi2           -656.777618   881.896194  10000.000000  "
      ]
     },
     "execution_count": 57,
     "metadata": {},
     "output_type": "execute_result"
    }
   ],
   "source": [
    "X_train.describe().T"
   ]
  },
  {
   "cell_type": "code",
   "execution_count": 58,
   "metadata": {},
   "outputs": [
    {
     "name": "stdout",
     "output_type": "stream",
     "text": [
      "Using these params:\n",
      "{'l2_regularization': 0.0186043669493791,\n",
      " 'learning_rate': 0.08337908542167133,\n",
      " 'max_depth': 8,\n",
      " 'max_leaf_nodes': 31090}\n"
     ]
    }
   ],
   "source": [
    "hyperparameters = best_trial_params\n",
    "print('Using these params:')\n",
    "pprint(hyperparameters)\n",
    "classifier = HistGradientBoostingClassifier(**hyperparameters)"
   ]
  },
  {
   "cell_type": "code",
   "execution_count": 59,
   "metadata": {},
   "outputs": [
    {
     "name": "stdout",
     "output_type": "stream",
     "text": [
      "CPU times: user 1.33 s, sys: 44.4 ms, total: 1.37 s\n",
      "Wall time: 127 ms\n"
     ]
    },
    {
     "data": {
      "text/html": [
       "<style>#sk-container-id-1 {color: black;background-color: white;}#sk-container-id-1 pre{padding: 0;}#sk-container-id-1 div.sk-toggleable {background-color: white;}#sk-container-id-1 label.sk-toggleable__label {cursor: pointer;display: block;width: 100%;margin-bottom: 0;padding: 0.3em;box-sizing: border-box;text-align: center;}#sk-container-id-1 label.sk-toggleable__label-arrow:before {content: \"▸\";float: left;margin-right: 0.25em;color: #696969;}#sk-container-id-1 label.sk-toggleable__label-arrow:hover:before {color: black;}#sk-container-id-1 div.sk-estimator:hover label.sk-toggleable__label-arrow:before {color: black;}#sk-container-id-1 div.sk-toggleable__content {max-height: 0;max-width: 0;overflow: hidden;text-align: left;background-color: #f0f8ff;}#sk-container-id-1 div.sk-toggleable__content pre {margin: 0.2em;color: black;border-radius: 0.25em;background-color: #f0f8ff;}#sk-container-id-1 input.sk-toggleable__control:checked~div.sk-toggleable__content {max-height: 200px;max-width: 100%;overflow: auto;}#sk-container-id-1 input.sk-toggleable__control:checked~label.sk-toggleable__label-arrow:before {content: \"▾\";}#sk-container-id-1 div.sk-estimator input.sk-toggleable__control:checked~label.sk-toggleable__label {background-color: #d4ebff;}#sk-container-id-1 div.sk-label input.sk-toggleable__control:checked~label.sk-toggleable__label {background-color: #d4ebff;}#sk-container-id-1 input.sk-hidden--visually {border: 0;clip: rect(1px 1px 1px 1px);clip: rect(1px, 1px, 1px, 1px);height: 1px;margin: -1px;overflow: hidden;padding: 0;position: absolute;width: 1px;}#sk-container-id-1 div.sk-estimator {font-family: monospace;background-color: #f0f8ff;border: 1px dotted black;border-radius: 0.25em;box-sizing: border-box;margin-bottom: 0.5em;}#sk-container-id-1 div.sk-estimator:hover {background-color: #d4ebff;}#sk-container-id-1 div.sk-parallel-item::after {content: \"\";width: 100%;border-bottom: 1px solid gray;flex-grow: 1;}#sk-container-id-1 div.sk-label:hover label.sk-toggleable__label {background-color: #d4ebff;}#sk-container-id-1 div.sk-serial::before {content: \"\";position: absolute;border-left: 1px solid gray;box-sizing: border-box;top: 0;bottom: 0;left: 50%;z-index: 0;}#sk-container-id-1 div.sk-serial {display: flex;flex-direction: column;align-items: center;background-color: white;padding-right: 0.2em;padding-left: 0.2em;position: relative;}#sk-container-id-1 div.sk-item {position: relative;z-index: 1;}#sk-container-id-1 div.sk-parallel {display: flex;align-items: stretch;justify-content: center;background-color: white;position: relative;}#sk-container-id-1 div.sk-item::before, #sk-container-id-1 div.sk-parallel-item::before {content: \"\";position: absolute;border-left: 1px solid gray;box-sizing: border-box;top: 0;bottom: 0;left: 50%;z-index: -1;}#sk-container-id-1 div.sk-parallel-item {display: flex;flex-direction: column;z-index: 1;position: relative;background-color: white;}#sk-container-id-1 div.sk-parallel-item:first-child::after {align-self: flex-end;width: 50%;}#sk-container-id-1 div.sk-parallel-item:last-child::after {align-self: flex-start;width: 50%;}#sk-container-id-1 div.sk-parallel-item:only-child::after {width: 0;}#sk-container-id-1 div.sk-dashed-wrapped {border: 1px dashed gray;margin: 0 0.4em 0.5em 0.4em;box-sizing: border-box;padding-bottom: 0.4em;background-color: white;}#sk-container-id-1 div.sk-label label {font-family: monospace;font-weight: bold;display: inline-block;line-height: 1.2em;}#sk-container-id-1 div.sk-label-container {text-align: center;}#sk-container-id-1 div.sk-container {/* jupyter's `normalize.less` sets `[hidden] { display: none; }` but bootstrap.min.css set `[hidden] { display: none !important; }` so we also need the `!important` here to be able to override the default hidden behavior on the sphinx rendered scikit-learn.org. See: https://github.com/scikit-learn/scikit-learn/issues/21755 */display: inline-block !important;position: relative;}#sk-container-id-1 div.sk-text-repr-fallback {display: none;}</style><div id=\"sk-container-id-1\" class=\"sk-top-container\"><div class=\"sk-text-repr-fallback\"><pre>HistGradientBoostingClassifier(l2_regularization=0.0186043669493791,\n",
       "                               learning_rate=0.08337908542167133, max_depth=8,\n",
       "                               max_leaf_nodes=31090)</pre><b>In a Jupyter environment, please rerun this cell to show the HTML representation or trust the notebook. <br />On GitHub, the HTML representation is unable to render, please try loading this page with nbviewer.org.</b></div><div class=\"sk-container\" hidden><div class=\"sk-item\"><div class=\"sk-estimator sk-toggleable\"><input class=\"sk-toggleable__control sk-hidden--visually\" id=\"sk-estimator-id-1\" type=\"checkbox\" checked><label for=\"sk-estimator-id-1\" class=\"sk-toggleable__label sk-toggleable__label-arrow\">HistGradientBoostingClassifier</label><div class=\"sk-toggleable__content\"><pre>HistGradientBoostingClassifier(l2_regularization=0.0186043669493791,\n",
       "                               learning_rate=0.08337908542167133, max_depth=8,\n",
       "                               max_leaf_nodes=31090)</pre></div></div></div></div></div>"
      ],
      "text/plain": [
       "HistGradientBoostingClassifier(l2_regularization=0.0186043669493791,\n",
       "                               learning_rate=0.08337908542167133, max_depth=8,\n",
       "                               max_leaf_nodes=31090)"
      ]
     },
     "execution_count": 59,
     "metadata": {},
     "output_type": "execute_result"
    }
   ],
   "source": [
    "%%time\n",
    "\n",
    "classifier.fit(X_train, y_train)"
   ]
  },
  {
   "cell_type": "markdown",
   "metadata": {},
   "source": [
    "### Get model metrics"
   ]
  },
  {
   "cell_type": "code",
   "execution_count": 60,
   "metadata": {},
   "outputs": [
    {
     "data": {
      "text/plain": [
       "0.975"
      ]
     },
     "execution_count": 60,
     "metadata": {},
     "output_type": "execute_result"
    }
   ],
   "source": [
    "score = classifier.score(X_test, y_test)\n",
    "score = round(score, 3)\n",
    "score"
   ]
  },
  {
   "cell_type": "code",
   "execution_count": 61,
   "metadata": {},
   "outputs": [],
   "source": [
    "train_predictions = classifier.predict(X_train)\n",
    "test_predictions = classifier.predict(X_test)\n",
    "prediction_probs = classifier.predict_proba(X_test)"
   ]
  },
  {
   "cell_type": "code",
   "execution_count": 62,
   "metadata": {},
   "outputs": [],
   "source": [
    "test_predictions = test_predictions.astype(np.int16)\n",
    "y_test_int = y_test.astype(np.int16)"
   ]
  },
  {
   "cell_type": "code",
   "execution_count": 63,
   "metadata": {},
   "outputs": [
    {
     "name": "stdout",
     "output_type": "stream",
     "text": [
      "Train Performance\n",
      "-------------------------------------------------------\n",
      "              precision    recall  f1-score   support\n",
      "\n",
      "         0.0       1.00      1.00      1.00       396\n",
      "         1.0       1.00      1.00      1.00       404\n",
      "\n",
      "    accuracy                           1.00       800\n",
      "   macro avg       1.00      1.00      1.00       800\n",
      "weighted avg       1.00      1.00      1.00       800\n",
      "\n",
      "Test Performance\n",
      "-------------------------------------------------------\n",
      "              precision    recall  f1-score   support\n",
      "\n",
      "         0.0       0.96      0.99      0.98       104\n",
      "         1.0       0.99      0.96      0.97        96\n",
      "\n",
      "    accuracy                           0.97       200\n",
      "   macro avg       0.98      0.97      0.97       200\n",
      "weighted avg       0.98      0.97      0.97       200\n",
      "\n",
      "Test Recall\n",
      "-------------------------------------------------------\n",
      "0.9903846153846154\n",
      "Confusion Matrix\n",
      "-------------------------------------------------------\n",
      "[[103   1]\n",
      " [  4  92]]\n"
     ]
    }
   ],
   "source": [
    "print('Train Performance')\n",
    "print('-------------------------------------------------------')\n",
    "print(classification_report(y_train, train_predictions))\n",
    "print('Test Performance')\n",
    "print('-------------------------------------------------------')\n",
    "print(classification_report(y_test, test_predictions))\n",
    "cm = confusion_matrix(y_test_int, test_predictions)\n",
    "recall = (cm[0][0] / (cm[0][0] + cm[0][1]))\n",
    "print('Test Recall')\n",
    "print('-------------------------------------------------------')\n",
    "print(recall)\n",
    "print('Confusion Matrix')\n",
    "print('-------------------------------------------------------')\n",
    "print(cm)"
   ]
  },
  {
   "cell_type": "code",
   "execution_count": 64,
   "metadata": {},
   "outputs": [
    {
     "name": "stdout",
     "output_type": "stream",
     "text": [
      "CPU times: user 4.48 s, sys: 139 ms, total: 4.62 s\n",
      "Wall time: 414 ms\n"
     ]
    }
   ],
   "source": [
    "%%time\n",
    "permutation_importance_results = permutation_importance(classifier,\n",
    "                                                        X=X_test,\n",
    "                                                        y=y_test,\n",
    "                                                        n_repeats=10,\n",
    "                                                        random_state=42)"
   ]
  },
  {
   "cell_type": "code",
   "execution_count": 65,
   "metadata": {},
   "outputs": [
    {
     "data": {
      "text/plain": [
       "Text(0.5, 0, 'Permutation Importance')"
      ]
     },
     "execution_count": 65,
     "metadata": {},
     "output_type": "execute_result"
    },
    {
     "data": {
      "image/png": "[encoded data removed]",
      "text/plain": [
       "<Figure size 800x800 with 1 Axes>"
      ]
     },
     "metadata": {},
     "output_type": "display_data"
    }
   ],
   "source": [
    "sorted_idx = permutation_importance_results.importances_mean.argsort()\n",
    "plt.figure(figsize=(8, 8))\n",
    "plt.barh(X_test.columns[sorted_idx], permutation_importance_results.importances_mean[sorted_idx])\n",
    "plt.xlabel(\"Permutation Importance\")"
   ]
  },
  {
   "cell_type": "code",
   "execution_count": 66,
   "metadata": {},
   "outputs": [],
   "source": [
    "del X_train, X_test, y_train, y_test, test_predictions, train_predictions, prediction_probs, y_test_int"
   ]
  },
  {
   "cell_type": "markdown",
   "metadata": {},
   "source": [
    "## Save the model for future use"
   ]
  },
  {
   "cell_type": "code",
   "execution_count": 67,
   "metadata": {},
   "outputs": [
    {
     "name": "stdout",
     "output_type": "stream",
     "text": [
      "Saving model to: ./water_classifier_hgbm_cpu.sav\n",
      "HistGradientBoostingClassifier(l2_regularization=0.0186043669493791,\n",
      "                               learning_rate=0.08337908542167133, max_depth=8,\n",
      "                               max_leaf_nodes=31090)\n"
     ]
    },
    {
     "data": {
      "text/plain": [
       "['./water_classifier_hgbm_cpu.sav']"
      ]
     },
     "execution_count": 67,
     "metadata": {},
     "output_type": "execute_result"
    }
   ],
   "source": [
    "model_save_path = './water_classifier_hgbm_cpu.sav'\n",
    "print('Saving model to: {}'.format(model_save_path))\n",
    "print(classifier)\n",
    "joblib.dump(classifier, model_save_path, compress=3)"
   ]
  },
  {
   "cell_type": "markdown",
   "metadata": {},
   "source": [
    "# Testing: Raster testing"
   ]
  },
  {
   "cell_type": "markdown",
   "metadata": {},
   "source": [
    "### Read in data \n",
    "\n",
    "These are modified MOD09GA and MOD09GQ products for the 2001 julian day 155. They were modified to be clipped to the Lake Powell region."
   ]
  },
  {
   "cell_type": "code",
   "execution_count": 68,
   "metadata": {},
   "outputs": [],
   "source": [
    "fileList = sorted([file for file in glob.glob('../data/IL.*.Powell.*.tif') if 'sur_refl' in file])"
   ]
  },
  {
   "cell_type": "code",
   "execution_count": 69,
   "metadata": {},
   "outputs": [],
   "source": [
    "def readRastersToArray(fileList):\n",
    "    rasterProjection = None\n",
    "    newshp = (1300*1300, 10)\n",
    "    img = np.empty(newshp, dtype=np.int16)\n",
    "    for i, fileName in enumerate(fileList):\n",
    "        ds = gdal.Open(fileName)\n",
    "        img[:, i] = ds.GetRasterBand(1).ReadAsArray().astype(np.int16).ravel()\n",
    "        if i == 0:\n",
    "            rasterProjection = ds.GetProjection()\n",
    "        ds = None\n",
    "    img[:, len(fileList)] = ((img[:, 1] - img[:, 0]) / (img[:, 1] + img[:, 0])) * 10000\n",
    "    img[:, len(fileList)+1] = ((img[:, 1] - img[:, 5]) / (img[:, 1] + img[:, 5])) * 10000\n",
    "    img[:, len(fileList)+2] = ((img[:, 1] - img[:, 6]) / (img[:, 1] + img[:, 6])) * 10000\n",
    "    return img, rasterProjection"
   ]
  },
  {
   "cell_type": "code",
   "execution_count": 70,
   "metadata": {},
   "outputs": [
    {
     "name": "stdout",
     "output_type": "stream",
     "text": [
      "Raster as ndarray\n",
      "[[ 1547  2461   857 ...  2280  -518   510]\n",
      " [ 1474  2377   857 ...  2344  -691   337]\n",
      " [ 1474  2377   846 ...  2344  -472   623]\n",
      " ...\n",
      " [ 2358  2979  1028 ...  1163 -1727 -1292]\n",
      " [ 2425  3069  1117 ...  1172 -1721 -1216]\n",
      " [ 2402  3038  1117 ...  1169 -1770 -1266]]\n",
      "33.8 MB size\n",
      "CPU times: user 209 ms, sys: 33 ms, total: 242 ms\n",
      "Wall time: 242 ms\n"
     ]
    }
   ],
   "source": [
    "%%time\n",
    "im, rasterProjection = readRastersToArray(fileList)\n",
    "print('Raster as ndarray')\n",
    "print(im)\n",
    "print('{} MB size'.format((im.size * im.itemsize) / 1000000))"
   ]
  },
  {
   "cell_type": "markdown",
   "metadata": {},
   "source": [
    "### Load in the model"
   ]
  },
  {
   "cell_type": "code",
   "execution_count": 71,
   "metadata": {},
   "outputs": [],
   "source": [
    "def predictRaster(img_chunk, colsToDrop=None):\n",
    "    \"\"\"\n",
    "    Function given a raster in the form of a nxn matrix, will\n",
    "    convert the matrix to a GPU-bound data frame then perform \n",
    "    predictions given the loaded model.\n",
    "    \n",
    "    Return the prediction matrix, the prediction probabilities\n",
    "    for each and the dataframe converted to host.\n",
    "    \"\"\"\n",
    "    print('Converting host array to CPU-based dataframe')\n",
    "    df = pd.DataFrame(img_chunk, columns=v_names, dtype=np.float32)\n",
    "    df = df.drop(columns=columnsToDrop)\n",
    "    print('Making predictions from raster')\n",
    "    predictions = classifier.predict(df)\n",
    "    predictionsProbs = classifier.predict_proba(df)\n",
    "    return predictions, predictionsProbs, df"
   ]
  },
  {
   "cell_type": "code",
   "execution_count": 72,
   "metadata": {},
   "outputs": [
    {
     "name": "stdout",
     "output_type": "stream",
     "text": [
      "Converting host array to CPU-based dataframe\n",
      "Making predictions from raster\n",
      "CPU times: user 25.7 s, sys: 850 ms, total: 26.5 s\n",
      "Wall time: 2.5 s\n"
     ]
    }
   ],
   "source": [
    "%%time\n",
    "predictedRaster, predictedProbaRaster, df = predictRaster(im)"
   ]
  },
  {
   "cell_type": "markdown",
   "metadata": {},
   "source": [
    "### Description of the predicted probability for each pixel in the raster (no bad-data vals masked yet)"
   ]
  },
  {
   "cell_type": "code",
   "execution_count": 73,
   "metadata": {},
   "outputs": [],
   "source": [
    "shp = (1300, 1300)\n",
    "left = list()\n",
    "right = list()\n",
    "for i, subarr in enumerate(predictedProbaRaster):\n",
    "    left.append(subarr[0])\n",
    "    right.append(subarr[1])\n",
    "leftArr = np.asarray(left)\n",
    "rightArr = np.asarray(right)\n",
    "probaLand = leftArr.reshape(shp)\n",
    "probaWater = rightArr.reshape(shp)"
   ]
  },
  {
   "cell_type": "markdown",
   "metadata": {},
   "source": [
    "#### Reshape the unravelled matrix back to the 4800x4800 raster shape"
   ]
  },
  {
   "cell_type": "code",
   "execution_count": 74,
   "metadata": {},
   "outputs": [
    {
     "data": {
      "text/plain": [
       "(1300, 1300)"
      ]
     },
     "execution_count": 74,
     "metadata": {},
     "output_type": "execute_result"
    }
   ],
   "source": [
    "shp = (1300, 1300)\n",
    "matrix = np.asarray(predictedRaster)\n",
    "reshp = matrix.reshape(shp)\n",
    "reshp.shape"
   ]
  },
  {
   "cell_type": "markdown",
   "metadata": {},
   "source": [
    "Add QA mask to prediction"
   ]
  },
  {
   "cell_type": "code",
   "execution_count": 75,
   "metadata": {},
   "outputs": [
    {
     "data": {
      "text/plain": [
       "array([[1, 1, 1, ..., 1, 1, 1],\n",
       "       [1, 1, 1, ..., 1, 1, 1],\n",
       "       [1, 1, 1, ..., 1, 1, 1],\n",
       "       ...,\n",
       "       [0, 0, 0, ..., 0, 0, 0],\n",
       "       [0, 0, 0, ..., 0, 0, 0],\n",
       "       [0, 0, 0, ..., 0, 0, 0]], dtype=int16)"
      ]
     },
     "execution_count": 75,
     "metadata": {},
     "output_type": "execute_result"
    }
   ],
   "source": [
    "qa = [file for file in glob.glob('../data/*.tif') if 'qa' in file][0]\n",
    "ds = gdal.Open(qa)\n",
    "qaMask = ds.GetRasterBand(1).ReadAsArray()\n",
    "output = np.where(qaMask == 0, reshp, -9999)\n",
    "qaMask"
   ]
  },
  {
   "cell_type": "code",
   "execution_count": 76,
   "metadata": {},
   "outputs": [
    {
     "name": "stdout",
     "output_type": "stream",
     "text": [
      "Predicted\n",
      " No-data occuraces: 61568\n",
      " Land occurances: 1618386\n",
      " Water occurances: 10046\n"
     ]
    }
   ],
   "source": [
    "countNoData = np.count_nonzero(output == -9999)\n",
    "countLand = np.count_nonzero(output == 0)\n",
    "countWater = np.count_nonzero(output == 1)\n",
    "print('Predicted\\n No-data occuraces: {}\\n Land occurances: {}\\n Water occurances: {}'.format(countNoData, countLand, countWater))"
   ]
  },
  {
   "cell_type": "markdown",
   "metadata": {},
   "source": [
    "## Output predicted raster to GeoTiff"
   ]
  },
  {
   "cell_type": "code",
   "execution_count": 77,
   "metadata": {},
   "outputs": [],
   "source": [
    "geoTransform = (-9961223.407, 231.65635, 0.0, 4285642.633667, 0.0, -231.65635)"
   ]
  },
  {
   "cell_type": "code",
   "execution_count": 78,
   "metadata": {},
   "outputs": [],
   "source": [
    "predictedPath = os.path.join(outputRasterPath, 'PowellPredictedWaterMask.tif')\n",
    "\n",
    "driver = gdal.GetDriverByName('GTiff')\n",
    "outDs = driver.Create(predictedPath, 1300, 1300, 1, gdal.GDT_Int16, options=['COMPRESS=LZW'])\n",
    "outDs.SetGeoTransform(geoTransform)\n",
    "outDs.SetProjection(rasterProjection)\n",
    "outBand = outDs.GetRasterBand(1)\n",
    "outBand.WriteArray(output)\n",
    "outBand.SetNoDataValue(-9999)\n",
    "outDs.FlushCache()\n",
    "outDs = None\n",
    "outBand = None\n",
    "driver = None"
   ]
  },
  {
   "cell_type": "markdown",
   "metadata": {},
   "source": [
    "## View predictions with Folium"
   ]
  },
  {
   "cell_type": "code",
   "execution_count": 81,
   "metadata": {},
   "outputs": [],
   "source": [
    "import folium\n",
    "from folium import plugins\n",
    "\n",
    "sys.path.append('../scripts')\n",
    "import folium_helper"
   ]
  },
  {
   "cell_type": "code",
   "execution_count": 82,
   "metadata": {},
   "outputs": [
    {
     "name": "stdout",
     "output_type": "stream",
     "text": [
      "Transform: | 491.82, 0.00,-12749861.52|\n",
      "| 0.00,-491.82, 4656230.30|\n",
      "| 0.00, 0.00, 1.00|\n",
      "Width: 1670 Height: 770\n"
     ]
    }
   ],
   "source": [
    "mask_3857 = folium_helper.reproject_to_3857(predictedPath)\n",
    "mask_d = folium_helper.get_bounds(mask_3857)\n",
    "mask_b1 = folium_helper.open_and_get_band(mask_3857, 1)\n",
    "folium_helper.cleanup(mask_3857)\n",
    "mask_b1 = np.where(mask_b1 == -9999, 0, mask_b1)\n",
    "zeros = np.zeros_like(mask_b1)\n",
    "mask_rgb = np.dstack((mask_b1, zeros, zeros))"
   ]
  },
  {
   "cell_type": "code",
   "execution_count": 83,
   "metadata": {},
   "outputs": [],
   "source": [
    "m = folium.Map(location=[mask_d['center'][1], mask_d['center'][0]],\n",
    "                   tiles='https://mt1.google.com/vt/lyrs=s&x={x}&y={y}&z={z}', zoom_start = 6, attr='Google')"
   ]
  },
  {
   "cell_type": "code",
   "execution_count": 84,
   "metadata": {},
   "outputs": [
    {
     "data": {
      "text/html": [
       "<div style=\"width:100%;\"><div style=\"position:relative;width:100%;height:0;padding-bottom:60%;\"><span style=\"color:#565656\">Make this Notebook Trusted to load map: File -> Trust Notebook</span><iframe srcdoc=\"&lt;!DOCTYPE html&gt;\n",
       "&lt;head&gt;    \n",
       "    &lt;meta http-equiv=&quot;content-type&quot; content=&quot;text/html; charset=UTF-8&quot; /&gt;\n",
       "    \n",
       "        &lt;script&gt;\n",
       "            L_NO_TOUCH = false;\n",
       "            L_DISABLE_3D = false;\n",
       "        &lt;/script&gt;\n",
       "    \n",
       "    &lt;style&gt;html, body {width: 100%;height: 100%;margin: 0;padding: 0;}&lt;/style&gt;\n",
       "    &lt;style&gt;#map {position:absolute;top:0;bottom:0;right:0;left:0;}&lt;/style&gt;\n",
       "    &lt;script src=&quot;https://cdn.jsdelivr.net/npm/leaflet@1.6.0/dist/leaflet.js&quot;&gt;&lt;/script&gt;\n",
       "    &lt;script src=&quot;https://code.jquery.com/jquery-1.12.4.min.js&quot;&gt;&lt;/script&gt;\n",
       "    &lt;script src=&quot;https://maxcdn.bootstrapcdn.com/bootstrap/3.2.0/js/bootstrap.min.js&quot;&gt;&lt;/script&gt;\n",
       "    &lt;script src=&quot;https://cdnjs.cloudflare.com/ajax/libs/Leaflet.awesome-markers/2.0.2/leaflet.awesome-markers.js&quot;&gt;&lt;/script&gt;\n",
       "    &lt;link rel=&quot;stylesheet&quot; href=&quot;https://cdn.jsdelivr.net/npm/leaflet@1.6.0/dist/leaflet.css&quot;/&gt;\n",
       "    &lt;link rel=&quot;stylesheet&quot; href=&quot;https://maxcdn.bootstrapcdn.com/bootstrap/3.2.0/css/bootstrap.min.css&quot;/&gt;\n",
       "    &lt;link rel=&quot;stylesheet&quot; href=&quot;https://maxcdn.bootstrapcdn.com/bootstrap/3.2.0/css/bootstrap-theme.min.css&quot;/&gt;\n",
       "    &lt;link rel=&quot;stylesheet&quot; href=&quot;https://maxcdn.bootstrapcdn.com/font-awesome/4.6.3/css/font-awesome.min.css&quot;/&gt;\n",
       "    &lt;link rel=&quot;stylesheet&quot; href=&quot;https://cdnjs.cloudflare.com/ajax/libs/Leaflet.awesome-markers/2.0.2/leaflet.awesome-markers.css&quot;/&gt;\n",
       "    &lt;link rel=&quot;stylesheet&quot; href=&quot;https://cdn.jsdelivr.net/gh/python-visualization/folium/folium/templates/leaflet.awesome.rotate.min.css&quot;/&gt;\n",
       "    \n",
       "            &lt;meta name=&quot;viewport&quot; content=&quot;width=device-width,\n",
       "                initial-scale=1.0, maximum-scale=1.0, user-scalable=no&quot; /&gt;\n",
       "            &lt;style&gt;\n",
       "                #map_ea9422e0df5b78dbe5cb0f5d14f298ce {\n",
       "                    position: relative;\n",
       "                    width: 100.0%;\n",
       "                    height: 100.0%;\n",
       "                    left: 0.0%;\n",
       "                    top: 0.0%;\n",
       "                }\n",
       "            &lt;/style&gt;\n",
       "        \n",
       "    \n",
       "                &lt;style&gt;\n",
       "                    .leaflet-image-layer {\n",
       "                        /* old android/safari*/\n",
       "                        image-rendering: -webkit-optimize-contrast;\n",
       "                        image-rendering: crisp-edges; /* safari */\n",
       "                        image-rendering: pixelated; /* chrome */\n",
       "                        image-rendering: -moz-crisp-edges; /* firefox */\n",
       "                        image-rendering: -o-crisp-edges; /* opera */\n",
       "                        -ms-interpolation-mode: nearest-neighbor; /* ie */\n",
       "                    }\n",
       "                &lt;/style&gt;\n",
       "            \n",
       "    &lt;script src=&quot;https://cdn.jsdelivr.net/gh/ardhi/Leaflet.MousePosition/src/L.Control.MousePosition.min.js&quot;&gt;&lt;/script&gt;\n",
       "    &lt;link rel=&quot;stylesheet&quot; href=&quot;https://cdn.jsdelivr.net/gh/ardhi/Leaflet.MousePosition/src/L.Control.MousePosition.min.css&quot;/&gt;\n",
       "&lt;/head&gt;\n",
       "&lt;body&gt;    \n",
       "    \n",
       "            &lt;div class=&quot;folium-map&quot; id=&quot;map_ea9422e0df5b78dbe5cb0f5d14f298ce&quot; &gt;&lt;/div&gt;\n",
       "        \n",
       "&lt;/body&gt;\n",
       "&lt;script&gt;    \n",
       "    \n",
       "            var map_ea9422e0df5b78dbe5cb0f5d14f298ce = L.map(\n",
       "                &quot;map_ea9422e0df5b78dbe5cb0f5d14f298ce&quot;,\n",
       "                {\n",
       "                    center: [37.1868364898923, -110.84485924937243],\n",
       "                    crs: L.CRS.EPSG3857,\n",
       "                    zoom: 6,\n",
       "                    zoomControl: true,\n",
       "                    preferCanvas: false,\n",
       "                }\n",
       "            );\n",
       "\n",
       "            \n",
       "\n",
       "        \n",
       "    \n",
       "            var tile_layer_84ce4df64aa2d4e78ad0114cb682eb2c = L.tileLayer(\n",
       "                &quot;https://mt1.google.com/vt/lyrs=s\\u0026x={x}\\u0026y={y}\\u0026z={z}&quot;,\n",
       "                {&quot;attribution&quot;: &quot;Google&quot;, &quot;detectRetina&quot;: false, &quot;maxNativeZoom&quot;: 18, &quot;maxZoom&quot;: 18, &quot;minZoom&quot;: 0, &quot;noWrap&quot;: false, &quot;opacity&quot;: 1, &quot;subdomains&quot;: &quot;abc&quot;, &quot;tms&quot;: false}\n",
       "            ).addTo(map_ea9422e0df5b78dbe5cb0f5d14f298ce);\n",
       "        \n",
       "    \n",
       "            var image_overlay_58ff4b57a24bb76667264fc63fdefc84 = L.imageOverlay(\n",
       "                &quot;data:image/png;base64,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&quot;,\n",
       "                [[35.8320062645529, -114.53395477030668], [38.541666715231706, -107.15576372843819]],\n",
       "                {&quot;opacity&quot;: 0.6}\n",
       "            ).addTo(map_ea9422e0df5b78dbe5cb0f5d14f298ce);\n",
       "        \n",
       "    \n",
       "            var mouse_position_4b102f9db04fc173ed8a1fce0a3e2b3f = new L.Control.MousePosition(\n",
       "                {&quot;emptyString&quot;: &quot;Unavailable&quot;, &quot;lngFirst&quot;: false, &quot;numDigits&quot;: 5, &quot;position&quot;: &quot;bottomright&quot;, &quot;prefix&quot;: &quot;&quot;, &quot;separator&quot;: &quot; : &quot;}\n",
       "            );\n",
       "            mouse_position_4b102f9db04fc173ed8a1fce0a3e2b3f.options[&quot;latFormatter&quot;] =\n",
       "                undefined;\n",
       "            mouse_position_4b102f9db04fc173ed8a1fce0a3e2b3f.options[&quot;lngFormatter&quot;] =\n",
       "                undefined;\n",
       "            map_ea9422e0df5b78dbe5cb0f5d14f298ce.addControl(mouse_position_4b102f9db04fc173ed8a1fce0a3e2b3f);\n",
       "        \n",
       "    \n",
       "            var layer_control_b7f21991f88c3092e0532cd8a0f682db = {\n",
       "                base_layers : {\n",
       "                    &quot;https://mt1.google.com/vt/lyrs=s\\u0026x={x}\\u0026y={y}\\u0026z={z}&quot; : tile_layer_84ce4df64aa2d4e78ad0114cb682eb2c,\n",
       "                },\n",
       "                overlays :  {\n",
       "                    &quot;Water classification XGBOOST predicted mask&quot; : image_overlay_58ff4b57a24bb76667264fc63fdefc84,\n",
       "                },\n",
       "            };\n",
       "            L.control.layers(\n",
       "                layer_control_b7f21991f88c3092e0532cd8a0f682db.base_layers,\n",
       "                layer_control_b7f21991f88c3092e0532cd8a0f682db.overlays,\n",
       "                {&quot;autoZIndex&quot;: true, &quot;collapsed&quot;: true, &quot;position&quot;: &quot;topright&quot;}\n",
       "            ).addTo(map_ea9422e0df5b78dbe5cb0f5d14f298ce);\n",
       "        \n",
       "&lt;/script&gt;\" style=\"position:absolute;width:100%;height:100%;left:0;top:0;border:none !important;\" allowfullscreen webkitallowfullscreen mozallowfullscreen></iframe></div></div>"
      ],
      "text/plain": [
       "<folium.folium.Map at 0x195d33610>"
      ]
     },
     "execution_count": 84,
     "metadata": {},
     "output_type": "execute_result"
    }
   ],
   "source": [
    "m.add_child(folium_helper.get_overlay(mask_rgb, mask_d, 'Water classification XGBOOST predicted mask', opacity=0.6))\n",
    "m.add_child(plugins.MousePosition())\n",
    "m.add_child(folium.LayerControl())"
   ]
  },
  {
   "cell_type": "code",
   "execution_count": null,
   "metadata": {},
   "outputs": [],
   "source": []
  }
 ],
 "metadata": {
  "kernelspec": {
   "display_name": "aicoe",
   "language": "python",
   "name": "aicoe"
  },
  "language_info": {
   "codemirror_mode": {
    "name": "ipython",
    "version": 3
   },
   "file_extension": ".py",
   "mimetype": "text/x-python",
   "name": "python",
   "nbconvert_exporter": "python",
   "pygments_lexer": "ipython3",
   "version": "3.10.5"
  }
 },
 "nbformat": 4,
 "nbformat_minor": 4
}
