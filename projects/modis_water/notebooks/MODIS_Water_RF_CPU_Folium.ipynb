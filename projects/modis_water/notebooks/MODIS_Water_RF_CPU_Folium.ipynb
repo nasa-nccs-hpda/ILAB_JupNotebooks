{
 "cells": [
  {
   "cell_type": "markdown",
   "metadata": {},
   "source": [
    "# Water Clasification Random Forest CPU\n",
    "\n",
    "Version: DEMO\n",
    "\n",
    "ILAB Team\n",
    "\n",
    "Kernel to use:\n",
    "- (ADAPT PRISM) `Python [conda env:ilab]`\n",
    "\n",
    "This is a demo notebook showcasing how the ILAB team uses sklearn capabilities to perform efficient CPU-based training of a Random Forest classifier algorithm. This notebook also demonstates how to use a raster as a test data-set for the trained model."
   ]
  },
  {
   "cell_type": "code",
   "execution_count": 1,
   "metadata": {},
   "outputs": [],
   "source": [
    "import csv\n",
    "import datetime\n",
    "import glob\n",
    "import joblib\n",
    "import numpy as np\n",
    "import os\n",
    "import pandas as pd\n",
    "from pathlib import Path\n",
    "import sys\n",
    "from pprint import pprint\n",
    "import time\n",
    "\n",
    "# Scikit learn\n",
    "from sklearn.ensemble import RandomForestClassifier\n",
    "from sklearn.metrics import confusion_matrix, accuracy_score, roc_auc_score\n",
    "from sklearn.metrics import classification_report\n",
    "from sklearn.model_selection import train_test_split, RandomizedSearchCV, KFold\n",
    "from sklearn.inspection import permutation_importance\n",
    "\n",
    "# Visualization\n",
    "import seaborn as sns\n",
    "import matplotlib.pyplot as plt\n",
    "import warnings\n",
    "\n",
    "#GDAL Stuff\n",
    "from osgeo import gdalconst\n",
    "from osgeo import gdal\n",
    "\n",
    "plt.style.use('fivethirtyeight')\n",
    "warnings.filterwarnings('ignore')\n",
    "%matplotlib inline"
   ]
  },
  {
   "cell_type": "code",
   "execution_count": 2,
   "metadata": {},
   "outputs": [],
   "source": [
    "DATA_TYPE = np.float32"
   ]
  },
  {
   "cell_type": "code",
   "execution_count": 3,
   "metadata": {},
   "outputs": [],
   "source": [
    "v_names = ['sur_refl_b01_1','sur_refl_b02_1','sur_refl_b03_1',\n",
    "           'sur_refl_b04_1','sur_refl_b05_1','sur_refl_b06_1',\n",
    "           'sur_refl_b07_1','ndvi','ndwi1','ndwi2']"
   ]
  },
  {
   "cell_type": "markdown",
   "metadata": {},
   "source": [
    "Add names from above to this list to drop them from training and testing.\n",
    "\n",
    "For example:\n",
    "\n",
    "```python\n",
    "columnsToDrop = ['sur_refl_b01_1', 'sur_refl_b07_1', 'ndwi1']\n",
    "```"
   ]
  },
  {
   "cell_type": "code",
   "execution_count": 4,
   "metadata": {},
   "outputs": [],
   "source": [
    "columnsToDrop = []"
   ]
  },
  {
   "cell_type": "markdown",
   "metadata": {},
   "source": [
    "This is a 1000 row training dataset which has columns for all the features listed in v_names. MODIS MOD09GA and MOD09GQ were the data sources."
   ]
  },
  {
   "cell_type": "code",
   "execution_count": 5,
   "metadata": {},
   "outputs": [],
   "source": [
    "dfPath = '../data/WaterClassificationPowell.parquet.gzip'"
   ]
  },
  {
   "cell_type": "code",
   "execution_count": 6,
   "metadata": {},
   "outputs": [],
   "source": [
    "outputRasterPath = '.'"
   ]
  },
  {
   "cell_type": "code",
   "execution_count": 7,
   "metadata": {},
   "outputs": [],
   "source": [
    "df = pd.read_parquet(dfPath).astype(DATA_TYPE)\n",
    "df = df.drop(columns=columnsToDrop)\n",
    "X = df.drop(['water'], axis=1)\n",
    "y = df['water']\n",
    "X_train, X_test, y_train, y_test = train_test_split(X, y, test_size=0.2)"
   ]
  },
  {
   "cell_type": "code",
   "execution_count": 8,
   "metadata": {},
   "outputs": [
    {
     "data": {
      "text/plain": [
       "5"
      ]
     },
     "execution_count": 8,
     "metadata": {},
     "output_type": "execute_result"
    }
   ],
   "source": [
    "kf = KFold(n_splits=5)\n",
    "kf.get_n_splits(X_train)"
   ]
  },
  {
   "cell_type": "markdown",
   "metadata": {},
   "source": [
    "## Data \n",
    "- Read in to cuDF Dataframe\n",
    "- Drop unnecessary columns\n",
    "- Split into Xs and Ys"
   ]
  },
  {
   "cell_type": "markdown",
   "metadata": {},
   "source": [
    "## Load in data for use of visualizations \n",
    "(skip this if you just want to train model)"
   ]
  },
  {
   "cell_type": "code",
   "execution_count": 9,
   "metadata": {},
   "outputs": [
    {
     "name": "stdout",
     "output_type": "stream",
     "text": [
      "sur_refl_b01_1\n",
      "sur_refl_b02_1\n",
      "sur_refl_b03_1\n",
      "sur_refl_b04_1\n",
      "sur_refl_b05_1\n",
      "sur_refl_b06_1\n",
      "sur_refl_b07_1\n",
      "ndvi\n",
      "ndwi1\n",
      "ndwi2\n"
     ]
    }
   ],
   "source": [
    "_ = [print(column) for column in X_train.columns]"
   ]
  },
  {
   "cell_type": "code",
   "execution_count": 10,
   "metadata": {},
   "outputs": [
    {
     "data": {
      "text/html": [
       "<div>\n",
       "<style scoped>\n",
       "    .dataframe tbody tr th:only-of-type {\n",
       "        vertical-align: middle;\n",
       "    }\n",
       "\n",
       "    .dataframe tbody tr th {\n",
       "        vertical-align: top;\n",
       "    }\n",
       "\n",
       "    .dataframe thead th {\n",
       "        text-align: right;\n",
       "    }\n",
       "</style>\n",
       "<table border=\"1\" class=\"dataframe\">\n",
       "  <thead>\n",
       "    <tr style=\"text-align: right;\">\n",
       "      <th></th>\n",
       "      <th>count</th>\n",
       "      <th>mean</th>\n",
       "      <th>std</th>\n",
       "      <th>min</th>\n",
       "      <th>25%</th>\n",
       "      <th>50%</th>\n",
       "      <th>75%</th>\n",
       "      <th>max</th>\n",
       "    </tr>\n",
       "  </thead>\n",
       "  <tbody>\n",
       "    <tr>\n",
       "      <th>sur_refl_b01_1</th>\n",
       "      <td>800.0</td>\n",
       "      <td>1258.096191</td>\n",
       "      <td>1340.759766</td>\n",
       "      <td>8.000000</td>\n",
       "      <td>235.750000</td>\n",
       "      <td>948.500000</td>\n",
       "      <td>1939.500000</td>\n",
       "      <td>9222.000000</td>\n",
       "    </tr>\n",
       "    <tr>\n",
       "      <th>sur_refl_b02_1</th>\n",
       "      <td>800.0</td>\n",
       "      <td>1635.454956</td>\n",
       "      <td>1598.351318</td>\n",
       "      <td>2.000000</td>\n",
       "      <td>172.750000</td>\n",
       "      <td>1489.500000</td>\n",
       "      <td>2717.500000</td>\n",
       "      <td>8837.000000</td>\n",
       "    </tr>\n",
       "    <tr>\n",
       "      <th>sur_refl_b03_1</th>\n",
       "      <td>800.0</td>\n",
       "      <td>770.067505</td>\n",
       "      <td>1065.750488</td>\n",
       "      <td>-100.000000</td>\n",
       "      <td>288.000000</td>\n",
       "      <td>568.500000</td>\n",
       "      <td>865.750000</td>\n",
       "      <td>8909.000000</td>\n",
       "    </tr>\n",
       "    <tr>\n",
       "      <th>sur_refl_b04_1</th>\n",
       "      <td>800.0</td>\n",
       "      <td>1062.625000</td>\n",
       "      <td>1122.454956</td>\n",
       "      <td>6.000000</td>\n",
       "      <td>413.000000</td>\n",
       "      <td>861.500000</td>\n",
       "      <td>1346.250000</td>\n",
       "      <td>9162.000000</td>\n",
       "    </tr>\n",
       "    <tr>\n",
       "      <th>sur_refl_b05_1</th>\n",
       "      <td>800.0</td>\n",
       "      <td>2023.324951</td>\n",
       "      <td>1481.220093</td>\n",
       "      <td>-92.000000</td>\n",
       "      <td>555.500000</td>\n",
       "      <td>1880.500000</td>\n",
       "      <td>3261.500000</td>\n",
       "      <td>6382.000000</td>\n",
       "    </tr>\n",
       "    <tr>\n",
       "      <th>sur_refl_b06_1</th>\n",
       "      <td>800.0</td>\n",
       "      <td>1982.285034</td>\n",
       "      <td>1553.377441</td>\n",
       "      <td>45.000000</td>\n",
       "      <td>511.250000</td>\n",
       "      <td>1630.000000</td>\n",
       "      <td>3303.000000</td>\n",
       "      <td>6610.000000</td>\n",
       "    </tr>\n",
       "    <tr>\n",
       "      <th>sur_refl_b07_1</th>\n",
       "      <td>800.0</td>\n",
       "      <td>1635.647461</td>\n",
       "      <td>1408.475098</td>\n",
       "      <td>1.000000</td>\n",
       "      <td>328.000000</td>\n",
       "      <td>1253.500000</td>\n",
       "      <td>2764.000000</td>\n",
       "      <td>6128.000000</td>\n",
       "    </tr>\n",
       "    <tr>\n",
       "      <th>ndvi</th>\n",
       "      <td>800.0</td>\n",
       "      <td>114.366447</td>\n",
       "      <td>2476.145996</td>\n",
       "      <td>-9493.670898</td>\n",
       "      <td>-1411.943359</td>\n",
       "      <td>761.689178</td>\n",
       "      <td>1738.830963</td>\n",
       "      <td>8587.457031</td>\n",
       "    </tr>\n",
       "    <tr>\n",
       "      <th>ndwi1</th>\n",
       "      <td>800.0</td>\n",
       "      <td>-2303.467773</td>\n",
       "      <td>3440.189453</td>\n",
       "      <td>-9727.272461</td>\n",
       "      <td>-4578.389038</td>\n",
       "      <td>-1572.635315</td>\n",
       "      <td>-778.649902</td>\n",
       "      <td>8823.803711</td>\n",
       "    </tr>\n",
       "    <tr>\n",
       "      <th>ndwi2</th>\n",
       "      <td>800.0</td>\n",
       "      <td>-911.150757</td>\n",
       "      <td>3839.955566</td>\n",
       "      <td>-9615.384766</td>\n",
       "      <td>-2856.181274</td>\n",
       "      <td>-695.494446</td>\n",
       "      <td>850.627075</td>\n",
       "      <td>9848.484375</td>\n",
       "    </tr>\n",
       "  </tbody>\n",
       "</table>\n",
       "</div>"
      ],
      "text/plain": [
       "                count         mean          std          min          25%  \\\n",
       "sur_refl_b01_1  800.0  1258.096191  1340.759766     8.000000   235.750000   \n",
       "sur_refl_b02_1  800.0  1635.454956  1598.351318     2.000000   172.750000   \n",
       "sur_refl_b03_1  800.0   770.067505  1065.750488  -100.000000   288.000000   \n",
       "sur_refl_b04_1  800.0  1062.625000  1122.454956     6.000000   413.000000   \n",
       "sur_refl_b05_1  800.0  2023.324951  1481.220093   -92.000000   555.500000   \n",
       "sur_refl_b06_1  800.0  1982.285034  1553.377441    45.000000   511.250000   \n",
       "sur_refl_b07_1  800.0  1635.647461  1408.475098     1.000000   328.000000   \n",
       "ndvi            800.0   114.366447  2476.145996 -9493.670898 -1411.943359   \n",
       "ndwi1           800.0 -2303.467773  3440.189453 -9727.272461 -4578.389038   \n",
       "ndwi2           800.0  -911.150757  3839.955566 -9615.384766 -2856.181274   \n",
       "\n",
       "                        50%          75%          max  \n",
       "sur_refl_b01_1   948.500000  1939.500000  9222.000000  \n",
       "sur_refl_b02_1  1489.500000  2717.500000  8837.000000  \n",
       "sur_refl_b03_1   568.500000   865.750000  8909.000000  \n",
       "sur_refl_b04_1   861.500000  1346.250000  9162.000000  \n",
       "sur_refl_b05_1  1880.500000  3261.500000  6382.000000  \n",
       "sur_refl_b06_1  1630.000000  3303.000000  6610.000000  \n",
       "sur_refl_b07_1  1253.500000  2764.000000  6128.000000  \n",
       "ndvi             761.689178  1738.830963  8587.457031  \n",
       "ndwi1          -1572.635315  -778.649902  8823.803711  \n",
       "ndwi2           -695.494446   850.627075  9848.484375  "
      ]
     },
     "execution_count": 10,
     "metadata": {},
     "output_type": "execute_result"
    }
   ],
   "source": [
    "X_train.describe().T"
   ]
  },
  {
   "cell_type": "markdown",
   "metadata": {},
   "source": [
    "## Random Forest Model\n",
    "\n",
    "### Model Definition"
   ]
  },
  {
   "cell_type": "code",
   "execution_count": 11,
   "metadata": {},
   "outputs": [],
   "source": [
    "hyperparameters = {\n",
    "     'bootstrap': True,\n",
    "     'ccp_alpha': 0.0,\n",
    "     'class_weight': None,\n",
    "     'criterion': 'gini',\n",
    "     'max_depth': None,\n",
    "     'max_features': 'auto',\n",
    "     'max_leaf_nodes': None,\n",
    "     'max_samples': None,\n",
    "     'min_impurity_decrease': 0.0,\n",
    "     'min_samples_leaf': 1,\n",
    "     'min_samples_split': 2,\n",
    "     'min_weight_fraction_leaf': 0.0,\n",
    "     'n_estimators': 100,\n",
    "     'n_jobs': None,\n",
    "     'oob_score': False,\n",
    "     'random_state': None,\n",
    "     'verbose': 0,\n",
    "     'warm_start': False}"
   ]
  },
  {
   "cell_type": "code",
   "execution_count": 12,
   "metadata": {},
   "outputs": [],
   "source": [
    "classifier = RandomForestClassifier(**hyperparameters)"
   ]
  },
  {
   "cell_type": "markdown",
   "metadata": {},
   "source": [
    "# Training"
   ]
  },
  {
   "cell_type": "markdown",
   "metadata": {},
   "source": [
    "## K-Fold Cross Validation"
   ]
  },
  {
   "cell_type": "code",
   "execution_count": 13,
   "metadata": {},
   "outputs": [
    {
     "name": "stdout",
     "output_type": "stream",
     "text": [
      "Fitting model\n",
      "Time to fit model: 0.12104272842407227s\n",
      "Getting score\n",
      "Training accuracy score: 0.9875\n",
      "Predicting for test set\n",
      "              precision    recall  f1-score   support\n",
      "\n",
      "         0.0       0.99      0.97      0.98        98\n",
      "         1.0       0.97      0.99      0.98       102\n",
      "\n",
      "    accuracy                           0.98       200\n",
      "   macro avg       0.98      0.98      0.98       200\n",
      "weighted avg       0.98      0.98      0.98       200\n",
      "\n",
      "Score: 0.9875\n",
      "Fitting model\n",
      "Time to fit model: 0.11393141746520996s\n",
      "Getting score\n",
      "Predicting for test set\n",
      "              precision    recall  f1-score   support\n",
      "\n",
      "         0.0       1.00      0.97      0.98        98\n",
      "         1.0       0.97      1.00      0.99       102\n",
      "\n",
      "    accuracy                           0.98       200\n",
      "   macro avg       0.99      0.98      0.98       200\n",
      "weighted avg       0.99      0.98      0.98       200\n",
      "\n",
      "Score: 0.975\n",
      "Fitting model\n",
      "Time to fit model: 0.11682486534118652s\n",
      "Getting score\n",
      "Predicting for test set\n",
      "              precision    recall  f1-score   support\n",
      "\n",
      "         0.0       0.98      0.97      0.97        98\n",
      "         1.0       0.97      0.98      0.98       102\n",
      "\n",
      "    accuracy                           0.97       200\n",
      "   macro avg       0.98      0.97      0.97       200\n",
      "weighted avg       0.98      0.97      0.97       200\n",
      "\n",
      "Score: 0.96875\n",
      "Fitting model\n",
      "Time to fit model: 0.11233401298522949s\n",
      "Getting score\n",
      "Predicting for test set\n",
      "              precision    recall  f1-score   support\n",
      "\n",
      "         0.0       0.99      0.97      0.98        98\n",
      "         1.0       0.97      0.99      0.98       102\n",
      "\n",
      "    accuracy                           0.98       200\n",
      "   macro avg       0.98      0.98      0.98       200\n",
      "weighted avg       0.98      0.98      0.98       200\n",
      "\n",
      "Score: 0.975\n",
      "Fitting model\n",
      "Time to fit model: 0.11429476737976074s\n",
      "Getting score\n",
      "Predicting for test set\n",
      "              precision    recall  f1-score   support\n",
      "\n",
      "         0.0       0.99      0.96      0.97        98\n",
      "         1.0       0.96      0.99      0.98       102\n",
      "\n",
      "    accuracy                           0.97       200\n",
      "   macro avg       0.98      0.97      0.97       200\n",
      "weighted avg       0.98      0.97      0.97       200\n",
      "\n",
      "Score: 0.98125\n",
      "CPU times: user 661 ms, sys: 15.3 ms, total: 676 ms\n",
      "Wall time: 676 ms\n"
     ]
    }
   ],
   "source": [
    "%%time\n",
    "bestModel = None\n",
    "bestModelScore = 0\n",
    "scores = []\n",
    "for trainIdx, testIdx in kf.split(X_train):\n",
    "    X_train_valid, X_test_valid = X_train.iloc[trainIdx], X_train.iloc[testIdx]\n",
    "    y_train_valid, y_test_valid = y_train.iloc[trainIdx], y_train.iloc[testIdx]\n",
    "    print('Fitting model')\n",
    "    st = time.time()\n",
    "    classifier.fit(X_train_valid, y_train_valid)\n",
    "    et = time.time()\n",
    "    print('Time to fit model: {}s'.format(et-st))\n",
    "    print('Getting score')\n",
    "    score = classifier.score(X_test_valid, y_test_valid)\n",
    "    if score>=bestModelScore:\n",
    "        bestModelScore = score\n",
    "        print('Training accuracy score: {}'.format(score))\n",
    "        bestModel = classifier\n",
    "    print('Predicting for test set')\n",
    "    test_predictions = classifier.predict(X_test)\n",
    "    print(classification_report(y_test, test_predictions))\n",
    "    print('Score: {}'.format(score))\n",
    "    scores.append(score)\n",
    "    del test_predictions, score"
   ]
  },
  {
   "cell_type": "code",
   "execution_count": 14,
   "metadata": {},
   "outputs": [
    {
     "name": "stdout",
     "output_type": "stream",
     "text": [
      "Average accuracy score: 0.9775\n",
      "Best accuracy score: 0.9875\n"
     ]
    }
   ],
   "source": [
    "scoreAvg = np.asarray(scores).mean()\n",
    "print('Average accuracy score: {}'.format(scoreAvg))\n",
    "print('Best accuracy score: {}'.format(bestModelScore))"
   ]
  },
  {
   "cell_type": "markdown",
   "metadata": {},
   "source": [
    "## Regular fitting"
   ]
  },
  {
   "cell_type": "code",
   "execution_count": 15,
   "metadata": {},
   "outputs": [],
   "source": [
    "classifier = RandomForestClassifier(**hyperparameters)"
   ]
  },
  {
   "cell_type": "code",
   "execution_count": 16,
   "metadata": {},
   "outputs": [
    {
     "name": "stdout",
     "output_type": "stream",
     "text": [
      "CPU times: user 121 ms, sys: 6.93 ms, total: 128 ms\n",
      "Wall time: 128 ms\n"
     ]
    },
    {
     "data": {
      "text/plain": [
       "RandomForestClassifier()"
      ]
     },
     "execution_count": 16,
     "metadata": {},
     "output_type": "execute_result"
    }
   ],
   "source": [
    "%%time\n",
    "\n",
    "classifier.fit(X_train, y_train)"
   ]
  },
  {
   "cell_type": "markdown",
   "metadata": {},
   "source": [
    "### Get model metrics"
   ]
  },
  {
   "cell_type": "code",
   "execution_count": 17,
   "metadata": {},
   "outputs": [],
   "source": [
    "classifier = bestModel"
   ]
  },
  {
   "cell_type": "code",
   "execution_count": 18,
   "metadata": {},
   "outputs": [
    {
     "data": {
      "text/plain": [
       "0.975"
      ]
     },
     "execution_count": 18,
     "metadata": {},
     "output_type": "execute_result"
    }
   ],
   "source": [
    "score = classifier.score(X_test, y_test)\n",
    "score = round(score, 3)\n",
    "score"
   ]
  },
  {
   "cell_type": "code",
   "execution_count": 19,
   "metadata": {},
   "outputs": [],
   "source": [
    "train_predictions = classifier.predict(X_train)\n",
    "test_predictions = classifier.predict(X_test)\n",
    "prediction_probs = classifier.predict_proba(X_test)"
   ]
  },
  {
   "cell_type": "code",
   "execution_count": 20,
   "metadata": {},
   "outputs": [],
   "source": [
    "test_predictions = test_predictions.astype(np.int16)\n",
    "y_test_int = y_test.astype(np.int16)"
   ]
  },
  {
   "cell_type": "code",
   "execution_count": 21,
   "metadata": {},
   "outputs": [
    {
     "name": "stdout",
     "output_type": "stream",
     "text": [
      "Train Performance\n",
      "-------------------------------------------------------\n",
      "              precision    recall  f1-score   support\n",
      "\n",
      "         0.0       1.00      0.99      1.00       402\n",
      "         1.0       0.99      1.00      1.00       398\n",
      "\n",
      "    accuracy                           1.00       800\n",
      "   macro avg       1.00      1.00      1.00       800\n",
      "weighted avg       1.00      1.00      1.00       800\n",
      "\n",
      "Test Performance\n",
      "-------------------------------------------------------\n",
      "              precision    recall  f1-score   support\n",
      "\n",
      "         0.0       0.99      0.96      0.97        98\n",
      "         1.0       0.96      0.99      0.98       102\n",
      "\n",
      "    accuracy                           0.97       200\n",
      "   macro avg       0.98      0.97      0.97       200\n",
      "weighted avg       0.98      0.97      0.97       200\n",
      "\n",
      "Test Recall\n",
      "-------------------------------------------------------\n",
      "0.9591836734693877\n",
      "Confusion Matrix\n",
      "-------------------------------------------------------\n",
      "[[ 94   4]\n",
      " [  1 101]]\n"
     ]
    }
   ],
   "source": [
    "print('Train Performance')\n",
    "print('-------------------------------------------------------')\n",
    "print(classification_report(y_train, train_predictions))\n",
    "print('Test Performance')\n",
    "print('-------------------------------------------------------')\n",
    "print(classification_report(y_test, test_predictions))\n",
    "cm = confusion_matrix(y_test_int, test_predictions)\n",
    "recall = (cm[0][0] / (cm[0][0] + cm[0][1]))\n",
    "print('Test Recall')\n",
    "print('-------------------------------------------------------')\n",
    "print(recall)\n",
    "print('Confusion Matrix')\n",
    "print('-------------------------------------------------------')\n",
    "print(cm)"
   ]
  },
  {
   "cell_type": "code",
   "execution_count": 22,
   "metadata": {},
   "outputs": [
    {
     "name": "stdout",
     "output_type": "stream",
     "text": [
      "CPU times: user 783 ms, sys: 5.49 ms, total: 788 ms\n",
      "Wall time: 791 ms\n"
     ]
    }
   ],
   "source": [
    "%%time\n",
    "permutation_importance_results = permutation_importance(classifier,\n",
    "                                                        X=X_test,\n",
    "                                                        y=y_test,\n",
    "                                                        n_repeats=10,\n",
    "                                                        random_state=42)"
   ]
  },
  {
   "cell_type": "code",
   "execution_count": 23,
   "metadata": {},
   "outputs": [
    {
     "data": {
      "text/plain": [
       "Text(0.5, 0, 'Permutation Importance')"
      ]
     },
     "execution_count": 23,
     "metadata": {},
     "output_type": "execute_result"
    },
    {
     "data": {
      "image/png": "[encoded data removed]",
      "text/plain": [
       "<Figure size 576x576 with 1 Axes>"
      ]
     },
     "metadata": {
      "needs_background": "light"
     },
     "output_type": "display_data"
    }
   ],
   "source": [
    "sorted_idx = permutation_importance_results.importances_mean.argsort()\n",
    "plt.figure(figsize=(8, 8))\n",
    "plt.barh(X_test.columns[sorted_idx], permutation_importance_results.importances_mean[sorted_idx])\n",
    "plt.xlabel(\"Permutation Importance\")"
   ]
  },
  {
   "cell_type": "code",
   "execution_count": 24,
   "metadata": {},
   "outputs": [],
   "source": [
    "del X_train, X_test, y_train, y_test, test_predictions, train_predictions, prediction_probs, y_test_int"
   ]
  },
  {
   "cell_type": "markdown",
   "metadata": {},
   "source": [
    "## Save the model for future use"
   ]
  },
  {
   "cell_type": "code",
   "execution_count": 25,
   "metadata": {},
   "outputs": [
    {
     "name": "stdout",
     "output_type": "stream",
     "text": [
      "Saving model to: ./water_classifier_rf_gpu.sav\n",
      "RandomForestClassifier()\n"
     ]
    },
    {
     "data": {
      "text/plain": [
       "['./water_classifier_rf_gpu.sav']"
      ]
     },
     "execution_count": 25,
     "metadata": {},
     "output_type": "execute_result"
    }
   ],
   "source": [
    "model_save_path = './water_classifier_rf_gpu.sav'\n",
    "print('Saving model to: {}'.format(model_save_path))\n",
    "print(classifier)\n",
    "joblib.dump(classifier, model_save_path, compress=3)"
   ]
  },
  {
   "cell_type": "markdown",
   "metadata": {},
   "source": [
    "# Testing: Raster testing"
   ]
  },
  {
   "cell_type": "markdown",
   "metadata": {},
   "source": [
    "### Read in data \n",
    "\n",
    "These are modified MOD09GA and MOD09GQ products for the 2001 julian day 155. They were modified to be clipped to the Lake Powell region."
   ]
  },
  {
   "cell_type": "code",
   "execution_count": 26,
   "metadata": {},
   "outputs": [],
   "source": [
    "fileList = sorted([file for file in glob.glob('../data/IL.*.Powell.*.tif') if 'sur_refl' in file])"
   ]
  },
  {
   "cell_type": "code",
   "execution_count": 27,
   "metadata": {},
   "outputs": [],
   "source": [
    "def readRastersToArray(fileList):\n",
    "    rasterProjection = None\n",
    "    newshp = (1300*1300, 10)\n",
    "    img = np.empty(newshp, dtype=np.int16)\n",
    "    for i, fileName in enumerate(fileList):\n",
    "        ds = gdal.Open(fileName)\n",
    "        img[:, i] = ds.GetRasterBand(1).ReadAsArray().astype(np.int16).ravel()\n",
    "        if i == 0:\n",
    "            rasterProjection = ds.GetProjection()\n",
    "        ds = None\n",
    "    img[:, len(fileList)] = ((img[:, 1] - img[:, 0]) / (img[:, 1] + img[:, 0])) * 10000\n",
    "    img[:, len(fileList)+1] = ((img[:, 1] - img[:, 5]) / (img[:, 1] + img[:, 5])) * 10000\n",
    "    img[:, len(fileList)+2] = ((img[:, 1] - img[:, 6]) / (img[:, 1] + img[:, 6])) * 10000\n",
    "    return img, rasterProjection"
   ]
  },
  {
   "cell_type": "code",
   "execution_count": 28,
   "metadata": {},
   "outputs": [
    {
     "name": "stdout",
     "output_type": "stream",
     "text": [
      "Raster as ndarray\n",
      "[[ 1547  2461   857 ...  2280  -518   510]\n",
      " [ 1474  2377   857 ...  2344  -691   337]\n",
      " [ 1474  2377   846 ...  2344  -472   623]\n",
      " ...\n",
      " [ 2358  2979  1028 ...  1163 -1727 -1292]\n",
      " [ 2425  3069  1117 ...  1172 -1721 -1216]\n",
      " [ 2402  3038  1117 ...  1169 -1770 -1266]]\n",
      "33.8 MB size\n",
      "CPU times: user 247 ms, sys: 27.1 ms, total: 274 ms\n",
      "Wall time: 434 ms\n"
     ]
    }
   ],
   "source": [
    "%%time\n",
    "im, rasterProjection = readRastersToArray(fileList)\n",
    "print('Raster as ndarray')\n",
    "print(im)\n",
    "print('{} MB size'.format((im.size * im.itemsize) / 1000000))"
   ]
  },
  {
   "cell_type": "markdown",
   "metadata": {},
   "source": [
    "### Load in the model"
   ]
  },
  {
   "cell_type": "code",
   "execution_count": 29,
   "metadata": {},
   "outputs": [],
   "source": [
    "def predictRaster(img_chunk, colsToDrop=None):\n",
    "    \"\"\"\n",
    "    Function given a raster in the form of a nxn matrix, will\n",
    "    convert the matrix to a GPU-bound data frame then perform \n",
    "    predictions given the loaded model.\n",
    "    \n",
    "    Return the prediction matrix, the prediction probabilities\n",
    "    for each and the dataframe converted to host.\n",
    "    \"\"\"\n",
    "    print('Converting host array to CPU-based dataframe')\n",
    "    df = pd.DataFrame(img_chunk, columns=v_names, dtype=np.float32)\n",
    "    df = df.drop(columns=columnsToDrop)\n",
    "    print('Making predictions from raster')\n",
    "    predictions = classifier.predict(df)\n",
    "    predictionsProbs = classifier.predict_proba(df)\n",
    "    return predictions, predictionsProbs, df"
   ]
  },
  {
   "cell_type": "code",
   "execution_count": 30,
   "metadata": {},
   "outputs": [
    {
     "name": "stdout",
     "output_type": "stream",
     "text": [
      "Converting host array to CPU-based dataframe\n",
      "Making predictions from raster\n",
      "CPU times: user 10.3 s, sys: 87.5 ms, total: 10.4 s\n",
      "Wall time: 10.4 s\n"
     ]
    }
   ],
   "source": [
    "%%time\n",
    "predictedRaster, predictedProbaRaster, df = predictRaster(im)"
   ]
  },
  {
   "cell_type": "markdown",
   "metadata": {},
   "source": [
    "### Description of the predicted probability for each pixel in the raster (no bad-data vals masked yet)"
   ]
  },
  {
   "cell_type": "code",
   "execution_count": 31,
   "metadata": {},
   "outputs": [],
   "source": [
    "shp = (1300, 1300)\n",
    "left = list()\n",
    "right = list()\n",
    "for i, subarr in enumerate(predictedProbaRaster):\n",
    "    left.append(subarr[0])\n",
    "    right.append(subarr[1])\n",
    "leftArr = np.asarray(left)\n",
    "rightArr = np.asarray(right)\n",
    "probaLand = leftArr.reshape(shp)\n",
    "probaWater = rightArr.reshape(shp)"
   ]
  },
  {
   "cell_type": "markdown",
   "metadata": {},
   "source": [
    "#### Reshape the unravelled matrix back to the 4800x4800 raster shape"
   ]
  },
  {
   "cell_type": "code",
   "execution_count": 32,
   "metadata": {},
   "outputs": [
    {
     "data": {
      "text/plain": [
       "(1300, 1300)"
      ]
     },
     "execution_count": 32,
     "metadata": {},
     "output_type": "execute_result"
    }
   ],
   "source": [
    "shp = (1300, 1300)\n",
    "matrix = np.asarray(predictedRaster)\n",
    "reshp = matrix.reshape(shp)\n",
    "reshp.shape"
   ]
  },
  {
   "cell_type": "markdown",
   "metadata": {},
   "source": [
    "Add QA mask to prediction"
   ]
  },
  {
   "cell_type": "code",
   "execution_count": 33,
   "metadata": {},
   "outputs": [
    {
     "data": {
      "text/plain": [
       "array([[1, 1, 1, ..., 1, 1, 1],\n",
       "       [1, 1, 1, ..., 1, 1, 1],\n",
       "       [1, 1, 1, ..., 1, 1, 1],\n",
       "       ...,\n",
       "       [0, 0, 0, ..., 0, 0, 0],\n",
       "       [0, 0, 0, ..., 0, 0, 0],\n",
       "       [0, 0, 0, ..., 0, 0, 0]], dtype=int16)"
      ]
     },
     "execution_count": 33,
     "metadata": {},
     "output_type": "execute_result"
    }
   ],
   "source": [
    "qa = [file for file in glob.glob('../data/*.tif') if 'qa' in file][0]\n",
    "ds = gdal.Open(qa)\n",
    "qaMask = ds.GetRasterBand(1).ReadAsArray()\n",
    "output = np.where(qaMask == 0, reshp, -9999)\n",
    "qaMask"
   ]
  },
  {
   "cell_type": "code",
   "execution_count": 34,
   "metadata": {},
   "outputs": [
    {
     "name": "stdout",
     "output_type": "stream",
     "text": [
      "Predicted\n",
      " No-data occuraces: 61568\n",
      " Land occurances: 1616625\n",
      " Water occurances: 11807\n"
     ]
    }
   ],
   "source": [
    "countNoData = np.count_nonzero(output == -9999)\n",
    "countLand = np.count_nonzero(output == 0)\n",
    "countWater = np.count_nonzero(output == 1)\n",
    "print('Predicted\\n No-data occuraces: {}\\n Land occurances: {}\\n Water occurances: {}'.format(countNoData, countLand, countWater))"
   ]
  },
  {
   "cell_type": "markdown",
   "metadata": {},
   "source": [
    "## Output predicted raster to GeoTiff"
   ]
  },
  {
   "cell_type": "code",
   "execution_count": 35,
   "metadata": {},
   "outputs": [],
   "source": [
    "geoTransform = (-9961223.407, 231.65635, 0.0, 4285642.633667, 0.0, -231.65635)"
   ]
  },
  {
   "cell_type": "code",
   "execution_count": 36,
   "metadata": {},
   "outputs": [],
   "source": [
    "predictedPath = os.path.join(outputRasterPath, 'PowellPredictedWaterMask.tif')\n",
    "\n",
    "driver = gdal.GetDriverByName('GTiff')\n",
    "outDs = driver.Create(predictedPath, 1300, 1300, 1, gdal.GDT_Int16, options=['COMPRESS=LZW'])\n",
    "outDs.SetGeoTransform(geoTransform)\n",
    "outDs.SetProjection(rasterProjection)\n",
    "outBand = outDs.GetRasterBand(1)\n",
    "outBand.WriteArray(output)\n",
    "outBand.SetNoDataValue(-9999)\n",
    "outDs.FlushCache()\n",
    "outDs = None\n",
    "outBand = None\n",
    "driver = None"
   ]
  },
  {
   "cell_type": "markdown",
   "metadata": {},
   "source": [
    "## View predictions with Folium"
   ]
  },
  {
   "cell_type": "code",
   "execution_count": 37,
   "metadata": {},
   "outputs": [],
   "source": [
    "import folium\n",
    "from folium import plugins\n",
    "\n",
    "sys.path.append('../scripts')\n",
    "import folium_helper"
   ]
  },
  {
   "cell_type": "code",
   "execution_count": 38,
   "metadata": {},
   "outputs": [
    {
     "name": "stdout",
     "output_type": "stream",
     "text": [
      "Transform: | 491.82, 0.00,-12749861.52|\n",
      "| 0.00,-491.82, 4656230.30|\n",
      "| 0.00, 0.00, 1.00|\n",
      "Width: 1670 Height: 770\n"
     ]
    }
   ],
   "source": [
    "mask_3857 = folium_helper.reproject_to_3857(predictedPath)\n",
    "mask_d = folium_helper.get_bounds(mask_3857)\n",
    "mask_b1 = folium_helper.open_and_get_band(mask_3857, 1)\n",
    "folium_helper.cleanup(mask_3857)\n",
    "mask_b1 = np.where(mask_b1 == -9999, 0, mask_b1)\n",
    "zeros = np.zeros_like(mask_b1)\n",
    "mask_rgb = np.dstack((mask_b1, zeros, zeros))"
   ]
  },
  {
   "cell_type": "code",
   "execution_count": 39,
   "metadata": {},
   "outputs": [],
   "source": [
    "m = folium.Map(location=[mask_d['center'][1], mask_d['center'][0]],\n",
    "                   tiles='https://mt1.google.com/vt/lyrs=s&x={x}&y={y}&z={z}', zoom_start = 6, attr='Google')"
   ]
  },
  {
   "cell_type": "code",
   "execution_count": 40,
   "metadata": {},
   "outputs": [
    {
     "data": {
      "text/html": [
       "<div style=\"width:100%;\"><div style=\"position:relative;width:100%;height:0;padding-bottom:60%;\"><span style=\"color:#565656\">Make this Notebook Trusted to load map: File -> Trust Notebook</span><iframe src=\"about:blank\" style=\"position:absolute;width:100%;height:100%;left:0;top:0;border:none !important;\" data-html=%3C%21DOCTYPE%20html%3E%0A%3Chead%3E%20%20%20%20%0A%20%20%20%20%3Cmeta%20http-equiv%3D%22content-type%22%20content%3D%22text/html%3B%20charset%3DUTF-8%22%20/%3E%0A%20%20%20%20%0A%20%20%20%20%20%20%20%20%3Cscript%3E%0A%20%20%20%20%20%20%20%20%20%20%20%20L_NO_TOUCH%20%3D%20false%3B%0A%20%20%20%20%20%20%20%20%20%20%20%20L_DISABLE_3D%20%3D%20false%3B%0A%20%20%20%20%20%20%20%20%3C/script%3E%0A%20%20%20%20%0A%20%20%20%20%3Cstyle%3Ehtml%2C%20body%20%7Bwidth%3A%20100%25%3Bheight%3A%20100%25%3Bmargin%3A%200%3Bpadding%3A%200%3B%7D%3C/style%3E%0A%20%20%20%20%3Cstyle%3E%23map%20%7Bposition%3Aabsolute%3Btop%3A0%3Bbottom%3A0%3Bright%3A0%3Bleft%3A0%3B%7D%3C/style%3E%0A%20%20%20%20%3Cscript%20src%3D%22https%3A//cdn.jsdelivr.net/npm/leaflet%401.6.0/dist/leaflet.js%22%3E%3C/script%3E%0A%20%20%20%20%3Cscript%20src%3D%22https%3A//code.jquery.com/jquery-1.12.4.min.js%22%3E%3C/script%3E%0A%20%20%20%20%3Cscript%20src%3D%22https%3A//maxcdn.bootstrapcdn.com/bootstrap/3.2.0/js/bootstrap.min.js%22%3E%3C/script%3E%0A%20%20%20%20%3Cscript%20src%3D%22https%3A//cdnjs.cloudflare.com/ajax/libs/Leaflet.awesome-markers/2.0.2/leaflet.awesome-markers.js%22%3E%3C/script%3E%0A%20%20%20%20%3Clink%20rel%3D%22stylesheet%22%20href%3D%22https%3A//cdn.jsdelivr.net/npm/leaflet%401.6.0/dist/leaflet.css%22/%3E%0A%20%20%20%20%3Clink%20rel%3D%22stylesheet%22%20href%3D%22https%3A//maxcdn.bootstrapcdn.com/bootstrap/3.2.0/css/bootstrap.min.css%22/%3E%0A%20%20%20%20%3Clink%20rel%3D%22stylesheet%22%20href%3D%22https%3A//maxcdn.bootstrapcdn.com/bootstrap/3.2.0/css/bootstrap-theme.min.css%22/%3E%0A%20%20%20%20%3Clink%20rel%3D%22stylesheet%22%20href%3D%22https%3A//maxcdn.bootstrapcdn.com/font-awesome/4.6.3/css/font-awesome.min.css%22/%3E%0A%20%20%20%20%3Clink%20rel%3D%22stylesheet%22%20href%3D%22https%3A//cdnjs.cloudflare.com/ajax/libs/Leaflet.awesome-markers/2.0.2/leaflet.awesome-markers.css%22/%3E%0A%20%20%20%20%3Clink%20rel%3D%22stylesheet%22%20href%3D%22https%3A//cdn.jsdelivr.net/gh/python-visualization/folium/folium/templates/leaflet.awesome.rotate.min.css%22/%3E%0A%20%20%20%20%0A%20%20%20%20%20%20%20%20%20%20%20%20%3Cmeta%20name%3D%22viewport%22%20content%3D%22width%3Ddevice-width%2C%0A%20%20%20%20%20%20%20%20%20%20%20%20%20%20%20%20initial-scale%3D1.0%2C%20maximum-scale%3D1.0%2C%20user-scalable%3Dno%22%20/%3E%0A%20%20%20%20%20%20%20%20%20%20%20%20%3Cstyle%3E%0A%20%20%20%20%20%20%20%20%20%20%20%20%20%20%20%20%23map_8821764901df44249cf2726fa1f257f1%20%7B%0A%20%20%20%20%20%20%20%20%20%20%20%20%20%20%20%20%20%20%20%20position%3A%20relative%3B%0A%20%20%20%20%20%20%20%20%20%20%20%20%20%20%20%20%20%20%20%20width%3A%20100.0%25%3B%0A%20%20%20%20%20%20%20%20%20%20%20%20%20%20%20%20%20%20%20%20height%3A%20100.0%25%3B%0A%20%20%20%20%20%20%20%20%20%20%20%20%20%20%20%20%20%20%20%20left%3A%200.0%25%3B%0A%20%20%20%20%20%20%20%20%20%20%20%20%20%20%20%20%20%20%20%20top%3A%200.0%25%3B%0A%20%20%20%20%20%20%20%20%20%20%20%20%20%20%20%20%7D%0A%20%20%20%20%20%20%20%20%20%20%20%20%3C/style%3E%0A%20%20%20%20%20%20%20%20%0A%20%20%20%20%0A%20%20%20%20%20%20%20%20%20%20%20%20%20%20%20%20%3Cstyle%3E%0A%20%20%20%20%20%20%20%20%20%20%20%20%20%20%20%20%20%20%20%20.leaflet-image-layer%20%7B%0A%20%20%20%20%20%20%20%20%20%20%20%20%20%20%20%20%20%20%20%20%20%20%20%20/%2A%20old%20android/safari%2A/%0A%20%20%20%20%20%20%20%20%20%20%20%20%20%20%20%20%20%20%20%20%20%20%20%20image-rendering%3A%20-webkit-optimize-contrast%3B%0A%20%20%20%20%20%20%20%20%20%20%20%20%20%20%20%20%20%20%20%20%20%20%20%20image-rendering%3A%20crisp-edges%3B%20/%2A%20safari%20%2A/%0A%20%20%20%20%20%20%20%20%20%20%20%20%20%20%20%20%20%20%20%20%20%20%20%20image-rendering%3A%20pixelated%3B%20/%2A%20chrome%20%2A/%0A%20%20%20%20%20%20%20%20%20%20%20%20%20%20%20%20%20%20%20%20%20%20%20%20image-rendering%3A%20-moz-crisp-edges%3B%20/%2A%20firefox%20%2A/%0A%20%20%20%20%20%20%20%20%20%20%20%20%20%20%20%20%20%20%20%20%20%20%20%20image-rendering%3A%20-o-crisp-edges%3B%20/%2A%20opera%20%2A/%0A%20%20%20%20%20%20%20%20%20%20%20%20%20%20%20%20%20%20%20%20%20%20%20%20-ms-interpolation-mode%3A%20nearest-neighbor%3B%20/%2A%20ie%20%2A/%0A%20%20%20%20%20%20%20%20%20%20%20%20%20%20%20%20%20%20%20%20%7D%0A%20%20%20%20%20%20%20%20%20%20%20%20%20%20%20%20%3C/style%3E%0A%20%20%20%20%20%20%20%20%20%20%20%20%0A%20%20%20%20%3Cscript%20src%3D%22https%3A//cdn.jsdelivr.net/gh/ardhi/Leaflet.MousePosition/src/L.Control.MousePosition.min.js%22%3E%3C/script%3E%0A%20%20%20%20%3Clink%20rel%3D%22stylesheet%22%20href%3D%22https%3A//cdn.jsdelivr.net/gh/ardhi/Leaflet.MousePosition/src/L.Control.MousePosition.min.css%22/%3E%0A%3C/head%3E%0A%3Cbody%3E%20%20%20%20%0A%20%20%20%20%0A%20%20%20%20%20%20%20%20%20%20%20%20%3Cdiv%20class%3D%22folium-map%22%20id%3D%22map_8821764901df44249cf2726fa1f257f1%22%20%3E%3C/div%3E%0A%20%20%20%20%20%20%20%20%0A%3C/body%3E%0A%3Cscript%3E%20%20%20%20%0A%20%20%20%20%0A%20%20%20%20%20%20%20%20%20%20%20%20var%20map_8821764901df44249cf2726fa1f257f1%20%3D%20L.map%28%0A%20%20%20%20%20%20%20%20%20%20%20%20%20%20%20%20%22map_8821764901df44249cf2726fa1f257f1%22%2C%0A%20%20%20%20%20%20%20%20%20%20%20%20%20%20%20%20%7B%0A%20%20%20%20%20%20%20%20%20%20%20%20%20%20%20%20%20%20%20%20center%3A%20%5B37.1868364898923%2C%20-110.84485924937243%5D%2C%0A%20%20%20%20%20%20%20%20%20%20%20%20%20%20%20%20%20%20%20%20crs%3A%20L.CRS.EPSG3857%2C%0A%20%20%20%20%20%20%20%20%20%20%20%20%20%20%20%20%20%20%20%20zoom%3A%206%2C%0A%20%20%20%20%20%20%20%20%20%20%20%20%20%20%20%20%20%20%20%20zoomControl%3A%20true%2C%0A%20%20%20%20%20%20%20%20%20%20%20%20%20%20%20%20%20%20%20%20preferCanvas%3A%20false%2C%0A%20%20%20%20%20%20%20%20%20%20%20%20%20%20%20%20%7D%0A%20%20%20%20%20%20%20%20%20%20%20%20%29%3B%0A%0A%20%20%20%20%20%20%20%20%20%20%20%20%0A%0A%20%20%20%20%20%20%20%20%0A%20%20%20%20%0A%20%20%20%20%20%20%20%20%20%20%20%20var%20tile_layer_e1592d61f7f84c848f2329b7c3cd707a%20%3D%20L.tileLayer%28%0A%20%20%20%20%20%20%20%20%20%20%20%20%20%20%20%20%22https%3A//mt1.google.com/vt/lyrs%3Ds%5Cu0026x%3D%7Bx%7D%5Cu0026y%3D%7By%7D%5Cu0026z%3D%7Bz%7D%22%2C%0A%20%20%20%20%20%20%20%20%20%20%20%20%20%20%20%20%7B%22attribution%22%3A%20%22Google%22%2C%20%22detectRetina%22%3A%20false%2C%20%22maxNativeZoom%22%3A%2018%2C%20%22maxZoom%22%3A%2018%2C%20%22minZoom%22%3A%200%2C%20%22noWrap%22%3A%20false%2C%20%22opacity%22%3A%201%2C%20%22subdomains%22%3A%20%22abc%22%2C%20%22tms%22%3A%20false%7D%0A%20%20%20%20%20%20%20%20%20%20%20%20%29.addTo%28map_8821764901df44249cf2726fa1f257f1%29%3B%0A%20%20%20%20%20%20%20%20%0A%20%20%20%20%0A%20%20%20%20%20%20%20%20%20%20%20%20var%20image_overlay_1791e7e7a8e747eb9e86961e346d41f2%20%3D%20L.imageOverlay%28%0A%20%20%20%20%20%20%20%20%20%20%20%20%20%20%20%20%22data%3Aimage/png%3Bbase64%2CiVBORw0KGgoAAAANSUhEUgAABoYAAAMCCAYAAABEBXSBAAAk8ElEQVR42uzdQZbbupJAQe5/09mTP3DXoyQABEAgEYM4x21XiVRSLv3mVfpd13UFAAD5xBfmAwAAAMcyBAAAUQgAAAAQhgAASBOGzAUAAAAQhgAADolDu5yzawcAAADCEAAAjVHIPAAAAABhCADAppCNIQAAABCGAADg3ahlFgAAACAMAQAAAAAAIAwBAAAAAAAgDAEAAAAAACAMAQAAAAAACEMAADBAmAEAAAAIQwAAAAAAAAhDAAAAAAAACEMAAAAAAAAIQwAAAAAAAAhDAAAAAAAAwhAAAAAAAADCEABABmEGAAAAAIYAAAAAAAAgDAEAAAAAACAMAQAAAAAAIAwBAAAAAAAgDAEAAAAAACAMAQAAAAAAIAwBAAAAAAAgDAEAAAAAACAMAQAAAAAAIAwBAAAAAAAIQwAAAAAAAAhDAAAAAAAACEMAAAAAAAAIQwAAAAAAAAhDAAAAAAAACEMAAAAAAAAIQwAAAAAAAAhDAAAAAAAACEMAAAAAAAAIQwAAAAAAAMIQAAAAAAAAwhAAAAAAAADCEAAAAAAAAMIQAAAAAAAAwhAAAAAAAADCEAAAAAAAAMIQAAAAAAAAwhAAAAAAAADCEAAAAAAAgDAEAAAAAACAMAQAAAAAAIAwBAAAAAAAgDAEAAAAAACAMAQAAAAAAIAwBAAAAAAAgDAEAAAAAACAMAQAAAAAAIAwBAAAAAAAgDAEAAAAAAAgDAEAAAAAACAMAQAAAAAAIAwBAAAAAAAgDAEAAAAAACAMAQAAAAAAIAwBAAAAAAAgDAEAr4h/mAcAAACAMAQAdA4xq4YhcQgAAABAGAIADtgWEoUAAAAAhCEA4JAoJAwBAAAACEMAwEFhSBwCAAAAEIYAgEPikJkAAAAACEMAwCEbQ%2BYCAAAAIAwBAMIQAAAAAMIQAJAlDJkJAAAAgDAEACSPQuYBAAAAIAwBAOIQAAAAAMIQAJAtDIlDAAAAAMIQAHBQGBKHAAAAAIQhAMDWEAAAAADCEACQLQ6ZBwAAAIAwBAAcEofMAgAAAEAYAgDEIQAAAACEIQBAGAIAAABAGAIAtgtD5gAAAAAgDAEANoYAAAAAEIYAAAAAAAAQhgBYZgvEHAAAAABAGALggCgU4hAAAAAACEMA2BYCr3sAAAAAYQiAJJtCZoHXPgAAAIAwBMABN8bdIOf01795AAAAAMIQAG6KgzAKAAAAIAwBkOOmuDkgCpkFAAAAIAwBIAyBMAQAAAAgDAEA5IlCwhAAAAAgDAEACEMAAAAAwhAAQKYwZB4AAACAMAQAYFsIAAAAQBgCABCFAAAAAIQhAABhCAAAAEAYAgBYKwoJQwAAAIAwBABwQBgyDwAAAEAYAgAQhgAAAACEIQAAQQgAAABAGAIA2CIKCUMAAAAAwhAAcFgcEogAAAAAYQgAIHkYMgsAAAAAYQgASBqDhCEAAAAAYQgAOGhLKIQhAAAAAGEIADhzewgAAAAAAwAAAAAAABCGAAAAAAAAEIYAAAAAAAAQhgAAAAAAABCGAAAAAAAAEIYAAAAAAAAQhgAAAAAAABCGAAAAAAAAEIYAAAAAAAAQhgAAAAAAAIQhAAAAAAAAhCEAAAAAAACEIQAAAAAAAIQhAAAAAAAAhCEAAAAAAACEIQAAyC7MAAAAAGEIAACEIQAAABCGAAAAAAAAEIYAAAAAAAAQhgAAAAAAABCGAAAAAAAAhCEAAAAAAACEIQAAAAAAAIQhAAC2EmYAAAAAwhAAAMKQ%2BAQAAADCEAAAAAAAAMIQAAAAAAAAwhAAAAAAAADCEAAAAAAAAMIQAAAAAAAAwhAAAAAAAADCEAAASwgzAAAAAGEIAID8QSiEIQAAABCGAAA4JwoJQwAAACAMAQBgYwgAAAAQhgAAAAAAABCGAAAAAAAAEIYAAHYXZgAAAAAIQwAAAAAAAAhDAAAAAAAACEMAAAAAAAAIQwAAAAAAABgAAAAAAACAMAQAAAAAAIAwBAAAAAAAgDAEAAAAAACAMAQAAAAAAIAwBAAAAAAAgDAEAAAAAACAMAQAAAAAAIAwBAAAAAAAgDAEAAAAAAAgDAEAkFOYAQAAACAMAQAAAAAACEMAAAAAAAAIQwAAAAAAAAhDAAAAAAAACEMAAAAAAAAIQwAAAAAAAAhDAAAAAAAACEMAAAAAAAAIQwAAAAAAAAhDAAAAAAAAwhAAAAAAAADCEAAAAAAAAMIQAAAAAAAAwhAAAAAAAADCEAAAAAAAAMIQAAAAAAAAwhAAAAAAAADCEAAAAAAAAMIQAAAAAAAAwhAAAACLCTMAAABhCAAAAAAAAGEIAAAAG0MAAIAwBAAAgCgEAAAIQwAAAAhDBecQghUAAMIQAAAAjAszMfFYn44vBgEAIAwBAADA4CD0b5T5%2B%2Btf3xMCDwAACEMAAADsF4UAAABhCAAAgAQR6FccMicAABCGAAAASBqGBCEAABCGAAAASByH7qywuQQAAMIQAAAATIhDM2OQMAQAgDAEAAAAL8YhG0MAACAMAQAAIAwNO7brAACAMAQAAACJ45AgBACAMAQAAAAvhyHzAAAAYQgAAADbQgAAgDAEAACAMAQAAAhDAAAAbBWFhCEAABCGAAAAsCUEAAAIQwAAAAhDAACAMAQAAMDyUcg8AABAGAIAAEAUAgAAhCEAAACEIQAAQBgCAADg9djzK/oIQwAAIAwBAACQNBJ9%2BnOzAgAAYQgAAIBkccjGEAAACEMAAAActjkUP7aJhCIAABCGAAAASBqFQhACAABhCAAAgDOi0KfNIQAAQBgCAABAFAIAAIQhAAAAVgxDNV//6f8GAACEIQAAAJKFIVtEAAAgDAEAALBhEIoXvh8AABCGAAAA2CQMAQAAwhAAAAAbR6LR3wMAAAhDAABMvPFrDkDPyBM320d%2B3gAAgDAEAAAgVCYMQwAAgDAEAADAhlEoCv5cPAIAAGEIAACApHEohCEAABCGAAAA2D8E/f11FDI/AAAQhgAAAEi4OSQKAQCAMAQAAMCBoUgYAgAAYQgAAABhCAAAEIYAAAAQhQAAAGEIAACA7cKQOAQAAMIQAAAANoYAAABhCAAAgAxRyDwAAEAYAgAAwLYQAAAgDAEAvHsj0xwA%2BgUhP1cBAEAYAgAA4JAoJAwBAIAwBAAAgDgEAAAIQwAAAGQMQuIQAAAIQwAAACQPQ7aGAABAGAKAqptM5gAAOcKQ93UAABCGAKDpBpP5AMBeYciMAABAGAIAN5cA4KBtIe/hAAAgDAFA8w0mcwIAYQgAABCGADjgJpP5AMB%2BUcj7OAAACEMAAAAkiUFXYfgRiAAAQBgCAABg8zhkLgAAIAwBAACQdENIFAIAAGEIAIbelDIHALApBAAACEMAiEMAgDAEAAAIQwBkvBllFgAgDgEAAMIQAG48AQAvvEebCQAACEMA0P3Gk3kAgA9uAAAAwhAAPokMALwYhrxfAwCAMAQAtoUAwLYQAAAgDAEAAJBtY8hsAABAGAIAACB5GDITAAAQhgCg640nswAAUQgAABCGAHDjCQCY9F78iVkBAIAwBADdb0iZBwCsGYa8VwMAgDAEAN1uSF1uNgHA8mHIvAAAQBgCgK43o8wEAN7b2BWEAABAGAKAqTenzAIA3n3/FYcAAEAYAgDbQwCw6XtrzcaQ92QAABCGAOC1OGQeANBnG%2Bjve6v3WgAAEIYAYLtPOgMA5e%2Bj8SUcAQAAwhAAAADJPlwhBgEAgDAEANt8ytnNLAAofw/1ngkAAMIQAKT4tDMAIAwBAADCEAAAAD5cAQAAGAAAAIAwBAAACEMAAAAkjELCEAAACEMAAAAkDkEhCgEAAMIQAABA/hhkJgAAgDAEAPznBqJZAIhDAACAMAQAHHDz0BwAcgZ/P%2BMBAABhCAAAQPAHAACEIQAAADJtDAlGAACAMASATx8DwIFhCAAAQBgCwA0mAPCeDQAACEMAYFsIAMQhAABAGAIA4QkAhCEAAEAYAuCsG061N57cqAIgw4cYYqP3aO%2B9AACAMATAkBtOUfi9NoQAyBCGVnxPE4IAAABhCIChN8ae3Bxz0wqALB%2BMiAXP0TUDAACEIQC63XASewAQhfpHmOh4fq4bAAAgDAEw9MaY%2BQBw2vvgjM1cMQgAABCGABCGACBpHIoFzgEAABCGAEAYAoCJcSgKj%2B96AAAAwhAAr8ShEZ%2BIBoBd3gvf2BwqDUkAAADCEACv3xBzAwsAYaj/NhEAAIAwBIAwBAAbhqEQhQAAAGEIgJ1vopkDAKJQ23tneD8FAACEIQAAgPxxaMZxAAAAYQgAAICKOBSDj2XuAACAMAQAAJA4DolCAACAMAQAADAw8vz7e3e/FoYAAABhCIAjPgE94wYYAKz83lfyvT3PybUBAACEIQCWu2FmPgCc8J438z3SeywAACAMAbDdjTIAOOXDECPeI73PAgAAwhAAAMDLcSgqQ1I8OLZrAQAACEMAAAALbRDF1fe/xycKAQAAwhAAAMCCm0O120PiEAAAIAwBAAAsHodKo0%2BPzSFRCAAAEIYAAAA22Bqq%2BZra47kWAACAMAQAALBQGCr9%2Bmg8rusBAAAIQwAAAAtEotowVLI5dPeYrgMAACAMAQAAbBiH7iLQp0AkDAEAAMIQAADAQpGo99aQbSEAAEAYAgAAWDgQlW4XfYtEtfEIAABAGAIAAHgpCD0JQ6VBSCwCAACEIQAAgIXi0N0m0KfAEw%2BP71oAAADCEAAAwAuBKIQbAABAGAIAADgnEglDAACAMAQAAHDQ1lAIQwAAgDAEAABwThi6hCEAAEAYAgAAyBuGxCAAAEAYAgAAOCgMAQAACEMAAADiEAAAgDAEAACQKQ6ZAwAAIAwBAAAIQwAAAMIQAABApjD0ifkAAADCEAAAgEAEAAAgDAEAAGSMRXe/bz4AAIAwBAAAkDwMiUIAAIAwBAAAkDgOmQMAACAMAQAACEMAAADCEAAAgCgEAAAgDAEAAAhDAAAAwhAAAMD88BMNfwYAACAMAQAAbBaE4kMACmEIAAAQhgAAAPKGoRCGAAAAYQgAACBnFKrZIAIAABCGAAAANo5D5gAAAAhDAAAAh24NAQAACEMAAAC2hgAAAIQhAACAnQNL2BwCAACEIQAAgPq4svv5i0MAAIAwBAAAkDwOxQ3XFAAAEIYAAAB%2BBJYMcUsYAgAAhCEAAIDkm0PiEAAAIAwBAAAcEoWEIQAAQBgCAAAoDCqXbSEAAABhCAAAOCsO2XYCAAAQhgAAAIQtAAAAYQgAABBW3t8WEoYAAABhCAAAYHIciknnecc1BAAAhCEAAIBkGzzCEAAAIAwBAAAstm00KtgIQwAAgDAEAAAwMPI8%2BZ7oeF4iEAAAIAwBAAAsHpN6BB0bQgAAgDAEAAAwKPJE4/eVhp2WxxeFAAAAYQgAAGDC1k%2BP768NQ2IQAAAgDAEAAAyMQ083elqOc/e9d5tLIhEAACAMAQAALBSJouJ7o5DrAQAACEMAAAATI9GI722NQmIRAAAgDAEAAEzYIJoVh54eEwAAQBgCAAB4EIVaQ00MOoZoBAAACEMAAACJto0AAACEIQAAgI0ijzAEAAAIQwAAABuHoaj8HrMDAACEIQAAgM2i0NNIBAAAIAwBAADYLAIAABCGAAAAdtokig/MCQAAEIYAAACSbQcJQQAAAMIQAABwQBgyC%2B62yAAAQBgCAAAQhgAAAIQhAACAXcOQOAQAACAMAQAANoYAAACEIQAAAHEIAABAGAIAANgyDglWuecJAAAIQwAAAP8vwsTi52c7CwAAEIYAAACSBYusEUgUAgAAYQgAAOD1LaFdNlli8aj177nc/VoYAgAAYQgAAOD1IBSbnf8K2ze1MxSFAABAGAIAAHg1aOz8HFaMbF5fAAAgDAEAAAhDgzeD4uU5ikIAACAMAQAACEOT4lBc7/wTecIQAAAIQwAAANvEoWznLwwBAADCEAAAwJdtnIzPYXYY8noCAABhCAAAgJfjVgw%2BnjAEAADCEAAAgI2hRc4/Oh/vjtcSAAAIQwAAACwStmLQsYUhAAAQhgAAALYIKnHQ%2BY/Y8BGFAABAGAIAAEixYbPT86gJNCVfGz%2BOIwYBAIAwBAAAIAy9tDXUsj3067FEIAAAEIYMAQAASBNTMsah1qD09zGEIQAAQBgCAACODSknhaFIul0FAAAIQwAAwOGBKFsYqglEcfln4wAAAGEIAAA4aGvo5DCUNZQBAADCEAAAwG1IKfn93cKQawwAAAhDAACwyQ1%2Bc3gvCu10HeLyz8ABAADCEAAApIgWZjE/DK0S6L5tMglDAACAMAQAADaGqJjr3a9X2xaKP%2BdWyrUGAACEIQAAsC3Eh8hyF2Fat4yeXufSjSBBCAAAEIYAAEAY4ktsiR/B5RoYh6Lw935FLFEIAAAQhgAAQBRqjhMnxKCauBIFISc%2BbPZ8CkdRcL1/HVcYAgAAhCEAANg0VrwVbuLQmcePLaFvX3t9CD0t4Skar0V8OQdRCAAAEIYAAGDxSBE/NkNmHP/0LayovE7RsMXTc8un5XkAAAAIQwAAsHAoionHO2m2M67brGvn7w0AACAMAQDAAZtETx//tMAwI9jMDEMAAADCEAAAiEPi0ItbNrO3hgAAAIQhAABIHjRi0GNHYUQShgAAAIQhQwAAgJc2h4ShsuclCgEAAAhDAACwzZbQqDhU8ti7hyFRCAAAQBgCAIBtt19mP35sGIvEIAAAAGEIAAC2D0MjtmC%2BPe6OUUgYAgAAEIYAAGDrKHS9EIWua9//Ro8wBAAAIAwBAMCWYehbyJm1MdT7mOIQAACAMAQAAFtFmlViR68A8ikM7RaFdjxnAAAAYQgAACja6hl9nNhsLjtvOQEAAAhDAADAxwASk47zdMsqJs5jp7AFAAAgDAEAANUhZMQxep/7rO0pUQgAAEAYAgCA7YNQSRQp3eApOdaIaPPrfKJxK0gYAgAAEIYAACBdJOoVh2LAxlDLeUXh49TGoesShQAAAIQhAABItkXUEkWiYTOn9nzujtHyGCXbRF4TAAAAwhAAAKTaEioJQ6Ux51t4qQlDMUiPGQEAACAMAQBAyjh0PQhDNZtDo8OQaw0AACAMAQDAsTGoJcq0Pn5NuKk5bulmkmsOAAAgDAEAgDDUsK0zKgz12vQRgwAAAIQhAAB4PcLMPubd8aMwDj0NNK2bQb3iEAAAAMIQAAAcE4d%2BBZiWzaHS51ITemq%2BpuW5AwAAIAwBAEBzZFnhcWq2dX4FmOvq/0/KRcHxrh/n0hrWbBgBAAAIQwAAsNTWUEw8TjRs8TyJQ9H49TaBAAAAEIYAAEgbh1baGhoVe2zvAAAAIAwBAHD0ptCbW0M1cah222jWcxSaAAAAhCEAABCI/oST6OS61olCAAAACEMAALB9IJoVoJ4GHoEIAAAAYQgAABYMTj0j0ZPHcl0AAAAQhgAAODreXAOjyd8o8/a2kDgEAACAMAQAAF%2B2fHo93gpxyDUGAABAGAIAgA%2BbRL2C0EpcXwAAAIQhAADEoM4bRT23hIQgAAAAhCEAAOgUhH7FlKfRZYUwJBQBAAAgDAEAsG3EGRmG4kFEWjEQee0AAAAgDAEAsMX2Ttx8zYxj9g4us0OQKAQAAIAwBADAFnGoJKbMilK9j//pcXpvB9kaAgAAQBgCACDNFtG3jaLe2zxPH/9XGCo9ZussxCEAAACEIQAA0sShu22j0q2k0uOMeB5XYRhqjVg1zx0AAACEIQAAlg9En/7805ZPXPP%2Bu0JPt596BqGr8%2BYTAAAAwhAAALwah0r%2BbPU4NOp7bRABAAAgDAEAkCIMlQaTt4JQj2P0DlQAAAAgDAEAkC4OrRaFWjd/RCEAAACEIQAABKIBcahXiPn1GLWPLw4BAAAgDAEAIAx1Uvv4JedW8xxqnrfrDwAAgDAEAAAV0ajlMXo99t/IEw%2Ben%2BsNAACAMAQAAJ3jzYxzrf06YQgAAABhCAAACuJQ7fev/hxdawAAAIQhAACEoYdhSBwCAABAGAIAgI2jUDQ%2BlpkCALv/byNzAEAYAgDgmDjkZgoAIPIAgDAEAIAw5IYMAAAACEMAAGSJQjHgMc0YAAAAYQgAAJJvDN09nlAEAACAMAQAAJtsDdVsF9kYAgAAQBgCAIANw1B80RKGBCMAAACEIQAA2DAMRcFjmjEAAADCEAAALBSFWr6mJAy1HhMAAACEIQAAeCEMXYWRp2VLSCACAABAGAIAgIlRqCTolGwVPQ1TIhEAAADCEAAATNwYEmcAAABAGAIA4MBg1GMjCAAAAIQhAABYNAB92yZa4ZwAAABAGAIAAAAAAEAYAgAAAAAAQBgCAAAAAABAGAIAAAAAAEAYAgAAAAAAQBgCAICe4n/MAgAAAGEIAAAOiUPmAAAAgDAEAAC2hgAAAEAYAgAAkQgAAACEIQAAAAAAAIQhAAAAAAAAhCEAAGgQ19h/%2Bi3MGAAAAGEIAAAAAAAAYQgAAJJuJpkDAAAAwhAAAAAAAADCEAAAAABw9ta1zWsAYQgAgKT/T785AAAgDAEIQwAAAADAwWFIIAIQhgAAAAAAABCGAAAAAMDGDAAIQwAAAACweSQyCwCEIQAAAACEk87hZNUQIw4JZQDCEAAAAAAcEl7EEACEIQAAAAAQXwBAGAIAAAAAABCGAAAAAADbQwAIQwAAAAAAAAhDAAAAAAAACEMAAAAAAAAIQwAAAADAY2EGAAhDAAAAACAOAYAwBAAAAAAAIAwBAAAAALaHABCGAAAAAIAtQk%2BIQwAIQwAAAABgW8fGEQDCEAAAAAAcEKtCCAJAGAIAAAAAQiACEIYAAAAAINPGDAAgDAEAAAAA2KoChCEAAAAAwDYUAMIQAAAAAIgoACAMAQAAAAAAIAwBAAAAAAAgDAEAAAAAACAMAQAAAAAAIAwBAAAAAAAgDAEAAAAA/xH/YxYAwpAhAAAAAMDBwcgcAIQhAAAAAEAoAkAYAgAAAAAAQBgCAAAAAABAGAIAAAAAAEAYAgAAAAAAQBgCAAAAAABAGAIAAAAAAEAYAgAAAADGCDMAEIYAAAAAAAAQhgAAAAAAABCGAAAAYF1hBgAACEMAAAAAAAAIQwAAAGATCMDPSwCEIQAAAAAAAIQhAAAAAAAAhCEAAAAAYEVhBgDCEAAAAAAAAMIQAAAAAMAx21Q2qgBhCAAAAADgoDAkEAHCEAAAAADAATFIHAKEIQAAAAAAYQhAGAIAAAAAnkUJcxCGAIQhAAAAAIDBIe4uAolCgDAEAAAAAJBwM8t2ECAMAQAAAAAkjELCDyAMAQAAAAAAIAwBAAAAwN3WBQAgDAEAAAAAACAMAQAAAAAAIAwBAAAAAMOEGQAIQwAAAAAAAAhDAAAAAAAACEMAAAAAAAAIQwAAAADAY2EGrhOAMAQAAAAAfIoT8SVUhJAhDAHCEAAAAACQI05E4deZF4AwBAAAAADYLgFAGAIAAAAAEL8AhCEAAAAAQFT58DwEIgBhCAAAAABIGlTEIABhCAAAAAAQtgAQhgAAAABABOl5Lq4JgDAEAAAAAAwMMYIMAMIQAAAAALY5XOOtz9trFkAYAgAAAIDj408kiybhmnptA8IQAAAAAMApMUYcAoQhAAAAAADxBUAYAgAAAADOiTn/MhMAYQgAAAAAbL0cEoe8BgCEIQAAAAAQbswDAGEIAAAAcEOXE6671yoACEMAAAAAAAAIQwAAAABgqwsAhCEAAAAAcUF8EIMAQBgCAAAA3LgGAEAYAgAAAIDtomtMDLqx8BwAEIYAAAAAEFZwDQEQhgAAAADIHBUECAAQhgAAAAA4JKpE4fMQkLyWABCGAAAAABAvAEAYAgAAAAAQAQGEIQAAAABIf%2BM/rvJ/pk4EWescRSEzAYQhAAAAwM1DEr1Gw9%2BFLf/O%2Bvli/oAwBAAAAAAcHCnECgBhCAAAAPCJb1guXvi79972lp%2B7AMIQAAAA4EYngJ%2BXAMIQAAAA4EYnsOJmkZ87AMIQAAAAgCiG14UZASAMAQAAAEDO8BELPmfRB0AYAgAAABa5aeuGLUJMjnPydxkAYQgAAAAAxCrPDwBhCAAAAAAAAGEIAAAAAAAAYQgAAADgv%2BLyT2gBAAhDAAAAgDAEACAMAQAAAACrBc4RXwuAMAQAAAAAJI1GACAMAQAAAAAACEMAAADAk0/wx%2BTjrXqOs2cBAIAwBAAAAIg2AAAYAAAAAOSJPDO/j9yvC/B6BRCGAAAAAGwegYhhlgDCEAAAACAMmQNiBmYKIAwBAACAYOKmLuBnBgDCEAAAACD%2BAAAgDAEAAADiEAAAwhAAAAAIMM4ZAABhCAAAAEQhAAAQhgAAAEAYAgAAAwAAAABxSLwC/B3H6w6EIQAAAMCNNQAAhCEAAADgoMAkMgEACEMAAADAQRtF4hAA3iNAGAIAAAAO2hJy4w8AYQiEIQAAAMCNPgA/nwCEIQAAAMDNVQA/uwCEIQAAAGCpG6zhRiuk/bttFgAIQwAAAABu2mOjBgBhCAAAAAAQYwAQhgAAAAA3jQEAEIYAAACAuYFJZAIAQBgCAACAQyKQMATYVARAGAIAAICkN2Xd3AUAQBgCAAAAgQng/9q5YyQHYSiIgr7/pceJAlwFZQpj9CV10PnuLCbQsxYAhCEAAAAQcQAAQBgCAAAAAJEaAGEIAAAAABBq7AAgDAEAAADAlIEiJ2OFoCEgAQhDAAAAAAA/BLmzYQ4AYQgAAADwbXxg4PfMURjyfgIQhgAAAAAAABCGAAAA4Llvvsc32QHcWgQQhgAAAMBhJgAACEMAAAAAAAAIQwAAAABumQEACEMAAAAAw8egLZtw1zNlCwCEIQAAAABxCABAGAIAAACoEIXEIQBAGAIAAABY6LaQMHRuL3sAgDAEAAAAUx6C28LfGgBAGAIAAIACh/l2AABAGAIAAACRCAAAhCEAAAAAAACEIQAAAABwgw8AhCEAAAAAAACEIQAAAMDtD8BnCwBhCAAAAHCADfhcgc8DCEMAAADAYAd2Du0AEIZAGAIAAAAAAEAYAgAAAAA3BgBAGAIAAACAnTAkDgGAAQAAAAAAAIQhAAAAAAAAhCEAAAAAAACEIQAAAAAAAIQhAAAAAAAAhCEAAACgttgAAEAYAgAAAAAAQBgCAAAA3BgCzyQACEMAAAAAIAwBgDAEAAAAOAgHnwkAEIYAAAAAh%2BngOQYAYQgAAAAAAABhCAAAAAAAAGEIAAAAgEfFBgAgDAEAAAAO0wEAEIYAAAAAAAAQhgAAAAAAABCGAAAAAIAPsQEAwhAAAAAArBNWxCEAhCEAAAAAKBpWMsHvAIAwBAAAAAAAgDAEAAAAAG4MAYAwBAAAAAAAgDAEAAAAAACAMAQAAAAAl8QGAAhDAAAAAID4BIAwBAAAAACIQgAIQwAAAADQK4gIMAAgDAEAAADQMQzFzwoAwhAAAAAAbg35GQFAGAIAAAAAAEAYAgAAwK0BAABAGAIAAEAAAgAAhCEAAADqhCHRCAAAhCEAAAAAAACEIQAAAAAAAIQhAAAA/io2ADq8S7x7AEAYAgAAAAAAQBgCAAAAAABAGAIAAACgi9gAAIQhAAAAAMQhAEAYAgAAAAAAQBgCAAAAAABAGAIAAAAAAEAYAgAAAAAAEIYAAAAAAAAQhgAAAABgZGlsAQDCEAAAAAAAgDAEAAAAAACAMAQAAAAAAIAwBAAAAAAAgDAEAAAAAACAMAQAAAAAd4gNAEAYAgAAAAAAQBgCAAAAAAAQhgAAAACAuvLyr/MAEIYAAAAAAAAQhgAAAAAAAIQhIwAAAAAAAAhDAAAAAAAACEMAAAAAAAAIQwAAAAAAAAhDAAAAAAAACEMAAAAAAAAIQwAAAAAAAAhDAAAAAAAACEMAAAAAAAAIQwAAAAAAAMIQAAAAXBYbAACAMAQAAIA4BAAACEMAAAAAAAAIQwAAAAAAAAhDAAAAAAAACEMAAAAAAAAIQwAAAADwiDS2YO/ZsAMgDAEAAACAAAAAwhAAAAAAiEMAIAwBAAAAAAAgDAEAAAAAACAMAQAAAAAACEMAAAAAAAAIQwAAAAAAAAhDAAAAAAAACEMAAAAAAAAIQwAAAABAJWlsASAMAQAAAAALhCE7AAhDAAAAOPADAACEIQAAAGYLR%2BIRAAAIQwAAAAAAAAhDAAAAAAAACEMAAAAAwNBiAwBhCAAAAAAAAGEIAAAAAHBTCABhCAAAAAAQhwAQhgAAAAAAABCGAAAAAAAAEIYAAAAAAAAQhgAAAAAAABCGAAAAAAAAhCEAAAAAAACEIQAAAAAAAIQhAAAAAAAAhCEAAAAAAACEIQAAAAAAAIQhAAAAABhUNuwBgDAEAAAAAAtEIWEIAGEIAAAAANwWAgBhCAAAAABmCkR2AEAYAgAAAABhCACEIQAAAAAAAIQhAAAAAAAAhCEAAAAAAACEIQAAAAAAAIQhAAAAAAAAYQgAAAAAAABhCAAAAAAAAGEIAAAAAAAAYQgAAAAAAABhCAAAAAAAAGEIAAAAAAAAYQgAAAAAAABhCAAAAAAAAGEIAAAAAAAAYQgAAAAAAEAYAgAAAAAAQBgCAAAAAABAGAIAAAAAAEAYAgAAAAAAQBgCAAAAAKYWGwAIQwAAAAAAAAhDAAAAAAAACEMAAAAAAAAIQwAAAAAAAHz1BqVysulbFmA7AAAAAElFTkSuQmCC%22%2C%0A%20%20%20%20%20%20%20%20%20%20%20%20%20%20%20%20%5B%5B35.832006264552895%2C%20-114.53395477030668%5D%2C%20%5B38.5416667152317%2C%20-107.15576372843819%5D%5D%2C%0A%20%20%20%20%20%20%20%20%20%20%20%20%20%20%20%20%7B%22opacity%22%3A%200.6%7D%0A%20%20%20%20%20%20%20%20%20%20%20%20%29.addTo%28map_8821764901df44249cf2726fa1f257f1%29%3B%0A%20%20%20%20%20%20%20%20%0A%20%20%20%20%0A%20%20%20%20%20%20%20%20%20%20%20%20var%20mouse_position_23b0a02de39b43fbaaa38bc9531af0d8%20%3D%20new%20L.Control.MousePosition%28%0A%20%20%20%20%20%20%20%20%20%20%20%20%20%20%20%20%7B%22emptyString%22%3A%20%22Unavailable%22%2C%20%22lngFirst%22%3A%20false%2C%20%22numDigits%22%3A%205%2C%20%22position%22%3A%20%22bottomright%22%2C%20%22prefix%22%3A%20%22%22%2C%20%22separator%22%3A%20%22%20%3A%20%22%7D%0A%20%20%20%20%20%20%20%20%20%20%20%20%29%3B%0A%20%20%20%20%20%20%20%20%20%20%20%20mouse_position_23b0a02de39b43fbaaa38bc9531af0d8.options%5B%22latFormatter%22%5D%20%3D%0A%20%20%20%20%20%20%20%20%20%20%20%20%20%20%20%20undefined%3B%0A%20%20%20%20%20%20%20%20%20%20%20%20mouse_position_23b0a02de39b43fbaaa38bc9531af0d8.options%5B%22lngFormatter%22%5D%20%3D%0A%20%20%20%20%20%20%20%20%20%20%20%20%20%20%20%20undefined%3B%0A%20%20%20%20%20%20%20%20%20%20%20%20map_8821764901df44249cf2726fa1f257f1.addControl%28mouse_position_23b0a02de39b43fbaaa38bc9531af0d8%29%3B%0A%20%20%20%20%20%20%20%20%0A%20%20%20%20%0A%20%20%20%20%20%20%20%20%20%20%20%20var%20layer_control_c5e7d75410644087a61b19aab7ee5cdb%20%3D%20%7B%0A%20%20%20%20%20%20%20%20%20%20%20%20%20%20%20%20base_layers%20%3A%20%7B%0A%20%20%20%20%20%20%20%20%20%20%20%20%20%20%20%20%20%20%20%20%22https%3A//mt1.google.com/vt/lyrs%3Ds%5Cu0026x%3D%7Bx%7D%5Cu0026y%3D%7By%7D%5Cu0026z%3D%7Bz%7D%22%20%3A%20tile_layer_e1592d61f7f84c848f2329b7c3cd707a%2C%0A%20%20%20%20%20%20%20%20%20%20%20%20%20%20%20%20%7D%2C%0A%20%20%20%20%20%20%20%20%20%20%20%20%20%20%20%20overlays%20%3A%20%20%7B%0A%20%20%20%20%20%20%20%20%20%20%20%20%20%20%20%20%20%20%20%20%22Water%20classification%20XGBOOST%20predicted%20mask%22%20%3A%20image_overlay_1791e7e7a8e747eb9e86961e346d41f2%2C%0A%20%20%20%20%20%20%20%20%20%20%20%20%20%20%20%20%7D%2C%0A%20%20%20%20%20%20%20%20%20%20%20%20%7D%3B%0A%20%20%20%20%20%20%20%20%20%20%20%20L.control.layers%28%0A%20%20%20%20%20%20%20%20%20%20%20%20%20%20%20%20layer_control_c5e7d75410644087a61b19aab7ee5cdb.base_layers%2C%0A%20%20%20%20%20%20%20%20%20%20%20%20%20%20%20%20layer_control_c5e7d75410644087a61b19aab7ee5cdb.overlays%2C%0A%20%20%20%20%20%20%20%20%20%20%20%20%20%20%20%20%7B%22autoZIndex%22%3A%20true%2C%20%22collapsed%22%3A%20true%2C%20%22position%22%3A%20%22topright%22%7D%0A%20%20%20%20%20%20%20%20%20%20%20%20%29.addTo%28map_8821764901df44249cf2726fa1f257f1%29%3B%0A%20%20%20%20%20%20%20%20%0A%3C/script%3E onload=\"this.contentDocument.open();this.contentDocument.write(    decodeURIComponent(this.getAttribute('data-html')));this.contentDocument.close();\" allowfullscreen webkitallowfullscreen mozallowfullscreen></iframe></div></div>"
      ],
      "text/plain": [
       "<folium.folium.Map at 0x145fc8601910>"
      ]
     },
     "execution_count": 40,
     "metadata": {},
     "output_type": "execute_result"
    }
   ],
   "source": [
    "m.add_child(folium_helper.get_overlay(mask_rgb, mask_d, 'Water classification XGBOOST predicted mask', opacity=0.6))\n",
    "m.add_child(plugins.MousePosition())\n",
    "m.add_child(folium.LayerControl())"
   ]
  },
  {
   "cell_type": "code",
   "execution_count": null,
   "metadata": {},
   "outputs": [],
   "source": []
  }
 ],
 "metadata": {
  "kernelspec": {
   "display_name": "Python [conda env:ilab]",
   "language": "python",
   "name": "conda-env-ilab-py"
  },
  "language_info": {
   "codemirror_mode": {
    "name": "ipython",
    "version": 3
   },
   "file_extension": ".py",
   "mimetype": "text/x-python",
   "name": "python",
   "nbconvert_exporter": "python",
   "pygments_lexer": "ipython3",
   "version": "3.7.12"
  }
 },
 "nbformat": 4,
 "nbformat_minor": 4
}
