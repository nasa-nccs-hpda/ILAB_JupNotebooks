{
 "cells": [
  {
   "cell_type": "markdown",
   "metadata": {},
   "source": [
    "# Water Clasification Random Forest CPU\n",
    "\n",
    "Version: DEMO\n",
    "\n",
    "ILAB Team\n",
    "\n",
    "Kernel to use:\n",
    "- (ADAPT PRISM) `Python [conda env:ilab]`\n",
    "\n",
    "This is a demo notebook showcasing how the ILAB team uses sklearn capabilities to perform efficient CPU-based training of a Random Forest classifier algorithm. This notebook also demonstates how to use a raster as a test data-set for the trained model."
   ]
  },
  {
   "cell_type": "code",
   "execution_count": 1,
   "metadata": {},
   "outputs": [],
   "source": [
    "import csv\n",
    "import datetime\n",
    "import glob\n",
    "import joblib\n",
    "import numpy as np\n",
    "import os\n",
    "import pandas as pd\n",
    "from pathlib import Path\n",
    "import sys\n",
    "from pprint import pprint\n",
    "import time\n",
    "\n",
    "# Scikit learn\n",
    "from sklearn.ensemble import RandomForestClassifier\n",
    "from sklearn.metrics import confusion_matrix, accuracy_score, roc_auc_score\n",
    "from sklearn.metrics import classification_report\n",
    "from sklearn.model_selection import train_test_split, RandomizedSearchCV, KFold\n",
    "from sklearn.inspection import permutation_importance\n",
    "\n",
    "# Visualization\n",
    "import seaborn as sns\n",
    "import matplotlib.pyplot as plt\n",
    "import warnings\n",
    "\n",
    "#GDAL Stuff\n",
    "from osgeo import gdalconst\n",
    "from osgeo import gdal\n",
    "\n",
    "plt.style.use('fivethirtyeight')\n",
    "warnings.filterwarnings('ignore')\n",
    "%matplotlib inline"
   ]
  },
  {
   "cell_type": "code",
   "execution_count": 2,
   "metadata": {},
   "outputs": [],
   "source": [
    "DATA_TYPE = np.float32"
   ]
  },
  {
   "cell_type": "code",
   "execution_count": 3,
   "metadata": {},
   "outputs": [],
   "source": [
    "v_names = ['sur_refl_b01_1','sur_refl_b02_1','sur_refl_b03_1',\n",
    "           'sur_refl_b04_1','sur_refl_b05_1','sur_refl_b06_1',\n",
    "           'sur_refl_b07_1','ndvi','ndwi1','ndwi2']"
   ]
  },
  {
   "cell_type": "markdown",
   "metadata": {},
   "source": [
    "Add names from above to this list to drop them from training and testing.\n",
    "\n",
    "For example:\n",
    "\n",
    "```python\n",
    "columnsToDrop = ['sur_refl_b01_1', 'sur_refl_b07_1', 'ndwi1']\n",
    "```"
   ]
  },
  {
   "cell_type": "code",
   "execution_count": 4,
   "metadata": {},
   "outputs": [],
   "source": [
    "columnsToDrop = []"
   ]
  },
  {
   "cell_type": "markdown",
   "metadata": {},
   "source": [
    "This is a 1000 row training dataset which has columns for all the features listed in v_names. MODIS MOD09GA and MOD09GQ were the data sources."
   ]
  },
  {
   "cell_type": "code",
   "execution_count": 5,
   "metadata": {},
   "outputs": [],
   "source": [
    "dfPath = '../data/WaterClassificationPowell.parquet.gzip'"
   ]
  },
  {
   "cell_type": "code",
   "execution_count": 6,
   "metadata": {},
   "outputs": [],
   "source": [
    "outputRasterPath = '.'"
   ]
  },
  {
   "cell_type": "code",
   "execution_count": 8,
   "metadata": {},
   "outputs": [
    {
     "name": "stdout",
     "output_type": "stream",
     "text": [
      "Collecting fastparquet\n",
      "  Downloading fastparquet-0.8.1-cp39-cp39-macosx_10_9_universal2.whl (775 kB)\n",
      "\u001b[K     |████████████████████████████████| 775 kB 697 kB/s eta 0:00:01\n",
      "\u001b[?25hRequirement already satisfied: pandas>=1.1.0 in /Users/cssprad1/anaconda3/envs/geo_ml/lib/python3.9/site-packages (from fastparquet) (1.2.4)\n",
      "Requirement already satisfied: numpy>=1.18 in /Users/cssprad1/anaconda3/envs/geo_ml/lib/python3.9/site-packages (from fastparquet) (1.19.4)\n",
      "Requirement already satisfied: fsspec in /Users/cssprad1/anaconda3/envs/geo_ml/lib/python3.9/site-packages (from fastparquet) (2022.1.0)\n",
      "Collecting cramjam>=2.3.0\n",
      "  Downloading cramjam-2.5.0-cp39-cp39-macosx_10_9_x86_64.macosx_11_0_arm64.macosx_10_9_universal2.whl (2.7 MB)\n",
      "\u001b[K     |████████████████████████████████| 2.7 MB 3.0 MB/s eta 0:00:01\n",
      "\u001b[?25hRequirement already satisfied: python-dateutil>=2.7.3 in /Users/cssprad1/anaconda3/envs/geo_ml/lib/python3.9/site-packages (from pandas>=1.1.0->fastparquet) (2.8.1)\n",
      "Requirement already satisfied: pytz>=2017.3 in /Users/cssprad1/anaconda3/envs/geo_ml/lib/python3.9/site-packages (from pandas>=1.1.0->fastparquet) (2020.4)\n",
      "Requirement already satisfied: numpy>=1.18 in /Users/cssprad1/anaconda3/envs/geo_ml/lib/python3.9/site-packages (from fastparquet) (1.19.4)\n",
      "Requirement already satisfied: six>=1.5 in /Users/cssprad1/anaconda3/envs/geo_ml/lib/python3.9/site-packages (from python-dateutil>=2.7.3->pandas>=1.1.0->fastparquet) (1.15.0)\n",
      "Installing collected packages: cramjam, fastparquet\n",
      "Successfully installed cramjam-2.5.0 fastparquet-0.8.1\n"
     ]
    }
   ],
   "source": [
    "!pip install fastparquet"
   ]
  },
  {
   "cell_type": "code",
   "execution_count": 9,
   "metadata": {},
   "outputs": [],
   "source": [
    "df = pd.read_parquet(dfPath).astype(DATA_TYPE)\n",
    "df = df.drop(columns=columnsToDrop)\n",
    "X = df.drop(['water'], axis=1)\n",
    "y = df['water']\n",
    "X_train, X_test, y_train, y_test = train_test_split(X, y, test_size=0.2)"
   ]
  },
  {
   "cell_type": "code",
   "execution_count": 10,
   "metadata": {},
   "outputs": [
    {
     "data": {
      "text/plain": [
       "5"
      ]
     },
     "execution_count": 10,
     "metadata": {},
     "output_type": "execute_result"
    }
   ],
   "source": [
    "kf = KFold(n_splits=5)\n",
    "kf.get_n_splits(X_train)"
   ]
  },
  {
   "cell_type": "markdown",
   "metadata": {},
   "source": [
    "## Data \n",
    "- Read in to cuDF Dataframe\n",
    "- Drop unnecessary columns\n",
    "- Split into Xs and Ys"
   ]
  },
  {
   "cell_type": "markdown",
   "metadata": {},
   "source": [
    "## Load in data for use of visualizations \n",
    "(skip this if you just want to train model)"
   ]
  },
  {
   "cell_type": "code",
   "execution_count": 11,
   "metadata": {},
   "outputs": [
    {
     "name": "stdout",
     "output_type": "stream",
     "text": [
      "sur_refl_b01_1\n",
      "sur_refl_b02_1\n",
      "sur_refl_b03_1\n",
      "sur_refl_b04_1\n",
      "sur_refl_b05_1\n",
      "sur_refl_b06_1\n",
      "sur_refl_b07_1\n",
      "ndvi\n",
      "ndwi1\n",
      "ndwi2\n"
     ]
    }
   ],
   "source": [
    "_ = [print(column) for column in X_train.columns]"
   ]
  },
  {
   "cell_type": "code",
   "execution_count": 12,
   "metadata": {},
   "outputs": [
    {
     "data": {
      "text/html": [
       "<div>\n",
       "<style scoped>\n",
       "    .dataframe tbody tr th:only-of-type {\n",
       "        vertical-align: middle;\n",
       "    }\n",
       "\n",
       "    .dataframe tbody tr th {\n",
       "        vertical-align: top;\n",
       "    }\n",
       "\n",
       "    .dataframe thead th {\n",
       "        text-align: right;\n",
       "    }\n",
       "</style>\n",
       "<table border=\"1\" class=\"dataframe\">\n",
       "  <thead>\n",
       "    <tr style=\"text-align: right;\">\n",
       "      <th></th>\n",
       "      <th>count</th>\n",
       "      <th>mean</th>\n",
       "      <th>std</th>\n",
       "      <th>min</th>\n",
       "      <th>25%</th>\n",
       "      <th>50%</th>\n",
       "      <th>75%</th>\n",
       "      <th>max</th>\n",
       "    </tr>\n",
       "  </thead>\n",
       "  <tbody>\n",
       "    <tr>\n",
       "      <th>sur_refl_b01_1</th>\n",
       "      <td>800.0</td>\n",
       "      <td>1267.851196</td>\n",
       "      <td>1350.230225</td>\n",
       "      <td>15.000000</td>\n",
       "      <td>248.250000</td>\n",
       "      <td>938.500000</td>\n",
       "      <td>1980.500000</td>\n",
       "      <td>9222.000000</td>\n",
       "    </tr>\n",
       "    <tr>\n",
       "      <th>sur_refl_b02_1</th>\n",
       "      <td>800.0</td>\n",
       "      <td>1652.435059</td>\n",
       "      <td>1607.953247</td>\n",
       "      <td>1.000000</td>\n",
       "      <td>180.000000</td>\n",
       "      <td>1513.000000</td>\n",
       "      <td>2787.000000</td>\n",
       "      <td>8837.000000</td>\n",
       "    </tr>\n",
       "    <tr>\n",
       "      <th>sur_refl_b03_1</th>\n",
       "      <td>800.0</td>\n",
       "      <td>763.171265</td>\n",
       "      <td>1067.486938</td>\n",
       "      <td>-100.000000</td>\n",
       "      <td>291.500000</td>\n",
       "      <td>562.000000</td>\n",
       "      <td>858.000000</td>\n",
       "      <td>8909.000000</td>\n",
       "    </tr>\n",
       "    <tr>\n",
       "      <th>sur_refl_b04_1</th>\n",
       "      <td>800.0</td>\n",
       "      <td>1058.891235</td>\n",
       "      <td>1126.855957</td>\n",
       "      <td>14.000000</td>\n",
       "      <td>413.750000</td>\n",
       "      <td>847.000000</td>\n",
       "      <td>1344.500000</td>\n",
       "      <td>9162.000000</td>\n",
       "    </tr>\n",
       "    <tr>\n",
       "      <th>sur_refl_b05_1</th>\n",
       "      <td>800.0</td>\n",
       "      <td>2037.805054</td>\n",
       "      <td>1495.361328</td>\n",
       "      <td>-92.000000</td>\n",
       "      <td>581.250000</td>\n",
       "      <td>1885.500000</td>\n",
       "      <td>3298.500000</td>\n",
       "      <td>6382.000000</td>\n",
       "    </tr>\n",
       "    <tr>\n",
       "      <th>sur_refl_b06_1</th>\n",
       "      <td>800.0</td>\n",
       "      <td>1993.473755</td>\n",
       "      <td>1569.355103</td>\n",
       "      <td>45.000000</td>\n",
       "      <td>539.000000</td>\n",
       "      <td>1547.500000</td>\n",
       "      <td>3395.500000</td>\n",
       "      <td>6610.000000</td>\n",
       "    </tr>\n",
       "    <tr>\n",
       "      <th>sur_refl_b07_1</th>\n",
       "      <td>800.0</td>\n",
       "      <td>1646.007446</td>\n",
       "      <td>1423.937744</td>\n",
       "      <td>0.000000</td>\n",
       "      <td>337.250000</td>\n",
       "      <td>1202.500000</td>\n",
       "      <td>2891.000000</td>\n",
       "      <td>6128.000000</td>\n",
       "    </tr>\n",
       "    <tr>\n",
       "      <th>ndvi</th>\n",
       "      <td>800.0</td>\n",
       "      <td>134.074921</td>\n",
       "      <td>2544.235840</td>\n",
       "      <td>-9493.670898</td>\n",
       "      <td>-1465.973450</td>\n",
       "      <td>864.140930</td>\n",
       "      <td>1751.360291</td>\n",
       "      <td>8587.457031</td>\n",
       "    </tr>\n",
       "    <tr>\n",
       "      <th>ndwi1</th>\n",
       "      <td>800.0</td>\n",
       "      <td>-2241.074707</td>\n",
       "      <td>3399.173828</td>\n",
       "      <td>-9862.069336</td>\n",
       "      <td>-4462.187500</td>\n",
       "      <td>-1558.375183</td>\n",
       "      <td>-732.892181</td>\n",
       "      <td>8823.803711</td>\n",
       "    </tr>\n",
       "    <tr>\n",
       "      <th>ndwi2</th>\n",
       "      <td>800.0</td>\n",
       "      <td>-892.023438</td>\n",
       "      <td>3788.229492</td>\n",
       "      <td>-9692.307617</td>\n",
       "      <td>-2666.266541</td>\n",
       "      <td>-715.934387</td>\n",
       "      <td>836.288147</td>\n",
       "      <td>10000.000000</td>\n",
       "    </tr>\n",
       "  </tbody>\n",
       "</table>\n",
       "</div>"
      ],
      "text/plain": [
       "                count         mean          std          min          25%  \\\n",
       "sur_refl_b01_1  800.0  1267.851196  1350.230225    15.000000   248.250000   \n",
       "sur_refl_b02_1  800.0  1652.435059  1607.953247     1.000000   180.000000   \n",
       "sur_refl_b03_1  800.0   763.171265  1067.486938  -100.000000   291.500000   \n",
       "sur_refl_b04_1  800.0  1058.891235  1126.855957    14.000000   413.750000   \n",
       "sur_refl_b05_1  800.0  2037.805054  1495.361328   -92.000000   581.250000   \n",
       "sur_refl_b06_1  800.0  1993.473755  1569.355103    45.000000   539.000000   \n",
       "sur_refl_b07_1  800.0  1646.007446  1423.937744     0.000000   337.250000   \n",
       "ndvi            800.0   134.074921  2544.235840 -9493.670898 -1465.973450   \n",
       "ndwi1           800.0 -2241.074707  3399.173828 -9862.069336 -4462.187500   \n",
       "ndwi2           800.0  -892.023438  3788.229492 -9692.307617 -2666.266541   \n",
       "\n",
       "                        50%          75%           max  \n",
       "sur_refl_b01_1   938.500000  1980.500000   9222.000000  \n",
       "sur_refl_b02_1  1513.000000  2787.000000   8837.000000  \n",
       "sur_refl_b03_1   562.000000   858.000000   8909.000000  \n",
       "sur_refl_b04_1   847.000000  1344.500000   9162.000000  \n",
       "sur_refl_b05_1  1885.500000  3298.500000   6382.000000  \n",
       "sur_refl_b06_1  1547.500000  3395.500000   6610.000000  \n",
       "sur_refl_b07_1  1202.500000  2891.000000   6128.000000  \n",
       "ndvi             864.140930  1751.360291   8587.457031  \n",
       "ndwi1          -1558.375183  -732.892181   8823.803711  \n",
       "ndwi2           -715.934387   836.288147  10000.000000  "
      ]
     },
     "execution_count": 12,
     "metadata": {},
     "output_type": "execute_result"
    }
   ],
   "source": [
    "X_train.describe().T"
   ]
  },
  {
   "cell_type": "markdown",
   "metadata": {},
   "source": [
    "## Random Forest Model\n",
    "\n",
    "### Model Definition"
   ]
  },
  {
   "cell_type": "code",
   "execution_count": 13,
   "metadata": {},
   "outputs": [],
   "source": [
    "hyperparameters = {\n",
    "     'bootstrap': True,\n",
    "     'ccp_alpha': 0.0,\n",
    "     'class_weight': None,\n",
    "     'criterion': 'gini',\n",
    "     'max_depth': None,\n",
    "     'max_features': 'auto',\n",
    "     'max_leaf_nodes': None,\n",
    "     'max_samples': None,\n",
    "     'min_impurity_decrease': 0.0,\n",
    "     'min_samples_leaf': 1,\n",
    "     'min_samples_split': 2,\n",
    "     'min_weight_fraction_leaf': 0.0,\n",
    "     'n_estimators': 100,\n",
    "     'n_jobs': None,\n",
    "     'oob_score': False,\n",
    "     'random_state': None,\n",
    "     'verbose': 0,\n",
    "     'warm_start': False}"
   ]
  },
  {
   "cell_type": "code",
   "execution_count": 14,
   "metadata": {},
   "outputs": [],
   "source": [
    "classifier = RandomForestClassifier(**hyperparameters)"
   ]
  },
  {
   "cell_type": "markdown",
   "metadata": {},
   "source": [
    "# Training"
   ]
  },
  {
   "cell_type": "markdown",
   "metadata": {},
   "source": [
    "## K-Fold Cross Validation"
   ]
  },
  {
   "cell_type": "code",
   "execution_count": 15,
   "metadata": {},
   "outputs": [
    {
     "name": "stdout",
     "output_type": "stream",
     "text": [
      "Fitting model\n",
      "Time to fit model: 0.1542069911956787s\n",
      "Getting score\n",
      "Training accuracy score: 0.975\n",
      "Predicting for test set\n",
      "              precision    recall  f1-score   support\n",
      "\n",
      "         0.0       0.98      0.97      0.97        94\n",
      "         1.0       0.97      0.98      0.98       106\n",
      "\n",
      "    accuracy                           0.97       200\n",
      "   macro avg       0.98      0.97      0.97       200\n",
      "weighted avg       0.98      0.97      0.97       200\n",
      "\n",
      "Score: 0.975\n",
      "Fitting model\n",
      "Time to fit model: 0.12784790992736816s\n",
      "Getting score\n",
      "Training accuracy score: 0.9875\n",
      "Predicting for test set\n",
      "              precision    recall  f1-score   support\n",
      "\n",
      "         0.0       0.98      0.97      0.97        94\n",
      "         1.0       0.97      0.98      0.98       106\n",
      "\n",
      "    accuracy                           0.97       200\n",
      "   macro avg       0.98      0.97      0.97       200\n",
      "weighted avg       0.98      0.97      0.97       200\n",
      "\n",
      "Score: 0.9875\n",
      "Fitting model\n",
      "Time to fit model: 0.12056398391723633s\n",
      "Getting score\n",
      "Training accuracy score: 0.99375\n",
      "Predicting for test set\n",
      "              precision    recall  f1-score   support\n",
      "\n",
      "         0.0       0.98      0.97      0.97        94\n",
      "         1.0       0.97      0.98      0.98       106\n",
      "\n",
      "    accuracy                           0.97       200\n",
      "   macro avg       0.98      0.97      0.97       200\n",
      "weighted avg       0.98      0.97      0.97       200\n",
      "\n",
      "Score: 0.99375\n",
      "Fitting model\n",
      "Time to fit model: 0.1276700496673584s\n",
      "Getting score\n",
      "Predicting for test set\n",
      "              precision    recall  f1-score   support\n",
      "\n",
      "         0.0       0.98      0.96      0.97        94\n",
      "         1.0       0.96      0.98      0.97       106\n",
      "\n",
      "    accuracy                           0.97       200\n",
      "   macro avg       0.97      0.97      0.97       200\n",
      "weighted avg       0.97      0.97      0.97       200\n",
      "\n",
      "Score: 0.9875\n",
      "Fitting model\n",
      "Time to fit model: 0.12011122703552246s\n",
      "Getting score\n",
      "Training accuracy score: 0.99375\n",
      "Predicting for test set\n",
      "              precision    recall  f1-score   support\n",
      "\n",
      "         0.0       0.98      0.97      0.97        94\n",
      "         1.0       0.97      0.98      0.98       106\n",
      "\n",
      "    accuracy                           0.97       200\n",
      "   macro avg       0.98      0.97      0.97       200\n",
      "weighted avg       0.98      0.97      0.97       200\n",
      "\n",
      "Score: 0.99375\n",
      "CPU times: user 743 ms, sys: 16.1 ms, total: 759 ms\n",
      "Wall time: 765 ms\n"
     ]
    }
   ],
   "source": [
    "%%time\n",
    "bestModel = None\n",
    "bestModelScore = 0\n",
    "scores = []\n",
    "for trainIdx, testIdx in kf.split(X_train):\n",
    "    X_train_valid, X_test_valid = X_train.iloc[trainIdx], X_train.iloc[testIdx]\n",
    "    y_train_valid, y_test_valid = y_train.iloc[trainIdx], y_train.iloc[testIdx]\n",
    "    print('Fitting model')\n",
    "    st = time.time()\n",
    "    classifier.fit(X_train_valid, y_train_valid)\n",
    "    et = time.time()\n",
    "    print('Time to fit model: {}s'.format(et-st))\n",
    "    print('Getting score')\n",
    "    score = classifier.score(X_test_valid, y_test_valid)\n",
    "    if score>=bestModelScore:\n",
    "        bestModelScore = score\n",
    "        print('Training accuracy score: {}'.format(score))\n",
    "        bestModel = classifier\n",
    "    print('Predicting for test set')\n",
    "    test_predictions = classifier.predict(X_test)\n",
    "    print(classification_report(y_test, test_predictions))\n",
    "    print('Score: {}'.format(score))\n",
    "    scores.append(score)\n",
    "    del test_predictions, score"
   ]
  },
  {
   "cell_type": "code",
   "execution_count": 16,
   "metadata": {},
   "outputs": [
    {
     "name": "stdout",
     "output_type": "stream",
     "text": [
      "Average accuracy score: 0.9875\n",
      "Best accuracy score: 0.99375\n"
     ]
    }
   ],
   "source": [
    "scoreAvg = np.asarray(scores).mean()\n",
    "print('Average accuracy score: {}'.format(scoreAvg))\n",
    "print('Best accuracy score: {}'.format(bestModelScore))"
   ]
  },
  {
   "cell_type": "markdown",
   "metadata": {},
   "source": [
    "## Regular fitting"
   ]
  },
  {
   "cell_type": "code",
   "execution_count": 17,
   "metadata": {},
   "outputs": [],
   "source": [
    "classifier = RandomForestClassifier(**hyperparameters)"
   ]
  },
  {
   "cell_type": "code",
   "execution_count": 18,
   "metadata": {},
   "outputs": [
    {
     "name": "stdout",
     "output_type": "stream",
     "text": [
      "CPU times: user 156 ms, sys: 3.48 ms, total: 160 ms\n",
      "Wall time: 159 ms\n"
     ]
    },
    {
     "data": {
      "text/plain": [
       "RandomForestClassifier()"
      ]
     },
     "execution_count": 18,
     "metadata": {},
     "output_type": "execute_result"
    }
   ],
   "source": [
    "%%time\n",
    "\n",
    "classifier.fit(X_train, y_train)"
   ]
  },
  {
   "cell_type": "markdown",
   "metadata": {},
   "source": [
    "### Get model metrics"
   ]
  },
  {
   "cell_type": "code",
   "execution_count": 19,
   "metadata": {},
   "outputs": [],
   "source": [
    "classifier = bestModel"
   ]
  },
  {
   "cell_type": "code",
   "execution_count": 20,
   "metadata": {},
   "outputs": [
    {
     "data": {
      "text/plain": [
       "0.975"
      ]
     },
     "execution_count": 20,
     "metadata": {},
     "output_type": "execute_result"
    }
   ],
   "source": [
    "score = classifier.score(X_test, y_test)\n",
    "score = round(score, 3)\n",
    "score"
   ]
  },
  {
   "cell_type": "code",
   "execution_count": 21,
   "metadata": {},
   "outputs": [],
   "source": [
    "train_predictions = classifier.predict(X_train)\n",
    "test_predictions = classifier.predict(X_test)\n",
    "prediction_probs = classifier.predict_proba(X_test)"
   ]
  },
  {
   "cell_type": "code",
   "execution_count": 22,
   "metadata": {},
   "outputs": [],
   "source": [
    "test_predictions = test_predictions.astype(np.int16)\n",
    "y_test_int = y_test.astype(np.int16)"
   ]
  },
  {
   "cell_type": "code",
   "execution_count": 23,
   "metadata": {},
   "outputs": [
    {
     "name": "stdout",
     "output_type": "stream",
     "text": [
      "Train Performance\n",
      "-------------------------------------------------------\n",
      "              precision    recall  f1-score   support\n",
      "\n",
      "         0.0       1.00      1.00      1.00       406\n",
      "         1.0       1.00      1.00      1.00       394\n",
      "\n",
      "    accuracy                           1.00       800\n",
      "   macro avg       1.00      1.00      1.00       800\n",
      "weighted avg       1.00      1.00      1.00       800\n",
      "\n",
      "Test Performance\n",
      "-------------------------------------------------------\n",
      "              precision    recall  f1-score   support\n",
      "\n",
      "         0.0       0.98      0.97      0.97        94\n",
      "         1.0       0.97      0.98      0.98       106\n",
      "\n",
      "    accuracy                           0.97       200\n",
      "   macro avg       0.98      0.97      0.97       200\n",
      "weighted avg       0.98      0.97      0.97       200\n",
      "\n",
      "Test Recall\n",
      "-------------------------------------------------------\n",
      "0.9680851063829787\n",
      "Confusion Matrix\n",
      "-------------------------------------------------------\n",
      "[[ 91   3]\n",
      " [  2 104]]\n"
     ]
    }
   ],
   "source": [
    "print('Train Performance')\n",
    "print('-------------------------------------------------------')\n",
    "print(classification_report(y_train, train_predictions))\n",
    "print('Test Performance')\n",
    "print('-------------------------------------------------------')\n",
    "print(classification_report(y_test, test_predictions))\n",
    "cm = confusion_matrix(y_test_int, test_predictions)\n",
    "recall = (cm[0][0] / (cm[0][0] + cm[0][1]))\n",
    "print('Test Recall')\n",
    "print('-------------------------------------------------------')\n",
    "print(recall)\n",
    "print('Confusion Matrix')\n",
    "print('-------------------------------------------------------')\n",
    "print(cm)"
   ]
  },
  {
   "cell_type": "code",
   "execution_count": 24,
   "metadata": {},
   "outputs": [
    {
     "name": "stdout",
     "output_type": "stream",
     "text": [
      "CPU times: user 884 ms, sys: 4.25 ms, total: 888 ms\n",
      "Wall time: 887 ms\n"
     ]
    }
   ],
   "source": [
    "%%time\n",
    "permutation_importance_results = permutation_importance(classifier,\n",
    "                                                        X=X_test,\n",
    "                                                        y=y_test,\n",
    "                                                        n_repeats=10,\n",
    "                                                        random_state=42)"
   ]
  },
  {
   "cell_type": "code",
   "execution_count": 25,
   "metadata": {},
   "outputs": [
    {
     "data": {
      "text/plain": [
       "Text(0.5, 0, 'Permutation Importance')"
      ]
     },
     "execution_count": 25,
     "metadata": {},
     "output_type": "execute_result"
    },
    {
     "data": {
      "image/png": "[encoded data removed]",
      "text/plain": [
       "<Figure size 576x576 with 1 Axes>"
      ]
     },
     "metadata": {
      "needs_background": "light"
     },
     "output_type": "display_data"
    }
   ],
   "source": [
    "sorted_idx = permutation_importance_results.importances_mean.argsort()\n",
    "plt.figure(figsize=(8, 8))\n",
    "plt.barh(X_test.columns[sorted_idx], permutation_importance_results.importances_mean[sorted_idx])\n",
    "plt.xlabel(\"Permutation Importance\")"
   ]
  },
  {
   "cell_type": "code",
   "execution_count": 26,
   "metadata": {},
   "outputs": [],
   "source": [
    "del X_train, X_test, y_train, y_test, test_predictions, train_predictions, prediction_probs, y_test_int"
   ]
  },
  {
   "cell_type": "markdown",
   "metadata": {},
   "source": [
    "## Save the model for future use"
   ]
  },
  {
   "cell_type": "code",
   "execution_count": 27,
   "metadata": {},
   "outputs": [
    {
     "name": "stdout",
     "output_type": "stream",
     "text": [
      "Saving model to: ./water_classifier_rf_gpu.sav\n",
      "RandomForestClassifier()\n"
     ]
    },
    {
     "data": {
      "text/plain": [
       "['./water_classifier_rf_gpu.sav']"
      ]
     },
     "execution_count": 27,
     "metadata": {},
     "output_type": "execute_result"
    }
   ],
   "source": [
    "model_save_path = './water_classifier_rf_gpu.sav'\n",
    "print('Saving model to: {}'.format(model_save_path))\n",
    "print(classifier)\n",
    "joblib.dump(classifier, model_save_path, compress=3)"
   ]
  },
  {
   "cell_type": "markdown",
   "metadata": {},
   "source": [
    "# Testing: Raster testing"
   ]
  },
  {
   "cell_type": "markdown",
   "metadata": {},
   "source": [
    "### Read in data \n",
    "\n",
    "These are modified MOD09GA and MOD09GQ products for the 2001 julian day 155. They were modified to be clipped to the Lake Powell region."
   ]
  },
  {
   "cell_type": "code",
   "execution_count": 28,
   "metadata": {},
   "outputs": [],
   "source": [
    "fileList = sorted([file for file in glob.glob('../data/IL.*.Powell.*.tif') if 'sur_refl' in file])"
   ]
  },
  {
   "cell_type": "code",
   "execution_count": 29,
   "metadata": {},
   "outputs": [],
   "source": [
    "def readRastersToArray(fileList):\n",
    "    rasterProjection = None\n",
    "    newshp = (1300*1300, 10)\n",
    "    img = np.empty(newshp, dtype=np.int16)\n",
    "    for i, fileName in enumerate(fileList):\n",
    "        ds = gdal.Open(fileName)\n",
    "        img[:, i] = ds.GetRasterBand(1).ReadAsArray().astype(np.int16).ravel()\n",
    "        if i == 0:\n",
    "            rasterProjection = ds.GetProjection()\n",
    "        ds = None\n",
    "    img[:, len(fileList)] = ((img[:, 1] - img[:, 0]) / (img[:, 1] + img[:, 0])) * 10000\n",
    "    img[:, len(fileList)+1] = ((img[:, 1] - img[:, 5]) / (img[:, 1] + img[:, 5])) * 10000\n",
    "    img[:, len(fileList)+2] = ((img[:, 1] - img[:, 6]) / (img[:, 1] + img[:, 6])) * 10000\n",
    "    return img, rasterProjection"
   ]
  },
  {
   "cell_type": "code",
   "execution_count": 30,
   "metadata": {},
   "outputs": [
    {
     "name": "stdout",
     "output_type": "stream",
     "text": [
      "Raster as ndarray\n",
      "[[ 1547  2461   857 ...  2280  -518   510]\n",
      " [ 1474  2377   857 ...  2344  -691   337]\n",
      " [ 1474  2377   846 ...  2344  -472   623]\n",
      " ...\n",
      " [ 2358  2979  1028 ...  1163 -1727 -1292]\n",
      " [ 2425  3069  1117 ...  1172 -1721 -1216]\n",
      " [ 2402  3038  1117 ...  1169 -1770 -1266]]\n",
      "33.8 MB size\n",
      "CPU times: user 241 ms, sys: 45.5 ms, total: 286 ms\n",
      "Wall time: 365 ms\n"
     ]
    }
   ],
   "source": [
    "%%time\n",
    "im, rasterProjection = readRastersToArray(fileList)\n",
    "print('Raster as ndarray')\n",
    "print(im)\n",
    "print('{} MB size'.format((im.size * im.itemsize) / 1000000))"
   ]
  },
  {
   "cell_type": "markdown",
   "metadata": {},
   "source": [
    "### Load in the model"
   ]
  },
  {
   "cell_type": "code",
   "execution_count": 31,
   "metadata": {},
   "outputs": [],
   "source": [
    "def predictRaster(img_chunk, colsToDrop=None):\n",
    "    \"\"\"\n",
    "    Function given a raster in the form of a nxn matrix, will\n",
    "    convert the matrix to a GPU-bound data frame then perform \n",
    "    predictions given the loaded model.\n",
    "    \n",
    "    Return the prediction matrix, the prediction probabilities\n",
    "    for each and the dataframe converted to host.\n",
    "    \"\"\"\n",
    "    print('Converting host array to CPU-based dataframe')\n",
    "    df = pd.DataFrame(img_chunk, columns=v_names, dtype=np.float32)\n",
    "    df = df.drop(columns=columnsToDrop)\n",
    "    print('Making predictions from raster')\n",
    "    predictions = classifier.predict(df)\n",
    "    predictionsProbs = classifier.predict_proba(df)\n",
    "    return predictions, predictionsProbs, df"
   ]
  },
  {
   "cell_type": "code",
   "execution_count": 32,
   "metadata": {},
   "outputs": [
    {
     "name": "stdout",
     "output_type": "stream",
     "text": [
      "Converting host array to CPU-based dataframe\n",
      "Making predictions from raster\n",
      "CPU times: user 11.1 s, sys: 750 ms, total: 11.9 s\n",
      "Wall time: 11.9 s\n"
     ]
    }
   ],
   "source": [
    "%%time\n",
    "predictedRaster, predictedProbaRaster, df = predictRaster(im)"
   ]
  },
  {
   "cell_type": "markdown",
   "metadata": {},
   "source": [
    "### Description of the predicted probability for each pixel in the raster (no bad-data vals masked yet)"
   ]
  },
  {
   "cell_type": "code",
   "execution_count": 33,
   "metadata": {},
   "outputs": [],
   "source": [
    "shp = (1300, 1300)\n",
    "left = list()\n",
    "right = list()\n",
    "for i, subarr in enumerate(predictedProbaRaster):\n",
    "    left.append(subarr[0])\n",
    "    right.append(subarr[1])\n",
    "leftArr = np.asarray(left)\n",
    "rightArr = np.asarray(right)\n",
    "probaLand = leftArr.reshape(shp)\n",
    "probaWater = rightArr.reshape(shp)"
   ]
  },
  {
   "cell_type": "markdown",
   "metadata": {},
   "source": [
    "#### Reshape the unravelled matrix back to the 4800x4800 raster shape"
   ]
  },
  {
   "cell_type": "code",
   "execution_count": 34,
   "metadata": {},
   "outputs": [
    {
     "data": {
      "text/plain": [
       "(1300, 1300)"
      ]
     },
     "execution_count": 34,
     "metadata": {},
     "output_type": "execute_result"
    }
   ],
   "source": [
    "shp = (1300, 1300)\n",
    "matrix = np.asarray(predictedRaster)\n",
    "reshp = matrix.reshape(shp)\n",
    "reshp.shape"
   ]
  },
  {
   "cell_type": "markdown",
   "metadata": {},
   "source": [
    "Add QA mask to prediction"
   ]
  },
  {
   "cell_type": "code",
   "execution_count": 35,
   "metadata": {},
   "outputs": [
    {
     "data": {
      "text/plain": [
       "array([[1, 1, 1, ..., 1, 1, 1],\n",
       "       [1, 1, 1, ..., 1, 1, 1],\n",
       "       [1, 1, 1, ..., 1, 1, 1],\n",
       "       ...,\n",
       "       [0, 0, 0, ..., 0, 0, 0],\n",
       "       [0, 0, 0, ..., 0, 0, 0],\n",
       "       [0, 0, 0, ..., 0, 0, 0]], dtype=int16)"
      ]
     },
     "execution_count": 35,
     "metadata": {},
     "output_type": "execute_result"
    }
   ],
   "source": [
    "qa = [file for file in glob.glob('../data/*.tif') if 'qa' in file][0]\n",
    "ds = gdal.Open(qa)\n",
    "qaMask = ds.GetRasterBand(1).ReadAsArray()\n",
    "output = np.where(qaMask == 0, reshp, -9999)\n",
    "qaMask"
   ]
  },
  {
   "cell_type": "code",
   "execution_count": 36,
   "metadata": {},
   "outputs": [
    {
     "name": "stdout",
     "output_type": "stream",
     "text": [
      "Predicted\n",
      " No-data occuraces: 61568\n",
      " Land occurances: 1618248\n",
      " Water occurances: 10184\n"
     ]
    }
   ],
   "source": [
    "countNoData = np.count_nonzero(output == -9999)\n",
    "countLand = np.count_nonzero(output == 0)\n",
    "countWater = np.count_nonzero(output == 1)\n",
    "print('Predicted\\n No-data occuraces: {}\\n Land occurances: {}\\n Water occurances: {}'.format(countNoData, countLand, countWater))"
   ]
  },
  {
   "cell_type": "markdown",
   "metadata": {},
   "source": [
    "## Output predicted raster to GeoTiff"
   ]
  },
  {
   "cell_type": "code",
   "execution_count": 37,
   "metadata": {},
   "outputs": [],
   "source": [
    "geoTransform = (-9961223.407, 231.65635, 0.0, 4285642.633667, 0.0, -231.65635)"
   ]
  },
  {
   "cell_type": "code",
   "execution_count": 38,
   "metadata": {},
   "outputs": [],
   "source": [
    "predictedPath = os.path.join(outputRasterPath, 'PowellPredictedWaterMask.tif')\n",
    "\n",
    "driver = gdal.GetDriverByName('GTiff')\n",
    "outDs = driver.Create(predictedPath, 1300, 1300, 1, gdal.GDT_Int16, options=['COMPRESS=LZW'])\n",
    "outDs.SetGeoTransform(geoTransform)\n",
    "outDs.SetProjection(rasterProjection)\n",
    "outBand = outDs.GetRasterBand(1)\n",
    "outBand.WriteArray(output)\n",
    "outBand.SetNoDataValue(-9999)\n",
    "outDs.FlushCache()\n",
    "outDs = None\n",
    "outBand = None\n",
    "driver = None"
   ]
  },
  {
   "cell_type": "markdown",
   "metadata": {},
   "source": [
    "## View predictions with Folium"
   ]
  },
  {
   "cell_type": "code",
   "execution_count": 39,
   "metadata": {},
   "outputs": [],
   "source": [
    "import folium\n",
    "from folium import plugins\n",
    "\n",
    "sys.path.append('../scripts')\n",
    "import folium_helper"
   ]
  },
  {
   "cell_type": "code",
   "execution_count": 40,
   "metadata": {},
   "outputs": [
    {
     "name": "stdout",
     "output_type": "stream",
     "text": [
      "Transform: | 491.82, 0.00,-12749861.52|\n",
      "| 0.00,-491.82, 4656230.30|\n",
      "| 0.00, 0.00, 1.00|\n",
      "Width: 1670 Height: 770\n"
     ]
    }
   ],
   "source": [
    "mask_3857 = folium_helper.reproject_to_3857(predictedPath)\n",
    "mask_d = folium_helper.get_bounds(mask_3857)\n",
    "mask_b1 = folium_helper.open_and_get_band(mask_3857, 1)\n",
    "folium_helper.cleanup(mask_3857)\n",
    "mask_b1 = np.where(mask_b1 == -9999, 0, mask_b1)\n",
    "zeros = np.zeros_like(mask_b1)\n",
    "mask_rgb = np.dstack((mask_b1, zeros, zeros))"
   ]
  },
  {
   "cell_type": "code",
   "execution_count": 41,
   "metadata": {},
   "outputs": [],
   "source": [
    "m = folium.Map(location=[mask_d['center'][1], mask_d['center'][0]],\n",
    "                   tiles='https://mt1.google.com/vt/lyrs=s&x={x}&y={y}&z={z}', zoom_start = 6, attr='Google')"
   ]
  },
  {
   "cell_type": "code",
   "execution_count": 42,
   "metadata": {},
   "outputs": [
    {
     "data": {
      "text/html": [
       "<div style=\"width:100%;\"><div style=\"position:relative;width:100%;height:0;padding-bottom:60%;\"><span style=\"color:#565656\">Make this Notebook Trusted to load map: File -> Trust Notebook</span><iframe src=\"about:blank\" style=\"position:absolute;width:100%;height:100%;left:0;top:0;border:none !important;\" data-html=%3C%21DOCTYPE%20html%3E%0A%3Chead%3E%20%20%20%20%0A%20%20%20%20%3Cmeta%20http-equiv%3D%22content-type%22%20content%3D%22text/html%3B%20charset%3DUTF-8%22%20/%3E%0A%20%20%20%20%0A%20%20%20%20%20%20%20%20%3Cscript%3E%0A%20%20%20%20%20%20%20%20%20%20%20%20L_NO_TOUCH%20%3D%20false%3B%0A%20%20%20%20%20%20%20%20%20%20%20%20L_DISABLE_3D%20%3D%20false%3B%0A%20%20%20%20%20%20%20%20%3C/script%3E%0A%20%20%20%20%0A%20%20%20%20%3Cstyle%3Ehtml%2C%20body%20%7Bwidth%3A%20100%25%3Bheight%3A%20100%25%3Bmargin%3A%200%3Bpadding%3A%200%3B%7D%3C/style%3E%0A%20%20%20%20%3Cstyle%3E%23map%20%7Bposition%3Aabsolute%3Btop%3A0%3Bbottom%3A0%3Bright%3A0%3Bleft%3A0%3B%7D%3C/style%3E%0A%20%20%20%20%3Cscript%20src%3D%22https%3A//cdn.jsdelivr.net/npm/leaflet%401.6.0/dist/leaflet.js%22%3E%3C/script%3E%0A%20%20%20%20%3Cscript%20src%3D%22https%3A//code.jquery.com/jquery-1.12.4.min.js%22%3E%3C/script%3E%0A%20%20%20%20%3Cscript%20src%3D%22https%3A//maxcdn.bootstrapcdn.com/bootstrap/3.2.0/js/bootstrap.min.js%22%3E%3C/script%3E%0A%20%20%20%20%3Cscript%20src%3D%22https%3A//cdnjs.cloudflare.com/ajax/libs/Leaflet.awesome-markers/2.0.2/leaflet.awesome-markers.js%22%3E%3C/script%3E%0A%20%20%20%20%3Clink%20rel%3D%22stylesheet%22%20href%3D%22https%3A//cdn.jsdelivr.net/npm/leaflet%401.6.0/dist/leaflet.css%22/%3E%0A%20%20%20%20%3Clink%20rel%3D%22stylesheet%22%20href%3D%22https%3A//maxcdn.bootstrapcdn.com/bootstrap/3.2.0/css/bootstrap.min.css%22/%3E%0A%20%20%20%20%3Clink%20rel%3D%22stylesheet%22%20href%3D%22https%3A//maxcdn.bootstrapcdn.com/bootstrap/3.2.0/css/bootstrap-theme.min.css%22/%3E%0A%20%20%20%20%3Clink%20rel%3D%22stylesheet%22%20href%3D%22https%3A//maxcdn.bootstrapcdn.com/font-awesome/4.6.3/css/font-awesome.min.css%22/%3E%0A%20%20%20%20%3Clink%20rel%3D%22stylesheet%22%20href%3D%22https%3A//cdnjs.cloudflare.com/ajax/libs/Leaflet.awesome-markers/2.0.2/leaflet.awesome-markers.css%22/%3E%0A%20%20%20%20%3Clink%20rel%3D%22stylesheet%22%20href%3D%22https%3A//cdn.jsdelivr.net/gh/python-visualization/folium/folium/templates/leaflet.awesome.rotate.min.css%22/%3E%0A%20%20%20%20%0A%20%20%20%20%20%20%20%20%20%20%20%20%3Cmeta%20name%3D%22viewport%22%20content%3D%22width%3Ddevice-width%2C%0A%20%20%20%20%20%20%20%20%20%20%20%20%20%20%20%20initial-scale%3D1.0%2C%20maximum-scale%3D1.0%2C%20user-scalable%3Dno%22%20/%3E%0A%20%20%20%20%20%20%20%20%20%20%20%20%3Cstyle%3E%0A%20%20%20%20%20%20%20%20%20%20%20%20%20%20%20%20%23map_a429437bcb6c47fc9c4f186ad8b663dd%20%7B%0A%20%20%20%20%20%20%20%20%20%20%20%20%20%20%20%20%20%20%20%20position%3A%20relative%3B%0A%20%20%20%20%20%20%20%20%20%20%20%20%20%20%20%20%20%20%20%20width%3A%20100.0%25%3B%0A%20%20%20%20%20%20%20%20%20%20%20%20%20%20%20%20%20%20%20%20height%3A%20100.0%25%3B%0A%20%20%20%20%20%20%20%20%20%20%20%20%20%20%20%20%20%20%20%20left%3A%200.0%25%3B%0A%20%20%20%20%20%20%20%20%20%20%20%20%20%20%20%20%20%20%20%20top%3A%200.0%25%3B%0A%20%20%20%20%20%20%20%20%20%20%20%20%20%20%20%20%7D%0A%20%20%20%20%20%20%20%20%20%20%20%20%3C/style%3E%0A%20%20%20%20%20%20%20%20%0A%20%20%20%20%0A%20%20%20%20%20%20%20%20%20%20%20%20%20%20%20%20%3Cstyle%3E%0A%20%20%20%20%20%20%20%20%20%20%20%20%20%20%20%20%20%20%20%20.leaflet-image-layer%20%7B%0A%20%20%20%20%20%20%20%20%20%20%20%20%20%20%20%20%20%20%20%20%20%20%20%20/%2A%20old%20android/safari%2A/%0A%20%20%20%20%20%20%20%20%20%20%20%20%20%20%20%20%20%20%20%20%20%20%20%20image-rendering%3A%20-webkit-optimize-contrast%3B%0A%20%20%20%20%20%20%20%20%20%20%20%20%20%20%20%20%20%20%20%20%20%20%20%20image-rendering%3A%20crisp-edges%3B%20/%2A%20safari%20%2A/%0A%20%20%20%20%20%20%20%20%20%20%20%20%20%20%20%20%20%20%20%20%20%20%20%20image-rendering%3A%20pixelated%3B%20/%2A%20chrome%20%2A/%0A%20%20%20%20%20%20%20%20%20%20%20%20%20%20%20%20%20%20%20%20%20%20%20%20image-rendering%3A%20-moz-crisp-edges%3B%20/%2A%20firefox%20%2A/%0A%20%20%20%20%20%20%20%20%20%20%20%20%20%20%20%20%20%20%20%20%20%20%20%20image-rendering%3A%20-o-crisp-edges%3B%20/%2A%20opera%20%2A/%0A%20%20%20%20%20%20%20%20%20%20%20%20%20%20%20%20%20%20%20%20%20%20%20%20-ms-interpolation-mode%3A%20nearest-neighbor%3B%20/%2A%20ie%20%2A/%0A%20%20%20%20%20%20%20%20%20%20%20%20%20%20%20%20%20%20%20%20%7D%0A%20%20%20%20%20%20%20%20%20%20%20%20%20%20%20%20%3C/style%3E%0A%20%20%20%20%20%20%20%20%20%20%20%20%0A%20%20%20%20%3Cscript%20src%3D%22https%3A//cdn.jsdelivr.net/gh/ardhi/Leaflet.MousePosition/src/L.Control.MousePosition.min.js%22%3E%3C/script%3E%0A%20%20%20%20%3Clink%20rel%3D%22stylesheet%22%20href%3D%22https%3A//cdn.jsdelivr.net/gh/ardhi/Leaflet.MousePosition/src/L.Control.MousePosition.min.css%22/%3E%0A%3C/head%3E%0A%3Cbody%3E%20%20%20%20%0A%20%20%20%20%0A%20%20%20%20%20%20%20%20%20%20%20%20%3Cdiv%20class%3D%22folium-map%22%20id%3D%22map_a429437bcb6c47fc9c4f186ad8b663dd%22%20%3E%3C/div%3E%0A%20%20%20%20%20%20%20%20%0A%3C/body%3E%0A%3Cscript%3E%20%20%20%20%0A%20%20%20%20%0A%20%20%20%20%20%20%20%20%20%20%20%20var%20map_a429437bcb6c47fc9c4f186ad8b663dd%20%3D%20L.map%28%0A%20%20%20%20%20%20%20%20%20%20%20%20%20%20%20%20%22map_a429437bcb6c47fc9c4f186ad8b663dd%22%2C%0A%20%20%20%20%20%20%20%20%20%20%20%20%20%20%20%20%7B%0A%20%20%20%20%20%20%20%20%20%20%20%20%20%20%20%20%20%20%20%20center%3A%20%5B37.186836489892286%2C%20-110.84485924937243%5D%2C%0A%20%20%20%20%20%20%20%20%20%20%20%20%20%20%20%20%20%20%20%20crs%3A%20L.CRS.EPSG3857%2C%0A%20%20%20%20%20%20%20%20%20%20%20%20%20%20%20%20%20%20%20%20zoom%3A%206%2C%0A%20%20%20%20%20%20%20%20%20%20%20%20%20%20%20%20%20%20%20%20zoomControl%3A%20true%2C%0A%20%20%20%20%20%20%20%20%20%20%20%20%20%20%20%20%20%20%20%20preferCanvas%3A%20false%2C%0A%20%20%20%20%20%20%20%20%20%20%20%20%20%20%20%20%7D%0A%20%20%20%20%20%20%20%20%20%20%20%20%29%3B%0A%0A%20%20%20%20%20%20%20%20%20%20%20%20%0A%0A%20%20%20%20%20%20%20%20%0A%20%20%20%20%0A%20%20%20%20%20%20%20%20%20%20%20%20var%20tile_layer_0775c57c367841fc9ab778255b9b7570%20%3D%20L.tileLayer%28%0A%20%20%20%20%20%20%20%20%20%20%20%20%20%20%20%20%22https%3A//mt1.google.com/vt/lyrs%3Ds%5Cu0026x%3D%7Bx%7D%5Cu0026y%3D%7By%7D%5Cu0026z%3D%7Bz%7D%22%2C%0A%20%20%20%20%20%20%20%20%20%20%20%20%20%20%20%20%7B%22attribution%22%3A%20%22Google%22%2C%20%22detectRetina%22%3A%20false%2C%20%22maxNativeZoom%22%3A%2018%2C%20%22maxZoom%22%3A%2018%2C%20%22minZoom%22%3A%200%2C%20%22noWrap%22%3A%20false%2C%20%22opacity%22%3A%201%2C%20%22subdomains%22%3A%20%22abc%22%2C%20%22tms%22%3A%20false%7D%0A%20%20%20%20%20%20%20%20%20%20%20%20%29.addTo%28map_a429437bcb6c47fc9c4f186ad8b663dd%29%3B%0A%20%20%20%20%20%20%20%20%0A%20%20%20%20%0A%20%20%20%20%20%20%20%20%20%20%20%20var%20image_overlay_512ccaa301bf431b9b11005496b4d564%20%3D%20L.imageOverlay%28%0A%20%20%20%20%20%20%20%20%20%20%20%20%20%20%20%20%22data%3Aimage/png%3Bbase64%2CiVBORw0KGgoAAAANSUhEUgAABoYAAAMCCAYAAABEBXSBAAAiUElEQVR42uzd0W7bOBBAUf3/T88%2B7C4QBJFEUqREDs/DAdomluyRWwO%2BnvQ4jiMAAMgp/mAuAAAAsDVDAAAQhQAAAABhCACANGHITAAAAABhCABggzBkHgAAAIAwBACwQRgyCwAAAEAYAgDYIAgJQwAAAIAwBAAAAAAAIAwBAAAAAAAgDAEAAAAAACAMAQAAAAAAIAwBAAAAAAAgDAEAAAAAACAMAQAAAAAAIAwBAAAAAAAgDAEAAAAAACAMAQAAAAAAIAwBAAAAAAAIQwAAAAAAAAhDAAALCjMAAAAAMAQAAAAAAABhCAAAAAAAAGEIAAAAAAAAYQgAAAAAAABhCAAAAAAAAGEIAAAAAAAAYQgAAAAAAABhCAAAAAAAAGEIAAAAAAAAYQgAAAAAAEAYAgAAAAAAQBgCAAAAAABAGAIAAAAAAEAYAgAAAAAAQBgCAAAAAABAGAIAAAAAAEAYAgAAAAAAQBgCAAAAAABAGAIAAAAAAEAYAgAAAAAAEIYAAAAAAAAQhgAAAAAAABCGAAAAAAAAEIYAAAAAAAAQhgAAAAAAABCGAAAAAAAAEIYAAAAAAAAQhgAAAAAAABCGAAAAAAAAhCEAAAAAAACEIQAAAAAAAIQhAAAAAAAAhCEAAAAAAACEIQAAAAAAAIQhAAAAAAAAhCEAAAAAAACEIQAAAAAAAIQhAAAAAAAAhCEAAAAAAABhCAAAAAAAAGEIAAAAAAAAYQgAAAAAAABhCAAAAAAAAGEIAAAAAAAAYQgAAAAAAABhCAD4RPxgHgAAAADCEACwSRgShwAAAACEIQBAFAIAAABAGAIAskQhYQgAAABAGAIANgpD4hAAAACAMAQAbBKHzAQAAABAGAIANtkYMhcAAAAAYQgAEIYAAAAAEIYAgCxhyEwAAAAAhCEAIHkUMg8AAAAAYQgAEIcAAAAAEIYAgGxhSBwCAAAAEIYAgI3CkDgEAAAAIAwBALaGAAAAABCGAIBsccg8AAAAAIQhAEAYAgAAAEAYAgCyBSKzAAAAABCGAABhCAAAAABhCAAQhgAAAAAQhgCA5eKQOQAAAAAIQwAAAAAAAAhDANgAAQAAAACEIQDEIQAAAABAGAIAAAAAAEAYAqDDhpAtITz3AQAAAIQhADZ5Y9wb5Oz%2B/DcPAAAAQBgCwJviIIwCAAAACEMA5HhT3BwQhcwCAAAAEIYAEIZAGAIAAAAQhgAAhCEAAAAAYQgAYLEoJAwBAAAAwhAAgG0hAAAAAGEIAEAYAgAAABCGAACWCUKiEAAAACAMAQAIQwAAAADCEABApigkDAEAAADCEADABmHIPAAAAABhCABggzBkFgAAAIAwBABgUwgAAABAGAIAyBCFhCEAAAAAYQgA2CwOCUQAAACAMAQAsEEYOoQhAAAAAEMAAPLFoN9hyFwAAAAAhCEAIPmWkDAEAAAAIAwBABtuDwEAAABgAAAAAAAAAMIQAAAAAAAAwhAAAAAAAADCEAAAAAAAAMIQAAAAAAAAwhAAAAAAAADCEAAAAAAAAMIQAAAAAAAAwhAAAAAAAADCEAAAAAAAgDAEAAAAAACAMAQAAAAAAIAwBAAAAAAAgDAEAAAAAACAMAQAAAAAAIAwBAAAAAAAgDAEAAAphBkAAAAgDAEAAAAAACAMAQAAAAAAIAwBAAAAAAAgDAEAAAAAACAMAQAAAAAACEMAAAAAAAAIQwAAAAAAAAhDAAAAAAAACEMAAAAAAAAIQwAAAAAAAAhDAAAAAAAACEMAAAAAAAAIQwAAAAAAAAhDAAAAAAAAwhAAAAAAAADCEAAAFAszAAAAAGEIAIA9olCIQwAAACAMAQCwVxwyCwAAABCGAAAAAAAAEIYAAAAAAAAQhgAAAAAAABCGAAAAAAAAEIYAAAAAAAAQhgAAAAAAAIQhAAAAAAAAhCEAAAAAAACEIQAAAAAAAIQhAAAAAAAAhCEAAAAAAACEIQAAAAAAAIQhAAAAAAAAhCEAAAAAAACEIQAAAAAAAIQhAAAAAAAAYQgAAAAAAABhCAAAAAAAAGEIAAAAAAAAYQgAAAAAAABhCAAAAAAAAGEIAAAAAAAAYQgAAAAAAABhCAAAAAAAAGEIAAAAAABAGAIAAAAAAEAYAgAAAAAAQBgCAAAAAABAGAIAAAAAAEAYAgAAAAAAQBgCAAAAAABAGAIAAAAAAEAYAgAAAAAAQBgCAAAAAABAGAIAAAAAABCGAAAAAAAAEIYAAAAAAAAQhgAAAAAAABCGAAAAAAAAEIYAAADgf2EGAAAgDAEAAAAAACAMAQAAAAAAIAwBAACwmnAfAABAGAIAAGCPKBQ/wszvX9/dJk6%2BZrYAACAMAQAAMGEQEnIAAEAYAgAAIFEEKtkWAgAAhCEAAAAShiFBCAAAhCEAAAASx6G/mA0AAAhDAAAAbBKHvthWAgAAYQgAAAA%2BiENvn9s1AABAGAIAAIANwpA4BACAMAQAAAAfxiHzAAAAYQgAAABhCAAAEIYAAADIEoWEIQAAEIYAAAAQhgAAAGEIAACALEFIGAIAAGEIAACA5FHIPAAAQBgCAABgo20hMwEAAGEIAACA5GHILAAAQBgCAABgg00h8wAAAGEIAAAAYQgAABCGAAAAWCH4RMH3mRkAAAhDAAAAJN8IEoYAAEAYAgAAIGkgqg1HAACAMAQAAMDCm0NnzAkAAIQhAAAANgpDAhEAAAhDAAAAJA5CNocAAEAYAgAAQBQCAACEIQAAAFYLQzXff/Z7AABAGAIAACBZGLJFBAAAwhAAAAALBqH44PYAAIAwBAAAwCJhCAAAEIYAAABYOBKNvg0AACAMAQAAMEEYenq7n6FIMAIAAGEIAACARBtDAACAMAQAAMCiUSgKvi4eAQCAMAQAAEDijaEQhwAAQBgCAABg7RD0%2B9dx4S4eAQAAwhAAAACLbg6dxSIzAgAAYQgAAIANQpEwBAAAwhAAAADCEAAAIAwBAACQKQyZBwAACEMAAABssi0kDgEAgDAEAADAJmHITAAAQBgCAAAgeRgyCwAAEIYAAAAQhwAAAGEIAODbNzDNAeB5CApRCAAAhCEAAAD2ikLCEAAACEMAAACIQwAAgDAEAABApihkLgAAIAwBAACw0aaQQAQAAMIQAAAAm8QhG0QAACAMAcDjTx8DAOtEITMCAABhCAC8uQQAm2wKeQ0HAABhCADEIQAQhgAAAGEIALypBADZopDXcQAAEIYAAABIEoMO4QcAAIQhAAAA9ohD5gIAAMIQAAAAibeERCEAABCGAAAA2CQQmQkAAAhDAAAAbLQ5ZC4AACAMAQAAIA4BAADCEAAAAJnikHkAAIAwBAAAgI0hAABAGAIAACBbGBKIAABAGAIAAMC2EAAAIAwBAACQbWPIbAAAQBgCAAAgeRgyEwAAEIYAAAAQhQAAAGEIAACAFSPQGbMCAABhCAAAgE3CkEAEAADCEAAAABuFIfMCAABhCAAAgMWD0F0kMi8AABCGAAAASBKHSjaIzAsAAIQhAAAAJg8/NRtDZ3HILAEAQBgCAABgkW2gqIhCAACAMAQAAMDiG0NxEY4AAABhCAAAgCRRSAwCAABhCAAAgMRRSAACAABhCAAAgI03hgAAAGEIAAAAYQgAABCGAAAAEIYAAABhCAAAgKmjkDAEAADCEAAAAIlDUIhCAACAMAQAAJA/BpkJAAAgDAEAAIhDAACAMAQAAECGKHSIQgAAgDAEAACwTxgCAAAQhgAAAJKHoZo/BwAAhCEAAACShSEAAABhCAAAQBgCAACEIQAAAFYNQ%2BIQAAAgDAEAAAAAAAhDAFD/SWSfSAZgx9e%2BY/LXvjjhGgIAAMIQAI/fdDILAHYNQzHx67PXaAAAQBgCAAAYsIkTk95H1wwAABCGAAAAOkehmPT%2BuW4AAIAwBMCwN8bMBoDdXgdHnkMMAgAAhCEApv/EtPkAsONr4RdhyGswAAAgDAFgawgANolDXn8BAABhCIBPw5C5AOC18Pv749oAAADCEABLflIaAIQhEQgAABCGAJj4DTJzAEAYEoUAAABhCAAAQBR6%2BMELQQgAABCGAAAANohDb28mAQAAwhAAAAA3cSgGn8vcAQAAYQgAACD55pAoBAAACEMAAAAvBpj4aGvIthAAACAMAfDaG2N3b3Z5swqAzBtAR2H0GRWGvMYCAADCEABLfKoaADIForvgM2JzyIcvAAAAYQgAcQgAPgxD4hAAACAMAQAAbBaHokNIEoUAAABhCAAAYMENojjqQlLN%2BcwfAAAQhgAAACbZHBq1PSQKAQAAwhAAAMBHcejoEIai4nzCEAAAIAwBAABMvjVUs1lUez7XAgAAEIYAAAAmCkOl3x%2BN53U9AAAAYQgAAGCCSDQiDP11TNcBAAAQhgAAABLGoZ%2BBSBgCAACEIQAAgIkiUW0YKok9toUAAABhCAAAYNJAVLpddBWJWreLAAAAhCEAAICXg9CTMFQahMQiAABAGAIAAJgoDr0VeEQiAABAGAIAAPgoEMUff25GAACAMAQAAJA0EAlDAACAMAQAALDR1lAIQwAAgDAEAACwTxw6hCEAAEAYAgAAyBuExCAAAEAYAgAA2CQOmQUAACAMAQAAiEMAAADCEAAAQLY4ZA4AAIAwBAAAIAwBAAAIQwAAAJnC0BnzAQAAhCEAAACBCAAAQBgCAADIGIvMAgAAEIYAAACEIQAAAGEIAAAgUxwyBwAAQBgCAAAQhgAAAIQhAAAAUQgAAEAYAgAAEIYAAACEIQAAgPfDTzR8DQAAQBgCAABYLAjFSQAKYQgAABCGAAAA8oahEIYAAABhCAAAIGcUqtkgAgAAEIYAAAAWjkPmAAAACEMAAADCEAAAgDAEAAAgDgEAAAhDAAAAS4ahEIgAAABhCAAAYI/NG3EIAAAQhgAAABriyuphSCACAACEIQAAgI3iljAEAAAIQwAAABWBRRwCAAAQhgAAgA02bmwNAQAACEMAAMAGW0K2hQAAAIQhAAAA204AAADCEAAAwFxbTwAAAMIQAABA0rASNoYAAABhCAAAIG9gihPmDwAACEMAAADJNniEIQAAQBgCAACYbFNoVLARhgAAAGEIAABgYOR5cpvoeL9EIAAAQBgCAACYPCb1CDo2hAAAAGEIAABgUOSJxtuNijuiEAAAIAwBAAC8tPXzRRgSgwAAAGEIAABgYBx6EmKi4Txnsehsc0kkAgAAhCEAAICBkSgabvc0ENkWAgAAhCEAAICPItGI24pCAACAMAQAADDxBtFbcejpOQEAAIQhAACAB1GoNdTEC%2BcAAAAQhgAAABbfNgIAABCGAAAAPow8whAAAIAwBAAAbLT9E5W3MTsAAEAYAgAAWHhbqCUSAQAACEMAAABJI5JoBAAACEMAAACbbBIJQwAAgDAEAACQLAzFH1HIbAAAAGEIAAAgcRgCAABAGAIAAIQhAAAAYQgAACBLGBKHAAAAhCEAAMDGEAAAgDAEAAAgDgEAAAhDAAAAS8YhwQoAAEAYAgAAbA0JVx4HAAAIQwAAAMKQgFLzGIQhAAAQhgAAAD6NQXGs82PbYvKoFRf3a5UZAwAABgAAACQNQjZZ9gprAACAMAQAAAhDdIpDZgIAAMIQAACAMNR4P0u3meLjOYpCAAAgDAEAAAhDnSNRSUR68/EJQwAAIAwBAAAsE4ey3f94OQ4JQwAAIAwBAACk2MJZ%2BTG8HYY8nwAAQBgCAADg47gVg88nDAEAgDAEAADAJBtPI8LQW9tIAACAMAQAAEBl9IlB5xaHAABAGAIAAFgiqMRG93/Elo8oBAAAwhAAAAAvbwrVBJqS742b84hBAAAgDAEAACwXVLJsPbVsD90dSwQCAABhyBAAAABhaOI49CQqCUMAAIAwBAAApAxDWbeGekUhzxMAAEAYAgAAxKHJw1DN47qKQuIQAAAgDAEAAMJQojD013E8NwAAAGEIAABIGYUiSSzqEYUAAACEIQAAYKsotNLmTBz%2BbyAAAEAYAgAAaApDxyRhqHSTSRgCAACEIQAASBAtzGHsXGORucdNABKFAAAAYQgAABJsspjFuxtDd9GodMvoafwr3QgShAAAAGEIAACEIW62bq6Cy9n39ohDrRtKohAAACAMAQDABhFjtWPPHINq4koUhJw42ew5C0cl20F35xWGAAAAYQgAAEShpm2k3QJR3GwJnW1rncWau2OWBJx4eN1EIQAAQBgCAIBFIkUURAxhqH8YKo1wJRtE0cHoxwEAACAMAQDApKHojWCzUxga%2BVjj8OPcAAAAYQgAAOgUGnpvhcSLW0k7hKHS6wYAACAMAQAA4tDLM/3yugEAAAhDAABAcdCIAccVhgAAABCGAABggc2hnscv2S5acW6iEAAAgDAEAABLbQmNikMlx149DIlCAAAAwhAAACy7/TLD8WORmXn%2BAAAACEMAALD89ksMPv5VAIqFZub5AwAAIAwBAMByUegYFIbuglMsGlqEIQAAAGEIAACWDENXIeetjaERm0pvzw4AAABhCAAAlt0g6r0dcxaGVoxCtoYAAACEIQAAWD4IjY408eK5Rt/fVYMWAACAMAQAAMLQK9Fm1DlG3s%2B7%2BQhDAAAAwhAAAIhDN8fveb/f3J4ShQAAAIQhAABYPgiVRJEnkaZHUKm9f3Hx%2B6ggDAEAAAhDAACQLhD1ikMxIAy1bDNFxXFq4tCITSUAAACEIQAA%2BGyDqDWKlIahmrhzd7vWY5RsE3lOAAAACEMAAJBqS6gkDJXGnKvwUhOGYhDXHQAAQBgCAABx6CbutIShqAg9o8OQaw0AACAMAQDAtjGoJcq0Hr823NRGqJKNJwAAAIQhAAAQhgaEoZ4bPz02oAAAABCGAADgtQjz5Tmvfl26sdMzCrWEI88jAAAAYQgAAJbb0PkqDJXEobvAU/pYakJPzffYGAIAABCGAADA5lBBiLqKL1dxqGWLJwrOd9yEoNawZsMIAABAGAIAgKm2huKD89Rs8TyJQ63nsAkEAACAMAQAQNo49EWEiqMtED39ftcdAAAAYQgAgC03hb7YGmqJQz9vFw%2B4/gAAAAhDAACIRIPiSY%2BY0ysMud4AAAAIQwAAiEODA0p09vS4rjkAAADCEAAADAxCPSPRk2O5LgAAAAhDAACIOC9tIn29LSQOAQAAIAwBAMDFlk%2BmOOQaAwAAIAwBAMDgbaGZuD4AAAAIQwAAiDmdN4p6bgkJQQAAAAhDAAAwaLundANohQ0i1xgAAABhCAAAGqLP0/AiDgEAACAMAQDAj3By3ISNGHDON4LL2yFIFAIAAEAYAgAg7TbP24Go13l6h6O78wAAAIAwBADAcnHoKnr03ub563t7hqHSc0bjfRWHAAAAEIYAAEgRh54EodbzjN4W6hWxjg7RDAAAAGEIAACmCURnX3%2B6hTQiED05fu/7ZYsIAAAAYQgAgKXjUMnXnoah0XFo5LYQAAAACEMAACwfhkqDydnXZtgUatkY8nwAAABAGAIAQBzqHIXipft6dS5RCAAAAGEIAACB6GEcKg1GPe7f1dd7HA8AAACEIQAAbA41burUBKSz29Y8hprH7foDAAAgDAEAQEU0ajnGcfT9sXPRGHtsDgEAACAMAQBARSDKsKEjDAEAACAMAQBAQRyqvf3sj9G1BgAAQBgCAEAYOvr8yDfxBQAAAGEIAAAWjELReCwzBQAAQBgCAIBF4lCPY5kpAAAAwhAAAGwQhsQhAAAAhCEAAFggCsWAY5oxAAAAwhAAACTeGDqEIQAAAIQhAABYe2uoZrtIGAIAAEAYAgCABcNQXGgJQ4IRAAAAwhAAAEweho7COFS6VQQAAADCEAAAfBCGWr4ejV8DAAAAYQgAAD7cFmqNR79vXxuExCMAAACEIQAAeHFTKI6y/zNoROCJX/fDdQEAAEAYAgCAjzeGAAAAAGEIAIDk20RPN4IAAABAGAIAgEkD0AzbRCIUAAAAwhAAAAAAAADCEAAAAAAAAMIQAAAAAAAAwhAAAAAAAADCEAAAAAAAAMIQAAC8Jf5jFgAAAAhDAACwSRwyBwAAAIQhAAAQhwAAAEAYAgCArIFIJAIAAEAYAgAAAAAAQBgCAAAAAABAGAIAgKHiGPuj38KMAQAAEIYAAAAAAAAQhgAAIOlmkjkAAAAgDAEAAAAAACAMAQAAAAAAIAwBAAAAAAAgDAEAAAAAmYQZAAhDAAAAAAAACEMAAAAAYGsGAIQhAAAAAFgzxIQ4BIAwBAAAAAB7hRhxSCgDEIYAAAAAwCYTAAhDAAAAAAAAwhAAAAAAAADCEAAAAADwrzADAIQhAAAAAAAAhCEAAAAAAACEIQAAAAAAAIQhAAAAAAAAhCEAAAAAAACEIQAAAAAAAIQhAAAAAMguzAAAYQgAAAAAxCEAEIYAAAAAAACEIQAAAADAFhEAwhAAAAAAIBwBIAwBAAAAAAAgDAEAAAAA2KgCEIYAAAAAAAAQhgAAAAAAABCGAAAAAAAAEIYAAAAAAAAQhgAAAAAAAIQhAAAAAAAAhCEAAAAAAACEIQAAAAAAAIQhAAAAAAAAhCEAAAAAAACEIQAAAAAAAIQhAAAAAAAAhCEAAAAAAACEIQAAAAAAAIQhAAAAAAAAYQgAAAAAAABhCAAAAAAAAGEIAAAAAAAAYQgAAAAAAABhCAAAAAAAAGEIAAAAAAAAYQgAAAAahRkAACAMAQAAAAAAIAwBAAAAAAAgDAEAAAAAACAMAQAAAAAAIAwBAAAAAOQU/zELQBgCAAAAANgkDAlEgDAEAAAAALBBDBKHAGEIAAAAAEAYAhCGAAAAAIBnUcIc5g5DrhEgDAEAAAAAJIxChyAECEMAAAAAAPnDkHkAwhAAAAAAAADCEAAAAAAAAMIQAAAAAAmFGQCAMAQAAAAAAIAwBAAAAAAAgDAEAAAAAACAMAQAAAAAAIAwBAAAAAAAIAwBAAAAAAAgDAEAAAAA0EeYASAMAQAAAAAihZkDCEMAAAAAgEABgDAEAAAAAOINAAhDAAAAAAAACEMAAAAAYKMIAGEIAAAAAFgwDIlDAAhDAAAAAAAACEMAAAAA8NV2jzkAIAwBAAAAgDgEAMIQAAAAAAhEACAMAQAAAIAAhOsJIAwBAAAAAIhDAMIQAAAAAACAMAQAAAAA8HybxkYNgDAEAAAAAGwWiMwBQBgCAAAAAPECAIQhAAAAAIQNAEAYAgAAAAAAQBgCAAAAAABAGAIAAABII8zA9QIAYQgAAAAAAABhCAAAAACw8QSAMAQAAAAAACAMAQAAAAAAIAwBAAAAwKrCDABAGAIAAABAHAIAYQgAAAAAQAQEEIYAAAAAQFzALAGEIQAAAMCbtwD%2BfQEQhgAAAAAAABCGAAAAAJ%2B4h4n/voW/e/5NAhCGAAAAAAAAEIYAAAAAn/IH8O8NgDAEAAAAAACAMAQAAAAAAIAwBAAAAPuKw49hgkx/n80BAGEIAAAAAMQbABCGAAAAAAAAEIYAAAAAAAAQhgAAAAAAABCGAAAAAAAAMAQAAAAAyCLMAABhCAAAAAAAAGEIAAAAAABAGAIAAABWEe4fAADCEAAAAHAXbEQbAABhCAAAALBtBACAMAQAAAAgLgEACEMAAACAOAQAgDAEAAAAiEMAAAhDAAAAgPgDAIAwBAAAAAAAgDAEAAAAAACAMAQAAAAAAIAwBAAAAMsIMwAAQBgCAAAAAABAGAIAAAAAAEAYAgAAANrE4cfaAQAIQwAAAMB2gcgcAPAaAcIQAAAA4E0%2BAACEIQAAAAAAAIQhAAAAAAAAhCEAAAAAAACEIQAAAIBUwgwAAGEIAAAAAAAAYQgAAAAAAABhCAAAAAAAAGEIAAAAAAAAAwAAAAAAABCGAAAAgImEGQAAIAwBAAAAAAAgDAEAAACATUMAEIYAAAAAQKgB%2BKedO8aBEAaCIMj/Pz0kBECEhEFebwX1geGiaxaEIQAAAAAAAIQhAAAAAICRF1RxSQUgDAEAAAAA4hAAwhAAAAAAAADCEAAAAPz3drsdAAAQhgAAAAAAABCGAAAAAAAAEIYAAAAAAAAQhgAAAADqyo1NGPWbsgUAwhAAAACAOAQAIAwBAAAAzBCFhCEAQBgCAAAAaHQtJA4928wWACAMAQAAwHJ/gNvBswYAEIYAAAAAAAAQhgAAAAAAABCGAAAAAAAAEIYAAAAAAAAQhgAAAAAAAIQhAAAAAAAAhCEAAAAAACgiNgBhCAAAAAAAQBgCAAAAAABAGAIAAAAAAEAYAgAAAAAAQBgCAAAAAABAGAIAAAAAAEAYAgAAAAAAQBgCAAAAAABAGAIAAAAAAEAYAgAAAAAAwAgAAAAAAADCEAAAAABMKjYAAGEIAAAAAGEIABCGAAAAAFgsDIlDACAMAQAAAOBiCAAQhgAAAAAAAIQhAAAAAAAAhCEAAAAAAACEIQAAAAAAAIQhAAAAAAAAhCEAAAAAAACEIQAAAADgC7EBAMIQAAAAAACAMAQAAAAAAIAwBAAAAAAAgDAEAAAAAACAMAQAAAAAAIAwBAAAAAAAgDAEAAAAAACAMAQAAAAAAIAwBAAAAAAAgDAEAAAAAAAgDAEAAAAAV7EBAMIQAAAAAKwfXEQhAIQhAAAAAAAAhCEAAAAAAACEIQAAAPBJJgAAEIYAAAAAAAAQhgAAAAAAABCGAAAAAAAAEIYAAAAAAAAQhgAAAAAAAIQhIwAAAAAAAAhDAAAAADBGbAAAwhAAAAAAAADCEAAAAAAAAMIQAAAAAAAAwhAAAAAAAADCEAAAAAAAgDAEAAAAAACAMAQAAAAAAIAwBAAAAAAAgDAEAAAAAACAMAQAAAAAAIAwBAAAAAAAgDAEAAAAAACAMAQAAAAAAIAwBAAAAAAAgDAEAAAAAAAgDAEAAAAAACAMAQAAAAAAIAwBAAAAAAAgDAEAAAAAACAMAQAAAAAAIAwBAAAAAAAgDAEAAAAAACAMAQAAAAAAIAwBAAAAAABgBAAAAAAAAGEIAAAAAAAAYQgAAAAAAABhCAAAAAAAAGEIAAAAAAAAYQgAAAAAAABhCAAAAAAAAGEIAAAAAAAAYQgAAAAAAABhCAAAAAAAQBgCAAAAAN7KwRYACEMAAAAA0CQO2QEAYQgAAAAAAABhCAAAAAAAAGEIAAAAAAAAYQgAAAAAAABhCAAAAAAAAGEIAAAAAABAGAIAAAAAAEAYAgAAAAAAQBgCAAAAAAqLDQCEIQAAAAAAAIQhAAAAAAAAhCEAAAAqyuYzQgAAIAwBAAAAAAAgDAEAAAAAACAMAQAAAADFxQYAwhAAAAAAAADCEAAAAAAAAMIQAAAAAAAAwhAAAAAAAADCEAAAAAAAAMIQAAAAAAAAwhAAAAAAAADCEAAAAAAAgDAEAAAAAACAMAQAAAAAAIAwBAAAAAAAgDAEAAAAAACAMAQAAAAAAIAwBAAAAABF5cQeAAhDAAAAANAgCglDAAhDAAAAAOBaCACEIQAAAABYKRDZAQBhCAAAAACEIQAQhgAAAAAAABCGAAAAAAAAEIYAAAAAAAAQhgAAAAAAABCGAAAAAAAAhCEAAAAAAACEIQAAAAAAAIQhAAAAAAAAhCEAAAAAAACEIQAAAAAAAIQhAAAAAAAAhCEAAAAAAACEIQAAAAAAAIQhAAAAAAAAhCEAAAAAAABhCAAAAAAAAGEIAAAAAAAAYQgAAAAAAABhCAAAAAAAAGEIAAAAAAAAYQgAAAAAAABhCAAAAAAAAGEIAAAAAAAAYQgAAAAAAKC5HTmmbxEOfopRAAAAAElFTkSuQmCC%22%2C%0A%20%20%20%20%20%20%20%20%20%20%20%20%20%20%20%20%5B%5B35.83200626455288%2C%20-114.53395477030668%5D%2C%20%5B38.5416667152317%2C%20-107.15576372843819%5D%5D%2C%0A%20%20%20%20%20%20%20%20%20%20%20%20%20%20%20%20%7B%22opacity%22%3A%200.6%7D%0A%20%20%20%20%20%20%20%20%20%20%20%20%29.addTo%28map_a429437bcb6c47fc9c4f186ad8b663dd%29%3B%0A%20%20%20%20%20%20%20%20%0A%20%20%20%20%0A%20%20%20%20%20%20%20%20%20%20%20%20var%20mouse_position_6a0bcd453d734a0c87aaf77c027f412f%20%3D%20new%20L.Control.MousePosition%28%0A%20%20%20%20%20%20%20%20%20%20%20%20%20%20%20%20%7B%22emptyString%22%3A%20%22Unavailable%22%2C%20%22lngFirst%22%3A%20false%2C%20%22numDigits%22%3A%205%2C%20%22position%22%3A%20%22bottomright%22%2C%20%22prefix%22%3A%20%22%22%2C%20%22separator%22%3A%20%22%20%3A%20%22%7D%0A%20%20%20%20%20%20%20%20%20%20%20%20%29%3B%0A%20%20%20%20%20%20%20%20%20%20%20%20mouse_position_6a0bcd453d734a0c87aaf77c027f412f.options%5B%22latFormatter%22%5D%20%3D%0A%20%20%20%20%20%20%20%20%20%20%20%20%20%20%20%20undefined%3B%0A%20%20%20%20%20%20%20%20%20%20%20%20mouse_position_6a0bcd453d734a0c87aaf77c027f412f.options%5B%22lngFormatter%22%5D%20%3D%0A%20%20%20%20%20%20%20%20%20%20%20%20%20%20%20%20undefined%3B%0A%20%20%20%20%20%20%20%20%20%20%20%20map_a429437bcb6c47fc9c4f186ad8b663dd.addControl%28mouse_position_6a0bcd453d734a0c87aaf77c027f412f%29%3B%0A%20%20%20%20%20%20%20%20%0A%20%20%20%20%0A%20%20%20%20%20%20%20%20%20%20%20%20var%20layer_control_21fa55a9863c4373b3a6c259ee2cb896%20%3D%20%7B%0A%20%20%20%20%20%20%20%20%20%20%20%20%20%20%20%20base_layers%20%3A%20%7B%0A%20%20%20%20%20%20%20%20%20%20%20%20%20%20%20%20%20%20%20%20%22https%3A//mt1.google.com/vt/lyrs%3Ds%5Cu0026x%3D%7Bx%7D%5Cu0026y%3D%7By%7D%5Cu0026z%3D%7Bz%7D%22%20%3A%20tile_layer_0775c57c367841fc9ab778255b9b7570%2C%0A%20%20%20%20%20%20%20%20%20%20%20%20%20%20%20%20%7D%2C%0A%20%20%20%20%20%20%20%20%20%20%20%20%20%20%20%20overlays%20%3A%20%20%7B%0A%20%20%20%20%20%20%20%20%20%20%20%20%20%20%20%20%20%20%20%20%22Water%20classification%20XGBOOST%20predicted%20mask%22%20%3A%20image_overlay_512ccaa301bf431b9b11005496b4d564%2C%0A%20%20%20%20%20%20%20%20%20%20%20%20%20%20%20%20%7D%2C%0A%20%20%20%20%20%20%20%20%20%20%20%20%7D%3B%0A%20%20%20%20%20%20%20%20%20%20%20%20L.control.layers%28%0A%20%20%20%20%20%20%20%20%20%20%20%20%20%20%20%20layer_control_21fa55a9863c4373b3a6c259ee2cb896.base_layers%2C%0A%20%20%20%20%20%20%20%20%20%20%20%20%20%20%20%20layer_control_21fa55a9863c4373b3a6c259ee2cb896.overlays%2C%0A%20%20%20%20%20%20%20%20%20%20%20%20%20%20%20%20%7B%22autoZIndex%22%3A%20true%2C%20%22collapsed%22%3A%20true%2C%20%22position%22%3A%20%22topright%22%7D%0A%20%20%20%20%20%20%20%20%20%20%20%20%29.addTo%28map_a429437bcb6c47fc9c4f186ad8b663dd%29%3B%0A%20%20%20%20%20%20%20%20%0A%3C/script%3E onload=\"this.contentDocument.open();this.contentDocument.write(    decodeURIComponent(this.getAttribute('data-html')));this.contentDocument.close();\" allowfullscreen webkitallowfullscreen mozallowfullscreen></iframe></div></div>"
      ],
      "text/plain": [
       "<folium.folium.Map at 0x7f7be66c66d0>"
      ]
     },
     "execution_count": 42,
     "metadata": {},
     "output_type": "execute_result"
    }
   ],
   "source": [
    "m.add_child(folium_helper.get_overlay(mask_rgb, mask_d, 'Water classification XGBOOST predicted mask', opacity=0.6))\n",
    "m.add_child(plugins.MousePosition())\n",
    "m.add_child(folium.LayerControl())"
   ]
  },
  {
   "cell_type": "code",
   "execution_count": null,
   "metadata": {},
   "outputs": [],
   "source": []
  }
 ],
 "metadata": {
  "kernelspec": {
   "display_name": "Python 3",
   "language": "python",
   "name": "python3"
  },
  "language_info": {
   "codemirror_mode": {
    "name": "ipython",
    "version": 3
   },
   "file_extension": ".py",
   "mimetype": "text/x-python",
   "name": "python",
   "nbconvert_exporter": "python",
   "pygments_lexer": "ipython3",
   "version": "3.9.0"
  }
 },
 "nbformat": 4,
 "nbformat_minor": 4
}
