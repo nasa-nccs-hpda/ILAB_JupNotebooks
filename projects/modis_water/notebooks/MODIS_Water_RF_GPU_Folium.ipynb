{
 "cells": [
  {
   "cell_type": "markdown",
   "metadata": {},
   "source": [
    "# Water Clasification Random Forest GPU\n",
    "\n",
    "Version: DEMO\n",
    "\n",
    "ILAB Team\n",
    "\n",
    "Kernel to use:\n",
    "- (ADAPT PRISM) `Python [conda env:ilab]`\n",
    "\n",
    "This is a demo notebook showcasing how the ILAB team uses the RAPIDS env capabilities to perform efficient GPU-based training of a Random Forest classifier algorithm. This notebook also demonstates how to use a raster as a test data-set for the trained model."
   ]
  },
  {
   "cell_type": "code",
   "execution_count": 1,
   "metadata": {},
   "outputs": [],
   "source": [
    "import csv\n",
    "import datetime\n",
    "import glob\n",
    "import joblib\n",
    "import numpy as np\n",
    "import os\n",
    "import pandas as pd\n",
    "from pathlib import Path\n",
    "import sys\n",
    "from pprint import pprint\n",
    "import time\n",
    "\n",
    "#GPU\n",
    "import cudf\n",
    "import cupy as cp\n",
    "from cuml.ensemble import RandomForestClassifier as cumlRF\n",
    "from cuml.model_selection import train_test_split\n",
    "# Scikit learn\n",
    "from sklearn.metrics import confusion_matrix, accuracy_score, roc_auc_score\n",
    "from sklearn.metrics import classification_report\n",
    "from sklearn.model_selection import RandomizedSearchCV, KFold\n",
    "from sklearn.inspection import permutation_importance\n",
    "\n",
    "# Visualization\n",
    "import seaborn as sns\n",
    "import matplotlib.pyplot as plt\n",
    "import warnings\n",
    "\n",
    "#GDAL Stuff\n",
    "from osgeo import gdalconst\n",
    "from osgeo import gdal\n",
    "\n",
    "plt.style.use('fivethirtyeight')\n",
    "warnings.filterwarnings('ignore')\n",
    "%matplotlib inline"
   ]
  },
  {
   "cell_type": "code",
   "execution_count": 2,
   "metadata": {},
   "outputs": [],
   "source": [
    "DATA_TYPE = cp.float32"
   ]
  },
  {
   "cell_type": "code",
   "execution_count": 3,
   "metadata": {},
   "outputs": [],
   "source": [
    "v_names = ['sur_refl_b01_1','sur_refl_b02_1','sur_refl_b03_1',\n",
    "           'sur_refl_b04_1','sur_refl_b05_1','sur_refl_b06_1',\n",
    "           'sur_refl_b07_1','ndvi','ndwi1','ndwi2']"
   ]
  },
  {
   "cell_type": "markdown",
   "metadata": {},
   "source": [
    "Add names from above to this list to drop them from training and testing.\n",
    "\n",
    "For example:\n",
    "\n",
    "```python\n",
    "columnsToDrop = ['sur_refl_b01_1', 'sur_refl_b07_1', 'ndwi1']\n",
    "```"
   ]
  },
  {
   "cell_type": "code",
   "execution_count": 4,
   "metadata": {},
   "outputs": [],
   "source": [
    "columnsToDrop = []"
   ]
  },
  {
   "cell_type": "markdown",
   "metadata": {},
   "source": [
    "This is a 1000 row training dataset which has columns for all the features listed in v_names. MODIS MOD09GA and MOD09GQ were the data sources."
   ]
  },
  {
   "cell_type": "code",
   "execution_count": 1,
   "metadata": {},
   "outputs": [],
   "source": [
    "dfPath = '../data/WaterClassificationPowell.parquet.gzip'"
   ]
  },
  {
   "cell_type": "code",
   "execution_count": 6,
   "metadata": {},
   "outputs": [],
   "source": [
    "outputRasterPath = '.'"
   ]
  },
  {
   "cell_type": "code",
   "execution_count": 7,
   "metadata": {},
   "outputs": [],
   "source": [
    "df = cudf.read_parquet(dfPath).astype(DATA_TYPE)\n",
    "df = df.drop(columns=columnsToDrop)\n",
    "X = df.drop(['water'], axis=1)\n",
    "y = df['water']\n",
    "X_train, X_test, y_train, y_test = train_test_split(X, y, test_size=0.2)"
   ]
  },
  {
   "cell_type": "code",
   "execution_count": 8,
   "metadata": {},
   "outputs": [
    {
     "data": {
      "text/plain": [
       "5"
      ]
     },
     "execution_count": 8,
     "metadata": {},
     "output_type": "execute_result"
    }
   ],
   "source": [
    "kf = KFold(n_splits=5)\n",
    "kf.get_n_splits(X_train)"
   ]
  },
  {
   "cell_type": "markdown",
   "metadata": {},
   "source": [
    "## Data \n",
    "- Read in to cuDF Dataframe\n",
    "- Drop unnecessary columns\n",
    "- Split into Xs and Ys"
   ]
  },
  {
   "cell_type": "markdown",
   "metadata": {},
   "source": [
    "## Load in data for use of visualizations \n",
    "(skip this if you just want to train model)"
   ]
  },
  {
   "cell_type": "code",
   "execution_count": 9,
   "metadata": {},
   "outputs": [
    {
     "name": "stdout",
     "output_type": "stream",
     "text": [
      "sur_refl_b01_1\n",
      "sur_refl_b02_1\n",
      "sur_refl_b03_1\n",
      "sur_refl_b04_1\n",
      "sur_refl_b05_1\n",
      "sur_refl_b06_1\n",
      "sur_refl_b07_1\n",
      "ndvi\n",
      "ndwi1\n",
      "ndwi2\n"
     ]
    }
   ],
   "source": [
    "_ = [print(column) for column in X_train.columns]"
   ]
  },
  {
   "cell_type": "code",
   "execution_count": 10,
   "metadata": {},
   "outputs": [
    {
     "data": {
      "text/html": [
       "<div>\n",
       "<style scoped>\n",
       "    .dataframe tbody tr th:only-of-type {\n",
       "        vertical-align: middle;\n",
       "    }\n",
       "\n",
       "    .dataframe tbody tr th {\n",
       "        vertical-align: top;\n",
       "    }\n",
       "\n",
       "    .dataframe thead th {\n",
       "        text-align: right;\n",
       "    }\n",
       "</style>\n",
       "<table border=\"1\" class=\"dataframe\">\n",
       "  <thead>\n",
       "    <tr style=\"text-align: right;\">\n",
       "      <th></th>\n",
       "      <th>count</th>\n",
       "      <th>mean</th>\n",
       "      <th>std</th>\n",
       "      <th>min</th>\n",
       "      <th>25%</th>\n",
       "      <th>50%</th>\n",
       "      <th>75%</th>\n",
       "      <th>max</th>\n",
       "    </tr>\n",
       "  </thead>\n",
       "  <tbody>\n",
       "    <tr>\n",
       "      <th>sur_refl_b01_1</th>\n",
       "      <td>800.0</td>\n",
       "      <td>1225.662500</td>\n",
       "      <td>1249.767504</td>\n",
       "      <td>8.000000</td>\n",
       "      <td>249.000000</td>\n",
       "      <td>938.500000</td>\n",
       "      <td>1922.250000</td>\n",
       "      <td>9222.000000</td>\n",
       "    </tr>\n",
       "    <tr>\n",
       "      <th>sur_refl_b02_1</th>\n",
       "      <td>800.0</td>\n",
       "      <td>1610.646250</td>\n",
       "      <td>1535.742704</td>\n",
       "      <td>1.000000</td>\n",
       "      <td>180.000000</td>\n",
       "      <td>1510.500000</td>\n",
       "      <td>2714.750000</td>\n",
       "      <td>8837.000000</td>\n",
       "    </tr>\n",
       "    <tr>\n",
       "      <th>sur_refl_b03_1</th>\n",
       "      <td>800.0</td>\n",
       "      <td>737.270000</td>\n",
       "      <td>967.492026</td>\n",
       "      <td>-100.000000</td>\n",
       "      <td>288.000000</td>\n",
       "      <td>568.000000</td>\n",
       "      <td>856.250000</td>\n",
       "      <td>8909.000000</td>\n",
       "    </tr>\n",
       "    <tr>\n",
       "      <th>sur_refl_b04_1</th>\n",
       "      <td>800.0</td>\n",
       "      <td>1031.913750</td>\n",
       "      <td>1029.449477</td>\n",
       "      <td>6.000000</td>\n",
       "      <td>416.500000</td>\n",
       "      <td>855.500000</td>\n",
       "      <td>1311.750000</td>\n",
       "      <td>9162.000000</td>\n",
       "    </tr>\n",
       "    <tr>\n",
       "      <th>sur_refl_b05_1</th>\n",
       "      <td>800.0</td>\n",
       "      <td>2024.247500</td>\n",
       "      <td>1468.764615</td>\n",
       "      <td>-92.000000</td>\n",
       "      <td>601.750000</td>\n",
       "      <td>1880.500000</td>\n",
       "      <td>3264.750000</td>\n",
       "      <td>6382.000000</td>\n",
       "    </tr>\n",
       "    <tr>\n",
       "      <th>sur_refl_b06_1</th>\n",
       "      <td>800.0</td>\n",
       "      <td>1996.148750</td>\n",
       "      <td>1546.946026</td>\n",
       "      <td>45.000000</td>\n",
       "      <td>535.250000</td>\n",
       "      <td>1642.000000</td>\n",
       "      <td>3344.500000</td>\n",
       "      <td>6610.000000</td>\n",
       "    </tr>\n",
       "    <tr>\n",
       "      <th>sur_refl_b07_1</th>\n",
       "      <td>800.0</td>\n",
       "      <td>1647.591250</td>\n",
       "      <td>1403.522200</td>\n",
       "      <td>1.000000</td>\n",
       "      <td>338.750000</td>\n",
       "      <td>1301.500000</td>\n",
       "      <td>2777.000000</td>\n",
       "      <td>6128.000000</td>\n",
       "    </tr>\n",
       "    <tr>\n",
       "      <th>ndvi</th>\n",
       "      <td>800.0</td>\n",
       "      <td>133.125968</td>\n",
       "      <td>2518.163587</td>\n",
       "      <td>-9493.670898</td>\n",
       "      <td>-1465.973450</td>\n",
       "      <td>919.849884</td>\n",
       "      <td>1758.238831</td>\n",
       "      <td>8587.457031</td>\n",
       "    </tr>\n",
       "    <tr>\n",
       "      <th>ndwi1</th>\n",
       "      <td>800.0</td>\n",
       "      <td>-2345.966019</td>\n",
       "      <td>3397.176334</td>\n",
       "      <td>-9829.059570</td>\n",
       "      <td>-4631.383911</td>\n",
       "      <td>-1587.882751</td>\n",
       "      <td>-801.280807</td>\n",
       "      <td>8823.803711</td>\n",
       "    </tr>\n",
       "    <tr>\n",
       "      <th>ndwi2</th>\n",
       "      <td>800.0</td>\n",
       "      <td>-965.415205</td>\n",
       "      <td>3801.862569</td>\n",
       "      <td>-9615.384766</td>\n",
       "      <td>-2856.181274</td>\n",
       "      <td>-716.628204</td>\n",
       "      <td>799.553116</td>\n",
       "      <td>9858.156250</td>\n",
       "    </tr>\n",
       "  </tbody>\n",
       "</table>\n",
       "</div>"
      ],
      "text/plain": [
       "                count         mean          std          min          25%  \\\n",
       "sur_refl_b01_1  800.0  1225.662500  1249.767504     8.000000   249.000000   \n",
       "sur_refl_b02_1  800.0  1610.646250  1535.742704     1.000000   180.000000   \n",
       "sur_refl_b03_1  800.0   737.270000   967.492026  -100.000000   288.000000   \n",
       "sur_refl_b04_1  800.0  1031.913750  1029.449477     6.000000   416.500000   \n",
       "sur_refl_b05_1  800.0  2024.247500  1468.764615   -92.000000   601.750000   \n",
       "sur_refl_b06_1  800.0  1996.148750  1546.946026    45.000000   535.250000   \n",
       "sur_refl_b07_1  800.0  1647.591250  1403.522200     1.000000   338.750000   \n",
       "ndvi            800.0   133.125968  2518.163587 -9493.670898 -1465.973450   \n",
       "ndwi1           800.0 -2345.966019  3397.176334 -9829.059570 -4631.383911   \n",
       "ndwi2           800.0  -965.415205  3801.862569 -9615.384766 -2856.181274   \n",
       "\n",
       "                        50%          75%          max  \n",
       "sur_refl_b01_1   938.500000  1922.250000  9222.000000  \n",
       "sur_refl_b02_1  1510.500000  2714.750000  8837.000000  \n",
       "sur_refl_b03_1   568.000000   856.250000  8909.000000  \n",
       "sur_refl_b04_1   855.500000  1311.750000  9162.000000  \n",
       "sur_refl_b05_1  1880.500000  3264.750000  6382.000000  \n",
       "sur_refl_b06_1  1642.000000  3344.500000  6610.000000  \n",
       "sur_refl_b07_1  1301.500000  2777.000000  6128.000000  \n",
       "ndvi             919.849884  1758.238831  8587.457031  \n",
       "ndwi1          -1587.882751  -801.280807  8823.803711  \n",
       "ndwi2           -716.628204   799.553116  9858.156250  "
      ]
     },
     "execution_count": 10,
     "metadata": {},
     "output_type": "execute_result"
    }
   ],
   "source": [
    "X_train.describe().T"
   ]
  },
  {
   "cell_type": "markdown",
   "metadata": {},
   "source": [
    "## Random Forest Model\n",
    "\n",
    "### Model Definition"
   ]
  },
  {
   "cell_type": "code",
   "execution_count": 11,
   "metadata": {},
   "outputs": [],
   "source": [
    "hyperparameters = {\n",
    " 'n_estimators': 200,\n",
    " 'max_depth': 16,\n",
    " 'max_features': 'auto',\n",
    " 'n_bins': 128,\n",
    " 'split_criterion': 0,\n",
    " 'min_samples_leaf': 1,\n",
    " 'min_samples_split': 2,\n",
    " 'min_impurity_decrease': 0.0,\n",
    " 'bootstrap': True,\n",
    " 'max_samples': 1.0,\n",
    " 'max_leaves': -1,\n",
    " 'accuracy_metric': None,\n",
    " 'max_batch_size': 4096,\n",
    " 'n_streams': 4,\n",
    " 'dtype': None,\n",
    " 'min_weight_fraction_leaf': None,\n",
    " 'n_jobs': None,\n",
    " 'max_leaf_nodes': None,\n",
    " 'min_impurity_split': None,\n",
    " 'oob_score': None,\n",
    " 'random_state': 42,\n",
    " 'warm_start': None,\n",
    " 'class_weight': None,\n",
    " 'criterion': None}"
   ]
  },
  {
   "cell_type": "code",
   "execution_count": 12,
   "metadata": {},
   "outputs": [],
   "source": [
    "classifier = cumlRF(**hyperparameters)"
   ]
  },
  {
   "cell_type": "markdown",
   "metadata": {},
   "source": [
    "# Training"
   ]
  },
  {
   "cell_type": "markdown",
   "metadata": {},
   "source": [
    "## K-Fold Cross Validation"
   ]
  },
  {
   "cell_type": "code",
   "execution_count": 13,
   "metadata": {},
   "outputs": [
    {
     "name": "stdout",
     "output_type": "stream",
     "text": [
      "Fitting model\n",
      "Time to fit model: 0.8318917751312256s\n",
      "Getting score\n",
      "Training accuracy score: 0.981249988079071\n",
      "Predicting for test set\n",
      "              precision    recall  f1-score   support\n",
      "\n",
      "         0.0       0.98      0.99      0.98        94\n",
      "         1.0       0.99      0.98      0.99       106\n",
      "\n",
      "    accuracy                           0.98       200\n",
      "   macro avg       0.98      0.99      0.98       200\n",
      "weighted avg       0.99      0.98      0.99       200\n",
      "\n",
      "Score: 0.981249988079071\n",
      "Fitting model\n",
      "Time to fit model: 0.7284426689147949s\n",
      "Getting score\n",
      "Training accuracy score: 0.987500011920929\n",
      "Predicting for test set\n",
      "              precision    recall  f1-score   support\n",
      "\n",
      "         0.0       0.98      0.99      0.98        94\n",
      "         1.0       0.99      0.98      0.99       106\n",
      "\n",
      "    accuracy                           0.98       200\n",
      "   macro avg       0.98      0.99      0.98       200\n",
      "weighted avg       0.99      0.98      0.99       200\n",
      "\n",
      "Score: 0.987500011920929\n",
      "Fitting model\n",
      "Time to fit model: 0.5163824558258057s\n",
      "Getting score\n",
      "Training accuracy score: 0.987500011920929\n",
      "Predicting for test set\n",
      "              precision    recall  f1-score   support\n",
      "\n",
      "         0.0       0.98      0.98      0.98        94\n",
      "         1.0       0.98      0.98      0.98       106\n",
      "\n",
      "    accuracy                           0.98       200\n",
      "   macro avg       0.98      0.98      0.98       200\n",
      "weighted avg       0.98      0.98      0.98       200\n",
      "\n",
      "Score: 0.987500011920929\n",
      "Fitting model\n",
      "Time to fit model: 0.7081663608551025s\n",
      "Getting score\n",
      "Predicting for test set\n",
      "              precision    recall  f1-score   support\n",
      "\n",
      "         0.0       0.98      0.99      0.98        94\n",
      "         1.0       0.99      0.98      0.99       106\n",
      "\n",
      "    accuracy                           0.98       200\n",
      "   macro avg       0.98      0.99      0.98       200\n",
      "weighted avg       0.99      0.98      0.99       200\n",
      "\n",
      "Score: 0.981249988079071\n",
      "Fitting model\n",
      "Time to fit model: 0.7211365699768066s\n",
      "Getting score\n",
      "Training accuracy score: 0.987500011920929\n",
      "Predicting for test set\n",
      "              precision    recall  f1-score   support\n",
      "\n",
      "         0.0       0.98      0.99      0.98        94\n",
      "         1.0       0.99      0.98      0.99       106\n",
      "\n",
      "    accuracy                           0.98       200\n",
      "   macro avg       0.98      0.99      0.98       200\n",
      "weighted avg       0.99      0.98      0.99       200\n",
      "\n",
      "Score: 0.987500011920929\n",
      "CPU times: user 11.7 s, sys: 2.5 s, total: 14.2 s\n",
      "Wall time: 4.02 s\n"
     ]
    }
   ],
   "source": [
    "%%time\n",
    "bestModel = None\n",
    "bestModelScore = 0\n",
    "scores = []\n",
    "for trainIdx, testIdx in kf.split(X_train):\n",
    "    X_train_valid, X_test_valid = X_train.iloc[trainIdx], X_train.iloc[testIdx]\n",
    "    y_train_valid, y_test_valid = y_train.iloc[trainIdx], y_train.iloc[testIdx]\n",
    "    print('Fitting model')\n",
    "    st = time.time()\n",
    "    classifier.fit(X_train_valid, y_train_valid)\n",
    "    et = time.time()\n",
    "    print('Time to fit model: {}s'.format(et-st))\n",
    "    print('Getting score')\n",
    "    score = classifier.score(X_test_valid, y_test_valid)\n",
    "    if score>=bestModelScore:\n",
    "        bestModelScore = score\n",
    "        print('Training accuracy score: {}'.format(score))\n",
    "        bestModel = classifier\n",
    "    print('Predicting for test set')\n",
    "    test_predictions = classifier.predict(X_test)\n",
    "    print(classification_report(y_test.to_array(), test_predictions.to_array()))\n",
    "    print('Score: {}'.format(score))\n",
    "    scores.append(score)\n",
    "    del test_predictions, score"
   ]
  },
  {
   "cell_type": "code",
   "execution_count": 14,
   "metadata": {},
   "outputs": [
    {
     "name": "stdout",
     "output_type": "stream",
     "text": [
      "Average accuracy score: 0.9850000023841858\n",
      "Best accuracy score: 0.987500011920929\n"
     ]
    }
   ],
   "source": [
    "scoreAvg = np.asarray(scores).mean()\n",
    "print('Average accuracy score: {}'.format(scoreAvg))\n",
    "print('Best accuracy score: {}'.format(bestModelScore))"
   ]
  },
  {
   "cell_type": "markdown",
   "metadata": {},
   "source": [
    "## Regular fitting"
   ]
  },
  {
   "cell_type": "code",
   "execution_count": 15,
   "metadata": {},
   "outputs": [],
   "source": [
    "classifier = cumlRF(**hyperparameters)"
   ]
  },
  {
   "cell_type": "code",
   "execution_count": 16,
   "metadata": {},
   "outputs": [
    {
     "name": "stdout",
     "output_type": "stream",
     "text": [
      "CPU times: user 459 ms, sys: 451 ms, total: 910 ms\n",
      "Wall time: 733 ms\n"
     ]
    },
    {
     "data": {
      "text/plain": [
       "RandomForestClassifier()"
      ]
     },
     "execution_count": 16,
     "metadata": {},
     "output_type": "execute_result"
    }
   ],
   "source": [
    "%%time\n",
    "\n",
    "classifier.fit(X_train, y_train)"
   ]
  },
  {
   "cell_type": "markdown",
   "metadata": {},
   "source": [
    "### Get model metrics"
   ]
  },
  {
   "cell_type": "code",
   "execution_count": 17,
   "metadata": {},
   "outputs": [],
   "source": [
    "classifier = bestModel"
   ]
  },
  {
   "cell_type": "code",
   "execution_count": 18,
   "metadata": {},
   "outputs": [
    {
     "data": {
      "text/plain": [
       "0.985"
      ]
     },
     "execution_count": 18,
     "metadata": {},
     "output_type": "execute_result"
    }
   ],
   "source": [
    "score = classifier.score(X_test, y_test)\n",
    "score = round(score, 3)\n",
    "score"
   ]
  },
  {
   "cell_type": "code",
   "execution_count": 19,
   "metadata": {},
   "outputs": [],
   "source": [
    "train_predictions = classifier.predict(X_train)\n",
    "test_predictions = classifier.predict(X_test)\n",
    "prediction_probs = classifier.predict_proba(X_test)"
   ]
  },
  {
   "cell_type": "code",
   "execution_count": 20,
   "metadata": {},
   "outputs": [],
   "source": [
    "test_predictions = test_predictions.astype(cp.int16)\n",
    "y_test_int = y_test.astype(cp.int16)"
   ]
  },
  {
   "cell_type": "code",
   "execution_count": 21,
   "metadata": {},
   "outputs": [
    {
     "name": "stdout",
     "output_type": "stream",
     "text": [
      "Train Performance\n",
      "-------------------------------------------------------\n",
      "              precision    recall  f1-score   support\n",
      "\n",
      "         0.0       1.00      1.00      1.00       406\n",
      "         1.0       1.00      1.00      1.00       394\n",
      "\n",
      "    accuracy                           1.00       800\n",
      "   macro avg       1.00      1.00      1.00       800\n",
      "weighted avg       1.00      1.00      1.00       800\n",
      "\n",
      "Test Performance\n",
      "-------------------------------------------------------\n",
      "              precision    recall  f1-score   support\n",
      "\n",
      "         0.0       0.98      0.99      0.98        94\n",
      "         1.0       0.99      0.98      0.99       106\n",
      "\n",
      "    accuracy                           0.98       200\n",
      "   macro avg       0.98      0.99      0.98       200\n",
      "weighted avg       0.99      0.98      0.99       200\n",
      "\n",
      "Test Recall\n",
      "-------------------------------------------------------\n",
      "0.9893617021276596\n",
      "Confusion Matrix\n",
      "-------------------------------------------------------\n",
      "[[ 93   1]\n",
      " [  2 104]]\n"
     ]
    }
   ],
   "source": [
    "print('Train Performance')\n",
    "print('-------------------------------------------------------')\n",
    "print(classification_report(y_train.to_array(), train_predictions.to_array()))\n",
    "print('Test Performance')\n",
    "print('-------------------------------------------------------')\n",
    "print(classification_report(y_test.to_array(), test_predictions.to_array()))\n",
    "cm = confusion_matrix(y_test_int.to_array(), test_predictions.to_array())\n",
    "recall = (cm[0][0] / (cm[0][0] + cm[0][1]))\n",
    "print('Test Recall')\n",
    "print('-------------------------------------------------------')\n",
    "print(recall)\n",
    "print('Confusion Matrix')\n",
    "print('-------------------------------------------------------')\n",
    "print(cm)"
   ]
  },
  {
   "cell_type": "code",
   "execution_count": 22,
   "metadata": {},
   "outputs": [
    {
     "name": "stdout",
     "output_type": "stream",
     "text": [
      "CPU times: user 37.7 s, sys: 107 ms, total: 37.8 s\n",
      "Wall time: 1.32 s\n"
     ]
    }
   ],
   "source": [
    "%%time\n",
    "permutation_importance_results = permutation_importance(classifier,\n",
    "                                                        X=X_test,\n",
    "                                                        y=y_test,\n",
    "                                                        n_repeats=10,\n",
    "                                                        random_state=42)"
   ]
  },
  {
   "cell_type": "code",
   "execution_count": 23,
   "metadata": {},
   "outputs": [
    {
     "data": {
      "text/plain": [
       "Text(0.5, 0, 'Permutation Importance')"
      ]
     },
     "execution_count": 23,
     "metadata": {},
     "output_type": "execute_result"
    },
    {
     "data": {
      "image/png": "[encoded data removed]",
      "text/plain": [
       "<Figure size 576x576 with 1 Axes>"
      ]
     },
     "metadata": {
      "needs_background": "light"
     },
     "output_type": "display_data"
    }
   ],
   "source": [
    "sorted_idx = permutation_importance_results.importances_mean.argsort()\n",
    "plt.figure(figsize=(8, 8))\n",
    "plt.barh(X_test.columns[sorted_idx], permutation_importance_results.importances_mean[sorted_idx])\n",
    "plt.xlabel(\"Permutation Importance\")"
   ]
  },
  {
   "cell_type": "code",
   "execution_count": 24,
   "metadata": {},
   "outputs": [],
   "source": [
    "del X_train, X_test, y_train, y_test, test_predictions, train_predictions, prediction_probs, y_test_int"
   ]
  },
  {
   "cell_type": "markdown",
   "metadata": {},
   "source": [
    "## Save the model for future use"
   ]
  },
  {
   "cell_type": "code",
   "execution_count": 25,
   "metadata": {},
   "outputs": [
    {
     "name": "stdout",
     "output_type": "stream",
     "text": [
      "Saving model to: ./water_classifier_rf_gpu.sav\n",
      "RandomForestClassifier()\n"
     ]
    },
    {
     "data": {
      "text/plain": [
       "['./water_classifier_rf_gpu.sav']"
      ]
     },
     "execution_count": 25,
     "metadata": {},
     "output_type": "execute_result"
    }
   ],
   "source": [
    "model_save_path = './water_classifier_rf_gpu.sav'\n",
    "print('Saving model to: {}'.format(model_save_path))\n",
    "print(classifier)\n",
    "joblib.dump(classifier, model_save_path, compress=3)"
   ]
  },
  {
   "cell_type": "markdown",
   "metadata": {},
   "source": [
    "# Testing: Raster testing"
   ]
  },
  {
   "cell_type": "markdown",
   "metadata": {},
   "source": [
    "### Read in data \n",
    "\n",
    "These are modified MOD09GA and MOD09GQ products for the 2001 julian day 155. They were modified to be clipped to the Lake Powell region."
   ]
  },
  {
   "cell_type": "code",
   "execution_count": 26,
   "metadata": {},
   "outputs": [],
   "source": [
    "fileList = sorted([file for file in glob.glob('../data/IL.*.Powell.*.tif') if 'sur_refl' in file])"
   ]
  },
  {
   "cell_type": "code",
   "execution_count": 27,
   "metadata": {},
   "outputs": [],
   "source": [
    "def readRastersToArray(fileList):\n",
    "    rasterProjection = None\n",
    "    newshp = (1300*1300, 10)\n",
    "    img = np.empty(newshp, dtype=np.int16)\n",
    "    for i, fileName in enumerate(fileList):\n",
    "        ds = gdal.Open(fileName)\n",
    "        img[:, i] = ds.GetRasterBand(1).ReadAsArray().astype(np.int16).ravel()\n",
    "        if i == 0:\n",
    "            rasterProjection = ds.GetProjection()\n",
    "        ds = None\n",
    "    img[:, len(fileList)] = ((img[:, 1] - img[:, 0]) / (img[:, 1] + img[:, 0])) * 10000\n",
    "    img[:, len(fileList)+1] = ((img[:, 1] - img[:, 5]) / (img[:, 1] + img[:, 5])) * 10000\n",
    "    img[:, len(fileList)+2] = ((img[:, 1] - img[:, 6]) / (img[:, 1] + img[:, 6])) * 10000\n",
    "    return img, rasterProjection"
   ]
  },
  {
   "cell_type": "code",
   "execution_count": 28,
   "metadata": {},
   "outputs": [
    {
     "name": "stdout",
     "output_type": "stream",
     "text": [
      "Raster as ndarray\n",
      "[[ 1547  2461   857 ...  2280  -518   510]\n",
      " [ 1474  2377   857 ...  2344  -691   337]\n",
      " [ 1474  2377   846 ...  2344  -472   623]\n",
      " ...\n",
      " [ 2358  2979  1028 ...  1163 -1727 -1292]\n",
      " [ 2425  3069  1117 ...  1172 -1721 -1216]\n",
      " [ 2402  3038  1117 ...  1169 -1770 -1266]]\n",
      "33.8 MB size\n",
      "CPU times: user 420 ms, sys: 48.1 ms, total: 468 ms\n",
      "Wall time: 727 ms\n"
     ]
    }
   ],
   "source": [
    "%%time\n",
    "im, rasterProjection = readRastersToArray(fileList)\n",
    "print('Raster as ndarray')\n",
    "print(im)\n",
    "print('{} MB size'.format((im.size * im.itemsize) / 1000000))"
   ]
  },
  {
   "cell_type": "markdown",
   "metadata": {},
   "source": [
    "### Load in the model"
   ]
  },
  {
   "cell_type": "code",
   "execution_count": 29,
   "metadata": {},
   "outputs": [],
   "source": [
    "def predictRaster(img_chunk, colsToDrop=None):\n",
    "    \"\"\"\n",
    "    Function given a raster in the form of a nxn matrix, will\n",
    "    convert the matrix to a GPU-bound data frame then perform \n",
    "    predictions given the loaded model.\n",
    "    \n",
    "    Return the prediction matrix, the prediction probabilities\n",
    "    for each and the dataframe converted to host.\n",
    "    \"\"\"\n",
    "    print('Converting host array to GPU-based dataframe')\n",
    "    df = cudf.DataFrame(cp.asarray(img_chunk), columns=v_names, dtype=cp.float32)\n",
    "    df = df.drop(columns=columnsToDrop)\n",
    "    print('Making predictions from raster')\n",
    "    predictions = classifier.predict(df)\n",
    "    predictionsProbs = classifier.predict_proba(df)\n",
    "    print('Converting GPU-bound predictions to host')\n",
    "    predictionsPandas = predictions.to_pandas().astype(np.int16)\n",
    "    predictionsProbaPandas = predictionsProbs.to_pandas().astype(np.float32)\n",
    "    predictions = None\n",
    "    predictionsProbs = None\n",
    "    return predictionsPandas, predictionsProbaPandas, df.to_pandas()"
   ]
  },
  {
   "cell_type": "code",
   "execution_count": 30,
   "metadata": {},
   "outputs": [
    {
     "name": "stdout",
     "output_type": "stream",
     "text": [
      "Converting host array to GPU-based dataframe\n",
      "Making predictions from raster\n",
      "Converting GPU-bound predictions to host\n",
      "CPU times: user 1.26 s, sys: 158 ms, total: 1.42 s\n",
      "Wall time: 330 ms\n"
     ]
    }
   ],
   "source": [
    "%%time\n",
    "predictedRaster, predictedProbaRaster, df = predictRaster(im)"
   ]
  },
  {
   "cell_type": "markdown",
   "metadata": {},
   "source": [
    "### Description of the predicted probability for each pixel in the raster (no bad-data vals masked yet)"
   ]
  },
  {
   "cell_type": "code",
   "execution_count": 31,
   "metadata": {},
   "outputs": [],
   "source": [
    "predictedProbaRaster = predictedProbaRaster.values"
   ]
  },
  {
   "cell_type": "code",
   "execution_count": 32,
   "metadata": {},
   "outputs": [],
   "source": [
    "shp = (1300, 1300)\n",
    "left = list()\n",
    "right = list()\n",
    "for i, subarr in enumerate(predictedProbaRaster):\n",
    "    left.append(subarr[0])\n",
    "    right.append(subarr[1])\n",
    "leftArr = np.asarray(left)\n",
    "rightArr = np.asarray(right)\n",
    "probaLand = leftArr.reshape(shp)\n",
    "probaWater = rightArr.reshape(shp)"
   ]
  },
  {
   "cell_type": "markdown",
   "metadata": {},
   "source": [
    "#### Reshape the unravelled matrix back to the 4800x4800 raster shape"
   ]
  },
  {
   "cell_type": "code",
   "execution_count": 33,
   "metadata": {},
   "outputs": [
    {
     "data": {
      "text/plain": [
       "(1300, 1300)"
      ]
     },
     "execution_count": 33,
     "metadata": {},
     "output_type": "execute_result"
    }
   ],
   "source": [
    "shp = (1300, 1300)\n",
    "matrix = np.asarray(predictedRaster)\n",
    "reshp = matrix.reshape(shp)\n",
    "reshp.shape"
   ]
  },
  {
   "cell_type": "markdown",
   "metadata": {},
   "source": [
    "Add QA mask to prediction"
   ]
  },
  {
   "cell_type": "code",
   "execution_count": 35,
   "metadata": {},
   "outputs": [
    {
     "data": {
      "text/plain": [
       "array([[1, 1, 1, ..., 1, 1, 1],\n",
       "       [1, 1, 1, ..., 1, 1, 1],\n",
       "       [1, 1, 1, ..., 1, 1, 1],\n",
       "       ...,\n",
       "       [0, 0, 0, ..., 0, 0, 0],\n",
       "       [0, 0, 0, ..., 0, 0, 0],\n",
       "       [0, 0, 0, ..., 0, 0, 0]], dtype=int16)"
      ]
     },
     "execution_count": 35,
     "metadata": {},
     "output_type": "execute_result"
    }
   ],
   "source": [
    "qa = [file for file in glob.glob('../data/*.tif') if 'qa' in file][0]\n",
    "ds = gdal.Open(qa)\n",
    "qaMask = ds.GetRasterBand(1).ReadAsArray()\n",
    "output = np.where(qaMask == 0, reshp, -9999)\n",
    "qaMask"
   ]
  },
  {
   "cell_type": "code",
   "execution_count": 36,
   "metadata": {},
   "outputs": [
    {
     "name": "stdout",
     "output_type": "stream",
     "text": [
      "Predicted\n",
      " No-data occuraces: 61568\n",
      " Land occurances: 1616633\n",
      " Water occurances: 11799\n"
     ]
    }
   ],
   "source": [
    "countNoData = np.count_nonzero(output == -9999)\n",
    "countLand = np.count_nonzero(output == 0)\n",
    "countWater = np.count_nonzero(output == 1)\n",
    "print('Predicted\\n No-data occuraces: {}\\n Land occurances: {}\\n Water occurances: {}'.format(countNoData, countLand, countWater))"
   ]
  },
  {
   "cell_type": "markdown",
   "metadata": {},
   "source": [
    "## Output predicted raster to GeoTiff"
   ]
  },
  {
   "cell_type": "code",
   "execution_count": 37,
   "metadata": {},
   "outputs": [],
   "source": [
    "geoTransform = (-9961223.407, 231.65635, 0.0, 4285642.633667, 0.0, -231.65635)"
   ]
  },
  {
   "cell_type": "code",
   "execution_count": 38,
   "metadata": {},
   "outputs": [],
   "source": [
    "predictedPath = os.path.join(outputRasterPath, 'PowellPredictedWaterMask.tif')\n",
    "\n",
    "driver = gdal.GetDriverByName('GTiff')\n",
    "outDs = driver.Create(predictedPath, 1300, 1300, 1, gdal.GDT_Int16, options=['COMPRESS=LZW'])\n",
    "outDs.SetGeoTransform(geoTransform)\n",
    "outDs.SetProjection(rasterProjection)\n",
    "outBand = outDs.GetRasterBand(1)\n",
    "outBand.WriteArray(output)\n",
    "outBand.SetNoDataValue(-9999)\n",
    "outDs.FlushCache()\n",
    "outDs = None\n",
    "outBand = None\n",
    "driver = None"
   ]
  },
  {
   "cell_type": "markdown",
   "metadata": {},
   "source": [
    "## View predictions with Folium"
   ]
  },
  {
   "cell_type": "code",
   "execution_count": 40,
   "metadata": {},
   "outputs": [],
   "source": [
    "import folium\n",
    "from folium import plugins\n",
    "\n",
    "sys.path.append('../scripts')\n",
    "import folium_helper"
   ]
  },
  {
   "cell_type": "code",
   "execution_count": 41,
   "metadata": {},
   "outputs": [
    {
     "name": "stdout",
     "output_type": "stream",
     "text": [
      "Transform: | 491.82, 0.00,-12749861.52|\n",
      "| 0.00,-491.82, 4656230.30|\n",
      "| 0.00, 0.00, 1.00|\n",
      "Width: 1670 Height: 770\n"
     ]
    }
   ],
   "source": [
    "mask_3857 = folium_helper.reproject_to_3857(predictedPath)\n",
    "mask_d = folium_helper.get_bounds(mask_3857)\n",
    "mask_b1 = folium_helper.open_and_get_band(mask_3857, 1)\n",
    "folium_helper.cleanup(mask_3857)\n",
    "mask_b1 = np.where(mask_b1 == -9999, 0, mask_b1)\n",
    "zeros = np.zeros_like(mask_b1)\n",
    "mask_rgb = np.dstack((mask_b1, zeros, zeros))"
   ]
  },
  {
   "cell_type": "code",
   "execution_count": 42,
   "metadata": {},
   "outputs": [],
   "source": [
    "m = folium.Map(location=[mask_d['center'][1], mask_d['center'][0]],\n",
    "                   tiles='https://mt1.google.com/vt/lyrs=s&x={x}&y={y}&z={z}', zoom_start = 6, attr='Google')"
   ]
  },
  {
   "cell_type": "code",
   "execution_count": 43,
   "metadata": {},
   "outputs": [
    {
     "data": {
      "text/html": [
       "<div style=\"width:100%;\"><div style=\"position:relative;width:100%;height:0;padding-bottom:60%;\"><span style=\"color:#565656\">Make this Notebook Trusted to load map: File -> Trust Notebook</span><iframe src=\"about:blank\" style=\"position:absolute;width:100%;height:100%;left:0;top:0;border:none !important;\" data-html=%3C%21DOCTYPE%20html%3E%0A%3Chead%3E%20%20%20%20%0A%20%20%20%20%3Cmeta%20http-equiv%3D%22content-type%22%20content%3D%22text/html%3B%20charset%3DUTF-8%22%20/%3E%0A%20%20%20%20%0A%20%20%20%20%20%20%20%20%3Cscript%3E%0A%20%20%20%20%20%20%20%20%20%20%20%20L_NO_TOUCH%20%3D%20false%3B%0A%20%20%20%20%20%20%20%20%20%20%20%20L_DISABLE_3D%20%3D%20false%3B%0A%20%20%20%20%20%20%20%20%3C/script%3E%0A%20%20%20%20%0A%20%20%20%20%3Cstyle%3Ehtml%2C%20body%20%7Bwidth%3A%20100%25%3Bheight%3A%20100%25%3Bmargin%3A%200%3Bpadding%3A%200%3B%7D%3C/style%3E%0A%20%20%20%20%3Cstyle%3E%23map%20%7Bposition%3Aabsolute%3Btop%3A0%3Bbottom%3A0%3Bright%3A0%3Bleft%3A0%3B%7D%3C/style%3E%0A%20%20%20%20%3Cscript%20src%3D%22https%3A//cdn.jsdelivr.net/npm/leaflet%401.6.0/dist/leaflet.js%22%3E%3C/script%3E%0A%20%20%20%20%3Cscript%20src%3D%22https%3A//code.jquery.com/jquery-1.12.4.min.js%22%3E%3C/script%3E%0A%20%20%20%20%3Cscript%20src%3D%22https%3A//maxcdn.bootstrapcdn.com/bootstrap/3.2.0/js/bootstrap.min.js%22%3E%3C/script%3E%0A%20%20%20%20%3Cscript%20src%3D%22https%3A//cdnjs.cloudflare.com/ajax/libs/Leaflet.awesome-markers/2.0.2/leaflet.awesome-markers.js%22%3E%3C/script%3E%0A%20%20%20%20%3Clink%20rel%3D%22stylesheet%22%20href%3D%22https%3A//cdn.jsdelivr.net/npm/leaflet%401.6.0/dist/leaflet.css%22/%3E%0A%20%20%20%20%3Clink%20rel%3D%22stylesheet%22%20href%3D%22https%3A//maxcdn.bootstrapcdn.com/bootstrap/3.2.0/css/bootstrap.min.css%22/%3E%0A%20%20%20%20%3Clink%20rel%3D%22stylesheet%22%20href%3D%22https%3A//maxcdn.bootstrapcdn.com/bootstrap/3.2.0/css/bootstrap-theme.min.css%22/%3E%0A%20%20%20%20%3Clink%20rel%3D%22stylesheet%22%20href%3D%22https%3A//maxcdn.bootstrapcdn.com/font-awesome/4.6.3/css/font-awesome.min.css%22/%3E%0A%20%20%20%20%3Clink%20rel%3D%22stylesheet%22%20href%3D%22https%3A//cdnjs.cloudflare.com/ajax/libs/Leaflet.awesome-markers/2.0.2/leaflet.awesome-markers.css%22/%3E%0A%20%20%20%20%3Clink%20rel%3D%22stylesheet%22%20href%3D%22https%3A//cdn.jsdelivr.net/gh/python-visualization/folium/folium/templates/leaflet.awesome.rotate.min.css%22/%3E%0A%20%20%20%20%0A%20%20%20%20%20%20%20%20%20%20%20%20%3Cmeta%20name%3D%22viewport%22%20content%3D%22width%3Ddevice-width%2C%0A%20%20%20%20%20%20%20%20%20%20%20%20%20%20%20%20initial-scale%3D1.0%2C%20maximum-scale%3D1.0%2C%20user-scalable%3Dno%22%20/%3E%0A%20%20%20%20%20%20%20%20%20%20%20%20%3Cstyle%3E%0A%20%20%20%20%20%20%20%20%20%20%20%20%20%20%20%20%23map_d77bfb5d7d2940cc8270ded06fb9aa54%20%7B%0A%20%20%20%20%20%20%20%20%20%20%20%20%20%20%20%20%20%20%20%20position%3A%20relative%3B%0A%20%20%20%20%20%20%20%20%20%20%20%20%20%20%20%20%20%20%20%20width%3A%20100.0%25%3B%0A%20%20%20%20%20%20%20%20%20%20%20%20%20%20%20%20%20%20%20%20height%3A%20100.0%25%3B%0A%20%20%20%20%20%20%20%20%20%20%20%20%20%20%20%20%20%20%20%20left%3A%200.0%25%3B%0A%20%20%20%20%20%20%20%20%20%20%20%20%20%20%20%20%20%20%20%20top%3A%200.0%25%3B%0A%20%20%20%20%20%20%20%20%20%20%20%20%20%20%20%20%7D%0A%20%20%20%20%20%20%20%20%20%20%20%20%3C/style%3E%0A%20%20%20%20%20%20%20%20%0A%20%20%20%20%0A%20%20%20%20%20%20%20%20%20%20%20%20%20%20%20%20%3Cstyle%3E%0A%20%20%20%20%20%20%20%20%20%20%20%20%20%20%20%20%20%20%20%20.leaflet-image-layer%20%7B%0A%20%20%20%20%20%20%20%20%20%20%20%20%20%20%20%20%20%20%20%20%20%20%20%20/%2A%20old%20android/safari%2A/%0A%20%20%20%20%20%20%20%20%20%20%20%20%20%20%20%20%20%20%20%20%20%20%20%20image-rendering%3A%20-webkit-optimize-contrast%3B%0A%20%20%20%20%20%20%20%20%20%20%20%20%20%20%20%20%20%20%20%20%20%20%20%20image-rendering%3A%20crisp-edges%3B%20/%2A%20safari%20%2A/%0A%20%20%20%20%20%20%20%20%20%20%20%20%20%20%20%20%20%20%20%20%20%20%20%20image-rendering%3A%20pixelated%3B%20/%2A%20chrome%20%2A/%0A%20%20%20%20%20%20%20%20%20%20%20%20%20%20%20%20%20%20%20%20%20%20%20%20image-rendering%3A%20-moz-crisp-edges%3B%20/%2A%20firefox%20%2A/%0A%20%20%20%20%20%20%20%20%20%20%20%20%20%20%20%20%20%20%20%20%20%20%20%20image-rendering%3A%20-o-crisp-edges%3B%20/%2A%20opera%20%2A/%0A%20%20%20%20%20%20%20%20%20%20%20%20%20%20%20%20%20%20%20%20%20%20%20%20-ms-interpolation-mode%3A%20nearest-neighbor%3B%20/%2A%20ie%20%2A/%0A%20%20%20%20%20%20%20%20%20%20%20%20%20%20%20%20%20%20%20%20%7D%0A%20%20%20%20%20%20%20%20%20%20%20%20%20%20%20%20%3C/style%3E%0A%20%20%20%20%20%20%20%20%20%20%20%20%0A%20%20%20%20%3Cscript%20src%3D%22https%3A//cdn.jsdelivr.net/gh/ardhi/Leaflet.MousePosition/src/L.Control.MousePosition.min.js%22%3E%3C/script%3E%0A%20%20%20%20%3Clink%20rel%3D%22stylesheet%22%20href%3D%22https%3A//cdn.jsdelivr.net/gh/ardhi/Leaflet.MousePosition/src/L.Control.MousePosition.min.css%22/%3E%0A%3C/head%3E%0A%3Cbody%3E%20%20%20%20%0A%20%20%20%20%0A%20%20%20%20%20%20%20%20%20%20%20%20%3Cdiv%20class%3D%22folium-map%22%20id%3D%22map_d77bfb5d7d2940cc8270ded06fb9aa54%22%20%3E%3C/div%3E%0A%20%20%20%20%20%20%20%20%0A%3C/body%3E%0A%3Cscript%3E%20%20%20%20%0A%20%20%20%20%0A%20%20%20%20%20%20%20%20%20%20%20%20var%20map_d77bfb5d7d2940cc8270ded06fb9aa54%20%3D%20L.map%28%0A%20%20%20%20%20%20%20%20%20%20%20%20%20%20%20%20%22map_d77bfb5d7d2940cc8270ded06fb9aa54%22%2C%0A%20%20%20%20%20%20%20%20%20%20%20%20%20%20%20%20%7B%0A%20%20%20%20%20%20%20%20%20%20%20%20%20%20%20%20%20%20%20%20center%3A%20%5B37.1868364898923%2C%20-110.84485924937243%5D%2C%0A%20%20%20%20%20%20%20%20%20%20%20%20%20%20%20%20%20%20%20%20crs%3A%20L.CRS.EPSG3857%2C%0A%20%20%20%20%20%20%20%20%20%20%20%20%20%20%20%20%20%20%20%20zoom%3A%206%2C%0A%20%20%20%20%20%20%20%20%20%20%20%20%20%20%20%20%20%20%20%20zoomControl%3A%20true%2C%0A%20%20%20%20%20%20%20%20%20%20%20%20%20%20%20%20%20%20%20%20preferCanvas%3A%20false%2C%0A%20%20%20%20%20%20%20%20%20%20%20%20%20%20%20%20%7D%0A%20%20%20%20%20%20%20%20%20%20%20%20%29%3B%0A%0A%20%20%20%20%20%20%20%20%20%20%20%20%0A%0A%20%20%20%20%20%20%20%20%0A%20%20%20%20%0A%20%20%20%20%20%20%20%20%20%20%20%20var%20tile_layer_5ccf1efe29d942ba996ae1ddfbd3de22%20%3D%20L.tileLayer%28%0A%20%20%20%20%20%20%20%20%20%20%20%20%20%20%20%20%22https%3A//mt1.google.com/vt/lyrs%3Ds%5Cu0026x%3D%7Bx%7D%5Cu0026y%3D%7By%7D%5Cu0026z%3D%7Bz%7D%22%2C%0A%20%20%20%20%20%20%20%20%20%20%20%20%20%20%20%20%7B%22attribution%22%3A%20%22Google%22%2C%20%22detectRetina%22%3A%20false%2C%20%22maxNativeZoom%22%3A%2018%2C%20%22maxZoom%22%3A%2018%2C%20%22minZoom%22%3A%200%2C%20%22noWrap%22%3A%20false%2C%20%22opacity%22%3A%201%2C%20%22subdomains%22%3A%20%22abc%22%2C%20%22tms%22%3A%20false%7D%0A%20%20%20%20%20%20%20%20%20%20%20%20%29.addTo%28map_d77bfb5d7d2940cc8270ded06fb9aa54%29%3B%0A%20%20%20%20%20%20%20%20%0A%20%20%20%20%0A%20%20%20%20%20%20%20%20%20%20%20%20var%20image_overlay_82497d4b077449fea97a4fb64de24a5f%20%3D%20L.imageOverlay%28%0A%20%20%20%20%20%20%20%20%20%20%20%20%20%20%20%20%22data%3Aimage/png%3Bbase64%2CiVBORw0KGgoAAAANSUhEUgAABoYAAAMCCAYAAABEBXSBAAAk8ElEQVR42uzd0ZbauBJAUf//T9e89mRhLAlJlkr7Ya%2BVmwYMZTrk%2BnRlruu6AgCAnOKG2QAAAMCxDAEA4JQoZC4AAAAgDBkCAIAoBAAAAAhDAABkiUO7PGfnDgAAAIQhAAAao5B5AAAAAMIQAEDyKGQDBwAAABCGAABYPmyZAwAAAAhDAAAAAAAACEMAAAAAAAAIQwAAAAAAAAhDAAAAAAAAwhAAAAAAAADCEAAAAAAAAMIQAAAAAAAAwhAAAAAAAADCEAAAAAAAAMIQAAAAAAAAwhAAAAAAAADCEADAZ2EGAAAAAIYAAAAAAAAgDAEAAAAAACAMAQAAAAAAIAwBAAAAAAAgDAEAAAAAACAMAQAAAAAAIAwBAAAAAAAgDAEAAAAAACAMAQAAAAAAIAwBAAAAAAAIQwAAAAAAAAhDAAAAAAAACEMAAAAAAAAIQwAAAAAAAAhDAAAAAAAACEMAAAAAAAAIQwAAAAAAAAhDAAAAAAAACEMAAAAAAAAIQwAAAAAAAMIQAAAAAAAAwhAAAAAAAADCEAAAAAAAAMIQAAAAAAAAwhAAAAAAAADCEAAAAAAAAMIQAAAAAAAAwhAAAAAAAADCEAAAAAAAgDAEAAAAAACAMAQAAAAAAIAwBAAAAAAAgDAEAAAAAACAMAQAAAAAAIAwBAAAAAAAgDAEAAAAAACAMAQAAAAAAIAwBAAAAAAAgDAEAAAAAAAgDAEAAAAAACAMAQAAAAAAIAwBAAAAAAAgDAEAAAAAACAMAQAAAAAAIAwBAAAAAAAgDAEAr4g/zAMAAABAGAIADglD4hAAAACAMAQAiEIAAAAACEMAQJYoJAwBAAAACEMAwEFhSBwCAAAAEIYAgEPikJkAAAAACEMAwCEbQ%2BYCAAAAIAwBAMIQAAAAAMIQACAMAQAAACAMAQBbRCHzAAAAABCGAABxCAAAAABhCADIFobEIQAAAABhCAA4KAyJQwAAAADCEABgawgAAAAAYQgAyBaHzAMAAABAGAIADolDZgEAAAAgDAEA4hAAAAAAwhAAIAwBAAAAIAwBANuFIXMAAAAAEIYAABtDAAAAAAhDAAAAAAAACEMALLMFYg4AAAAAIAwBcEAUCnEIAAAAAIQhAAAAAAAAhCEAkmwKmQXe%2BwAAAADCEAAHXBh3gZzT3//mAQAAAAhDALgoDsIoAAAAgDAEQI6L4uaAKGQWAAAAgDAEgDAEwhAAAACAMAQAkCcKCUMAAACAMAQAIAwBAAAACEMAAJnCkHkAAAAAwhAAgDAEAAAAIAwBAGQIQqIQAAAAIAwBAAhDAAAAAMIQAECmKCQMAQAAAMIQAMABYcg8AAAAAGEIAEAYAgAAABCGAAAEIQAAAABhCABgiygkDAEAAAAIQwDAYXFIIAIAAACEIQCAA8KQeQAAAAAYAACQMAb9G4bMBQAAAEAYAgCSbwkJQwAAAADCEABwWCQyCwAAAABhCAAAAAAAQBgCAAAAAABAGAIAAAAAAEAYAgAAAAAAQBgCAAAAAABAGAIAAAAAAEAYAgAAAAAAQBgCAAAAAABAGAIAAAAAAEAYAgAAAAAAEIYAAAAAAAAQhgAAAAAAABCGAAAAAAAAEIYAAAAAAAAQhgAAAAAAABCGAADgBGEGAAAACEMAACAMAQAAgDAEAAAAAACAMAQAAAAAAIAwBAAAAAAAgDAEAAAAAAAgDAEAAAAAACAMAQAAAAAAIAwBALCVMAMAAAAQhgAAEIYAAAAAYQgAAAAAAABhCAAAAAAAAGEIAAAAAAAAYQgAAAAAAABhCAAAAAAAAGEIAAAAAAAAYQgAgCWEGQAAAIAwBABA/iAkCgEAAIAwBADAIVFIGAIAAABhCAAAG0MAAACAMAQAAAAAAIAwBAAAAAAAgDAEAJBBmAEAAAAgDAEAAAAAACAMAQAAAAAAIAwBAAAAAAAgDAEAAAAAAGAAAAAAAAAAwhAAAAAAAADCEAAAAAAAAMIQAAAAAAAAwhAAAAAAAADCEAAAAAAAAMIQAAAAAAAAwhAAAAAAAADCEAAAAAAAAMIQAAAAAACAMAQAQE5hBgAAAIAwBAAAAAAAIAwBAAAAAAAgDAEAAAAAACAMAQAAAAAAIAwBAAAAAAAgDAEAAAAAACAMAQAAAAAAIAwBAAAAAAAgDAEAAAAAACAMAQAAAAAACEMAAAAAAAAIQwAAAAAAAAhDAAAAAAAACEMAAAAAAAAIQwAAAAAAAAhDAAAAAAAACEMAAAAAAAAIQwAAAAAAAAhDAAAAAAAACEMAAAAsJswAAACEIQAAAAAAAIQhAAAAbAwBAADCEAAAAAAAAMIQAAAAFGwshS0mAACEIQAAABgXZmLise6OLwYBACAMAQAAwIQoFB8i0VPEiYnbPqIRAADCEAAAAHQIQqILAAAIQwAAABy2LQQAAAhDAAAAJAhAd1HIfAAAQBgCAAAg8XaQTSEAABCGAAAAODAOzdxWEqIAABCGAAAA4MU4NPvYzgEAAMIQAAAAHBKGxCEAAIQhAAAAeCkO2RYCAABhCAAAAGEIAAAQhgAAAMgShYQhAAAQhgAAABCGAAAAYQgAAIAsQUgYAgAAYQgAAIDkUcg8AABAGAIAAEAcAgAAhCEAAAAyBCGzAAAAYQgAAABbQgAAgDAEAACAMAQAAAhDAAAALBF7nqKPKAQAAMIQAAAASSORMAQAAMIQAAAAhwSib%2BHInAAAQBgCAAAg4eZQXOX/3BwAACAMAQAAkCgKxZ/bmhkAAAhDAAAAJI5CNocAAEAYAgAAQBQCAACEIQAAAHYKQzW3v/vfAACAMAQAAECyMGSLCAAAhCEAAAA2DELxwv0BAABhCAAAgIW3hQAAAGEIAACAJIFo9H0AAABhCAAAgAXC0C/3%2B3fzSDACAABhCAAAgEQbQwAAgDAEAADAplEoCr4uHgEAgDAEAABA0o2huGFmAAAgDAEAALBRCPr31/EQgkQhAAAQhgAAAEi4OXQXi8wIAACEIQAAAA4IRcIQAAAIQwAAAAhDAACAMAQAAECmMGQeAAAgDAEAAHDItpA4BAAAwhAAAACHhCEzAQAAYQgAAIDkYcgsAABAGAIAAEAcAgAAhCEAgHcvYJoDwO8hKEQhAAAQhgAAADgrCglDAAAgDAEAACAOAQAAwhAAAAAZg5A4BAAAwhAAAADJw5CNIQAAEIYAAAA4LAwJRAAAIAwBQPNFJrMBABtDAACAMASAi0sAwKLbQj7DAQBAGAIAcQgAhCEAAEAYAsBFJheVACBTFPI5DgAAwhAAAAAbRaDrIfgIPwAAIAwBAACweQwq2RQyLwAAEIYAAABIEoji8s/DAQCAMAQAAMDRgchcAABAGAIAAEAYAgAAhCEAAADEIQAAQBgCAABAHAIAAIQhAAAARCEAAEAYAgAA4OUwJBABAIAwBAAAgG0hAABAGAIAACDbxpDZAACAMAQAAEDyMGQmAAAgDAEAACAKAQAAwhAAAAA7RqA7ZgUAAMIQAHS/IGUeALBmGPJZDQAAwhAAAADCEAAAIAwBAACw28auGAQAAMIQAEy9QGUOAPBeGBKHAABAGAIAACDhD118iz6iEAAACEMAYGsIADbcCLqu7/9knFkBAIAwBAAAQLIfuIgv4QgAABCGAAAASLIxJAYBAIAwBADb/%2BQzAFAehQAAAGEIAACAxGFIHAIAAGEIAAAAW7YAAIAwBAAAgDAEAAAIQwAAAGwVhYQhAAAQhgAAAEgUfeKf3wtRCAAAEIYAAADyBiIxCAAAEIYAAAAOjENmAgAACEMAAACJo9AlCgEAAMIQAADAOWHoEogAAABhCAAA4KwwJA4BAADCEAAAwEFhCAAAQBgCAAAQhQAAAGEIAAAAcQgAABCGAAAA2CIMCUQAAIAwBECXC05%2BIhmAEz/7Vo8tccM5BAAAhCEAfr7g1OPiGgDsGIYi6Wc0AAAgDAGA0AOAz7oHwhAAACAMAZD2ophZACAK9f9cjI7Pz3kDAACEIQCGXRgzGwBO/Bx8cwvX5zEAACAMAfDqT0ybDwDi0Jww5DMYAAAQhgCwNQQACeJQyeP6/AUAAIQhAF4NQ%2BYCgM/C%2BZtD/z4f5wYAABCGAFj2J6VdwAJAGGo/tvMAAAAIQwC8eoHMHAAQhsZ%2BvrYcy2c0AAAgDAEAAGywLRQffi30AAAAwhAAAEDiODTjOAAAgDAEAABARRyKwceyMQQAAAhDAAAAieOQTSEAAEAYAgAAGLyZc335tTAEAAAIQwAc8RPQ4WIVAAd99l2F0WdUGIrGrwEAAAhDAAy5gGYOAJz0AxK//kDFiE0hn8cAAIAwBIA4BAATNmd/iUk94xAAAIAwBAAAMCgORUNIisbjOxcAAIAwBAAAsNAGUVx1IanmeOYPAAAIQwAAAItsDrVsD9kYAgAAhCEAAIBN41DrbUUhAABAGAIAANh4a6gmINUez7kAAACEIQAAgIXCUOnto/G4zgcAACAMAQAALBCJWsLQ0%2BbQp8d0HgAAAGEIAABg0zhUGoiEIQAAQBgCAABYKBLVhqFvsSdsCwEAAMIQAADA2oGodLvoWyT69vvmDQAACEMAAAALBaFfwlDJNpFIBAAACEMAAAAvx6F4CEcjQk9cIhEAACAMAQAALBGISsJNdHwOtokAAABhCAAAYHIgstEDAAAIQwAAAAdtDYUwBAAACEMAAADnxKFLGAIAAIQhAACAvEHosikEAAAIQwAAAGfEIbMAAACEIQAAAHEIAABAGAIAAMgWh8wBAAAQhgAAAIQhAAAAYQgAACBTGHpiTgAAgDAEAABwSBwyIwAAQBgCAAA4JBh9%2Bn3zAQAAhCEAAIDkYUgUAgAAhCEAAIDEccgcAAAAYQgAAEAYAgAAEIYAAABEIQAAAGEIAABAGAIAABCGAAAA5oefaPgaAACAMAQAALBZEIqbABTCEAAAIAwBAADkDUN/Q5AwBAAACEMAAACJolDNBhEAAIAwBAAAsHEcMgcAAEAYAgAAOGhrSCACAACEIQAAAFtDAAAAwhAAAECWwGJrCAAAEIYAAAAa4sruz18cAgAAhCEAAICkcSg%2BhCGBCAAAEIYAAAAqQovNIQAAAGEIAACwObR8yBKHAAAAYQgAACBZFLI1BAAACEMAAAA/bt/E5q9BFAIAAIQhAAAA204AAADCEAAAgDgEAAAgDAEAAAeGlR2fZ4hCAACAMAQAAPBOHIpJz/MT5xAAABCGAAAAJselkaEmHjgHAACAMAQAAPDCptCoYCMKAQAAwhAAAEDH6NIzLkXn5yYCAQAAwhAAAMCLG0RR8PXo8LzEIQAAQBgCAAAYEIai8X6lYac28IhCAACAMAQAAPDiplDt/WujkBgEAAAIQwAAAAPjUOtGT01cioINok%2BbSyIRAAAgDAEAAEyIRLX3Kwk5UejbMQAAAIQhAACAzpFoxH1bopAwBAAACEMAAACDo9AvMWZUHHJ%2BAAAAYQgAAGBAHHoKNb9uHLUcQxwCAACEIQAAgEXDklkAAADCEAAAQPLIIwwBAADCEAAAwMZhKP7875L7mB0AACAMAQAAbBaFvkUiAAAAhCEAACBZEGrZLAIAABCGAAAAkoWjuGFOAACAMAQAAJAkDIlBZ22EAQAAwhAAAHB4GDILxCYAABCGAAAAYQgAAEAYAgAAyBSGxCEAAABhCAAAsDEEAAAgDAEAAIhDAAAAwhAAAMCWcUiwyj1PAABAGAIAAPhfhInFn58ABwAACEMAAADJwkvWCCQMAQCAMAQAAPD6ltAuGzmxeNT6%2B1z%2BfV5Ztp4AAEAYAgAA2DwI7bQtFIts3%2BwY1gAAAGEIAAA4OAzttBlU8/W34pD3FwAACEMAAADC0ODnGS8/P1EIAACEIQAAAGGo0%2BZQVNxuZrARhgAAQBgCAADYJg69uXHT8/lfwhAAACAMAQAAPG/ZZHwNs8OQ9xMAAAhDAAAAvBy3YvDxhCEAABCGAAAAtokqkfz5x4DjxSUIAQCAMAQAAMD0KBSFt33z%2BAAAgDAEAABgU2jS8x%2Bx5SMKAQCAMAQAALB8UMn0OmpjT8lt48uvxSAAABCGAAAAhKEXt4ZatoeeHksEAgAAYcgQAACANDElYxz6JSoJQwAAgDAEAACkDUNx8OsRggAAAGEIAAA4LhBlC0M1YUcUAgAAhCEAAOCoraGTw1DWUAYAAAhDAAAAH0NKye/vFoacYwAAQBgCAIBNLvCbw3tRaKfzEJd/Bg4AABCGAAAgRbQwi/lhaJVA922TSRgCAACEIQAAsDFExVw//XrFbaF4CECiEAAAIAwBAIBtIQq3hWqiUM/4cvc4pRtBghAAACAMAQCAMMTD1s234HJ32x5xKAp/7yliiUIAAIAwBAAAolBznDghBtXElSgIOXHV/bd%2BouB8Px1XGAIAAIQhAABIGjNsIo153U9BpfS2T7crCTjR8Bqiw%2BYSAACAMAQAAJMjRTxshsw4/ulbWFF5nko3hFoi0ajXAQAAIAwBAMDCoSgqooUwNPa1RuV5i4mvy/cOAAAgDAEAQPJNol4xQRiad94AAACEIQAA4LU4FIfGodkbXwAAAMIQAADQHHFmb7hEwjkCAAAgDAEAwNJbQzH4GJnCUNjgAQAAEIYAAGD3sBGDj5M5DHlfAQAACEMAALBV5Hjj8WPDWCQGAQAACEMAAGB7qHK7ZscoJAwBAAAIQwAAsHUUul6IQteHY%2B84t52CFgAAgDAEAACi0G3ImbUx1PuYM7esxCEAAABhCAAAto5F8RCQej/2rlFICAIAABCGAABg6yA0KnrEw3Fis7mIQwAAAMIQAACkCkOz4tAvj3ddcyPW6BkBAAAIQwAAwGthKAYdo/dz73Xfp9cvCgEAAAhDAACwfRAqiSKlGzyl8alHwKp5Pk%2BvtSSMCUMAAADCEAAApIhEveJQDAhDd/ePL1Gq9HnUxqGn4wIAACAMAQBwSFjJskH0tDFTGoZaokvpfUtnX/q67japAAAAEIYAACBNCCrdzKmNOaWRpyUK9dr8OSH4AQAACEMAAMBt%2BIiCzZ/S7Zza7Z9RYci5BgAAEIYAAODoTaHaKNP6%2BDXxpua4NRtPrRtBwhIAAIAwBAAAwtCAMNRj20fIAQAAEIYAAOD1CDP7mJ%2BOH4VxKAq%2B3hqGWuKR9xEAAIAwBAAA4lDBsWrizLfAU/paakJPzW1aohgAAADCEAAANG/frPA4pWGoJMBcV9s/Kdcahq7r/r8ldBU8jxW3swAAABCGAACgKNiMPk40bPH8Eoei8fY2gQAAABCGAABIG4dW2hp6Cjitscf2DgAAAMIQAABHbwq9uTVUG4ei8T4jX6PQBAAAIAwBAIBA9E84iU6ua50oBAAAgDAEAADbB6JZAerXwCMQAQAAIAwBAMCCwalnJPrlsZwXAAAAhCEAAI6ON9ekTaEeYahHYHLeAQAAEIYAAGBAQFktDjnHAAAACEMAADB4W2glzg8AAADCEAAAYk7njaKeW0JCEAAAAMIQAAACzqDtntINoB02iD6FKgAAABCGAADYIgr1Dhw10efXjRxbQwAAAAhDAABQGE5mbQyNCC6zQ5AoBAAAgDAEAECaUDQ7SvU6/t3j9N4OsjUEAACAMAQAQLotori5fe9NpV8e/ykMlR5THAIAAEAYAgDA5tCf25U%2B3hsbSjXbQj0i1vUlaglFAAAACEMAAGwXiO6%2B/i2I/GLm9lOvIPQUiQAAAEAYAgBguzhU8jVxSCACAABAGAIAYOMwVBpM7r42Ogj1iE69AxUAAAAIQwAApItDvwSlXts4PY4lDAEAACAMAQAgEA2IQ9egMPTt6z0eDwAAAIQhAABsDjVu6rRu9lwV8aYl9IhCAAAACEMAAFAZjVoeo9djfwpJra/P%2BQYAAEAYAgCAzvFmxnOdcR8AAAAQhgAAOC4O1d5/9dfoXAMAACAMAQAgDP0YhsQhAAAAhCEAANg4CkXjYwlCAMBqf8/x9wYAhCEAALiJQyIMAJDp7zjmAIAwBAAAA8PQvxdhXJABAABAGAIAgAWjUAx4TDMGAABAGAIAgMQbQ9fN4wlFAAAACEMAALDJ1lDNdpGNIQAAAIQhAADYLAzFg9owJBgBAAAgDAEAwMIbQ39/Pypu/%2B3r5g4AAIAwBAAAL0Whp9u0bAXFD8cEAAAAYQgAAF4IQ6VxKK766CMQAQAAIAwBAMCkKFQadFq3imrClE0iAAAAhCEAAJi4MSTMAAAAgDAEAMABUejbBlBMfl7ODwAAAMIQAABMjDDxQqR545gAAAAgDAEAAAAAACAMAQDAChtNAAAAIAwBAIAgBAAAAMIQAAAAAAAAwhAAANgaAgAAAGEIAADeC0PiEAAAAMIQAADYGgIAAABhCAAAbA0BAACAMAQAACIRAAAACEMAAAAAAAAIQwAAsPAGkTkAAAAgDAEAwCLhJgY/vjkDAAAgDAEAwCHRSRwCAABAGAIAgMMikTkAAAAgDAEAAAAAACAMAQAAAABnb13bvAYQhgAASPp/%2Bs0BAABhCEAYAgAAAAAODkMCEYAwBAAAAAAAgDAEAAAAADm3Z8wBAGEIAAAAAA4IMSEOASAMAQAAAMCYmLNqiBGH/HeHAIQhAAAAADgkvIghAAhDAAAAACC%2BAIAwBAAAAAAAIAwBAICfvgUA8PcXAIQhAAAAAAAAhCEAAAAAAACEIQAAAAAAAIQhAAAAAOBnYQYACEMAAAAAIA4BgDAEAAAAAAAgDAEAAAAAtocAEIYAAAAAgC1CT4hDAAhDAAAAAGBbp%2BQ5ikoAwhAAAAAAsHmsCiEIAGEIAAAAAAiBCEAYAgAAAIBMGzMAgDAEAAAAAGCrChCGAAAAAADbUAAIQwAAAAAgogCAMAQAAAAAAIAwBAAAAAAAgDAEAAAAAACAMAQAAAAAAIAwBAAAAADUCjMAwAAAAAAA4IwoJAwBIAwBAAAAgGhkDgDCEAAAAAAgEgEgDAEAAAAAACAMAQAAAAAAIAwBAAAAAAAgDAEAAAAAACAMAQAAAAAAIAwBAAAAAAAgDAEAAAAAA4QZAAhDAAAAAAAACEMAAAAAAAAIQwAAALCuMAMAAIQhAAAAAAAAhCEAAACwCQTgz0sAhCEAAAAAAACEIQAAAAAAAIQhAAAAAGBFYQYAwhAAAAAAAADCEAAAAADAMdtUNqoAYQgAAAAAIHEM%2BjcMiUOAMAQAAAAAkHhL6I4ZAcIQAAAAAIAwBCAMAQAAAAB1UcIchCEAYQgAAAAAYHIUukQhQBgCAAAAAMi5mWU7CBCGAAAAAAAOiEIAwhAAAAAAAADCEAAAAAC2LswBAIQhAAAAAEQhAEAYAgAAAAAAQBgCAAAAAGx6ASAMAQAAAAAAIAwBAAAAAAAIQwAAAADAvsIMnC8AYQgAAAAAQBACEIYAAAAA4PA4ET/eBmEIEIYAAAAAgA3iRBTezrwAhCEAAAAAwHYJAMIQAAAAACAIea0AwhAAAAAAIKrcvA6BCEAYAgAAAACSBhUxCEAYAgAAAACELQCEIQAAAAAQQXo%2BF%2BfE/ABhCAAAAAAYGBIEBQCEIQAAAACW3Cph3GZJHPI6ARCGAAAAAOCoyCeaCGAAwhAAAAAALkY7hziXAMIQAAAAACC%2BmAOAMAQAAAAALB50QtgBEIYAAAAA4LStlJMDiTAEIAwBAAAAgHhhHgAIQwAAAIALupxy3r1XAUAYAgAAAADhDgCEIQAAAABBgX1n6VwCIAwBAAAA0DUuiA9iFAAIQwAAAIAL13hfAADCEAAAAADsFNdiYriLhecAgDAEAAAAgLCCcwiAMAQAAABA7YX7SPI6AABhCAAAAIBEUSUOeq3eSwAIQwAAAIALvDhn5gQAwhAAAAAAIAICIAwBAAAA4ML/4%2BP/JYLs8xxFITMBhCEAAADAxUMSvUfD98KW37P%2BfDF/QBgCAAAAYLNgAr03sgQVAGEIAAAAcIESlvl%2BuwsYYT5HzMCfu4AwBAAAALjQCfi%2Bc94AhCEAAADAhU4Af94ACEMAAAAALlJz/PsizAgAYQgAAAAAxKE3X7PoAyAMAQAAAAtcsP3LRXnY%2B33oPQ6AMAQAAAC4YA7e514fAMIQAAAAAAAAwhAAAACATQnwvQGAMAQAAMDOFyZdnMT7CwBAGAIAAAD81L8wBAAgDAEAAACZ4od4A32%2BP8L3HwDCEAAAAACIRgAgDAEAAICLwgAACEMAAADAL7EmJh9v1ag0exYAAAhDAAAAgGjDItHQew4AhCEAAAAg8dYQOQOPMIT3BoAwBAAAABy6dRSV9zE7wJ8JAMIQAAAAcEgcAhCIAIQhAAAASBlMXNQF/JkBgDAEAAAAiD8AAAhDAAAAgDgEAIAwBAAAAIhGAAAIQwAAACCwAACAMAQAAADCEAAAGAIAAAAgXgG%2Bx/G%2BA2EIAAAAAAAAYQgAAAD8lPA558R5AQAQhgAAAEAYcm4AwGcECEMAAABAxi0hF/5c8MX5A%2B8zEIYAAAAAF/oA/PkEIAwBAAAAu15cddEVEIYAhCEAAAAg6QXWcKEV0n5vmwUAwhAAAACAi/bYqAFAGAIAAAAAxBgAhCEAAADARWMAAIQhAAAAQGQCAEAYAgAAAAYEIGEIEJEBEIYAAADARVkAABCG%2BK%2BdO9hRGAaCKMj//3RzACRAICJkJxlPHeq%2B6k1YyQ8vAAAAAhMAAMIQAAAAIOIAACAMAQAAAAAiNQDCEAAAAAAg1NgBQBgCAAAAgDqBQqgQkACEIQAAAACAyUHumW0AhCEAAAAAYOFbP9/CkFAEIAwBAAAAAAAgDAEAAMB%2B33z3LXaAfW4TASAMAQAAgMNMAAAQhgAAAAAAABCGAAAAAAAAEIYAAAAAZskbmzDqmbIFAMIQAAAAgDgEACAMAQAAAJwhCglDAIAwBAAAANDotpA4tG0vewCAMAQAAABLHoLbwu8aAEAYAgAAAIf5AAAgDAEAAIBIBAAAwhAAAAAAAADCEAAAAAAAgDBkBAAAAAAAAGEIAAAAYK7YALxbAAhDAAAAAIAwBN4HEIYAAAAAh3YA4G8MCEMAAAAAAAAIQwAAAAC4MQAAGAEAAAAAcQgAhCEAAAAAAACEIQAAAAAAAIQhAAAAAAAAhCEAAAAAAACEIQAAAAAAAIQhAAAA4HixAQCAMAQAAAAAAIAwBAAAALgxBJ5JABCGAAAAAEAYAgBhCAAAAAA2hiFxCACEIQAAAADcGAIAhCEAAAAAAABhCAAAAAAAAGEIAAAAAMaIDQBAGAIAAAAcpgMAIAwBAAAAAAAgDAEAAAAAACAMAQAAAAAvcvFvKQEQhgAAAACgVRyyA4AwZAQAAAAAaBJyxCEAYcgIAAAAAAAAwhAAAAAA4LYNAMIQAAAAAAAAwhAAAAAAAADCEAAAAACUEBsAIAwBAAAAAAAgDAEAAAAAACAMAQAAAMBDbAAAwhAAAAAOhwF8TgGAMAQAAICDWMB77mcEAGEIAAAAAAAAYQgAAAC3BgAAAGEIAAAAAQgAAIQhAAAAOCAMiUYAACAMAQAAAAAAIAwBAAAAAAAgDAEAADBVbAD4LAEAYQgAAAAAAABhCAAAAAAAAGEIAAAAgC5iAwAQhgAAAAAQhwAAYQgAAAAAAABhCAAAAAAAAGEIAAAAAAAAYQgAAAAAAEAYAgAAAAAAQBgCAAAAgOpiAwAQhgAAAAAAAIQhAAAAAAAAhCEAAAAAAACEIQAAAAAAAIQhAAAAAAAAhCEAAAAAGCQ2AABhCAAAAACRBQAQhgAAAAAAAIQhAAAAAAAAhCEAAAAAAACEIQAAAAAAAIQhAAAAAAAAhCEAAAAAAACEIQAAAAAAAIQhAAAAAAAAhCEAAAAAAACEIQAAAAAAAGEIAAAAAAAAYQgAAAAAAABhCAAAAAAAAGEIAACAbmIDAAAQhgAAABCGAAAAYQgAAAAAAABhCAAAAAAAAGEIAAAAAAAAYQgAAAAAAABhCAAAAAAAQBgCAAAAAMbJnS349GzYARCGAAAAAEAAAABhCAAAAAAAAGEIAAAAAAAAYQgAAAAAAABhCAAAAAAAQBgCAAAAAABAGAIAAAAAAEAYAgAAAAAAQBgCAAAAAABAGAIAAAAAziQ2ABCGAAAAAABhCABhCAAAgMUO/BwIAgCAMAQAAECjcCQOAQCAMAQAAAAAAIAwBAAAAAAAgDAEAAAAAJQWGwAIQwAAAAAAAAhDAAAAAICbQgAIQwAAAAAAAAhDAAAAAAAACEMAAAAAAAAIQwAAAAAAAAhDAAAAAABANbGBMAQAAAAAAIAwBAAAAAAAgDAEAAAAAACAMAQAAAAAACAMAQAAAAAAIAwBAAAAAAAgDAEAAAAAN3liDwCEIQAAAABoEIWEIQCEIQAAAABwWwgAhCEAAAAAWCkQ2QEAYQgAAAAAhCEAEIYAAAAAAAAQhgAAAAAAABCGAAAAAAAAEIYAAAAAAAAQhgAAAAAAAP4RYQgAAAAAAABhCAAAAAAAAGEIAAAAAAAAYQgAAAAAAABhCAAAAAAAAGEIAAAAAAAAYQgAAAAAAABhCAAAAAAAQBgCAAAAAABAGAIAAAAAAEAYAgAAAAAAQBgCAAAAAABAGAIAAAAAAEAYAgAAAAAAQBgCAAAAAKqIDQCEIQAAAAAAAIQhAAAAAAAAhCEAAAAAAACEIQAAAAAAAH66AlGEre5EDkg1AAAAAElFTkSuQmCC%22%2C%0A%20%20%20%20%20%20%20%20%20%20%20%20%20%20%20%20%5B%5B35.832006264552895%2C%20-114.53395477030668%5D%2C%20%5B38.5416667152317%2C%20-107.15576372843819%5D%5D%2C%0A%20%20%20%20%20%20%20%20%20%20%20%20%20%20%20%20%7B%22opacity%22%3A%200.6%7D%0A%20%20%20%20%20%20%20%20%20%20%20%20%29.addTo%28map_d77bfb5d7d2940cc8270ded06fb9aa54%29%3B%0A%20%20%20%20%20%20%20%20%0A%20%20%20%20%0A%20%20%20%20%20%20%20%20%20%20%20%20var%20mouse_position_134aab0b9fe4492c9cc45b9c73fa2488%20%3D%20new%20L.Control.MousePosition%28%0A%20%20%20%20%20%20%20%20%20%20%20%20%20%20%20%20%7B%22emptyString%22%3A%20%22Unavailable%22%2C%20%22lngFirst%22%3A%20false%2C%20%22numDigits%22%3A%205%2C%20%22position%22%3A%20%22bottomright%22%2C%20%22prefix%22%3A%20%22%22%2C%20%22separator%22%3A%20%22%20%3A%20%22%7D%0A%20%20%20%20%20%20%20%20%20%20%20%20%29%3B%0A%20%20%20%20%20%20%20%20%20%20%20%20mouse_position_134aab0b9fe4492c9cc45b9c73fa2488.options%5B%22latFormatter%22%5D%20%3D%0A%20%20%20%20%20%20%20%20%20%20%20%20%20%20%20%20undefined%3B%0A%20%20%20%20%20%20%20%20%20%20%20%20mouse_position_134aab0b9fe4492c9cc45b9c73fa2488.options%5B%22lngFormatter%22%5D%20%3D%0A%20%20%20%20%20%20%20%20%20%20%20%20%20%20%20%20undefined%3B%0A%20%20%20%20%20%20%20%20%20%20%20%20map_d77bfb5d7d2940cc8270ded06fb9aa54.addControl%28mouse_position_134aab0b9fe4492c9cc45b9c73fa2488%29%3B%0A%20%20%20%20%20%20%20%20%0A%20%20%20%20%0A%20%20%20%20%20%20%20%20%20%20%20%20var%20layer_control_08a8745ae95b42d58b2eea6b8d21138f%20%3D%20%7B%0A%20%20%20%20%20%20%20%20%20%20%20%20%20%20%20%20base_layers%20%3A%20%7B%0A%20%20%20%20%20%20%20%20%20%20%20%20%20%20%20%20%20%20%20%20%22https%3A//mt1.google.com/vt/lyrs%3Ds%5Cu0026x%3D%7Bx%7D%5Cu0026y%3D%7By%7D%5Cu0026z%3D%7Bz%7D%22%20%3A%20tile_layer_5ccf1efe29d942ba996ae1ddfbd3de22%2C%0A%20%20%20%20%20%20%20%20%20%20%20%20%20%20%20%20%7D%2C%0A%20%20%20%20%20%20%20%20%20%20%20%20%20%20%20%20overlays%20%3A%20%20%7B%0A%20%20%20%20%20%20%20%20%20%20%20%20%20%20%20%20%20%20%20%20%22Water%20classification%20XGBOOST%20predicted%20mask%22%20%3A%20image_overlay_82497d4b077449fea97a4fb64de24a5f%2C%0A%20%20%20%20%20%20%20%20%20%20%20%20%20%20%20%20%7D%2C%0A%20%20%20%20%20%20%20%20%20%20%20%20%7D%3B%0A%20%20%20%20%20%20%20%20%20%20%20%20L.control.layers%28%0A%20%20%20%20%20%20%20%20%20%20%20%20%20%20%20%20layer_control_08a8745ae95b42d58b2eea6b8d21138f.base_layers%2C%0A%20%20%20%20%20%20%20%20%20%20%20%20%20%20%20%20layer_control_08a8745ae95b42d58b2eea6b8d21138f.overlays%2C%0A%20%20%20%20%20%20%20%20%20%20%20%20%20%20%20%20%7B%22autoZIndex%22%3A%20true%2C%20%22collapsed%22%3A%20true%2C%20%22position%22%3A%20%22topright%22%7D%0A%20%20%20%20%20%20%20%20%20%20%20%20%29.addTo%28map_d77bfb5d7d2940cc8270ded06fb9aa54%29%3B%0A%20%20%20%20%20%20%20%20%0A%3C/script%3E onload=\"this.contentDocument.open();this.contentDocument.write(    decodeURIComponent(this.getAttribute('data-html')));this.contentDocument.close();\" allowfullscreen webkitallowfullscreen mozallowfullscreen></iframe></div></div>"
      ],
      "text/plain": [
       "<folium.folium.Map at 0x2b97c5b22dd0>"
      ]
     },
     "execution_count": 43,
     "metadata": {},
     "output_type": "execute_result"
    }
   ],
   "source": [
    "m.add_child(folium_helper.get_overlay(mask_rgb, mask_d, 'Water classification XGBOOST predicted mask', opacity=0.6))\n",
    "m.add_child(plugins.MousePosition())\n",
    "m.add_child(folium.LayerControl())"
   ]
  },
  {
   "cell_type": "code",
   "execution_count": null,
   "metadata": {},
   "outputs": [],
   "source": []
  }
 ],
 "metadata": {
  "kernelspec": {
   "display_name": "Python [conda env:ilab]",
   "language": "python",
   "name": "conda-env-ilab-py"
  },
  "language_info": {
   "codemirror_mode": {
    "name": "ipython",
    "version": 3
   },
   "file_extension": ".py",
   "mimetype": "text/x-python",
   "name": "python",
   "nbconvert_exporter": "python",
   "pygments_lexer": "ipython3",
   "version": "3.7.12"
  }
 },
 "nbformat": 4,
 "nbformat_minor": 4
}
