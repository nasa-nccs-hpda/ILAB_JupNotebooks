{
 "cells": [
  {
   "cell_type": "markdown",
   "metadata": {},
   "source": [
    "# Water Clasification Random Forest GPU\n",
    "\n",
    "Version: DEMO\n",
    "\n",
    "ILAB Team\n",
    "\n",
    "Kernel to use:\n",
    "- (ADAPT PRISM) `Python [conda env:ilab]`\n",
    "\n",
    "This is a demo notebook showcasing how the ILAB team uses the RAPIDS env capabilities to perform efficient GPU-based training of a Random Forest classifier algorithm. This notebook also demonstates how to use a raster as a test data-set for the trained model."
   ]
  },
  {
   "cell_type": "code",
   "execution_count": 1,
   "metadata": {},
   "outputs": [],
   "source": [
    "import csv\n",
    "import datetime\n",
    "import glob\n",
    "import joblib\n",
    "import numpy as np\n",
    "import os\n",
    "import pandas as pd\n",
    "from pathlib import Path\n",
    "import sys\n",
    "from pprint import pprint\n",
    "import time\n",
    "\n",
    "#GPU\n",
    "import cudf\n",
    "import cupy as cp\n",
    "from cuml.ensemble import RandomForestClassifier as cumlRF\n",
    "from cuml.model_selection import train_test_split\n",
    "# Scikit learn\n",
    "from sklearn.metrics import confusion_matrix, accuracy_score, roc_auc_score\n",
    "from sklearn.metrics import classification_report\n",
    "from sklearn.model_selection import RandomizedSearchCV, KFold\n",
    "from sklearn.inspection import permutation_importance\n",
    "\n",
    "# Visualization\n",
    "import seaborn as sns\n",
    "import matplotlib.pyplot as plt\n",
    "import warnings\n",
    "\n",
    "#GDAL Stuff\n",
    "from osgeo import gdalconst\n",
    "from osgeo import gdal\n",
    "\n",
    "plt.style.use('fivethirtyeight')\n",
    "warnings.filterwarnings('ignore')\n",
    "%matplotlib inline"
   ]
  },
  {
   "cell_type": "code",
   "execution_count": 2,
   "metadata": {},
   "outputs": [],
   "source": [
    "DATA_TYPE = cp.float32"
   ]
  },
  {
   "cell_type": "code",
   "execution_count": 3,
   "metadata": {},
   "outputs": [],
   "source": [
    "v_names = ['sur_refl_b01_1','sur_refl_b02_1','sur_refl_b03_1',\n",
    "           'sur_refl_b04_1','sur_refl_b05_1','sur_refl_b06_1',\n",
    "           'sur_refl_b07_1','ndvi','ndwi1','ndwi2']"
   ]
  },
  {
   "cell_type": "markdown",
   "metadata": {},
   "source": [
    "Add names from above to this list to drop them from training and testing.\n",
    "\n",
    "For example:\n",
    "\n",
    "```python\n",
    "columnsToDrop = ['sur_refl_b01_1', 'sur_refl_b07_1', 'ndwi1']\n",
    "```"
   ]
  },
  {
   "cell_type": "code",
   "execution_count": 4,
   "metadata": {},
   "outputs": [],
   "source": [
    "columnsToDrop = []"
   ]
  },
  {
   "cell_type": "markdown",
   "metadata": {},
   "source": [
    "This is a 1000 row training dataset which has columns for all the features listed in v_names. MODIS MOD09GA and MOD09GQ were the data sources. We used surface reflectance bands 1-7 from Collection 6.1."
   ]
  },
  {
   "cell_type": "code",
   "execution_count": 5,
   "metadata": {},
   "outputs": [],
   "source": [
    "dfPath = '../data/WaterClassificationPowell.parquet.gzip'"
   ]
  },
  {
   "cell_type": "code",
   "execution_count": 6,
   "metadata": {},
   "outputs": [],
   "source": [
    "outputRasterPath = '.'"
   ]
  },
  {
   "cell_type": "code",
   "execution_count": 7,
   "metadata": {},
   "outputs": [],
   "source": [
    "df = cudf.read_parquet(dfPath).astype(DATA_TYPE)\n",
    "df = df.drop(columns=columnsToDrop)\n",
    "X = df.drop(['water'], axis=1)\n",
    "y = df['water']\n",
    "X_train, X_test, y_train, y_test = train_test_split(X, y, test_size=0.2)"
   ]
  },
  {
   "cell_type": "code",
   "execution_count": 8,
   "metadata": {},
   "outputs": [
    {
     "data": {
      "text/plain": [
       "5"
      ]
     },
     "execution_count": 8,
     "metadata": {},
     "output_type": "execute_result"
    }
   ],
   "source": [
    "kf = KFold(n_splits=5)\n",
    "kf.get_n_splits(X_train)"
   ]
  },
  {
   "cell_type": "markdown",
   "metadata": {},
   "source": [
    "## Data \n",
    "- Read in to cuDF Dataframe\n",
    "- Drop unnecessary columns\n",
    "- Split into Xs and Ys"
   ]
  },
  {
   "cell_type": "markdown",
   "metadata": {},
   "source": [
    "## Load in data for use of visualizations \n",
    "(skip this if you just want to train model)"
   ]
  },
  {
   "cell_type": "code",
   "execution_count": 9,
   "metadata": {},
   "outputs": [
    {
     "name": "stdout",
     "output_type": "stream",
     "text": [
      "sur_refl_b01_1\n",
      "sur_refl_b02_1\n",
      "sur_refl_b03_1\n",
      "sur_refl_b04_1\n",
      "sur_refl_b05_1\n",
      "sur_refl_b06_1\n",
      "sur_refl_b07_1\n",
      "ndvi\n",
      "ndwi1\n",
      "ndwi2\n"
     ]
    }
   ],
   "source": [
    "_ = [print(column) for column in X_train.columns]"
   ]
  },
  {
   "cell_type": "code",
   "execution_count": 10,
   "metadata": {},
   "outputs": [
    {
     "data": {
      "text/html": [
       "<div>\n",
       "<style scoped>\n",
       "    .dataframe tbody tr th:only-of-type {\n",
       "        vertical-align: middle;\n",
       "    }\n",
       "\n",
       "    .dataframe tbody tr th {\n",
       "        vertical-align: top;\n",
       "    }\n",
       "\n",
       "    .dataframe thead th {\n",
       "        text-align: right;\n",
       "    }\n",
       "</style>\n",
       "<table border=\"1\" class=\"dataframe\">\n",
       "  <thead>\n",
       "    <tr style=\"text-align: right;\">\n",
       "      <th></th>\n",
       "      <th>count</th>\n",
       "      <th>mean</th>\n",
       "      <th>std</th>\n",
       "      <th>min</th>\n",
       "      <th>25%</th>\n",
       "      <th>50%</th>\n",
       "      <th>75%</th>\n",
       "      <th>max</th>\n",
       "    </tr>\n",
       "  </thead>\n",
       "  <tbody>\n",
       "    <tr>\n",
       "      <th>sur_refl_b01_1</th>\n",
       "      <td>800.0</td>\n",
       "      <td>1169.400000</td>\n",
       "      <td>1240.628563</td>\n",
       "      <td>8.000000</td>\n",
       "      <td>229.750000</td>\n",
       "      <td>820.500000</td>\n",
       "      <td>1863.500000</td>\n",
       "      <td>9045.000000</td>\n",
       "    </tr>\n",
       "    <tr>\n",
       "      <th>sur_refl_b02_1</th>\n",
       "      <td>800.0</td>\n",
       "      <td>1526.257500</td>\n",
       "      <td>1526.452305</td>\n",
       "      <td>1.000000</td>\n",
       "      <td>165.250000</td>\n",
       "      <td>1162.500000</td>\n",
       "      <td>2644.250000</td>\n",
       "      <td>8795.000000</td>\n",
       "    </tr>\n",
       "    <tr>\n",
       "      <th>sur_refl_b03_1</th>\n",
       "      <td>800.0</td>\n",
       "      <td>714.483750</td>\n",
       "      <td>948.726933</td>\n",
       "      <td>-100.000000</td>\n",
       "      <td>284.250000</td>\n",
       "      <td>530.500000</td>\n",
       "      <td>840.000000</td>\n",
       "      <td>8844.000000</td>\n",
       "    </tr>\n",
       "    <tr>\n",
       "      <th>sur_refl_b04_1</th>\n",
       "      <td>800.0</td>\n",
       "      <td>994.828750</td>\n",
       "      <td>1012.309272</td>\n",
       "      <td>6.000000</td>\n",
       "      <td>396.500000</td>\n",
       "      <td>786.500000</td>\n",
       "      <td>1293.500000</td>\n",
       "      <td>9056.000000</td>\n",
       "    </tr>\n",
       "    <tr>\n",
       "      <th>sur_refl_b05_1</th>\n",
       "      <td>800.0</td>\n",
       "      <td>1926.113750</td>\n",
       "      <td>1459.174694</td>\n",
       "      <td>-92.000000</td>\n",
       "      <td>524.750000</td>\n",
       "      <td>1753.000000</td>\n",
       "      <td>3164.500000</td>\n",
       "      <td>6382.000000</td>\n",
       "    </tr>\n",
       "    <tr>\n",
       "      <th>sur_refl_b06_1</th>\n",
       "      <td>800.0</td>\n",
       "      <td>1896.770000</td>\n",
       "      <td>1526.713658</td>\n",
       "      <td>45.000000</td>\n",
       "      <td>499.000000</td>\n",
       "      <td>1459.500000</td>\n",
       "      <td>3159.500000</td>\n",
       "      <td>6610.000000</td>\n",
       "    </tr>\n",
       "    <tr>\n",
       "      <th>sur_refl_b07_1</th>\n",
       "      <td>800.0</td>\n",
       "      <td>1556.981250</td>\n",
       "      <td>1374.236637</td>\n",
       "      <td>0.000000</td>\n",
       "      <td>317.000000</td>\n",
       "      <td>1169.500000</td>\n",
       "      <td>2590.500000</td>\n",
       "      <td>6128.000000</td>\n",
       "    </tr>\n",
       "    <tr>\n",
       "      <th>ndvi</th>\n",
       "      <td>800.0</td>\n",
       "      <td>40.174370</td>\n",
       "      <td>2486.357204</td>\n",
       "      <td>-9493.670898</td>\n",
       "      <td>-1508.924896</td>\n",
       "      <td>566.527252</td>\n",
       "      <td>1710.014923</td>\n",
       "      <td>8587.457031</td>\n",
       "    </tr>\n",
       "    <tr>\n",
       "      <th>ndwi1</th>\n",
       "      <td>800.0</td>\n",
       "      <td>-2425.490203</td>\n",
       "      <td>3339.967294</td>\n",
       "      <td>-9829.059570</td>\n",
       "      <td>-4653.288818</td>\n",
       "      <td>-1642.446472</td>\n",
       "      <td>-793.506836</td>\n",
       "      <td>8823.803711</td>\n",
       "    </tr>\n",
       "    <tr>\n",
       "      <th>ndwi2</th>\n",
       "      <td>800.0</td>\n",
       "      <td>-1013.612446</td>\n",
       "      <td>3785.421239</td>\n",
       "      <td>-9615.384766</td>\n",
       "      <td>-2964.409668</td>\n",
       "      <td>-715.934387</td>\n",
       "      <td>836.288147</td>\n",
       "      <td>10000.000000</td>\n",
       "    </tr>\n",
       "  </tbody>\n",
       "</table>\n",
       "</div>"
      ],
      "text/plain": [
       "                count         mean          std          min          25%  \\\n",
       "sur_refl_b01_1  800.0  1169.400000  1240.628563     8.000000   229.750000   \n",
       "sur_refl_b02_1  800.0  1526.257500  1526.452305     1.000000   165.250000   \n",
       "sur_refl_b03_1  800.0   714.483750   948.726933  -100.000000   284.250000   \n",
       "sur_refl_b04_1  800.0   994.828750  1012.309272     6.000000   396.500000   \n",
       "sur_refl_b05_1  800.0  1926.113750  1459.174694   -92.000000   524.750000   \n",
       "sur_refl_b06_1  800.0  1896.770000  1526.713658    45.000000   499.000000   \n",
       "sur_refl_b07_1  800.0  1556.981250  1374.236637     0.000000   317.000000   \n",
       "ndvi            800.0    40.174370  2486.357204 -9493.670898 -1508.924896   \n",
       "ndwi1           800.0 -2425.490203  3339.967294 -9829.059570 -4653.288818   \n",
       "ndwi2           800.0 -1013.612446  3785.421239 -9615.384766 -2964.409668   \n",
       "\n",
       "                        50%          75%           max  \n",
       "sur_refl_b01_1   820.500000  1863.500000   9045.000000  \n",
       "sur_refl_b02_1  1162.500000  2644.250000   8795.000000  \n",
       "sur_refl_b03_1   530.500000   840.000000   8844.000000  \n",
       "sur_refl_b04_1   786.500000  1293.500000   9056.000000  \n",
       "sur_refl_b05_1  1753.000000  3164.500000   6382.000000  \n",
       "sur_refl_b06_1  1459.500000  3159.500000   6610.000000  \n",
       "sur_refl_b07_1  1169.500000  2590.500000   6128.000000  \n",
       "ndvi             566.527252  1710.014923   8587.457031  \n",
       "ndwi1          -1642.446472  -793.506836   8823.803711  \n",
       "ndwi2           -715.934387   836.288147  10000.000000  "
      ]
     },
     "execution_count": 10,
     "metadata": {},
     "output_type": "execute_result"
    }
   ],
   "source": [
    "X_train.describe().T"
   ]
  },
  {
   "cell_type": "markdown",
   "metadata": {},
   "source": [
    "## Random Forest Model\n",
    "\n",
    "### Model Definition"
   ]
  },
  {
   "cell_type": "code",
   "execution_count": 11,
   "metadata": {},
   "outputs": [],
   "source": [
    "hyperparameters = {\n",
    " 'n_estimators': 200,\n",
    " 'max_depth': 16,\n",
    " 'max_features': 'auto',\n",
    " 'n_bins': 128,\n",
    " 'split_criterion': 0,\n",
    " 'min_samples_leaf': 1,\n",
    " 'min_samples_split': 2,\n",
    " 'min_impurity_decrease': 0.0,\n",
    " 'bootstrap': True,\n",
    " 'max_samples': 1.0,\n",
    " 'max_leaves': -1,\n",
    " 'accuracy_metric': None,\n",
    " 'max_batch_size': 4096,\n",
    " 'n_streams': 4,\n",
    " 'dtype': None,\n",
    " 'min_weight_fraction_leaf': None,\n",
    " 'n_jobs': None,\n",
    " 'max_leaf_nodes': None,\n",
    " 'min_impurity_split': None,\n",
    " 'oob_score': None,\n",
    " 'random_state': 42,\n",
    " 'warm_start': None,\n",
    " 'class_weight': None,\n",
    " 'criterion': None}"
   ]
  },
  {
   "cell_type": "code",
   "execution_count": 12,
   "metadata": {},
   "outputs": [],
   "source": [
    "classifier = cumlRF(**hyperparameters)"
   ]
  },
  {
   "cell_type": "markdown",
   "metadata": {},
   "source": [
    "# Training"
   ]
  },
  {
   "cell_type": "markdown",
   "metadata": {},
   "source": [
    "## K-Fold Cross Validation"
   ]
  },
  {
   "cell_type": "code",
   "execution_count": 13,
   "metadata": {},
   "outputs": [
    {
     "name": "stdout",
     "output_type": "stream",
     "text": [
      "Fitting model\n",
      "Time to fit model: 0.5567357540130615s\n",
      "Getting score\n",
      "Training accuracy score: 0.9750000238418579\n",
      "Predicting for test set\n",
      "              precision    recall  f1-score   support\n",
      "\n",
      "         0.0       0.96      0.97      0.97       113\n",
      "         1.0       0.97      0.95      0.96        87\n",
      "\n",
      "    accuracy                           0.96       200\n",
      "   macro avg       0.97      0.96      0.96       200\n",
      "weighted avg       0.97      0.96      0.96       200\n",
      "\n",
      "Score: 0.9750000238418579\n",
      "Fitting model\n",
      "Time to fit model: 0.3478364944458008s\n",
      "Getting score\n",
      "Training accuracy score: 0.981249988079071\n",
      "Predicting for test set\n",
      "              precision    recall  f1-score   support\n",
      "\n",
      "         0.0       0.96      0.97      0.96       113\n",
      "         1.0       0.96      0.94      0.95        87\n",
      "\n",
      "    accuracy                           0.96       200\n",
      "   macro avg       0.96      0.96      0.96       200\n",
      "weighted avg       0.96      0.96      0.96       200\n",
      "\n",
      "Score: 0.981249988079071\n",
      "Fitting model\n",
      "Time to fit model: 0.4870426654815674s\n",
      "Getting score\n",
      "Predicting for test set\n",
      "              precision    recall  f1-score   support\n",
      "\n",
      "         0.0       0.97      0.98      0.98       113\n",
      "         1.0       0.98      0.97      0.97        87\n",
      "\n",
      "    accuracy                           0.97       200\n",
      "   macro avg       0.98      0.97      0.97       200\n",
      "weighted avg       0.98      0.97      0.97       200\n",
      "\n",
      "Score: 0.96875\n",
      "Fitting model\n",
      "Time to fit model: 0.36163783073425293s\n",
      "Getting score\n",
      "Training accuracy score: 0.9937499761581421\n",
      "Predicting for test set\n",
      "              precision    recall  f1-score   support\n",
      "\n",
      "         0.0       0.97      0.98      0.98       113\n",
      "         1.0       0.98      0.97      0.97        87\n",
      "\n",
      "    accuracy                           0.97       200\n",
      "   macro avg       0.98      0.97      0.97       200\n",
      "weighted avg       0.98      0.97      0.97       200\n",
      "\n",
      "Score: 0.9937499761581421\n",
      "Fitting model\n",
      "Time to fit model: 0.35892295837402344s\n",
      "Getting score\n",
      "Training accuracy score: 0.9937499761581421\n",
      "Predicting for test set\n",
      "              precision    recall  f1-score   support\n",
      "\n",
      "         0.0       0.96      0.96      0.96       113\n",
      "         1.0       0.95      0.95      0.95        87\n",
      "\n",
      "    accuracy                           0.96       200\n",
      "   macro avg       0.96      0.96      0.96       200\n",
      "weighted avg       0.96      0.96      0.96       200\n",
      "\n",
      "Score: 0.9937499761581421\n",
      "CPU times: user 7.96 s, sys: 1.41 s, total: 9.36 s\n",
      "Wall time: 2.49 s\n"
     ]
    }
   ],
   "source": [
    "%%time\n",
    "bestModel = None\n",
    "bestModelScore = 0\n",
    "scores = []\n",
    "for trainIdx, testIdx in kf.split(X_train):\n",
    "    X_train_valid, X_test_valid = X_train.iloc[trainIdx], X_train.iloc[testIdx]\n",
    "    y_train_valid, y_test_valid = y_train.iloc[trainIdx], y_train.iloc[testIdx]\n",
    "    print('Fitting model')\n",
    "    st = time.time()\n",
    "    classifier.fit(X_train_valid, y_train_valid)\n",
    "    et = time.time()\n",
    "    print('Time to fit model: {}s'.format(et-st))\n",
    "    print('Getting score')\n",
    "    score = classifier.score(X_test_valid, y_test_valid)\n",
    "    if score>=bestModelScore:\n",
    "        bestModelScore = score\n",
    "        print('Training accuracy score: {}'.format(score))\n",
    "        bestModel = classifier\n",
    "    print('Predicting for test set')\n",
    "    test_predictions = classifier.predict(X_test)\n",
    "    print(classification_report(y_test.to_array(), test_predictions.to_array()))\n",
    "    print('Score: {}'.format(score))\n",
    "    scores.append(score)\n",
    "    del test_predictions, score"
   ]
  },
  {
   "cell_type": "code",
   "execution_count": 14,
   "metadata": {},
   "outputs": [
    {
     "name": "stdout",
     "output_type": "stream",
     "text": [
      "Average accuracy score: 0.9824999928474426\n",
      "Best accuracy score: 0.9937499761581421\n"
     ]
    }
   ],
   "source": [
    "scoreAvg = np.asarray(scores).mean()\n",
    "print('Average accuracy score: {}'.format(scoreAvg))\n",
    "print('Best accuracy score: {}'.format(bestModelScore))"
   ]
  },
  {
   "cell_type": "markdown",
   "metadata": {},
   "source": [
    "## Regular fitting"
   ]
  },
  {
   "cell_type": "code",
   "execution_count": 15,
   "metadata": {},
   "outputs": [],
   "source": [
    "classifier = cumlRF(**hyperparameters)"
   ]
  },
  {
   "cell_type": "code",
   "execution_count": 16,
   "metadata": {},
   "outputs": [
    {
     "name": "stdout",
     "output_type": "stream",
     "text": [
      "CPU times: user 237 ms, sys: 282 ms, total: 519 ms\n",
      "Wall time: 360 ms\n"
     ]
    },
    {
     "data": {
      "text/plain": [
       "RandomForestClassifier()"
      ]
     },
     "execution_count": 16,
     "metadata": {},
     "output_type": "execute_result"
    }
   ],
   "source": [
    "%%time\n",
    "\n",
    "classifier.fit(X_train, y_train)"
   ]
  },
  {
   "cell_type": "markdown",
   "metadata": {},
   "source": [
    "### Get model metrics"
   ]
  },
  {
   "cell_type": "code",
   "execution_count": 17,
   "metadata": {},
   "outputs": [],
   "source": [
    "classifier = bestModel"
   ]
  },
  {
   "cell_type": "code",
   "execution_count": 18,
   "metadata": {},
   "outputs": [
    {
     "data": {
      "text/plain": [
       "0.96"
      ]
     },
     "execution_count": 18,
     "metadata": {},
     "output_type": "execute_result"
    }
   ],
   "source": [
    "score = classifier.score(X_test, y_test)\n",
    "score = round(score, 3)\n",
    "score"
   ]
  },
  {
   "cell_type": "code",
   "execution_count": 19,
   "metadata": {},
   "outputs": [],
   "source": [
    "train_predictions = classifier.predict(X_train)\n",
    "test_predictions = classifier.predict(X_test)\n",
    "prediction_probs = classifier.predict_proba(X_test)"
   ]
  },
  {
   "cell_type": "code",
   "execution_count": 20,
   "metadata": {},
   "outputs": [],
   "source": [
    "test_predictions = test_predictions.astype(cp.int16)\n",
    "y_test_int = y_test.astype(cp.int16)"
   ]
  },
  {
   "cell_type": "code",
   "execution_count": 21,
   "metadata": {},
   "outputs": [
    {
     "name": "stdout",
     "output_type": "stream",
     "text": [
      "Train Performance\n",
      "-------------------------------------------------------\n",
      "              precision    recall  f1-score   support\n",
      "\n",
      "         0.0       1.00      1.00      1.00       387\n",
      "         1.0       1.00      1.00      1.00       413\n",
      "\n",
      "    accuracy                           1.00       800\n",
      "   macro avg       1.00      1.00      1.00       800\n",
      "weighted avg       1.00      1.00      1.00       800\n",
      "\n",
      "Test Performance\n",
      "-------------------------------------------------------\n",
      "              precision    recall  f1-score   support\n",
      "\n",
      "         0.0       0.96      0.96      0.96       113\n",
      "         1.0       0.95      0.95      0.95        87\n",
      "\n",
      "    accuracy                           0.96       200\n",
      "   macro avg       0.96      0.96      0.96       200\n",
      "weighted avg       0.96      0.96      0.96       200\n",
      "\n",
      "Test Recall\n",
      "-------------------------------------------------------\n",
      "0.9646017699115044\n",
      "Confusion Matrix\n",
      "-------------------------------------------------------\n",
      "[[109   4]\n",
      " [  4  83]]\n"
     ]
    }
   ],
   "source": [
    "print('Train Performance')\n",
    "print('-------------------------------------------------------')\n",
    "print(classification_report(y_train.to_array(), train_predictions.to_array()))\n",
    "print('Test Performance')\n",
    "print('-------------------------------------------------------')\n",
    "print(classification_report(y_test.to_array(), test_predictions.to_array()))\n",
    "cm = confusion_matrix(y_test_int.to_array(), test_predictions.to_array())\n",
    "recall = (cm[0][0] / (cm[0][0] + cm[0][1]))\n",
    "print('Test Recall')\n",
    "print('-------------------------------------------------------')\n",
    "print(recall)\n",
    "print('Confusion Matrix')\n",
    "print('-------------------------------------------------------')\n",
    "print(cm)"
   ]
  },
  {
   "cell_type": "code",
   "execution_count": 22,
   "metadata": {},
   "outputs": [
    {
     "name": "stdout",
     "output_type": "stream",
     "text": [
      "CPU times: user 24.7 s, sys: 72.8 ms, total: 24.8 s\n",
      "Wall time: 1.21 s\n"
     ]
    }
   ],
   "source": [
    "%%time\n",
    "permutation_importance_results = permutation_importance(classifier,\n",
    "                                                        X=X_test,\n",
    "                                                        y=y_test,\n",
    "                                                        n_repeats=10,\n",
    "                                                        random_state=42)"
   ]
  },
  {
   "cell_type": "code",
   "execution_count": 23,
   "metadata": {},
   "outputs": [
    {
     "data": {
      "text/plain": [
       "Text(0.5, 0, 'Permutation Importance')"
      ]
     },
     "execution_count": 23,
     "metadata": {},
     "output_type": "execute_result"
    },
    {
     "data": {
      "image/png": "[encoded data removed]",
      "text/plain": [
       "<Figure size 576x576 with 1 Axes>"
      ]
     },
     "metadata": {
      "needs_background": "light"
     },
     "output_type": "display_data"
    }
   ],
   "source": [
    "sorted_idx = permutation_importance_results.importances_mean.argsort()\n",
    "plt.figure(figsize=(8, 8))\n",
    "plt.barh(X_test.columns[sorted_idx], permutation_importance_results.importances_mean[sorted_idx])\n",
    "plt.xlabel(\"Permutation Importance\")"
   ]
  },
  {
   "cell_type": "code",
   "execution_count": 24,
   "metadata": {},
   "outputs": [],
   "source": [
    "del X_train, X_test, y_train, y_test, test_predictions, train_predictions, prediction_probs, y_test_int"
   ]
  },
  {
   "cell_type": "markdown",
   "metadata": {},
   "source": [
    "## Save the model for future use"
   ]
  },
  {
   "cell_type": "code",
   "execution_count": 25,
   "metadata": {},
   "outputs": [
    {
     "name": "stdout",
     "output_type": "stream",
     "text": [
      "Saving model to: ./water_classifier_rf_gpu.sav\n",
      "RandomForestClassifier()\n"
     ]
    },
    {
     "data": {
      "text/plain": [
       "['./water_classifier_rf_gpu.sav']"
      ]
     },
     "execution_count": 25,
     "metadata": {},
     "output_type": "execute_result"
    }
   ],
   "source": [
    "model_save_path = './water_classifier_rf_gpu.sav'\n",
    "print('Saving model to: {}'.format(model_save_path))\n",
    "print(classifier)\n",
    "joblib.dump(classifier, model_save_path, compress=3)"
   ]
  },
  {
   "cell_type": "markdown",
   "metadata": {},
   "source": [
    "# Testing: Raster testing"
   ]
  },
  {
   "cell_type": "markdown",
   "metadata": {},
   "source": [
    "### Read in data \n",
    "\n",
    "These are modified MOD09GA and MOD09GQ surface reflectance products for the 2001 julian day 155. They were modified to be clipped to the Lake Powell region."
   ]
  },
  {
   "cell_type": "code",
   "execution_count": 26,
   "metadata": {},
   "outputs": [],
   "source": [
    "fileList = sorted([file for file in glob.glob('../data/IL.*.Powell.*.tif') if 'sur_refl' in file])"
   ]
  },
  {
   "cell_type": "code",
   "execution_count": 27,
   "metadata": {},
   "outputs": [],
   "source": [
    "def readRastersToArray(fileList):\n",
    "    rasterProjection = None\n",
    "    newshp = (1300*1300, 10)\n",
    "    img = np.empty(newshp, dtype=np.int16)\n",
    "    for i, fileName in enumerate(fileList):\n",
    "        ds = gdal.Open(fileName)\n",
    "        img[:, i] = ds.GetRasterBand(1).ReadAsArray().astype(np.int16).ravel()\n",
    "        if i == 0:\n",
    "            rasterProjection = ds.GetProjection()\n",
    "        ds = None\n",
    "    img[:, len(fileList)] = ((img[:, 1] - img[:, 0]) / (img[:, 1] + img[:, 0])) * 10000\n",
    "    img[:, len(fileList)+1] = ((img[:, 1] - img[:, 5]) / (img[:, 1] + img[:, 5])) * 10000\n",
    "    img[:, len(fileList)+2] = ((img[:, 1] - img[:, 6]) / (img[:, 1] + img[:, 6])) * 10000\n",
    "    return img, rasterProjection"
   ]
  },
  {
   "cell_type": "code",
   "execution_count": 28,
   "metadata": {},
   "outputs": [
    {
     "name": "stdout",
     "output_type": "stream",
     "text": [
      "Raster as ndarray\n",
      "[[ 1547  2461   857 ...  2280  -518   510]\n",
      " [ 1474  2377   857 ...  2344  -691   337]\n",
      " [ 1474  2377   846 ...  2344  -472   623]\n",
      " ...\n",
      " [ 2358  2979  1028 ...  1163 -1727 -1292]\n",
      " [ 2425  3069  1117 ...  1172 -1721 -1216]\n",
      " [ 2402  3038  1117 ...  1169 -1770 -1266]]\n",
      "33.8 MB size\n",
      "CPU times: user 248 ms, sys: 27.2 ms, total: 276 ms\n",
      "Wall time: 612 ms\n"
     ]
    }
   ],
   "source": [
    "%%time\n",
    "im, rasterProjection = readRastersToArray(fileList)\n",
    "print('Raster as ndarray')\n",
    "print(im)\n",
    "print('{} MB size'.format((im.size * im.itemsize) / 1000000))"
   ]
  },
  {
   "cell_type": "markdown",
   "metadata": {},
   "source": [
    "### Load in the model"
   ]
  },
  {
   "cell_type": "code",
   "execution_count": 29,
   "metadata": {},
   "outputs": [],
   "source": [
    "def predictRaster(img_chunk, colsToDrop=None):\n",
    "    \"\"\"\n",
    "    Function given a raster in the form of a nxn matrix, will\n",
    "    convert the matrix to a GPU-bound data frame then perform \n",
    "    predictions given the loaded model.\n",
    "    \n",
    "    Return the prediction matrix, the prediction probabilities\n",
    "    for each and the dataframe converted to host.\n",
    "    \"\"\"\n",
    "    print('Converting host array to GPU-based dataframe')\n",
    "    df = cudf.DataFrame(cp.asarray(img_chunk), columns=v_names, dtype=cp.float32)\n",
    "    df = df.drop(columns=columnsToDrop)\n",
    "    print('Making predictions from raster')\n",
    "    predictions = classifier.predict(df)\n",
    "    predictionsProbs = classifier.predict_proba(df)\n",
    "    print('Converting GPU-bound predictions to host')\n",
    "    predictionsPandas = predictions.to_pandas().astype(np.int16)\n",
    "    predictionsProbaPandas = predictionsProbs.to_pandas().astype(np.float32)\n",
    "    predictions = None\n",
    "    predictionsProbs = None\n",
    "    return predictionsPandas, predictionsProbaPandas, df.to_pandas()"
   ]
  },
  {
   "cell_type": "code",
   "execution_count": 30,
   "metadata": {},
   "outputs": [
    {
     "name": "stdout",
     "output_type": "stream",
     "text": [
      "Converting host array to GPU-based dataframe\n",
      "Making predictions from raster\n",
      "Converting GPU-bound predictions to host\n",
      "CPU times: user 962 ms, sys: 84.5 ms, total: 1.05 s\n",
      "Wall time: 242 ms\n"
     ]
    }
   ],
   "source": [
    "%%time\n",
    "predictedRaster, predictedProbaRaster, df = predictRaster(im)"
   ]
  },
  {
   "cell_type": "markdown",
   "metadata": {},
   "source": [
    "### Description of the predicted probability for each pixel in the raster (no bad-data vals masked yet)"
   ]
  },
  {
   "cell_type": "code",
   "execution_count": 31,
   "metadata": {},
   "outputs": [],
   "source": [
    "predictedProbaRaster = predictedProbaRaster.values"
   ]
  },
  {
   "cell_type": "code",
   "execution_count": 32,
   "metadata": {},
   "outputs": [],
   "source": [
    "shp = (1300, 1300)\n",
    "left = list()\n",
    "right = list()\n",
    "for i, subarr in enumerate(predictedProbaRaster):\n",
    "    left.append(subarr[0])\n",
    "    right.append(subarr[1])\n",
    "leftArr = np.asarray(left)\n",
    "rightArr = np.asarray(right)\n",
    "probaLand = leftArr.reshape(shp)\n",
    "probaWater = rightArr.reshape(shp)"
   ]
  },
  {
   "cell_type": "markdown",
   "metadata": {},
   "source": [
    "#### Reshape the unravelled matrix back to the 4800x4800 raster shape"
   ]
  },
  {
   "cell_type": "code",
   "execution_count": 33,
   "metadata": {},
   "outputs": [
    {
     "data": {
      "text/plain": [
       "(1300, 1300)"
      ]
     },
     "execution_count": 33,
     "metadata": {},
     "output_type": "execute_result"
    }
   ],
   "source": [
    "shp = (1300, 1300)\n",
    "matrix = np.asarray(predictedRaster)\n",
    "reshp = matrix.reshape(shp)\n",
    "reshp.shape"
   ]
  },
  {
   "cell_type": "markdown",
   "metadata": {},
   "source": [
    "Add QA mask to prediction"
   ]
  },
  {
   "cell_type": "code",
   "execution_count": 34,
   "metadata": {},
   "outputs": [
    {
     "data": {
      "text/plain": [
       "array([[1, 1, 1, ..., 1, 1, 1],\n",
       "       [1, 1, 1, ..., 1, 1, 1],\n",
       "       [1, 1, 1, ..., 1, 1, 1],\n",
       "       ...,\n",
       "       [0, 0, 0, ..., 0, 0, 0],\n",
       "       [0, 0, 0, ..., 0, 0, 0],\n",
       "       [0, 0, 0, ..., 0, 0, 0]], dtype=int16)"
      ]
     },
     "execution_count": 34,
     "metadata": {},
     "output_type": "execute_result"
    }
   ],
   "source": [
    "qa = [file for file in glob.glob('../data/*.tif') if 'qa' in file][0]\n",
    "ds = gdal.Open(qa)\n",
    "qaMask = ds.GetRasterBand(1).ReadAsArray()\n",
    "output = np.where(qaMask == 0, reshp, -9999)\n",
    "qaMask"
   ]
  },
  {
   "cell_type": "code",
   "execution_count": 35,
   "metadata": {},
   "outputs": [
    {
     "name": "stdout",
     "output_type": "stream",
     "text": [
      "Predicted\n",
      " No-data occuraces: 61568\n",
      " Land occurances: 1615960\n",
      " Water occurances: 12472\n"
     ]
    }
   ],
   "source": [
    "countNoData = np.count_nonzero(output == -9999)\n",
    "countLand = np.count_nonzero(output == 0)\n",
    "countWater = np.count_nonzero(output == 1)\n",
    "print('Predicted\\n No-data occuraces: {}\\n Land occurances: {}\\n Water occurances: {}'.format(countNoData, countLand, countWater))"
   ]
  },
  {
   "cell_type": "markdown",
   "metadata": {},
   "source": [
    "## Output predicted raster to GeoTiff"
   ]
  },
  {
   "cell_type": "code",
   "execution_count": 36,
   "metadata": {},
   "outputs": [],
   "source": [
    "predictedPath = os.path.join(outputRasterPath, 'PowellPredictedWaterMask.tif')\n",
    "\n",
    "driver = gdal.GetDriverByName('GTiff')\n",
    "outDs = driver.Create(predictedPath, 1300, 1300, 1, gdal.GDT_Int16, options=['COMPRESS=LZW'])\n",
    "outDs.SetGeoTransform((-9961223.407, 231.65635, 0.0, 4285642.633667, 0.0, -231.65635))\n",
    "outDs.SetProjection(rasterProjection)\n",
    "outBand = outDs.GetRasterBand(1)\n",
    "outBand.WriteArray(output)\n",
    "outBand.SetNoDataValue(-9999)\n",
    "outDs.FlushCache()\n",
    "outDs = None\n",
    "outBand = None\n",
    "driver = None"
   ]
  },
  {
   "cell_type": "markdown",
   "metadata": {},
   "source": [
    "## View predictions with Folium"
   ]
  },
  {
   "cell_type": "code",
   "execution_count": 37,
   "metadata": {},
   "outputs": [],
   "source": [
    "import folium\n",
    "from folium import plugins\n",
    "\n",
    "sys.path.append('../scripts')\n",
    "import folium_helper"
   ]
  },
  {
   "cell_type": "code",
   "execution_count": 38,
   "metadata": {},
   "outputs": [
    {
     "name": "stdout",
     "output_type": "stream",
     "text": [
      "Transform: | 491.82, 0.00,-12749861.52|\n",
      "| 0.00,-491.82, 4656230.30|\n",
      "| 0.00, 0.00, 1.00|\n",
      "Width: 1670 Height: 770\n"
     ]
    }
   ],
   "source": [
    "mask_3857 = folium_helper.reproject_to_3857(predictedPath)\n",
    "mask_d = folium_helper.get_bounds(mask_3857)\n",
    "mask_b1 = folium_helper.open_and_get_band(mask_3857, 1)\n",
    "folium_helper.cleanup(mask_3857)\n",
    "mask_b1 = np.where(mask_b1 == -9999, 0, mask_b1)\n",
    "zeros = np.zeros_like(mask_b1)\n",
    "mask_rgb = np.dstack((mask_b1, zeros, zeros))"
   ]
  },
  {
   "cell_type": "code",
   "execution_count": 39,
   "metadata": {},
   "outputs": [],
   "source": [
    "m = folium.Map(location=[mask_d['center'][1], mask_d['center'][0]],\n",
    "                   tiles='https://mt1.google.com/vt/lyrs=s&x={x}&y={y}&z={z}', zoom_start = 6, control_scale=True, attr='Google')"
   ]
  },
  {
   "cell_type": "code",
   "execution_count": 40,
   "metadata": {},
   "outputs": [
    {
     "data": {
      "text/html": [
       "<div style=\"width:100%;\"><div style=\"position:relative;width:100%;height:0;padding-bottom:60%;\"><span style=\"color:#565656\">Make this Notebook Trusted to load map: File -> Trust Notebook</span><iframe src=\"about:blank\" style=\"position:absolute;width:100%;height:100%;left:0;top:0;border:none !important;\" data-html=%3C%21DOCTYPE%20html%3E%0A%3Chead%3E%20%20%20%20%0A%20%20%20%20%3Cmeta%20http-equiv%3D%22content-type%22%20content%3D%22text/html%3B%20charset%3DUTF-8%22%20/%3E%0A%20%20%20%20%0A%20%20%20%20%20%20%20%20%3Cscript%3E%0A%20%20%20%20%20%20%20%20%20%20%20%20L_NO_TOUCH%20%3D%20false%3B%0A%20%20%20%20%20%20%20%20%20%20%20%20L_DISABLE_3D%20%3D%20false%3B%0A%20%20%20%20%20%20%20%20%3C/script%3E%0A%20%20%20%20%0A%20%20%20%20%3Cstyle%3Ehtml%2C%20body%20%7Bwidth%3A%20100%25%3Bheight%3A%20100%25%3Bmargin%3A%200%3Bpadding%3A%200%3B%7D%3C/style%3E%0A%20%20%20%20%3Cstyle%3E%23map%20%7Bposition%3Aabsolute%3Btop%3A0%3Bbottom%3A0%3Bright%3A0%3Bleft%3A0%3B%7D%3C/style%3E%0A%20%20%20%20%3Cscript%20src%3D%22https%3A//cdn.jsdelivr.net/npm/leaflet%401.6.0/dist/leaflet.js%22%3E%3C/script%3E%0A%20%20%20%20%3Cscript%20src%3D%22https%3A//code.jquery.com/jquery-1.12.4.min.js%22%3E%3C/script%3E%0A%20%20%20%20%3Cscript%20src%3D%22https%3A//maxcdn.bootstrapcdn.com/bootstrap/3.2.0/js/bootstrap.min.js%22%3E%3C/script%3E%0A%20%20%20%20%3Cscript%20src%3D%22https%3A//cdnjs.cloudflare.com/ajax/libs/Leaflet.awesome-markers/2.0.2/leaflet.awesome-markers.js%22%3E%3C/script%3E%0A%20%20%20%20%3Clink%20rel%3D%22stylesheet%22%20href%3D%22https%3A//cdn.jsdelivr.net/npm/leaflet%401.6.0/dist/leaflet.css%22/%3E%0A%20%20%20%20%3Clink%20rel%3D%22stylesheet%22%20href%3D%22https%3A//maxcdn.bootstrapcdn.com/bootstrap/3.2.0/css/bootstrap.min.css%22/%3E%0A%20%20%20%20%3Clink%20rel%3D%22stylesheet%22%20href%3D%22https%3A//maxcdn.bootstrapcdn.com/bootstrap/3.2.0/css/bootstrap-theme.min.css%22/%3E%0A%20%20%20%20%3Clink%20rel%3D%22stylesheet%22%20href%3D%22https%3A//maxcdn.bootstrapcdn.com/font-awesome/4.6.3/css/font-awesome.min.css%22/%3E%0A%20%20%20%20%3Clink%20rel%3D%22stylesheet%22%20href%3D%22https%3A//cdnjs.cloudflare.com/ajax/libs/Leaflet.awesome-markers/2.0.2/leaflet.awesome-markers.css%22/%3E%0A%20%20%20%20%3Clink%20rel%3D%22stylesheet%22%20href%3D%22https%3A//cdn.jsdelivr.net/gh/python-visualization/folium/folium/templates/leaflet.awesome.rotate.min.css%22/%3E%0A%20%20%20%20%0A%20%20%20%20%20%20%20%20%20%20%20%20%3Cmeta%20name%3D%22viewport%22%20content%3D%22width%3Ddevice-width%2C%0A%20%20%20%20%20%20%20%20%20%20%20%20%20%20%20%20initial-scale%3D1.0%2C%20maximum-scale%3D1.0%2C%20user-scalable%3Dno%22%20/%3E%0A%20%20%20%20%20%20%20%20%20%20%20%20%3Cstyle%3E%0A%20%20%20%20%20%20%20%20%20%20%20%20%20%20%20%20%23map_66dd9857a0c64dbe8b1f6094b6c9ab60%20%7B%0A%20%20%20%20%20%20%20%20%20%20%20%20%20%20%20%20%20%20%20%20position%3A%20relative%3B%0A%20%20%20%20%20%20%20%20%20%20%20%20%20%20%20%20%20%20%20%20width%3A%20100.0%25%3B%0A%20%20%20%20%20%20%20%20%20%20%20%20%20%20%20%20%20%20%20%20height%3A%20100.0%25%3B%0A%20%20%20%20%20%20%20%20%20%20%20%20%20%20%20%20%20%20%20%20left%3A%200.0%25%3B%0A%20%20%20%20%20%20%20%20%20%20%20%20%20%20%20%20%20%20%20%20top%3A%200.0%25%3B%0A%20%20%20%20%20%20%20%20%20%20%20%20%20%20%20%20%7D%0A%20%20%20%20%20%20%20%20%20%20%20%20%3C/style%3E%0A%20%20%20%20%20%20%20%20%0A%20%20%20%20%0A%20%20%20%20%20%20%20%20%20%20%20%20%20%20%20%20%3Cstyle%3E%0A%20%20%20%20%20%20%20%20%20%20%20%20%20%20%20%20%20%20%20%20.leaflet-image-layer%20%7B%0A%20%20%20%20%20%20%20%20%20%20%20%20%20%20%20%20%20%20%20%20%20%20%20%20/%2A%20old%20android/safari%2A/%0A%20%20%20%20%20%20%20%20%20%20%20%20%20%20%20%20%20%20%20%20%20%20%20%20image-rendering%3A%20-webkit-optimize-contrast%3B%0A%20%20%20%20%20%20%20%20%20%20%20%20%20%20%20%20%20%20%20%20%20%20%20%20image-rendering%3A%20crisp-edges%3B%20/%2A%20safari%20%2A/%0A%20%20%20%20%20%20%20%20%20%20%20%20%20%20%20%20%20%20%20%20%20%20%20%20image-rendering%3A%20pixelated%3B%20/%2A%20chrome%20%2A/%0A%20%20%20%20%20%20%20%20%20%20%20%20%20%20%20%20%20%20%20%20%20%20%20%20image-rendering%3A%20-moz-crisp-edges%3B%20/%2A%20firefox%20%2A/%0A%20%20%20%20%20%20%20%20%20%20%20%20%20%20%20%20%20%20%20%20%20%20%20%20image-rendering%3A%20-o-crisp-edges%3B%20/%2A%20opera%20%2A/%0A%20%20%20%20%20%20%20%20%20%20%20%20%20%20%20%20%20%20%20%20%20%20%20%20-ms-interpolation-mode%3A%20nearest-neighbor%3B%20/%2A%20ie%20%2A/%0A%20%20%20%20%20%20%20%20%20%20%20%20%20%20%20%20%20%20%20%20%7D%0A%20%20%20%20%20%20%20%20%20%20%20%20%20%20%20%20%3C/style%3E%0A%20%20%20%20%20%20%20%20%20%20%20%20%0A%20%20%20%20%3Cscript%20src%3D%22https%3A//cdn.jsdelivr.net/gh/ardhi/Leaflet.MousePosition/src/L.Control.MousePosition.min.js%22%3E%3C/script%3E%0A%20%20%20%20%3Clink%20rel%3D%22stylesheet%22%20href%3D%22https%3A//cdn.jsdelivr.net/gh/ardhi/Leaflet.MousePosition/src/L.Control.MousePosition.min.css%22/%3E%0A%3C/head%3E%0A%3Cbody%3E%20%20%20%20%0A%20%20%20%20%0A%20%20%20%20%20%20%20%20%20%20%20%20%3Cdiv%20class%3D%22folium-map%22%20id%3D%22map_66dd9857a0c64dbe8b1f6094b6c9ab60%22%20%3E%3C/div%3E%0A%20%20%20%20%20%20%20%20%0A%3C/body%3E%0A%3Cscript%3E%20%20%20%20%0A%20%20%20%20%0A%20%20%20%20%20%20%20%20%20%20%20%20var%20map_66dd9857a0c64dbe8b1f6094b6c9ab60%20%3D%20L.map%28%0A%20%20%20%20%20%20%20%20%20%20%20%20%20%20%20%20%22map_66dd9857a0c64dbe8b1f6094b6c9ab60%22%2C%0A%20%20%20%20%20%20%20%20%20%20%20%20%20%20%20%20%7B%0A%20%20%20%20%20%20%20%20%20%20%20%20%20%20%20%20%20%20%20%20center%3A%20%5B37.1868364898923%2C%20-110.84485924937243%5D%2C%0A%20%20%20%20%20%20%20%20%20%20%20%20%20%20%20%20%20%20%20%20crs%3A%20L.CRS.EPSG3857%2C%0A%20%20%20%20%20%20%20%20%20%20%20%20%20%20%20%20%20%20%20%20zoom%3A%206%2C%0A%20%20%20%20%20%20%20%20%20%20%20%20%20%20%20%20%20%20%20%20zoomControl%3A%20true%2C%0A%20%20%20%20%20%20%20%20%20%20%20%20%20%20%20%20%20%20%20%20preferCanvas%3A%20false%2C%0A%20%20%20%20%20%20%20%20%20%20%20%20%20%20%20%20%7D%0A%20%20%20%20%20%20%20%20%20%20%20%20%29%3B%0A%20%20%20%20%20%20%20%20%20%20%20%20L.control.scale%28%29.addTo%28map_66dd9857a0c64dbe8b1f6094b6c9ab60%29%3B%0A%0A%20%20%20%20%20%20%20%20%20%20%20%20%0A%0A%20%20%20%20%20%20%20%20%0A%20%20%20%20%0A%20%20%20%20%20%20%20%20%20%20%20%20var%20tile_layer_eb1fb08b86a44f33bf7d6ef1bcd4bd4d%20%3D%20L.tileLayer%28%0A%20%20%20%20%20%20%20%20%20%20%20%20%20%20%20%20%22https%3A//mt1.google.com/vt/lyrs%3Ds%5Cu0026x%3D%7Bx%7D%5Cu0026y%3D%7By%7D%5Cu0026z%3D%7Bz%7D%22%2C%0A%20%20%20%20%20%20%20%20%20%20%20%20%20%20%20%20%7B%22attribution%22%3A%20%22Google%22%2C%20%22detectRetina%22%3A%20false%2C%20%22maxNativeZoom%22%3A%2018%2C%20%22maxZoom%22%3A%2018%2C%20%22minZoom%22%3A%200%2C%20%22noWrap%22%3A%20false%2C%20%22opacity%22%3A%201%2C%20%22subdomains%22%3A%20%22abc%22%2C%20%22tms%22%3A%20false%7D%0A%20%20%20%20%20%20%20%20%20%20%20%20%29.addTo%28map_66dd9857a0c64dbe8b1f6094b6c9ab60%29%3B%0A%20%20%20%20%20%20%20%20%0A%20%20%20%20%0A%20%20%20%20%20%20%20%20%20%20%20%20var%20image_overlay_8dfce59bb3b84245b04a11d49ded9b61%20%3D%20L.imageOverlay%28%0A%20%20%20%20%20%20%20%20%20%20%20%20%20%20%20%20%22data%3Aimage/png%3Bbase64%2CiVBORw0KGgoAAAANSUhEUgAABoYAAAMCCAYAAABEBXSBAAAmSklEQVR42uzd0W7bOBBAUf3/T09fi0CySIqUyOF5OEDRJJY9suOsbqZ7HMcRAADkFBfMBgAAALZlCAAAohAAAAAgDAEAkCYKmQsAAAAgDAEAbBKHVrnPzh0AAAAIQwAANEYh8wAAAACEIQCA5FFoxQ0cIQsAAACEIQAANgtb5gAAAADCEAAAAAAAAMIQAAAAAAAAwhAAAAAAAADCEAAAAAAAgDAEAAAAAACAMAQAAAAAAIAwBAAAAAAAgDAEAAAAAACAMAQAAAAAAIAwBAAAAAAAgDAEAAAAAACAMAQAcC7MAAAAAMAQAAAAAAAAhCEAAAAAAACEIQAAAAAAAIQhAAAAAAAAhCEAAAAAAACEIQAAAAAAAIQhAAAAAAAAhCEAAAAAAACEIQAAAAAAAIQhAAAAAAAAYQgAAAAAAABhCAAAAAAAAGEIAAAAAAAAYQgAAAAAAABhCAAAAAAAAGEIAAAAAAAAYQgAAAAAAABhCAAAAAAAAGEIAAAAAAAAYQgAAAAAAEAYAgAAAAAAQBgCAAAAAABAGAIAAAAAAEAYAgAAAAAAQBgCAAAAAABAGAIAAAAAAEAYAgAAAAAAQBgCAAAAAABAGAIAAAAAABCGAAAAAAAAEIYAAAAAAAAQhgAAAAAAABCGAAAAAAAAEIYAAAAAAAAQhgAAAAAAABCGAAAAAAAAEIYAAAAAAAAQhgAAAAAAABCGAAAAAAAAhCEAAAAAAACEIQAAAAAAAIQhAAAAAAAAhCEAAAAAAACEIQAAAAAAAIQhAAAAAAAAhCEA4BPxH/MAAAAAEIYAgE3CkDgEAAAAIAwBADaGAAAAABCGAIAsm0LCEAAAAIAwBABsFIbEIQAAAABhCADYJA6ZCQAAAIAwBABssjFkLgAAAADCEAAgDAEAAAAgDAEAwhAAAAAAwhAAsEQUMg8AAAAAYQgAEIcAAAAAEIYAgGxhSBwCAAAAEIYAgI3CkDgEAAAAIAwBALaGAAAAABCGAIBsccg8AAAAAIQhAGCTOGQWAAAAAMIQACAOAQAAACAMAQDCEAAAAADCEACwXBgyBwAAAABhCACwMQQAAACAMAQAAAAAAIAwBMA0WyDmAAAAAADCEAAbRKEQhwAAAABAGALAthAAAAAAIAwBkGRTyCzw3AcAAAAQhgDYYEvIBXJ2DkOe%2BwAAAIAwBICL4rDRa8DrAAAAABCGANhiWwiEUQAAAABhCABhCIQhAAAAAGEIACBHFBKGAAAAAGEIAEAYAgAAABCGAAAyhSHzAAAAAIQhAABhCAAAAEAYAgDIEIREIQAAAEAYAgAQhgAAAACEIQCATFFIGAIAAACEIQCADcKQeQAAAADCEACAMAQAAAAgDAEACEIAAAAAwhAAwBJRSBgCAAAAEIYAgM3ikEAEAAAACEMAAMnDkFkAAAAACEMAQNIYJAwBAAAACEMAwEZbQiEMAQAAAAhDAMB%2BkcgsAAAAAIQhAAAAAAAAYQgAAAAAAABhCAAAAAAAAGEIAAAAAAAAYQgAAAAAAABhCAAAAAAAAGEIAAAAAAAAYQgAAAAAAABhCAAAAAAAAGEIAAAAAABAGAIAAAAAAEAYAgAAAAAAQBgCAAAAAABAGAIAAAAAAEAYAgAAAAAAQBgCAIAdhBkAAAAgDAEAgDAEAAAAwhAAAAAAAADCEAAAAAAAAMIQAAAAAAAAwhAAAAAAAIAwBAAAAAAAgDAEAAAAAACAMAQAwFLCDAAAAEAYAgBAGAIAAACEIQAAAAAAAIQhAAAAAAAAhCEAAAAAAACEIQAAAAAAAIQhAAAAAAAAhCEAAAAAAACEIQAAphBmAAAAAMIQAAD5g1AIQwAAACAMAQCwTxQShgAAAEAYAgDAxhAAAAAgDAEAAAAAACAMAQAAAAAAIAwBAKwuzAAAAAAQhgAAAAAAABCGAAAAAAAAEIYAAAAAAAAQhgAAAAAAADAAAAAAAAAAYQgAAAAAAABhCAAAAAAAAGEIAAAAAAAAYQgAAAAAAABhCAAAAAAAAGEIAAAAAAAAYQgAAAAAAABhCAAAAAAAAGEIAAAAAABAGAIAIKcwAwAAAEAYAgAAAAAAEIYAAAAAAAAQhgAAAAAAABCGAAAAAAAAEIYAAAAAAAAQhgAAAAAAABCGAAAAAAAAEIYAAAAAAAAQhgAAAAAAABCGAAAAAAAAhCEAAAAAAACEIQAAAAAAAIQhAAAAAAAAhCEAAAAAAACEIQAAAAAAAIQhAAAAAAAAhCEAAAAAAACEIQAAAAAAAIQhAAAAAAAAhCEAAAAmE2YAAADCEAAAAAAAAMIQAAAANoYAAABhCAAAAFEIAAAQhgAAAKAgToVgBQCAMAQAAADjwky8eKyr44tBAAAIQwAAADA4CP0fZf7%2B%2Be5rojLwxIP76ZwBACAMAQAAQKco9MZ2EAAACEMAAAAwOALdxSFzAgAAYQgAAICkYUgQAgAAYQgAAIDEcejMDJtLAAAgDAEAAMALcejNGCQMAQAgDAEAAMCHccjGEAAACEMAAAAIQ8OO7TwAACAMAQAAQOI4JAgBACAMAQAAwMdhyDwAAEAYAgAAwLYQAAAgDAEAACAMAQAAwhAAAABLRSFhCAAAhCEAAAASByHzAAAAYQgAAICNNoXMBAAAhCEAAAASRyGzAAAAYQgAAIBNNoXMAwAAhCEAAACEIQAAQBgCAABg9thzF32EIQAAEIYAAABIGomuPm5WAAAgDAEAAJAsENkYAgAAYQgAAIDNNofixzaRUAQAAMIQAAAAiaNQ/Pe5ZgYAAMIQAAAAiaNQ2BQCAABhCAAAAFEIAAAQhgAAAFgoDF19/OzzS74WAAAQhgAAAFgoDJVuGJklAAAIQwAAACwQhOKDrwcAAIQhAAAAFglDAACAMAQAAMAiUegsErWEJfMEAABhCACARS4GAzyJPHFxG77XAACAMAQAACBSJgtDAACAMAQAAMCCUSgKPi4eAQCAMAQAAEDSOBQXzAwAAIQhAAAAFgpBf/8cNyFIFAIAAGEIAACAxJtDNoUAAEAYAgAAYMNQJAwBAIAwBAAAgDAEAAAIQwAAAGQKQ%2BYBAADCEAAAAJtsC4lDAAAgDAEAALBJGDITAAAQhgAAAEgehswCAACEIQAAAMQhAABAGAIA%2BPYCpjkAPA9BIQoBAIAwBAAAwF5RSBgCAABhCAAAAHEIAAAQhgAAAMgYhMQhAAAQhgAAAEgehmwMAQCAMAQAAMBmYUggAgAAYQgAmi8wmQ8A2BgCAACEIQBcXAIAJt0W8h4OAADCEACIQwAgDAEAAMIQAC4yuagEAJmikPdxAAAQhgAAAFgoAh03wScKb0cgAgAAYQgAAIBJN4JKNoXMCwAAhCEAAACSxKE4/PNwAAAgDAEAALB1JDIXAAAQhgAAABCGAAAAYQgAAABxCAAAEIYAAABYLg6ZBwAACEMAAADYGAIAAIQhAAAAsoUhgQgAAIQhAAAAbAsBAADCEAAAANk2hswGAACEIQAAAJKHITMBAABhCAAAAFEIAAAQhgAAAFgxAl0xKwAAEIYAAADYJAwJRAAAIAwBQPcLU%2BYAAPOGIfMCAABhCAAAgMWD0F0kMi8AABCGAAAASBaGxCEAABCGAOCzi1XmAADj3k9/RR9RCAAAhCEAAAAW3Ag6jut/Ms6cAABAGAIAACDhxlD8CEcAAIAwBAAAQJKNob9/JwoBAIAwBADLXuQCALxfAgAAwhAAAMDWYUgcAgAAYQgAAIBN4pA5AACAMAQAAIAwBAAACEMAAABkiULCEAAACEMAAAAkij7x5%2B/%2BMi8AABCGAAAASBSI4iIWAQAAwhAAAADJwxAAAIAwBAAAkDQM2RICAACEIQAAgA3CUMnfAQAAwhAAAACJNobEIQAAQBgCAADYMAwBAAAIQwAAAKIQAAAgDAEAACAOAQAAwhAAAADTx6HjJBAJRgAAIAwZAgDNF5tcYALAe9%2Bc20JnnEcAAEAYAuDRBSfzAGDXMBQTRiLv0QAAgDAEAAAweBMnJryPzhkAACAMAdD1t6UBQBTq%2B94YD79OGAIAAIQhAF65MGY2AOz4PvjlL2F4PwYAAIQhAD79jWnzAUAceicMeQ8GAACEIQBsDQFAgjhUcrvefwEAAGEIgE/DkLkA4L3w/c2hv/fHuQEAAIQhAJb7TWkAEIZEIAAAQBgCYPILZOYAgDA09v215VjeowEAAGEIAABggW2hOPmz0AMAAAhDAAAAiePQG8cBAACEIQAAACriUAw%2Blo0hAABAGAIAAFg4DkWnzwEAABCGAAAAGrZySjd13tgaGrmJBAAACEMA8PNCV7hYBcBG731HYfQZFYbCFhEAACAMATBbLDIbAHZ/z4sB75OlX%2B%2B9GAAAEIYAGHqh7BCGANh8czZe%2BgUK77UAAIAwBAAA8HEcioaQFI3Hdi4AAABhCAAAYLINopqQZFMIAAAQhgAAABbcHKrdHqo5rvkDAADCEAAAwAdxqDT69NgcsjEEAAAIQwAAAAtsDdV8Tu3xnAsAAEAYAgAAmCgMlX5%2BNB7X%2BQAAAIQhAACACSJRSxi62xw6u03nAQAAEIYAAAAWjUOlgUgYAgAAhCEAAICJIlFtGPoVe8K2EAAAIAwBAADMHYhKt4t%2BRaJff2/eAACAMAQAADBREHoShkq2iUQiAABAGAIAAJgsDtVs/MTD4zsXAACAMAQAAPBBIIoPwk1pgAIAAIQhAAAAOkcaGz0AAIAwBAAAsMnG0NUGEQAAgDAEAACQPBCZDQAAIAwBAAAkjEKHIAQAAAhDAAAA%2B4QhAAAAYQgAAEAcAgAAEIYAAAAyxSFzAAAAhCEAAIDNwpBIBAAACEMAAADJw9AdcwIAAIQhAACATQKR%2BQAAAMIQAADAJrHo7O/NBwAAEIYAAACShyFRCAAAEIYAAAASxyFzAAAAhCEAAABhCAAAQBgCAAAQhQAAAIQhAAAAYQgAAEAYAgAAeD/8RMPHAAAAhCEAAIDFglBcBKAQhgAAAGEIAAAgbxj6PwQJQwAAgDAEAACQKArVbBABAAAIQwAAAAvHIXMAAACEIQAAgI22hgQiAABAGAIAALA1BAAAIAwBAABkCSy2hgAAAGEIAACgIa6sfv/FIQAAQBgCAABIGofiJAyJRAAAgDAEAABQEVpsDgEAAAhDAACAzaHpQ5Y4BAAACEMAAACbbNwIQwAAgDAEAABQuH0jCgEAAAhDAADARnFo5SjkPAIAAMIQAACAsAUAACAMAQAAjAgrIzd44uJYwhAAACAMAQAAvByH4qX7ecY5BAAAhCEAAICX49LoUBPiEAAAIAwBAAA82/KJxu2fszAzMtiIQgAAgDAEAADwIAr9jS5Pb6clMD3ZRhKGAAAAYQgAAKBz5Gn9mvixmdS6KeRcAQAAwhAAAECHrZyWgFMah1oCjygEAAAIQwAAAB1jUHS4ndrAEy/dNwAAAGEIAADgYbhpiUO/tofi5Lbi4s8AAADCEAAAwKBIVPt1JRs/UejXMQAAAIQhAACAzpFoxNe2RCFhCAAAEIYAAAAGR6EnMaYlDt0dUxgCAACEIQAAgEFx6G6L5%2BnGUcsxxCEAAEAYAgAAmDQsmQUAACAMAQAAJI88whAAACAMAQAALByGoiL6iEL5nxPmAAAAwhAAAJA0Bt39PQAAAAYAAABsshESohEAAIAhAAAAe4SjEIcAAAAMAQAAyBuGhKB9NsIAAABhCAAAEIbMArEJAACEIQAAQBhC2AEAAGEIAAAgVRgSEwAAAIQhAADAxhAAAIAwBAAAIA4BAAAIQwAAAEvGoRljVZgnAAAgDAEAAOwVYrJsNdnOAgAAYQgAAEAYSrhxczZPUQgAAIQhAACAT0PQ7NtCd2FltqAVF/fLthAAAAhDAAAAolDlVk2cfF5MMsfsW1AAACAMAQAALByGVtoMmjGyrLZxBQAACEMAAIAwtPz9nGFjyHMLAACEIQAAAGGow%2BZQ3ASgOL75J/KEIQAAEIYAAACWiUNfbtz0vP%2B/ApEwBAAACEMAAIA4lPgxvB2GPJ8AAEAYAgAA4OO4FYOPJwwBAIAwBAAAsERIWT1qlNz/GHC8OPwTcgAAIAwBAAAwVRQatTV0CEMAACAMAQAAZIwqGe7/iA0fUQgAAIQhAACA6YNKpsdRG3tKPjd%2B/FkMAgAAYQgAAEAY%2BnBrqGV76O62RCAAABCGDAEAAEgTUzLGoSdRKS62kIQhAAAQhgAAALYLKZkeT9gQAgAAhCEAACBbAHry8RXDUE3YEYUAAABhCAAAsDG0eBSKB7fl%2BQEAAAhDAADAkptCURmGVg1GNn4AAABhCAAAFr24bxbfRJSYYHOm5jnQc1MIAABAGAIAAHEofRi62zia5Tlwt90kDAEAAMIQAAAsGi3MYexcz/4cE8e5qOBcAwAAwhAAANgW4iKy/IpGtVtGT89z6UaQIAQAAAhDAAAgDFEYdOImEPWOQzURqCUMOc8ANoQBQBgCAABRaNsLUNG4cRMFIacm4JRGprvjCkMAAIAwBAAAyX4zeHQUik1nHoUbP3ETlEo/ryTgROXzouZxAAAACEMAADBRpLjbIPnq%2BDttYUXhnKIgMLUa/TgAAACEIQAAmDQU/Y0QIzZ/dgpD0WFWNectXnxcXjsAAIAwBAAAiQJR7xgQG8ahkWGo9LwJOwAAgDAEAAB8Foeiw9bRijN9e%2BMLAABAGAIAAJojzlvxafWtlng5DAEAAAhDAADA1BsoWcNQ2OABAAAQhgAAYPWwEYOPkzkMeV4BAAAIQwAAMG3YqNnqGbk1FAvGov8fjygEAAAgDAEAgO2hgu2aFaPQcfE4BCIAAABhCAAAltp8eTMKHSfHXnFuKwUtAAAAYQgAAEShy5Dz1sZQ72O%2BuWUlDgEAAAhDAACQLhaNiCkjQtTomaxwnwEAAIQhAACgaqsnXjpGLDoXcQgAAEAYAgCAVGHorTj05PaOwffzbj7iEAAAgDAEAABpwlAMOkbv%2B97ra%2B8evyAEAAAgDAEAwPJBqEf0iMpj9QhYNfendgtIGAIAABCGAAAgbSRqiS%2BlGzy9bvcqMEVhqIpGv%2Bbl%2BQMAACAMAQCwaVjJskF0tzFTGoZaokvp157NPh48rqvtJgAAAIQhAABIE4JKN3PugklJUIrG2%2Bplx%2BAHAAAgDAEAAEUbNiXRpyQO1Qabr4MQAAAAwhAAAKTaFKqNMq23XxNvao5bs/HUuhEkLAEAAAhDAACwZRiKxtt/c9NHxAEAABCGAADg8wjz9jFL/hyNWzelWza/bmdkHAIAAEAYAgCALeLQVYA5jvr/b1Dc3F7rtlBLQLIxBAAAIAwBAMCr2zcz3E5pGCoJMLWfX7LFEwXHO25CUGtYs2EEAAAgDAEAwFRbQ/HiceKF0FOzLfQk5Ag%2BAOB9EgBhCAAAloxDM20N3QWc1thjewcAAABhCACArTeFvtwaqo1D0fg1Ix%2Bj7SIAAABhCAAAlg5E0fkYT2NOrzDknAMAACAMAQAgEL2wVdPT09t1zgEAABCGAABgYBDqGYme3JbzAgAAgDAEAMDW8eYYGE3%2BRpmvt4XEIQAAAIQhAAD4seXT6/ZmiEPOMQAAAMIQAAAMDEyzcX4AAAAQhgAAEHM6bxT13BISggAAABCGAAAQcAZt95RuAK2wQXQWqgAAAEAYAgBg%2BhA0YhOmJvo83cixNQQAAIAwBAAAheFkxObLW8Hl7RAkCgEAACAMAQCw7IbQ6C2Yt7Zwrm6n93aQrSEAAACEIQAA0m0RxcXn995UenL7d2Go9JjiEAAAAMIQAABbx6GrbaPSraSW47yxLdQjkh0/opZQBAAAgDAEAMBygejq47%2BCyBNvbj%2B1bjXV3BfPKwAAAIQhAACWjEMlHxOHBCKAld8DzQEAEIYAANg%2BDJUGk6uPjQ5CPcJT70AFAAAAwhAAAOni0JOg1GsbpzZEldyW30IHAABAGAIAQCDqEId6hZi726i9fRtDAAAACEMAAIhDndTe9tnGzd%2BwdLeN0xJ6RCEAAACEIQAAqAxGLbfR67avglLL43O%2BAQAAEIYAAKBzvHnjvtZ%2BnjAEAACAMAQAAAVxqPbrZ3%2BMzjUA5P%2BZxhwAEIYAAGBwGBKHAAAAEIYAAGDhKBSNtyUIAQCz/Zzj5wYAhCEAALiIQyIMAJDpZxxzAEAYAgCAgWHIBRkAAACEIQAAWCAKxYDbNGMAAACEIQAASL4xdHZ7QhEAAADCEAAALLI1VLNdZGMIAAAAYQgAACaPQlHw8ZqI9MZ2EgAAAAhDAADQaWNoRBwydwCg588y5gCAMAQAABVRqOViS%2BtWkI0hAAAAhCEAAJg0DJXGoTjqo49ABAAAgDAEAAAvRaG/QScaA048uA9hkwgAAABhCAAA3t8YEmYAAABAGAIAYIMo9GsDKF6%2BX84PAAAAwhAAALwYYeKDSPPFMQEAAEAYAgAAAAAAQBgCAIAZNpoAAABAGAIAAEEIAAAAhCEAAAAAAACEIQAAsDUEAAAAwhAAAALMd/dLHAIAAEAYAgAA0QoAAACEIQAAyBaGxCEAAACEIQAAEIkAAABAGAIAgF1CkTkAAAAgDAEAgDAEAOBnCwCEIQAAXOB489iR9LEBAACAMAQAgDD0cnQKkQgAAABhCAAAxC8AAAAQhgAAQCgCAAAAYQgAAMQhAIB9fl7yMxOAMAQAgP/gF4cAAPycCIAwBACAKAIAQLYwJBABCEMAAOC3YQEAAEAYAgAAAIC8v0Til0kAEIYAAJj6IoY5mBcAYMMYAGEIAABhAwBg2p9FZg0xft7y/x0CEIYAAAAAYJPwIoYAIAwBAOACCwCAn10AQBgCAAAAAAAQhgAAwG/fAgD4%2BQUAYQgAAAAAAABhCAAAmn7LNvy2LQAAAAhDAAAAAAAACEMAAAAAwJ9NbHMAQBgCAAAAAHEIAIQhAAAAAAAAYQgAAAAAsD0EgDAEAAAAAMwfekIcAkAYAgAAAADbOiX3UVQCEIYAAAAAgMVDT1x8TQhCAMIQAAAAALBXXBKGAIQhAAAAAEi/UQMAwhAAAAAAALaqAGEIAAAAALANBYAwBAAAAAAiCgAIQwAAAAAAAAhDAAAAAAAACEMAAAAAAAAIQwAAAAAAAAhDAAAAAMCVMAMADAAAAAAA8oegEIYAEIYAAAAAQDwKG0UAwhAAAAAAsPeWEQDCEAAAAAAAAMIQAAAAAAAAwhAAAAAAAADCEAAAAAAAAMIQAAAAAAAAwhAAAAAAAADCEAAAAAAwTJgBgDAEAAAAAACAMAQAgN/MBAAAAIQhAAAAEOQBAEAYAgAAAAAAQBgCAAAAm0AAvl8CIAwBAAAAAAAgDAEAAAAAACAMAQAAAABVwgwAhCEAAAAAEA0AQBgCAAAAANgmjIqjgDAEAAAAALDBllyIQ4AwBAAAAACQf0voihkBwhAAAAAA0H1bBWEIQBgCAAAAgORBwiyEIQBhCAAAAACwcTR4XmcRSBQChCEAAAAAgIQBrXU7SDQChCEAAAAAAACEIQAAAAAAAIQhAAAAABYRZgAAwhAAAAAAohAAIAwBAAAAAAAgDAEAAAAANr0AEIYAAAAAAEEIAGEIAAAAAABAGAIAAAAAbPngfAHCEAAAAACwb2gQMMwTEIYAAAAAgARxIn6EihAyhCFAGAIAAAAAcsSJKPw88wIQhgAAAAAA2yUACEMAAAAAwFsbPeIXAMIQAAAAAIgqQhgAwhAAAAAA2Cxy3wGEIQAAAAAAcQhAGAIAAAAAckUQMcb8AGEIAAAAABgcEgQFAIQhAAAAAKbcKmHcZkl4PDaFAIQhAAAAAFyMznMeMka%2B8BzwWgCEIQAAAABcjMY5HBnYnEsAYQgAAAAAEI8AEIYAAAAAQIj4ao7RYZ7OB4AwBAAAAABTxYvS4%2Bw6X881AGEIAAAAAFsu5mceAAhDAAAAgAu67HDePVcBQBgCAAAAgKkiVHx8fAAQhgAAAAAEDRabZZgTAMIQAAAAAD0v2ruoL7IAgDAEAAAAuHDNsOeF55DXLQDCEAAAAACIN4NuN166/zHxHAAQhgAAAMAFZ0jyvIoFn%2Bdel2YCIAwBAAAAsOyF%2B1joMQgQACAMAQAAALDJRkdpHIpOsxKibAgBCEMAAACAC7w4Z4nnZL7mAyAMAQAAAABMGo7EKgBhCAAAAACxoer2/ye8rHMfRSEzAYQhAAAAwMVD5yvRYw6zXfI5EF5nHgcgDAEAAACwVjCB3htZggqAMAQAAIALhuZgNnhuTxUvwutxyxgpuALCEAAAAOAiPM4vzstGzzevJ0AYAgAAAFzoBPD9BkAYAgAAAFysnf1xukjNl6%2BHWHAG4bUDIAwBAAAALoaLTng9rP/6EH0AhCEAAAAYegHSxcf6ec0yt1j89oUrvn5uxMSPMbxmAIQhAAAAABeG2e25E84FAMIQAAAAgIvhAADCEAAAACBwLDIzswPfVwAQhgAAAJjowqSLk4x%2BfnmO4TkCAMIQAAAAiGvJtxxc8AcAEIYAAADAxsPCsQd2fI2PDKFefwDCEAAAAAAgqgIgDAEAAAAuCkPfjRUAQBgCAAAAF8cHx6FIOAsAAIQhAAAAQLRhkmjoOQcAwhAAAACkuOC94uMShzzf3Sc8NwCEIQAAAICqsBSVX2N2gO8JAMIQAAAAsEkcAhCIAIQhAAAASBlMXNQFdvue4fsBgDAEAAAAuNgLAIAwBAAAAIhDAAAIQwAAAMC0cShEIwAAYQgAAACwlQMAgDAEAAAAJAlDwhXsuRUIgDAEAAAAuHAMwmPCeTkPeP2DMAQAAAAAAIAwBAAAALZPnBcAAIQhAAAAqIgQ5uDcAPheaC6AMAQAAICLSny8JeQceW3i/IHnGQhDAAAAgAt9AL4/AQhDAAAAwKoXV110BYQhAGEIAAAASHqBNVxodXEbABCGAAAAABgb5MwC0RE8r0EYAgAAAAAXrQFAGAIAAAAXjQEAQBgCAACAbQKTyAQAgDDEv3buZUdxIAiiKP//08ECkOwFMsKvqsyzOMtpqQPwSHWpBgAAoMktI2EI3AZ0UxEAYQgAAAAcygIAgDAEAAA4lMdrZR8AAIQhAAAAQMQBAEAYAgAAAADmCcYRqQEQhgAAAADAbUI7ACAMAQAAANA%2BUAgVAhKAMAQAAAAAcHKQW7INgDAEAAAA%2BDY%2BUPg58y0MeT4BCEMAAAAgpgAAgDAEAAAA10WhiEMAQjuAMAQAAAAOMwEAQBgCAAAAAABAGAIAAABwywwAQBgCAAAAmD4GLdmEo95TtgBAGAIAAAAQhwAAhCEAAACAEaKQOLS9lx0AQBgCAAAAKHNbSPz4bS97AIAwBAAAACUPwW3htcatIgAQhgAAAMBhPoCQBoAwBAAAACIRCBgAgDAEAAAAAACAMAQAAAAAACAMGQEAAAAAAEAYAgAAADhXbAA%2BWwAIQwAAAACAMAQ%2BDyAMAQAAAA7tAMD/MSAMAQAAAAAAIAwBAAAA4MaA3xsAjAAAAACASAIAwhAAAAAAAADCEAAAAAAAAMIQAAAAAAAAwhAAAAAAAADCEAAAAAAAAMIQAAAAcL/YAABAGAIAAAAAAEAYAgAAANwYAu9JABCGAAAAAEAYAgBhCAAAAADEIQAQhgAAAACH6eB9DADCEAAAAAAAAMIQAAAAAAAAwhAAAAAAl4oNAEAYAgAAABymAwAgDAEAAAAAACAMAQAAAAAAIAwBAAAAACt5%2BLOUAAhDAAAAACAOASAMAQAAAAD3h5wZfiYAwhAAAAAAAADCEAAAAAC4wQMAwhAAAAAAAADCEAAAAAAAAMIQAAAAABwuNgBAGAIAAAAAAEAYAgAAAAAAQBgCAAAAgI/YAACEIQAAABwOA4z4nPKsAkAYAgAAAMEIKP459ywCQBgCAAAAAABAGAIAAIB/vnXvG/kAACAMAQAA0CgOAQAAwhAAAABuDQEAAMIQAAAAAAAAwhAAAAAAAADCEAAAAPvFBoBnCQAIQwAAAAAAAAhDAAAAAAAACEMAAABwndgAfAYBACMAAAAAIA4BgDAEAAAAAACAMAQAAAAAAIAwBAAAAAAAgDAEAAAAAACAMAQAAAAAAIAwBAAAAAB75M0WAGAAAAAAAAAAYQgAAAAAAABhCAAAAAAAAGEIAAAAAAAAYQgAAAAAAABhCAAAAAD2ig0AQBgCAAAAQGQBAIQhAAAAAAAAYQgAAAAAAABhCAAAAAAAAGEIAAAAAAAAYQgAAAAAAABhCAAAAAAAAGEIAAAAAAAAYQgAAAAAAABhCAAAAAAAAGEIAAAAAABAGAIAAAAAAEAYAgAAAAAAQBgCAAAAAABAGAIAAKCb2AAAAIQhAAAA%2BoQhcQgAAIQhAAAAAAAAhCEAAAAAAACEIQAAAAAAAIQhAAAAAAAAhCEAAAAGEBsAAIAwBAAAAAAd4rhAji9OAMIQAAAAAAgAACAMAQAAAAAAIAwBAAAAAAAgDAEAAAAAACAMAQAAAAAAIAwBAAAAAAAIQwAAAAAAAAhDAAAAAAAACEMAAAAAAAAIQwAAAADADGIDAGEIAAAAABCGABCGAAAAKHbg50AQAACEIQAAABqFI3EIAACEIQAAAAa62QMAACAMAQAAIEoBAADCEAAAAADgCwMACEMAAAAAAADCEAAAAADgphAAwhAAAAAAIA4BIAwBAAAAAAAgDAEAAAAAACAMAQAAAAAAIAwBAAAAAAANxAbCEAAAAAAAAMIQAAAAAAAAwhAAAAAAAADCEAAAAAAAgDAEAAAAAACAMAQAAAAAAIAwBAAAAAC8ZMEeAAhDAAAAANAgCglDAAhDAAAAAOC2EAAIQwAAAABQKRDZAQBhCAAAAACEIQAQhgAAAAAAABCGAAAAAAAAEIYAAAAAAAAQhgAAAAAAABCGAAAAAACAnnLAv0%2BNLbwZAAAAAAAAzo5LwhAAAAAAAMDAISj1fi8vLAAAAAAAQBNGAAAAAAAAEIYAAAAAAAAQhgAAAAAAABCGAAAAAACAgcUGwhAAAAAAAADCEAAAAAAAAMIQAAAAAAAAwhAAAAAAAADCEAAAAAAAAMIQAAAAAAAAwhAAAAAAAADCEAAAAAAwpNgAQBgCAAAAAABAGAIAAAAAAEAYAgAAAAAAQBgCAAAAAABg0xMMRJ4MCHB8NQAAAABJRU5ErkJggg%3D%3D%22%2C%0A%20%20%20%20%20%20%20%20%20%20%20%20%20%20%20%20%5B%5B35.832006264552895%2C%20-114.53395477030668%5D%2C%20%5B38.5416667152317%2C%20-107.15576372843819%5D%5D%2C%0A%20%20%20%20%20%20%20%20%20%20%20%20%20%20%20%20%7B%22opacity%22%3A%200.6%7D%0A%20%20%20%20%20%20%20%20%20%20%20%20%29.addTo%28map_66dd9857a0c64dbe8b1f6094b6c9ab60%29%3B%0A%20%20%20%20%20%20%20%20%0A%20%20%20%20%0A%20%20%20%20%20%20%20%20%20%20%20%20var%20mouse_position_a532b825460843b6b3fb18717056e405%20%3D%20new%20L.Control.MousePosition%28%0A%20%20%20%20%20%20%20%20%20%20%20%20%20%20%20%20%7B%22emptyString%22%3A%20%22Unavailable%22%2C%20%22lngFirst%22%3A%20false%2C%20%22numDigits%22%3A%205%2C%20%22position%22%3A%20%22bottomright%22%2C%20%22prefix%22%3A%20%22%22%2C%20%22separator%22%3A%20%22%20%3A%20%22%7D%0A%20%20%20%20%20%20%20%20%20%20%20%20%29%3B%0A%20%20%20%20%20%20%20%20%20%20%20%20mouse_position_a532b825460843b6b3fb18717056e405.options%5B%22latFormatter%22%5D%20%3D%0A%20%20%20%20%20%20%20%20%20%20%20%20%20%20%20%20undefined%3B%0A%20%20%20%20%20%20%20%20%20%20%20%20mouse_position_a532b825460843b6b3fb18717056e405.options%5B%22lngFormatter%22%5D%20%3D%0A%20%20%20%20%20%20%20%20%20%20%20%20%20%20%20%20undefined%3B%0A%20%20%20%20%20%20%20%20%20%20%20%20map_66dd9857a0c64dbe8b1f6094b6c9ab60.addControl%28mouse_position_a532b825460843b6b3fb18717056e405%29%3B%0A%20%20%20%20%20%20%20%20%0A%20%20%20%20%0A%20%20%20%20%20%20%20%20%20%20%20%20var%20layer_control_796c0972db4f4cbf9f36ca329937b35c%20%3D%20%7B%0A%20%20%20%20%20%20%20%20%20%20%20%20%20%20%20%20base_layers%20%3A%20%7B%0A%20%20%20%20%20%20%20%20%20%20%20%20%20%20%20%20%20%20%20%20%22https%3A//mt1.google.com/vt/lyrs%3Ds%5Cu0026x%3D%7Bx%7D%5Cu0026y%3D%7By%7D%5Cu0026z%3D%7Bz%7D%22%20%3A%20tile_layer_eb1fb08b86a44f33bf7d6ef1bcd4bd4d%2C%0A%20%20%20%20%20%20%20%20%20%20%20%20%20%20%20%20%7D%2C%0A%20%20%20%20%20%20%20%20%20%20%20%20%20%20%20%20overlays%20%3A%20%20%7B%0A%20%20%20%20%20%20%20%20%20%20%20%20%20%20%20%20%20%20%20%20%22Water%20classification%20XGBOOST%20predicted%20mask%22%20%3A%20image_overlay_8dfce59bb3b84245b04a11d49ded9b61%2C%0A%20%20%20%20%20%20%20%20%20%20%20%20%20%20%20%20%7D%2C%0A%20%20%20%20%20%20%20%20%20%20%20%20%7D%3B%0A%20%20%20%20%20%20%20%20%20%20%20%20L.control.layers%28%0A%20%20%20%20%20%20%20%20%20%20%20%20%20%20%20%20layer_control_796c0972db4f4cbf9f36ca329937b35c.base_layers%2C%0A%20%20%20%20%20%20%20%20%20%20%20%20%20%20%20%20layer_control_796c0972db4f4cbf9f36ca329937b35c.overlays%2C%0A%20%20%20%20%20%20%20%20%20%20%20%20%20%20%20%20%7B%22autoZIndex%22%3A%20true%2C%20%22collapsed%22%3A%20true%2C%20%22position%22%3A%20%22topright%22%7D%0A%20%20%20%20%20%20%20%20%20%20%20%20%29.addTo%28map_66dd9857a0c64dbe8b1f6094b6c9ab60%29%3B%0A%20%20%20%20%20%20%20%20%0A%3C/script%3E onload=\"this.contentDocument.open();this.contentDocument.write(    decodeURIComponent(this.getAttribute('data-html')));this.contentDocument.close();\" allowfullscreen webkitallowfullscreen mozallowfullscreen></iframe></div></div>"
      ],
      "text/plain": [
       "<folium.folium.Map at 0x14cb584ecc10>"
      ]
     },
     "execution_count": 40,
     "metadata": {},
     "output_type": "execute_result"
    }
   ],
   "source": [
    "m.add_child(folium_helper.get_overlay(mask_rgb, mask_d, 'Water classification XGBOOST predicted mask', opacity=0.6))\n",
    "m.add_child(plugins.MousePosition())\n",
    "m.add_child(folium.LayerControl())"
   ]
  },
  {
   "cell_type": "code",
   "execution_count": null,
   "metadata": {},
   "outputs": [],
   "source": []
  }
 ],
 "metadata": {
  "kernelspec": {
   "display_name": "Python [conda env:ilab]",
   "language": "python",
   "name": "conda-env-ilab-py"
  },
  "language_info": {
   "codemirror_mode": {
    "name": "ipython",
    "version": 3
   },
   "file_extension": ".py",
   "mimetype": "text/x-python",
   "name": "python",
   "nbconvert_exporter": "python",
   "pygments_lexer": "ipython3",
   "version": "3.7.12"
  }
 },
 "nbformat": 4,
 "nbformat_minor": 4
}
