{
 "cells": [
  {
   "cell_type": "markdown",
   "metadata": {},
   "source": [
    "# Water Classification XGBOOST \n",
    "\n",
    "Version: DEMO\n",
    "\n",
    "ILAB Team\n",
    "\n",
    "Kernel to use:\n",
    "- (ADAPT PRISM) `Python [conda env:ilab]`\n",
    "\n",
    "\n",
    "This is a demo notebook showcasing how the ILAB team uses the XGBoost classifier algorithm. This notebook also demonstates how to use a raster as a test data-set for the trained model."
   ]
  },
  {
   "cell_type": "code",
   "execution_count": 1,
   "metadata": {},
   "outputs": [],
   "source": [
    "import csv\n",
    "import datetime\n",
    "import glob\n",
    "import joblib\n",
    "import numpy as np\n",
    "import os\n",
    "import pandas as pd\n",
    "from pathlib import Path\n",
    "import sys\n",
    "\n",
    "import xgboost as xgb\n",
    "\n",
    "from sklearn.ensemble import RandomForestClassifier as skRF\n",
    "from sklearn import metrics\n",
    "from sklearn.metrics import accuracy_score, roc_curve, auc, recall_score\n",
    "from sklearn.metrics import confusion_matrix, accuracy_score, roc_auc_score, precision_score\n",
    "from sklearn.metrics import classification_report, f1_score\n",
    "from sklearn.model_selection import RandomizedSearchCV, KFold\n",
    "from sklearn.model_selection import train_test_split \n",
    "from sklearn.inspection import permutation_importance\n",
    "\n",
    "# Visualization\n",
    "import seaborn as sns\n",
    "import matplotlib.pyplot as plt\n",
    "import warnings\n",
    "\n",
    "#GDAL Stuff\n",
    "from osgeo import gdalconst\n",
    "from osgeo import gdal\n",
    "\n",
    "from pprint import pprint\n",
    "\n",
    "warnings.filterwarnings('ignore')\n",
    "plt.style.use('fivethirtyeight')\n",
    "%matplotlib inline"
   ]
  },
  {
   "cell_type": "code",
   "execution_count": 2,
   "metadata": {},
   "outputs": [],
   "source": [
    "GPU = True\n",
    "DATA_TYPE = np.int16"
   ]
  },
  {
   "cell_type": "code",
   "execution_count": 3,
   "metadata": {},
   "outputs": [],
   "source": [
    "v_names = ['sur_refl_b01_1','sur_refl_b02_1','sur_refl_b03_1',\n",
    "           'sur_refl_b04_1','sur_refl_b05_1','sur_refl_b06_1',\n",
    "           'sur_refl_b07_1','ndvi','ndwi1','ndwi2']"
   ]
  },
  {
   "cell_type": "markdown",
   "metadata": {},
   "source": [
    "Add names from above to this list to drop them from training and testing.\n",
    "\n",
    "For example:\n",
    "\n",
    "```python\n",
    "columnsToDrop = ['sur_refl_b01_1', 'sur_refl_b07_1', 'ndwi1']\n",
    "```"
   ]
  },
  {
   "cell_type": "code",
   "execution_count": 4,
   "metadata": {},
   "outputs": [],
   "source": [
    "columnsToDrop = []"
   ]
  },
  {
   "cell_type": "markdown",
   "metadata": {},
   "source": [
    "This is a 1000 row training dataset which has columns for all the features listed in v_names. MODIS MOD09GA and MOD09GQ were the data sources. We used surface reflectance bands 1-7. We used surface reflectance bands 1-7 from Collection 6.1."
   ]
  },
  {
   "cell_type": "code",
   "execution_count": 5,
   "metadata": {},
   "outputs": [],
   "source": [
    "dfPath = '../data/WaterClassificationPowell.parquet.gzip'"
   ]
  },
  {
   "cell_type": "code",
   "execution_count": 6,
   "metadata": {},
   "outputs": [],
   "source": [
    "outputRasterPath = '.'"
   ]
  },
  {
   "cell_type": "code",
   "execution_count": 7,
   "metadata": {},
   "outputs": [],
   "source": [
    "df = pd.read_parquet(dfPath).astype(DATA_TYPE)\n",
    "df = df.drop(columns=columnsToDrop)\n",
    "X = df.drop(['water'], axis=1)\n",
    "y = df['water']\n",
    "X_train, X_test, y_train, y_test = train_test_split(X, y, test_size=0.2)"
   ]
  },
  {
   "cell_type": "code",
   "execution_count": 8,
   "metadata": {},
   "outputs": [
    {
     "name": "stdout",
     "output_type": "stream",
     "text": [
      "sur_refl_b01_1\n",
      "sur_refl_b02_1\n",
      "sur_refl_b03_1\n",
      "sur_refl_b04_1\n",
      "sur_refl_b05_1\n",
      "sur_refl_b06_1\n",
      "sur_refl_b07_1\n",
      "ndvi\n",
      "ndwi1\n",
      "ndwi2\n"
     ]
    }
   ],
   "source": [
    "_ = [print(column) for column in X_train.columns]"
   ]
  },
  {
   "cell_type": "code",
   "execution_count": 9,
   "metadata": {},
   "outputs": [
    {
     "data": {
      "text/html": [
       "<div>\n",
       "<style scoped>\n",
       "    .dataframe tbody tr th:only-of-type {\n",
       "        vertical-align: middle;\n",
       "    }\n",
       "\n",
       "    .dataframe tbody tr th {\n",
       "        vertical-align: top;\n",
       "    }\n",
       "\n",
       "    .dataframe thead th {\n",
       "        text-align: right;\n",
       "    }\n",
       "</style>\n",
       "<table border=\"1\" class=\"dataframe\">\n",
       "  <thead>\n",
       "    <tr style=\"text-align: right;\">\n",
       "      <th></th>\n",
       "      <th>count</th>\n",
       "      <th>mean</th>\n",
       "      <th>std</th>\n",
       "      <th>min</th>\n",
       "      <th>25%</th>\n",
       "      <th>50%</th>\n",
       "      <th>75%</th>\n",
       "      <th>max</th>\n",
       "    </tr>\n",
       "  </thead>\n",
       "  <tbody>\n",
       "    <tr>\n",
       "      <th>sur_refl_b01_1</th>\n",
       "      <td>800.0</td>\n",
       "      <td>1250.62250</td>\n",
       "      <td>1337.525514</td>\n",
       "      <td>8.0</td>\n",
       "      <td>242.50</td>\n",
       "      <td>906.0</td>\n",
       "      <td>1922.25</td>\n",
       "      <td>9222.0</td>\n",
       "    </tr>\n",
       "    <tr>\n",
       "      <th>sur_refl_b02_1</th>\n",
       "      <td>800.0</td>\n",
       "      <td>1631.65250</td>\n",
       "      <td>1597.915322</td>\n",
       "      <td>1.0</td>\n",
       "      <td>176.25</td>\n",
       "      <td>1474.5</td>\n",
       "      <td>2720.50</td>\n",
       "      <td>8837.0</td>\n",
       "    </tr>\n",
       "    <tr>\n",
       "      <th>sur_refl_b03_1</th>\n",
       "      <td>800.0</td>\n",
       "      <td>759.48625</td>\n",
       "      <td>1064.451574</td>\n",
       "      <td>-100.0</td>\n",
       "      <td>285.75</td>\n",
       "      <td>558.5</td>\n",
       "      <td>856.25</td>\n",
       "      <td>8909.0</td>\n",
       "    </tr>\n",
       "    <tr>\n",
       "      <th>sur_refl_b04_1</th>\n",
       "      <td>800.0</td>\n",
       "      <td>1053.53250</td>\n",
       "      <td>1123.481399</td>\n",
       "      <td>6.0</td>\n",
       "      <td>409.75</td>\n",
       "      <td>847.0</td>\n",
       "      <td>1316.50</td>\n",
       "      <td>9162.0</td>\n",
       "    </tr>\n",
       "    <tr>\n",
       "      <th>sur_refl_b05_1</th>\n",
       "      <td>800.0</td>\n",
       "      <td>2015.02375</td>\n",
       "      <td>1490.761361</td>\n",
       "      <td>-92.0</td>\n",
       "      <td>552.00</td>\n",
       "      <td>1885.5</td>\n",
       "      <td>3272.75</td>\n",
       "      <td>6382.0</td>\n",
       "    </tr>\n",
       "    <tr>\n",
       "      <th>sur_refl_b06_1</th>\n",
       "      <td>800.0</td>\n",
       "      <td>1977.30750</td>\n",
       "      <td>1557.545798</td>\n",
       "      <td>45.0</td>\n",
       "      <td>516.50</td>\n",
       "      <td>1621.0</td>\n",
       "      <td>3320.25</td>\n",
       "      <td>6610.0</td>\n",
       "    </tr>\n",
       "    <tr>\n",
       "      <th>sur_refl_b07_1</th>\n",
       "      <td>800.0</td>\n",
       "      <td>1626.79000</td>\n",
       "      <td>1410.985071</td>\n",
       "      <td>0.0</td>\n",
       "      <td>333.00</td>\n",
       "      <td>1244.5</td>\n",
       "      <td>2788.25</td>\n",
       "      <td>6128.0</td>\n",
       "    </tr>\n",
       "    <tr>\n",
       "      <th>ndvi</th>\n",
       "      <td>800.0</td>\n",
       "      <td>88.98500</td>\n",
       "      <td>2570.912114</td>\n",
       "      <td>-9493.0</td>\n",
       "      <td>-1459.75</td>\n",
       "      <td>739.0</td>\n",
       "      <td>1763.00</td>\n",
       "      <td>8587.0</td>\n",
       "    </tr>\n",
       "    <tr>\n",
       "      <th>ndwi1</th>\n",
       "      <td>800.0</td>\n",
       "      <td>-2329.04750</td>\n",
       "      <td>3398.179592</td>\n",
       "      <td>-9829.0</td>\n",
       "      <td>-4569.50</td>\n",
       "      <td>-1582.0</td>\n",
       "      <td>-792.00</td>\n",
       "      <td>8823.0</td>\n",
       "    </tr>\n",
       "    <tr>\n",
       "      <th>ndwi2</th>\n",
       "      <td>800.0</td>\n",
       "      <td>-913.40000</td>\n",
       "      <td>3807.211026</td>\n",
       "      <td>-9615.0</td>\n",
       "      <td>-2754.00</td>\n",
       "      <td>-723.5</td>\n",
       "      <td>821.25</td>\n",
       "      <td>10000.0</td>\n",
       "    </tr>\n",
       "  </tbody>\n",
       "</table>\n",
       "</div>"
      ],
      "text/plain": [
       "                count        mean          std     min      25%     50%  \\\n",
       "sur_refl_b01_1  800.0  1250.62250  1337.525514     8.0   242.50   906.0   \n",
       "sur_refl_b02_1  800.0  1631.65250  1597.915322     1.0   176.25  1474.5   \n",
       "sur_refl_b03_1  800.0   759.48625  1064.451574  -100.0   285.75   558.5   \n",
       "sur_refl_b04_1  800.0  1053.53250  1123.481399     6.0   409.75   847.0   \n",
       "sur_refl_b05_1  800.0  2015.02375  1490.761361   -92.0   552.00  1885.5   \n",
       "sur_refl_b06_1  800.0  1977.30750  1557.545798    45.0   516.50  1621.0   \n",
       "sur_refl_b07_1  800.0  1626.79000  1410.985071     0.0   333.00  1244.5   \n",
       "ndvi            800.0    88.98500  2570.912114 -9493.0 -1459.75   739.0   \n",
       "ndwi1           800.0 -2329.04750  3398.179592 -9829.0 -4569.50 -1582.0   \n",
       "ndwi2           800.0  -913.40000  3807.211026 -9615.0 -2754.00  -723.5   \n",
       "\n",
       "                    75%      max  \n",
       "sur_refl_b01_1  1922.25   9222.0  \n",
       "sur_refl_b02_1  2720.50   8837.0  \n",
       "sur_refl_b03_1   856.25   8909.0  \n",
       "sur_refl_b04_1  1316.50   9162.0  \n",
       "sur_refl_b05_1  3272.75   6382.0  \n",
       "sur_refl_b06_1  3320.25   6610.0  \n",
       "sur_refl_b07_1  2788.25   6128.0  \n",
       "ndvi            1763.00   8587.0  \n",
       "ndwi1           -792.00   8823.0  \n",
       "ndwi2            821.25  10000.0  "
      ]
     },
     "execution_count": 9,
     "metadata": {},
     "output_type": "execute_result"
    }
   ],
   "source": [
    "X_train.describe().T"
   ]
  },
  {
   "cell_type": "markdown",
   "metadata": {},
   "source": [
    "## XGBOOST"
   ]
  },
  {
   "cell_type": "code",
   "execution_count": 10,
   "metadata": {},
   "outputs": [],
   "source": [
    "X_train, X_val, y_train, y_val = train_test_split(X_train, y_train, test_size=0.1)"
   ]
  },
  {
   "cell_type": "code",
   "execution_count": 11,
   "metadata": {},
   "outputs": [],
   "source": [
    "hyperparameters = {'objective': 'binary:logistic',\n",
    "                   'n_estimators':100,\n",
    "                   'base_score': None,\n",
    "                   'booster': None,\n",
    "                   'colsample_bylevel': None,\n",
    "                   'colsample_bynode': None,\n",
    "                   'colsample_bytree': None,\n",
    "                   'gamma': None,\n",
    "                   'gpu_id': None,\n",
    "                   'interaction_constraints': None,\n",
    "                   'learning_rate': 0.003,\n",
    "                   'max_delta_step': None,\n",
    "                   'max_depth': None,\n",
    "                   'min_child_weight': None,\n",
    "                   'monotone_constraints': None,\n",
    "                   'n_jobs': -1,\n",
    "                   'num_parallel_tree': None,\n",
    "                   'random_state': None,\n",
    "                   'reg_alpha': None,\n",
    "                   'reg_lambda': None,\n",
    "                   'scale_pos_weight': None,\n",
    "                   'subsample': None,\n",
    "                   'tree_method': 'gpu_hist',\n",
    "                   'validate_parameters': None,\n",
    "                   'verbosity': None}"
   ]
  },
  {
   "cell_type": "code",
   "execution_count": 12,
   "metadata": {},
   "outputs": [],
   "source": [
    "classifier = xgb.XGBClassifier(**hyperparameters)"
   ]
  },
  {
   "cell_type": "code",
   "execution_count": 13,
   "metadata": {},
   "outputs": [],
   "source": [
    "eval_set = [(X_train, y_train), (X_val, y_val)]\n",
    "eval_metric = [\"error\",\"auc\"]"
   ]
  },
  {
   "cell_type": "code",
   "execution_count": 14,
   "metadata": {},
   "outputs": [
    {
     "name": "stdout",
     "output_type": "stream",
     "text": [
      "[0]\tvalidation_0-error:0.01389\tvalidation_0-auc:0.99537\tvalidation_1-error:0.00000\tvalidation_1-auc:1.00000\n",
      "[1]\tvalidation_0-error:0.01389\tvalidation_0-auc:0.99521\tvalidation_1-error:0.00000\tvalidation_1-auc:1.00000\n",
      "[2]\tvalidation_0-error:0.01389\tvalidation_0-auc:0.99521\tvalidation_1-error:0.00000\tvalidation_1-auc:1.00000\n",
      "[3]\tvalidation_0-error:0.01389\tvalidation_0-auc:0.99521\tvalidation_1-error:0.00000\tvalidation_1-auc:1.00000\n",
      "[4]\tvalidation_0-error:0.01389\tvalidation_0-auc:0.99521\tvalidation_1-error:0.00000\tvalidation_1-auc:1.00000\n",
      "[5]\tvalidation_0-error:0.01389\tvalidation_0-auc:0.99521\tvalidation_1-error:0.00000\tvalidation_1-auc:1.00000\n",
      "[6]\tvalidation_0-error:0.01389\tvalidation_0-auc:0.99521\tvalidation_1-error:0.00000\tvalidation_1-auc:1.00000\n",
      "[7]\tvalidation_0-error:0.01389\tvalidation_0-auc:0.99521\tvalidation_1-error:0.00000\tvalidation_1-auc:1.00000\n",
      "[8]\tvalidation_0-error:0.01389\tvalidation_0-auc:0.99521\tvalidation_1-error:0.00000\tvalidation_1-auc:1.00000\n",
      "[9]\tvalidation_0-error:0.01389\tvalidation_0-auc:0.99521\tvalidation_1-error:0.00000\tvalidation_1-auc:1.00000\n"
     ]
    },
    {
     "data": {
      "text/plain": [
       "XGBClassifier(base_score=0.5, booster='gbtree', colsample_bylevel=1,\n",
       "              colsample_bynode=1, colsample_bytree=1, gamma=0, gpu_id=0,\n",
       "              importance_type='gain', interaction_constraints='',\n",
       "              learning_rate=0.003, max_delta_step=0, max_depth=6,\n",
       "              min_child_weight=1, missing=nan, monotone_constraints='()',\n",
       "              n_estimators=100, n_jobs=-1, num_parallel_tree=1, random_state=0,\n",
       "              reg_alpha=0, reg_lambda=1, scale_pos_weight=1, subsample=1,\n",
       "              tree_method='gpu_hist', validate_parameters=1, verbosity=None)"
      ]
     },
     "execution_count": 14,
     "metadata": {},
     "output_type": "execute_result"
    }
   ],
   "source": [
    "classifier.fit(X_train, y_train, eval_set=eval_set, eval_metric=eval_metric, early_stopping_rounds=10)"
   ]
  },
  {
   "cell_type": "code",
   "execution_count": 15,
   "metadata": {},
   "outputs": [
    {
     "data": {
      "image/png": "[encoded data removed]",
      "text/plain": [
       "<Figure size 1080x576 with 1 Axes>"
      ]
     },
     "metadata": {
      "needs_background": "light"
     },
     "output_type": "display_data"
    }
   ],
   "source": [
    "results = classifier.evals_result()\n",
    "epochs = len(results['validation_0']['error'])\n",
    "x_axis = range(0, epochs)\n",
    "fig, ax = plt.subplots(figsize=(15,8))\n",
    "ax.plot(x_axis, results['validation_0']['auc'], label='Train')\n",
    "ax.plot(x_axis, results['validation_1']['auc'], label='Test')\n",
    "ax.legend()\n",
    "plt.ylabel('AUC')\n",
    "plt.title('XGBoost AUC')\n",
    "plt.show()"
   ]
  },
  {
   "cell_type": "code",
   "execution_count": 16,
   "metadata": {},
   "outputs": [
    {
     "data": {
      "image/png": "[encoded data removed]",
      "text/plain": [
       "<Figure size 1080x576 with 1 Axes>"
      ]
     },
     "metadata": {
      "needs_background": "light"
     },
     "output_type": "display_data"
    }
   ],
   "source": [
    "results = classifier.evals_result()\n",
    "epochs = len(results['validation_0']['error'])\n",
    "x_axis = range(0, epochs)\n",
    "fig, ax = plt.subplots(figsize=(15,8))\n",
    "ax.plot(x_axis, results['validation_0']['error'], label='Train')\n",
    "ax.plot(x_axis, results['validation_1']['error'], label='Test')\n",
    "ax.legend()\n",
    "plt.ylabel('error')\n",
    "plt.title('XGBoost error')\n",
    "plt.show()"
   ]
  },
  {
   "cell_type": "markdown",
   "metadata": {},
   "source": [
    "## Model testing and training/testing data validation"
   ]
  },
  {
   "cell_type": "markdown",
   "metadata": {},
   "source": [
    "### Get model metrics"
   ]
  },
  {
   "cell_type": "code",
   "execution_count": 17,
   "metadata": {},
   "outputs": [
    {
     "data": {
      "text/plain": [
       "0.965"
      ]
     },
     "execution_count": 17,
     "metadata": {},
     "output_type": "execute_result"
    }
   ],
   "source": [
    "score = classifier.score(X_test, y_test)\n",
    "score = round(score, 3)\n",
    "score"
   ]
  },
  {
   "cell_type": "code",
   "execution_count": 18,
   "metadata": {},
   "outputs": [],
   "source": [
    "train_predictions = classifier.predict(X_train)\n",
    "test_predictions = classifier.predict(X_test)\n",
    "prediction_probs = classifier.predict_proba(X_test)"
   ]
  },
  {
   "cell_type": "code",
   "execution_count": 19,
   "metadata": {},
   "outputs": [],
   "source": [
    "test_predictions = test_predictions.astype(np.int32)\n",
    "y_test_int = y_test.astype(np.int32)"
   ]
  },
  {
   "cell_type": "code",
   "execution_count": 20,
   "metadata": {},
   "outputs": [
    {
     "name": "stdout",
     "output_type": "stream",
     "text": [
      "Test Performance\n",
      "-------------------------------------------------------\n",
      "              precision    recall  f1-score   support\n",
      "\n",
      "           0       0.96      0.97      0.96        97\n",
      "           1       0.97      0.96      0.97       103\n",
      "\n",
      "    accuracy                           0.96       200\n",
      "   macro avg       0.96      0.97      0.96       200\n",
      "weighted avg       0.97      0.96      0.97       200\n",
      "\n",
      "Test Recall\n",
      "-------------------------------------------------------\n",
      "0.9690721649484536\n",
      "Confusion Matrix\n",
      "-------------------------------------------------------\n",
      "[[94  3]\n",
      " [ 4 99]]\n"
     ]
    }
   ],
   "source": [
    "print('Test Performance')\n",
    "print('-------------------------------------------------------')\n",
    "print(classification_report(y_test, test_predictions))\n",
    "cm = confusion_matrix(y_test_int, test_predictions)\n",
    "recall = (cm[0][0] / (cm[0][0] + cm[0][1]))\n",
    "print('Test Recall')\n",
    "print('-------------------------------------------------------')\n",
    "print(recall)\n",
    "print('Confusion Matrix')\n",
    "print('-------------------------------------------------------')\n",
    "print(cm)"
   ]
  },
  {
   "cell_type": "code",
   "execution_count": 21,
   "metadata": {},
   "outputs": [
    {
     "data": {
      "image/png": "[encoded data removed]",
      "text/plain": [
       "<Figure size 432x288 with 1 Axes>"
      ]
     },
     "metadata": {
      "needs_background": "light"
     },
     "output_type": "display_data"
    }
   ],
   "source": [
    "probs = classifier.predict_proba(X_test)\n",
    "preds = probs[:, 1]\n",
    "fpr, tpr, threshold = metrics.roc_curve(y_test, preds)\n",
    "roc_auc = metrics.auc(fpr, tpr)\n",
    "\n",
    "plt.title('Receiver Operating Characteristic')\n",
    "plt.plot(fpr, tpr, 'red', label = 'ROC-AUC score = %0.2f' % roc_auc)\n",
    "plt.legend(loc = 'lower right')\n",
    "plt.plot([0, 1], [0, 1],'b--')\n",
    "plt.xlim([0, 1])\n",
    "plt.ylim([0, 1])\n",
    "plt.ylabel('True Positive Rate')\n",
    "plt.xlabel('False Positive Rate')\n",
    "plt.show()"
   ]
  },
  {
   "cell_type": "markdown",
   "metadata": {},
   "source": [
    "## Permutation importance"
   ]
  },
  {
   "cell_type": "code",
   "execution_count": 22,
   "metadata": {},
   "outputs": [],
   "source": [
    "permutation_importance_results = permutation_importance(classifier,\n",
    "                                                        X=X_test,\n",
    "                                                        y=y_test,\n",
    "                                                        n_repeats=10,\n",
    "                                                        random_state=42)"
   ]
  },
  {
   "cell_type": "code",
   "execution_count": 23,
   "metadata": {},
   "outputs": [
    {
     "data": {
      "text/plain": [
       "Text(0.5, 0, 'Permutation Importance')"
      ]
     },
     "execution_count": 23,
     "metadata": {},
     "output_type": "execute_result"
    },
    {
     "data": {
      "image/png": "[encoded data removed]",
      "text/plain": [
       "<Figure size 576x576 with 1 Axes>"
      ]
     },
     "metadata": {
      "needs_background": "light"
     },
     "output_type": "display_data"
    }
   ],
   "source": [
    "sorted_idx = permutation_importance_results.importances_mean.argsort()\n",
    "plt.figure(figsize=(8, 8))\n",
    "plt.barh(X_test.columns[sorted_idx], permutation_importance_results.importances_mean[sorted_idx])\n",
    "plt.xlabel(\"Permutation Importance\")"
   ]
  },
  {
   "cell_type": "code",
   "execution_count": 24,
   "metadata": {},
   "outputs": [],
   "source": [
    "del X_train, X_test, y_train, y_test, test_predictions, train_predictions, y_test_int"
   ]
  },
  {
   "cell_type": "markdown",
   "metadata": {},
   "source": [
    "## Save the model for future use"
   ]
  },
  {
   "cell_type": "code",
   "execution_count": 25,
   "metadata": {},
   "outputs": [
    {
     "name": "stdout",
     "output_type": "stream",
     "text": [
      "Saving model to: ./water_classifier_xgb.sav\n",
      "XGBClassifier(base_score=0.5, booster='gbtree', colsample_bylevel=1,\n",
      "              colsample_bynode=1, colsample_bytree=1, gamma=0, gpu_id=0,\n",
      "              importance_type='gain', interaction_constraints='',\n",
      "              learning_rate=0.003, max_delta_step=0, max_depth=6,\n",
      "              min_child_weight=1, missing=nan, monotone_constraints='()',\n",
      "              n_estimators=100, n_jobs=-1, num_parallel_tree=1, random_state=0,\n",
      "              reg_alpha=0, reg_lambda=1, scale_pos_weight=1, subsample=1,\n",
      "              tree_method='gpu_hist', validate_parameters=1, verbosity=None)\n"
     ]
    },
    {
     "data": {
      "text/plain": [
       "['./water_classifier_xgb.sav']"
      ]
     },
     "execution_count": 25,
     "metadata": {},
     "output_type": "execute_result"
    }
   ],
   "source": [
    "model_save_path = './water_classifier_xgb.sav'\n",
    "print('Saving model to: {}'.format(model_save_path))\n",
    "print(classifier)\n",
    "joblib.dump(classifier, model_save_path, compress=3)"
   ]
  },
  {
   "cell_type": "markdown",
   "metadata": {},
   "source": [
    "# Testing: Raster testing"
   ]
  },
  {
   "cell_type": "markdown",
   "metadata": {},
   "source": [
    "### Read in data \n",
    "\n",
    "These are modified MOD09GA and MOD09GQ surface reflectance products for the 2001 julian day 155. They were modified to be clipped to the Lake Powell region."
   ]
  },
  {
   "cell_type": "code",
   "execution_count": 26,
   "metadata": {},
   "outputs": [],
   "source": [
    "fileList = sorted([file for file in glob.glob('../data/IL.*.Powell.*.tif') if 'sur_refl' in file])"
   ]
  },
  {
   "cell_type": "code",
   "execution_count": 27,
   "metadata": {},
   "outputs": [],
   "source": [
    "def readRastersToArray(fileList):\n",
    "    rasterProjection = None\n",
    "    newshp = (1300*1300, 10)\n",
    "    img = np.empty(newshp, dtype=np.int16)\n",
    "    for i, fileName in enumerate(fileList):\n",
    "        ds = gdal.Open(fileName)\n",
    "        img[:, i] = ds.GetRasterBand(1).ReadAsArray().astype(np.int16).ravel()\n",
    "        if i == 0:\n",
    "            rasterProjection = ds.GetProjection()\n",
    "            transform = ds.GetGeoTransform()\n",
    "        ds = None\n",
    "    img[:, len(fileList)] = ((img[:, 1] - img[:, 0]) / (img[:, 1] + img[:, 0])) * 10000\n",
    "    img[:, len(fileList)+1] = ((img[:, 1] - img[:, 5]) / (img[:, 1] + img[:, 5])) * 10000\n",
    "    img[:, len(fileList)+2] = ((img[:, 1] - img[:, 6]) / (img[:, 1] + img[:, 6])) * 10000\n",
    "    return img, rasterProjection, transform"
   ]
  },
  {
   "cell_type": "code",
   "execution_count": 28,
   "metadata": {},
   "outputs": [
    {
     "name": "stdout",
     "output_type": "stream",
     "text": [
      "Raster as ndarray\n",
      "[[ 1547  2461   857 ...  2280  -518   510]\n",
      " [ 1474  2377   857 ...  2344  -691   337]\n",
      " [ 1474  2377   846 ...  2344  -472   623]\n",
      " ...\n",
      " [ 2358  2979  1028 ...  1163 -1727 -1292]\n",
      " [ 2425  3069  1117 ...  1172 -1721 -1216]\n",
      " [ 2402  3038  1117 ...  1169 -1770 -1266]]\n",
      "33.8 MB size\n",
      "CPU times: user 239 ms, sys: 25.2 ms, total: 265 ms\n",
      "Wall time: 329 ms\n"
     ]
    }
   ],
   "source": [
    "%%time\n",
    "im, rasterProjection, transform = readRastersToArray(fileList)\n",
    "print('Raster as ndarray')\n",
    "print(im)\n",
    "print('{} MB size'.format((im.size * im.itemsize) / 1000000))"
   ]
  },
  {
   "cell_type": "code",
   "execution_count": 29,
   "metadata": {},
   "outputs": [],
   "source": [
    "def predictRaster(img_chunk, colsToDrop=None):\n",
    "    \"\"\"\n",
    "    Function given a raster in the form of a nxn matrix, will\n",
    "    convert the matrix to a GPU/CPU-bound data frame then perform \n",
    "    predictions given the loaded model.\n",
    "    \n",
    "    Return the prediction matrix, the prediction probabilities\n",
    "    for each and the dataframe converted to host.\n",
    "    \"\"\"\n",
    "    df = pd.DataFrame(img_chunk, columns=v_names, dtype=np.int16)\n",
    "    df = df.drop(columns=columnsToDrop)\n",
    "    print('Making predictions from raster')\n",
    "    predictions = classifier.predict(df).astype(np.int16)\n",
    "    predictionsProbs = classifier.predict_proba(df).astype(np.float32)\n",
    "    return predictions, predictionsProbs, df"
   ]
  },
  {
   "cell_type": "code",
   "execution_count": 30,
   "metadata": {},
   "outputs": [
    {
     "name": "stdout",
     "output_type": "stream",
     "text": [
      "Making predictions from raster\n",
      "CPU times: user 5.06 s, sys: 18.1 ms, total: 5.08 s\n",
      "Wall time: 214 ms\n"
     ]
    }
   ],
   "source": [
    "%%time\n",
    "predictedRaster, predictedProbaRaster, df = predictRaster(im)"
   ]
  },
  {
   "cell_type": "code",
   "execution_count": 31,
   "metadata": {},
   "outputs": [],
   "source": [
    "shp = (1300, 1300)\n",
    "left = list()\n",
    "right = list()\n",
    "for i, subarr in enumerate(predictedProbaRaster):\n",
    "    left.append(subarr[0])\n",
    "    right.append(subarr[1])\n",
    "leftArr = np.asarray(left)\n",
    "rightArr = np.asarray(right)\n",
    "probaLand = leftArr.reshape(shp)\n",
    "probaWater = rightArr.reshape(shp)"
   ]
  },
  {
   "cell_type": "markdown",
   "metadata": {},
   "source": [
    "## Inputreshapet raster: description and histogram"
   ]
  },
  {
   "cell_type": "code",
   "execution_count": 32,
   "metadata": {},
   "outputs": [
    {
     "data": {
      "text/html": [
       "<div>\n",
       "<style scoped>\n",
       "    .dataframe tbody tr th:only-of-type {\n",
       "        vertical-align: middle;\n",
       "    }\n",
       "\n",
       "    .dataframe tbody tr th {\n",
       "        vertical-align: top;\n",
       "    }\n",
       "\n",
       "    .dataframe thead th {\n",
       "        text-align: right;\n",
       "    }\n",
       "</style>\n",
       "<table border=\"1\" class=\"dataframe\">\n",
       "  <thead>\n",
       "    <tr style=\"text-align: right;\">\n",
       "      <th></th>\n",
       "      <th>count</th>\n",
       "      <th>mean</th>\n",
       "      <th>std</th>\n",
       "      <th>min</th>\n",
       "      <th>25%</th>\n",
       "      <th>50%</th>\n",
       "      <th>75%</th>\n",
       "      <th>max</th>\n",
       "    </tr>\n",
       "  </thead>\n",
       "  <tbody>\n",
       "    <tr>\n",
       "      <th>sur_refl_b01_1</th>\n",
       "      <td>1690000.0</td>\n",
       "      <td>2140.144561</td>\n",
       "      <td>807.227853</td>\n",
       "      <td>-100.0</td>\n",
       "      <td>1530.0</td>\n",
       "      <td>2292.0</td>\n",
       "      <td>2756.0</td>\n",
       "      <td>9424.0</td>\n",
       "    </tr>\n",
       "    <tr>\n",
       "      <th>sur_refl_b02_1</th>\n",
       "      <td>1690000.0</td>\n",
       "      <td>3276.677008</td>\n",
       "      <td>741.654344</td>\n",
       "      <td>-28672.0</td>\n",
       "      <td>2793.0</td>\n",
       "      <td>3303.0</td>\n",
       "      <td>3780.0</td>\n",
       "      <td>8909.0</td>\n",
       "    </tr>\n",
       "    <tr>\n",
       "      <th>sur_refl_b03_1</th>\n",
       "      <td>1690000.0</td>\n",
       "      <td>954.288317</td>\n",
       "      <td>357.504891</td>\n",
       "      <td>-100.0</td>\n",
       "      <td>741.0</td>\n",
       "      <td>963.0</td>\n",
       "      <td>1148.0</td>\n",
       "      <td>7929.0</td>\n",
       "    </tr>\n",
       "    <tr>\n",
       "      <th>sur_refl_b04_1</th>\n",
       "      <td>1690000.0</td>\n",
       "      <td>1547.173863</td>\n",
       "      <td>505.923213</td>\n",
       "      <td>-100.0</td>\n",
       "      <td>1199.0</td>\n",
       "      <td>1577.0</td>\n",
       "      <td>1858.0</td>\n",
       "      <td>8526.0</td>\n",
       "    </tr>\n",
       "    <tr>\n",
       "      <th>sur_refl_b05_1</th>\n",
       "      <td>1690000.0</td>\n",
       "      <td>3897.447927</td>\n",
       "      <td>875.726008</td>\n",
       "      <td>-95.0</td>\n",
       "      <td>3277.0</td>\n",
       "      <td>3993.0</td>\n",
       "      <td>4528.0</td>\n",
       "      <td>9440.0</td>\n",
       "    </tr>\n",
       "    <tr>\n",
       "      <th>sur_refl_b06_1</th>\n",
       "      <td>1690000.0</td>\n",
       "      <td>4009.725915</td>\n",
       "      <td>1122.289522</td>\n",
       "      <td>83.0</td>\n",
       "      <td>3151.0</td>\n",
       "      <td>4271.0</td>\n",
       "      <td>4863.0</td>\n",
       "      <td>8326.0</td>\n",
       "    </tr>\n",
       "    <tr>\n",
       "      <th>sur_refl_b07_1</th>\n",
       "      <td>1690000.0</td>\n",
       "      <td>3465.508279</td>\n",
       "      <td>1221.271953</td>\n",
       "      <td>-28672.0</td>\n",
       "      <td>2504.0</td>\n",
       "      <td>3777.0</td>\n",
       "      <td>4416.0</td>\n",
       "      <td>6657.0</td>\n",
       "    </tr>\n",
       "    <tr>\n",
       "      <th>ndvi</th>\n",
       "      <td>1690000.0</td>\n",
       "      <td>2338.848757</td>\n",
       "      <td>1416.787988</td>\n",
       "      <td>-31900.0</td>\n",
       "      <td>1525.0</td>\n",
       "      <td>1854.0</td>\n",
       "      <td>2682.0</td>\n",
       "      <td>32203.0</td>\n",
       "    </tr>\n",
       "    <tr>\n",
       "      <th>ndwi1</th>\n",
       "      <td>1690000.0</td>\n",
       "      <td>-907.298652</td>\n",
       "      <td>1020.379711</td>\n",
       "      <td>-32272.0</td>\n",
       "      <td>-1428.0</td>\n",
       "      <td>-1105.0</td>\n",
       "      <td>-627.0</td>\n",
       "      <td>32558.0</td>\n",
       "    </tr>\n",
       "    <tr>\n",
       "      <th>ndwi2</th>\n",
       "      <td>1690000.0</td>\n",
       "      <td>-30.655925</td>\n",
       "      <td>1514.628116</td>\n",
       "      <td>-32539.0</td>\n",
       "      <td>-886.0</td>\n",
       "      <td>-506.0</td>\n",
       "      <td>367.0</td>\n",
       "      <td>32702.0</td>\n",
       "    </tr>\n",
       "  </tbody>\n",
       "</table>\n",
       "</div>"
      ],
      "text/plain": [
       "                    count         mean          std      min     25%     50%  \\\n",
       "sur_refl_b01_1  1690000.0  2140.144561   807.227853   -100.0  1530.0  2292.0   \n",
       "sur_refl_b02_1  1690000.0  3276.677008   741.654344 -28672.0  2793.0  3303.0   \n",
       "sur_refl_b03_1  1690000.0   954.288317   357.504891   -100.0   741.0   963.0   \n",
       "sur_refl_b04_1  1690000.0  1547.173863   505.923213   -100.0  1199.0  1577.0   \n",
       "sur_refl_b05_1  1690000.0  3897.447927   875.726008    -95.0  3277.0  3993.0   \n",
       "sur_refl_b06_1  1690000.0  4009.725915  1122.289522     83.0  3151.0  4271.0   \n",
       "sur_refl_b07_1  1690000.0  3465.508279  1221.271953 -28672.0  2504.0  3777.0   \n",
       "ndvi            1690000.0  2338.848757  1416.787988 -31900.0  1525.0  1854.0   \n",
       "ndwi1           1690000.0  -907.298652  1020.379711 -32272.0 -1428.0 -1105.0   \n",
       "ndwi2           1690000.0   -30.655925  1514.628116 -32539.0  -886.0  -506.0   \n",
       "\n",
       "                   75%      max  \n",
       "sur_refl_b01_1  2756.0   9424.0  \n",
       "sur_refl_b02_1  3780.0   8909.0  \n",
       "sur_refl_b03_1  1148.0   7929.0  \n",
       "sur_refl_b04_1  1858.0   8526.0  \n",
       "sur_refl_b05_1  4528.0   9440.0  \n",
       "sur_refl_b06_1  4863.0   8326.0  \n",
       "sur_refl_b07_1  4416.0   6657.0  \n",
       "ndvi            2682.0  32203.0  \n",
       "ndwi1           -627.0  32558.0  \n",
       "ndwi2            367.0  32702.0  "
      ]
     },
     "execution_count": 32,
     "metadata": {},
     "output_type": "execute_result"
    }
   ],
   "source": [
    "df.describe().T"
   ]
  },
  {
   "cell_type": "markdown",
   "metadata": {},
   "source": [
    "#### Reshape the unravelled matrix back to the 4800x4800 raster shape"
   ]
  },
  {
   "cell_type": "code",
   "execution_count": 33,
   "metadata": {},
   "outputs": [
    {
     "data": {
      "text/plain": [
       "(1300, 1300)"
      ]
     },
     "execution_count": 33,
     "metadata": {},
     "output_type": "execute_result"
    }
   ],
   "source": [
    "matrix = np.asarray(predictedRaster)\n",
    "reshp = matrix.reshape(shp)\n",
    "reshp.shape"
   ]
  },
  {
   "cell_type": "code",
   "execution_count": 34,
   "metadata": {},
   "outputs": [
    {
     "data": {
      "text/plain": [
       "array([[1, 1, 1, ..., 1, 1, 1],\n",
       "       [1, 1, 1, ..., 1, 1, 1],\n",
       "       [1, 1, 1, ..., 1, 1, 1],\n",
       "       ...,\n",
       "       [0, 0, 0, ..., 0, 0, 0],\n",
       "       [0, 0, 0, ..., 0, 0, 0],\n",
       "       [0, 0, 0, ..., 0, 0, 0]], dtype=int16)"
      ]
     },
     "execution_count": 34,
     "metadata": {},
     "output_type": "execute_result"
    }
   ],
   "source": [
    "qa = [file for file in glob.glob('../data/*.tif') if 'qa' in file][0]\n",
    "ds = gdal.Open(qa)\n",
    "qaMask = ds.GetRasterBand(1).ReadAsArray()\n",
    "output = np.where(qaMask == 0, reshp, -9999)\n",
    "qaMask"
   ]
  },
  {
   "cell_type": "markdown",
   "metadata": {},
   "source": [
    "# Generating stats for predicted and truth"
   ]
  },
  {
   "cell_type": "markdown",
   "metadata": {},
   "source": [
    "### Count num of occurences for each class with the masked predicted result"
   ]
  },
  {
   "cell_type": "code",
   "execution_count": 35,
   "metadata": {},
   "outputs": [
    {
     "name": "stdout",
     "output_type": "stream",
     "text": [
      "Predicted\n",
      " No-data occuraces: 61568\n",
      " Land occurances: 1618557\n",
      " Water occurances: 9875\n"
     ]
    }
   ],
   "source": [
    "countNoData = np.count_nonzero(output == -9999)\n",
    "countLand = np.count_nonzero(output == 0)\n",
    "countWater = np.count_nonzero(output == 1)\n",
    "print('Predicted\\n No-data occuraces: {}\\n Land occurances: {}\\n Water occurances: {}'.format(countNoData, countLand, countWater))"
   ]
  },
  {
   "cell_type": "code",
   "execution_count": 36,
   "metadata": {},
   "outputs": [],
   "source": [
    "predictedPath = os.path.join(outputRasterPath, 'PowellPredictedWaterMask.tif')\n",
    "\n",
    "driver = gdal.GetDriverByName('GTiff')\n",
    "outDs = driver.Create(predictedPath, 1300, 1300, 1, gdal.GDT_Int16, options=['COMPRESS=LZW'])\n",
    "outDs.SetGeoTransform((-9961223.407, 231.65635, 0.0, 4285642.633667, 0.0, -231.65635))\n",
    "outDs.SetProjection(rasterProjection)\n",
    "outBand = outDs.GetRasterBand(1)\n",
    "outBand.WriteArray(output)\n",
    "outBand.SetNoDataValue(-9999)\n",
    "outDs.FlushCache()\n",
    "outDs = None\n",
    "outBand = None\n",
    "driver = None"
   ]
  },
  {
   "cell_type": "markdown",
   "metadata": {},
   "source": [
    "## View predictions with Folium"
   ]
  },
  {
   "cell_type": "code",
   "execution_count": 37,
   "metadata": {},
   "outputs": [],
   "source": [
    "import folium\n",
    "from folium import plugins\n",
    "\n",
    "sys.path.append('../scripts')\n",
    "import folium_helper"
   ]
  },
  {
   "cell_type": "code",
   "execution_count": 38,
   "metadata": {},
   "outputs": [
    {
     "name": "stdout",
     "output_type": "stream",
     "text": [
      "Transform: | 491.82, 0.00,-12749861.52|\n",
      "| 0.00,-491.82, 4656230.30|\n",
      "| 0.00, 0.00, 1.00|\n",
      "Width: 1670 Height: 770\n"
     ]
    }
   ],
   "source": [
    "mask_3857 = folium_helper.reproject_to_3857(predictedPath)\n",
    "mask_d = folium_helper.get_bounds(mask_3857)\n",
    "mask_b1 = folium_helper.open_and_get_band(mask_3857, 1)\n",
    "folium_helper.cleanup(mask_3857)\n",
    "mask_b1 = np.where(mask_b1 == -9999, 0, mask_b1)\n",
    "zeros = np.zeros_like(mask_b1)\n",
    "mask_rgb = np.dstack((mask_b1, zeros, zeros))"
   ]
  },
  {
   "cell_type": "code",
   "execution_count": 39,
   "metadata": {},
   "outputs": [],
   "source": [
    "m = folium.Map(location=[mask_d['center'][1], mask_d['center'][0]],\n",
    "                   tiles='https://mt1.google.com/vt/lyrs=s&x={x}&y={y}&z={z}', zoom_start = 6, attr='Google', control_scale=True)"
   ]
  },
  {
   "cell_type": "code",
   "execution_count": 40,
   "metadata": {},
   "outputs": [],
   "source": [
    "from folium import plugins"
   ]
  },
  {
   "cell_type": "code",
   "execution_count": 41,
   "metadata": {},
   "outputs": [
    {
     "data": {
      "text/html": [
       "<div style=\"width:100%;\"><div style=\"position:relative;width:100%;height:0;padding-bottom:60%;\"><span style=\"color:#565656\">Make this Notebook Trusted to load map: File -> Trust Notebook</span><iframe src=\"about:blank\" style=\"position:absolute;width:100%;height:100%;left:0;top:0;border:none !important;\" data-html=%3C%21DOCTYPE%20html%3E%0A%3Chead%3E%20%20%20%20%0A%20%20%20%20%3Cmeta%20http-equiv%3D%22content-type%22%20content%3D%22text/html%3B%20charset%3DUTF-8%22%20/%3E%0A%20%20%20%20%0A%20%20%20%20%20%20%20%20%3Cscript%3E%0A%20%20%20%20%20%20%20%20%20%20%20%20L_NO_TOUCH%20%3D%20false%3B%0A%20%20%20%20%20%20%20%20%20%20%20%20L_DISABLE_3D%20%3D%20false%3B%0A%20%20%20%20%20%20%20%20%3C/script%3E%0A%20%20%20%20%0A%20%20%20%20%3Cstyle%3Ehtml%2C%20body%20%7Bwidth%3A%20100%25%3Bheight%3A%20100%25%3Bmargin%3A%200%3Bpadding%3A%200%3B%7D%3C/style%3E%0A%20%20%20%20%3Cstyle%3E%23map%20%7Bposition%3Aabsolute%3Btop%3A0%3Bbottom%3A0%3Bright%3A0%3Bleft%3A0%3B%7D%3C/style%3E%0A%20%20%20%20%3Cscript%20src%3D%22https%3A//cdn.jsdelivr.net/npm/leaflet%401.6.0/dist/leaflet.js%22%3E%3C/script%3E%0A%20%20%20%20%3Cscript%20src%3D%22https%3A//code.jquery.com/jquery-1.12.4.min.js%22%3E%3C/script%3E%0A%20%20%20%20%3Cscript%20src%3D%22https%3A//maxcdn.bootstrapcdn.com/bootstrap/3.2.0/js/bootstrap.min.js%22%3E%3C/script%3E%0A%20%20%20%20%3Cscript%20src%3D%22https%3A//cdnjs.cloudflare.com/ajax/libs/Leaflet.awesome-markers/2.0.2/leaflet.awesome-markers.js%22%3E%3C/script%3E%0A%20%20%20%20%3Clink%20rel%3D%22stylesheet%22%20href%3D%22https%3A//cdn.jsdelivr.net/npm/leaflet%401.6.0/dist/leaflet.css%22/%3E%0A%20%20%20%20%3Clink%20rel%3D%22stylesheet%22%20href%3D%22https%3A//maxcdn.bootstrapcdn.com/bootstrap/3.2.0/css/bootstrap.min.css%22/%3E%0A%20%20%20%20%3Clink%20rel%3D%22stylesheet%22%20href%3D%22https%3A//maxcdn.bootstrapcdn.com/bootstrap/3.2.0/css/bootstrap-theme.min.css%22/%3E%0A%20%20%20%20%3Clink%20rel%3D%22stylesheet%22%20href%3D%22https%3A//maxcdn.bootstrapcdn.com/font-awesome/4.6.3/css/font-awesome.min.css%22/%3E%0A%20%20%20%20%3Clink%20rel%3D%22stylesheet%22%20href%3D%22https%3A//cdnjs.cloudflare.com/ajax/libs/Leaflet.awesome-markers/2.0.2/leaflet.awesome-markers.css%22/%3E%0A%20%20%20%20%3Clink%20rel%3D%22stylesheet%22%20href%3D%22https%3A//cdn.jsdelivr.net/gh/python-visualization/folium/folium/templates/leaflet.awesome.rotate.min.css%22/%3E%0A%20%20%20%20%0A%20%20%20%20%20%20%20%20%20%20%20%20%3Cmeta%20name%3D%22viewport%22%20content%3D%22width%3Ddevice-width%2C%0A%20%20%20%20%20%20%20%20%20%20%20%20%20%20%20%20initial-scale%3D1.0%2C%20maximum-scale%3D1.0%2C%20user-scalable%3Dno%22%20/%3E%0A%20%20%20%20%20%20%20%20%20%20%20%20%3Cstyle%3E%0A%20%20%20%20%20%20%20%20%20%20%20%20%20%20%20%20%23map_a5a5cce8890a4dc3afe530b14739e985%20%7B%0A%20%20%20%20%20%20%20%20%20%20%20%20%20%20%20%20%20%20%20%20position%3A%20relative%3B%0A%20%20%20%20%20%20%20%20%20%20%20%20%20%20%20%20%20%20%20%20width%3A%20100.0%25%3B%0A%20%20%20%20%20%20%20%20%20%20%20%20%20%20%20%20%20%20%20%20height%3A%20100.0%25%3B%0A%20%20%20%20%20%20%20%20%20%20%20%20%20%20%20%20%20%20%20%20left%3A%200.0%25%3B%0A%20%20%20%20%20%20%20%20%20%20%20%20%20%20%20%20%20%20%20%20top%3A%200.0%25%3B%0A%20%20%20%20%20%20%20%20%20%20%20%20%20%20%20%20%7D%0A%20%20%20%20%20%20%20%20%20%20%20%20%3C/style%3E%0A%20%20%20%20%20%20%20%20%0A%20%20%20%20%0A%20%20%20%20%20%20%20%20%20%20%20%20%20%20%20%20%3Cstyle%3E%0A%20%20%20%20%20%20%20%20%20%20%20%20%20%20%20%20%20%20%20%20.leaflet-image-layer%20%7B%0A%20%20%20%20%20%20%20%20%20%20%20%20%20%20%20%20%20%20%20%20%20%20%20%20/%2A%20old%20android/safari%2A/%0A%20%20%20%20%20%20%20%20%20%20%20%20%20%20%20%20%20%20%20%20%20%20%20%20image-rendering%3A%20-webkit-optimize-contrast%3B%0A%20%20%20%20%20%20%20%20%20%20%20%20%20%20%20%20%20%20%20%20%20%20%20%20image-rendering%3A%20crisp-edges%3B%20/%2A%20safari%20%2A/%0A%20%20%20%20%20%20%20%20%20%20%20%20%20%20%20%20%20%20%20%20%20%20%20%20image-rendering%3A%20pixelated%3B%20/%2A%20chrome%20%2A/%0A%20%20%20%20%20%20%20%20%20%20%20%20%20%20%20%20%20%20%20%20%20%20%20%20image-rendering%3A%20-moz-crisp-edges%3B%20/%2A%20firefox%20%2A/%0A%20%20%20%20%20%20%20%20%20%20%20%20%20%20%20%20%20%20%20%20%20%20%20%20image-rendering%3A%20-o-crisp-edges%3B%20/%2A%20opera%20%2A/%0A%20%20%20%20%20%20%20%20%20%20%20%20%20%20%20%20%20%20%20%20%20%20%20%20-ms-interpolation-mode%3A%20nearest-neighbor%3B%20/%2A%20ie%20%2A/%0A%20%20%20%20%20%20%20%20%20%20%20%20%20%20%20%20%20%20%20%20%7D%0A%20%20%20%20%20%20%20%20%20%20%20%20%20%20%20%20%3C/style%3E%0A%20%20%20%20%20%20%20%20%20%20%20%20%0A%20%20%20%20%3Cscript%20src%3D%22https%3A//cdn.jsdelivr.net/gh/ardhi/Leaflet.MousePosition/src/L.Control.MousePosition.min.js%22%3E%3C/script%3E%0A%20%20%20%20%3Clink%20rel%3D%22stylesheet%22%20href%3D%22https%3A//cdn.jsdelivr.net/gh/ardhi/Leaflet.MousePosition/src/L.Control.MousePosition.min.css%22/%3E%0A%3C/head%3E%0A%3Cbody%3E%20%20%20%20%0A%20%20%20%20%0A%20%20%20%20%20%20%20%20%20%20%20%20%3Cdiv%20class%3D%22folium-map%22%20id%3D%22map_a5a5cce8890a4dc3afe530b14739e985%22%20%3E%3C/div%3E%0A%20%20%20%20%20%20%20%20%0A%3C/body%3E%0A%3Cscript%3E%20%20%20%20%0A%20%20%20%20%0A%20%20%20%20%20%20%20%20%20%20%20%20var%20map_a5a5cce8890a4dc3afe530b14739e985%20%3D%20L.map%28%0A%20%20%20%20%20%20%20%20%20%20%20%20%20%20%20%20%22map_a5a5cce8890a4dc3afe530b14739e985%22%2C%0A%20%20%20%20%20%20%20%20%20%20%20%20%20%20%20%20%7B%0A%20%20%20%20%20%20%20%20%20%20%20%20%20%20%20%20%20%20%20%20center%3A%20%5B37.1868364898923%2C%20-110.84485924937243%5D%2C%0A%20%20%20%20%20%20%20%20%20%20%20%20%20%20%20%20%20%20%20%20crs%3A%20L.CRS.EPSG3857%2C%0A%20%20%20%20%20%20%20%20%20%20%20%20%20%20%20%20%20%20%20%20zoom%3A%206%2C%0A%20%20%20%20%20%20%20%20%20%20%20%20%20%20%20%20%20%20%20%20zoomControl%3A%20true%2C%0A%20%20%20%20%20%20%20%20%20%20%20%20%20%20%20%20%20%20%20%20preferCanvas%3A%20false%2C%0A%20%20%20%20%20%20%20%20%20%20%20%20%20%20%20%20%7D%0A%20%20%20%20%20%20%20%20%20%20%20%20%29%3B%0A%20%20%20%20%20%20%20%20%20%20%20%20L.control.scale%28%29.addTo%28map_a5a5cce8890a4dc3afe530b14739e985%29%3B%0A%0A%20%20%20%20%20%20%20%20%20%20%20%20%0A%0A%20%20%20%20%20%20%20%20%0A%20%20%20%20%0A%20%20%20%20%20%20%20%20%20%20%20%20var%20tile_layer_c1cabf30b1cb4bfc997222522aab7f2a%20%3D%20L.tileLayer%28%0A%20%20%20%20%20%20%20%20%20%20%20%20%20%20%20%20%22https%3A//mt1.google.com/vt/lyrs%3Ds%5Cu0026x%3D%7Bx%7D%5Cu0026y%3D%7By%7D%5Cu0026z%3D%7Bz%7D%22%2C%0A%20%20%20%20%20%20%20%20%20%20%20%20%20%20%20%20%7B%22attribution%22%3A%20%22Google%22%2C%20%22detectRetina%22%3A%20false%2C%20%22maxNativeZoom%22%3A%2018%2C%20%22maxZoom%22%3A%2018%2C%20%22minZoom%22%3A%200%2C%20%22noWrap%22%3A%20false%2C%20%22opacity%22%3A%201%2C%20%22subdomains%22%3A%20%22abc%22%2C%20%22tms%22%3A%20false%7D%0A%20%20%20%20%20%20%20%20%20%20%20%20%29.addTo%28map_a5a5cce8890a4dc3afe530b14739e985%29%3B%0A%20%20%20%20%20%20%20%20%0A%20%20%20%20%0A%20%20%20%20%20%20%20%20%20%20%20%20var%20image_overlay_876cabc095754275b56172565a347ba4%20%3D%20L.imageOverlay%28%0A%20%20%20%20%20%20%20%20%20%20%20%20%20%20%20%20%22data%3Aimage/png%3Bbase64%2CiVBORw0KGgoAAAANSUhEUgAABoYAAAMCCAYAAABEBXSBAAAiJElEQVR42uzdwZLbNhBAQf7/T08uPjguSQRAAAQwfeiqJLsipeE6quLTrK/rugIAgPPEF2YDAAAAqRkCAECGMGQmAAAAgDAEACAMAQAAAMIQAADCEAAAACAMAQCwTRgyCwAAAEAYAgBIEofMAQAAABCGAAAAAAAAhCEAAAAAAACEIQAAAAAAAIQhAAAAAAAAhCEAAAAAAACEIQAAAAAAAIQhAAAAAAAAhCEAAAAAAACEIQAAAAAAAIQhAAAAAAAAYcgQAAAAAAAAhCEAAAAAAACEIQCAzYQZAAAAABgCAAAAAACAMAQAAAAAAIAwBAAAAAAAgDAEAAAAAACAMAQAAAAAAIAwBAAAAAAAgDAEAAAAAACAMAQAAAAAAIAwBAAAAAAAgDAEAAAAAAAgDAEAAAAAACAMAQAAAAAAIAwBAAAAAAAgDAEAAAAAACAMAQAAAAAAIAwBAAAAAAAgDAEAAAAAACAMAQAAAAAAIAwBAAAAAAAgDAEAAAAAAAhDAAAAAAAACEMAAAAAAAAIQwAAAAAAAAhDAAAAAAAACEMAAAAAAAAIQwAAAAAAAAhDAAAAAAAACEMAAAAAAAAIQwAAAAAAAMIQAAAAAAAAwhAAAAAAAADCEAAAAAAAAMIQAAAAAAAAwhAAAAAAAADCEAAAAAAAAMIQAAAAAAAAwhAAAAAAAADCEAAAAAAAAMIQAAAAAACAMAQAAAAAAIAwBAAAAAAAgDAEAAAAAACAMAQAAAAAAIAwBAAAAAAAgDAEAAAAAACAMAQAvCL%2BYh4AAAAAwhAAkCQMiUMAAAAAwhAAIAoBAAAAIAwBAKdEIWEIAAAAQBgCABKFIXEIAAAAQBgCAJLEITMBAAAAEIYAgCQbQ%2BYCAAAAIAwBAIeHIfMAAAAAEIYAAGEIAAAAAGEIABCFAAAAABCGAABxCAAAAABhCABYMwyJQwAAAADCEACQKAyJQwAAAADCEABgawgAAAAAYQgAOC0OmQcAAACAMAQAJIlDZgEAAAAgDAEA4hAAAAAAwhAAIAwBAAAAIAwBANuFIXMAAAAAEIYAAHEIAAAAAGEIAAAAAAAAYQgAGyAAAAAAgDAEwNwoJA4BAAAAgDAEAAAAAACAMATA7ptCtoTwsw8AAAAgDAGQ5Ma4G%2BRk//k3DwAAAEAYAsBNcRBGAQAAAIQhAM64KW4OiEJmAQAAAAhDAAhDIAwBAAAACEMAAKIQAAAAgDAEALBZGBKHAAAAAGEIAMDGEAAAAIAwBABgWwgAAABAGAIAEIUAAAAAhCEAAGEIAAAAQBgCAHghCglDAAAAgDAEAJAgDJkHAAAAIAwBACQIQ2YBAAAACEMAADaFAAAAAIQhAIATopAwBAAAACAMAQDJ4pBABAAAAAhDAACHhyGzAAAAABCGAIBDY9BlSwgAAABAGAIA8mwJCUMAAAAAwhAAkHB7CAAAAABhCAAAAAAAQBgCAAAAAABAGAIAAAAAAEAYAgAAAAAAQBgCAAAAAABAGAIAAAAAAEAYAgAAAAAAQBgCAAAAAABAGAIAAAAAAEAYAgAAAAAAEIYAAAAAAAAQhgAAAAAAABCGAAAAAAAAEIYAAAAAAAAQhgAAAAAAABCGAAAAAAAAEIYAAOAYYQYAAAAIQwAAAAAAAAhDAAAAAAAACEMAAAAAAAAIQwAAAAAAAAhDAAAAAAAAwhAAAAAAAADCEAAAAAAAAMIQAAAAAAAAwhAAAAAAAADCEAAAAAAAAMIQAAAAAAAAwhAAAAAAAADCEAAAAAAAAMIQAAAAAACAMAQAAAAAAIAwBAAA1cIMAAAAQBgCAOD8ICQKAQAAgDAEAAAAAACAMAQAAAAAAIAwBAAAAAAAgDAEAAAAAACAMAQAAAAAAIAwBAAAAAAAIAwBAAAAAAAgDAEAAAAAACAMAQAAAAAAIAwBAAAAAAAgDAEAAAAAACAMAQAAAAAAIAwBAAAAAAAgDAEAAAAAACAMAQAAAAAAIAwBAAAAAAAIQwAAAAAAAAhDAAAAAAAACEMAAAAAAAAIQwAAAAAAAAhDAAAAAAAACEMAAAAAAAAIQwAAAAAAAAhDAAAAAAAACEMAAAAAAADCEAAAAAAAAMIQAAAAAAAAwhAAAAAAAADCEAAAAAAAAMIQAAAAAAAAwhAAAAAAAADCEAAAAAAAAMIQAAAAAAAAwhAAAAAAAADCEAAAAAAAgDAEAAAAAACAMAQAAAAAAIAwBAAAAAAAgDAEAAAAAACAMAQAAAAAAIAwBAAAAAAAgDAEAAAAAACAMAQAAAAAAIAwBAAAwPrCDAAAQBgCAAAgRxSKxsd8emzL8QAAQBgCAACASVFIyAEAAGEIAAAA20IAAIAwBAAAwG4BSBQCAABhCAAAgITbQSEMAQCAMAQAAEC%2BOGQuAAAgDAEAAHB4HBKGAABAGAIAACBZHDIPAAAQhgAAAEgSh8wCAACEIQAAAGwMAQAAwhAAAACiEAAAIAwBAACwVRgShwAAQBgCAAAgSRQShgAAQBgCAADg4ChkFgAAIAwBAACQaFvIPAAAQBgCAADg4ChkDgAAIAwBAABgSwgAABCGAAAAEIYAAABhCAAAgGWCTxR8n5kBAIAwBAAAwOEbQcIQAAAIQwAAABwaiGrDEQAAIAwBAACw8ebQN%2BYEAADCEAAAAInCkEAEAADCEAAAAIdHIZtDAAAgDAEAACAIAQAAwhAAAAA7haGa7//7380RAACEIQAAAA4MQ58eIw4BAIAwBAAAwCZBKF54PAAAIAwBAADwUiAyCwAAEIYAAAAQhwQlAAAQhgAAADgpDD15XAhFAAAgDAEAAHDuxhAAACAMAQAAcGAUshEEAADCEAAAAAniUAhDAAAgDAEAAHBOFPoUgP6NQcIQAAAIQwAAABy4ORQVG0UAAIAwBAAAwGGhSBgCAABhCAAAAGEIAAAQhgAAADgpDJkHAAAIQwAAANgYAgAAhCEAAABOCUNmAQAAwhAAAACiEAAAIAwBAAAgDgEAAMIQAAAAW8QgUQgAAIQhAAAAkgQhYQgAAIQhAAAAxCEAAEAYAgAA4LQoZC4AACAMAQAAkGhTSCACAABhCAAAgCRxyAYRAAAIQwBQfIPpclMJALaPQmYEAADCEAA032AyHwDYa1PI%2BzcAAAhDAOCTxwCQKAx5/wYAAGEIAG5vMv397%2BYCAPtGIXEIAACEIQAAAA4JQj7IAQAAwhAAAACJwhAAACAMAQAAcGAIEoUAAEAYAgAAIFEgMhMAABCGAAAASLQ5ZC4AACAMAQAAIA4BAADCEAAAACfFIfMAAABhCAAAgERbQ2YCAADCEAAAAAmikEAEAADCEAAAAEmikLkAAIAwBAAAQLKNIbMBAABhCAAAgMPDkJkAAIAwBAAAgCgEAAAIQwAAAOwYgb4xKwAAEIYAAABIEoYEIgAAEIYAAACwMQQAAAhDAAAA7BKE7iKReQEAgDAEAADAIXGoZIPIvAAAQBgCAABg8fBTszH0LQ6ZJQAACEMA8MpNLACgfhsoCjaFAAAAYQgAAIBDP3ghDgEAgDAEAADAwRu4YhAAAAhDAAAAHBiFBCAAABCGAAAASLwxBAAACEMAAAAIQwAAgDAEAACAMAQAAAhDAAAALB2FhCEAABCGAAAAEIUAAABhCAAAgB0DkBAEAAAIQwAAAOIQAAAgDAEAAHBSFLpEIQAAQBgCAAA4PwyZAwAAIAwBAAAkDkOCEQAAIAwBAADYGAIAAIQhAHCTCQC8ZwMAAMIQAAAAS4chcQgAABCGAAAAAAAAhCEAqP8ksk8kA5D9fXDlbaF/uW4AAIAwBMDjG07mAUDGGLTq%2B6D3aAAAQBgCINWnpAEg8yaOMAQAAAhDAAy54SQaASAOrRNhQhgCAACEIQBm3hBzAwqAbO%2BDb2/meh8GAACEIQCEIQCY/F74RhjyHgwAAAhDALweh8wGAJtDc%2BKQ918AAEAYAuDVMGQuAHgvfP/5uDYAAIAwBIA4BAAHvQ963wUAAIQhAIQhAHjxfVAUAgAAhCEAAABh6PF5Pv0zAACAMAQAAHDg5qwNXQAAQBgCAABIFIhEIQAAQBgCAABIFIbMGwAAEIYAAAAmBZgoDEMx4DkJQwAAgDAEwJQbY1HIzAA4cQPoKnzPG/W%2B6D0WAAAQhgDY4lPVAHBSILoLPiM%2BOOHDFwAAgDAEwDI3yty0AiBjGBKHAAAAYQgAACBZHIoOIUkUAgAAhCEAAIANN4ji6vv38YlCAACAMAQAALDg5tCo7SFxCAAAEIYAAAAWjEQ1IUkUAgAAhCEAAIBDtoZqNotqzuc6AAAAwhAAAMBiYajl%2BwUiAABAGAIAANgsEtWEoSg816djug4AAIAwBAAAsEAg6h2H/g5EwhAAACAMAQAALBSIasNQSeyxLQQAAAhDAAAAiwaiks2iu0jUul0EAAAgDAEAAEwOQk/CUGkQEosAAABhCAAA4KU41BKOej4H1wIAABCGAAAAJgaiT6FoRhgCAAAQhgAAAF6ORMIQAAAgDAEAABwchL4xHwAAQBgCAAA4PA5dwhAAACAMAQAAnBuFxCAAAEAYAgAASBSGAAAAhCEAAABxCAAAQBgCAAA4KQ6ZAwAAIAwBAAAIQwAAAMIQAADASWHoG/MBAACEIQAAAIEIAABAGAIAADgxFpkFAAAgDAEAAAhDAAAAwhAAAMBJccgcAAAAYQgAAEAYAgAAEIYAAABEIQAAAGEIAABAGAIAABCGAAAA5oefaPgaAACAMAQAALBZEIovASiEIQAAQBgCAAA4NwyFMAQAAAhDAAAAZ0ahmg0iAAAAYQgAAGDjOGQOAACAMAQAACAMAQAACEMAAADiEAAAgDAEAACwZRgKgQgAABCGAAAAxCEAAABhCAAA4NAwJBABAADCEAAAgM0hAAAAYQgAAOBTYBGHAAAAhCEAACDBxo2tIQAAAGEIAABIsCVkWwgAAEAYAgAAsO0EAAAgDAEAAKy19QQAACAMAQAAHBxWbAwBAADCEAAAwAtxKCY9z09cQwAAQBgCAAB4YXsnJp1DGAIAAIQhAACABbaNRgUbYQgAABCGAAAAFgtDJV9bbRsJAABAGAIAAHgYhnoEHRtCAACAMAQAADAo8kTj40rDTsvxRSEAAEAYAgAAGLz10%2BvxtWFIDAIAAIQhAACAgXGoNcTUPC4KNoi%2BbS6JRAAAgDAEAAAwMBJF4%2BNaA1HruQEAAIQhAACADpFoxGNFIQAAQBgCAABYeINoVhx6ek4AAABhCAAA4EEUag01MeEcAAAAwhAAAMDm20YAAADCEAAAwEaRRxgCAACEIQAAgI3DUFQ%2BxuwAAABhCAAAYLMo1BKJhCEAAEAYAgAAsFkEAAAgDAEAAOy6SRRfmBMAACAMAQAAHLYdJAQBAAAIQwAAQIIwZBYAAADCEAAAIAwBAAAIQwAAACeFIXEIAABAGAIAAGwMAQAACEMAAADiEAAAgDAEAACwZRwSrAAAAIQhAADA1pBwBQAACEMAAADCkBAEAAAIQwAAANvEoLj2/rVtKz33ELsAAEAYAgAAWD0IiRZ9ZmkmAAAgDAEAACwbM8xDGAIAAIQhAABAGFrieV6FzzPMEgAAEIYAAADOiBlR%2BPXZGzzCEAAACEMAAADbxKHTnn9MjkPCEAAACEMAAABHbOHs/BpmhyE/TwAAIAwBAADwctyKl88PAAAIQwAAAEyKMjHovDaFAABAGAIAAGCxMCQOAQAAwhAAAJA%2BqESi5x9CDgAAIAwBAAA2bPZ/HTWxp%2BR748e8hCUAABCGAAAAhKEXt4ZatodKjyUCAQCAMAQAACAMLRiHnkSl6BCcAAAAYQgAAGDJkCIMfefnBAAAEIYAAACbQ4uHodqwIwoBAADCEAAAYGsoSRg6MZQBAADCEAAAwMeQUvLfdwtDrjEAACAMAQAA3EShnTZn4vJr4AAAAGEIAACgKQxdi4ShX5tMwhAAACAMAQDAYdHCHMbONTabe1RwrQEAAGEIAAA222Qxi3mR5frwz61bRk%2Bvc%2BlGkCAEAAAIQwAAIAzxI7bETXC5Bsah1g0lUQgAABCGAAAgQcTY7dgrx6CauBIFISe%2BbPZ8C0d3kankvMIQAAAgDAEAgCgkDFVuYP2KKXF9/9VycfN9tZs98eA1PNlcAgAAEIYAAGBypCjZIHnj/BnCUEmY%2BbVJVLPF03PLp%2BV1AAAACEMAALBoKJoRbDKFoZGvNV68dv7cAAAAwhAAABwWiHpvhUTCwDAj2MwMQwAAAMIQAACIQ%2BLQi1s2s7eGAAAAhCEAADg8aMSgYwtDAAAACEMAALD45tCMMBSbz23X1wAAACAMAQBA0i2hUXGo5Ni7hyGbQgAAAMIQAABsu/0y%2B/ixYSwSgwAAAIQhAADYPgyNiES/jr1jFBKGAAAAhCEAANg6Cl2DwtBdcIpNQ4swBAAAIAwBAMCWYehXyJm1MTRiU2n27AAAABCGAABg2w2i3tsx38LQjlHI1hAAAIAwBAAA2weh0ZEmJp5r9PPdNWgBAAAIQwAAIAxNiTajzjEyZN3NRxgCAAAQhgAA4JgwFIPO0TvezNqeEoUAAACEIQAA2D4KlUSRJ5GmR0ypfX7x49%2BjgjAEAAAgDAEAwHGBqFccigEbQy3PKwqPUxuHRmwqAQAAIAwBAMBrG0StUaQ0DNVs/dw9rvUYJdtEfiYAAACEIQAAOGpLqCQMtYScJ2EoBukxIwAAAIQhAAA4Mg59CzWl2zmloWd0GHKtAQAAhCEAAEgbg1qiTOvxa8NNbYQq2XgCAABAGAIAAGFokTDUa9NHDAIAABCGAADg1Qjz5jmjIQ49DTQloWdkHAIAAEAYAgCA1zd03gpDcfO1knhU%2BlpqQk/N96wc4gAAABCGAADgtWBRGmDu4lDLFk8UnO%2B6eS6tYc2GEQAAgDAEAACptobu4k/v0FOzLbRLWAMAAEAYAgCALeNQabTpFXt6xiAAAACEIQAA2DIGzYwl8TAO1W4bxUuvEwAAAGEIAAC2iUQjjv805vQKQ643AAAAwhAAAOLQhDjU09PjuuYAAAAIQwAAMDAI9YxET47lugAAACAMAQAg4kyKQ29vC4lDAAAACEMAAPBjy6fX8VaIQ64xAAAAwhAAAAwMTKtxfQAAABCGAAAQczpvFPXcEhKCAAAAEIYAAGDQdk/pBtBbG0TXJQwBAAAgDAEAQJcwFIXf2%2Btc4hAAAADCEAAAKSPNVbC9MyMM9Q4ucc399XGiEAAAAMIQAADHbvPMDkS9ztMzHPXcbgIAAABhCACApeJQz%2BhRG1x6h6GrIvKIQwAAAAhDAACki0OfQsiM84zeFnqy2VTyHPxMAQAAIAwBALBlICrZuPkURuIa//cK1UadePDY1ufi5woAAABhCACALePQ3ddqAs1bcWjkthAAAAAIQwAAbB%2BGSoNJyabRW5tCLRtDfh4AAAAQhgAAEIcqtolGbwm1nLP0OAAAACAMAQAgEFXEodJg1CsKXQUbTK3HAwAAAGEIAABxqHEr6MkWUWm8aQk9ohAAAADCEAAAVAajlmNc15hfOxcPXp/rDQAAgDAEAAA3IeeEDR1hCAAAAGEIAAA6h6HY4DW61gAAAAhDAAAIQ9fzX/m2QxwCAAAAYQgAAFHo6vN3AQlDAAAACEMAALBRHOpxLDMFAABAGAIAgARhCAAAAIQhAADYIArFgGOaMQAAAMIQAAAcvjEkDAEAACAMAQDAxltDNdtFwhAAAADCEAAAbBiG4oeWMCQYAQAAIAwBAMDiYehqiEPmCwAAgDAEAACLRaG772nZCooH5wQAAABhCAAABoShJ9/3bZuo9/kBAABAGAIAgA5RqCTotG4V9dhYAgAAAGEIAAA6xSFhBgAAAIQhAABsEz3eCAIAAABhCAAAFg1AK2wTiVAAAAAIQwAAAAAAAAhDAAAAAAAACEMAAAAAAAAIQwAAAAAAAAhDAAAAAAAACEMAADBL/GEWAAAACEMAAJAkDpkDAAAAwhAAAIhDAAAAIAwBAMCpgUgkAgAAQBgCAAAAAABAGAIAAAAAAEAYAgCAoeIa%2B6vfwowBAAAQhgAAAAAAABCGAADg0M0kcwAAAEAYAgAAAAAAQBgCAAAAAABAGAIA4DBhBgAAACAMAQAAAAA%2BQASAMAQAAAAAAIAwBAAAAAA2ZwBAGAIAAACATcOQOASAMAQAAAAAiUKMOCSUAQhDAAAAAJAkvIghAAhDAAAAACC%2BAIAwBAAAAAAAIAwBAAAAALaHABCGAAAAAAAAEIYAAAAAAAAQhgAAAAAAABCGAAAAAAAAEIYAAAAAAAAQhgAAAAAAABCGAAAAAAAAEIYAAAAAIJEwAwCEIQAAAAAAAIQhAAAAALBFBIAwBAAAAAAIRwAIQwAAAAAAAAhDAAAAAAA2qgCEIQAAAAAAAIQhAAAAAAAAhCEAAAAAAACEIQAAAAAAAIQhAAAAAAAAhCEAAAAAAABhCAAAAAAAAGEIAAAAAAAAYQgAAAAAAABhCAAAAAAAAGEIAAAAAAAAYQgAAAAAAABhCAAAAAAAAGEIAAAAAAAAYQgAAAAAAABhCAAAAAAAQBgCAAAAAABAGAIAAAAAAEAYAgAAAAAAQBgCAAAAAABAGAIAAAAAAEAYAgAAgL7CDAAAEIYAAAAAAAAQhgAAAAAAABCGAAAAAAAAEIYAAAAAAAAQhgAAAAAAzhR/mAUgDAEAAAAAJAlDAhEgDAEAAAAAJIhB4hAgDAEAAAAACEMAwhAAAAAAgDAEIAwBAAAAAGwVhS5RCBCGAAAAAAByRCJzAIQhAAAAAADBB0AYAgAAAAAAQBgCAAAAwNYFACAMAQAAAAAAIAwBAAAAAAAgDAEAAAAAAGAAAAAAAAAAwhAAAAAAAADCEAAAAAAAAMIQAAAAAAAAwhAAAAAAsIwwAzMHhCEAAAAAQKAAQBgCAAAAAMQbAIQhAAAAAAAAhCEAAAAAwEYRAMIQAAAAACAOASAMAQAAAAAAIAwBAAAAgM0eABCGAAAAAEAcAgBhCAAAAAAEIgAwAAAAAAAYEn9CBBL0AIQhAAAAAABxCEAYAgAAAAAAQBgCAAAAANbfprFRAyAMAQAAAADJApE5AAhDAAAAACBeAIAwBAAAAICwAQAIQwAAAAAAAAhDAAAAAAAACEMAAAAAx4iHX2et6wUAwhAAAADgxjUAAMIQAAAAACAcAyAMAQAAAAAAIAwBAAAAAAAgDAEAAACQ6teFhesNAMIQAAAAAOIQAAhDAAAAAAAiIIAwBAAAAABZ4oLAINSYPyAMAQAAAG4egj8LmKn5A8IQAAAAAAAAwhAAAADgE9%2Bw5Z%2B38Gfv63zC/3cBhCEAAAAAAGEIQBgCAAAA3OgE/P8GAGEIAAAAAAAAYQgAAAAAsM0DgDAEAAAAGW7aunELIgwACEMAAAAAIN4AgDAEAAAAAACAMAQAAAAAACAMAQAAAJwqLr8iDABAGAIAAAAAABCGAAAAAICdt%2BTMAQBhCAAAAAAAAEMAAAAAAAAQhgAAAIAthOcHAIAwBAAAANwFG9EGAEAYAgAAAGwbAQAgDAEAAAAAACAMAQAAAAAAIAwBAAAAAAAgDAEAAAAbCTMAABCGAAAAAHEIAABhCAAAAAAAAGEIAAAAAAAAYQgAAACSCzMAAEAYAgAAAAAAQBgCAAAAAABAGAIAAADahRkAAAhDAAAAgDgEAN4jQBgCAAAAAABAGAIAAAAAAEAYAgAAAAAAQBgCAAAAAOqEGQAgDAEAAAC4cQ8ACEMAAAAAAAAIQwAAAAAAAAhDAAAAAAAACEMAAAAAAAAIQwAAAAAAAAhDAAAAAAAACEMAAAAAAAAIQwAAAADA/4UZACAMAQAAAAAACEMAAAAAAP%2B1c8dKAMFQEEX9/0%2BvRkEKFDHyklOc0e/QuAEAYQgAAAAAoK%2Bc2ANAGAIAAAAAFolDtgAQhgAAAAAAABCGAAAA4N/T7XYAAEAYAgAAAAAAQBgCAAAAAABAGAIAAAAAAEAYAgAAAKgrDZvQ656yBQDCEAAAAIA4BAAgDAEAAACMEIWEIQBAGAIAAABY6Gshceh%2BLzsAgDAEAAAAXoIzRSCyBQAgDAEAAAAAACAMAQAAAAAAIAwBAAAAAAAgDAEAAAAAACAMAQAAAAAACEMAAAAAAAAIQwAAAABAObEBeB5AGAIAAAAAABCGAAAAAAAAEIYAAAAAAAAQhgAAAAAAABCGAAAAAAAAEIYAAAAAAAAQhgAAAAAAABCGAAAAAAAAEIYAAAAAAAAQhgAAAAAAABCGAAAAAAAAhCEAAAAAGF5sAADCEAAAAADCEAAgDAEAAAAgDgGAMAQAAAAAohAACEMAAAAAAAAIQwAAAAAAAAhDAAAAAAAACEMAAAAAAAAIQwAAAAAAAAhDAAAAAAAACEMAAAAAwKPYAABhCAAAAAAAQBgCAAAAAABAGAIAAAAAAEAYAgAAAAAAQBgCAAAAAABAGAIAAAAAAEAYAgAAAAAAQBgCAAAAAABAGAIAAAAAAEAYAgAAAAAAEIYAAAAAgKvYAABhCAAAAADmDy6iEADCEAAAAAAAAMIQAAAAAAAAwhAAAAAAAADCEAAAAAAAAMIQAAAAAAAAwhAAAAAAAADCEAAAAB%2BLDQAAQBgCAAAAAABAGAIAAAAAAEAYAgAAAAAAQBgCAAAAAABAGAIAAAAAAEAYAgAAAAAAQBgCAAAAAAAQhowAAAAAAAAgDAEAAAAAACAMAQAAAAAAIAwBAAAAAAAgDAEAAAAAACAMAQAAAAAAIAwBAAAAAAAgDAEAAAAAACAMAQAAAAAAIAwBAAAAAAAIQwAAAAAAAAhDAAAAAAAACEMAAAAAAAAIQwAAAAAAAAhDAAAAAAAACEMAAAAAAAAIQwAAAAAAAAhDAAAAAAAACEMAAAAAAAAYAAAAAAAAQBgCAAAAAABAGAIAAAAAAEAYAgAAAAAAQBgCAAAAAABAGAIAAAAAAEAYAgAAAAAAQBgCAAAAAABAGAIAAAAAAEAYAgAAAAAAEIYAAAAAAAAQhgAAAACAl2IDAIQhAAAAAAAAhCEAAAAAAACEIQAAAAAAAIQhAAAAAAAAhCEAAAAAAACEIQAAAAAAAGEIAAAAAAAAYQgAAAAAAABhCAAAAAAAAGEIAAAAACgiB1sACEMAAAAAAAAIQwAAAAAAAAhDAAAAlJLNL4QAAEAYAgAAAAAAQBgCAAAAAABAGAIAAAAAiosNAIQhAAAAAAAAhCEAAAAAAACEIQAAAAAAAIQhAAAAAAAAhCEAAAAAAACEIQAAAAAAAIQhAAAAAAAAhCEAAAAAAABhCAAAAAAAAGEIAAAAAAAAYQgAAAAAAABhCAAAAAAAAGEIAAAAAAAAYQgAAAAAikpzBQBhCAAAAAAmDkMRhgAQhgAAAABAFAIAYQgAAAAAJgtEdgBAGAIAAAAAYQgAhCEAAAAAAACEIQAAAAAAAIQhAAAAAAAAhCEAAAAAAACEIQAAAAAAAGEIAAAAAAAAYQgAAAAAAABhCAAAAAAAAGEIAAAAAAAAYQgAAAAAAABhCAAAAAAAAGEIAAAAAAAAYQgAAAAAAABhCAAAAAAAAGEIAAAAAABAGAIAAAAAAEAYAgAAAAAAQBgCAAAAAABAGAIAAAAAAEAYAgAAAAAAQBgCAAAAAABAGAIAAAAAAEAYAgAAAAAAQBgCAAAAAABY3A6ndg1zf8ufgAAAAABJRU5ErkJggg%3D%3D%22%2C%0A%20%20%20%20%20%20%20%20%20%20%20%20%20%20%20%20%5B%5B35.832006264552895%2C%20-114.53395477030668%5D%2C%20%5B38.5416667152317%2C%20-107.15576372843819%5D%5D%2C%0A%20%20%20%20%20%20%20%20%20%20%20%20%20%20%20%20%7B%22opacity%22%3A%200.6%7D%0A%20%20%20%20%20%20%20%20%20%20%20%20%29.addTo%28map_a5a5cce8890a4dc3afe530b14739e985%29%3B%0A%20%20%20%20%20%20%20%20%0A%20%20%20%20%0A%20%20%20%20%20%20%20%20%20%20%20%20var%20mouse_position_b37f8e65a9784b91b97272ea4dec289e%20%3D%20new%20L.Control.MousePosition%28%0A%20%20%20%20%20%20%20%20%20%20%20%20%20%20%20%20%7B%22emptyString%22%3A%20%22Unavailable%22%2C%20%22lngFirst%22%3A%20false%2C%20%22numDigits%22%3A%205%2C%20%22position%22%3A%20%22bottomright%22%2C%20%22prefix%22%3A%20%22%22%2C%20%22separator%22%3A%20%22%20%3A%20%22%7D%0A%20%20%20%20%20%20%20%20%20%20%20%20%29%3B%0A%20%20%20%20%20%20%20%20%20%20%20%20mouse_position_b37f8e65a9784b91b97272ea4dec289e.options%5B%22latFormatter%22%5D%20%3D%0A%20%20%20%20%20%20%20%20%20%20%20%20%20%20%20%20undefined%3B%0A%20%20%20%20%20%20%20%20%20%20%20%20mouse_position_b37f8e65a9784b91b97272ea4dec289e.options%5B%22lngFormatter%22%5D%20%3D%0A%20%20%20%20%20%20%20%20%20%20%20%20%20%20%20%20undefined%3B%0A%20%20%20%20%20%20%20%20%20%20%20%20map_a5a5cce8890a4dc3afe530b14739e985.addControl%28mouse_position_b37f8e65a9784b91b97272ea4dec289e%29%3B%0A%20%20%20%20%20%20%20%20%0A%20%20%20%20%0A%20%20%20%20%20%20%20%20%20%20%20%20var%20layer_control_89e5f003e0bb4ab5a3db6b9280b54e1b%20%3D%20%7B%0A%20%20%20%20%20%20%20%20%20%20%20%20%20%20%20%20base_layers%20%3A%20%7B%0A%20%20%20%20%20%20%20%20%20%20%20%20%20%20%20%20%20%20%20%20%22https%3A//mt1.google.com/vt/lyrs%3Ds%5Cu0026x%3D%7Bx%7D%5Cu0026y%3D%7By%7D%5Cu0026z%3D%7Bz%7D%22%20%3A%20tile_layer_c1cabf30b1cb4bfc997222522aab7f2a%2C%0A%20%20%20%20%20%20%20%20%20%20%20%20%20%20%20%20%7D%2C%0A%20%20%20%20%20%20%20%20%20%20%20%20%20%20%20%20overlays%20%3A%20%20%7B%0A%20%20%20%20%20%20%20%20%20%20%20%20%20%20%20%20%20%20%20%20%22Water%20classification%20XGBOOST%20predicted%20mask%22%20%3A%20image_overlay_876cabc095754275b56172565a347ba4%2C%0A%20%20%20%20%20%20%20%20%20%20%20%20%20%20%20%20%7D%2C%0A%20%20%20%20%20%20%20%20%20%20%20%20%7D%3B%0A%20%20%20%20%20%20%20%20%20%20%20%20L.control.layers%28%0A%20%20%20%20%20%20%20%20%20%20%20%20%20%20%20%20layer_control_89e5f003e0bb4ab5a3db6b9280b54e1b.base_layers%2C%0A%20%20%20%20%20%20%20%20%20%20%20%20%20%20%20%20layer_control_89e5f003e0bb4ab5a3db6b9280b54e1b.overlays%2C%0A%20%20%20%20%20%20%20%20%20%20%20%20%20%20%20%20%7B%22autoZIndex%22%3A%20true%2C%20%22collapsed%22%3A%20true%2C%20%22position%22%3A%20%22topright%22%7D%0A%20%20%20%20%20%20%20%20%20%20%20%20%29.addTo%28map_a5a5cce8890a4dc3afe530b14739e985%29%3B%0A%20%20%20%20%20%20%20%20%0A%3C/script%3E onload=\"this.contentDocument.open();this.contentDocument.write(    decodeURIComponent(this.getAttribute('data-html')));this.contentDocument.close();\" allowfullscreen webkitallowfullscreen mozallowfullscreen></iframe></div></div>"
      ],
      "text/plain": [
       "<folium.folium.Map at 0x14d04d58c810>"
      ]
     },
     "execution_count": 41,
     "metadata": {},
     "output_type": "execute_result"
    }
   ],
   "source": [
    "m.add_child(folium_helper.get_overlay(mask_rgb, mask_d, 'Water classification XGBOOST predicted mask', opacity=0.6))\n",
    "m.add_child(plugins.MousePosition())\n",
    "m.add_child(folium.LayerControl())"
   ]
  },
  {
   "cell_type": "code",
   "execution_count": null,
   "metadata": {},
   "outputs": [],
   "source": []
  }
 ],
 "metadata": {
  "kernelspec": {
   "display_name": "Python [conda env:ilab]",
   "language": "python",
   "name": "conda-env-ilab-py"
  },
  "language_info": {
   "codemirror_mode": {
    "name": "ipython",
    "version": 3
   },
   "file_extension": ".py",
   "mimetype": "text/x-python",
   "name": "python",
   "nbconvert_exporter": "python",
   "pygments_lexer": "ipython3",
   "version": "3.7.12"
  }
 },
 "nbformat": 4,
 "nbformat_minor": 4
}
