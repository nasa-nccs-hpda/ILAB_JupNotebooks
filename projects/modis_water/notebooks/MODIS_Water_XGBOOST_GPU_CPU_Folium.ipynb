{
 "cells": [
  {
   "cell_type": "markdown",
   "metadata": {},
   "source": [
    "# Water Classification XGBOOST \n",
    "\n",
    "Version: DEMO\n",
    "\n",
    "ILAB Team\n",
    "\n",
    "Kernel to use:\n",
    "- (ADAPT PRISM) `Python [conda env:ilab]`\n",
    "\n",
    "\n",
    "This is a demo notebook showcasing how the ILAB team uses the XGBoost classifier algorithm. This notebook also demonstates how to use a raster as a test data-set for the trained model."
   ]
  },
  {
   "cell_type": "code",
   "execution_count": 1,
   "metadata": {},
   "outputs": [],
   "source": [
    "import csv\n",
    "import datetime\n",
    "import glob\n",
    "import joblib\n",
    "import numpy as np\n",
    "import os\n",
    "import pandas as pd\n",
    "from pathlib import Path\n",
    "import sys\n",
    "\n",
    "import xgboost as xgb\n",
    "\n",
    "from sklearn.ensemble import RandomForestClassifier as skRF\n",
    "from sklearn import metrics\n",
    "from sklearn.metrics import accuracy_score, roc_curve, auc, recall_score\n",
    "from sklearn.metrics import confusion_matrix, accuracy_score, roc_auc_score, precision_score\n",
    "from sklearn.metrics import classification_report, f1_score\n",
    "from sklearn.model_selection import RandomizedSearchCV, KFold\n",
    "from sklearn.model_selection import train_test_split \n",
    "from sklearn.inspection import permutation_importance\n",
    "\n",
    "# Visualization\n",
    "import seaborn as sns\n",
    "import matplotlib.pyplot as plt\n",
    "import warnings\n",
    "\n",
    "#GDAL Stuff\n",
    "from osgeo import gdalconst\n",
    "from osgeo import gdal\n",
    "\n",
    "from pprint import pprint\n",
    "\n",
    "warnings.filterwarnings('ignore')\n",
    "plt.style.use('fivethirtyeight')\n",
    "%matplotlib inline"
   ]
  },
  {
   "cell_type": "code",
   "execution_count": 2,
   "metadata": {},
   "outputs": [],
   "source": [
    "GPU = True\n",
    "DATA_TYPE = np.int16"
   ]
  },
  {
   "cell_type": "code",
   "execution_count": 3,
   "metadata": {},
   "outputs": [],
   "source": [
    "v_names = ['sur_refl_b01_1','sur_refl_b02_1','sur_refl_b03_1',\n",
    "           'sur_refl_b04_1','sur_refl_b05_1','sur_refl_b06_1',\n",
    "           'sur_refl_b07_1','ndvi','ndwi1','ndwi2']"
   ]
  },
  {
   "cell_type": "markdown",
   "metadata": {},
   "source": [
    "Add names from above to this list to drop them from training and testing.\n",
    "\n",
    "For example:\n",
    "\n",
    "```python\n",
    "columnsToDrop = ['sur_refl_b01_1', 'sur_refl_b07_1', 'ndwi1']\n",
    "```"
   ]
  },
  {
   "cell_type": "code",
   "execution_count": 4,
   "metadata": {},
   "outputs": [],
   "source": [
    "columnsToDrop = []"
   ]
  },
  {
   "cell_type": "markdown",
   "metadata": {},
   "source": [
    "This is a 1000 row training dataset which has columns for all the features listed in v_names. MODIS MOD09GA and MOD09GQ were the data sources."
   ]
  },
  {
   "cell_type": "code",
   "execution_count": 5,
   "metadata": {},
   "outputs": [],
   "source": [
    "dfPath = '../data/WaterClassificationPowell.parquet.gzip'"
   ]
  },
  {
   "cell_type": "code",
   "execution_count": 6,
   "metadata": {},
   "outputs": [],
   "source": [
    "outputRasterPath = '.'"
   ]
  },
  {
   "cell_type": "code",
   "execution_count": 7,
   "metadata": {},
   "outputs": [],
   "source": [
    "df = pd.read_parquet(dfPath).astype(DATA_TYPE)\n",
    "df = df.drop(columns=columnsToDrop)\n",
    "X = df.drop(['water'], axis=1)\n",
    "y = df['water']\n",
    "X_train, X_test, y_train, y_test = train_test_split(X, y, test_size=0.2)"
   ]
  },
  {
   "cell_type": "code",
   "execution_count": 8,
   "metadata": {},
   "outputs": [
    {
     "name": "stdout",
     "output_type": "stream",
     "text": [
      "sur_refl_b01_1\n",
      "sur_refl_b02_1\n",
      "sur_refl_b03_1\n",
      "sur_refl_b04_1\n",
      "sur_refl_b05_1\n",
      "sur_refl_b06_1\n",
      "sur_refl_b07_1\n",
      "ndvi\n",
      "ndwi1\n",
      "ndwi2\n"
     ]
    }
   ],
   "source": [
    "_ = [print(column) for column in X_train.columns]"
   ]
  },
  {
   "cell_type": "code",
   "execution_count": 9,
   "metadata": {},
   "outputs": [
    {
     "data": {
      "text/html": [
       "<div>\n",
       "<style scoped>\n",
       "    .dataframe tbody tr th:only-of-type {\n",
       "        vertical-align: middle;\n",
       "    }\n",
       "\n",
       "    .dataframe tbody tr th {\n",
       "        vertical-align: top;\n",
       "    }\n",
       "\n",
       "    .dataframe thead th {\n",
       "        text-align: right;\n",
       "    }\n",
       "</style>\n",
       "<table border=\"1\" class=\"dataframe\">\n",
       "  <thead>\n",
       "    <tr style=\"text-align: right;\">\n",
       "      <th></th>\n",
       "      <th>count</th>\n",
       "      <th>mean</th>\n",
       "      <th>std</th>\n",
       "      <th>min</th>\n",
       "      <th>25%</th>\n",
       "      <th>50%</th>\n",
       "      <th>75%</th>\n",
       "      <th>max</th>\n",
       "    </tr>\n",
       "  </thead>\n",
       "  <tbody>\n",
       "    <tr>\n",
       "      <th>sur_refl_b01_1</th>\n",
       "      <td>800.0</td>\n",
       "      <td>1240.48125</td>\n",
       "      <td>1322.694197</td>\n",
       "      <td>8.0</td>\n",
       "      <td>241.00</td>\n",
       "      <td>924.5</td>\n",
       "      <td>1907.25</td>\n",
       "      <td>9222.0</td>\n",
       "    </tr>\n",
       "    <tr>\n",
       "      <th>sur_refl_b02_1</th>\n",
       "      <td>800.0</td>\n",
       "      <td>1613.66375</td>\n",
       "      <td>1585.919064</td>\n",
       "      <td>1.0</td>\n",
       "      <td>172.75</td>\n",
       "      <td>1447.5</td>\n",
       "      <td>2674.25</td>\n",
       "      <td>8837.0</td>\n",
       "    </tr>\n",
       "    <tr>\n",
       "      <th>sur_refl_b03_1</th>\n",
       "      <td>800.0</td>\n",
       "      <td>759.86125</td>\n",
       "      <td>1044.525211</td>\n",
       "      <td>-100.0</td>\n",
       "      <td>271.75</td>\n",
       "      <td>567.5</td>\n",
       "      <td>863.50</td>\n",
       "      <td>8909.0</td>\n",
       "    </tr>\n",
       "    <tr>\n",
       "      <th>sur_refl_b04_1</th>\n",
       "      <td>800.0</td>\n",
       "      <td>1048.27625</td>\n",
       "      <td>1099.512944</td>\n",
       "      <td>6.0</td>\n",
       "      <td>396.50</td>\n",
       "      <td>838.5</td>\n",
       "      <td>1346.25</td>\n",
       "      <td>9162.0</td>\n",
       "    </tr>\n",
       "    <tr>\n",
       "      <th>sur_refl_b05_1</th>\n",
       "      <td>800.0</td>\n",
       "      <td>1992.77625</td>\n",
       "      <td>1488.905919</td>\n",
       "      <td>-92.0</td>\n",
       "      <td>538.50</td>\n",
       "      <td>1857.0</td>\n",
       "      <td>3261.50</td>\n",
       "      <td>6382.0</td>\n",
       "    </tr>\n",
       "    <tr>\n",
       "      <th>sur_refl_b06_1</th>\n",
       "      <td>800.0</td>\n",
       "      <td>1949.06250</td>\n",
       "      <td>1555.316968</td>\n",
       "      <td>45.0</td>\n",
       "      <td>499.00</td>\n",
       "      <td>1527.0</td>\n",
       "      <td>3288.75</td>\n",
       "      <td>6610.0</td>\n",
       "    </tr>\n",
       "    <tr>\n",
       "      <th>sur_refl_b07_1</th>\n",
       "      <td>800.0</td>\n",
       "      <td>1601.96125</td>\n",
       "      <td>1407.372021</td>\n",
       "      <td>3.0</td>\n",
       "      <td>306.50</td>\n",
       "      <td>1174.0</td>\n",
       "      <td>2762.00</td>\n",
       "      <td>6128.0</td>\n",
       "    </tr>\n",
       "    <tr>\n",
       "      <th>ndvi</th>\n",
       "      <td>800.0</td>\n",
       "      <td>64.24625</td>\n",
       "      <td>2565.801953</td>\n",
       "      <td>-9493.0</td>\n",
       "      <td>-1465.50</td>\n",
       "      <td>761.0</td>\n",
       "      <td>1744.25</td>\n",
       "      <td>8587.0</td>\n",
       "    </tr>\n",
       "    <tr>\n",
       "      <th>ndwi1</th>\n",
       "      <td>800.0</td>\n",
       "      <td>-2309.12375</td>\n",
       "      <td>3432.082130</td>\n",
       "      <td>-9862.0</td>\n",
       "      <td>-4577.50</td>\n",
       "      <td>-1627.5</td>\n",
       "      <td>-766.75</td>\n",
       "      <td>8823.0</td>\n",
       "    </tr>\n",
       "    <tr>\n",
       "      <th>ndwi2</th>\n",
       "      <td>800.0</td>\n",
       "      <td>-890.51250</td>\n",
       "      <td>3836.686056</td>\n",
       "      <td>-9692.0</td>\n",
       "      <td>-2713.50</td>\n",
       "      <td>-743.0</td>\n",
       "      <td>812.25</td>\n",
       "      <td>9858.0</td>\n",
       "    </tr>\n",
       "  </tbody>\n",
       "</table>\n",
       "</div>"
      ],
      "text/plain": [
       "                count        mean          std     min      25%     50%  \\\n",
       "sur_refl_b01_1  800.0  1240.48125  1322.694197     8.0   241.00   924.5   \n",
       "sur_refl_b02_1  800.0  1613.66375  1585.919064     1.0   172.75  1447.5   \n",
       "sur_refl_b03_1  800.0   759.86125  1044.525211  -100.0   271.75   567.5   \n",
       "sur_refl_b04_1  800.0  1048.27625  1099.512944     6.0   396.50   838.5   \n",
       "sur_refl_b05_1  800.0  1992.77625  1488.905919   -92.0   538.50  1857.0   \n",
       "sur_refl_b06_1  800.0  1949.06250  1555.316968    45.0   499.00  1527.0   \n",
       "sur_refl_b07_1  800.0  1601.96125  1407.372021     3.0   306.50  1174.0   \n",
       "ndvi            800.0    64.24625  2565.801953 -9493.0 -1465.50   761.0   \n",
       "ndwi1           800.0 -2309.12375  3432.082130 -9862.0 -4577.50 -1627.5   \n",
       "ndwi2           800.0  -890.51250  3836.686056 -9692.0 -2713.50  -743.0   \n",
       "\n",
       "                    75%     max  \n",
       "sur_refl_b01_1  1907.25  9222.0  \n",
       "sur_refl_b02_1  2674.25  8837.0  \n",
       "sur_refl_b03_1   863.50  8909.0  \n",
       "sur_refl_b04_1  1346.25  9162.0  \n",
       "sur_refl_b05_1  3261.50  6382.0  \n",
       "sur_refl_b06_1  3288.75  6610.0  \n",
       "sur_refl_b07_1  2762.00  6128.0  \n",
       "ndvi            1744.25  8587.0  \n",
       "ndwi1           -766.75  8823.0  \n",
       "ndwi2            812.25  9858.0  "
      ]
     },
     "execution_count": 9,
     "metadata": {},
     "output_type": "execute_result"
    }
   ],
   "source": [
    "X_train.describe().T"
   ]
  },
  {
   "cell_type": "markdown",
   "metadata": {},
   "source": [
    "## XGBOOST"
   ]
  },
  {
   "cell_type": "code",
   "execution_count": 10,
   "metadata": {},
   "outputs": [],
   "source": [
    "X_train, X_val, y_train, y_val = train_test_split(X_train, y_train, test_size=0.1)"
   ]
  },
  {
   "cell_type": "code",
   "execution_count": 15,
   "metadata": {},
   "outputs": [],
   "source": [
    "hyperparameters = {'objective': 'binary:logistic',\n",
    "                   'n_estimators':100,\n",
    "                   'base_score': None,\n",
    "                   'booster': None,\n",
    "                   'colsample_bylevel': None,\n",
    "                   'colsample_bynode': None,\n",
    "                   'colsample_bytree': None,\n",
    "                   'gamma': None,\n",
    "                   'gpu_id': None,\n",
    "                   'interaction_constraints': None,\n",
    "                   'learning_rate': 0.003,\n",
    "                   'max_delta_step': None,\n",
    "                   'max_depth': None,\n",
    "                   'min_child_weight': None,\n",
    "                   'monotone_constraints': None,\n",
    "                   'n_jobs': -1,\n",
    "                   'num_parallel_tree': None,\n",
    "                   'random_state': None,\n",
    "                   'reg_alpha': None,\n",
    "                   'reg_lambda': None,\n",
    "                   'scale_pos_weight': None,\n",
    "                   'subsample': None,\n",
    "                   #'tree_method': '',\n",
    "                   'validate_parameters': None,\n",
    "                   'verbosity': None}"
   ]
  },
  {
   "cell_type": "code",
   "execution_count": 16,
   "metadata": {},
   "outputs": [],
   "source": [
    "classifier = xgb.XGBClassifier(**hyperparameters)"
   ]
  },
  {
   "cell_type": "code",
   "execution_count": 17,
   "metadata": {},
   "outputs": [],
   "source": [
    "eval_set = [(X_train, y_train), (X_val, y_val)]\n",
    "eval_metric = [\"error\",\"auc\"]"
   ]
  },
  {
   "cell_type": "code",
   "execution_count": 18,
   "metadata": {},
   "outputs": [
    {
     "name": "stdout",
     "output_type": "stream",
     "text": [
      "[0]\tvalidation_0-error:0.01250\tvalidation_0-auc:0.99664\tvalidation_1-error:0.00000\tvalidation_1-auc:1.00000\n",
      "[1]\tvalidation_0-error:0.01250\tvalidation_0-auc:0.99664\tvalidation_1-error:0.00000\tvalidation_1-auc:1.00000\n",
      "[2]\tvalidation_0-error:0.01528\tvalidation_0-auc:0.99661\tvalidation_1-error:0.00000\tvalidation_1-auc:1.00000\n",
      "[3]\tvalidation_0-error:0.01528\tvalidation_0-auc:0.99661\tvalidation_1-error:0.00000\tvalidation_1-auc:1.00000\n",
      "[4]\tvalidation_0-error:0.01528\tvalidation_0-auc:0.99660\tvalidation_1-error:0.00000\tvalidation_1-auc:1.00000\n",
      "[5]\tvalidation_0-error:0.01528\tvalidation_0-auc:0.99660\tvalidation_1-error:0.00000\tvalidation_1-auc:1.00000\n",
      "[6]\tvalidation_0-error:0.01528\tvalidation_0-auc:0.99660\tvalidation_1-error:0.00000\tvalidation_1-auc:1.00000\n",
      "[7]\tvalidation_0-error:0.01528\tvalidation_0-auc:0.99660\tvalidation_1-error:0.00000\tvalidation_1-auc:1.00000\n",
      "[8]\tvalidation_0-error:0.01528\tvalidation_0-auc:0.99661\tvalidation_1-error:0.00000\tvalidation_1-auc:1.00000\n",
      "[9]\tvalidation_0-error:0.01528\tvalidation_0-auc:0.99661\tvalidation_1-error:0.00000\tvalidation_1-auc:1.00000\n",
      "[10]\tvalidation_0-error:0.01528\tvalidation_0-auc:0.99661\tvalidation_1-error:0.00000\tvalidation_1-auc:1.00000\n"
     ]
    },
    {
     "data": {
      "text/plain": [
       "XGBClassifier(base_score=0.5, booster='gbtree', colsample_bylevel=1,\n",
       "              colsample_bynode=1, colsample_bytree=1, enable_categorical=False,\n",
       "              gamma=0, gpu_id=-1, importance_type=None,\n",
       "              interaction_constraints='', learning_rate=0.003, max_delta_step=0,\n",
       "              max_depth=6, min_child_weight=1, missing=nan,\n",
       "              monotone_constraints='()', n_estimators=100, n_jobs=-1,\n",
       "              num_parallel_tree=1, predictor='auto', random_state=0,\n",
       "              reg_alpha=0, reg_lambda=1, scale_pos_weight=1, subsample=1,\n",
       "              tree_method='exact', validate_parameters=1, verbosity=None)"
      ]
     },
     "execution_count": 18,
     "metadata": {},
     "output_type": "execute_result"
    }
   ],
   "source": [
    "classifier.fit(X_train, y_train, eval_set=eval_set, eval_metric=eval_metric, early_stopping_rounds=10)"
   ]
  },
  {
   "cell_type": "code",
   "execution_count": 19,
   "metadata": {},
   "outputs": [
    {
     "data": {
      "image/png": "[encoded data removed]",
      "text/plain": [
       "<Figure size 1080x576 with 1 Axes>"
      ]
     },
     "metadata": {
      "needs_background": "light"
     },
     "output_type": "display_data"
    }
   ],
   "source": [
    "results = classifier.evals_result()\n",
    "epochs = len(results['validation_0']['error'])\n",
    "x_axis = range(0, epochs)\n",
    "fig, ax = plt.subplots(figsize=(15,8))\n",
    "ax.plot(x_axis, results['validation_0']['auc'], label='Train')\n",
    "ax.plot(x_axis, results['validation_1']['auc'], label='Test')\n",
    "ax.legend()\n",
    "plt.ylabel('AUC')\n",
    "plt.title('XGBoost AUC')\n",
    "plt.show()"
   ]
  },
  {
   "cell_type": "code",
   "execution_count": 20,
   "metadata": {},
   "outputs": [
    {
     "data": {
      "image/png": "[encoded data removed]",
      "text/plain": [
       "<Figure size 1080x576 with 1 Axes>"
      ]
     },
     "metadata": {
      "needs_background": "light"
     },
     "output_type": "display_data"
    }
   ],
   "source": [
    "results = classifier.evals_result()\n",
    "epochs = len(results['validation_0']['error'])\n",
    "x_axis = range(0, epochs)\n",
    "fig, ax = plt.subplots(figsize=(15,8))\n",
    "ax.plot(x_axis, results['validation_0']['error'], label='Train')\n",
    "ax.plot(x_axis, results['validation_1']['error'], label='Test')\n",
    "ax.legend()\n",
    "plt.ylabel('error')\n",
    "plt.title('XGBoost error')\n",
    "plt.show()"
   ]
  },
  {
   "cell_type": "markdown",
   "metadata": {},
   "source": [
    "## Model testing and training/testing data validation"
   ]
  },
  {
   "cell_type": "markdown",
   "metadata": {},
   "source": [
    "### Get model metrics"
   ]
  },
  {
   "cell_type": "code",
   "execution_count": 21,
   "metadata": {},
   "outputs": [
    {
     "data": {
      "text/plain": [
       "0.975"
      ]
     },
     "execution_count": 21,
     "metadata": {},
     "output_type": "execute_result"
    }
   ],
   "source": [
    "score = classifier.score(X_test, y_test)\n",
    "score = round(score, 3)\n",
    "score"
   ]
  },
  {
   "cell_type": "code",
   "execution_count": 22,
   "metadata": {},
   "outputs": [],
   "source": [
    "train_predictions = classifier.predict(X_train)\n",
    "test_predictions = classifier.predict(X_test)\n",
    "prediction_probs = classifier.predict_proba(X_test)"
   ]
  },
  {
   "cell_type": "code",
   "execution_count": 23,
   "metadata": {},
   "outputs": [],
   "source": [
    "test_predictions = test_predictions.astype(np.int32)\n",
    "y_test_int = y_test.astype(np.int32)"
   ]
  },
  {
   "cell_type": "code",
   "execution_count": 24,
   "metadata": {},
   "outputs": [
    {
     "name": "stdout",
     "output_type": "stream",
     "text": [
      "Test Performance\n",
      "-------------------------------------------------------\n",
      "              precision    recall  f1-score   support\n",
      "\n",
      "           0       0.97      0.98      0.98       100\n",
      "           1       0.98      0.97      0.97       100\n",
      "\n",
      "    accuracy                           0.97       200\n",
      "   macro avg       0.98      0.97      0.97       200\n",
      "weighted avg       0.98      0.97      0.97       200\n",
      "\n",
      "Test Recall\n",
      "-------------------------------------------------------\n",
      "0.98\n",
      "Confusion Matrix\n",
      "-------------------------------------------------------\n",
      "[[98  2]\n",
      " [ 3 97]]\n"
     ]
    }
   ],
   "source": [
    "print('Test Performance')\n",
    "print('-------------------------------------------------------')\n",
    "print(classification_report(y_test, test_predictions))\n",
    "cm = confusion_matrix(y_test_int, test_predictions)\n",
    "recall = (cm[0][0] / (cm[0][0] + cm[0][1]))\n",
    "print('Test Recall')\n",
    "print('-------------------------------------------------------')\n",
    "print(recall)\n",
    "print('Confusion Matrix')\n",
    "print('-------------------------------------------------------')\n",
    "print(cm)"
   ]
  },
  {
   "cell_type": "code",
   "execution_count": 25,
   "metadata": {},
   "outputs": [
    {
     "data": {
      "image/png": "[encoded data removed]",
      "text/plain": [
       "<Figure size 432x288 with 1 Axes>"
      ]
     },
     "metadata": {
      "needs_background": "light"
     },
     "output_type": "display_data"
    }
   ],
   "source": [
    "probs = classifier.predict_proba(X_test)\n",
    "preds = probs[:, 1]\n",
    "fpr, tpr, threshold = metrics.roc_curve(y_test, preds)\n",
    "roc_auc = metrics.auc(fpr, tpr)\n",
    "\n",
    "plt.title('Receiver Operating Characteristic')\n",
    "plt.plot(fpr, tpr, 'red', label = 'ROC-AUC score = %0.2f' % roc_auc)\n",
    "plt.legend(loc = 'lower right')\n",
    "plt.plot([0, 1], [0, 1],'b--')\n",
    "plt.xlim([0, 1])\n",
    "plt.ylim([0, 1])\n",
    "plt.ylabel('True Positive Rate')\n",
    "plt.xlabel('False Positive Rate')\n",
    "plt.show()"
   ]
  },
  {
   "cell_type": "markdown",
   "metadata": {},
   "source": [
    "## Permutation importance"
   ]
  },
  {
   "cell_type": "code",
   "execution_count": 26,
   "metadata": {},
   "outputs": [],
   "source": [
    "permutation_importance_results = permutation_importance(classifier,\n",
    "                                                        X=X_test,\n",
    "                                                        y=y_test,\n",
    "                                                        n_repeats=10,\n",
    "                                                        random_state=42)"
   ]
  },
  {
   "cell_type": "code",
   "execution_count": 27,
   "metadata": {},
   "outputs": [
    {
     "data": {
      "text/plain": [
       "Text(0.5, 0, 'Permutation Importance')"
      ]
     },
     "execution_count": 27,
     "metadata": {},
     "output_type": "execute_result"
    },
    {
     "data": {
      "image/png": "[encoded data removed]",
      "text/plain": [
       "<Figure size 576x576 with 1 Axes>"
      ]
     },
     "metadata": {
      "needs_background": "light"
     },
     "output_type": "display_data"
    }
   ],
   "source": [
    "sorted_idx = permutation_importance_results.importances_mean.argsort()\n",
    "plt.figure(figsize=(8, 8))\n",
    "plt.barh(X_test.columns[sorted_idx], permutation_importance_results.importances_mean[sorted_idx])\n",
    "plt.xlabel(\"Permutation Importance\")"
   ]
  },
  {
   "cell_type": "code",
   "execution_count": 28,
   "metadata": {},
   "outputs": [],
   "source": [
    "del X_train, X_test, y_train, y_test, test_predictions, train_predictions, y_test_int"
   ]
  },
  {
   "cell_type": "markdown",
   "metadata": {},
   "source": [
    "## Save the model for future use"
   ]
  },
  {
   "cell_type": "code",
   "execution_count": 29,
   "metadata": {},
   "outputs": [
    {
     "name": "stdout",
     "output_type": "stream",
     "text": [
      "Saving model to: ./water_classifier_xgb.sav\n",
      "XGBClassifier(base_score=0.5, booster='gbtree', colsample_bylevel=1,\n",
      "              colsample_bynode=1, colsample_bytree=1, enable_categorical=False,\n",
      "              gamma=0, gpu_id=-1, importance_type=None,\n",
      "              interaction_constraints='', learning_rate=0.003, max_delta_step=0,\n",
      "              max_depth=6, min_child_weight=1, missing=nan,\n",
      "              monotone_constraints='()', n_estimators=100, n_jobs=-1,\n",
      "              num_parallel_tree=1, predictor='auto', random_state=0,\n",
      "              reg_alpha=0, reg_lambda=1, scale_pos_weight=1, subsample=1,\n",
      "              tree_method='exact', validate_parameters=1, verbosity=None)\n"
     ]
    },
    {
     "data": {
      "text/plain": [
       "['./water_classifier_xgb.sav']"
      ]
     },
     "execution_count": 29,
     "metadata": {},
     "output_type": "execute_result"
    }
   ],
   "source": [
    "model_save_path = './water_classifier_xgb.sav'\n",
    "print('Saving model to: {}'.format(model_save_path))\n",
    "print(classifier)\n",
    "joblib.dump(classifier, model_save_path, compress=3)"
   ]
  },
  {
   "cell_type": "markdown",
   "metadata": {},
   "source": [
    "# Testing: Raster testing"
   ]
  },
  {
   "cell_type": "markdown",
   "metadata": {},
   "source": [
    "### Read in data \n",
    "\n",
    "These are modified MOD09GA and MOD09GQ products for the 2001 julian day 155. They were modified to be clipped to the Lake Powell region."
   ]
  },
  {
   "cell_type": "code",
   "execution_count": 30,
   "metadata": {},
   "outputs": [],
   "source": [
    "fileList = sorted([file for file in glob.glob('../data/IL.*.Powell.*.tif') if 'sur_refl' in file])"
   ]
  },
  {
   "cell_type": "code",
   "execution_count": 31,
   "metadata": {},
   "outputs": [],
   "source": [
    "def readRastersToArray(fileList):\n",
    "    rasterProjection = None\n",
    "    newshp = (1300*1300, 10)\n",
    "    img = np.empty(newshp, dtype=np.int16)\n",
    "    for i, fileName in enumerate(fileList):\n",
    "        ds = gdal.Open(fileName)\n",
    "        img[:, i] = ds.GetRasterBand(1).ReadAsArray().astype(np.int16).ravel()\n",
    "        if i == 0:\n",
    "            rasterProjection = ds.GetProjection()\n",
    "            transform = ds.GetGeoTransform()\n",
    "        ds = None\n",
    "    img[:, len(fileList)] = ((img[:, 1] - img[:, 0]) / (img[:, 1] + img[:, 0])) * 10000\n",
    "    img[:, len(fileList)+1] = ((img[:, 1] - img[:, 5]) / (img[:, 1] + img[:, 5])) * 10000\n",
    "    img[:, len(fileList)+2] = ((img[:, 1] - img[:, 6]) / (img[:, 1] + img[:, 6])) * 10000\n",
    "    return img, rasterProjection, transform"
   ]
  },
  {
   "cell_type": "code",
   "execution_count": 32,
   "metadata": {},
   "outputs": [
    {
     "name": "stdout",
     "output_type": "stream",
     "text": [
      "Raster as ndarray\n",
      "[[ 1547  2461   857 ...  2280  -518   510]\n",
      " [ 1474  2377   857 ...  2344  -691   337]\n",
      " [ 1474  2377   846 ...  2344  -472   623]\n",
      " ...\n",
      " [ 2358  2979  1028 ...  1163 -1727 -1292]\n",
      " [ 2425  3069  1117 ...  1172 -1721 -1216]\n",
      " [ 2402  3038  1117 ...  1169 -1770 -1266]]\n",
      "33.8 MB size\n",
      "CPU times: user 240 ms, sys: 36.3 ms, total: 276 ms\n",
      "Wall time: 287 ms\n"
     ]
    }
   ],
   "source": [
    "%%time\n",
    "im, rasterProjection, transform = readRastersToArray(fileList)\n",
    "print('Raster as ndarray')\n",
    "print(im)\n",
    "print('{} MB size'.format((im.size * im.itemsize) / 1000000))"
   ]
  },
  {
   "cell_type": "code",
   "execution_count": 33,
   "metadata": {},
   "outputs": [],
   "source": [
    "def predictRaster(img_chunk, colsToDrop=None):\n",
    "    \"\"\"\n",
    "    Function given a raster in the form of a nxn matrix, will\n",
    "    convert the matrix to a GPU/CPU-bound data frame then perform \n",
    "    predictions given the loaded model.\n",
    "    \n",
    "    Return the prediction matrix, the prediction probabilities\n",
    "    for each and the dataframe converted to host.\n",
    "    \"\"\"\n",
    "    df = pd.DataFrame(img_chunk, columns=v_names, dtype=np.int16)\n",
    "    df = df.drop(columns=columnsToDrop)\n",
    "    print('Making predictions from raster')\n",
    "    predictions = classifier.predict(df).astype(np.int16)\n",
    "    predictionsProbs = classifier.predict_proba(df).astype(np.float32)\n",
    "    return predictions, predictionsProbs, df"
   ]
  },
  {
   "cell_type": "code",
   "execution_count": 34,
   "metadata": {},
   "outputs": [
    {
     "name": "stdout",
     "output_type": "stream",
     "text": [
      "Making predictions from raster\n",
      "CPU times: user 2.64 s, sys: 54.3 ms, total: 2.69 s\n",
      "Wall time: 281 ms\n"
     ]
    }
   ],
   "source": [
    "%%time\n",
    "predictedRaster, predictedProbaRaster, df = predictRaster(im)"
   ]
  },
  {
   "cell_type": "code",
   "execution_count": 35,
   "metadata": {},
   "outputs": [],
   "source": [
    "shp = (1300, 1300)\n",
    "left = list()\n",
    "right = list()\n",
    "for i, subarr in enumerate(predictedProbaRaster):\n",
    "    left.append(subarr[0])\n",
    "    right.append(subarr[1])\n",
    "leftArr = np.asarray(left)\n",
    "rightArr = np.asarray(right)\n",
    "probaLand = leftArr.reshape(shp)\n",
    "probaWater = rightArr.reshape(shp)"
   ]
  },
  {
   "cell_type": "markdown",
   "metadata": {},
   "source": [
    "## Inputreshapet raster: description and histogram"
   ]
  },
  {
   "cell_type": "code",
   "execution_count": 36,
   "metadata": {},
   "outputs": [
    {
     "data": {
      "text/html": [
       "<div>\n",
       "<style scoped>\n",
       "    .dataframe tbody tr th:only-of-type {\n",
       "        vertical-align: middle;\n",
       "    }\n",
       "\n",
       "    .dataframe tbody tr th {\n",
       "        vertical-align: top;\n",
       "    }\n",
       "\n",
       "    .dataframe thead th {\n",
       "        text-align: right;\n",
       "    }\n",
       "</style>\n",
       "<table border=\"1\" class=\"dataframe\">\n",
       "  <thead>\n",
       "    <tr style=\"text-align: right;\">\n",
       "      <th></th>\n",
       "      <th>count</th>\n",
       "      <th>mean</th>\n",
       "      <th>std</th>\n",
       "      <th>min</th>\n",
       "      <th>25%</th>\n",
       "      <th>50%</th>\n",
       "      <th>75%</th>\n",
       "      <th>max</th>\n",
       "    </tr>\n",
       "  </thead>\n",
       "  <tbody>\n",
       "    <tr>\n",
       "      <th>sur_refl_b01_1</th>\n",
       "      <td>1690000.0</td>\n",
       "      <td>2140.144561</td>\n",
       "      <td>807.227853</td>\n",
       "      <td>-100.0</td>\n",
       "      <td>1530.0</td>\n",
       "      <td>2292.0</td>\n",
       "      <td>2756.0</td>\n",
       "      <td>9424.0</td>\n",
       "    </tr>\n",
       "    <tr>\n",
       "      <th>sur_refl_b02_1</th>\n",
       "      <td>1690000.0</td>\n",
       "      <td>3276.677008</td>\n",
       "      <td>741.654344</td>\n",
       "      <td>-28672.0</td>\n",
       "      <td>2793.0</td>\n",
       "      <td>3303.0</td>\n",
       "      <td>3780.0</td>\n",
       "      <td>8909.0</td>\n",
       "    </tr>\n",
       "    <tr>\n",
       "      <th>sur_refl_b03_1</th>\n",
       "      <td>1690000.0</td>\n",
       "      <td>954.288317</td>\n",
       "      <td>357.504891</td>\n",
       "      <td>-100.0</td>\n",
       "      <td>741.0</td>\n",
       "      <td>963.0</td>\n",
       "      <td>1148.0</td>\n",
       "      <td>7929.0</td>\n",
       "    </tr>\n",
       "    <tr>\n",
       "      <th>sur_refl_b04_1</th>\n",
       "      <td>1690000.0</td>\n",
       "      <td>1547.173863</td>\n",
       "      <td>505.923213</td>\n",
       "      <td>-100.0</td>\n",
       "      <td>1199.0</td>\n",
       "      <td>1577.0</td>\n",
       "      <td>1858.0</td>\n",
       "      <td>8526.0</td>\n",
       "    </tr>\n",
       "    <tr>\n",
       "      <th>sur_refl_b05_1</th>\n",
       "      <td>1690000.0</td>\n",
       "      <td>3897.447927</td>\n",
       "      <td>875.726008</td>\n",
       "      <td>-95.0</td>\n",
       "      <td>3277.0</td>\n",
       "      <td>3993.0</td>\n",
       "      <td>4528.0</td>\n",
       "      <td>9440.0</td>\n",
       "    </tr>\n",
       "    <tr>\n",
       "      <th>sur_refl_b06_1</th>\n",
       "      <td>1690000.0</td>\n",
       "      <td>4009.725915</td>\n",
       "      <td>1122.289522</td>\n",
       "      <td>83.0</td>\n",
       "      <td>3151.0</td>\n",
       "      <td>4271.0</td>\n",
       "      <td>4863.0</td>\n",
       "      <td>8326.0</td>\n",
       "    </tr>\n",
       "    <tr>\n",
       "      <th>sur_refl_b07_1</th>\n",
       "      <td>1690000.0</td>\n",
       "      <td>3465.508279</td>\n",
       "      <td>1221.271953</td>\n",
       "      <td>-28672.0</td>\n",
       "      <td>2504.0</td>\n",
       "      <td>3777.0</td>\n",
       "      <td>4416.0</td>\n",
       "      <td>6657.0</td>\n",
       "    </tr>\n",
       "    <tr>\n",
       "      <th>ndvi</th>\n",
       "      <td>1690000.0</td>\n",
       "      <td>2338.848757</td>\n",
       "      <td>1416.787988</td>\n",
       "      <td>-31900.0</td>\n",
       "      <td>1525.0</td>\n",
       "      <td>1854.0</td>\n",
       "      <td>2682.0</td>\n",
       "      <td>32203.0</td>\n",
       "    </tr>\n",
       "    <tr>\n",
       "      <th>ndwi1</th>\n",
       "      <td>1690000.0</td>\n",
       "      <td>-907.298652</td>\n",
       "      <td>1020.379711</td>\n",
       "      <td>-32272.0</td>\n",
       "      <td>-1428.0</td>\n",
       "      <td>-1105.0</td>\n",
       "      <td>-627.0</td>\n",
       "      <td>32558.0</td>\n",
       "    </tr>\n",
       "    <tr>\n",
       "      <th>ndwi2</th>\n",
       "      <td>1690000.0</td>\n",
       "      <td>-30.655925</td>\n",
       "      <td>1514.628116</td>\n",
       "      <td>-32539.0</td>\n",
       "      <td>-886.0</td>\n",
       "      <td>-506.0</td>\n",
       "      <td>367.0</td>\n",
       "      <td>32702.0</td>\n",
       "    </tr>\n",
       "  </tbody>\n",
       "</table>\n",
       "</div>"
      ],
      "text/plain": [
       "                    count         mean          std      min     25%     50%  \\\n",
       "sur_refl_b01_1  1690000.0  2140.144561   807.227853   -100.0  1530.0  2292.0   \n",
       "sur_refl_b02_1  1690000.0  3276.677008   741.654344 -28672.0  2793.0  3303.0   \n",
       "sur_refl_b03_1  1690000.0   954.288317   357.504891   -100.0   741.0   963.0   \n",
       "sur_refl_b04_1  1690000.0  1547.173863   505.923213   -100.0  1199.0  1577.0   \n",
       "sur_refl_b05_1  1690000.0  3897.447927   875.726008    -95.0  3277.0  3993.0   \n",
       "sur_refl_b06_1  1690000.0  4009.725915  1122.289522     83.0  3151.0  4271.0   \n",
       "sur_refl_b07_1  1690000.0  3465.508279  1221.271953 -28672.0  2504.0  3777.0   \n",
       "ndvi            1690000.0  2338.848757  1416.787988 -31900.0  1525.0  1854.0   \n",
       "ndwi1           1690000.0  -907.298652  1020.379711 -32272.0 -1428.0 -1105.0   \n",
       "ndwi2           1690000.0   -30.655925  1514.628116 -32539.0  -886.0  -506.0   \n",
       "\n",
       "                   75%      max  \n",
       "sur_refl_b01_1  2756.0   9424.0  \n",
       "sur_refl_b02_1  3780.0   8909.0  \n",
       "sur_refl_b03_1  1148.0   7929.0  \n",
       "sur_refl_b04_1  1858.0   8526.0  \n",
       "sur_refl_b05_1  4528.0   9440.0  \n",
       "sur_refl_b06_1  4863.0   8326.0  \n",
       "sur_refl_b07_1  4416.0   6657.0  \n",
       "ndvi            2682.0  32203.0  \n",
       "ndwi1           -627.0  32558.0  \n",
       "ndwi2            367.0  32702.0  "
      ]
     },
     "execution_count": 36,
     "metadata": {},
     "output_type": "execute_result"
    }
   ],
   "source": [
    "df.describe().T"
   ]
  },
  {
   "cell_type": "markdown",
   "metadata": {},
   "source": [
    "#### Reshape the unravelled matrix back to the 4800x4800 raster shape"
   ]
  },
  {
   "cell_type": "code",
   "execution_count": 37,
   "metadata": {},
   "outputs": [
    {
     "data": {
      "text/plain": [
       "(1300, 1300)"
      ]
     },
     "execution_count": 37,
     "metadata": {},
     "output_type": "execute_result"
    }
   ],
   "source": [
    "matrix = np.asarray(predictedRaster)\n",
    "reshp = matrix.reshape(shp)\n",
    "reshp.shape"
   ]
  },
  {
   "cell_type": "code",
   "execution_count": 38,
   "metadata": {},
   "outputs": [
    {
     "data": {
      "text/plain": [
       "array([[1, 1, 1, ..., 1, 1, 1],\n",
       "       [1, 1, 1, ..., 1, 1, 1],\n",
       "       [1, 1, 1, ..., 1, 1, 1],\n",
       "       ...,\n",
       "       [0, 0, 0, ..., 0, 0, 0],\n",
       "       [0, 0, 0, ..., 0, 0, 0],\n",
       "       [0, 0, 0, ..., 0, 0, 0]], dtype=int16)"
      ]
     },
     "execution_count": 38,
     "metadata": {},
     "output_type": "execute_result"
    }
   ],
   "source": [
    "qa = [file for file in glob.glob('../data/*.tif') if 'qa' in file][0]\n",
    "ds = gdal.Open(qa)\n",
    "qaMask = ds.GetRasterBand(1).ReadAsArray()\n",
    "output = np.where(qaMask == 0, reshp, -9999)\n",
    "qaMask"
   ]
  },
  {
   "cell_type": "markdown",
   "metadata": {},
   "source": [
    "# Generating stats for predicted and truth"
   ]
  },
  {
   "cell_type": "markdown",
   "metadata": {},
   "source": [
    "### Count num of occurences for each class with the masked predicted result"
   ]
  },
  {
   "cell_type": "code",
   "execution_count": 39,
   "metadata": {},
   "outputs": [
    {
     "name": "stdout",
     "output_type": "stream",
     "text": [
      "Predicted\n",
      " No-data occuraces: 61568\n",
      " Land occurances: 1617958\n",
      " Water occurances: 10474\n"
     ]
    }
   ],
   "source": [
    "countNoData = np.count_nonzero(output == -9999)\n",
    "countLand = np.count_nonzero(output == 0)\n",
    "countWater = np.count_nonzero(output == 1)\n",
    "print('Predicted\\n No-data occuraces: {}\\n Land occurances: {}\\n Water occurances: {}'.format(countNoData, countLand, countWater))"
   ]
  },
  {
   "cell_type": "code",
   "execution_count": 40,
   "metadata": {},
   "outputs": [],
   "source": [
    "geoTransform = (-9961223.407, 231.65635, 0.0, 4285642.633667, 0.0, -231.65635)"
   ]
  },
  {
   "cell_type": "code",
   "execution_count": 41,
   "metadata": {},
   "outputs": [],
   "source": [
    "predictedPath = os.path.join(outputRasterPath, 'PowellPredictedWaterMask.tif')\n",
    "\n",
    "driver = gdal.GetDriverByName('GTiff')\n",
    "outDs = driver.Create(predictedPath, 1300, 1300, 1, gdal.GDT_Int16, options=['COMPRESS=LZW'])\n",
    "outDs.SetGeoTransform(geoTransform)\n",
    "outDs.SetProjection(rasterProjection)\n",
    "outBand = outDs.GetRasterBand(1)\n",
    "outBand.WriteArray(output)\n",
    "outBand.SetNoDataValue(-9999)\n",
    "outDs.FlushCache()\n",
    "outDs = None\n",
    "outBand = None\n",
    "driver = None"
   ]
  },
  {
   "cell_type": "markdown",
   "metadata": {},
   "source": [
    "## View predictions with Folium"
   ]
  },
  {
   "cell_type": "code",
   "execution_count": 42,
   "metadata": {},
   "outputs": [],
   "source": [
    "import folium\n",
    "from folium import plugins\n",
    "\n",
    "sys.path.append('../scripts')\n",
    "import folium_helper"
   ]
  },
  {
   "cell_type": "code",
   "execution_count": 43,
   "metadata": {},
   "outputs": [
    {
     "name": "stdout",
     "output_type": "stream",
     "text": [
      "Transform: | 491.82, 0.00,-12749861.52|\n",
      "| 0.00,-491.82, 4656230.30|\n",
      "| 0.00, 0.00, 1.00|\n",
      "Width: 1670 Height: 770\n"
     ]
    }
   ],
   "source": [
    "mask_3857 = folium_helper.reproject_to_3857(predictedPath)\n",
    "mask_d = folium_helper.get_bounds(mask_3857)\n",
    "mask_b1 = folium_helper.open_and_get_band(mask_3857, 1)\n",
    "folium_helper.cleanup(mask_3857)\n",
    "mask_b1 = np.where(mask_b1 == -9999, 0, mask_b1)\n",
    "zeros = np.zeros_like(mask_b1)\n",
    "mask_rgb = np.dstack((mask_b1, zeros, zeros))"
   ]
  },
  {
   "cell_type": "code",
   "execution_count": 44,
   "metadata": {},
   "outputs": [],
   "source": [
    "m = folium.Map(location=[mask_d['center'][1], mask_d['center'][0]],\n",
    "                   tiles='https://mt1.google.com/vt/lyrs=s&x={x}&y={y}&z={z}', zoom_start = 6, attr='Google')"
   ]
  },
  {
   "cell_type": "code",
   "execution_count": 45,
   "metadata": {},
   "outputs": [],
   "source": [
    "from folium import plugins"
   ]
  },
  {
   "cell_type": "code",
   "execution_count": 46,
   "metadata": {},
   "outputs": [
    {
     "data": {
      "text/html": [
       "<div style=\"width:100%;\"><div style=\"position:relative;width:100%;height:0;padding-bottom:60%;\"><span style=\"color:#565656\">Make this Notebook Trusted to load map: File -> Trust Notebook</span><iframe src=\"about:blank\" style=\"position:absolute;width:100%;height:100%;left:0;top:0;border:none !important;\" data-html=%3C%21DOCTYPE%20html%3E%0A%3Chead%3E%20%20%20%20%0A%20%20%20%20%3Cmeta%20http-equiv%3D%22content-type%22%20content%3D%22text/html%3B%20charset%3DUTF-8%22%20/%3E%0A%20%20%20%20%0A%20%20%20%20%20%20%20%20%3Cscript%3E%0A%20%20%20%20%20%20%20%20%20%20%20%20L_NO_TOUCH%20%3D%20false%3B%0A%20%20%20%20%20%20%20%20%20%20%20%20L_DISABLE_3D%20%3D%20false%3B%0A%20%20%20%20%20%20%20%20%3C/script%3E%0A%20%20%20%20%0A%20%20%20%20%3Cstyle%3Ehtml%2C%20body%20%7Bwidth%3A%20100%25%3Bheight%3A%20100%25%3Bmargin%3A%200%3Bpadding%3A%200%3B%7D%3C/style%3E%0A%20%20%20%20%3Cstyle%3E%23map%20%7Bposition%3Aabsolute%3Btop%3A0%3Bbottom%3A0%3Bright%3A0%3Bleft%3A0%3B%7D%3C/style%3E%0A%20%20%20%20%3Cscript%20src%3D%22https%3A//cdn.jsdelivr.net/npm/leaflet%401.6.0/dist/leaflet.js%22%3E%3C/script%3E%0A%20%20%20%20%3Cscript%20src%3D%22https%3A//code.jquery.com/jquery-1.12.4.min.js%22%3E%3C/script%3E%0A%20%20%20%20%3Cscript%20src%3D%22https%3A//maxcdn.bootstrapcdn.com/bootstrap/3.2.0/js/bootstrap.min.js%22%3E%3C/script%3E%0A%20%20%20%20%3Cscript%20src%3D%22https%3A//cdnjs.cloudflare.com/ajax/libs/Leaflet.awesome-markers/2.0.2/leaflet.awesome-markers.js%22%3E%3C/script%3E%0A%20%20%20%20%3Clink%20rel%3D%22stylesheet%22%20href%3D%22https%3A//cdn.jsdelivr.net/npm/leaflet%401.6.0/dist/leaflet.css%22/%3E%0A%20%20%20%20%3Clink%20rel%3D%22stylesheet%22%20href%3D%22https%3A//maxcdn.bootstrapcdn.com/bootstrap/3.2.0/css/bootstrap.min.css%22/%3E%0A%20%20%20%20%3Clink%20rel%3D%22stylesheet%22%20href%3D%22https%3A//maxcdn.bootstrapcdn.com/bootstrap/3.2.0/css/bootstrap-theme.min.css%22/%3E%0A%20%20%20%20%3Clink%20rel%3D%22stylesheet%22%20href%3D%22https%3A//maxcdn.bootstrapcdn.com/font-awesome/4.6.3/css/font-awesome.min.css%22/%3E%0A%20%20%20%20%3Clink%20rel%3D%22stylesheet%22%20href%3D%22https%3A//cdnjs.cloudflare.com/ajax/libs/Leaflet.awesome-markers/2.0.2/leaflet.awesome-markers.css%22/%3E%0A%20%20%20%20%3Clink%20rel%3D%22stylesheet%22%20href%3D%22https%3A//cdn.jsdelivr.net/gh/python-visualization/folium/folium/templates/leaflet.awesome.rotate.min.css%22/%3E%0A%20%20%20%20%0A%20%20%20%20%20%20%20%20%20%20%20%20%3Cmeta%20name%3D%22viewport%22%20content%3D%22width%3Ddevice-width%2C%0A%20%20%20%20%20%20%20%20%20%20%20%20%20%20%20%20initial-scale%3D1.0%2C%20maximum-scale%3D1.0%2C%20user-scalable%3Dno%22%20/%3E%0A%20%20%20%20%20%20%20%20%20%20%20%20%3Cstyle%3E%0A%20%20%20%20%20%20%20%20%20%20%20%20%20%20%20%20%23map_6268665de690449dacc594b99ae09988%20%7B%0A%20%20%20%20%20%20%20%20%20%20%20%20%20%20%20%20%20%20%20%20position%3A%20relative%3B%0A%20%20%20%20%20%20%20%20%20%20%20%20%20%20%20%20%20%20%20%20width%3A%20100.0%25%3B%0A%20%20%20%20%20%20%20%20%20%20%20%20%20%20%20%20%20%20%20%20height%3A%20100.0%25%3B%0A%20%20%20%20%20%20%20%20%20%20%20%20%20%20%20%20%20%20%20%20left%3A%200.0%25%3B%0A%20%20%20%20%20%20%20%20%20%20%20%20%20%20%20%20%20%20%20%20top%3A%200.0%25%3B%0A%20%20%20%20%20%20%20%20%20%20%20%20%20%20%20%20%7D%0A%20%20%20%20%20%20%20%20%20%20%20%20%3C/style%3E%0A%20%20%20%20%20%20%20%20%0A%20%20%20%20%0A%20%20%20%20%20%20%20%20%20%20%20%20%20%20%20%20%3Cstyle%3E%0A%20%20%20%20%20%20%20%20%20%20%20%20%20%20%20%20%20%20%20%20.leaflet-image-layer%20%7B%0A%20%20%20%20%20%20%20%20%20%20%20%20%20%20%20%20%20%20%20%20%20%20%20%20/%2A%20old%20android/safari%2A/%0A%20%20%20%20%20%20%20%20%20%20%20%20%20%20%20%20%20%20%20%20%20%20%20%20image-rendering%3A%20-webkit-optimize-contrast%3B%0A%20%20%20%20%20%20%20%20%20%20%20%20%20%20%20%20%20%20%20%20%20%20%20%20image-rendering%3A%20crisp-edges%3B%20/%2A%20safari%20%2A/%0A%20%20%20%20%20%20%20%20%20%20%20%20%20%20%20%20%20%20%20%20%20%20%20%20image-rendering%3A%20pixelated%3B%20/%2A%20chrome%20%2A/%0A%20%20%20%20%20%20%20%20%20%20%20%20%20%20%20%20%20%20%20%20%20%20%20%20image-rendering%3A%20-moz-crisp-edges%3B%20/%2A%20firefox%20%2A/%0A%20%20%20%20%20%20%20%20%20%20%20%20%20%20%20%20%20%20%20%20%20%20%20%20image-rendering%3A%20-o-crisp-edges%3B%20/%2A%20opera%20%2A/%0A%20%20%20%20%20%20%20%20%20%20%20%20%20%20%20%20%20%20%20%20%20%20%20%20-ms-interpolation-mode%3A%20nearest-neighbor%3B%20/%2A%20ie%20%2A/%0A%20%20%20%20%20%20%20%20%20%20%20%20%20%20%20%20%20%20%20%20%7D%0A%20%20%20%20%20%20%20%20%20%20%20%20%20%20%20%20%3C/style%3E%0A%20%20%20%20%20%20%20%20%20%20%20%20%0A%20%20%20%20%3Cscript%20src%3D%22https%3A//cdn.jsdelivr.net/gh/ardhi/Leaflet.MousePosition/src/L.Control.MousePosition.min.js%22%3E%3C/script%3E%0A%20%20%20%20%3Clink%20rel%3D%22stylesheet%22%20href%3D%22https%3A//cdn.jsdelivr.net/gh/ardhi/Leaflet.MousePosition/src/L.Control.MousePosition.min.css%22/%3E%0A%3C/head%3E%0A%3Cbody%3E%20%20%20%20%0A%20%20%20%20%0A%20%20%20%20%20%20%20%20%20%20%20%20%3Cdiv%20class%3D%22folium-map%22%20id%3D%22map_6268665de690449dacc594b99ae09988%22%20%3E%3C/div%3E%0A%20%20%20%20%20%20%20%20%0A%3C/body%3E%0A%3Cscript%3E%20%20%20%20%0A%20%20%20%20%0A%20%20%20%20%20%20%20%20%20%20%20%20var%20map_6268665de690449dacc594b99ae09988%20%3D%20L.map%28%0A%20%20%20%20%20%20%20%20%20%20%20%20%20%20%20%20%22map_6268665de690449dacc594b99ae09988%22%2C%0A%20%20%20%20%20%20%20%20%20%20%20%20%20%20%20%20%7B%0A%20%20%20%20%20%20%20%20%20%20%20%20%20%20%20%20%20%20%20%20center%3A%20%5B37.186836489892286%2C%20-110.84485924937243%5D%2C%0A%20%20%20%20%20%20%20%20%20%20%20%20%20%20%20%20%20%20%20%20crs%3A%20L.CRS.EPSG3857%2C%0A%20%20%20%20%20%20%20%20%20%20%20%20%20%20%20%20%20%20%20%20zoom%3A%206%2C%0A%20%20%20%20%20%20%20%20%20%20%20%20%20%20%20%20%20%20%20%20zoomControl%3A%20true%2C%0A%20%20%20%20%20%20%20%20%20%20%20%20%20%20%20%20%20%20%20%20preferCanvas%3A%20false%2C%0A%20%20%20%20%20%20%20%20%20%20%20%20%20%20%20%20%7D%0A%20%20%20%20%20%20%20%20%20%20%20%20%29%3B%0A%0A%20%20%20%20%20%20%20%20%20%20%20%20%0A%0A%20%20%20%20%20%20%20%20%0A%20%20%20%20%0A%20%20%20%20%20%20%20%20%20%20%20%20var%20tile_layer_7b34e72cf10a4972b0bcf07e2a03c332%20%3D%20L.tileLayer%28%0A%20%20%20%20%20%20%20%20%20%20%20%20%20%20%20%20%22https%3A//mt1.google.com/vt/lyrs%3Ds%5Cu0026x%3D%7Bx%7D%5Cu0026y%3D%7By%7D%5Cu0026z%3D%7Bz%7D%22%2C%0A%20%20%20%20%20%20%20%20%20%20%20%20%20%20%20%20%7B%22attribution%22%3A%20%22Google%22%2C%20%22detectRetina%22%3A%20false%2C%20%22maxNativeZoom%22%3A%2018%2C%20%22maxZoom%22%3A%2018%2C%20%22minZoom%22%3A%200%2C%20%22noWrap%22%3A%20false%2C%20%22opacity%22%3A%201%2C%20%22subdomains%22%3A%20%22abc%22%2C%20%22tms%22%3A%20false%7D%0A%20%20%20%20%20%20%20%20%20%20%20%20%29.addTo%28map_6268665de690449dacc594b99ae09988%29%3B%0A%20%20%20%20%20%20%20%20%0A%20%20%20%20%0A%20%20%20%20%20%20%20%20%20%20%20%20var%20image_overlay_cd7216d095f741cb9ce2da7b7aa2e8e4%20%3D%20L.imageOverlay%28%0A%20%20%20%20%20%20%20%20%20%20%20%20%20%20%20%20%22data%3Aimage/png%3Bbase64%2CiVBORw0KGgoAAAANSUhEUgAABoYAAAMCCAYAAABEBXSBAAAioklEQVR42uzcy3LjOAxAUf3/T2M2s%2BhKWRYpkxIBnsWpeTiWHCjdrtI1chzHEQAA1BQnzAYAAAC2ZQgAAIIQAAAAIAwBAFAmDJkLAAAAIAwBAGwQh8wDAAAAEIYAAEQhAAAAQBgCAEAUAgAAAIQhAAAAAAAAhCEAAAAAAACEIQAAAAAAAIQhAAAAAAAAhCEAAAAAAACEIQAAAAAAAIQhAAAAAAAAhCEAAAAAAABhCAAAAAAAAGEIAAAAAAAAYQgAAAAAAABhCAAAAAAAAGEIAOAVYQYAAAAAhgAAAAAAACAMAQAAAAAAIAwBAAAAAAAgDAEAAAAAACAMAQAAAAAAIAwBAAAAAAAgDAEAAAAAACAMAQAAAAAAIAwBAAAAAAAgDAEAAAAAAAhDAAAAAAAACEMAAAAAAAAIQwAAAAAAAAhDAAAAAAAACEMAAAAAAAAIQwBQWPz5JwAAAAAIQwAAAAAAAAhDAAAAAAAACEMAsIwwAwAAAACEIQAQh/59XEACAAAAQBgCgAJRSPgBAAAAQBgCgI3CkFkAAAAAIAwBAAAAAAAgDAEAAAAAACAMAQAAAAAAIAwBAAAAAAAgDAEAAAAAACAMAcCKwgwAAAAAEIYAYJ8wJA4BAAAAIAwBgO0hAAAAABCGAEAUAgAAAABhCAAAAAAAAAMAAAAAAAAQhgAAAAAAABCGAIAnhRkAAAAAIAwBAAAAAAAgDAEAAAAAACAMAQAAAAAACEMAAAAAAAAIQwAAAAAAAAhDAAAAAAAACEMAAAAAAAAIQwAAAAAAAAhDAAAAbwozAAAAhCEAAAAAAACEIQBgq0/Rh0/TAwAAAAhDAMBeYUgcAgAAABCGAAAbQwAAAAAIQwBAlU0hYQgAAABAGAIANgpD4hAAAACAMAQAbBKHzAQAAABAGAIANtkYMhcAAAAAYQgAEIYAAAAAEIYAAGEIAAAAAGEIAEgRhcwDAAAAQBgCAMQhAAAAAIQhAKBaGBKHAAAAAIQhAGCjMCQOAQAAAAhDAICtIQAAAACEIQBAGAIAAABAGAIAhCEAAAAAhCEAQBwCAAAAQBgCABYIRGYBAAAAIAwBAMIQAAAAAMIQAFApDpkDAAAAgDAEAAAAAACAMASADRAAAAAAQBgCYIkoJA4BAAAAgDAEAAAAAACAMARA9k0hW0L42QcAAAAQhgDY4Ma4G%2BSIQ%2BYAAAAACEMAbHJD3E1x/Dnw5wAAAAAQhgDYZFsIBCEAAAAAYQgAYQiEIQAAAABhCABAFAIAAAAQhgAAhCEAAAAAYQgAQBgCAAAAEIYAAIQhAAAAAGEIAGB8EBKFAAAAAGEIAMCmEAAAAIAwBAAgDAEAAAAIQwAAohAAAACAMAQAsFYYMgsAAABAGAIAsCkEAAAAIAwBAAhDAAAAAMIQAIAwBAAAACAMAQCsFYbMAgAAAEAYAgCKxiBhCAAAAEAYAgA22hIKYQgAAABAGAIA9tweAgAAAMAAAAAAAAAAhCEAAAAAAACEIQAAAAAAAIQhAAAAAAAAhCEAAAAAAACEIQAAAAAAAIQhAAAAAAAAhCEAAAAAAACEIQAAAAAAAIQhAAAAAAAAYQgAAAAAAABhCAAAAAAAAGEIAAAAAAAAYQgAAAAAAABhCAAAAAAAAGEIAACqCzMAAABAGAIAAGEIAAAAhCEAAAAAAACEIQAAAAAAAIQhAAAAAAAAhCEAAAAAAABhCAAAAAAAAGEIAAAAAAAAYQgAgFTCDAAAAEAYAgBAGBKfAAAAQBgCAAAAAABAGAIAAAAAAEAYAgAAAAAAQBgCAAAAAABAGAIAAAAAAEAYAgAAAAAAQBgCAGAJYQYAAAAgDAEAUD8IiUIAAAAgDAEAsEkUEoYAAABAGAIAwMYQAAAAIAwBAAAAAAAgDAEAAAAAACAMAQAAAAAAIAwBAAAAAAAgDAEAAAAAAAhDAAAAAAAACEMAAAAAAAAIQwAAAAAAAAhDAAAAAAAACEMAAAAAAAAIQwAAAAAAAAhDAAAAAAAACEMAAAAAAAAIQwAAAAAAAAhDAAAAAAAAwhAAAAAAAADCEAAAAAAAAMIQAADLCjMAAAAAhCEAAAAAAABhCAAAAAAAAGEIAAAAAAAAYQgAAAAAAABhCAAAAAAAAGEIAAAAAAAAYQgAAAAAAABhCAAAAAAAAGEIAAAAAAAAYQgAAAAAAEAYAgAAAAAAQBgCAAAAAABAGAIAAAAAAEAYAgAAAAAAQBgCAAAAAABAGAIAAAAAAEAYAgAAAAAAQBgCAAAAAABAGAIAAAAAAEAYAgAAYDFhBgAAIAwBAAAAAAAgDAEAAGBjCAAAEIYAAAAQhQAAAGEIAACAJcOQOAQAAMIQAAAA4hAAACAMAQAAUC0K/XWcxKKzrz1O/h8AACAMAQAAsFgQMhMAABCGAAAAKBKBruKQOQEAgDAEAABA0TAkCAEAgDAEAABA4Tj0yQqbSwAAIAwBAADAA3HoyRgkDAEAIAwBAADAi3HIxhAAAAhDAAAACEPTzu06AAAgDAEAAMALcci2EAAACEMAAAAIQwAAgDAEAABAlSgkDAEAgDAEAACAMAQAAAhDAAAAVAlCwhAAAAhDAAAA2BICAACEIQAAAIQhAABAGAIAACBFFDIPAAAQhgAAABCFAAAAYQgAAABhCAAAEIYAAAB4PfZcRR9hCAAAhCEAAACKRqKzx80KAACEIQAAAIoFIhtDAAAgDAEAALDZ5lAc7b9uDgAAEIYAAAAoFIXin681MwAAEIYAAAAoHIVsDgEAgDAEAACAKAQAAAhDAAAAZApDPV9/9t8AAIAwBAAAQLEwZIsIAACEIQAAABIGofjxucIQAAAIQwAAABQNQwAAgDAEAABA8kg0%2BzkAAIAwBAAAQMIwdPx5jlAEAADCEAAAAIXDEAAAIAwBAACQMApFw%2BPiEQAACEMAAAAU3hgKcQgAAIQhAAAAcoegv/8eX1zFIwAAQBgCAAAg6ebQWSwyIwAAEIYAAADYIBQJQwAAIAwBAAAgDAEAAMIQAAAAohAAACAMAQAAkC4MiUMAACAMAQAAYGMIAAAQhgAAAKgQhswCAACEIQAAAMQhAABAGAIAePcGpjkA/B6CQhQCAABhCAAAgL2ikDAEAADCEAAAAOIQAAAgDAEAAFApCpkLAAAIQwAAAGy0KSQQAQCAMAQAAMAmccgGEQAACEMA8POnjwGAPFHIjAAAQBgCADeXAGCTTSHv3wAAIAwBwE83mMwJAHKFIe/fAAAgDAFA000m8wCA/FHI%2BzoAAAhDAAAAFIlBh/ADAADCEAAAAHvEIXMBAABhCAAAgMJbQqIQAAAIQwAAAGwSiMwEAACEIQAAADbaHDIXAAAQhgAAABCHAAAAYQgAAABxCAAAEIYAAAAQhQAAAGEIAACAdcOQQAQAAMIQAAAAtoUAAABhCAAAgGobQ2YDAADCEAAAAMXDkJkAAIAwBAAAgCgEAAAIQwAAAGQNQSEOAQCAMAQAAMCeUUggAgAAYQgAAABhCAAAEIYAAADIFISuIpF5AQCAMAQAAECROHS1QWRWAAAgDAEAAJAg/PRsDJ3FIbMEAABhCABeuYkFAPRvA0VHFAIAAIQhAAAAfPACAAAQhgAAAMgSgmwJAQCAMAQAPu0MAAXfL71nAgCAMAQAAIAPUwAAAMIQAAAAwhAAACAMAQAAIAwBAADCEAAAAGtGIWEIAACEIQAAAAqHoBCFAAAAYQgAAKB%2BDDITAABAGAIAABCHAAAAYQgAAIAKUegQhQAAAGEIAABgnzAEAAAgDAEAABQPQ%2BYAAAAIQwAAAMIQAAAgDAGAm0wA4D0bAAAQhgAAAEgXhsQhAABAGAIAAAAAABCGAKD/k8g%2BkQzAju99x%2BLvffGB6wcAAAhDAAy54WQeAOwahsJ7NAAAIAwBsNuNMQDY8YMRq27kCEMAAIAwBMCUG06iEQCi0DoRZuVYBQAACEMA%2BLQ0AKR/H3x7M9d7MQAAIAwBIAwBwMPvhW%2BEobPX4P0YAAAQhgB4LA6ZDQDi0DNxyPsvAAAgDAHwahgyFwC8F777elwXAABAGAJAHAKAYu%2BD3ncBAABhCABhCAA2eB/0ngsAAAhDAAAAL4ehmef59O8AAADCEAAAQMGNIRu6AACAMAQAALBgHIrJ5zJ3AABAGAIAACi%2BOSQKAQAAwhAAAMCDASZe2hqyLQQAAAhDALzyCehPN6bcrAKg8vvf0Rh9ZoUh77EAAIAwBECKT1UDQMUPSIz6eptCAACAMASAOAQAyTZnxSEAAEAYAgAAKB6HYkBIEoUAAABhCAAAIOEGURx9IannfOYPAAAIQwAAAItsDs3aHhKGAAAAYQgAAGDBODQ6DIlCAACAMAQAAJBga6gnIPWez7UAAACEIQAAgIXC0J2v7zmv6wEAAAhDAAAAC0SinjAUjef6dEzXAQAAEIYAAAAKxqF/A5EwBAAACEMAAAALRaLeMNQSe2wLAQAAwhAAAMCigah1u%2BhbJLq7XQQAACAMAQAAPByEfglDrUFILAIAAIQhAACAheKQwAMAAAhDAAAAxQNRfPj/V881QwAAQBgCAABIGol6whAAAIAwBAAAkHxrKIQhAABAGAIAANgnDh3CEAAAIAwBAADUDUJiEAAAIAwBAABsEofMAgAAEIYAAADEIQAAAGEIAACgWhwyBwAAQBgCAAAQhgAAAIQhAACASmHojPkAAADCEAAAgEAEAAAgDAEAAFSMRWYBAAAIQwAAAMIQAACAMAQAAFApDpkDAAAgDAEAAAhDAAAAwhAAAIAoBAAAIAwBAAAIQwAAAMIQAADA8%2BEnbjwGAAAgDAEAACQLQnESgEIYAgAAhCEAAIC6YSiEIQAAQBgCAACoGYV6NogAAACEIQAAQGTxugEAAIQhAACAbFtDAAAAwhAAAIBtJwAAAGEIAAAgc2AJm0MAAIAwBAAAsM/mjTgEAAAIQwAAADfiSvYwJA4BAADCEAAAwEZxSxwCAACEIQAAgI7AIg4BAAAIQwAAwAYbN7aGAAAAhCEAAMCWkCgEAAAgDAEAANh2AgAAEIYAAABsPQEAAMIQAACAsDJyW0gYAgAAhCEAAICH41A89Do/cQ0BAABhCAAAoNAGTwhDAACAMAQAALDettGsYCMMAQAAwhAAAMBiYajlsZW2kQAAAIQhAACAH8PQqO0hG0IAAIAwBAAAMCnyxM3ntYadO8cXhQAAAGEIAADgga2fUc/vDTxiEAAAIAwBAAAsGInuxKGzLaKzzSWRCAAAEIYAAAAmxKHe7Z7eDZ9o5HoAAADCEAAAwOIbRFfPFYUAAABhCAAAYOENInEIAABAGAIAADaIQndDTTxwDgAAAGEIAAAg%2BbYRAACAMAQAAJAo8ghDAACAMAQAAJA4DEXnc8wOAAAQhgAAAJJFoV8jEQAAgDAEAABgswgAAEAYAgAAyLxJJAwBAADCEAAAQMHtoEMMAgAAEIYAAIB9whAAAADCEAAAIAwBAAAIQwAAAFXCkDgEAAAgDAEAADaGAAAAhCEAAABxCAAAQBgCAABIGYe8LgAAAGEIAACwNSQQ%2BT4AAEAYAgAAEIbomakZAwCAMAQAAPBquIjkYWil1/7va/n7usQ3AAAQhgAAAF4PQjZZ9g5rAACAMAQAAGwSNMxjfGQDAACEIQAAAGHoxuts3WaKl%2BcoCgEAgDAEAAAgDA2ORC0R6cnvTxgCAABhCAAAIE0cqvb64%2BE4JAwBAIAwBAAAUGILJ/P38HQY8vMEAADCEAAAAC/HrZh8PmEIAACEIQAAABbZeIrB5/vEtQAAAGEIAACABcLQjK2hQxgCAABhCAAAIFNQiY1e/4wNH1EIAACEIQAAAB7eFOoJNC1fGxfnEYMAAEAYAgAASBdUqmw93dkeujqWCAQAAMKQIQAAAMLQwnHol6gkDAEAAMIQAABQMgxV3RoaFYX8nAAAAMIQAAAgDi0ehnq%2Br29RSBwCAACEIQAAQBgqFIY%2BHcfPBgAAIAwBAAAlo1AUiUUjohAAAIAwBAAAbBWFMm7OiEIAAIAwBAAA0BmGjkXCUOsmUxzjfoUcAACAMAQAAC9FAXOYO9dIMve4CECiEAAAIAwBAIAwROO2UDRGo9Yto182glpeqyAEAAAIQwAAUDBamMXc0BYXgWh0HLq7oSQKAQAAwhAAANgWsonU%2BL32btxEQ8j5FGPiSzi6ikwt5xWGAAAAYQgAAEShW9tIuwWiuNgSOtvWOos1V8dsCTjx43UThQAAAGEIAACSRIqWDRJhaHwYao1w3zaJerZ4Rm75iEAAAIAwBAAAhULREzf%2BdwpDM7/XOPw6NwAAQBgCAAAGhYae7ZbW4%2B%2B2efJEsBGGAAAAYQgAABCHFpupMAQAACAMAQBAiqARE44rDAEAACAMAQBAgs2hkcdv2S7KOLfjsMkDAAAgDAEAQKItoVlho%2BXY2cOQIAQAACAMAQBA2u2XFY4fSWbm5wcAAEAYAgCA9NsvMfH42aOQMAQAACAMAQBA6ih0J%2BDcjU6fIlC20CIMAQAACEMAAJAyDP2y3fNrHPoUpbLODgAAAGEIAABSbhDFhAByduyMUcjWEAAAgDAEAAAlgtDM4BFfzhVJ5pJ5ywkAAEAYAgAATgNIPHSeEceduTkVD84IAABAGAIAAF4LQzHpHCNf%2B5PbU6IQAACAMAQAAOmjUEsU%2BSXSjAgqva8vvvx3dBCGAAAAhCEAACgXiEbFoRgQdVq3mnpDVdw0e1MJAAAAYQgAAF7bILobRXrCUGvcuXre3WO0bBP5mQAAABCGAACg1JZQSxhqjTnfwktPGIpJXHcAAABhCAAAxKGLuHMnDEVH6JkdhlxrAAAAYQgAALaNQXeizN3j94ab3gjVsvEEAACAMAQAAMLQImFo1KaPGAQAACAMAQDAqxFmlfNHYxwaFWe%2BhZ6ZcQgAAABhCAAAXt/QeSsG3YlDx0XQ%2BWVb6E5AyhLiAAAAEIYAAODxMHRnO%2BfO5k/vc%2BJLlLp6HasFOAAAAIQhAAC4DCYrhqG7oadnWyhLWAMAAEAYAgCA4cEm%2B9ZQy9e77gAAAAhDAABsuSn0Rhi6E4f%2BfV78wPUHAABAGAIAQCSaFE9GxJxRYcj1BgAAQBgCAEAcmhxQYrBfj%2BuaAwAAIAwBAMDEIDQyEv1yLNcFAAAAYQgAABHnoU2kt7eFxCEAAACEIQAA%2BLLlUykOucYAAAAIQwAAMHlbaCWuDwAAAMIQAABizuCNopFbQkIQAAAAwhAAAEza7mndAMqwReQaAwAAIAwBAMCN6CMOAQAAIAwBAMDASHM0bO88EYZmBJcnQ5AoBAAAgDAEAEDZbZ6nA9Go84yORlfnAQAAAGEIAIB0cWhk9Og5/oww1HrOuPlaxSEAAACEIQAASsShv1/3xHlmbwuNilhnz/czBQAAgDAEAEDKQHT2%2BK9bSDMC0S/HH/26bBEBAAAgDAEAkDoOXT02IgzNjkMzt4UAAABAGAIAIH0Yag0mZ4%2BtsCl0Z2PIzwMAAADCEAAAAlFjFHpiS2jUuYQhAAAAhCEAAMShCXHoGBRhro7Re3xRCAAAAGEIAABhaJDe4x8Nz50Re4QhAAAAhCEAAOiMRneOcRxjf%2B3ciG0k1xsAAABhCAAABgWcWPz7c50BAAAQhgAA4CIO9T5/9e/RtQYAAEAYAgBAGDrG/Mo38QUAAABhCAAAEkahuHksMwUAAEAYAgCAJHFoxLHMFAAAAGEIAAA2CEPiEAAAAMIQAAAkiEIx4ZhmDAAAgDAEAACFN4YOYQgAAABhCAAAcm8N9WwXCUMAAAAIQwAAkDAMxRd3wpBgBAAAgDAEAACLh6GjMQ61bhUBAACAMAQAAC%2BEoTuPx83HAAAAQBgCAIAXN4XuxqOzbaJRUQoAAACEIQAAGLgp1BJ07m4VtcYp1wMAAABhCAAAHtoaMgsAAAAQhgAA2Hyb6NeNIAAAABCGAABg0QC0wjaRCAUAAIAwBAAAAAAAgDAEAAAAAACAMAQAAAAAAIAwBAAAAAAAgDAEAAAAAACAMAQAAE%2BJ/5kFAAAAwhAAAGwSh8wBAAAAYQgAAMQhAAAAEIYAAKBqIBKJAAAAEIYAAAAAAAAQhgAAAAAAABCGAABgqjjm/uq3MGMAAACEIQAAAAAAAIQhAAAouplkDgAAAAhDAAAAAAAACEMAAAAAAAAIQwAAAAAAAAhDAAAAAEAlYQYAwhAAAAAAAADCEAAAAADYmgEAYQgAAAAA8oYhcQgAYQgAAAAAJmzVCDFCGYAwBAAAAACUiV8ACEMAAAAAAAAIQwAAAAAAAAhDAAAAAFBUmAEAwhAAAAAAAADCEAAAAAAAAMIQAAAAAAAAwhAAAAAAAADCEAAAAAAAAMIQAAAAAAAAwhAAAAAAAAAGAAAAAABlhBkAIAwBAAAAAAAgDAEAAACALSIAhCEAAAAAAACEIQAAAAAAAIQhAAAAAIBKwgwAYQgAAAAAAABhCAAAAABsfACAMAQAAAAAAIAwBAAAAAAAgDAEAAAAAACAMAQAAAAAAIAwBAAAAAAAgDAEAAAAAAAgDAEAAAAAACAMAQAAAAAAIAwBAAAAAAAgDAEAAAAAACAMAQAAAAAAIAwBAAAAAAAgDAEAAAAAACAMAQAAAAAAIAwBAAAAAAAgDAEAAAAAAAhDAAAAAAAACEMAAAAAAAAIQwAAAAAAAAhDAAAAsIAwAwAAhCEAAAAAAACEIQAAAAAAAIQhAAAAAAAAhCEAAAAAAACEIQAAAACAmuJ/ZgEIQwAAAAAAm4QhcQgQhgAAAAAAisegT8wIEIYAAAAAAIQhAGEIAAAAAKBSGBKHAGEIAAAAACBpBDqLQt/%2BH4AwBAAAAABQKAwJQYAwBAAAAABQLAYBCEMAAAAAAAAIQwAAAABg6wIAhCEAAAAAAACEIQAAAAAAAIQhAAAAAAAAhCEAAAAAAACEIQAAAAAAAAwAAAAAAABAGAIAAAAAYKAwA0AYAgAAAAAQhgCEIQAAAABAoABAGAIAAAAA8QYAhCEAAAAAAACEIQAAAACwUQSAMAQAAAAAiEMACEMAAAAAAAAIQwAAAACAzR4AhCEAAAAAQBwCQBgCAAAAAIEIAIQhAAAAAKgVgEQgQQ9AGAIAAAAAEIcAhCEAAAAAAACEIQAAAABg8W0aGzUAwhAAAAAAsFkgMgcAYQgAAAAAxAsAEIYAAAAAEGMAAGEIAAAAAAAAYQgAAAAAAABhCAAAAABeEWYAgDAEAAAAAACAMAQAAAAA2HgCQBgCAAAAAABAGAIAAAAAAEAYAgAAAOBK%2BF4BQBgCAAAAAHEIAIQhAAAAAAAAhCEAAAAAqLVdFLaMbGsBCEMAAACAm7cA/n4BEIYAAAAAAAAQhgAAAACfuIesf97Cn73T%2BYS/dwGEIQAAAAAAAIQhAAAAwCfgAX/fACAMAQAAAAAAIAwBAAAAgM0WABCGAAAAYIcb1W5Ww3PBJxZ5HQAgDAEAAACArSEAEIYAAAAAAAAQhgAAAAAAABCGAAAAgF3E4VeEAQAIQwAAAAAAAMIQAAAAAJB5S84cABCGAAAAAAAAMAQAAAAAAABhCAAAAEghHn7equcBAEAYAgAAAL4EG9EGAEAYAgAAAGwbAQAgDAEAAAAAoioAwhAAAACw7Q1yN8kBAIQhAAAAwAYFAADCEAAAAAAAAMIQAAAAAAAAwhAAAAAAAADCEAAAAAAAAMIQAAAA5BNmAACAMAQAAADiEAAACEMAAAAAAAAIQwAAAMD9rSWbSwAAwhAAAACQPPjM/HoAvKcAwhAAAADgJh8AAMIQAAAAAAAAwhAAAABgMwgAAGEIAAAAGBOHBCIQfgEQhgAAAABw4x4AEIYAAAAAAKEPAGEIAAAAAAAAYQgAAAAAAABhCAAAAPggDr%2BeCgAAYQgAAADShJ2VjgMAgDAEAAAAbBKYAAAQhgAAAAARBwAAYQgAAAAAEKkBEIYAAAAAQEARaoD/2rljJICAIIii7n/plgioElBsMTsveBdoJL4FwhAAAAAAVApCog0AwhAAAAAAOCHEwOsQ1wNAGAIAAAAAxCEAhCEAAAAAAACEIQAAAPBlOwAACEMAAAAwIBDZAQAAYQgAAAAAAABhCAAAAMApMwAAYQgAAABgyhi0ZxPeuqdsAYAwBAAAACAOAQAIQwAAAAB/iELiEAAgDAEAAAA0Oi0kDF3byx4AIAwBAADAlC/BbQEAgDAEAAAAPwg3dgAAQBgCAAAAAABAGAIAAAAAAEAYAgAAAAAAQBgCAAAAAABAGAIAAAAAbosNABCGAAAAAEAYAs8DCEMAAAAAAAAIQwAAAAAAAAhDAAAAAFBEbAAAwhAAAAAAAIAwBAAAAAAAgDAEAAAAABzFBgAIQwAAAAAAAAhDAAAAAAAACEMAAAAAAAAIQwAAAAAAAAhDAAAAAAAACEMAAAAATCc2AABhCAAAAABhCAAQhgAAAAAQhwBAGAIAAAAAUQgAhCEAAAAAAACEIQAAAAAAAIQhAAAAADgRGwCAMAQAAAAA4hcACEMAAAAAAAAIQwAAAAAAAAhDAAAAAMBBbACAMAQAAAAAACAMAQAAAAAAIAwBAAAAAAAgDAEAAAAAACAMAQAAAAAAIAwBAAAAAAAgDAEAAADAN2IDAIQhAAAAAEB8AkAYAgAAAABEIQCEIQAAAAAQRABAGAIAAAAAEQsAhCEAAAAAEIUAQBgCAAAAAABAGAIAAAAAAEAYAgAA4EOxAQAACEMAAAAIQ6IRAAAIQwAAAAAAAAhDAAAAAAAACEMAAAAMFRsAAIAwBAAAAAAAgDAEAAAAAACAMAQAAABAF7EBAAhDAAAAAAAACEMAAAAAAAAIQwAAAAAAAAhDAAAAAAAACEMAAAAAAADCEAAAAAAAAMIQAAAAAAAAwhAAAAAAAADCEAAAAAAAAMIQAAAAAAAAwhAAAAAAAADCEAAAAAAAAMIQAAAAAAAAwhAAAAAAAADCEAAAAAAAgDAEAAAAAACAMAQAAAAAAIAwBAAAAAAAgDAEAAAAAACAMAQAAAAAAIAwBAAAAAAAgDAEAAAAAACAMAQAAAAAAIAwBAAAAAAAgBEAAAAAAACEIQAAAAAAAIQhAAAAAAAAhCEAAAAAAACEIQAAAAAAAIQhAAAAAAAAhCEAAAAAAACEIQAAAAAAAIQhAAAAAAAAhCEAAAAAAABhCAAAAAB4KhtbACAMAQAAAECTOGQHAIQhAAAAAAAAhCEAAAAAAACEIQAAAAAAAIQhAAAAAAAAhCEAAAAAAACEIQAAAAAAAGEIAAAAAAAAYQgAAAAAAABhCAAAAAAoLDYAEIYAAAAAAAAQhgAAAAAAABCGAAAAqCiL3wgBAIAwBAAAAAAAgDAEAAAAAACAMAQAAAAAFBcbAAhDAAAAAAAACEMAAAAAAAAIQwAAAAAAAAhDAAAAAAAACEMAAAAAAAAIQwAAAAAAAAhDAAAAAAAACEMAAAAAAADCEAAAAAAAAMIQAAAAAAAAwhAAAAAAAADCEAAAAAAAAMIQAAAAAAAAwhAAAAAAFJUdewAgDAEAAABAgygkDAEgDAEAAACA00IAIAwBAAAAwEyByA4ACEMAAAAAIAwBgDAEAAAAAACAMAQAAAAAAIAwBAAAAAAAgDAEAAAAAACAMAQAAAAAACAMAQAAAAAAIAwBAAAAAAAgDAEAAAAAACAMAQAAAAAAIAwBAAAAAAAgDAEAAAAAACAMAQAAAAAAIAwBAAAAAAAgDAEAAAAAACAMAQAAAAAACEMAAAAAAAAIQwAAAAAAAAhDAAAAAAAACEMAAAAAAAAIQwAAAAAAAAhDAAAAAAAACEMAAAAAAAAIQwAAAAAAAAhDAAAAAAAAza0/9sK9j62MLgAAAABJRU5ErkJggg%3D%3D%22%2C%0A%20%20%20%20%20%20%20%20%20%20%20%20%20%20%20%20%5B%5B35.83200626455288%2C%20-114.53395477030668%5D%2C%20%5B38.5416667152317%2C%20-107.15576372843819%5D%5D%2C%0A%20%20%20%20%20%20%20%20%20%20%20%20%20%20%20%20%7B%22opacity%22%3A%200.6%7D%0A%20%20%20%20%20%20%20%20%20%20%20%20%29.addTo%28map_6268665de690449dacc594b99ae09988%29%3B%0A%20%20%20%20%20%20%20%20%0A%20%20%20%20%0A%20%20%20%20%20%20%20%20%20%20%20%20var%20mouse_position_31257ff33d0b4e5bb534a260f5a28f80%20%3D%20new%20L.Control.MousePosition%28%0A%20%20%20%20%20%20%20%20%20%20%20%20%20%20%20%20%7B%22emptyString%22%3A%20%22Unavailable%22%2C%20%22lngFirst%22%3A%20false%2C%20%22numDigits%22%3A%205%2C%20%22position%22%3A%20%22bottomright%22%2C%20%22prefix%22%3A%20%22%22%2C%20%22separator%22%3A%20%22%20%3A%20%22%7D%0A%20%20%20%20%20%20%20%20%20%20%20%20%29%3B%0A%20%20%20%20%20%20%20%20%20%20%20%20mouse_position_31257ff33d0b4e5bb534a260f5a28f80.options%5B%22latFormatter%22%5D%20%3D%0A%20%20%20%20%20%20%20%20%20%20%20%20%20%20%20%20undefined%3B%0A%20%20%20%20%20%20%20%20%20%20%20%20mouse_position_31257ff33d0b4e5bb534a260f5a28f80.options%5B%22lngFormatter%22%5D%20%3D%0A%20%20%20%20%20%20%20%20%20%20%20%20%20%20%20%20undefined%3B%0A%20%20%20%20%20%20%20%20%20%20%20%20map_6268665de690449dacc594b99ae09988.addControl%28mouse_position_31257ff33d0b4e5bb534a260f5a28f80%29%3B%0A%20%20%20%20%20%20%20%20%0A%20%20%20%20%0A%20%20%20%20%20%20%20%20%20%20%20%20var%20layer_control_1567652a5d494afba4cea3e12de29081%20%3D%20%7B%0A%20%20%20%20%20%20%20%20%20%20%20%20%20%20%20%20base_layers%20%3A%20%7B%0A%20%20%20%20%20%20%20%20%20%20%20%20%20%20%20%20%20%20%20%20%22https%3A//mt1.google.com/vt/lyrs%3Ds%5Cu0026x%3D%7Bx%7D%5Cu0026y%3D%7By%7D%5Cu0026z%3D%7Bz%7D%22%20%3A%20tile_layer_7b34e72cf10a4972b0bcf07e2a03c332%2C%0A%20%20%20%20%20%20%20%20%20%20%20%20%20%20%20%20%7D%2C%0A%20%20%20%20%20%20%20%20%20%20%20%20%20%20%20%20overlays%20%3A%20%20%7B%0A%20%20%20%20%20%20%20%20%20%20%20%20%20%20%20%20%20%20%20%20%22Water%20classification%20XGBOOST%20predicted%20mask%22%20%3A%20image_overlay_cd7216d095f741cb9ce2da7b7aa2e8e4%2C%0A%20%20%20%20%20%20%20%20%20%20%20%20%20%20%20%20%7D%2C%0A%20%20%20%20%20%20%20%20%20%20%20%20%7D%3B%0A%20%20%20%20%20%20%20%20%20%20%20%20L.control.layers%28%0A%20%20%20%20%20%20%20%20%20%20%20%20%20%20%20%20layer_control_1567652a5d494afba4cea3e12de29081.base_layers%2C%0A%20%20%20%20%20%20%20%20%20%20%20%20%20%20%20%20layer_control_1567652a5d494afba4cea3e12de29081.overlays%2C%0A%20%20%20%20%20%20%20%20%20%20%20%20%20%20%20%20%7B%22autoZIndex%22%3A%20true%2C%20%22collapsed%22%3A%20true%2C%20%22position%22%3A%20%22topright%22%7D%0A%20%20%20%20%20%20%20%20%20%20%20%20%29.addTo%28map_6268665de690449dacc594b99ae09988%29%3B%0A%20%20%20%20%20%20%20%20%0A%3C/script%3E onload=\"this.contentDocument.open();this.contentDocument.write(    decodeURIComponent(this.getAttribute('data-html')));this.contentDocument.close();\" allowfullscreen webkitallowfullscreen mozallowfullscreen></iframe></div></div>"
      ],
      "text/plain": [
       "<folium.folium.Map at 0x7fe8fd9a2460>"
      ]
     },
     "execution_count": 46,
     "metadata": {},
     "output_type": "execute_result"
    }
   ],
   "source": [
    "m.add_child(folium_helper.get_overlay(mask_rgb, mask_d, 'Water classification XGBOOST predicted mask', opacity=0.6))\n",
    "m.add_child(plugins.MousePosition())\n",
    "m.add_child(folium.LayerControl())"
   ]
  },
  {
   "cell_type": "code",
   "execution_count": null,
   "metadata": {},
   "outputs": [],
   "source": []
  }
 ],
 "metadata": {
  "kernelspec": {
   "display_name": "Python 3",
   "language": "python",
   "name": "python3"
  },
  "language_info": {
   "codemirror_mode": {
    "name": "ipython",
    "version": 3
   },
   "file_extension": ".py",
   "mimetype": "text/x-python",
   "name": "python",
   "nbconvert_exporter": "python",
   "pygments_lexer": "ipython3",
   "version": "3.9.0"
  }
 },
 "nbformat": 4,
 "nbformat_minor": 4
}
