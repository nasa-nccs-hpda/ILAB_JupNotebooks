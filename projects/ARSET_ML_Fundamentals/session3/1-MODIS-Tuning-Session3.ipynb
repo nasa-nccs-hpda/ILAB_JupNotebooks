{
  "cells": [
    {
      "cell_type": "markdown",
      "id": "0ff02f05",
      "metadata": {
        "id": "0ff02f05"
      },
      "source": [
        "# Session 3 - Random Forest Model Tuning\n",
        "\n",
        "This is an introductory notebook to familiarize yourself with optimization techniques for Machine Learning (ML). For this work, we will use data from the Moderate Resolution Imaging Spectroradiometer (MODIS) instrument  and a Random Forest algorithm to perform water classification. This same workflow can be adapted to other applications and by using other algorithms.\n",
        "\n",
        "Author: Caleb S. Spradlin, Jordan A. Caraballo-Vega  \n",
        "Release Date: 2023.04.08  \n",
        "Last Modified: 2023.04.08  \n",
        "\n",
        "## 1. Import Libraries\n",
        "\n",
        "In this section we import the Python libraries to use during the development of this notebook. The default Python kernel from Google Colab does not include all fo the packages we need, thus we proceed to install them via pip."
      ]
    },
    {
      "cell_type": "code",
      "source": [
        "!wget https://raw.githubusercontent.com/NASAARSET/ARSET_ML_Fundamentals/main/src/folium_helper.py"
      ],
      "metadata": {
        "id": "wsym78i5qADn",
        "colab": {
          "base_uri": "https://localhost:8080/"
        },
        "outputId": "fefb5823-0770-478e-aca0-b981703b52f3"
      },
      "id": "wsym78i5qADn",
      "execution_count": 52,
      "outputs": [
        {
          "output_type": "stream",
          "name": "stdout",
          "text": [
            "--2023-04-12 06:54:04--  https://raw.githubusercontent.com/NASAARSET/ARSET_ML_Fundamentals/main/src/folium_helper.py\n",
            "Resolving raw.githubusercontent.com (raw.githubusercontent.com)... 185.199.108.133, 185.199.109.133, 185.199.110.133, ...\n",
            "Connecting to raw.githubusercontent.com (raw.githubusercontent.com)|185.199.108.133|:443... connected.\n",
            "HTTP request sent, awaiting response... 200 OK\n",
            "Length: 6189 (6.0K) [text/plain]\n",
            "Saving to: ‘folium_helper.py.1’\n",
            "\n",
            "folium_helper.py.1  100%[===================>]   6.04K  --.-KB/s    in 0s      \n",
            "\n",
            "2023-04-12 06:54:04 (44.5 MB/s) - ‘folium_helper.py.1’ saved [6189/6189]\n",
            "\n"
          ]
        }
      ]
    },
    {
      "cell_type": "code",
      "source": [
        "!pip install datasets optuna rasterio pyproj"
      ],
      "metadata": {
        "id": "gcGaGk31yAAS",
        "colab": {
          "base_uri": "https://localhost:8080/"
        },
        "outputId": "9f6afa67-2138-4d4b-c699-83da97fda91d"
      },
      "id": "gcGaGk31yAAS",
      "execution_count": 53,
      "outputs": [
        {
          "output_type": "stream",
          "name": "stdout",
          "text": [
            "Looking in indexes: https://pypi.org/simple, https://us-python.pkg.dev/colab-wheels/public/simple/\n",
            "Requirement already satisfied: datasets in /usr/local/lib/python3.9/dist-packages (2.11.0)\n",
            "Requirement already satisfied: optuna in /usr/local/lib/python3.9/dist-packages (3.1.1)\n",
            "Requirement already satisfied: rasterio in /usr/local/lib/python3.9/dist-packages (1.3.6)\n",
            "Requirement already satisfied: pyproj in /usr/local/lib/python3.9/dist-packages (3.5.0)\n",
            "Requirement already satisfied: pyarrow>=8.0.0 in /usr/local/lib/python3.9/dist-packages (from datasets) (9.0.0)\n",
            "Requirement already satisfied: pandas in /usr/local/lib/python3.9/dist-packages (from datasets) (1.5.3)\n",
            "Requirement already satisfied: dill<0.3.7,>=0.3.0 in /usr/local/lib/python3.9/dist-packages (from datasets) (0.3.6)\n",
            "Requirement already satisfied: aiohttp in /usr/local/lib/python3.9/dist-packages (from datasets) (3.8.4)\n",
            "Requirement already satisfied: multiprocess in /usr/local/lib/python3.9/dist-packages (from datasets) (0.70.14)\n",
            "Requirement already satisfied: numpy>=1.17 in /usr/local/lib/python3.9/dist-packages (from datasets) (1.22.4)\n",
            "Requirement already satisfied: huggingface-hub<1.0.0,>=0.11.0 in /usr/local/lib/python3.9/dist-packages (from datasets) (0.13.4)\n",
            "Requirement already satisfied: requests>=2.19.0 in /usr/local/lib/python3.9/dist-packages (from datasets) (2.27.1)\n",
            "Requirement already satisfied: tqdm>=4.62.1 in /usr/local/lib/python3.9/dist-packages (from datasets) (4.65.0)\n",
            "Requirement already satisfied: pyyaml>=5.1 in /usr/local/lib/python3.9/dist-packages (from datasets) (6.0)\n",
            "Requirement already satisfied: responses<0.19 in /usr/local/lib/python3.9/dist-packages (from datasets) (0.18.0)\n",
            "Requirement already satisfied: fsspec[http]>=2021.11.1 in /usr/local/lib/python3.9/dist-packages (from datasets) (2023.3.0)\n",
            "Requirement already satisfied: xxhash in /usr/local/lib/python3.9/dist-packages (from datasets) (3.2.0)\n",
            "Requirement already satisfied: packaging in /usr/local/lib/python3.9/dist-packages (from datasets) (23.0)\n",
            "Requirement already satisfied: sqlalchemy>=1.3.0 in /usr/local/lib/python3.9/dist-packages (from optuna) (2.0.9)\n",
            "Requirement already satisfied: alembic>=1.5.0 in /usr/local/lib/python3.9/dist-packages (from optuna) (1.10.3)\n",
            "Requirement already satisfied: cmaes>=0.9.1 in /usr/local/lib/python3.9/dist-packages (from optuna) (0.9.1)\n",
            "Requirement already satisfied: colorlog in /usr/local/lib/python3.9/dist-packages (from optuna) (6.7.0)\n",
            "Requirement already satisfied: affine in /usr/local/lib/python3.9/dist-packages (from rasterio) (2.4.0)\n",
            "Requirement already satisfied: snuggs>=1.4.1 in /usr/local/lib/python3.9/dist-packages (from rasterio) (1.4.7)\n",
            "Requirement already satisfied: certifi in /usr/local/lib/python3.9/dist-packages (from rasterio) (2022.12.7)\n",
            "Requirement already satisfied: cligj>=0.5 in /usr/local/lib/python3.9/dist-packages (from rasterio) (0.7.2)\n",
            "Requirement already satisfied: click>=4.0 in /usr/local/lib/python3.9/dist-packages (from rasterio) (8.1.3)\n",
            "Requirement already satisfied: click-plugins in /usr/local/lib/python3.9/dist-packages (from rasterio) (1.1.1)\n",
            "Requirement already satisfied: attrs in /usr/local/lib/python3.9/dist-packages (from rasterio) (22.2.0)\n",
            "Requirement already satisfied: setuptools in /usr/local/lib/python3.9/dist-packages (from rasterio) (67.6.1)\n",
            "Requirement already satisfied: Mako in /usr/local/lib/python3.9/dist-packages (from alembic>=1.5.0->optuna) (1.2.4)\n",
            "Requirement already satisfied: typing-extensions>=4 in /usr/local/lib/python3.9/dist-packages (from alembic>=1.5.0->optuna) (4.5.0)\n",
            "Requirement already satisfied: frozenlist>=1.1.1 in /usr/local/lib/python3.9/dist-packages (from aiohttp->datasets) (1.3.3)\n",
            "Requirement already satisfied: yarl<2.0,>=1.0 in /usr/local/lib/python3.9/dist-packages (from aiohttp->datasets) (1.8.2)\n",
            "Requirement already satisfied: async-timeout<5.0,>=4.0.0a3 in /usr/local/lib/python3.9/dist-packages (from aiohttp->datasets) (4.0.2)\n",
            "Requirement already satisfied: multidict<7.0,>=4.5 in /usr/local/lib/python3.9/dist-packages (from aiohttp->datasets) (6.0.4)\n",
            "Requirement already satisfied: aiosignal>=1.1.2 in /usr/local/lib/python3.9/dist-packages (from aiohttp->datasets) (1.3.1)\n",
            "Requirement already satisfied: charset-normalizer<4.0,>=2.0 in /usr/local/lib/python3.9/dist-packages (from aiohttp->datasets) (2.0.12)\n",
            "Requirement already satisfied: filelock in /usr/local/lib/python3.9/dist-packages (from huggingface-hub<1.0.0,>=0.11.0->datasets) (3.11.0)\n",
            "Requirement already satisfied: idna<4,>=2.5 in /usr/local/lib/python3.9/dist-packages (from requests>=2.19.0->datasets) (3.4)\n",
            "Requirement already satisfied: urllib3<1.27,>=1.21.1 in /usr/local/lib/python3.9/dist-packages (from requests>=2.19.0->datasets) (1.26.15)\n",
            "Requirement already satisfied: pyparsing>=2.1.6 in /usr/local/lib/python3.9/dist-packages (from snuggs>=1.4.1->rasterio) (3.0.9)\n",
            "Requirement already satisfied: greenlet!=0.4.17 in /usr/local/lib/python3.9/dist-packages (from sqlalchemy>=1.3.0->optuna) (2.0.2)\n",
            "Requirement already satisfied: python-dateutil>=2.8.1 in /usr/local/lib/python3.9/dist-packages (from pandas->datasets) (2.8.2)\n",
            "Requirement already satisfied: pytz>=2020.1 in /usr/local/lib/python3.9/dist-packages (from pandas->datasets) (2022.7.1)\n",
            "Requirement already satisfied: six>=1.5 in /usr/local/lib/python3.9/dist-packages (from python-dateutil>=2.8.1->pandas->datasets) (1.16.0)\n",
            "Requirement already satisfied: MarkupSafe>=0.9.2 in /usr/local/lib/python3.9/dist-packages (from Mako->alembic>=1.5.0->optuna) (2.1.2)\n"
          ]
        }
      ]
    },
    {
      "cell_type": "code",
      "source": [
        "import os\n",
        "import sys\n",
        "import csv\n",
        "import datetime\n",
        "import glob\n",
        "import joblib\n",
        "import numpy as np\n",
        "import datasets\n",
        "import pandas as pd\n",
        "from pathlib import Path   \n",
        "import optuna\n",
        "\n",
        "from sklearn.model_selection import train_test_split \n",
        "from sklearn.ensemble import RandomForestClassifier as skRF\n",
        "from sklearn.metrics import confusion_matrix, accuracy_score, roc_auc_score, precision_score, f1_score\n",
        "from sklearn.metrics import classification_report, roc_curve, auc\n",
        "from sklearn.model_selection import RandomizedSearchCV, KFold\n",
        "from sklearn.inspection import permutation_importance\n",
        "from huggingface_hub import snapshot_download\n",
        "\n",
        "# Visualization\n",
        "import seaborn as sns\n",
        "import matplotlib.pyplot as plt\n",
        "import warnings\n",
        "\n",
        "# Geospatial related imports\n",
        "from osgeo import gdalconst\n",
        "from osgeo import gdal\n",
        "import folium\n",
        "from folium import plugins\n",
        "import folium_helper\n",
        "\n",
        "from pprint import pprint\n",
        "\n",
        "plt.style.use('fivethirtyeight')\n",
        "warnings.filterwarnings('ignore')\n",
        "%matplotlib inline"
      ],
      "metadata": {
        "id": "g08D1b9_x6Sk"
      },
      "id": "g08D1b9_x6Sk",
      "execution_count": 54,
      "outputs": []
    },
    {
      "cell_type": "markdown",
      "source": [
        "## 2. Define General Variables\n",
        "\n",
        "In this section we define general variables to work with through this notebook. A description of each variable is listed below as a comment next to the variable definition."
      ],
      "metadata": {
        "id": "w-YuNpcUyOjK"
      },
      "id": "w-YuNpcUyOjK"
    },
    {
      "cell_type": "code",
      "source": [
        "FIGURE_OUTPUT_DIR = 'output'\n",
        "RASTER_OUTPUT_DIR = 'output'\n",
        "MODEL_OUTPUT_DIR = 'models'\n",
        "\n",
        "# url of the dataset we will be using, this is a link to the Hugging Face repository\n",
        "# of this tutorial\n",
        "DATASET_URL = 'nasa-cisto-data-science-group/modis-lake-powell-toy-dataset'\n",
        "\n",
        "TILE = 'global'\n",
        "MODEL = 'rf'\n",
        "TEST_RATIO = 0.2\n",
        "RANDOM_STATE = 42\n",
        "LABEL_NAME = 'water'\n",
        "DATA_TYPE = np.int16\n",
        "colsToDrop = []\n",
        "v_names = ['sur_refl_b01_1','sur_refl_b02_1','sur_refl_b03_1',\n",
        "           'sur_refl_b04_1','sur_refl_b05_1','sur_refl_b06_1',\n",
        "           'sur_refl_b07_1','ndvi','ndwi1','ndwi2']\n",
        "\n"
      ],
      "metadata": {
        "id": "uR79V4_oyTOf"
      },
      "id": "uR79V4_oyTOf",
      "execution_count": 55,
      "outputs": []
    },
    {
      "cell_type": "markdown",
      "source": [
        "Here we create an output directory to store any artifacts out of our models and visualizations."
      ],
      "metadata": {
        "id": "V5Og37_Tyfx1"
      },
      "id": "V5Og37_Tyfx1"
    },
    {
      "cell_type": "code",
      "source": [
        "os.makedirs(MODEL_OUTPUT_DIR, exist_ok=True)\n",
        "os.makedirs(FIGURE_OUTPUT_DIR, exist_ok=True)"
      ],
      "metadata": {
        "id": "NWe5GCYMyf89"
      },
      "id": "NWe5GCYMyf89",
      "execution_count": 56,
      "outputs": []
    },
    {
      "cell_type": "markdown",
      "source": [
        "## 3. Data Loading\n",
        "\n",
        "In this section we will go ahead and load our data to analyze. We have extracted a tabular dataset from MODIS GeoTIFF files for the purpose of performing EDA. Here we will:\n",
        "\n",
        "- Read in data to a Dataframe\n",
        "- Drop unnecessary columns\n",
        "- Split into Xs and Ys"
      ],
      "metadata": {
        "id": "Exyc3rltyv5U"
      },
      "id": "Exyc3rltyv5U"
    },
    {
      "cell_type": "code",
      "source": [
        "%%time\n",
        "train_dataset = pd.DataFrame(datasets.load_dataset(DATASET_URL, split='train'))\n",
        "test_dataset = pd.DataFrame(datasets.load_dataset(DATASET_URL, split='test'))"
      ],
      "metadata": {
        "id": "0LPoZPlcywh9",
        "colab": {
          "base_uri": "https://localhost:8080/"
        },
        "outputId": "e3ede3fc-9e61-44c6-8ca1-23f37d43d7a6"
      },
      "id": "0LPoZPlcywh9",
      "execution_count": 57,
      "outputs": [
        {
          "output_type": "stream",
          "name": "stderr",
          "text": [
            "WARNING:datasets.builder:Found cached dataset csv (/root/.cache/huggingface/datasets/nasa-cisto-data-science-group___csv/nasa-cisto-data-science-group--modis-lake-powell-toy-dataset-b44b60340eda6604/0.0.0/6954658bab30a358235fa864b05cf819af0e179325c740e4bc853bcc7ec513e1)\n",
            "WARNING:datasets.builder:Found cached dataset csv (/root/.cache/huggingface/datasets/nasa-cisto-data-science-group___csv/nasa-cisto-data-science-group--modis-lake-powell-toy-dataset-b44b60340eda6604/0.0.0/6954658bab30a358235fa864b05cf819af0e179325c740e4bc853bcc7ec513e1)\n"
          ]
        },
        {
          "output_type": "stream",
          "name": "stdout",
          "text": [
            "CPU times: user 337 ms, sys: 15.9 ms, total: 353 ms\n",
            "Wall time: 1.36 s\n"
          ]
        }
      ]
    },
    {
      "cell_type": "markdown",
      "source": [
        "Here we perform the split of the dataframe into train and test:"
      ],
      "metadata": {
        "id": "iFLStbtR59Mk"
      },
      "id": "iFLStbtR59Mk"
    },
    {
      "cell_type": "code",
      "source": [
        "X_train, y_train = train_dataset.drop(['water'], axis=1), train_dataset['water']\n",
        "X_test, y_test = test_dataset.drop(['water'], axis=1), test_dataset['water']\n",
        "X_train.shape, X_test.shape"
      ],
      "metadata": {
        "id": "t8QRk_rhy3T5",
        "colab": {
          "base_uri": "https://localhost:8080/"
        },
        "outputId": "04087946-b4dc-4d6b-a853-b21536da10d2"
      },
      "id": "t8QRk_rhy3T5",
      "execution_count": 58,
      "outputs": [
        {
          "output_type": "execute_result",
          "data": {
            "text/plain": [
              "((800, 10), (200, 10))"
            ]
          },
          "metadata": {},
          "execution_count": 58
        }
      ]
    },
    {
      "cell_type": "markdown",
      "source": [
        "Our column features are listed below:"
      ],
      "metadata": {
        "id": "yZ3Gi1Sw6BdX"
      },
      "id": "yZ3Gi1Sw6BdX"
    },
    {
      "cell_type": "code",
      "source": [
        "_ = [print(column) for column in X_train.columns]\n"
      ],
      "metadata": {
        "id": "VaZxVF5hy54X",
        "colab": {
          "base_uri": "https://localhost:8080/"
        },
        "outputId": "c6a7a9af-e8a3-48b2-d17e-32018920ee01"
      },
      "id": "VaZxVF5hy54X",
      "execution_count": 59,
      "outputs": [
        {
          "output_type": "stream",
          "name": "stdout",
          "text": [
            "sur_refl_b01_1\n",
            "sur_refl_b02_1\n",
            "sur_refl_b03_1\n",
            "sur_refl_b04_1\n",
            "sur_refl_b05_1\n",
            "sur_refl_b06_1\n",
            "sur_refl_b07_1\n",
            "ndvi\n",
            "ndwi1\n",
            "ndwi2\n"
          ]
        }
      ]
    },
    {
      "cell_type": "markdown",
      "source": [
        "Here we can then observe some statistics from the dataset, including some outliers from the NDVI, NDWI1 and NDWI2."
      ],
      "metadata": {
        "id": "c-ia4tRY72Gj"
      },
      "id": "c-ia4tRY72Gj"
    },
    {
      "cell_type": "code",
      "source": [
        "X_train.describe().T"
      ],
      "metadata": {
        "id": "j0VFtErqy-hj",
        "colab": {
          "base_uri": "https://localhost:8080/",
          "height": 363
        },
        "outputId": "bfdcdf8c-f7de-4bb1-87ee-911aa7d30939"
      },
      "id": "j0VFtErqy-hj",
      "execution_count": 60,
      "outputs": [
        {
          "output_type": "execute_result",
          "data": {
            "text/plain": [
              "                count        mean          std     min      25%     50%  \\\n",
              "sur_refl_b01_1  800.0  1209.75875  1287.886517     8.0   238.25   886.5   \n",
              "sur_refl_b02_1  800.0  1577.25375  1554.828794     1.0   168.00  1394.0   \n",
              "sur_refl_b03_1  800.0   743.00000  1004.334475  -100.0   286.00   540.0   \n",
              "sur_refl_b04_1  800.0  1028.39500  1065.582946     6.0   413.00   809.5   \n",
              "sur_refl_b05_1  800.0  1969.37125  1467.613243   -92.0   553.50  1818.5   \n",
              "sur_refl_b06_1  800.0  1932.65875  1541.910775    51.0   511.25  1498.5   \n",
              "sur_refl_b07_1  800.0  1587.69625  1395.266352     0.0   316.75  1174.0   \n",
              "ndvi            800.0    87.13125  2518.736818 -9493.0 -1533.00   733.5   \n",
              "ndwi1           800.0 -2336.03750  3404.038705 -9862.0 -4577.50 -1582.0   \n",
              "ndwi2           800.0  -914.29125  3863.695634 -9692.0 -2846.25  -703.5   \n",
              "\n",
              "                    75%      max  \n",
              "sur_refl_b01_1  1893.25   9222.0  \n",
              "sur_refl_b02_1  2667.75   8837.0  \n",
              "sur_refl_b03_1   857.00   8909.0  \n",
              "sur_refl_b04_1  1313.25   9162.0  \n",
              "sur_refl_b05_1  3210.75   6382.0  \n",
              "sur_refl_b06_1  3254.25   6610.0  \n",
              "sur_refl_b07_1  2672.00   6128.0  \n",
              "ndvi            1729.50   8587.0  \n",
              "ndwi1           -766.50   8823.0  \n",
              "ndwi2            869.00  10000.0  "
            ],
            "text/html": [
              "\n",
              "  <div id=\"df-d743dd4b-2c86-4de7-9745-2a8274aebf72\">\n",
              "    <div class=\"colab-df-container\">\n",
              "      <div>\n",
              "<style scoped>\n",
              "    .dataframe tbody tr th:only-of-type {\n",
              "        vertical-align: middle;\n",
              "    }\n",
              "\n",
              "    .dataframe tbody tr th {\n",
              "        vertical-align: top;\n",
              "    }\n",
              "\n",
              "    .dataframe thead th {\n",
              "        text-align: right;\n",
              "    }\n",
              "</style>\n",
              "<table border=\"1\" class=\"dataframe\">\n",
              "  <thead>\n",
              "    <tr style=\"text-align: right;\">\n",
              "      <th></th>\n",
              "      <th>count</th>\n",
              "      <th>mean</th>\n",
              "      <th>std</th>\n",
              "      <th>min</th>\n",
              "      <th>25%</th>\n",
              "      <th>50%</th>\n",
              "      <th>75%</th>\n",
              "      <th>max</th>\n",
              "    </tr>\n",
              "  </thead>\n",
              "  <tbody>\n",
              "    <tr>\n",
              "      <th>sur_refl_b01_1</th>\n",
              "      <td>800.0</td>\n",
              "      <td>1209.75875</td>\n",
              "      <td>1287.886517</td>\n",
              "      <td>8.0</td>\n",
              "      <td>238.25</td>\n",
              "      <td>886.5</td>\n",
              "      <td>1893.25</td>\n",
              "      <td>9222.0</td>\n",
              "    </tr>\n",
              "    <tr>\n",
              "      <th>sur_refl_b02_1</th>\n",
              "      <td>800.0</td>\n",
              "      <td>1577.25375</td>\n",
              "      <td>1554.828794</td>\n",
              "      <td>1.0</td>\n",
              "      <td>168.00</td>\n",
              "      <td>1394.0</td>\n",
              "      <td>2667.75</td>\n",
              "      <td>8837.0</td>\n",
              "    </tr>\n",
              "    <tr>\n",
              "      <th>sur_refl_b03_1</th>\n",
              "      <td>800.0</td>\n",
              "      <td>743.00000</td>\n",
              "      <td>1004.334475</td>\n",
              "      <td>-100.0</td>\n",
              "      <td>286.00</td>\n",
              "      <td>540.0</td>\n",
              "      <td>857.00</td>\n",
              "      <td>8909.0</td>\n",
              "    </tr>\n",
              "    <tr>\n",
              "      <th>sur_refl_b04_1</th>\n",
              "      <td>800.0</td>\n",
              "      <td>1028.39500</td>\n",
              "      <td>1065.582946</td>\n",
              "      <td>6.0</td>\n",
              "      <td>413.00</td>\n",
              "      <td>809.5</td>\n",
              "      <td>1313.25</td>\n",
              "      <td>9162.0</td>\n",
              "    </tr>\n",
              "    <tr>\n",
              "      <th>sur_refl_b05_1</th>\n",
              "      <td>800.0</td>\n",
              "      <td>1969.37125</td>\n",
              "      <td>1467.613243</td>\n",
              "      <td>-92.0</td>\n",
              "      <td>553.50</td>\n",
              "      <td>1818.5</td>\n",
              "      <td>3210.75</td>\n",
              "      <td>6382.0</td>\n",
              "    </tr>\n",
              "    <tr>\n",
              "      <th>sur_refl_b06_1</th>\n",
              "      <td>800.0</td>\n",
              "      <td>1932.65875</td>\n",
              "      <td>1541.910775</td>\n",
              "      <td>51.0</td>\n",
              "      <td>511.25</td>\n",
              "      <td>1498.5</td>\n",
              "      <td>3254.25</td>\n",
              "      <td>6610.0</td>\n",
              "    </tr>\n",
              "    <tr>\n",
              "      <th>sur_refl_b07_1</th>\n",
              "      <td>800.0</td>\n",
              "      <td>1587.69625</td>\n",
              "      <td>1395.266352</td>\n",
              "      <td>0.0</td>\n",
              "      <td>316.75</td>\n",
              "      <td>1174.0</td>\n",
              "      <td>2672.00</td>\n",
              "      <td>6128.0</td>\n",
              "    </tr>\n",
              "    <tr>\n",
              "      <th>ndvi</th>\n",
              "      <td>800.0</td>\n",
              "      <td>87.13125</td>\n",
              "      <td>2518.736818</td>\n",
              "      <td>-9493.0</td>\n",
              "      <td>-1533.00</td>\n",
              "      <td>733.5</td>\n",
              "      <td>1729.50</td>\n",
              "      <td>8587.0</td>\n",
              "    </tr>\n",
              "    <tr>\n",
              "      <th>ndwi1</th>\n",
              "      <td>800.0</td>\n",
              "      <td>-2336.03750</td>\n",
              "      <td>3404.038705</td>\n",
              "      <td>-9862.0</td>\n",
              "      <td>-4577.50</td>\n",
              "      <td>-1582.0</td>\n",
              "      <td>-766.50</td>\n",
              "      <td>8823.0</td>\n",
              "    </tr>\n",
              "    <tr>\n",
              "      <th>ndwi2</th>\n",
              "      <td>800.0</td>\n",
              "      <td>-914.29125</td>\n",
              "      <td>3863.695634</td>\n",
              "      <td>-9692.0</td>\n",
              "      <td>-2846.25</td>\n",
              "      <td>-703.5</td>\n",
              "      <td>869.00</td>\n",
              "      <td>10000.0</td>\n",
              "    </tr>\n",
              "  </tbody>\n",
              "</table>\n",
              "</div>\n",
              "      <button class=\"colab-df-convert\" onclick=\"convertToInteractive('df-d743dd4b-2c86-4de7-9745-2a8274aebf72')\"\n",
              "              title=\"Convert this dataframe to an interactive table.\"\n",
              "              style=\"display:none;\">\n",
              "        \n",
              "  <svg xmlns=\"http://www.w3.org/2000/svg\" height=\"24px\"viewBox=\"0 0 24 24\"\n",
              "       width=\"24px\">\n",
              "    <path d=\"M0 0h24v24H0V0z\" fill=\"none\"/>\n",
              "    <path d=\"M18.56 5.44l.94 2.06.94-2.06 2.06-.94-2.06-.94-.94-2.06-.94 2.06-2.06.94zm-11 1L8.5 8.5l.94-2.06 2.06-.94-2.06-.94L8.5 2.5l-.94 2.06-2.06.94zm10 10l.94 2.06.94-2.06 2.06-.94-2.06-.94-.94-2.06-.94 2.06-2.06.94z\"/><path d=\"M17.41 7.96l-1.37-1.37c-.4-.4-.92-.59-1.43-.59-.52 0-1.04.2-1.43.59L10.3 9.45l-7.72 7.72c-.78.78-.78 2.05 0 2.83L4 21.41c.39.39.9.59 1.41.59.51 0 1.02-.2 1.41-.59l7.78-7.78 2.81-2.81c.8-.78.8-2.07 0-2.86zM5.41 20L4 18.59l7.72-7.72 1.47 1.35L5.41 20z\"/>\n",
              "  </svg>\n",
              "      </button>\n",
              "      \n",
              "  <style>\n",
              "    .colab-df-container {\n",
              "      display:flex;\n",
              "      flex-wrap:wrap;\n",
              "      gap: 12px;\n",
              "    }\n",
              "\n",
              "    .colab-df-convert {\n",
              "      background-color: #E8F0FE;\n",
              "      border: none;\n",
              "      border-radius: 50%;\n",
              "      cursor: pointer;\n",
              "      display: none;\n",
              "      fill: #1967D2;\n",
              "      height: 32px;\n",
              "      padding: 0 0 0 0;\n",
              "      width: 32px;\n",
              "    }\n",
              "\n",
              "    .colab-df-convert:hover {\n",
              "      background-color: #E2EBFA;\n",
              "      box-shadow: 0px 1px 2px rgba(60, 64, 67, 0.3), 0px 1px 3px 1px rgba(60, 64, 67, 0.15);\n",
              "      fill: #174EA6;\n",
              "    }\n",
              "\n",
              "    [theme=dark] .colab-df-convert {\n",
              "      background-color: #3B4455;\n",
              "      fill: #D2E3FC;\n",
              "    }\n",
              "\n",
              "    [theme=dark] .colab-df-convert:hover {\n",
              "      background-color: #434B5C;\n",
              "      box-shadow: 0px 1px 3px 1px rgba(0, 0, 0, 0.15);\n",
              "      filter: drop-shadow(0px 1px 2px rgba(0, 0, 0, 0.3));\n",
              "      fill: #FFFFFF;\n",
              "    }\n",
              "  </style>\n",
              "\n",
              "      <script>\n",
              "        const buttonEl =\n",
              "          document.querySelector('#df-d743dd4b-2c86-4de7-9745-2a8274aebf72 button.colab-df-convert');\n",
              "        buttonEl.style.display =\n",
              "          google.colab.kernel.accessAllowed ? 'block' : 'none';\n",
              "\n",
              "        async function convertToInteractive(key) {\n",
              "          const element = document.querySelector('#df-d743dd4b-2c86-4de7-9745-2a8274aebf72');\n",
              "          const dataTable =\n",
              "            await google.colab.kernel.invokeFunction('convertToInteractive',\n",
              "                                                     [key], {});\n",
              "          if (!dataTable) return;\n",
              "\n",
              "          const docLinkHtml = 'Like what you see? Visit the ' +\n",
              "            '<a target=\"_blank\" href=https://colab.research.google.com/notebooks/data_table.ipynb>data table notebook</a>'\n",
              "            + ' to learn more about interactive tables.';\n",
              "          element.innerHTML = '';\n",
              "          dataTable['output_type'] = 'display_data';\n",
              "          await google.colab.output.renderOutput(dataTable, element);\n",
              "          const docLink = document.createElement('div');\n",
              "          docLink.innerHTML = docLinkHtml;\n",
              "          element.appendChild(docLink);\n",
              "        }\n",
              "      </script>\n",
              "    </div>\n",
              "  </div>\n",
              "  "
            ]
          },
          "metadata": {},
          "execution_count": 60
        }
      ]
    },
    {
      "cell_type": "code",
      "source": [
        "def output_interesting_idx(df, column, threshold, greaterThan=True):\n",
        "    dfToReturn = df[df[column] > threshold] if \\\n",
        "        greaterThan else df[df[column] < threshold]\n",
        "    return dfToReturn"
      ],
      "metadata": {
        "id": "C01aTuZgzEdx"
      },
      "id": "C01aTuZgzEdx",
      "execution_count": 61,
      "outputs": []
    },
    {
      "cell_type": "code",
      "source": [
        "output_interesting_idx(X_train, 'ndvi', 10000)\n"
      ],
      "metadata": {
        "id": "0QDdWSIZzFYV",
        "colab": {
          "base_uri": "https://localhost:8080/",
          "height": 49
        },
        "outputId": "f3c2cca5-d238-45de-96a8-6e2ab62189ae"
      },
      "id": "0QDdWSIZzFYV",
      "execution_count": 62,
      "outputs": [
        {
          "output_type": "execute_result",
          "data": {
            "text/plain": [
              "Empty DataFrame\n",
              "Columns: [sur_refl_b01_1, sur_refl_b02_1, sur_refl_b03_1, sur_refl_b04_1, sur_refl_b05_1, sur_refl_b06_1, sur_refl_b07_1, ndvi, ndwi1, ndwi2]\n",
              "Index: []"
            ],
            "text/html": [
              "\n",
              "  <div id=\"df-9d197bdd-d344-4f67-bb63-a20c72aaa751\">\n",
              "    <div class=\"colab-df-container\">\n",
              "      <div>\n",
              "<style scoped>\n",
              "    .dataframe tbody tr th:only-of-type {\n",
              "        vertical-align: middle;\n",
              "    }\n",
              "\n",
              "    .dataframe tbody tr th {\n",
              "        vertical-align: top;\n",
              "    }\n",
              "\n",
              "    .dataframe thead th {\n",
              "        text-align: right;\n",
              "    }\n",
              "</style>\n",
              "<table border=\"1\" class=\"dataframe\">\n",
              "  <thead>\n",
              "    <tr style=\"text-align: right;\">\n",
              "      <th></th>\n",
              "      <th>sur_refl_b01_1</th>\n",
              "      <th>sur_refl_b02_1</th>\n",
              "      <th>sur_refl_b03_1</th>\n",
              "      <th>sur_refl_b04_1</th>\n",
              "      <th>sur_refl_b05_1</th>\n",
              "      <th>sur_refl_b06_1</th>\n",
              "      <th>sur_refl_b07_1</th>\n",
              "      <th>ndvi</th>\n",
              "      <th>ndwi1</th>\n",
              "      <th>ndwi2</th>\n",
              "    </tr>\n",
              "  </thead>\n",
              "  <tbody>\n",
              "  </tbody>\n",
              "</table>\n",
              "</div>\n",
              "      <button class=\"colab-df-convert\" onclick=\"convertToInteractive('df-9d197bdd-d344-4f67-bb63-a20c72aaa751')\"\n",
              "              title=\"Convert this dataframe to an interactive table.\"\n",
              "              style=\"display:none;\">\n",
              "        \n",
              "  <svg xmlns=\"http://www.w3.org/2000/svg\" height=\"24px\"viewBox=\"0 0 24 24\"\n",
              "       width=\"24px\">\n",
              "    <path d=\"M0 0h24v24H0V0z\" fill=\"none\"/>\n",
              "    <path d=\"M18.56 5.44l.94 2.06.94-2.06 2.06-.94-2.06-.94-.94-2.06-.94 2.06-2.06.94zm-11 1L8.5 8.5l.94-2.06 2.06-.94-2.06-.94L8.5 2.5l-.94 2.06-2.06.94zm10 10l.94 2.06.94-2.06 2.06-.94-2.06-.94-.94-2.06-.94 2.06-2.06.94z\"/><path d=\"M17.41 7.96l-1.37-1.37c-.4-.4-.92-.59-1.43-.59-.52 0-1.04.2-1.43.59L10.3 9.45l-7.72 7.72c-.78.78-.78 2.05 0 2.83L4 21.41c.39.39.9.59 1.41.59.51 0 1.02-.2 1.41-.59l7.78-7.78 2.81-2.81c.8-.78.8-2.07 0-2.86zM5.41 20L4 18.59l7.72-7.72 1.47 1.35L5.41 20z\"/>\n",
              "  </svg>\n",
              "      </button>\n",
              "      \n",
              "  <style>\n",
              "    .colab-df-container {\n",
              "      display:flex;\n",
              "      flex-wrap:wrap;\n",
              "      gap: 12px;\n",
              "    }\n",
              "\n",
              "    .colab-df-convert {\n",
              "      background-color: #E8F0FE;\n",
              "      border: none;\n",
              "      border-radius: 50%;\n",
              "      cursor: pointer;\n",
              "      display: none;\n",
              "      fill: #1967D2;\n",
              "      height: 32px;\n",
              "      padding: 0 0 0 0;\n",
              "      width: 32px;\n",
              "    }\n",
              "\n",
              "    .colab-df-convert:hover {\n",
              "      background-color: #E2EBFA;\n",
              "      box-shadow: 0px 1px 2px rgba(60, 64, 67, 0.3), 0px 1px 3px 1px rgba(60, 64, 67, 0.15);\n",
              "      fill: #174EA6;\n",
              "    }\n",
              "\n",
              "    [theme=dark] .colab-df-convert {\n",
              "      background-color: #3B4455;\n",
              "      fill: #D2E3FC;\n",
              "    }\n",
              "\n",
              "    [theme=dark] .colab-df-convert:hover {\n",
              "      background-color: #434B5C;\n",
              "      box-shadow: 0px 1px 3px 1px rgba(0, 0, 0, 0.15);\n",
              "      filter: drop-shadow(0px 1px 2px rgba(0, 0, 0, 0.3));\n",
              "      fill: #FFFFFF;\n",
              "    }\n",
              "  </style>\n",
              "\n",
              "      <script>\n",
              "        const buttonEl =\n",
              "          document.querySelector('#df-9d197bdd-d344-4f67-bb63-a20c72aaa751 button.colab-df-convert');\n",
              "        buttonEl.style.display =\n",
              "          google.colab.kernel.accessAllowed ? 'block' : 'none';\n",
              "\n",
              "        async function convertToInteractive(key) {\n",
              "          const element = document.querySelector('#df-9d197bdd-d344-4f67-bb63-a20c72aaa751');\n",
              "          const dataTable =\n",
              "            await google.colab.kernel.invokeFunction('convertToInteractive',\n",
              "                                                     [key], {});\n",
              "          if (!dataTable) return;\n",
              "\n",
              "          const docLinkHtml = 'Like what you see? Visit the ' +\n",
              "            '<a target=\"_blank\" href=https://colab.research.google.com/notebooks/data_table.ipynb>data table notebook</a>'\n",
              "            + ' to learn more about interactive tables.';\n",
              "          element.innerHTML = '';\n",
              "          dataTable['output_type'] = 'display_data';\n",
              "          await google.colab.output.renderOutput(dataTable, element);\n",
              "          const docLink = document.createElement('div');\n",
              "          docLink.innerHTML = docLinkHtml;\n",
              "          element.appendChild(docLink);\n",
              "        }\n",
              "      </script>\n",
              "    </div>\n",
              "  </div>\n",
              "  "
            ]
          },
          "metadata": {},
          "execution_count": 62
        }
      ]
    },
    {
      "cell_type": "code",
      "source": [
        "output_interesting_idx(X_train, 'ndwi1', 10000)\n"
      ],
      "metadata": {
        "id": "zofZcXJWzIfv",
        "colab": {
          "base_uri": "https://localhost:8080/",
          "height": 49
        },
        "outputId": "1e4fb727-8baf-43bb-b1f7-9e32a36d673b"
      },
      "id": "zofZcXJWzIfv",
      "execution_count": 63,
      "outputs": [
        {
          "output_type": "execute_result",
          "data": {
            "text/plain": [
              "Empty DataFrame\n",
              "Columns: [sur_refl_b01_1, sur_refl_b02_1, sur_refl_b03_1, sur_refl_b04_1, sur_refl_b05_1, sur_refl_b06_1, sur_refl_b07_1, ndvi, ndwi1, ndwi2]\n",
              "Index: []"
            ],
            "text/html": [
              "\n",
              "  <div id=\"df-166f4c5c-a43a-48d8-8e83-e59646cba649\">\n",
              "    <div class=\"colab-df-container\">\n",
              "      <div>\n",
              "<style scoped>\n",
              "    .dataframe tbody tr th:only-of-type {\n",
              "        vertical-align: middle;\n",
              "    }\n",
              "\n",
              "    .dataframe tbody tr th {\n",
              "        vertical-align: top;\n",
              "    }\n",
              "\n",
              "    .dataframe thead th {\n",
              "        text-align: right;\n",
              "    }\n",
              "</style>\n",
              "<table border=\"1\" class=\"dataframe\">\n",
              "  <thead>\n",
              "    <tr style=\"text-align: right;\">\n",
              "      <th></th>\n",
              "      <th>sur_refl_b01_1</th>\n",
              "      <th>sur_refl_b02_1</th>\n",
              "      <th>sur_refl_b03_1</th>\n",
              "      <th>sur_refl_b04_1</th>\n",
              "      <th>sur_refl_b05_1</th>\n",
              "      <th>sur_refl_b06_1</th>\n",
              "      <th>sur_refl_b07_1</th>\n",
              "      <th>ndvi</th>\n",
              "      <th>ndwi1</th>\n",
              "      <th>ndwi2</th>\n",
              "    </tr>\n",
              "  </thead>\n",
              "  <tbody>\n",
              "  </tbody>\n",
              "</table>\n",
              "</div>\n",
              "      <button class=\"colab-df-convert\" onclick=\"convertToInteractive('df-166f4c5c-a43a-48d8-8e83-e59646cba649')\"\n",
              "              title=\"Convert this dataframe to an interactive table.\"\n",
              "              style=\"display:none;\">\n",
              "        \n",
              "  <svg xmlns=\"http://www.w3.org/2000/svg\" height=\"24px\"viewBox=\"0 0 24 24\"\n",
              "       width=\"24px\">\n",
              "    <path d=\"M0 0h24v24H0V0z\" fill=\"none\"/>\n",
              "    <path d=\"M18.56 5.44l.94 2.06.94-2.06 2.06-.94-2.06-.94-.94-2.06-.94 2.06-2.06.94zm-11 1L8.5 8.5l.94-2.06 2.06-.94-2.06-.94L8.5 2.5l-.94 2.06-2.06.94zm10 10l.94 2.06.94-2.06 2.06-.94-2.06-.94-.94-2.06-.94 2.06-2.06.94z\"/><path d=\"M17.41 7.96l-1.37-1.37c-.4-.4-.92-.59-1.43-.59-.52 0-1.04.2-1.43.59L10.3 9.45l-7.72 7.72c-.78.78-.78 2.05 0 2.83L4 21.41c.39.39.9.59 1.41.59.51 0 1.02-.2 1.41-.59l7.78-7.78 2.81-2.81c.8-.78.8-2.07 0-2.86zM5.41 20L4 18.59l7.72-7.72 1.47 1.35L5.41 20z\"/>\n",
              "  </svg>\n",
              "      </button>\n",
              "      \n",
              "  <style>\n",
              "    .colab-df-container {\n",
              "      display:flex;\n",
              "      flex-wrap:wrap;\n",
              "      gap: 12px;\n",
              "    }\n",
              "\n",
              "    .colab-df-convert {\n",
              "      background-color: #E8F0FE;\n",
              "      border: none;\n",
              "      border-radius: 50%;\n",
              "      cursor: pointer;\n",
              "      display: none;\n",
              "      fill: #1967D2;\n",
              "      height: 32px;\n",
              "      padding: 0 0 0 0;\n",
              "      width: 32px;\n",
              "    }\n",
              "\n",
              "    .colab-df-convert:hover {\n",
              "      background-color: #E2EBFA;\n",
              "      box-shadow: 0px 1px 2px rgba(60, 64, 67, 0.3), 0px 1px 3px 1px rgba(60, 64, 67, 0.15);\n",
              "      fill: #174EA6;\n",
              "    }\n",
              "\n",
              "    [theme=dark] .colab-df-convert {\n",
              "      background-color: #3B4455;\n",
              "      fill: #D2E3FC;\n",
              "    }\n",
              "\n",
              "    [theme=dark] .colab-df-convert:hover {\n",
              "      background-color: #434B5C;\n",
              "      box-shadow: 0px 1px 3px 1px rgba(0, 0, 0, 0.15);\n",
              "      filter: drop-shadow(0px 1px 2px rgba(0, 0, 0, 0.3));\n",
              "      fill: #FFFFFF;\n",
              "    }\n",
              "  </style>\n",
              "\n",
              "      <script>\n",
              "        const buttonEl =\n",
              "          document.querySelector('#df-166f4c5c-a43a-48d8-8e83-e59646cba649 button.colab-df-convert');\n",
              "        buttonEl.style.display =\n",
              "          google.colab.kernel.accessAllowed ? 'block' : 'none';\n",
              "\n",
              "        async function convertToInteractive(key) {\n",
              "          const element = document.querySelector('#df-166f4c5c-a43a-48d8-8e83-e59646cba649');\n",
              "          const dataTable =\n",
              "            await google.colab.kernel.invokeFunction('convertToInteractive',\n",
              "                                                     [key], {});\n",
              "          if (!dataTable) return;\n",
              "\n",
              "          const docLinkHtml = 'Like what you see? Visit the ' +\n",
              "            '<a target=\"_blank\" href=https://colab.research.google.com/notebooks/data_table.ipynb>data table notebook</a>'\n",
              "            + ' to learn more about interactive tables.';\n",
              "          element.innerHTML = '';\n",
              "          dataTable['output_type'] = 'display_data';\n",
              "          await google.colab.output.renderOutput(dataTable, element);\n",
              "          const docLink = document.createElement('div');\n",
              "          docLink.innerHTML = docLinkHtml;\n",
              "          element.appendChild(docLink);\n",
              "        }\n",
              "      </script>\n",
              "    </div>\n",
              "  </div>\n",
              "  "
            ]
          },
          "metadata": {},
          "execution_count": 63
        }
      ]
    },
    {
      "cell_type": "code",
      "source": [
        "output_interesting_idx(X_train, 'ndwi2', 10000)\n"
      ],
      "metadata": {
        "id": "yicRig1tzNny",
        "colab": {
          "base_uri": "https://localhost:8080/",
          "height": 49
        },
        "outputId": "61124798-2db0-458d-8e3c-1b99830d8e5c"
      },
      "id": "yicRig1tzNny",
      "execution_count": 64,
      "outputs": [
        {
          "output_type": "execute_result",
          "data": {
            "text/plain": [
              "Empty DataFrame\n",
              "Columns: [sur_refl_b01_1, sur_refl_b02_1, sur_refl_b03_1, sur_refl_b04_1, sur_refl_b05_1, sur_refl_b06_1, sur_refl_b07_1, ndvi, ndwi1, ndwi2]\n",
              "Index: []"
            ],
            "text/html": [
              "\n",
              "  <div id=\"df-c48e2f0b-0350-4bf2-a27b-54c9d323cf3f\">\n",
              "    <div class=\"colab-df-container\">\n",
              "      <div>\n",
              "<style scoped>\n",
              "    .dataframe tbody tr th:only-of-type {\n",
              "        vertical-align: middle;\n",
              "    }\n",
              "\n",
              "    .dataframe tbody tr th {\n",
              "        vertical-align: top;\n",
              "    }\n",
              "\n",
              "    .dataframe thead th {\n",
              "        text-align: right;\n",
              "    }\n",
              "</style>\n",
              "<table border=\"1\" class=\"dataframe\">\n",
              "  <thead>\n",
              "    <tr style=\"text-align: right;\">\n",
              "      <th></th>\n",
              "      <th>sur_refl_b01_1</th>\n",
              "      <th>sur_refl_b02_1</th>\n",
              "      <th>sur_refl_b03_1</th>\n",
              "      <th>sur_refl_b04_1</th>\n",
              "      <th>sur_refl_b05_1</th>\n",
              "      <th>sur_refl_b06_1</th>\n",
              "      <th>sur_refl_b07_1</th>\n",
              "      <th>ndvi</th>\n",
              "      <th>ndwi1</th>\n",
              "      <th>ndwi2</th>\n",
              "    </tr>\n",
              "  </thead>\n",
              "  <tbody>\n",
              "  </tbody>\n",
              "</table>\n",
              "</div>\n",
              "      <button class=\"colab-df-convert\" onclick=\"convertToInteractive('df-c48e2f0b-0350-4bf2-a27b-54c9d323cf3f')\"\n",
              "              title=\"Convert this dataframe to an interactive table.\"\n",
              "              style=\"display:none;\">\n",
              "        \n",
              "  <svg xmlns=\"http://www.w3.org/2000/svg\" height=\"24px\"viewBox=\"0 0 24 24\"\n",
              "       width=\"24px\">\n",
              "    <path d=\"M0 0h24v24H0V0z\" fill=\"none\"/>\n",
              "    <path d=\"M18.56 5.44l.94 2.06.94-2.06 2.06-.94-2.06-.94-.94-2.06-.94 2.06-2.06.94zm-11 1L8.5 8.5l.94-2.06 2.06-.94-2.06-.94L8.5 2.5l-.94 2.06-2.06.94zm10 10l.94 2.06.94-2.06 2.06-.94-2.06-.94-.94-2.06-.94 2.06-2.06.94z\"/><path d=\"M17.41 7.96l-1.37-1.37c-.4-.4-.92-.59-1.43-.59-.52 0-1.04.2-1.43.59L10.3 9.45l-7.72 7.72c-.78.78-.78 2.05 0 2.83L4 21.41c.39.39.9.59 1.41.59.51 0 1.02-.2 1.41-.59l7.78-7.78 2.81-2.81c.8-.78.8-2.07 0-2.86zM5.41 20L4 18.59l7.72-7.72 1.47 1.35L5.41 20z\"/>\n",
              "  </svg>\n",
              "      </button>\n",
              "      \n",
              "  <style>\n",
              "    .colab-df-container {\n",
              "      display:flex;\n",
              "      flex-wrap:wrap;\n",
              "      gap: 12px;\n",
              "    }\n",
              "\n",
              "    .colab-df-convert {\n",
              "      background-color: #E8F0FE;\n",
              "      border: none;\n",
              "      border-radius: 50%;\n",
              "      cursor: pointer;\n",
              "      display: none;\n",
              "      fill: #1967D2;\n",
              "      height: 32px;\n",
              "      padding: 0 0 0 0;\n",
              "      width: 32px;\n",
              "    }\n",
              "\n",
              "    .colab-df-convert:hover {\n",
              "      background-color: #E2EBFA;\n",
              "      box-shadow: 0px 1px 2px rgba(60, 64, 67, 0.3), 0px 1px 3px 1px rgba(60, 64, 67, 0.15);\n",
              "      fill: #174EA6;\n",
              "    }\n",
              "\n",
              "    [theme=dark] .colab-df-convert {\n",
              "      background-color: #3B4455;\n",
              "      fill: #D2E3FC;\n",
              "    }\n",
              "\n",
              "    [theme=dark] .colab-df-convert:hover {\n",
              "      background-color: #434B5C;\n",
              "      box-shadow: 0px 1px 3px 1px rgba(0, 0, 0, 0.15);\n",
              "      filter: drop-shadow(0px 1px 2px rgba(0, 0, 0, 0.3));\n",
              "      fill: #FFFFFF;\n",
              "    }\n",
              "  </style>\n",
              "\n",
              "      <script>\n",
              "        const buttonEl =\n",
              "          document.querySelector('#df-c48e2f0b-0350-4bf2-a27b-54c9d323cf3f button.colab-df-convert');\n",
              "        buttonEl.style.display =\n",
              "          google.colab.kernel.accessAllowed ? 'block' : 'none';\n",
              "\n",
              "        async function convertToInteractive(key) {\n",
              "          const element = document.querySelector('#df-c48e2f0b-0350-4bf2-a27b-54c9d323cf3f');\n",
              "          const dataTable =\n",
              "            await google.colab.kernel.invokeFunction('convertToInteractive',\n",
              "                                                     [key], {});\n",
              "          if (!dataTable) return;\n",
              "\n",
              "          const docLinkHtml = 'Like what you see? Visit the ' +\n",
              "            '<a target=\"_blank\" href=https://colab.research.google.com/notebooks/data_table.ipynb>data table notebook</a>'\n",
              "            + ' to learn more about interactive tables.';\n",
              "          element.innerHTML = '';\n",
              "          dataTable['output_type'] = 'display_data';\n",
              "          await google.colab.output.renderOutput(dataTable, element);\n",
              "          const docLink = document.createElement('div');\n",
              "          docLink.innerHTML = docLinkHtml;\n",
              "          element.appendChild(docLink);\n",
              "        }\n",
              "      </script>\n",
              "    </div>\n",
              "  </div>\n",
              "  "
            ]
          },
          "metadata": {},
          "execution_count": 64
        }
      ]
    },
    {
      "cell_type": "markdown",
      "source": [
        "## 4. Model definition and training\n",
        "\n",
        "Set TREES_ONLY to True if you only want to tune number of estimators, else max_depth, max_samples_split, min_samples_leaf will be tuned as well. All of these parameters play an important role in the tuning of models.\n",
        "\n",
        "In the case of a Random Forest, the number of estimators is the number of trees used for splitting decisions. In a neural network depth can be represented as the number of layer per block, and so forth.\n",
        "\n",
        "The core element of importance is to understand the basics behind the nature of hyperparameters, and how to interpret them across other algorithms."
      ],
      "metadata": {
        "id": "0ALKmhxBzQ8k"
      },
      "id": "0ALKmhxBzQ8k"
    },
    {
      "cell_type": "code",
      "source": [
        "TREES_ONLY = True"
      ],
      "metadata": {
        "id": "b9_u4pJazSRL"
      },
      "id": "b9_u4pJazSRL",
      "execution_count": 65,
      "outputs": []
    },
    {
      "cell_type": "markdown",
      "source": [
        "Once we understand which parameters we want to test, we can proceed to define an objective function that can iterate over multiple hyperparameters and find the best possible optimization.\n",
        "\n",
        "We can do this manually as well based on expert knowledge about the algorithm. For example, increasing the number of estimators if overfitting is present in the model. However, using an objective function as the base will allow us to rapidly tune our model close to its final performance.\n",
        "\n",
        "In the next cell we define several number of trees, depths to test, and other parameters related to the architecture of the Random Forest. We also define our metrics which in this case will be precision, the F1 score (harmonic mean of precision and recall), and the rate of false positives."
      ],
      "metadata": {
        "id": "Km2EqRW0VFEB"
      },
      "id": "Km2EqRW0VFEB"
    },
    {
      "cell_type": "code",
      "source": [
        "def objective(trial):\n",
        "    list_trees = [75, 100, 125, 150, 175, 200, 250, 300, 400, 500]\n",
        "    max_depth = [80, 90, 100, 110]\n",
        "    min_samples_leaf = [1, 2, 3, 4, 5]\n",
        "    min_samples_split = [2, 4, 8, 10]\n",
        "    bootstrap = [True, False]\n",
        "    \n",
        "    if TREES_ONLY:\n",
        "        param = {'n_estimators': trial.suggest_categorical('n_estimators', list_trees), \n",
        "                   'criterion':'gini', \n",
        "                   'max_depth':None, \n",
        "                   'min_samples_split':2, \n",
        "                   'min_samples_leaf':1, \n",
        "                   'min_weight_fraction_leaf':0.0, \n",
        "                   'max_features':'auto', \n",
        "                   'max_leaf_nodes':None, \n",
        "                   'min_impurity_decrease':0.0, \n",
        "                   'bootstrap':True, \n",
        "                   'oob_score':False, \n",
        "                   'n_jobs':-1, \n",
        "                   'random_state':42, \n",
        "                   'verbose':0, \n",
        "                   'warm_start':True, \n",
        "                   'class_weight':None, \n",
        "                   'ccp_alpha':0.0, \n",
        "                   'max_samples':None\n",
        "                      }\n",
        "    else:\n",
        "        param = {'n_estimators': trial.suggest_categorical('n_estimators', list_trees), \n",
        "                       'max_depth':trial.suggest_categorical('max_depth', max_depth), \n",
        "                       'min_samples_split':trial.suggest_categorical('min_samples_split', min_samples_split), \n",
        "                       'min_samples_leaf':trial.suggest_categorical('min_samples_leaf', min_samples_leaf), \n",
        "                       'bootstrap': True,\n",
        "                       'criterion':'gini', \n",
        "                       'min_weight_fraction_leaf':0.0, \n",
        "                       'max_features':'auto', \n",
        "                       'max_leaf_nodes':None, \n",
        "                       'min_impurity_decrease':0.0, \n",
        "                       'oob_score':False, \n",
        "                       'n_jobs':-1, \n",
        "                       'random_state':42, \n",
        "                       'verbose':0, \n",
        "                       'warm_start':False, \n",
        "                       'class_weight':None, \n",
        "                       'ccp_alpha':0.0, \n",
        "                       'max_samples':None\n",
        "                      }\n",
        "    \n",
        "    rf = skRF(**param)\n",
        "    rf.fit(X_train, y_train)\n",
        "    preds = rf.predict(X_test)\n",
        "    cm = confusion_matrix(y_test, preds)\n",
        "    fp = cm[1][0]\n",
        "    precision = precision_score(y_test, preds)\n",
        "    f1 = f1_score(y_test, preds)\n",
        "    del rf, preds, cm\n",
        "    return precision, f1, fp\n",
        "\n",
        "metric = {'precision': 0, 'f1': 1, 'false_positive': 2}"
      ],
      "metadata": {
        "id": "QGjQwU50zUds"
      },
      "id": "QGjQwU50zUds",
      "execution_count": 66,
      "outputs": []
    },
    {
      "cell_type": "markdown",
      "source": [
        "## 5. Start hyperparameter tuning trials\n",
        "\n",
        "In this section we start the trials for hyperparameter tuning.\n",
        "\n",
        "Ex output: Trial 0 finished with values: [0.9527224325581133, 0.9667626330841518, 9684.0] and parameters:\n",
        "\n",
        "The metrics in order are: [precision, f1, false positives]"
      ],
      "metadata": {
        "id": "FGLT5oYDzZx4"
      },
      "id": "FGLT5oYDzZx4"
    },
    {
      "cell_type": "code",
      "source": [
        "optuna.logging.set_verbosity(optuna.logging.INFO)\n",
        "study = optuna.create_study(study_name='rf_tuning', directions=['maximize','maximize','minimize'])\n",
        "study.optimize(objective, n_trials=25, timeout=20*60)"
      ],
      "metadata": {
        "id": "NVyud8sWzX3t",
        "colab": {
          "base_uri": "https://localhost:8080/"
        },
        "outputId": "c17919ec-f5bd-42f7-b75a-5ccf934298b8"
      },
      "id": "NVyud8sWzX3t",
      "execution_count": 67,
      "outputs": [
        {
          "output_type": "stream",
          "name": "stderr",
          "text": [
            "\u001b[32m[I 2023-04-12 06:54:11,448]\u001b[0m A new study created in memory with name: rf_tuning\u001b[0m\n",
            "\u001b[32m[I 2023-04-12 06:54:12,891]\u001b[0m Trial 0 finished with values: [0.979381443298969, 0.9895833333333333, 0.0] and parameters: {'n_estimators': 400}. \u001b[0m\n",
            "\u001b[32m[I 2023-04-12 06:54:13,505]\u001b[0m Trial 1 finished with values: [0.979381443298969, 0.9895833333333333, 0.0] and parameters: {'n_estimators': 200}. \u001b[0m\n",
            "\u001b[32m[I 2023-04-12 06:54:13,866]\u001b[0m Trial 2 finished with values: [0.979381443298969, 0.9895833333333333, 0.0] and parameters: {'n_estimators': 100}. \u001b[0m\n",
            "\u001b[32m[I 2023-04-12 06:54:15,196]\u001b[0m Trial 3 finished with values: [0.979381443298969, 0.9895833333333333, 0.0] and parameters: {'n_estimators': 400}. \u001b[0m\n",
            "\u001b[32m[I 2023-04-12 06:54:15,632]\u001b[0m Trial 4 finished with values: [0.979381443298969, 0.9895833333333333, 0.0] and parameters: {'n_estimators': 100}. \u001b[0m\n",
            "\u001b[32m[I 2023-04-12 06:54:18,333]\u001b[0m Trial 5 finished with values: [0.979381443298969, 0.9895833333333333, 0.0] and parameters: {'n_estimators': 400}. \u001b[0m\n",
            "\u001b[32m[I 2023-04-12 06:54:19,505]\u001b[0m Trial 6 finished with values: [0.979381443298969, 0.9895833333333333, 0.0] and parameters: {'n_estimators': 175}. \u001b[0m\n",
            "\u001b[32m[I 2023-04-12 06:54:20,349]\u001b[0m Trial 7 finished with values: [0.979381443298969, 0.9895833333333333, 0.0] and parameters: {'n_estimators': 150}. \u001b[0m\n",
            "\u001b[32m[I 2023-04-12 06:54:22,399]\u001b[0m Trial 8 finished with values: [0.979381443298969, 0.9895833333333333, 0.0] and parameters: {'n_estimators': 400}. \u001b[0m\n",
            "\u001b[32m[I 2023-04-12 06:54:22,745]\u001b[0m Trial 9 finished with values: [0.9895833333333334, 0.9947643979057591, 0.0] and parameters: {'n_estimators': 75}. \u001b[0m\n",
            "\u001b[32m[I 2023-04-12 06:54:23,616]\u001b[0m Trial 10 finished with values: [0.979381443298969, 0.9895833333333333, 0.0] and parameters: {'n_estimators': 175}. \u001b[0m\n",
            "\u001b[32m[I 2023-04-12 06:54:24,250]\u001b[0m Trial 11 finished with values: [0.979381443298969, 0.9895833333333333, 0.0] and parameters: {'n_estimators': 100}. \u001b[0m\n",
            "\u001b[32m[I 2023-04-12 06:54:25,654]\u001b[0m Trial 12 finished with values: [0.979381443298969, 0.9895833333333333, 0.0] and parameters: {'n_estimators': 250}. \u001b[0m\n",
            "\u001b[32m[I 2023-04-12 06:54:26,798]\u001b[0m Trial 13 finished with values: [0.979381443298969, 0.9895833333333333, 0.0] and parameters: {'n_estimators': 250}. \u001b[0m\n",
            "\u001b[32m[I 2023-04-12 06:54:27,268]\u001b[0m Trial 14 finished with values: [0.979381443298969, 0.9895833333333333, 0.0] and parameters: {'n_estimators': 100}. \u001b[0m\n",
            "\u001b[32m[I 2023-04-12 06:54:29,412]\u001b[0m Trial 15 finished with values: [0.979381443298969, 0.9895833333333333, 0.0] and parameters: {'n_estimators': 400}. \u001b[0m\n",
            "\u001b[32m[I 2023-04-12 06:54:30,390]\u001b[0m Trial 16 finished with values: [0.979381443298969, 0.9895833333333333, 0.0] and parameters: {'n_estimators': 100}. \u001b[0m\n",
            "\u001b[32m[I 2023-04-12 06:54:32,941]\u001b[0m Trial 17 finished with values: [0.979381443298969, 0.9895833333333333, 0.0] and parameters: {'n_estimators': 300}. \u001b[0m\n",
            "\u001b[32m[I 2023-04-12 06:54:33,735]\u001b[0m Trial 18 finished with values: [0.979381443298969, 0.9895833333333333, 0.0] and parameters: {'n_estimators': 150}. \u001b[0m\n",
            "\u001b[32m[I 2023-04-12 06:54:34,610]\u001b[0m Trial 19 finished with values: [0.979381443298969, 0.9895833333333333, 0.0] and parameters: {'n_estimators': 175}. \u001b[0m\n",
            "\u001b[32m[I 2023-04-12 06:54:36,621]\u001b[0m Trial 20 finished with values: [0.979381443298969, 0.9895833333333333, 0.0] and parameters: {'n_estimators': 300}. \u001b[0m\n",
            "\u001b[32m[I 2023-04-12 06:54:37,229]\u001b[0m Trial 21 finished with values: [0.9895833333333334, 0.9947643979057591, 0.0] and parameters: {'n_estimators': 75}. \u001b[0m\n",
            "\u001b[32m[I 2023-04-12 06:54:37,756]\u001b[0m Trial 22 finished with values: [0.9895833333333334, 0.9947643979057591, 0.0] and parameters: {'n_estimators': 75}. \u001b[0m\n",
            "\u001b[32m[I 2023-04-12 06:54:38,170]\u001b[0m Trial 23 finished with values: [0.9895833333333334, 0.9947643979057591, 0.0] and parameters: {'n_estimators': 75}. \u001b[0m\n",
            "\u001b[32m[I 2023-04-12 06:54:39,173]\u001b[0m Trial 24 finished with values: [0.979381443298969, 0.9895833333333333, 0.0] and parameters: {'n_estimators': 175}. \u001b[0m\n"
          ]
        }
      ]
    },
    {
      "cell_type": "markdown",
      "source": [
        "Get metrics from the overall hyperparameter tuning\n"
      ],
      "metadata": {
        "id": "tEP2s-TpzjV5"
      },
      "id": "tEP2s-TpzjV5"
    },
    {
      "cell_type": "code",
      "source": [
        "METRIC_TO_USE = 'f1' # out of 'precision', 'f1', 'false_positive'"
      ],
      "metadata": {
        "id": "QyVpCvqvziOg"
      },
      "id": "QyVpCvqvziOg",
      "execution_count": 68,
      "outputs": []
    },
    {
      "cell_type": "markdown",
      "source": [
        "From where we can select the best trial and therefore optimal parameters for our model:"
      ],
      "metadata": {
        "id": "MNrm2TvUWRLp"
      },
      "id": "MNrm2TvUWRLp"
    },
    {
      "cell_type": "code",
      "source": [
        "print(\"Number of finished trials: {}\".format(len(study.trials)))\n",
        "print(\"Using {} idx: {}\".format(METRIC_TO_USE, metric[METRIC_TO_USE]))\n",
        "trials = study.best_trials\n",
        "if METRIC_TO_USE == 'false_positive' or METRIC_TO_USE == 'false_negative':\n",
        "    trial_score = min([trial.values[metric[METRIC_TO_USE]] for trial in trials])\n",
        "else:\n",
        "    trial_score = max([trial.values[metric[METRIC_TO_USE]] for trial in trials])\n",
        "best_trial_params = [trial.params for trial in trials if trial.values[metric[METRIC_TO_USE]] == trial_score][0]\n",
        "best_trial = [trial for trial in trials if trial.values[metric[METRIC_TO_USE]] == trial_score][0]\n",
        "print(best_trial_params)\n",
        "print(trial_score)\n",
        "\n",
        "trial_scores = [trial.values for trial in trials]\n",
        "trial_params = [trial.params for trial in trials]\n",
        "\n",
        "for score, param in zip(trial_scores, trial_params):\n",
        "    print(score)\n",
        "    for k, v in param.items():\n",
        "        print(\"     {}: {}\".format(k, v))\n",
        "\n",
        "study_df = study.trials_dataframe()\n",
        "study_df.to_csv(\"hyperopt_tuning_trial_{}_random_forest.csv\".format(\n",
        "    datetime.datetime.now().strftime('%Y_%m_%d_%H_%M')))"
      ],
      "metadata": {
        "id": "QHP6mRHczm5_",
        "colab": {
          "base_uri": "https://localhost:8080/"
        },
        "outputId": "3bb42ffb-3dcf-47e0-d4bc-6f3ad6554802"
      },
      "id": "QHP6mRHczm5_",
      "execution_count": 69,
      "outputs": [
        {
          "output_type": "stream",
          "name": "stdout",
          "text": [
            "Number of finished trials: 25\n",
            "Using f1 idx: 1\n",
            "{'n_estimators': 75}\n",
            "0.9947643979057591\n",
            "[0.9895833333333334, 0.9947643979057591, 0.0]\n",
            "     n_estimators: 75\n",
            "[0.9895833333333334, 0.9947643979057591, 0.0]\n",
            "     n_estimators: 75\n",
            "[0.9895833333333334, 0.9947643979057591, 0.0]\n",
            "     n_estimators: 75\n",
            "[0.9895833333333334, 0.9947643979057591, 0.0]\n",
            "     n_estimators: 75\n"
          ]
        }
      ]
    },
    {
      "cell_type": "markdown",
      "source": [
        "In addition, you can visualize the optimization history:\n"
      ],
      "metadata": {
        "id": "AsMOY1Apzqqr"
      },
      "id": "AsMOY1Apzqqr"
    },
    {
      "cell_type": "code",
      "source": [
        "optuna.visualization.matplotlib.plot_optimization_history(study, target=lambda t: t.values[metric[METRIC_TO_USE]])"
      ],
      "metadata": {
        "id": "nUomqzR7zo2B",
        "colab": {
          "base_uri": "https://localhost:8080/",
          "height": 509
        },
        "outputId": "2e6e3434-4d6f-4605-850a-1284b52f58c3"
      },
      "id": "nUomqzR7zo2B",
      "execution_count": 70,
      "outputs": [
        {
          "output_type": "execute_result",
          "data": {
            "text/plain": [
              "<Axes: title={'center': 'Optimization History Plot'}, xlabel='Trial', ylabel='Objective Value'>"
            ]
          },
          "metadata": {},
          "execution_count": 70
        },
        {
          "output_type": "display_data",
          "data": {
            "text/plain": [
              "<Figure size 640x480 with 1 Axes>"
            ],
            "image/png": "[encoded data removed]"
          },
          "metadata": {}
        }
      ]
    },
    {
      "cell_type": "markdown",
      "source": [
        "The hyperparameter importances:\n"
      ],
      "metadata": {
        "id": "NGfVA62xztZT"
      },
      "id": "NGfVA62xztZT"
    },
    {
      "cell_type": "code",
      "source": [
        "optuna.visualization.matplotlib.plot_param_importances(study, target=lambda t: t.values[metric[METRIC_TO_USE]])"
      ],
      "metadata": {
        "id": "46kpki3dzuCR",
        "colab": {
          "base_uri": "https://localhost:8080/",
          "height": 509
        },
        "outputId": "ee509b1c-f3b0-4803-c555-668f794d262a"
      },
      "id": "46kpki3dzuCR",
      "execution_count": 71,
      "outputs": [
        {
          "output_type": "execute_result",
          "data": {
            "text/plain": [
              "<Axes: title={'center': 'Hyperparameter Importances'}, xlabel='Importance for Objective Value', ylabel='Hyperparameter'>"
            ]
          },
          "metadata": {},
          "execution_count": 71
        },
        {
          "output_type": "display_data",
          "data": {
            "text/plain": [
              "<Figure size 640x480 with 1 Axes>"
            ],
            "image/png": "[encoded data removed]"
          },
          "metadata": {}
        }
      ]
    },
    {
      "cell_type": "markdown",
      "source": [
        "Visualize the loss functions compares to number of estimators during tuning\n"
      ],
      "metadata": {
        "id": "DzBcQKUBzxBD"
      },
      "id": "DzBcQKUBzxBD"
    },
    {
      "cell_type": "code",
      "source": [
        "udf = study_df.drop_duplicates(['params_n_estimators']).sort_values(by='params_n_estimators')\n",
        "udf_by_score = udf[udf.values_0 == udf.values_0.max()]\n",
        "udf"
      ],
      "metadata": {
        "id": "VrB7n6zZzx7Q",
        "colab": {
          "base_uri": "https://localhost:8080/",
          "height": 300
        },
        "outputId": "88fc83c8-8f94-45d5-e1ea-5869a40785b8"
      },
      "id": "VrB7n6zZzx7Q",
      "execution_count": 72,
      "outputs": [
        {
          "output_type": "execute_result",
          "data": {
            "text/plain": [
              "    number  values_0  values_1  values_2             datetime_start  \\\n",
              "9        9  0.989583  0.994764       0.0 2023-04-12 06:54:22.403850   \n",
              "2        2  0.979381  0.989583       0.0 2023-04-12 06:54:13.510586   \n",
              "7        7  0.979381  0.989583       0.0 2023-04-12 06:54:19.511993   \n",
              "6        6  0.979381  0.989583       0.0 2023-04-12 06:54:18.342841   \n",
              "1        1  0.979381  0.989583       0.0 2023-04-12 06:54:12.893009   \n",
              "12      12  0.979381  0.989583       0.0 2023-04-12 06:54:24.252520   \n",
              "17      17  0.979381  0.989583       0.0 2023-04-12 06:54:30.403319   \n",
              "0        0  0.979381  0.989583       0.0 2023-04-12 06:54:11.455421   \n",
              "\n",
              "            datetime_complete               duration  params_n_estimators  \\\n",
              "9  2023-04-12 06:54:22.745091 0 days 00:00:00.341241                   75   \n",
              "2  2023-04-12 06:54:13.866344 0 days 00:00:00.355758                  100   \n",
              "7  2023-04-12 06:54:20.349541 0 days 00:00:00.837548                  150   \n",
              "6  2023-04-12 06:54:19.504755 0 days 00:00:01.161914                  175   \n",
              "1  2023-04-12 06:54:13.505213 0 days 00:00:00.612204                  200   \n",
              "12 2023-04-12 06:54:25.654594 0 days 00:00:01.402074                  250   \n",
              "17 2023-04-12 06:54:32.941145 0 days 00:00:02.537826                  300   \n",
              "0  2023-04-12 06:54:12.891296 0 days 00:00:01.435875                  400   \n",
              "\n",
              "    system_attrs_nsga2:generation     state  \n",
              "9                               0  COMPLETE  \n",
              "2                               0  COMPLETE  \n",
              "7                               0  COMPLETE  \n",
              "6                               0  COMPLETE  \n",
              "1                               0  COMPLETE  \n",
              "12                              0  COMPLETE  \n",
              "17                              0  COMPLETE  \n",
              "0                               0  COMPLETE  "
            ],
            "text/html": [
              "\n",
              "  <div id=\"df-dee1e595-41e9-4a63-8e47-ec66b08af42b\">\n",
              "    <div class=\"colab-df-container\">\n",
              "      <div>\n",
              "<style scoped>\n",
              "    .dataframe tbody tr th:only-of-type {\n",
              "        vertical-align: middle;\n",
              "    }\n",
              "\n",
              "    .dataframe tbody tr th {\n",
              "        vertical-align: top;\n",
              "    }\n",
              "\n",
              "    .dataframe thead th {\n",
              "        text-align: right;\n",
              "    }\n",
              "</style>\n",
              "<table border=\"1\" class=\"dataframe\">\n",
              "  <thead>\n",
              "    <tr style=\"text-align: right;\">\n",
              "      <th></th>\n",
              "      <th>number</th>\n",
              "      <th>values_0</th>\n",
              "      <th>values_1</th>\n",
              "      <th>values_2</th>\n",
              "      <th>datetime_start</th>\n",
              "      <th>datetime_complete</th>\n",
              "      <th>duration</th>\n",
              "      <th>params_n_estimators</th>\n",
              "      <th>system_attrs_nsga2:generation</th>\n",
              "      <th>state</th>\n",
              "    </tr>\n",
              "  </thead>\n",
              "  <tbody>\n",
              "    <tr>\n",
              "      <th>9</th>\n",
              "      <td>9</td>\n",
              "      <td>0.989583</td>\n",
              "      <td>0.994764</td>\n",
              "      <td>0.0</td>\n",
              "      <td>2023-04-12 06:54:22.403850</td>\n",
              "      <td>2023-04-12 06:54:22.745091</td>\n",
              "      <td>0 days 00:00:00.341241</td>\n",
              "      <td>75</td>\n",
              "      <td>0</td>\n",
              "      <td>COMPLETE</td>\n",
              "    </tr>\n",
              "    <tr>\n",
              "      <th>2</th>\n",
              "      <td>2</td>\n",
              "      <td>0.979381</td>\n",
              "      <td>0.989583</td>\n",
              "      <td>0.0</td>\n",
              "      <td>2023-04-12 06:54:13.510586</td>\n",
              "      <td>2023-04-12 06:54:13.866344</td>\n",
              "      <td>0 days 00:00:00.355758</td>\n",
              "      <td>100</td>\n",
              "      <td>0</td>\n",
              "      <td>COMPLETE</td>\n",
              "    </tr>\n",
              "    <tr>\n",
              "      <th>7</th>\n",
              "      <td>7</td>\n",
              "      <td>0.979381</td>\n",
              "      <td>0.989583</td>\n",
              "      <td>0.0</td>\n",
              "      <td>2023-04-12 06:54:19.511993</td>\n",
              "      <td>2023-04-12 06:54:20.349541</td>\n",
              "      <td>0 days 00:00:00.837548</td>\n",
              "      <td>150</td>\n",
              "      <td>0</td>\n",
              "      <td>COMPLETE</td>\n",
              "    </tr>\n",
              "    <tr>\n",
              "      <th>6</th>\n",
              "      <td>6</td>\n",
              "      <td>0.979381</td>\n",
              "      <td>0.989583</td>\n",
              "      <td>0.0</td>\n",
              "      <td>2023-04-12 06:54:18.342841</td>\n",
              "      <td>2023-04-12 06:54:19.504755</td>\n",
              "      <td>0 days 00:00:01.161914</td>\n",
              "      <td>175</td>\n",
              "      <td>0</td>\n",
              "      <td>COMPLETE</td>\n",
              "    </tr>\n",
              "    <tr>\n",
              "      <th>1</th>\n",
              "      <td>1</td>\n",
              "      <td>0.979381</td>\n",
              "      <td>0.989583</td>\n",
              "      <td>0.0</td>\n",
              "      <td>2023-04-12 06:54:12.893009</td>\n",
              "      <td>2023-04-12 06:54:13.505213</td>\n",
              "      <td>0 days 00:00:00.612204</td>\n",
              "      <td>200</td>\n",
              "      <td>0</td>\n",
              "      <td>COMPLETE</td>\n",
              "    </tr>\n",
              "    <tr>\n",
              "      <th>12</th>\n",
              "      <td>12</td>\n",
              "      <td>0.979381</td>\n",
              "      <td>0.989583</td>\n",
              "      <td>0.0</td>\n",
              "      <td>2023-04-12 06:54:24.252520</td>\n",
              "      <td>2023-04-12 06:54:25.654594</td>\n",
              "      <td>0 days 00:00:01.402074</td>\n",
              "      <td>250</td>\n",
              "      <td>0</td>\n",
              "      <td>COMPLETE</td>\n",
              "    </tr>\n",
              "    <tr>\n",
              "      <th>17</th>\n",
              "      <td>17</td>\n",
              "      <td>0.979381</td>\n",
              "      <td>0.989583</td>\n",
              "      <td>0.0</td>\n",
              "      <td>2023-04-12 06:54:30.403319</td>\n",
              "      <td>2023-04-12 06:54:32.941145</td>\n",
              "      <td>0 days 00:00:02.537826</td>\n",
              "      <td>300</td>\n",
              "      <td>0</td>\n",
              "      <td>COMPLETE</td>\n",
              "    </tr>\n",
              "    <tr>\n",
              "      <th>0</th>\n",
              "      <td>0</td>\n",
              "      <td>0.979381</td>\n",
              "      <td>0.989583</td>\n",
              "      <td>0.0</td>\n",
              "      <td>2023-04-12 06:54:11.455421</td>\n",
              "      <td>2023-04-12 06:54:12.891296</td>\n",
              "      <td>0 days 00:00:01.435875</td>\n",
              "      <td>400</td>\n",
              "      <td>0</td>\n",
              "      <td>COMPLETE</td>\n",
              "    </tr>\n",
              "  </tbody>\n",
              "</table>\n",
              "</div>\n",
              "      <button class=\"colab-df-convert\" onclick=\"convertToInteractive('df-dee1e595-41e9-4a63-8e47-ec66b08af42b')\"\n",
              "              title=\"Convert this dataframe to an interactive table.\"\n",
              "              style=\"display:none;\">\n",
              "        \n",
              "  <svg xmlns=\"http://www.w3.org/2000/svg\" height=\"24px\"viewBox=\"0 0 24 24\"\n",
              "       width=\"24px\">\n",
              "    <path d=\"M0 0h24v24H0V0z\" fill=\"none\"/>\n",
              "    <path d=\"M18.56 5.44l.94 2.06.94-2.06 2.06-.94-2.06-.94-.94-2.06-.94 2.06-2.06.94zm-11 1L8.5 8.5l.94-2.06 2.06-.94-2.06-.94L8.5 2.5l-.94 2.06-2.06.94zm10 10l.94 2.06.94-2.06 2.06-.94-2.06-.94-.94-2.06-.94 2.06-2.06.94z\"/><path d=\"M17.41 7.96l-1.37-1.37c-.4-.4-.92-.59-1.43-.59-.52 0-1.04.2-1.43.59L10.3 9.45l-7.72 7.72c-.78.78-.78 2.05 0 2.83L4 21.41c.39.39.9.59 1.41.59.51 0 1.02-.2 1.41-.59l7.78-7.78 2.81-2.81c.8-.78.8-2.07 0-2.86zM5.41 20L4 18.59l7.72-7.72 1.47 1.35L5.41 20z\"/>\n",
              "  </svg>\n",
              "      </button>\n",
              "      \n",
              "  <style>\n",
              "    .colab-df-container {\n",
              "      display:flex;\n",
              "      flex-wrap:wrap;\n",
              "      gap: 12px;\n",
              "    }\n",
              "\n",
              "    .colab-df-convert {\n",
              "      background-color: #E8F0FE;\n",
              "      border: none;\n",
              "      border-radius: 50%;\n",
              "      cursor: pointer;\n",
              "      display: none;\n",
              "      fill: #1967D2;\n",
              "      height: 32px;\n",
              "      padding: 0 0 0 0;\n",
              "      width: 32px;\n",
              "    }\n",
              "\n",
              "    .colab-df-convert:hover {\n",
              "      background-color: #E2EBFA;\n",
              "      box-shadow: 0px 1px 2px rgba(60, 64, 67, 0.3), 0px 1px 3px 1px rgba(60, 64, 67, 0.15);\n",
              "      fill: #174EA6;\n",
              "    }\n",
              "\n",
              "    [theme=dark] .colab-df-convert {\n",
              "      background-color: #3B4455;\n",
              "      fill: #D2E3FC;\n",
              "    }\n",
              "\n",
              "    [theme=dark] .colab-df-convert:hover {\n",
              "      background-color: #434B5C;\n",
              "      box-shadow: 0px 1px 3px 1px rgba(0, 0, 0, 0.15);\n",
              "      filter: drop-shadow(0px 1px 2px rgba(0, 0, 0, 0.3));\n",
              "      fill: #FFFFFF;\n",
              "    }\n",
              "  </style>\n",
              "\n",
              "      <script>\n",
              "        const buttonEl =\n",
              "          document.querySelector('#df-dee1e595-41e9-4a63-8e47-ec66b08af42b button.colab-df-convert');\n",
              "        buttonEl.style.display =\n",
              "          google.colab.kernel.accessAllowed ? 'block' : 'none';\n",
              "\n",
              "        async function convertToInteractive(key) {\n",
              "          const element = document.querySelector('#df-dee1e595-41e9-4a63-8e47-ec66b08af42b');\n",
              "          const dataTable =\n",
              "            await google.colab.kernel.invokeFunction('convertToInteractive',\n",
              "                                                     [key], {});\n",
              "          if (!dataTable) return;\n",
              "\n",
              "          const docLinkHtml = 'Like what you see? Visit the ' +\n",
              "            '<a target=\"_blank\" href=https://colab.research.google.com/notebooks/data_table.ipynb>data table notebook</a>'\n",
              "            + ' to learn more about interactive tables.';\n",
              "          element.innerHTML = '';\n",
              "          dataTable['output_type'] = 'display_data';\n",
              "          await google.colab.output.renderOutput(dataTable, element);\n",
              "          const docLink = document.createElement('div');\n",
              "          docLink.innerHTML = docLinkHtml;\n",
              "          element.appendChild(docLink);\n",
              "        }\n",
              "      </script>\n",
              "    </div>\n",
              "  </div>\n",
              "  "
            ]
          },
          "metadata": {},
          "execution_count": 72
        }
      ]
    },
    {
      "cell_type": "code",
      "source": [
        "if TREES_ONLY:\n",
        "    udf = study_df.drop_duplicates(['params_n_estimators']).sort_values(by='params_n_estimators')\n",
        "    udf_by_score = udf[udf.values_0 == udf.values_0.max()]\n",
        "    fig, ax = plt.subplots(3, figsize=(12,15))\n",
        "    ax[0].plot(udf['params_n_estimators'], udf['values_0'], label='Precision per n estimators')\n",
        "    ax[0].set_xlabel('Number of Estimators')\n",
        "    ax[0].set_ylabel('Precision Score')\n",
        "    ax[1].plot(udf['params_n_estimators'], udf['values_1'], label='F1 score per n estimators')\n",
        "    ax[1].set_xlabel('Number of Estimators')\n",
        "    ax[1].set_ylabel('F1 Score')\n",
        "    ax[2].plot(udf['params_n_estimators'], udf['values_2'], label='False positives per n estimators')\n",
        "    ax[2].set_xlabel('Number of estimators')\n",
        "    ax[2].set_ylabel('False Positives')"
      ],
      "metadata": {
        "id": "mXxMkjKaz73S",
        "colab": {
          "base_uri": "https://localhost:8080/",
          "height": 1000
        },
        "outputId": "8a1b638f-6c39-4bf2-c0aa-63c539f3a822"
      },
      "id": "mXxMkjKaz73S",
      "execution_count": 73,
      "outputs": [
        {
          "output_type": "display_data",
          "data": {
            "text/plain": [
              "<Figure size 1200x1500 with 3 Axes>"
            ],
            "image/png": "[encoded data removed]"
          },
          "metadata": {}
        }
      ]
    },
    {
      "cell_type": "markdown",
      "source": [
        "Training the model with the best hyperparamers\n"
      ],
      "metadata": {
        "id": "yh0AxnY3z_og"
      },
      "id": "yh0AxnY3z_og"
    },
    {
      "cell_type": "code",
      "source": [
        "hyperparameters = best_trial_params\n",
        "hyperparameters['n_jobs'] = -1\n",
        "hyperparameters['warm_start'] = True\n",
        "print('Using these params:')\n",
        "pprint(hyperparameters)\n",
        "classifier = skRF(**hyperparameters)"
      ],
      "metadata": {
        "id": "oloXYv23z87Y",
        "colab": {
          "base_uri": "https://localhost:8080/"
        },
        "outputId": "90cf2547-188f-4b12-b2ca-0538b3b3e0c3"
      },
      "id": "oloXYv23z87Y",
      "execution_count": 74,
      "outputs": [
        {
          "output_type": "stream",
          "name": "stdout",
          "text": [
            "Using these params:\n",
            "{'n_estimators': 75, 'n_jobs': -1, 'warm_start': True}\n"
          ]
        }
      ]
    },
    {
      "cell_type": "markdown",
      "source": [
        "Creating a kFold training strategy to use the new hyperparameters:"
      ],
      "metadata": {
        "id": "3WNfubgzWoNR"
      },
      "id": "3WNfubgzWoNR"
    },
    {
      "cell_type": "code",
      "source": [
        "kf = KFold(n_splits=5)\n",
        "kf.get_n_splits(X_train)"
      ],
      "metadata": {
        "id": "cRTbwRpP6Zuz",
        "colab": {
          "base_uri": "https://localhost:8080/"
        },
        "outputId": "c170ba4b-1da4-45ca-a899-01fb9eea2608"
      },
      "id": "cRTbwRpP6Zuz",
      "execution_count": 75,
      "outputs": [
        {
          "output_type": "execute_result",
          "data": {
            "text/plain": [
              "5"
            ]
          },
          "metadata": {},
          "execution_count": 75
        }
      ]
    },
    {
      "cell_type": "markdown",
      "source": [
        "Start training the model using the k-Fold strategy to use the best mode, this time after hyperparameter tuning."
      ],
      "metadata": {
        "id": "vUGfwsmhM5da"
      },
      "id": "vUGfwsmhM5da"
    },
    {
      "cell_type": "code",
      "source": [
        "bestModel = None\n",
        "bestModelScore = 0\n",
        "scores = []\n",
        "for trainIdx, testIdx in kf.split(X_train):\n",
        "    print(\"Train {}, Test {}\".format(trainIdx, testIdx))\n",
        "    X_train_valid, X_test_valid = X_train.iloc[trainIdx], X_train.iloc[testIdx]\n",
        "    y_train_valid, y_test_valid = y_train.iloc[trainIdx], y_train.iloc[testIdx]\n",
        "    print('Fitting model')\n",
        "    classifier.fit(X_train_valid, y_train_valid)\n",
        "    print('Getting score')\n",
        "    score = classifier.score(X_test_valid, y_test_valid)\n",
        "    if score>=bestModelScore:\n",
        "        bestModelScore = score\n",
        "        print('Training accuracy score: {}'.format(score))\n",
        "        bestModel = classifier\n",
        "    print('Predicting for test set')\n",
        "    test_predictions = classifier.predict(X_test_valid)\n",
        "    print(classification_report(y_test_valid, test_predictions))\n",
        "    print('Score: {}'.format(score))\n",
        "    scores.append(score)\n",
        "    del test_predictions, score"
      ],
      "metadata": {
        "id": "fPaB07et0Dn-",
        "colab": {
          "base_uri": "https://localhost:8080/"
        },
        "outputId": "ba2ad3de-7aa3-44f0-99ac-ab9b6f2b2285"
      },
      "id": "fPaB07et0Dn-",
      "execution_count": 76,
      "outputs": [
        {
          "output_type": "stream",
          "name": "stdout",
          "text": [
            "Train [160 161 162 163 164 165 166 167 168 169 170 171 172 173 174 175 176 177\n",
            " 178 179 180 181 182 183 184 185 186 187 188 189 190 191 192 193 194 195\n",
            " 196 197 198 199 200 201 202 203 204 205 206 207 208 209 210 211 212 213\n",
            " 214 215 216 217 218 219 220 221 222 223 224 225 226 227 228 229 230 231\n",
            " 232 233 234 235 236 237 238 239 240 241 242 243 244 245 246 247 248 249\n",
            " 250 251 252 253 254 255 256 257 258 259 260 261 262 263 264 265 266 267\n",
            " 268 269 270 271 272 273 274 275 276 277 278 279 280 281 282 283 284 285\n",
            " 286 287 288 289 290 291 292 293 294 295 296 297 298 299 300 301 302 303\n",
            " 304 305 306 307 308 309 310 311 312 313 314 315 316 317 318 319 320 321\n",
            " 322 323 324 325 326 327 328 329 330 331 332 333 334 335 336 337 338 339\n",
            " 340 341 342 343 344 345 346 347 348 349 350 351 352 353 354 355 356 357\n",
            " 358 359 360 361 362 363 364 365 366 367 368 369 370 371 372 373 374 375\n",
            " 376 377 378 379 380 381 382 383 384 385 386 387 388 389 390 391 392 393\n",
            " 394 395 396 397 398 399 400 401 402 403 404 405 406 407 408 409 410 411\n",
            " 412 413 414 415 416 417 418 419 420 421 422 423 424 425 426 427 428 429\n",
            " 430 431 432 433 434 435 436 437 438 439 440 441 442 443 444 445 446 447\n",
            " 448 449 450 451 452 453 454 455 456 457 458 459 460 461 462 463 464 465\n",
            " 466 467 468 469 470 471 472 473 474 475 476 477 478 479 480 481 482 483\n",
            " 484 485 486 487 488 489 490 491 492 493 494 495 496 497 498 499 500 501\n",
            " 502 503 504 505 506 507 508 509 510 511 512 513 514 515 516 517 518 519\n",
            " 520 521 522 523 524 525 526 527 528 529 530 531 532 533 534 535 536 537\n",
            " 538 539 540 541 542 543 544 545 546 547 548 549 550 551 552 553 554 555\n",
            " 556 557 558 559 560 561 562 563 564 565 566 567 568 569 570 571 572 573\n",
            " 574 575 576 577 578 579 580 581 582 583 584 585 586 587 588 589 590 591\n",
            " 592 593 594 595 596 597 598 599 600 601 602 603 604 605 606 607 608 609\n",
            " 610 611 612 613 614 615 616 617 618 619 620 621 622 623 624 625 626 627\n",
            " 628 629 630 631 632 633 634 635 636 637 638 639 640 641 642 643 644 645\n",
            " 646 647 648 649 650 651 652 653 654 655 656 657 658 659 660 661 662 663\n",
            " 664 665 666 667 668 669 670 671 672 673 674 675 676 677 678 679 680 681\n",
            " 682 683 684 685 686 687 688 689 690 691 692 693 694 695 696 697 698 699\n",
            " 700 701 702 703 704 705 706 707 708 709 710 711 712 713 714 715 716 717\n",
            " 718 719 720 721 722 723 724 725 726 727 728 729 730 731 732 733 734 735\n",
            " 736 737 738 739 740 741 742 743 744 745 746 747 748 749 750 751 752 753\n",
            " 754 755 756 757 758 759 760 761 762 763 764 765 766 767 768 769 770 771\n",
            " 772 773 774 775 776 777 778 779 780 781 782 783 784 785 786 787 788 789\n",
            " 790 791 792 793 794 795 796 797 798 799], Test [  0   1   2   3   4   5   6   7   8   9  10  11  12  13  14  15  16  17\n",
            "  18  19  20  21  22  23  24  25  26  27  28  29  30  31  32  33  34  35\n",
            "  36  37  38  39  40  41  42  43  44  45  46  47  48  49  50  51  52  53\n",
            "  54  55  56  57  58  59  60  61  62  63  64  65  66  67  68  69  70  71\n",
            "  72  73  74  75  76  77  78  79  80  81  82  83  84  85  86  87  88  89\n",
            "  90  91  92  93  94  95  96  97  98  99 100 101 102 103 104 105 106 107\n",
            " 108 109 110 111 112 113 114 115 116 117 118 119 120 121 122 123 124 125\n",
            " 126 127 128 129 130 131 132 133 134 135 136 137 138 139 140 141 142 143\n",
            " 144 145 146 147 148 149 150 151 152 153 154 155 156 157 158 159]\n",
            "Fitting model\n",
            "Getting score\n",
            "Training accuracy score: 0.96875\n",
            "Predicting for test set\n",
            "              precision    recall  f1-score   support\n",
            "\n",
            "           0       0.97      0.96      0.97        78\n",
            "           1       0.96      0.98      0.97        82\n",
            "\n",
            "    accuracy                           0.97       160\n",
            "   macro avg       0.97      0.97      0.97       160\n",
            "weighted avg       0.97      0.97      0.97       160\n",
            "\n",
            "Score: 0.96875\n",
            "Train [  0   1   2   3   4   5   6   7   8   9  10  11  12  13  14  15  16  17\n",
            "  18  19  20  21  22  23  24  25  26  27  28  29  30  31  32  33  34  35\n",
            "  36  37  38  39  40  41  42  43  44  45  46  47  48  49  50  51  52  53\n",
            "  54  55  56  57  58  59  60  61  62  63  64  65  66  67  68  69  70  71\n",
            "  72  73  74  75  76  77  78  79  80  81  82  83  84  85  86  87  88  89\n",
            "  90  91  92  93  94  95  96  97  98  99 100 101 102 103 104 105 106 107\n",
            " 108 109 110 111 112 113 114 115 116 117 118 119 120 121 122 123 124 125\n",
            " 126 127 128 129 130 131 132 133 134 135 136 137 138 139 140 141 142 143\n",
            " 144 145 146 147 148 149 150 151 152 153 154 155 156 157 158 159 320 321\n",
            " 322 323 324 325 326 327 328 329 330 331 332 333 334 335 336 337 338 339\n",
            " 340 341 342 343 344 345 346 347 348 349 350 351 352 353 354 355 356 357\n",
            " 358 359 360 361 362 363 364 365 366 367 368 369 370 371 372 373 374 375\n",
            " 376 377 378 379 380 381 382 383 384 385 386 387 388 389 390 391 392 393\n",
            " 394 395 396 397 398 399 400 401 402 403 404 405 406 407 408 409 410 411\n",
            " 412 413 414 415 416 417 418 419 420 421 422 423 424 425 426 427 428 429\n",
            " 430 431 432 433 434 435 436 437 438 439 440 441 442 443 444 445 446 447\n",
            " 448 449 450 451 452 453 454 455 456 457 458 459 460 461 462 463 464 465\n",
            " 466 467 468 469 470 471 472 473 474 475 476 477 478 479 480 481 482 483\n",
            " 484 485 486 487 488 489 490 491 492 493 494 495 496 497 498 499 500 501\n",
            " 502 503 504 505 506 507 508 509 510 511 512 513 514 515 516 517 518 519\n",
            " 520 521 522 523 524 525 526 527 528 529 530 531 532 533 534 535 536 537\n",
            " 538 539 540 541 542 543 544 545 546 547 548 549 550 551 552 553 554 555\n",
            " 556 557 558 559 560 561 562 563 564 565 566 567 568 569 570 571 572 573\n",
            " 574 575 576 577 578 579 580 581 582 583 584 585 586 587 588 589 590 591\n",
            " 592 593 594 595 596 597 598 599 600 601 602 603 604 605 606 607 608 609\n",
            " 610 611 612 613 614 615 616 617 618 619 620 621 622 623 624 625 626 627\n",
            " 628 629 630 631 632 633 634 635 636 637 638 639 640 641 642 643 644 645\n",
            " 646 647 648 649 650 651 652 653 654 655 656 657 658 659 660 661 662 663\n",
            " 664 665 666 667 668 669 670 671 672 673 674 675 676 677 678 679 680 681\n",
            " 682 683 684 685 686 687 688 689 690 691 692 693 694 695 696 697 698 699\n",
            " 700 701 702 703 704 705 706 707 708 709 710 711 712 713 714 715 716 717\n",
            " 718 719 720 721 722 723 724 725 726 727 728 729 730 731 732 733 734 735\n",
            " 736 737 738 739 740 741 742 743 744 745 746 747 748 749 750 751 752 753\n",
            " 754 755 756 757 758 759 760 761 762 763 764 765 766 767 768 769 770 771\n",
            " 772 773 774 775 776 777 778 779 780 781 782 783 784 785 786 787 788 789\n",
            " 790 791 792 793 794 795 796 797 798 799], Test [160 161 162 163 164 165 166 167 168 169 170 171 172 173 174 175 176 177\n",
            " 178 179 180 181 182 183 184 185 186 187 188 189 190 191 192 193 194 195\n",
            " 196 197 198 199 200 201 202 203 204 205 206 207 208 209 210 211 212 213\n",
            " 214 215 216 217 218 219 220 221 222 223 224 225 226 227 228 229 230 231\n",
            " 232 233 234 235 236 237 238 239 240 241 242 243 244 245 246 247 248 249\n",
            " 250 251 252 253 254 255 256 257 258 259 260 261 262 263 264 265 266 267\n",
            " 268 269 270 271 272 273 274 275 276 277 278 279 280 281 282 283 284 285\n",
            " 286 287 288 289 290 291 292 293 294 295 296 297 298 299 300 301 302 303\n",
            " 304 305 306 307 308 309 310 311 312 313 314 315 316 317 318 319]\n",
            "Fitting model\n",
            "Getting score\n",
            "Training accuracy score: 1.0\n",
            "Predicting for test set\n",
            "              precision    recall  f1-score   support\n",
            "\n",
            "           0       1.00      1.00      1.00        75\n",
            "           1       1.00      1.00      1.00        85\n",
            "\n",
            "    accuracy                           1.00       160\n",
            "   macro avg       1.00      1.00      1.00       160\n",
            "weighted avg       1.00      1.00      1.00       160\n",
            "\n",
            "Score: 1.0\n",
            "Train [  0   1   2   3   4   5   6   7   8   9  10  11  12  13  14  15  16  17\n",
            "  18  19  20  21  22  23  24  25  26  27  28  29  30  31  32  33  34  35\n",
            "  36  37  38  39  40  41  42  43  44  45  46  47  48  49  50  51  52  53\n",
            "  54  55  56  57  58  59  60  61  62  63  64  65  66  67  68  69  70  71\n",
            "  72  73  74  75  76  77  78  79  80  81  82  83  84  85  86  87  88  89\n",
            "  90  91  92  93  94  95  96  97  98  99 100 101 102 103 104 105 106 107\n",
            " 108 109 110 111 112 113 114 115 116 117 118 119 120 121 122 123 124 125\n",
            " 126 127 128 129 130 131 132 133 134 135 136 137 138 139 140 141 142 143\n",
            " 144 145 146 147 148 149 150 151 152 153 154 155 156 157 158 159 160 161\n",
            " 162 163 164 165 166 167 168 169 170 171 172 173 174 175 176 177 178 179\n",
            " 180 181 182 183 184 185 186 187 188 189 190 191 192 193 194 195 196 197\n",
            " 198 199 200 201 202 203 204 205 206 207 208 209 210 211 212 213 214 215\n",
            " 216 217 218 219 220 221 222 223 224 225 226 227 228 229 230 231 232 233\n",
            " 234 235 236 237 238 239 240 241 242 243 244 245 246 247 248 249 250 251\n",
            " 252 253 254 255 256 257 258 259 260 261 262 263 264 265 266 267 268 269\n",
            " 270 271 272 273 274 275 276 277 278 279 280 281 282 283 284 285 286 287\n",
            " 288 289 290 291 292 293 294 295 296 297 298 299 300 301 302 303 304 305\n",
            " 306 307 308 309 310 311 312 313 314 315 316 317 318 319 480 481 482 483\n",
            " 484 485 486 487 488 489 490 491 492 493 494 495 496 497 498 499 500 501\n",
            " 502 503 504 505 506 507 508 509 510 511 512 513 514 515 516 517 518 519\n",
            " 520 521 522 523 524 525 526 527 528 529 530 531 532 533 534 535 536 537\n",
            " 538 539 540 541 542 543 544 545 546 547 548 549 550 551 552 553 554 555\n",
            " 556 557 558 559 560 561 562 563 564 565 566 567 568 569 570 571 572 573\n",
            " 574 575 576 577 578 579 580 581 582 583 584 585 586 587 588 589 590 591\n",
            " 592 593 594 595 596 597 598 599 600 601 602 603 604 605 606 607 608 609\n",
            " 610 611 612 613 614 615 616 617 618 619 620 621 622 623 624 625 626 627\n",
            " 628 629 630 631 632 633 634 635 636 637 638 639 640 641 642 643 644 645\n",
            " 646 647 648 649 650 651 652 653 654 655 656 657 658 659 660 661 662 663\n",
            " 664 665 666 667 668 669 670 671 672 673 674 675 676 677 678 679 680 681\n",
            " 682 683 684 685 686 687 688 689 690 691 692 693 694 695 696 697 698 699\n",
            " 700 701 702 703 704 705 706 707 708 709 710 711 712 713 714 715 716 717\n",
            " 718 719 720 721 722 723 724 725 726 727 728 729 730 731 732 733 734 735\n",
            " 736 737 738 739 740 741 742 743 744 745 746 747 748 749 750 751 752 753\n",
            " 754 755 756 757 758 759 760 761 762 763 764 765 766 767 768 769 770 771\n",
            " 772 773 774 775 776 777 778 779 780 781 782 783 784 785 786 787 788 789\n",
            " 790 791 792 793 794 795 796 797 798 799], Test [320 321 322 323 324 325 326 327 328 329 330 331 332 333 334 335 336 337\n",
            " 338 339 340 341 342 343 344 345 346 347 348 349 350 351 352 353 354 355\n",
            " 356 357 358 359 360 361 362 363 364 365 366 367 368 369 370 371 372 373\n",
            " 374 375 376 377 378 379 380 381 382 383 384 385 386 387 388 389 390 391\n",
            " 392 393 394 395 396 397 398 399 400 401 402 403 404 405 406 407 408 409\n",
            " 410 411 412 413 414 415 416 417 418 419 420 421 422 423 424 425 426 427\n",
            " 428 429 430 431 432 433 434 435 436 437 438 439 440 441 442 443 444 445\n",
            " 446 447 448 449 450 451 452 453 454 455 456 457 458 459 460 461 462 463\n",
            " 464 465 466 467 468 469 470 471 472 473 474 475 476 477 478 479]\n",
            "Fitting model\n",
            "Getting score\n",
            "Training accuracy score: 1.0\n",
            "Predicting for test set\n",
            "              precision    recall  f1-score   support\n",
            "\n",
            "           0       1.00      1.00      1.00        89\n",
            "           1       1.00      1.00      1.00        71\n",
            "\n",
            "    accuracy                           1.00       160\n",
            "   macro avg       1.00      1.00      1.00       160\n",
            "weighted avg       1.00      1.00      1.00       160\n",
            "\n",
            "Score: 1.0\n",
            "Train [  0   1   2   3   4   5   6   7   8   9  10  11  12  13  14  15  16  17\n",
            "  18  19  20  21  22  23  24  25  26  27  28  29  30  31  32  33  34  35\n",
            "  36  37  38  39  40  41  42  43  44  45  46  47  48  49  50  51  52  53\n",
            "  54  55  56  57  58  59  60  61  62  63  64  65  66  67  68  69  70  71\n",
            "  72  73  74  75  76  77  78  79  80  81  82  83  84  85  86  87  88  89\n",
            "  90  91  92  93  94  95  96  97  98  99 100 101 102 103 104 105 106 107\n",
            " 108 109 110 111 112 113 114 115 116 117 118 119 120 121 122 123 124 125\n",
            " 126 127 128 129 130 131 132 133 134 135 136 137 138 139 140 141 142 143\n",
            " 144 145 146 147 148 149 150 151 152 153 154 155 156 157 158 159 160 161\n",
            " 162 163 164 165 166 167 168 169 170 171 172 173 174 175 176 177 178 179\n",
            " 180 181 182 183 184 185 186 187 188 189 190 191 192 193 194 195 196 197\n",
            " 198 199 200 201 202 203 204 205 206 207 208 209 210 211 212 213 214 215\n",
            " 216 217 218 219 220 221 222 223 224 225 226 227 228 229 230 231 232 233\n",
            " 234 235 236 237 238 239 240 241 242 243 244 245 246 247 248 249 250 251\n",
            " 252 253 254 255 256 257 258 259 260 261 262 263 264 265 266 267 268 269\n",
            " 270 271 272 273 274 275 276 277 278 279 280 281 282 283 284 285 286 287\n",
            " 288 289 290 291 292 293 294 295 296 297 298 299 300 301 302 303 304 305\n",
            " 306 307 308 309 310 311 312 313 314 315 316 317 318 319 320 321 322 323\n",
            " 324 325 326 327 328 329 330 331 332 333 334 335 336 337 338 339 340 341\n",
            " 342 343 344 345 346 347 348 349 350 351 352 353 354 355 356 357 358 359\n",
            " 360 361 362 363 364 365 366 367 368 369 370 371 372 373 374 375 376 377\n",
            " 378 379 380 381 382 383 384 385 386 387 388 389 390 391 392 393 394 395\n",
            " 396 397 398 399 400 401 402 403 404 405 406 407 408 409 410 411 412 413\n",
            " 414 415 416 417 418 419 420 421 422 423 424 425 426 427 428 429 430 431\n",
            " 432 433 434 435 436 437 438 439 440 441 442 443 444 445 446 447 448 449\n",
            " 450 451 452 453 454 455 456 457 458 459 460 461 462 463 464 465 466 467\n",
            " 468 469 470 471 472 473 474 475 476 477 478 479 640 641 642 643 644 645\n",
            " 646 647 648 649 650 651 652 653 654 655 656 657 658 659 660 661 662 663\n",
            " 664 665 666 667 668 669 670 671 672 673 674 675 676 677 678 679 680 681\n",
            " 682 683 684 685 686 687 688 689 690 691 692 693 694 695 696 697 698 699\n",
            " 700 701 702 703 704 705 706 707 708 709 710 711 712 713 714 715 716 717\n",
            " 718 719 720 721 722 723 724 725 726 727 728 729 730 731 732 733 734 735\n",
            " 736 737 738 739 740 741 742 743 744 745 746 747 748 749 750 751 752 753\n",
            " 754 755 756 757 758 759 760 761 762 763 764 765 766 767 768 769 770 771\n",
            " 772 773 774 775 776 777 778 779 780 781 782 783 784 785 786 787 788 789\n",
            " 790 791 792 793 794 795 796 797 798 799], Test [480 481 482 483 484 485 486 487 488 489 490 491 492 493 494 495 496 497\n",
            " 498 499 500 501 502 503 504 505 506 507 508 509 510 511 512 513 514 515\n",
            " 516 517 518 519 520 521 522 523 524 525 526 527 528 529 530 531 532 533\n",
            " 534 535 536 537 538 539 540 541 542 543 544 545 546 547 548 549 550 551\n",
            " 552 553 554 555 556 557 558 559 560 561 562 563 564 565 566 567 568 569\n",
            " 570 571 572 573 574 575 576 577 578 579 580 581 582 583 584 585 586 587\n",
            " 588 589 590 591 592 593 594 595 596 597 598 599 600 601 602 603 604 605\n",
            " 606 607 608 609 610 611 612 613 614 615 616 617 618 619 620 621 622 623\n",
            " 624 625 626 627 628 629 630 631 632 633 634 635 636 637 638 639]\n",
            "Fitting model\n",
            "Getting score\n",
            "Training accuracy score: 1.0\n",
            "Predicting for test set\n",
            "              precision    recall  f1-score   support\n",
            "\n",
            "           0       1.00      1.00      1.00        68\n",
            "           1       1.00      1.00      1.00        92\n",
            "\n",
            "    accuracy                           1.00       160\n",
            "   macro avg       1.00      1.00      1.00       160\n",
            "weighted avg       1.00      1.00      1.00       160\n",
            "\n",
            "Score: 1.0\n",
            "Train [  0   1   2   3   4   5   6   7   8   9  10  11  12  13  14  15  16  17\n",
            "  18  19  20  21  22  23  24  25  26  27  28  29  30  31  32  33  34  35\n",
            "  36  37  38  39  40  41  42  43  44  45  46  47  48  49  50  51  52  53\n",
            "  54  55  56  57  58  59  60  61  62  63  64  65  66  67  68  69  70  71\n",
            "  72  73  74  75  76  77  78  79  80  81  82  83  84  85  86  87  88  89\n",
            "  90  91  92  93  94  95  96  97  98  99 100 101 102 103 104 105 106 107\n",
            " 108 109 110 111 112 113 114 115 116 117 118 119 120 121 122 123 124 125\n",
            " 126 127 128 129 130 131 132 133 134 135 136 137 138 139 140 141 142 143\n",
            " 144 145 146 147 148 149 150 151 152 153 154 155 156 157 158 159 160 161\n",
            " 162 163 164 165 166 167 168 169 170 171 172 173 174 175 176 177 178 179\n",
            " 180 181 182 183 184 185 186 187 188 189 190 191 192 193 194 195 196 197\n",
            " 198 199 200 201 202 203 204 205 206 207 208 209 210 211 212 213 214 215\n",
            " 216 217 218 219 220 221 222 223 224 225 226 227 228 229 230 231 232 233\n",
            " 234 235 236 237 238 239 240 241 242 243 244 245 246 247 248 249 250 251\n",
            " 252 253 254 255 256 257 258 259 260 261 262 263 264 265 266 267 268 269\n",
            " 270 271 272 273 274 275 276 277 278 279 280 281 282 283 284 285 286 287\n",
            " 288 289 290 291 292 293 294 295 296 297 298 299 300 301 302 303 304 305\n",
            " 306 307 308 309 310 311 312 313 314 315 316 317 318 319 320 321 322 323\n",
            " 324 325 326 327 328 329 330 331 332 333 334 335 336 337 338 339 340 341\n",
            " 342 343 344 345 346 347 348 349 350 351 352 353 354 355 356 357 358 359\n",
            " 360 361 362 363 364 365 366 367 368 369 370 371 372 373 374 375 376 377\n",
            " 378 379 380 381 382 383 384 385 386 387 388 389 390 391 392 393 394 395\n",
            " 396 397 398 399 400 401 402 403 404 405 406 407 408 409 410 411 412 413\n",
            " 414 415 416 417 418 419 420 421 422 423 424 425 426 427 428 429 430 431\n",
            " 432 433 434 435 436 437 438 439 440 441 442 443 444 445 446 447 448 449\n",
            " 450 451 452 453 454 455 456 457 458 459 460 461 462 463 464 465 466 467\n",
            " 468 469 470 471 472 473 474 475 476 477 478 479 480 481 482 483 484 485\n",
            " 486 487 488 489 490 491 492 493 494 495 496 497 498 499 500 501 502 503\n",
            " 504 505 506 507 508 509 510 511 512 513 514 515 516 517 518 519 520 521\n",
            " 522 523 524 525 526 527 528 529 530 531 532 533 534 535 536 537 538 539\n",
            " 540 541 542 543 544 545 546 547 548 549 550 551 552 553 554 555 556 557\n",
            " 558 559 560 561 562 563 564 565 566 567 568 569 570 571 572 573 574 575\n",
            " 576 577 578 579 580 581 582 583 584 585 586 587 588 589 590 591 592 593\n",
            " 594 595 596 597 598 599 600 601 602 603 604 605 606 607 608 609 610 611\n",
            " 612 613 614 615 616 617 618 619 620 621 622 623 624 625 626 627 628 629\n",
            " 630 631 632 633 634 635 636 637 638 639], Test [640 641 642 643 644 645 646 647 648 649 650 651 652 653 654 655 656 657\n",
            " 658 659 660 661 662 663 664 665 666 667 668 669 670 671 672 673 674 675\n",
            " 676 677 678 679 680 681 682 683 684 685 686 687 688 689 690 691 692 693\n",
            " 694 695 696 697 698 699 700 701 702 703 704 705 706 707 708 709 710 711\n",
            " 712 713 714 715 716 717 718 719 720 721 722 723 724 725 726 727 728 729\n",
            " 730 731 732 733 734 735 736 737 738 739 740 741 742 743 744 745 746 747\n",
            " 748 749 750 751 752 753 754 755 756 757 758 759 760 761 762 763 764 765\n",
            " 766 767 768 769 770 771 772 773 774 775 776 777 778 779 780 781 782 783\n",
            " 784 785 786 787 788 789 790 791 792 793 794 795 796 797 798 799]\n",
            "Fitting model\n",
            "Getting score\n",
            "Training accuracy score: 1.0\n",
            "Predicting for test set\n",
            "              precision    recall  f1-score   support\n",
            "\n",
            "           0       1.00      1.00      1.00        85\n",
            "           1       1.00      1.00      1.00        75\n",
            "\n",
            "    accuracy                           1.00       160\n",
            "   macro avg       1.00      1.00      1.00       160\n",
            "weighted avg       1.00      1.00      1.00       160\n",
            "\n",
            "Score: 1.0\n"
          ]
        }
      ]
    },
    {
      "cell_type": "markdown",
      "source": [
        "Then we can take the average score from all iterations, and the score of the best model:"
      ],
      "metadata": {
        "id": "e5XkquVHNBqX"
      },
      "id": "e5XkquVHNBqX"
    },
    {
      "cell_type": "code",
      "source": [
        "scoreAvg = np.asarray(scores).mean()\n",
        "print('Average accuracy score: {}'.format(scoreAvg))\n",
        "print('Best accuracy score: {}'.format(bestModelScore))"
      ],
      "metadata": {
        "id": "FkUWSV7OCu3l",
        "colab": {
          "base_uri": "https://localhost:8080/"
        },
        "outputId": "fc54bae0-3be3-4e98-fb31-78a2aa4f2e64"
      },
      "id": "FkUWSV7OCu3l",
      "execution_count": 77,
      "outputs": [
        {
          "output_type": "stream",
          "name": "stdout",
          "text": [
            "Average accuracy score: 0.99375\n",
            "Best accuracy score: 1.0\n"
          ]
        }
      ]
    },
    {
      "cell_type": "markdown",
      "source": [
        "## 6. Model testing and training/testing data validation\n",
        "\n",
        "Once we have trained our model we can proceed to use the best model and perform testing and validation using our dataset.\n",
        "\n",
        "### 6.1 Get model metrics\n",
        "\n",
        "We can calculate accuracy metrics from our model using the test dataset, but we can also output prediction probabilities to understand the drivers behind the model performance."
      ],
      "metadata": {
        "id": "QS_HlowLNO58"
      },
      "id": "QS_HlowLNO58"
    },
    {
      "cell_type": "code",
      "source": [
        "classifier = bestModel"
      ],
      "metadata": {
        "id": "RoJE7VjUC579"
      },
      "id": "RoJE7VjUC579",
      "execution_count": 78,
      "outputs": []
    },
    {
      "cell_type": "code",
      "source": [
        "score = classifier.score(X_test, y_test)\n",
        "score = round(score, 3)\n",
        "score"
      ],
      "metadata": {
        "id": "7KRWowyhC7Jt",
        "colab": {
          "base_uri": "https://localhost:8080/"
        },
        "outputId": "3a7999ed-937b-4e5c-e7f1-9ac76c3778ef"
      },
      "id": "7KRWowyhC7Jt",
      "execution_count": 79,
      "outputs": [
        {
          "output_type": "execute_result",
          "data": {
            "text/plain": [
              "0.985"
            ]
          },
          "metadata": {},
          "execution_count": 79
        }
      ]
    },
    {
      "cell_type": "markdown",
      "source": [
        "Note how easy it is to perform predictions once we have datasets in dataframe format."
      ],
      "metadata": {
        "id": "2lx6rhgPNaQL"
      },
      "id": "2lx6rhgPNaQL"
    },
    {
      "cell_type": "code",
      "source": [
        "train_predictions = classifier.predict(X_train)\n",
        "test_predictions = classifier.predict(X_test)\n",
        "prediction_probs = classifier.predict_proba(X_test)"
      ],
      "metadata": {
        "id": "Ybljl8QdC-6J"
      },
      "id": "Ybljl8QdC-6J",
      "execution_count": 80,
      "outputs": []
    },
    {
      "cell_type": "code",
      "source": [
        "test_predictions = test_predictions.astype(np.int16)\n",
        "y_test_int = y_test.astype(np.int16)"
      ],
      "metadata": {
        "id": "qMrzYtZiDDOW"
      },
      "id": "qMrzYtZiDDOW",
      "execution_count": 81,
      "outputs": []
    },
    {
      "cell_type": "markdown",
      "source": [
        "We can then produce our confusion matrix and get additional information from the score of the model."
      ],
      "metadata": {
        "id": "5XkIpMQRN60l"
      },
      "id": "5XkIpMQRN60l"
    },
    {
      "cell_type": "code",
      "source": [
        "print('Train Performance')\n",
        "print('-------------------------------------------------------')\n",
        "print(classification_report(y_train, train_predictions))\n",
        "print('Test Performance')\n",
        "print('-------------------------------------------------------')\n",
        "print(classification_report(y_test, test_predictions))\n",
        "cm = confusion_matrix(y_test_int, test_predictions)\n",
        "recall = (cm[0][0] / (cm[0][0] + cm[0][1]))\n",
        "print('Test Recall')\n",
        "print('-------------------------------------------------------')\n",
        "print(recall)\n",
        "print('Confusion Matrix')\n",
        "print('-------------------------------------------------------')\n",
        "print(cm)"
      ],
      "metadata": {
        "id": "ThzXO0drDIU4",
        "colab": {
          "base_uri": "https://localhost:8080/"
        },
        "outputId": "ff74b8ed-cacd-4471-dcea-bd00524d8ef3"
      },
      "id": "ThzXO0drDIU4",
      "execution_count": 82,
      "outputs": [
        {
          "output_type": "stream",
          "name": "stdout",
          "text": [
            "Train Performance\n",
            "-------------------------------------------------------\n",
            "              precision    recall  f1-score   support\n",
            "\n",
            "           0       0.99      0.99      0.99       395\n",
            "           1       0.99      1.00      0.99       405\n",
            "\n",
            "    accuracy                           0.99       800\n",
            "   macro avg       0.99      0.99      0.99       800\n",
            "weighted avg       0.99      0.99      0.99       800\n",
            "\n",
            "Test Performance\n",
            "-------------------------------------------------------\n",
            "              precision    recall  f1-score   support\n",
            "\n",
            "           0       0.99      0.98      0.99       105\n",
            "           1       0.98      0.99      0.98        95\n",
            "\n",
            "    accuracy                           0.98       200\n",
            "   macro avg       0.98      0.99      0.98       200\n",
            "weighted avg       0.99      0.98      0.99       200\n",
            "\n",
            "Test Recall\n",
            "-------------------------------------------------------\n",
            "0.9809523809523809\n",
            "Confusion Matrix\n",
            "-------------------------------------------------------\n",
            "[[103   2]\n",
            " [  1  94]]\n"
          ]
        }
      ]
    },
    {
      "cell_type": "markdown",
      "source": [
        "Note that compared to the previous session, we did remove a false positive. The magnitude of this change might not be well appreciated based on the small dataset we are dealing with here, but can be substantial when dealing with millions of rows and more complex problems."
      ],
      "metadata": {
        "id": "xXYe64vrNdza"
      },
      "id": "xXYe64vrNdza"
    },
    {
      "cell_type": "code",
      "source": [
        "%%time\n",
        "permutation_importance_results = permutation_importance(classifier,\n",
        "                                                        X=X_test,\n",
        "                                                        y=y_test,\n",
        "                                                        n_repeats=10,\n",
        "                                                        random_state=42)"
      ],
      "metadata": {
        "id": "EQSQR8doDK7r",
        "colab": {
          "base_uri": "https://localhost:8080/"
        },
        "outputId": "5ee64e04-7ee8-445a-a3e3-d1d410dc547d"
      },
      "id": "EQSQR8doDK7r",
      "execution_count": 83,
      "outputs": [
        {
          "output_type": "stream",
          "name": "stdout",
          "text": [
            "CPU times: user 2.52 s, sys: 234 ms, total: 2.76 s\n",
            "Wall time: 5.63 s\n"
          ]
        }
      ]
    },
    {
      "cell_type": "markdown",
      "source": [
        "By looking at permutation importance we can see which ones are the variables of greater importance."
      ],
      "metadata": {
        "id": "cUXSoRwzNuaw"
      },
      "id": "cUXSoRwzNuaw"
    },
    {
      "cell_type": "code",
      "source": [
        "sorted_idx = permutation_importance_results.importances_mean.argsort()\n",
        "plt.figure(figsize=(8, 8))\n",
        "plt.barh(X_test.columns[sorted_idx], permutation_importance_results.importances_mean[sorted_idx])\n",
        "plt.xlabel(\"Permutation Importance\")"
      ],
      "metadata": {
        "id": "5dD0QWTRDNUg",
        "colab": {
          "base_uri": "https://localhost:8080/",
          "height": 745
        },
        "outputId": "5ebb00e9-34b3-4ecc-b262-47b0cdd23766"
      },
      "id": "5dD0QWTRDNUg",
      "execution_count": 84,
      "outputs": [
        {
          "output_type": "execute_result",
          "data": {
            "text/plain": [
              "Text(0.5, 0, 'Permutation Importance')"
            ]
          },
          "metadata": {},
          "execution_count": 84
        },
        {
          "output_type": "display_data",
          "data": {
            "text/plain": [
              "<Figure size 800x800 with 1 Axes>"
            ],
            "image/png": "[encoded data removed]"
          },
          "metadata": {}
        }
      ]
    },
    {
      "cell_type": "code",
      "source": [
        "del X_train, X_test, y_train, y_test, test_predictions, train_predictions, prediction_probs, y_test_int\n"
      ],
      "metadata": {
        "id": "zTziDUD1DPlu"
      },
      "id": "zTziDUD1DPlu",
      "execution_count": 85,
      "outputs": []
    },
    {
      "cell_type": "markdown",
      "source": [
        "## 7. Save the model for future use\n",
        "\n",
        "We can then save our model for future use so we can apply it or share it elsewhere. The only prerequisite would be for the input dataset to be in the same format as the input training data."
      ],
      "metadata": {
        "id": "2xHse-DnOAv2"
      },
      "id": "2xHse-DnOAv2"
    },
    {
      "cell_type": "code",
      "source": [
        "model_save_path = './water_classifier_rf_cpu.sav'\n",
        "print('Saving model to: {}'.format(model_save_path))\n",
        "print(classifier)\n",
        "joblib.dump(classifier, model_save_path, compress=3)"
      ],
      "metadata": {
        "id": "hBE3080EDSEP",
        "colab": {
          "base_uri": "https://localhost:8080/"
        },
        "outputId": "0c8852da-68a3-42a6-955c-806f0d6085a6"
      },
      "id": "hBE3080EDSEP",
      "execution_count": 86,
      "outputs": [
        {
          "output_type": "stream",
          "name": "stdout",
          "text": [
            "Saving model to: ./water_classifier_rf_cpu.sav\n",
            "RandomForestClassifier(n_estimators=75, n_jobs=-1, warm_start=True)\n"
          ]
        },
        {
          "output_type": "execute_result",
          "data": {
            "text/plain": [
              "['./water_classifier_rf_cpu.sav']"
            ]
          },
          "metadata": {},
          "execution_count": 86
        }
      ]
    },
    {
      "cell_type": "markdown",
      "source": [
        "## 8. Raster Inference\n",
        "\n",
        "### 8.1 Data download\n",
        "\n",
        "Here we can proceed to perform inference using raster objects. The first step is to download some imagery to test with."
      ],
      "metadata": {
        "id": "LPlYqvJ4OIeQ"
      },
      "id": "LPlYqvJ4OIeQ"
    },
    {
      "cell_type": "code",
      "source": [
        "powell_dataset = snapshot_download(repo_id=DATASET_URL, allow_patterns=\"*.tif\", repo_type='dataset')"
      ],
      "metadata": {
        "id": "kXGfYaLZj58Z",
        "colab": {
          "base_uri": "https://localhost:8080/",
          "height": 49,
          "referenced_widgets": [
            "e17e8a58c7dd47aeb6969f169a7f6cfa",
            "60c7899b0ebe48ea9f092714bab6f6c1",
            "cb9df87b15c440be96c2e70e3c74a86f",
            "5cb6db4840c64d95875dc520b867aa3e",
            "593e517f74984f91857323aa60b3eeb2",
            "137c678d8d364f4e9f3c415923200aee",
            "6ad51eb2e8bb46feaaf29cba8e806d06",
            "08a6c99731274c28a076a7797028d48b",
            "29d3bd5058b84d37b4831f7d055116aa",
            "a4894092ae6d4085a00bc405b56ee68e",
            "545a40b863ef4ea986eec7867b14e63e"
          ]
        },
        "outputId": "4beb3192-d565-4e34-b7dd-a8042ed09b52"
      },
      "id": "kXGfYaLZj58Z",
      "execution_count": 87,
      "outputs": [
        {
          "output_type": "display_data",
          "data": {
            "text/plain": [
              "Fetching 8 files:   0%|          | 0/8 [00:00<?, ?it/s]"
            ],
            "application/vnd.jupyter.widget-view+json": {
              "version_major": 2,
              "version_minor": 0,
              "model_id": "e17e8a58c7dd47aeb6969f169a7f6cfa"
            }
          },
          "metadata": {}
        }
      ]
    },
    {
      "cell_type": "markdown",
      "source": [
        "Then we can select all individual band TIF images and stack them to form the raster needed as input to the model. Note that you can skip this step if you already have your raster that includes all bands."
      ],
      "metadata": {
        "id": "H7CpauITLaQP"
      },
      "id": "H7CpauITLaQP"
    },
    {
      "cell_type": "code",
      "source": [
        "fileList = sorted([file for file in glob.glob(os.path.join(powell_dataset, 'IL.*.Powell.*.tif')) if 'sur_refl' in file])"
      ],
      "metadata": {
        "id": "DkXKFLnoLa8d"
      },
      "id": "DkXKFLnoLa8d",
      "execution_count": 88,
      "outputs": []
    },
    {
      "cell_type": "markdown",
      "source": [
        "Then we can perform some feature engineering on the fly to add some additional column features such as NDVI, NDWI1, and NDWI2."
      ],
      "metadata": {
        "id": "8Uy4pStjORH8"
      },
      "id": "8Uy4pStjORH8"
    },
    {
      "cell_type": "code",
      "source": [
        "def readRastersToArray(fileList):\n",
        "    rasterProjection = None\n",
        "    newshp = (1300*1300, 10)\n",
        "    img = np.empty(newshp, dtype=np.int16)\n",
        "    for i, fileName in enumerate(fileList):\n",
        "        ds = gdal.Open(fileName)\n",
        "        img[:, i] = ds.GetRasterBand(1).ReadAsArray().astype(np.int16).ravel()\n",
        "        if i == 0:\n",
        "            rasterProjection = ds.GetProjection()\n",
        "        ds = None\n",
        "    img[:, len(fileList)] = ((img[:, 1] - img[:, 0]) / (img[:, 1] + img[:, 0])) * 10000\n",
        "    img[:, len(fileList)+1] = ((img[:, 1] - img[:, 5]) / (img[:, 1] + img[:, 5])) * 10000\n",
        "    img[:, len(fileList)+2] = ((img[:, 1] - img[:, 6]) / (img[:, 1] + img[:, 6])) * 10000\n",
        "    return img, rasterProjection"
      ],
      "metadata": {
        "id": "JVBzYlypmgKJ"
      },
      "id": "JVBzYlypmgKJ",
      "execution_count": 89,
      "outputs": []
    },
    {
      "cell_type": "markdown",
      "source": [
        "We end up with a raster M x N x B, where B is the number of column features that will be included in the model input for inference."
      ],
      "metadata": {
        "id": "Yx_exq-5OYfz"
      },
      "id": "Yx_exq-5OYfz"
    },
    {
      "cell_type": "code",
      "source": [
        "%%time\n",
        "im, rasterProjection = readRastersToArray(fileList)\n",
        "print('Raster as ndarray')\n",
        "print(im)\n",
        "print('{} MB size'.format((im.size * im.itemsize) / 1000000))"
      ],
      "metadata": {
        "id": "nyMR41rEmkbz",
        "colab": {
          "base_uri": "https://localhost:8080/"
        },
        "outputId": "4eeb9ee0-a634-4c52-c533-db32d49e269c"
      },
      "id": "nyMR41rEmkbz",
      "execution_count": 90,
      "outputs": [
        {
          "output_type": "stream",
          "name": "stdout",
          "text": [
            "Raster as ndarray\n",
            "[[ 1547  2461   857 ...  2280  -518   510]\n",
            " [ 1474  2377   857 ...  2344  -691   337]\n",
            " [ 1474  2377   846 ...  2344  -472   623]\n",
            " ...\n",
            " [ 2358  2979  1028 ...  1163 -1727 -1292]\n",
            " [ 2425  3069  1117 ...  1172 -1721 -1216]\n",
            " [ 2402  3038  1117 ...  1169 -1770 -1266]]\n",
            "33.8 MB size\n",
            "CPU times: user 424 ms, sys: 35.9 ms, total: 460 ms\n",
            "Wall time: 720 ms\n"
          ]
        }
      ]
    },
    {
      "cell_type": "markdown",
      "source": [
        "## 8.2 Data preparation\n",
        "Here we convert our raster array into dataframe format to serve as input to the model."
      ],
      "metadata": {
        "id": "FYrkxThpOccM"
      },
      "id": "FYrkxThpOccM"
    },
    {
      "cell_type": "code",
      "source": [
        "raster_dataframe = pd.DataFrame(im, columns=v_names, dtype=np.float32)\n",
        "raster_dataframe"
      ],
      "metadata": {
        "colab": {
          "base_uri": "https://localhost:8080/",
          "height": 424
        },
        "id": "hvDwBmX5Ln7z",
        "outputId": "29ff95d9-0a61-4fd0-f67e-f058bcbca76f"
      },
      "id": "hvDwBmX5Ln7z",
      "execution_count": 91,
      "outputs": [
        {
          "output_type": "execute_result",
          "data": {
            "text/plain": [
              "         sur_refl_b01_1  sur_refl_b02_1  sur_refl_b03_1  sur_refl_b04_1  \\\n",
              "0                1547.0          2461.0           857.0          1256.0   \n",
              "1                1474.0          2377.0           857.0          1256.0   \n",
              "2                1474.0          2377.0           846.0          1230.0   \n",
              "3                1494.0          2461.0           846.0          1230.0   \n",
              "4                1494.0          2461.0           846.0          1230.0   \n",
              "...                 ...             ...             ...             ...   \n",
              "1689995          2211.0          2826.0          1080.0          1796.0   \n",
              "1689996          2209.0          2801.0          1028.0          1791.0   \n",
              "1689997          2358.0          2979.0          1028.0          1791.0   \n",
              "1689998          2425.0          3069.0          1117.0          1876.0   \n",
              "1689999          2402.0          3038.0          1117.0          1876.0   \n",
              "\n",
              "         sur_refl_b05_1  sur_refl_b06_1  sur_refl_b07_1    ndvi   ndwi1  \\\n",
              "0                2684.0          2730.0          2222.0  2280.0  -518.0   \n",
              "1                2684.0          2730.0          2222.0  2344.0  -691.0   \n",
              "2                2630.0          2613.0          2098.0  2344.0  -472.0   \n",
              "3                2630.0          2613.0          2098.0  2445.0  -299.0   \n",
              "4                2630.0          2613.0          2098.0  2445.0  -299.0   \n",
              "...                 ...             ...             ...     ...     ...   \n",
              "1689995          3650.0          4266.0          3862.0  1220.0 -2030.0   \n",
              "1689996          3633.0          4223.0          3863.0  1181.0 -2024.0   \n",
              "1689997          3633.0          4223.0          3863.0  1163.0 -1727.0   \n",
              "1689998          3747.0          4345.0          3919.0  1172.0 -1721.0   \n",
              "1689999          3747.0          4345.0          3919.0  1169.0 -1770.0   \n",
              "\n",
              "          ndwi2  \n",
              "0         510.0  \n",
              "1         337.0  \n",
              "2         623.0  \n",
              "3         796.0  \n",
              "4         796.0  \n",
              "...         ...  \n",
              "1689995 -1549.0  \n",
              "1689996 -1593.0  \n",
              "1689997 -1292.0  \n",
              "1689998 -1216.0  \n",
              "1689999 -1266.0  \n",
              "\n",
              "[1690000 rows x 10 columns]"
            ],
            "text/html": [
              "\n",
              "  <div id=\"df-31576cd5-51f2-493f-a7b3-df1e97f086bc\">\n",
              "    <div class=\"colab-df-container\">\n",
              "      <div>\n",
              "<style scoped>\n",
              "    .dataframe tbody tr th:only-of-type {\n",
              "        vertical-align: middle;\n",
              "    }\n",
              "\n",
              "    .dataframe tbody tr th {\n",
              "        vertical-align: top;\n",
              "    }\n",
              "\n",
              "    .dataframe thead th {\n",
              "        text-align: right;\n",
              "    }\n",
              "</style>\n",
              "<table border=\"1\" class=\"dataframe\">\n",
              "  <thead>\n",
              "    <tr style=\"text-align: right;\">\n",
              "      <th></th>\n",
              "      <th>sur_refl_b01_1</th>\n",
              "      <th>sur_refl_b02_1</th>\n",
              "      <th>sur_refl_b03_1</th>\n",
              "      <th>sur_refl_b04_1</th>\n",
              "      <th>sur_refl_b05_1</th>\n",
              "      <th>sur_refl_b06_1</th>\n",
              "      <th>sur_refl_b07_1</th>\n",
              "      <th>ndvi</th>\n",
              "      <th>ndwi1</th>\n",
              "      <th>ndwi2</th>\n",
              "    </tr>\n",
              "  </thead>\n",
              "  <tbody>\n",
              "    <tr>\n",
              "      <th>0</th>\n",
              "      <td>1547.0</td>\n",
              "      <td>2461.0</td>\n",
              "      <td>857.0</td>\n",
              "      <td>1256.0</td>\n",
              "      <td>2684.0</td>\n",
              "      <td>2730.0</td>\n",
              "      <td>2222.0</td>\n",
              "      <td>2280.0</td>\n",
              "      <td>-518.0</td>\n",
              "      <td>510.0</td>\n",
              "    </tr>\n",
              "    <tr>\n",
              "      <th>1</th>\n",
              "      <td>1474.0</td>\n",
              "      <td>2377.0</td>\n",
              "      <td>857.0</td>\n",
              "      <td>1256.0</td>\n",
              "      <td>2684.0</td>\n",
              "      <td>2730.0</td>\n",
              "      <td>2222.0</td>\n",
              "      <td>2344.0</td>\n",
              "      <td>-691.0</td>\n",
              "      <td>337.0</td>\n",
              "    </tr>\n",
              "    <tr>\n",
              "      <th>2</th>\n",
              "      <td>1474.0</td>\n",
              "      <td>2377.0</td>\n",
              "      <td>846.0</td>\n",
              "      <td>1230.0</td>\n",
              "      <td>2630.0</td>\n",
              "      <td>2613.0</td>\n",
              "      <td>2098.0</td>\n",
              "      <td>2344.0</td>\n",
              "      <td>-472.0</td>\n",
              "      <td>623.0</td>\n",
              "    </tr>\n",
              "    <tr>\n",
              "      <th>3</th>\n",
              "      <td>1494.0</td>\n",
              "      <td>2461.0</td>\n",
              "      <td>846.0</td>\n",
              "      <td>1230.0</td>\n",
              "      <td>2630.0</td>\n",
              "      <td>2613.0</td>\n",
              "      <td>2098.0</td>\n",
              "      <td>2445.0</td>\n",
              "      <td>-299.0</td>\n",
              "      <td>796.0</td>\n",
              "    </tr>\n",
              "    <tr>\n",
              "      <th>4</th>\n",
              "      <td>1494.0</td>\n",
              "      <td>2461.0</td>\n",
              "      <td>846.0</td>\n",
              "      <td>1230.0</td>\n",
              "      <td>2630.0</td>\n",
              "      <td>2613.0</td>\n",
              "      <td>2098.0</td>\n",
              "      <td>2445.0</td>\n",
              "      <td>-299.0</td>\n",
              "      <td>796.0</td>\n",
              "    </tr>\n",
              "    <tr>\n",
              "      <th>...</th>\n",
              "      <td>...</td>\n",
              "      <td>...</td>\n",
              "      <td>...</td>\n",
              "      <td>...</td>\n",
              "      <td>...</td>\n",
              "      <td>...</td>\n",
              "      <td>...</td>\n",
              "      <td>...</td>\n",
              "      <td>...</td>\n",
              "      <td>...</td>\n",
              "    </tr>\n",
              "    <tr>\n",
              "      <th>1689995</th>\n",
              "      <td>2211.0</td>\n",
              "      <td>2826.0</td>\n",
              "      <td>1080.0</td>\n",
              "      <td>1796.0</td>\n",
              "      <td>3650.0</td>\n",
              "      <td>4266.0</td>\n",
              "      <td>3862.0</td>\n",
              "      <td>1220.0</td>\n",
              "      <td>-2030.0</td>\n",
              "      <td>-1549.0</td>\n",
              "    </tr>\n",
              "    <tr>\n",
              "      <th>1689996</th>\n",
              "      <td>2209.0</td>\n",
              "      <td>2801.0</td>\n",
              "      <td>1028.0</td>\n",
              "      <td>1791.0</td>\n",
              "      <td>3633.0</td>\n",
              "      <td>4223.0</td>\n",
              "      <td>3863.0</td>\n",
              "      <td>1181.0</td>\n",
              "      <td>-2024.0</td>\n",
              "      <td>-1593.0</td>\n",
              "    </tr>\n",
              "    <tr>\n",
              "      <th>1689997</th>\n",
              "      <td>2358.0</td>\n",
              "      <td>2979.0</td>\n",
              "      <td>1028.0</td>\n",
              "      <td>1791.0</td>\n",
              "      <td>3633.0</td>\n",
              "      <td>4223.0</td>\n",
              "      <td>3863.0</td>\n",
              "      <td>1163.0</td>\n",
              "      <td>-1727.0</td>\n",
              "      <td>-1292.0</td>\n",
              "    </tr>\n",
              "    <tr>\n",
              "      <th>1689998</th>\n",
              "      <td>2425.0</td>\n",
              "      <td>3069.0</td>\n",
              "      <td>1117.0</td>\n",
              "      <td>1876.0</td>\n",
              "      <td>3747.0</td>\n",
              "      <td>4345.0</td>\n",
              "      <td>3919.0</td>\n",
              "      <td>1172.0</td>\n",
              "      <td>-1721.0</td>\n",
              "      <td>-1216.0</td>\n",
              "    </tr>\n",
              "    <tr>\n",
              "      <th>1689999</th>\n",
              "      <td>2402.0</td>\n",
              "      <td>3038.0</td>\n",
              "      <td>1117.0</td>\n",
              "      <td>1876.0</td>\n",
              "      <td>3747.0</td>\n",
              "      <td>4345.0</td>\n",
              "      <td>3919.0</td>\n",
              "      <td>1169.0</td>\n",
              "      <td>-1770.0</td>\n",
              "      <td>-1266.0</td>\n",
              "    </tr>\n",
              "  </tbody>\n",
              "</table>\n",
              "<p>1690000 rows × 10 columns</p>\n",
              "</div>\n",
              "      <button class=\"colab-df-convert\" onclick=\"convertToInteractive('df-31576cd5-51f2-493f-a7b3-df1e97f086bc')\"\n",
              "              title=\"Convert this dataframe to an interactive table.\"\n",
              "              style=\"display:none;\">\n",
              "        \n",
              "  <svg xmlns=\"http://www.w3.org/2000/svg\" height=\"24px\"viewBox=\"0 0 24 24\"\n",
              "       width=\"24px\">\n",
              "    <path d=\"M0 0h24v24H0V0z\" fill=\"none\"/>\n",
              "    <path d=\"M18.56 5.44l.94 2.06.94-2.06 2.06-.94-2.06-.94-.94-2.06-.94 2.06-2.06.94zm-11 1L8.5 8.5l.94-2.06 2.06-.94-2.06-.94L8.5 2.5l-.94 2.06-2.06.94zm10 10l.94 2.06.94-2.06 2.06-.94-2.06-.94-.94-2.06-.94 2.06-2.06.94z\"/><path d=\"M17.41 7.96l-1.37-1.37c-.4-.4-.92-.59-1.43-.59-.52 0-1.04.2-1.43.59L10.3 9.45l-7.72 7.72c-.78.78-.78 2.05 0 2.83L4 21.41c.39.39.9.59 1.41.59.51 0 1.02-.2 1.41-.59l7.78-7.78 2.81-2.81c.8-.78.8-2.07 0-2.86zM5.41 20L4 18.59l7.72-7.72 1.47 1.35L5.41 20z\"/>\n",
              "  </svg>\n",
              "      </button>\n",
              "      \n",
              "  <style>\n",
              "    .colab-df-container {\n",
              "      display:flex;\n",
              "      flex-wrap:wrap;\n",
              "      gap: 12px;\n",
              "    }\n",
              "\n",
              "    .colab-df-convert {\n",
              "      background-color: #E8F0FE;\n",
              "      border: none;\n",
              "      border-radius: 50%;\n",
              "      cursor: pointer;\n",
              "      display: none;\n",
              "      fill: #1967D2;\n",
              "      height: 32px;\n",
              "      padding: 0 0 0 0;\n",
              "      width: 32px;\n",
              "    }\n",
              "\n",
              "    .colab-df-convert:hover {\n",
              "      background-color: #E2EBFA;\n",
              "      box-shadow: 0px 1px 2px rgba(60, 64, 67, 0.3), 0px 1px 3px 1px rgba(60, 64, 67, 0.15);\n",
              "      fill: #174EA6;\n",
              "    }\n",
              "\n",
              "    [theme=dark] .colab-df-convert {\n",
              "      background-color: #3B4455;\n",
              "      fill: #D2E3FC;\n",
              "    }\n",
              "\n",
              "    [theme=dark] .colab-df-convert:hover {\n",
              "      background-color: #434B5C;\n",
              "      box-shadow: 0px 1px 3px 1px rgba(0, 0, 0, 0.15);\n",
              "      filter: drop-shadow(0px 1px 2px rgba(0, 0, 0, 0.3));\n",
              "      fill: #FFFFFF;\n",
              "    }\n",
              "  </style>\n",
              "\n",
              "      <script>\n",
              "        const buttonEl =\n",
              "          document.querySelector('#df-31576cd5-51f2-493f-a7b3-df1e97f086bc button.colab-df-convert');\n",
              "        buttonEl.style.display =\n",
              "          google.colab.kernel.accessAllowed ? 'block' : 'none';\n",
              "\n",
              "        async function convertToInteractive(key) {\n",
              "          const element = document.querySelector('#df-31576cd5-51f2-493f-a7b3-df1e97f086bc');\n",
              "          const dataTable =\n",
              "            await google.colab.kernel.invokeFunction('convertToInteractive',\n",
              "                                                     [key], {});\n",
              "          if (!dataTable) return;\n",
              "\n",
              "          const docLinkHtml = 'Like what you see? Visit the ' +\n",
              "            '<a target=\"_blank\" href=https://colab.research.google.com/notebooks/data_table.ipynb>data table notebook</a>'\n",
              "            + ' to learn more about interactive tables.';\n",
              "          element.innerHTML = '';\n",
              "          dataTable['output_type'] = 'display_data';\n",
              "          await google.colab.output.renderOutput(dataTable, element);\n",
              "          const docLink = document.createElement('div');\n",
              "          docLink.innerHTML = docLinkHtml;\n",
              "          element.appendChild(docLink);\n",
              "        }\n",
              "      </script>\n",
              "    </div>\n",
              "  </div>\n",
              "  "
            ]
          },
          "metadata": {},
          "execution_count": 91
        }
      ]
    },
    {
      "cell_type": "code",
      "source": [
        "def predictRaster(dataframe, colsToDrop=None):\n",
        "    \"\"\"\n",
        "    Function given a raster in the form of a \n",
        "    GPU/CPU-bound data frame then perform \n",
        "    predictions given the loaded model.\n",
        "    \n",
        "    Return the prediction matrix, the prediction probabilities\n",
        "    for each and the dataframe converted to host.\n",
        "    \"\"\"\n",
        "    df = dataframe.drop(columns=colsToDrop) if colsToDrop else dataframe\n",
        "    print('Making predictions from raster')\n",
        "    predictions = classifier.predict(df).astype(np.int16)\n",
        "    predictionsProbs = classifier.predict_proba(df).astype(np.float32)\n",
        "    return predictions, predictionsProbs"
      ],
      "metadata": {
        "id": "eslsDUyVmpFz"
      },
      "id": "eslsDUyVmpFz",
      "execution_count": 92,
      "outputs": []
    },
    {
      "cell_type": "markdown",
      "source": [
        "Once we have our features in the correct format, we can proceed to perform the inference using the model we previously saved."
      ],
      "metadata": {
        "id": "j-af4yopOmPH"
      },
      "id": "j-af4yopOmPH"
    },
    {
      "cell_type": "code",
      "source": [
        "%%time\n",
        "predictedRaster, predictedProbaRaster = predictRaster(raster_dataframe)"
      ],
      "metadata": {
        "id": "Urcqxwaamt29",
        "colab": {
          "base_uri": "https://localhost:8080/"
        },
        "outputId": "a77bf81e-1ca6-4706-d8ff-2f93754d4c15"
      },
      "id": "Urcqxwaamt29",
      "execution_count": 93,
      "outputs": [
        {
          "output_type": "stream",
          "name": "stdout",
          "text": [
            "Making predictions from raster\n",
            "CPU times: user 17.9 s, sys: 255 ms, total: 18.1 s\n",
            "Wall time: 13.9 s\n"
          ]
        }
      ]
    },
    {
      "cell_type": "markdown",
      "source": [
        "## 8.3 Reshape the unravelled matrix back to the 4800x4800 raster shape\n",
        "\n",
        "Here we reshape the raster back into its original shape for further visualization."
      ],
      "metadata": {
        "id": "rHa6lM7AO_Vd"
      },
      "id": "rHa6lM7AO_Vd"
    },
    {
      "cell_type": "code",
      "source": [
        "raster_shape = (1300, 1300)\n",
        "predictedRasterNdArray = np.asarray(predictedRaster)\n",
        "predictedRasterMatrix = predictedRasterNdArray.reshape(raster_shape)\n",
        "predictedRasterMatrix.shape"
      ],
      "metadata": {
        "colab": {
          "base_uri": "https://localhost:8080/"
        },
        "id": "_PkU898nL4Qp",
        "outputId": "4054be29-a469-4307-b350-ee601bbc99c9"
      },
      "id": "_PkU898nL4Qp",
      "execution_count": 94,
      "outputs": [
        {
          "output_type": "execute_result",
          "data": {
            "text/plain": [
              "(1300, 1300)"
            ]
          },
          "metadata": {},
          "execution_count": 94
        }
      ]
    },
    {
      "cell_type": "markdown",
      "source": [
        "## 9. Postprocessing\n",
        "Oftentimes we need to postprocess our output before reaching its final version. There are many postprocessing techniques out there and these will be dependent on your dataset.\n",
        "\n",
        "### 9.1 Import the QA Mask and the Water Mask for the h09v05 TILE\n",
        "For this particular problem, we will simply apply MODIS QA maks to our output raster as a postprocessing step."
      ],
      "metadata": {
        "id": "2XLCOFrrPFsd"
      },
      "id": "2XLCOFrrPFsd"
    },
    {
      "cell_type": "code",
      "source": [
        "qa = [file for file in glob.glob(os.path.join(powell_dataset, 'IL.*.Powell.*.tif')) if 'qa' in file][0]\n",
        "ds = gdal.Open(qa)\n",
        "qaMask = ds.GetRasterBand(1).ReadAsArray()\n",
        "qaMask"
      ],
      "metadata": {
        "id": "EiUEE7gdmwwp",
        "colab": {
          "base_uri": "https://localhost:8080/"
        },
        "outputId": "90e74473-5be4-4f84-cc5e-1fbdf72f1e3a"
      },
      "id": "EiUEE7gdmwwp",
      "execution_count": 95,
      "outputs": [
        {
          "output_type": "execute_result",
          "data": {
            "text/plain": [
              "array([[1, 1, 1, ..., 1, 1, 1],\n",
              "       [1, 1, 1, ..., 1, 1, 1],\n",
              "       [1, 1, 1, ..., 1, 1, 1],\n",
              "       ...,\n",
              "       [0, 0, 0, ..., 0, 0, 0],\n",
              "       [0, 0, 0, ..., 0, 0, 0],\n",
              "       [0, 0, 0, ..., 0, 0, 0]], dtype=int16)"
            ]
          },
          "metadata": {},
          "execution_count": 95
        }
      ]
    },
    {
      "cell_type": "markdown",
      "source": [
        "### 9.2 Mask out results if QA Mask says pixel is \"bad\"\n",
        "Mask out water mask if QA Mask says pixel is \"bad\"."
      ],
      "metadata": {
        "id": "jSM3Wct2PLf6"
      },
      "id": "jSM3Wct2PLf6"
    },
    {
      "cell_type": "code",
      "source": [
        "raster_qad = np.where(qaMask == 0, predictedRasterMatrix, 255)"
      ],
      "metadata": {
        "id": "MbWp_iYGMB1t"
      },
      "id": "MbWp_iYGMB1t",
      "execution_count": 96,
      "outputs": []
    },
    {
      "cell_type": "markdown",
      "source": [
        "We we can plot a view of our water mask prediction."
      ],
      "metadata": {
        "id": "PHgVmcFRPPb7"
      },
      "id": "PHgVmcFRPPb7"
    },
    {
      "cell_type": "code",
      "source": [
        "plt.matshow(raster_qad)\n",
        "plt.colorbar()"
      ],
      "metadata": {
        "colab": {
          "base_uri": "https://localhost:8080/",
          "height": 435
        },
        "id": "yLOZTji5MEJQ",
        "outputId": "0a034261-32a0-4ad5-f24a-d5accf41a3b7"
      },
      "id": "yLOZTji5MEJQ",
      "execution_count": 97,
      "outputs": [
        {
          "output_type": "execute_result",
          "data": {
            "text/plain": [
              "<matplotlib.colorbar.Colorbar at 0x7f24f1379e50>"
            ]
          },
          "metadata": {},
          "execution_count": 97
        },
        {
          "output_type": "display_data",
          "data": {
            "text/plain": [
              "<Figure size 480x480 with 2 Axes>"
            ],
            "image/png": "[encoded data removed]"
          },
          "metadata": {}
        }
      ]
    },
    {
      "cell_type": "markdown",
      "source": [
        "### 9.3 Output predicted raster to GeoTiff\n",
        "We can then output our raster array into a GeoTiff file for further analysis. We can produce Cloud Optimized GeoTIFF (COG) files in this step by simply change the 'GTiff' driver to 'COG'."
      ],
      "metadata": {
        "id": "34qWMqg4PSOz"
      },
      "id": "34qWMqg4PSOz"
    },
    {
      "cell_type": "code",
      "source": [
        "geoTransform = (-9961223.407, 231.65635, 0.0, 4285642.633667, 0.0, -231.65635)\n",
        "\n",
        "predictedPath = 'PowellPredictedWaterMask.tif'\n",
        "\n",
        "driver = gdal.GetDriverByName('GTiff')\n",
        "outDs = driver.Create(predictedPath, 1300, 1300, 1, gdal.GDT_Int16, options=['COMPRESS=LZW'])\n",
        "outDs.SetGeoTransform(geoTransform)\n",
        "outDs.SetProjection(rasterProjection)\n",
        "outBand = outDs.GetRasterBand(1)\n",
        "outBand.WriteArray(raster_qad)\n",
        "outBand.SetNoDataValue(255)\n",
        "outDs.FlushCache()\n",
        "outDs = None\n",
        "outBand = None\n",
        "driver = None"
      ],
      "metadata": {
        "id": "4yf6eEAsMF4w"
      },
      "id": "4yf6eEAsMF4w",
      "execution_count": 98,
      "outputs": []
    },
    {
      "cell_type": "markdown",
      "source": [
        "## 10. Visualize your output\n",
        "We can then proceed to visualize the output of our model in an interactive map. But first, we need to fix the projection in order to properly display the map using the interactive visualization package called folium."
      ],
      "metadata": {
        "id": "i-S-aMbvPafr"
      },
      "id": "i-S-aMbvPafr"
    },
    {
      "cell_type": "code",
      "source": [
        "mask_3857 = folium_helper.reproject_to_3857(predictedPath)\n",
        "mask_d = folium_helper.get_bounds(mask_3857)\n",
        "mask_b1 = folium_helper.open_and_get_band(mask_3857, 1)\n",
        "folium_helper.cleanup(mask_3857)\n",
        "mask_b1 = np.where(mask_b1 == 255, 0, mask_b1)\n",
        "zeros = np.zeros_like(mask_b1)\n",
        "mask_rgb = np.dstack((mask_b1, zeros, zeros))"
      ],
      "metadata": {
        "colab": {
          "base_uri": "https://localhost:8080/"
        },
        "id": "789PicHvMIP0",
        "outputId": "f7ba7574-ee10-4c34-fa48-47e1473558b2"
      },
      "id": "789PicHvMIP0",
      "execution_count": 99,
      "outputs": [
        {
          "output_type": "stream",
          "name": "stdout",
          "text": [
            "Transform: | 491.82, 0.00,-12749861.52|\n",
            "| 0.00,-491.82, 4656230.30|\n",
            "| 0.00, 0.00, 1.00|\n",
            "Width: 1670 Height: 770\n"
          ]
        }
      ]
    },
    {
      "cell_type": "markdown",
      "source": [
        "From there we can define a basemap and the region of interest for our map to initially start."
      ],
      "metadata": {
        "id": "raq2sGb6PeBg"
      },
      "id": "raq2sGb6PeBg"
    },
    {
      "cell_type": "code",
      "source": [
        "m = folium.Map(location=[mask_d['center'][1], mask_d['center'][0]],\n",
        "                   tiles='https://mt1.google.com/vt/lyrs=s&x={x}&y={y}&z={z}', zoom_start = 6, attr='Google')"
      ],
      "metadata": {
        "id": "HJqfzyCjMKM0"
      },
      "id": "HJqfzyCjMKM0",
      "execution_count": 100,
      "outputs": []
    },
    {
      "cell_type": "code",
      "source": [
        "m.add_child(folium_helper.get_overlay(mask_rgb, mask_d, 'Water classification RF predicted mask', opacity=0.6))\n",
        "m.add_child(plugins.MousePosition())\n",
        "m.add_child(folium.LayerControl())"
      ],
      "metadata": {
        "colab": {
          "base_uri": "https://localhost:8080/",
          "height": 934
        },
        "id": "2ZHej0-AMMku",
        "outputId": "455abd12-4b45-434d-e6bf-3521af9af4e7"
      },
      "id": "2ZHej0-AMMku",
      "execution_count": 101,
      "outputs": [
        {
          "output_type": "execute_result",
          "data": {
            "text/plain": [
              "<folium.folium.Map at 0x7f24f1683400>"
            ],
            "text/html": [
              "<div style=\"width:100%;\"><div style=\"position:relative;width:100%;height:0;padding-bottom:60%;\"><span style=\"color:#565656\">Make this Notebook Trusted to load map: File -> Trust Notebook</span><iframe srcdoc=\"&lt;!DOCTYPE html&gt;\n",
              "&lt;html&gt;\n",
              "&lt;head&gt;\n",
              "    \n",
              "    &lt;meta http-equiv=&quot;content-type&quot; content=&quot;text/html; charset=UTF-8&quot; /&gt;\n",
              "    \n",
              "        &lt;script&gt;\n",
              "            L_NO_TOUCH = false;\n",
              "            L_DISABLE_3D = false;\n",
              "        &lt;/script&gt;\n",
              "    \n",
              "    &lt;style&gt;html, body {width: 100%;height: 100%;margin: 0;padding: 0;}&lt;/style&gt;\n",
              "    &lt;style&gt;#map {position:absolute;top:0;bottom:0;right:0;left:0;}&lt;/style&gt;\n",
              "    &lt;script src=&quot;https://cdn.jsdelivr.net/npm/leaflet@1.9.3/dist/leaflet.js&quot;&gt;&lt;/script&gt;\n",
              "    &lt;script src=&quot;https://code.jquery.com/jquery-1.12.4.min.js&quot;&gt;&lt;/script&gt;\n",
              "    &lt;script src=&quot;https://cdn.jsdelivr.net/npm/bootstrap@5.2.2/dist/js/bootstrap.bundle.min.js&quot;&gt;&lt;/script&gt;\n",
              "    &lt;script src=&quot;https://cdnjs.cloudflare.com/ajax/libs/Leaflet.awesome-markers/2.0.2/leaflet.awesome-markers.js&quot;&gt;&lt;/script&gt;\n",
              "    &lt;link rel=&quot;stylesheet&quot; href=&quot;https://cdn.jsdelivr.net/npm/leaflet@1.9.3/dist/leaflet.css&quot;/&gt;\n",
              "    &lt;link rel=&quot;stylesheet&quot; href=&quot;https://cdn.jsdelivr.net/npm/bootstrap@5.2.2/dist/css/bootstrap.min.css&quot;/&gt;\n",
              "    &lt;link rel=&quot;stylesheet&quot; href=&quot;https://netdna.bootstrapcdn.com/bootstrap/3.0.0/css/bootstrap.min.css&quot;/&gt;\n",
              "    &lt;link rel=&quot;stylesheet&quot; href=&quot;https://cdn.jsdelivr.net/npm/@fortawesome/fontawesome-free@6.2.0/css/all.min.css&quot;/&gt;\n",
              "    &lt;link rel=&quot;stylesheet&quot; href=&quot;https://cdnjs.cloudflare.com/ajax/libs/Leaflet.awesome-markers/2.0.2/leaflet.awesome-markers.css&quot;/&gt;\n",
              "    &lt;link rel=&quot;stylesheet&quot; href=&quot;https://cdn.jsdelivr.net/gh/python-visualization/folium/folium/templates/leaflet.awesome.rotate.min.css&quot;/&gt;\n",
              "    \n",
              "            &lt;meta name=&quot;viewport&quot; content=&quot;width=device-width,\n",
              "                initial-scale=1.0, maximum-scale=1.0, user-scalable=no&quot; /&gt;\n",
              "            &lt;style&gt;\n",
              "                #map_9780f428ec3c275282df899cc175be83 {\n",
              "                    position: relative;\n",
              "                    width: 100.0%;\n",
              "                    height: 100.0%;\n",
              "                    left: 0.0%;\n",
              "                    top: 0.0%;\n",
              "                }\n",
              "                .leaflet-container { font-size: 1rem; }\n",
              "            &lt;/style&gt;\n",
              "        \n",
              "    \n",
              "                &lt;style&gt;\n",
              "                    .leaflet-image-layer {\n",
              "                        /* old android/safari*/\n",
              "                        image-rendering: -webkit-optimize-contrast;\n",
              "                        image-rendering: crisp-edges; /* safari */\n",
              "                        image-rendering: pixelated; /* chrome */\n",
              "                        image-rendering: -moz-crisp-edges; /* firefox */\n",
              "                        image-rendering: -o-crisp-edges; /* opera */\n",
              "                        -ms-interpolation-mode: nearest-neighbor; /* ie */\n",
              "                    }\n",
              "                &lt;/style&gt;\n",
              "            \n",
              "    &lt;script src=&quot;https://cdn.jsdelivr.net/gh/ardhi/Leaflet.MousePosition/src/L.Control.MousePosition.min.js&quot;&gt;&lt;/script&gt;\n",
              "    &lt;link rel=&quot;stylesheet&quot; href=&quot;https://cdn.jsdelivr.net/gh/ardhi/Leaflet.MousePosition/src/L.Control.MousePosition.min.css&quot;/&gt;\n",
              "&lt;/head&gt;\n",
              "&lt;body&gt;\n",
              "    \n",
              "    \n",
              "            &lt;div class=&quot;folium-map&quot; id=&quot;map_9780f428ec3c275282df899cc175be83&quot; &gt;&lt;/div&gt;\n",
              "        \n",
              "&lt;/body&gt;\n",
              "&lt;script&gt;\n",
              "    \n",
              "    \n",
              "            var map_9780f428ec3c275282df899cc175be83 = L.map(\n",
              "                &quot;map_9780f428ec3c275282df899cc175be83&quot;,\n",
              "                {\n",
              "                    center: [37.1868364898923, -110.84485924937243],\n",
              "                    crs: L.CRS.EPSG3857,\n",
              "                    zoom: 6,\n",
              "                    zoomControl: true,\n",
              "                    preferCanvas: false,\n",
              "                }\n",
              "            );\n",
              "\n",
              "            \n",
              "\n",
              "        \n",
              "    \n",
              "            var tile_layer_dd2c338172af14896aec5327e1fdf888 = L.tileLayer(\n",
              "                &quot;https://mt1.google.com/vt/lyrs=s\\u0026x={x}\\u0026y={y}\\u0026z={z}&quot;,\n",
              "                {&quot;attribution&quot;: &quot;Google&quot;, &quot;detectRetina&quot;: false, &quot;maxNativeZoom&quot;: 18, &quot;maxZoom&quot;: 18, &quot;minZoom&quot;: 0, &quot;noWrap&quot;: false, &quot;opacity&quot;: 1, &quot;subdomains&quot;: &quot;abc&quot;, &quot;tms&quot;: false}\n",
              "            ).addTo(map_9780f428ec3c275282df899cc175be83);\n",
              "        \n",
              "    \n",
              "            var image_overlay_960e71a5dd237f87261e144502e3b1fc = L.imageOverlay(\n",
              "                &quot;data:image/png;base64,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&quot;,\n",
              "                [[35.832006264552895, -114.53395477030668], [38.5416667152317, -107.15576372843819]],\n",
              "                {&quot;opacity&quot;: 0.6}\n",
              "            ).addTo(map_9780f428ec3c275282df899cc175be83);\n",
              "        \n",
              "    \n",
              "            var mouse_position_7f0c9e98c198f9b59bd7539f0396ae9e = new L.Control.MousePosition(\n",
              "                {&quot;emptyString&quot;: &quot;Unavailable&quot;, &quot;lngFirst&quot;: false, &quot;numDigits&quot;: 5, &quot;position&quot;: &quot;bottomright&quot;, &quot;prefix&quot;: &quot;&quot;, &quot;separator&quot;: &quot; : &quot;}\n",
              "            );\n",
              "            mouse_position_7f0c9e98c198f9b59bd7539f0396ae9e.options[&quot;latFormatter&quot;] =\n",
              "                undefined;\n",
              "            mouse_position_7f0c9e98c198f9b59bd7539f0396ae9e.options[&quot;lngFormatter&quot;] =\n",
              "                undefined;\n",
              "            map_9780f428ec3c275282df899cc175be83.addControl(mouse_position_7f0c9e98c198f9b59bd7539f0396ae9e);\n",
              "        \n",
              "    \n",
              "            var layer_control_dcc82e15427191c12e914b1d035f8f04 = {\n",
              "                base_layers : {\n",
              "                    &quot;https://mt1.google.com/vt/lyrs=s\\u0026x={x}\\u0026y={y}\\u0026z={z}&quot; : tile_layer_dd2c338172af14896aec5327e1fdf888,\n",
              "                },\n",
              "                overlays :  {\n",
              "                    &quot;Water classification RF predicted mask&quot; : image_overlay_960e71a5dd237f87261e144502e3b1fc,\n",
              "                },\n",
              "            };\n",
              "            L.control.layers(\n",
              "                layer_control_dcc82e15427191c12e914b1d035f8f04.base_layers,\n",
              "                layer_control_dcc82e15427191c12e914b1d035f8f04.overlays,\n",
              "                {&quot;autoZIndex&quot;: true, &quot;collapsed&quot;: true, &quot;position&quot;: &quot;topright&quot;}\n",
              "            ).addTo(map_9780f428ec3c275282df899cc175be83);\n",
              "        \n",
              "&lt;/script&gt;\n",
              "&lt;/html&gt;\" style=\"position:absolute;width:100%;height:100%;left:0;top:0;border:none !important;\" allowfullscreen webkitallowfullscreen mozallowfullscreen></iframe></div></div>"
            ]
          },
          "metadata": {},
          "execution_count": 101
        }
      ]
    },
    {
      "cell_type": "markdown",
      "source": [
        "## Closing Thoughts\n",
        "\n",
        "We have:\n",
        "\n",
        "- Downloaded a MODIS based dataset for training and testing\n",
        "- Performed gridded automatic parameter optimization techniques for model tuning\n",
        "- Trained and performed inference of a Random Forest model\n",
        "- Created interactive visualizations by prediction both tabular and raster datasets\n",
        "- Provided a base for model explainability which will be discussed in our next session"
      ],
      "metadata": {
        "id": "bpKolbIRQKkU"
      },
      "id": "bpKolbIRQKkU"
    }
  ],
  "metadata": {
    "kernelspec": {
      "display_name": "Python 3 (ipykernel)",
      "language": "python",
      "name": "python3"
    },
    "language_info": {
      "codemirror_mode": {
        "name": "ipython",
        "version": 3
      },
      "file_extension": ".py",
      "mimetype": "text/x-python",
      "name": "python",
      "nbconvert_exporter": "python",
      "pygments_lexer": "ipython3",
      "version": "3.10.9"
    },
    "colab": {
      "provenance": []
    },
    "widgets": {
      "application/vnd.jupyter.widget-state+json": {
        "e17e8a58c7dd47aeb6969f169a7f6cfa": {
          "model_module": "@jupyter-widgets/controls",
          "model_name": "HBoxModel",
          "model_module_version": "1.5.0",
          "state": {
            "_dom_classes": [],
            "_model_module": "@jupyter-widgets/controls",
            "_model_module_version": "1.5.0",
            "_model_name": "HBoxModel",
            "_view_count": null,
            "_view_module": "@jupyter-widgets/controls",
            "_view_module_version": "1.5.0",
            "_view_name": "HBoxView",
            "box_style": "",
            "children": [
              "IPY_MODEL_60c7899b0ebe48ea9f092714bab6f6c1",
              "IPY_MODEL_cb9df87b15c440be96c2e70e3c74a86f",
              "IPY_MODEL_5cb6db4840c64d95875dc520b867aa3e"
            ],
            "layout": "IPY_MODEL_593e517f74984f91857323aa60b3eeb2"
          }
        },
        "60c7899b0ebe48ea9f092714bab6f6c1": {
          "model_module": "@jupyter-widgets/controls",
          "model_name": "HTMLModel",
          "model_module_version": "1.5.0",
          "state": {
            "_dom_classes": [],
            "_model_module": "@jupyter-widgets/controls",
            "_model_module_version": "1.5.0",
            "_model_name": "HTMLModel",
            "_view_count": null,
            "_view_module": "@jupyter-widgets/controls",
            "_view_module_version": "1.5.0",
            "_view_name": "HTMLView",
            "description": "",
            "description_tooltip": null,
            "layout": "IPY_MODEL_137c678d8d364f4e9f3c415923200aee",
            "placeholder": "​",
            "style": "IPY_MODEL_6ad51eb2e8bb46feaaf29cba8e806d06",
            "value": "Fetching 8 files: 100%"
          }
        },
        "cb9df87b15c440be96c2e70e3c74a86f": {
          "model_module": "@jupyter-widgets/controls",
          "model_name": "FloatProgressModel",
          "model_module_version": "1.5.0",
          "state": {
            "_dom_classes": [],
            "_model_module": "@jupyter-widgets/controls",
            "_model_module_version": "1.5.0",
            "_model_name": "FloatProgressModel",
            "_view_count": null,
            "_view_module": "@jupyter-widgets/controls",
            "_view_module_version": "1.5.0",
            "_view_name": "ProgressView",
            "bar_style": "success",
            "description": "",
            "description_tooltip": null,
            "layout": "IPY_MODEL_08a6c99731274c28a076a7797028d48b",
            "max": 8,
            "min": 0,
            "orientation": "horizontal",
            "style": "IPY_MODEL_29d3bd5058b84d37b4831f7d055116aa",
            "value": 8
          }
        },
        "5cb6db4840c64d95875dc520b867aa3e": {
          "model_module": "@jupyter-widgets/controls",
          "model_name": "HTMLModel",
          "model_module_version": "1.5.0",
          "state": {
            "_dom_classes": [],
            "_model_module": "@jupyter-widgets/controls",
            "_model_module_version": "1.5.0",
            "_model_name": "HTMLModel",
            "_view_count": null,
            "_view_module": "@jupyter-widgets/controls",
            "_view_module_version": "1.5.0",
            "_view_name": "HTMLView",
            "description": "",
            "description_tooltip": null,
            "layout": "IPY_MODEL_a4894092ae6d4085a00bc405b56ee68e",
            "placeholder": "​",
            "style": "IPY_MODEL_545a40b863ef4ea986eec7867b14e63e",
            "value": " 8/8 [00:00&lt;00:00, 267.01it/s]"
          }
        },
        "593e517f74984f91857323aa60b3eeb2": {
          "model_module": "@jupyter-widgets/base",
          "model_name": "LayoutModel",
          "model_module_version": "1.2.0",
          "state": {
            "_model_module": "@jupyter-widgets/base",
            "_model_module_version": "1.2.0",
            "_model_name": "LayoutModel",
            "_view_count": null,
            "_view_module": "@jupyter-widgets/base",
            "_view_module_version": "1.2.0",
            "_view_name": "LayoutView",
            "align_content": null,
            "align_items": null,
            "align_self": null,
            "border": null,
            "bottom": null,
            "display": null,
            "flex": null,
            "flex_flow": null,
            "grid_area": null,
            "grid_auto_columns": null,
            "grid_auto_flow": null,
            "grid_auto_rows": null,
            "grid_column": null,
            "grid_gap": null,
            "grid_row": null,
            "grid_template_areas": null,
            "grid_template_columns": null,
            "grid_template_rows": null,
            "height": null,
            "justify_content": null,
            "justify_items": null,
            "left": null,
            "margin": null,
            "max_height": null,
            "max_width": null,
            "min_height": null,
            "min_width": null,
            "object_fit": null,
            "object_position": null,
            "order": null,
            "overflow": null,
            "overflow_x": null,
            "overflow_y": null,
            "padding": null,
            "right": null,
            "top": null,
            "visibility": null,
            "width": null
          }
        },
        "137c678d8d364f4e9f3c415923200aee": {
          "model_module": "@jupyter-widgets/base",
          "model_name": "LayoutModel",
          "model_module_version": "1.2.0",
          "state": {
            "_model_module": "@jupyter-widgets/base",
            "_model_module_version": "1.2.0",
            "_model_name": "LayoutModel",
            "_view_count": null,
            "_view_module": "@jupyter-widgets/base",
            "_view_module_version": "1.2.0",
            "_view_name": "LayoutView",
            "align_content": null,
            "align_items": null,
            "align_self": null,
            "border": null,
            "bottom": null,
            "display": null,
            "flex": null,
            "flex_flow": null,
            "grid_area": null,
            "grid_auto_columns": null,
            "grid_auto_flow": null,
            "grid_auto_rows": null,
            "grid_column": null,
            "grid_gap": null,
            "grid_row": null,
            "grid_template_areas": null,
            "grid_template_columns": null,
            "grid_template_rows": null,
            "height": null,
            "justify_content": null,
            "justify_items": null,
            "left": null,
            "margin": null,
            "max_height": null,
            "max_width": null,
            "min_height": null,
            "min_width": null,
            "object_fit": null,
            "object_position": null,
            "order": null,
            "overflow": null,
            "overflow_x": null,
            "overflow_y": null,
            "padding": null,
            "right": null,
            "top": null,
            "visibility": null,
            "width": null
          }
        },
        "6ad51eb2e8bb46feaaf29cba8e806d06": {
          "model_module": "@jupyter-widgets/controls",
          "model_name": "DescriptionStyleModel",
          "model_module_version": "1.5.0",
          "state": {
            "_model_module": "@jupyter-widgets/controls",
            "_model_module_version": "1.5.0",
            "_model_name": "DescriptionStyleModel",
            "_view_count": null,
            "_view_module": "@jupyter-widgets/base",
            "_view_module_version": "1.2.0",
            "_view_name": "StyleView",
            "description_width": ""
          }
        },
        "08a6c99731274c28a076a7797028d48b": {
          "model_module": "@jupyter-widgets/base",
          "model_name": "LayoutModel",
          "model_module_version": "1.2.0",
          "state": {
            "_model_module": "@jupyter-widgets/base",
            "_model_module_version": "1.2.0",
            "_model_name": "LayoutModel",
            "_view_count": null,
            "_view_module": "@jupyter-widgets/base",
            "_view_module_version": "1.2.0",
            "_view_name": "LayoutView",
            "align_content": null,
            "align_items": null,
            "align_self": null,
            "border": null,
            "bottom": null,
            "display": null,
            "flex": null,
            "flex_flow": null,
            "grid_area": null,
            "grid_auto_columns": null,
            "grid_auto_flow": null,
            "grid_auto_rows": null,
            "grid_column": null,
            "grid_gap": null,
            "grid_row": null,
            "grid_template_areas": null,
            "grid_template_columns": null,
            "grid_template_rows": null,
            "height": null,
            "justify_content": null,
            "justify_items": null,
            "left": null,
            "margin": null,
            "max_height": null,
            "max_width": null,
            "min_height": null,
            "min_width": null,
            "object_fit": null,
            "object_position": null,
            "order": null,
            "overflow": null,
            "overflow_x": null,
            "overflow_y": null,
            "padding": null,
            "right": null,
            "top": null,
            "visibility": null,
            "width": null
          }
        },
        "29d3bd5058b84d37b4831f7d055116aa": {
          "model_module": "@jupyter-widgets/controls",
          "model_name": "ProgressStyleModel",
          "model_module_version": "1.5.0",
          "state": {
            "_model_module": "@jupyter-widgets/controls",
            "_model_module_version": "1.5.0",
            "_model_name": "ProgressStyleModel",
            "_view_count": null,
            "_view_module": "@jupyter-widgets/base",
            "_view_module_version": "1.2.0",
            "_view_name": "StyleView",
            "bar_color": null,
            "description_width": ""
          }
        },
        "a4894092ae6d4085a00bc405b56ee68e": {
          "model_module": "@jupyter-widgets/base",
          "model_name": "LayoutModel",
          "model_module_version": "1.2.0",
          "state": {
            "_model_module": "@jupyter-widgets/base",
            "_model_module_version": "1.2.0",
            "_model_name": "LayoutModel",
            "_view_count": null,
            "_view_module": "@jupyter-widgets/base",
            "_view_module_version": "1.2.0",
            "_view_name": "LayoutView",
            "align_content": null,
            "align_items": null,
            "align_self": null,
            "border": null,
            "bottom": null,
            "display": null,
            "flex": null,
            "flex_flow": null,
            "grid_area": null,
            "grid_auto_columns": null,
            "grid_auto_flow": null,
            "grid_auto_rows": null,
            "grid_column": null,
            "grid_gap": null,
            "grid_row": null,
            "grid_template_areas": null,
            "grid_template_columns": null,
            "grid_template_rows": null,
            "height": null,
            "justify_content": null,
            "justify_items": null,
            "left": null,
            "margin": null,
            "max_height": null,
            "max_width": null,
            "min_height": null,
            "min_width": null,
            "object_fit": null,
            "object_position": null,
            "order": null,
            "overflow": null,
            "overflow_x": null,
            "overflow_y": null,
            "padding": null,
            "right": null,
            "top": null,
            "visibility": null,
            "width": null
          }
        },
        "545a40b863ef4ea986eec7867b14e63e": {
          "model_module": "@jupyter-widgets/controls",
          "model_name": "DescriptionStyleModel",
          "model_module_version": "1.5.0",
          "state": {
            "_model_module": "@jupyter-widgets/controls",
            "_model_module_version": "1.5.0",
            "_model_name": "DescriptionStyleModel",
            "_view_count": null,
            "_view_module": "@jupyter-widgets/base",
            "_view_module_version": "1.2.0",
            "_view_name": "StyleView",
            "description_width": ""
          }
        }
      }
    }
  },
  "nbformat": 4,
  "nbformat_minor": 5
}